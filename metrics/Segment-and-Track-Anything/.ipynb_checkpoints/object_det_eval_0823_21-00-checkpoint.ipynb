{
 "cells": [
  {
   "cell_type": "code",
   "execution_count": 1,
   "metadata": {},
   "outputs": [],
   "source": [
    "import os\n",
    "import cv2\n",
    "from SegTracker import SegTracker\n",
    "from model_args import aot_args,sam_args,segtracker_args\n",
    "from PIL import Image\n",
    "from aot_tracker import _palette\n",
    "import numpy as np\n",
    "import torch\n",
    "import imageio\n",
    "import matplotlib.pyplot as plt\n",
    "from scipy.ndimage import binary_dilation\n",
    "import gc\n",
    "\n",
    "\n",
    "\n",
    "def save_prediction(pred_mask,output_dir,file_name):\n",
    "    save_mask = Image.fromarray(pred_mask.astype(np.uint8))\n",
    "    save_mask = save_mask.convert(mode='P')\n",
    "    save_mask.putpalette(_palette)\n",
    "    save_mask.save(os.path.join(output_dir,file_name))\n",
    "def colorize_mask(pred_mask):\n",
    "    save_mask = Image.fromarray(pred_mask.astype(np.uint8))\n",
    "    save_mask = save_mask.convert(mode='P')\n",
    "    save_mask.putpalette(_palette)\n",
    "    save_mask = save_mask.convert(mode='RGB')\n",
    "    return np.array(save_mask)\n",
    "def draw_mask(img, mask, alpha=0.7, id_countour=False):\n",
    "    img_mask = np.zeros_like(img)\n",
    "    img_mask = img\n",
    "    if id_countour:\n",
    "        # very slow ~ 1s per image\n",
    "        obj_ids = np.unique(mask)\n",
    "        obj_ids = obj_ids[obj_ids!=0]\n",
    "\n",
    "        for id in obj_ids:\n",
    "            # Overlay color on  binary mask\n",
    "            if id <= 255:\n",
    "                color = _palette[id*3:id*3+3]\n",
    "            else:\n",
    "                color = [0,0,0]\n",
    "            foreground = img * (1-alpha) + np.ones_like(img) * alpha * np.array(color)\n",
    "            binary_mask = (mask == id)\n",
    "\n",
    "            # Compose image\n",
    "            img_mask[binary_mask] = foreground[binary_mask]\n",
    "\n",
    "            countours = binary_dilation(binary_mask,iterations=1) ^ binary_mask\n",
    "            img_mask[countours, :] = 0\n",
    "    else:\n",
    "        binary_mask = (mask!=0)\n",
    "        countours = binary_dilation(binary_mask,iterations=1) ^ binary_mask\n",
    "        foreground = img*(1-alpha)+colorize_mask(mask)*alpha\n",
    "        img_mask[binary_mask] = foreground[binary_mask]\n",
    "        img_mask[countours,:] = 0\n",
    "        \n",
    "    return img_mask.astype(img.dtype)\n",
    "\n",
    "def create_directories(path):    \n",
    "    dir_path = os.path.dirname(path)\n",
    "    if not os.path.exists(dir_path):\n",
    "        os.makedirs(dir_path)\n",
    "        print(f\"Directory created: {dir_path}\")\n",
    "    else:\n",
    "        print(f\"Directory already exists: {dir_path}\")\n",
    "\n",
    "    return paths\n",
    "\n",
    "def video_detection(io_args, segtracker_args, sam_args, aot_args, grounding_caption, box_threshold, text_threshold, box_size_threshold, reset_image):\n",
    "    # source video to segment\n",
    "    import shutil\n",
    "    shutil.copy(io_args['input_video'], io_args['original_video'])\n",
    "    \n",
    "    cap = cv2.VideoCapture(io_args['input_video'])\n",
    "    fps = cap.get(cv2.CAP_PROP_FPS)\n",
    "    # output masks\n",
    "    output_dir = io_args['output_mask_dir']\n",
    "    if not os.path.exists(output_dir):\n",
    "        os.makedirs(output_dir)\n",
    "    pred_list = []\n",
    "    masked_pred_list = []\n",
    "    det_count_one = []\n",
    "    det_count_frames = []\n",
    "    \n",
    "    torch.cuda.empty_cache()\n",
    "    gc.collect()\n",
    "    sam_gap = segtracker_args['sam_gap']\n",
    "    frame_idx = 0\n",
    "    segtracker = SegTracker(segtracker_args, sam_args, aot_args)\n",
    "    segtracker.restart_tracker()\n",
    "    \n",
    "    with torch.cuda.amp.autocast():\n",
    "        while cap.isOpened():\n",
    "            ret, frame = cap.read()\n",
    "            if not ret:\n",
    "                break\n",
    "            frame = cv2.cvtColor(frame,cv2.COLOR_BGR2RGB)\n",
    "            if frame_idx == 0:\n",
    "                pred_mask, _ = segtracker.detect_and_seg(frame, grounding_caption, box_threshold, text_threshold, box_size_threshold, reset_image)\n",
    "                torch.cuda.empty_cache()\n",
    "                gc.collect()\n",
    "                segtracker.add_reference(frame, pred_mask)\n",
    "            elif (frame_idx % sam_gap) == 0:\n",
    "                seg_mask, _ = segtracker.detect_and_seg(frame, grounding_caption, box_threshold, text_threshold, box_size_threshold, reset_image)\n",
    "                save_prediction(seg_mask, './debug/seg_result', str(frame_idx)+'.png')\n",
    "                torch.cuda.empty_cache()\n",
    "                gc.collect()\n",
    "                track_mask = segtracker.track(frame)\n",
    "                save_prediction(track_mask, './debug/aot_result', str(frame_idx)+'.png')\n",
    "                new_obj_mask = segtracker.find_new_objs(track_mask, seg_mask)\n",
    "                if np.sum(new_obj_mask > 0) >  frame.shape[0] * frame.shape[1] * 0.4:\n",
    "                    new_obj_mask = np.zeros_like(new_obj_mask)\n",
    "                save_prediction(new_obj_mask,output_dir,str(frame_idx)+'_new.png')\n",
    "                pred_mask = track_mask + new_obj_mask\n",
    "                segtracker.add_reference(frame, pred_mask)\n",
    "            else:\n",
    "                pred_mask = segtracker.track(frame,update_memory=True)\n",
    "            torch.cuda.empty_cache()\n",
    "            gc.collect()\n",
    "            \n",
    "            save_prediction(pred_mask,output_dir,str(frame_idx)+'.png')\n",
    "            pred_list.append(pred_mask)\n",
    "\n",
    "            obj_ids = np.unique(pred_mask)\n",
    "            obj_ids = obj_ids[obj_ids!=0]\n",
    "            det_count_frames.append(len(obj_ids))\n",
    "\n",
    "            print(\"processed frame {}, obj_num {}\".format(frame_idx,segtracker.get_obj_num()),end='\\r')\n",
    "               \n",
    "            frame_idx += 1\n",
    "        det_count_one = np.sum(det_count_frames)/frame_idx\n",
    "        \n",
    "        # draw pred mask on frame and save as a video\n",
    "        width = int(cap.get(cv2.CAP_PROP_FRAME_WIDTH))\n",
    "        height = int(cap.get(cv2.CAP_PROP_FRAME_HEIGHT))\n",
    "        num_frames = int(cap.get(cv2.CAP_PROP_FRAME_COUNT))\n",
    "        \n",
    "        if io_args['input_video'][-3:]=='mp4':\n",
    "            fourcc =  cv2.VideoWriter_fourcc(*\"mp4v\")\n",
    "        elif io_args['input_video'][-3:] == 'avi':\n",
    "            fourcc =  cv2.VideoWriter_fourcc(*\"MJPG\")\n",
    "            # fourcc = cv2.VideoWriter_fourcc(*\"XVID\")\n",
    "        else:\n",
    "            fourcc = int(cap.get(cv2.CAP_PROP_FOURCC))\n",
    "        out = cv2.VideoWriter(io_args['output_video'], fourcc, fps, (width, height))\n",
    "        \n",
    "        frame_idx = 0\n",
    "        while cap.isOpened():\n",
    "            ret, frame = cap.read()\n",
    "            if not ret:\n",
    "                break\n",
    "            frame = cv2.cvtColor(frame,cv2.COLOR_BGR2RGB)\n",
    "            pred_mask = pred_list[frame_idx]\n",
    "            masked_frame = draw_mask(frame,pred_mask)\n",
    "            # masked_frame = masked_pred_list[frame_idx]\n",
    "            masked_frame = cv2.cvtColor(masked_frame,cv2.COLOR_RGB2BGR)\n",
    "            out.write(masked_frame)\n",
    "            print('frame {} writed'.format(frame_idx),end='\\r')\n",
    "            frame_idx += 1\n",
    "        out.release()\n",
    "        cap.release()\n",
    "        print(\"\\n{} saved\".format(io_args['output_video']))\n",
    "        # save colorized masks as a gif\n",
    "        duration = 1000 / fps\n",
    "        imageio.mimsave(io_args['output_gif'],pred_list,duration=duration)\n",
    "        print(\"{} saved\".format(io_args['output_gif']))\n",
    "        print('\\nfinished')\n",
    "        \n",
    "    return pred_list, det_count_one\n"
   ]
  },
  {
   "cell_type": "code",
   "execution_count": null,
   "metadata": {},
   "outputs": [],
   "source": [
    "print(video_paths[1])\n",
    "print(prompt_paths[1])"
   ]
  },
  {
   "cell_type": "markdown",
   "metadata": {},
   "source": [
    "### Conduct evaluation using COCO classes"
   ]
  },
  {
   "cell_type": "code",
   "execution_count": null,
   "metadata": {
    "scrolled": true
   },
   "outputs": [
    {
     "name": "stdout",
     "output_type": "stream",
     "text": [
      "Directory created: ./pikavideos/cup/masks\n",
      "Directory created: ./pikavideos/cup/mask_video\n",
      "Directory created: ./pikavideos/cup/mask_gif\n",
      "final text_encoder_type: bert-base-uncased\n",
      "Model loaded from ./ckpt/groundingdino_swint_ogc.pth \n",
      " => _IncompatibleKeys(missing_keys=[], unexpected_keys=['label_enc.weight', 'bert.embeddings.position_ids'])\n",
      "SegTracker has been initialized\n",
      "processed frame 22, obj_num 0\r"
     ]
    },
    {
     "name": "stderr",
     "output_type": "stream",
     "text": [
      "Num: 0, count for 'cup': 0.0, prompt: @fatman2021b Prompt: Old Orthodox In the forefront of the artwork, a detailed portrayal of an Old Orthodox diagram by György Rózsahegyi lies on a table. Accompanying it are an aged photobook and a front label designed in the captivating style of folk art.  Central to the piece is a luminous humanoid figure, its intricate features and radiant motifs captivating the observer's gaze. Encircled by celestial dust and planets, it exudes the impression of soaring through the cosmos.  Foreground figures don biblical attire, their outstretched palms emanating a palpable aura of sanctified might. The handcrafted ivory sculptures upon the altar exude an air of ancient grandeur, while the sacred cup of understanding shrouds itself in spiritual enigma.  Doughnuts arrayed upon a wooden table in the backdrop present an artistic arrangement, their delectable visage evoking a sense of opulent indulgence. A Romanesque painting on the wall injects an essence of bygone history, while crimson fluid upon church walls evokes visceral passion and turmoil.  A Qajar painting in the distance lends a medieval opulence to the scene, while an Ethiopian woodcut exudes an aura of exotic mystique. The Old Orthodox diagram, a focal point on the foreground table, cloaks itself in esoteric intrigue, complemented by the vintage photobook and front label which breathe forth nostalgia and chronicles of yore.  Author: @fatman2021b (edited), path: /apdcephfs_cq3/share_1290939/shadowcun/evals_dev/pikavideos/prompts/Old_Orthodox_In_the_forefront_of_the_artwork_a_detailed_portrayal_of_an_Old_Orthodox_diagram_by_Gy__seed16081529403875982519.txt\n",
      "2023-08-23 18:27:26 Num: 0, count for 'cup': 0.0, prompt: @fatman2021b Prompt: Old Orthodox In the forefront of the artwork, a detailed portrayal of an Old Orthodox diagram by György Rózsahegyi lies on a table. Accompanying it are an aged photobook and a front label designed in the captivating style of folk art.  Central to the piece is a luminous humanoid figure, its intricate features and radiant motifs captivating the observer's gaze. Encircled by celestial dust and planets, it exudes the impression of soaring through the cosmos.  Foreground figures don biblical attire, their outstretched palms emanating a palpable aura of sanctified might. The handcrafted ivory sculptures upon the altar exude an air of ancient grandeur, while the sacred cup of understanding shrouds itself in spiritual enigma.  Doughnuts arrayed upon a wooden table in the backdrop present an artistic arrangement, their delectable visage evoking a sense of opulent indulgence. A Romanesque painting on the wall injects an essence of bygone history, while crimson fluid upon church walls evokes visceral passion and turmoil.  A Qajar painting in the distance lends a medieval opulence to the scene, while an Ethiopian woodcut exudes an aura of exotic mystique. The Old Orthodox diagram, a focal point on the foreground table, cloaks itself in esoteric intrigue, complemented by the vintage photobook and front label which breathe forth nostalgia and chronicles of yore.  Author: @fatman2021b (edited), path: /apdcephfs_cq3/share_1290939/shadowcun/evals_dev/pikavideos/prompts/Old_Orthodox_In_the_forefront_of_the_artwork_a_detailed_portrayal_of_an_Old_Orthodox_diagram_by_Gy__seed16081529403875982519.txt\n"
     ]
    },
    {
     "name": "stdout",
     "output_type": "stream",
     "text": [
      "processed frame 23, obj_num 0\n",
      "finished\n",
      "Directory created: ./pikavideos/car/masks\n",
      "Directory created: ./pikavideos/car/mask_video\n",
      "Directory created: ./pikavideos/car/mask_gif\n",
      "final text_encoder_type: bert-base-uncased\n",
      "Model loaded from ./ckpt/groundingdino_swint_ogc.pth \n",
      " => _IncompatibleKeys(missing_keys=[], unexpected_keys=['label_enc.weight', 'bert.embeddings.position_ids'])\n",
      "SegTracker has been initialized\n",
      "processed frame 22, obj_num 1\r"
     ]
    },
    {
     "name": "stderr",
     "output_type": "stream",
     "text": [
      "Num: 1, count for 'car': 1.0, prompt: @wolljo // tzefix Prompt: a crazy racing car kicking  Image: 1 Attachment  Author: @wolljo // tzefix, path: /apdcephfs_cq3/share_1290939/shadowcun/evals_dev/pikavideos/prompts/a_crazy_racing_car_kicking.txt\n",
      "2023-08-23 18:27:37 Num: 1, count for 'car': 1.0, prompt: @wolljo // tzefix Prompt: a crazy racing car kicking  Image: 1 Attachment  Author: @wolljo // tzefix, path: /apdcephfs_cq3/share_1290939/shadowcun/evals_dev/pikavideos/prompts/a_crazy_racing_car_kicking.txt\n"
     ]
    },
    {
     "name": "stdout",
     "output_type": "stream",
     "text": [
      "processed frame 23, obj_num 1\n",
      "finished\n",
      "Directory created: ./pikavideos/tv/masks\n",
      "Directory created: ./pikavideos/tv/mask_video\n",
      "Directory created: ./pikavideos/tv/mask_gif\n",
      "final text_encoder_type: bert-base-uncased\n",
      "Model loaded from ./ckpt/groundingdino_swint_ogc.pth \n",
      " => _IncompatibleKeys(missing_keys=[], unexpected_keys=['label_enc.weight', 'bert.embeddings.position_ids'])\n",
      "SegTracker has been initialized\n",
      "processed frame 22, obj_num 1\r"
     ]
    },
    {
     "name": "stderr",
     "output_type": "stream",
     "text": [
      "Num: 2, count for 'tv': 1.0, prompt: @Go Bonkers liked a video. (Prompt: stream of hot espresso poured on clear ice cubes in a clear glass,  tv commercial, uhd, close-up shot, satisfying, delicious, highest quality, bright white volumetric high key lighting, 8k  Author: @brian), path: /apdcephfs_cq3/share_1290939/shadowcun/evals_dev/pikavideos/prompts/stream_of_hot_espresso_poured_on_clear_ice_cubes_in_a_clear_glass__tv_commercial_uhd_close-up_sho.txt\n",
      "2023-08-23 18:27:48 Num: 2, count for 'tv': 1.0, prompt: @Go Bonkers liked a video. (Prompt: stream of hot espresso poured on clear ice cubes in a clear glass,  tv commercial, uhd, close-up shot, satisfying, delicious, highest quality, bright white volumetric high key lighting, 8k  Author: @brian), path: /apdcephfs_cq3/share_1290939/shadowcun/evals_dev/pikavideos/prompts/stream_of_hot_espresso_poured_on_clear_ice_cubes_in_a_clear_glass__tv_commercial_uhd_close-up_sho.txt\n"
     ]
    },
    {
     "name": "stdout",
     "output_type": "stream",
     "text": [
      "processed frame 23, obj_num 1\n",
      "finished\n",
      "Directory created: ./pikavideos/laptop/masks\n",
      "Directory created: ./pikavideos/laptop/mask_video\n",
      "Directory created: ./pikavideos/laptop/mask_gif\n",
      "final text_encoder_type: bert-base-uncased\n",
      "Model loaded from ./ckpt/groundingdino_swint_ogc.pth \n",
      " => _IncompatibleKeys(missing_keys=[], unexpected_keys=['label_enc.weight', 'bert.embeddings.position_ids'])\n",
      "SegTracker has been initialized\n",
      "processed frame 22, obj_num 1\r"
     ]
    },
    {
     "name": "stderr",
     "output_type": "stream",
     "text": [
      "Num: 3, count for 'laptop': 1.0, prompt: @Riobel liked a video of @Riobel. (Prompt: A real-life resolution raw video of the girl looking at her laptop, curtain moving in the background slowly, high life resolution, 8k, leg motion 0.8, motions 1.0, hair motions 0.8, eye motion 0.4  Image: 1 Attachment  Author: @Riobel), path: /apdcephfs_cq3/share_1290939/shadowcun/evals_dev/pikavideos/prompts/A_real-life_resolution_raw_video_of_the_girl_looking_at_her_laptop_curtain_moving_in_the_background_seed16407808815513348727.txt\n",
      "2023-08-23 18:27:58 Num: 3, count for 'laptop': 1.0, prompt: @Riobel liked a video of @Riobel. (Prompt: A real-life resolution raw video of the girl looking at her laptop, curtain moving in the background slowly, high life resolution, 8k, leg motion 0.8, motions 1.0, hair motions 0.8, eye motion 0.4  Image: 1 Attachment  Author: @Riobel), path: /apdcephfs_cq3/share_1290939/shadowcun/evals_dev/pikavideos/prompts/A_real-life_resolution_raw_video_of_the_girl_looking_at_her_laptop_curtain_moving_in_the_background_seed16407808815513348727.txt\n"
     ]
    },
    {
     "name": "stdout",
     "output_type": "stream",
     "text": [
      "processed frame 23, obj_num 1\n",
      "finished\n",
      "Directory created: ./pikavideos/dog/masks\n",
      "Directory created: ./pikavideos/dog/mask_video\n",
      "Directory created: ./pikavideos/dog/mask_gif\n",
      "final text_encoder_type: bert-base-uncased\n",
      "Model loaded from ./ckpt/groundingdino_swint_ogc.pth \n",
      " => _IncompatibleKeys(missing_keys=[], unexpected_keys=['label_enc.weight', 'bert.embeddings.position_ids'])\n",
      "SegTracker has been initialized\n",
      "processed frame 22, obj_num 2\r"
     ]
    },
    {
     "name": "stderr",
     "output_type": "stream",
     "text": [
      "Num: 4, count for 'dog': 2.0, prompt: @Weiss Prompt: Dogs playing with the gadget  Image: 1 Attachment  Author: @Weiss, path: /apdcephfs_cq3/share_1290939/shadowcun/evals_dev/pikavideos/prompts/Dogs_playing_with_the_gadget__Image__1_Attachment_seed17016898293636560034.txt\n",
      "2023-08-23 18:28:08 Num: 4, count for 'dog': 2.0, prompt: @Weiss Prompt: Dogs playing with the gadget  Image: 1 Attachment  Author: @Weiss, path: /apdcephfs_cq3/share_1290939/shadowcun/evals_dev/pikavideos/prompts/Dogs_playing_with_the_gadget__Image__1_Attachment_seed17016898293636560034.txt\n"
     ]
    },
    {
     "name": "stdout",
     "output_type": "stream",
     "text": [
      "processed frame 23, obj_num 2\n",
      "finished\n",
      "Directory created: ./pikavideos/person/masks\n",
      "Directory created: ./pikavideos/person/mask_video\n",
      "Directory created: ./pikavideos/person/mask_gif\n",
      "final text_encoder_type: bert-base-uncased\n",
      "Model loaded from ./ckpt/groundingdino_swint_ogc.pth \n",
      " => _IncompatibleKeys(missing_keys=[], unexpected_keys=['label_enc.weight', 'bert.embeddings.position_ids'])\n",
      "SegTracker has been initialized\n",
      "processed frame 22, obj_num 1\r"
     ]
    },
    {
     "name": "stderr",
     "output_type": "stream",
     "text": [
      "Num: 5, count for 'person': 1.0, prompt: @DREX15704080 Prompt: [Best quality, unrealengine5,3d,  A puppet wrapped in branches and flowers, with branches growing, dream, first-person perspective, fantasy, photorealistic, Ultimate Aesthetics, 4K,  --gs 25 --neg \"low quality, people,blur,blurry,bad anatomy,noise,flicker,duplicate,mess\" --ar 16:9 --seed 2020]  Author: @DREX15704080, path: /apdcephfs_cq3/share_1290939/shadowcun/evals_dev/pikavideos/prompts/Best_quality_unrealengine53d__A_puppet_wrapped_in_branches_and_flowers_with_branches_growing_d_seed2457769037697740885.txt\n",
      "2023-08-23 18:28:18 Num: 5, count for 'person': 1.0, prompt: @DREX15704080 Prompt: [Best quality, unrealengine5,3d,  A puppet wrapped in branches and flowers, with branches growing, dream, first-person perspective, fantasy, photorealistic, Ultimate Aesthetics, 4K,  --gs 25 --neg \"low quality, people,blur,blurry,bad anatomy,noise,flicker,duplicate,mess\" --ar 16:9 --seed 2020]  Author: @DREX15704080, path: /apdcephfs_cq3/share_1290939/shadowcun/evals_dev/pikavideos/prompts/Best_quality_unrealengine53d__A_puppet_wrapped_in_branches_and_flowers_with_branches_growing_d_seed2457769037697740885.txt\n"
     ]
    },
    {
     "name": "stdout",
     "output_type": "stream",
     "text": [
      "processed frame 23, obj_num 1\n",
      "finished\n",
      "Directory created: ./pikavideos/couch/masks\n",
      "Directory created: ./pikavideos/couch/mask_video\n",
      "Directory created: ./pikavideos/couch/mask_gif\n",
      "final text_encoder_type: bert-base-uncased\n",
      "Model loaded from ./ckpt/groundingdino_swint_ogc.pth \n",
      " => _IncompatibleKeys(missing_keys=[], unexpected_keys=['label_enc.weight', 'bert.embeddings.position_ids'])\n",
      "SegTracker has been initialized\n",
      "processed frame 22, obj_num 1\r"
     ]
    },
    {
     "name": "stderr",
     "output_type": "stream",
     "text": [
      "Num: 6, count for 'couch': 1.0, prompt: @Paul Poutre Prompt: \"sigmund freud\" drowning inside a big leather couch with leather pillows, top-down view analog film photo   -motion 2  Author: @Paul Poutre, path: /apdcephfs_cq3/share_1290939/shadowcun/evals_dev/pikavideos/prompts/sigmund_freud__drowning_inside_a_big_leather_couch_with_leather_pillows_top-down_view_analog_film__seed2403557288435654523.txt\n",
      "2023-08-23 18:28:28 Num: 6, count for 'couch': 1.0, prompt: @Paul Poutre Prompt: \"sigmund freud\" drowning inside a big leather couch with leather pillows, top-down view analog film photo   -motion 2  Author: @Paul Poutre, path: /apdcephfs_cq3/share_1290939/shadowcun/evals_dev/pikavideos/prompts/sigmund_freud__drowning_inside_a_big_leather_couch_with_leather_pillows_top-down_view_analog_film__seed2403557288435654523.txt\n"
     ]
    },
    {
     "name": "stdout",
     "output_type": "stream",
     "text": [
      "processed frame 23, obj_num 1\n",
      "finished\n",
      "Directory created: ./pikavideos/airplane/masks\n",
      "Directory created: ./pikavideos/airplane/mask_video\n",
      "Directory created: ./pikavideos/airplane/mask_gif\n",
      "final text_encoder_type: bert-base-uncased\n",
      "Model loaded from ./ckpt/groundingdino_swint_ogc.pth \n",
      " => _IncompatibleKeys(missing_keys=[], unexpected_keys=['label_enc.weight', 'bert.embeddings.position_ids'])\n",
      "SegTracker has been initialized\n",
      "processed frame 22, obj_num 1\r"
     ]
    },
    {
     "name": "stderr",
     "output_type": "stream",
     "text": [
      "Num: 7, count for 'airplane': 1.0, prompt: @chinna Prompt: a man walking down from airplane,detailed full color,8k,--ar 9:16  Author: @chinna, path: /apdcephfs_cq3/share_1290939/shadowcun/evals_dev/pikavideos/prompts/a_man_walking_down_from_airplanedetailed_full_color8k--ar_9_16_seed9354222449310172492.txt\n",
      "2023-08-23 18:28:39 Num: 7, count for 'airplane': 1.0, prompt: @chinna Prompt: a man walking down from airplane,detailed full color,8k,--ar 9:16  Author: @chinna, path: /apdcephfs_cq3/share_1290939/shadowcun/evals_dev/pikavideos/prompts/a_man_walking_down_from_airplanedetailed_full_color8k--ar_9_16_seed9354222449310172492.txt\n"
     ]
    },
    {
     "name": "stdout",
     "output_type": "stream",
     "text": [
      "processed frame 23, obj_num 1\n",
      "finished\n",
      "Directory already exists: ./pikavideos/person/masks\n",
      "Directory already exists: ./pikavideos/person/mask_video\n",
      "Directory already exists: ./pikavideos/person/mask_gif\n",
      "final text_encoder_type: bert-base-uncased\n",
      "Model loaded from ./ckpt/groundingdino_swint_ogc.pth \n",
      " => _IncompatibleKeys(missing_keys=[], unexpected_keys=['label_enc.weight', 'bert.embeddings.position_ids'])\n",
      "SegTracker has been initialized\n",
      "processed frame 22, obj_num 1\r"
     ]
    },
    {
     "name": "stderr",
     "output_type": "stream",
     "text": [
      "Num: 8, count for 'person': 1.0, prompt: @Lil Lion Prompt: first person point of view, walking through a beautiful hedge maze with flowers in the bushes, the sun shines bright and warm overhead  Author: @Lil Lion, path: /apdcephfs_cq3/share_1290939/shadowcun/evals_dev/pikavideos/prompts/first_person_point_of_view_walking_through_a_beautiful_hedge_maze_with_flowers_in_the_bushes_the_s_seed6800058714564950160.txt\n",
      "2023-08-23 18:28:49 Num: 8, count for 'person': 1.0, prompt: @Lil Lion Prompt: first person point of view, walking through a beautiful hedge maze with flowers in the bushes, the sun shines bright and warm overhead  Author: @Lil Lion, path: /apdcephfs_cq3/share_1290939/shadowcun/evals_dev/pikavideos/prompts/first_person_point_of_view_walking_through_a_beautiful_hedge_maze_with_flowers_in_the_bushes_the_s_seed6800058714564950160.txt\n"
     ]
    },
    {
     "name": "stdout",
     "output_type": "stream",
     "text": [
      "processed frame 23, obj_num 1\n",
      "finished\n",
      "Directory already exists: ./pikavideos/tv/masks\n",
      "Directory already exists: ./pikavideos/tv/mask_video\n",
      "Directory already exists: ./pikavideos/tv/mask_gif\n",
      "final text_encoder_type: bert-base-uncased\n",
      "Model loaded from ./ckpt/groundingdino_swint_ogc.pth \n",
      " => _IncompatibleKeys(missing_keys=[], unexpected_keys=['label_enc.weight', 'bert.embeddings.position_ids'])\n",
      "SegTracker has been initialized\n",
      "processed frame 22, obj_num 0\r"
     ]
    },
    {
     "name": "stderr",
     "output_type": "stream",
     "text": [
      "Num: 8, count for 'tv': 0.0, prompt: @tellyourfriends.tv Prompt: beautiful woman reaching out hand to camera  Author: @tellyourfriends.tv, path: /apdcephfs_cq3/share_1290939/shadowcun/evals_dev/pikavideos/prompts/beautiful_woman_reaching_out_hand_to_camera_seed11376165131429940296.txt\n",
      "2023-08-23 18:28:59 Num: 8, count for 'tv': 0.0, prompt: @tellyourfriends.tv Prompt: beautiful woman reaching out hand to camera  Author: @tellyourfriends.tv, path: /apdcephfs_cq3/share_1290939/shadowcun/evals_dev/pikavideos/prompts/beautiful_woman_reaching_out_hand_to_camera_seed11376165131429940296.txt\n"
     ]
    },
    {
     "name": "stdout",
     "output_type": "stream",
     "text": [
      "processed frame 23, obj_num 0\n",
      "finished\n",
      "Directory already exists: ./pikavideos/dog/masks\n",
      "Directory already exists: ./pikavideos/dog/mask_video\n",
      "Directory already exists: ./pikavideos/dog/mask_gif\n",
      "final text_encoder_type: bert-base-uncased\n",
      "Model loaded from ./ckpt/groundingdino_swint_ogc.pth \n",
      " => _IncompatibleKeys(missing_keys=[], unexpected_keys=['label_enc.weight', 'bert.embeddings.position_ids'])\n",
      "SegTracker has been initialized\n",
      "processed frame 22, obj_num 1\r"
     ]
    },
    {
     "name": "stderr",
     "output_type": "stream",
     "text": [
      "Num: 9, count for 'dog': 1.0, prompt: @nikolai Prompt: dog smoke weeds  Image: 1 Attachment  Author: @nikolai, path: /apdcephfs_cq3/share_1290939/shadowcun/evals_dev/pikavideos/prompts/dog_smoke_weeds__Image__1_Attachment_seed630173737924043715.txt\n",
      "2023-08-23 18:29:09 Num: 9, count for 'dog': 1.0, prompt: @nikolai Prompt: dog smoke weeds  Image: 1 Attachment  Author: @nikolai, path: /apdcephfs_cq3/share_1290939/shadowcun/evals_dev/pikavideos/prompts/dog_smoke_weeds__Image__1_Attachment_seed630173737924043715.txt\n"
     ]
    },
    {
     "name": "stdout",
     "output_type": "stream",
     "text": [
      "processed frame 23, obj_num 1\n",
      "finished\n",
      "Directory already exists: ./pikavideos/tv/masks\n",
      "Directory already exists: ./pikavideos/tv/mask_video\n",
      "Directory already exists: ./pikavideos/tv/mask_gif\n",
      "final text_encoder_type: bert-base-uncased\n",
      "Model loaded from ./ckpt/groundingdino_swint_ogc.pth \n",
      " => _IncompatibleKeys(missing_keys=[], unexpected_keys=['label_enc.weight', 'bert.embeddings.position_ids'])\n",
      "SegTracker has been initialized\n",
      "processed frame 22, obj_num 0\r"
     ]
    },
    {
     "name": "stderr",
     "output_type": "stream",
     "text": [
      "Num: 9, count for 'tv': 0.0, prompt: @Babastti Prompt: a girl holding a tv with cables from it on it, in the style of eerie landscapes, books and portfolios, dollcore, tabloid photography, muted colours, oversized objects, photorealistic portraits }  Author: @Babastti, path: /apdcephfs_cq3/share_1290939/shadowcun/evals_dev/pikavideos/prompts/a_girl_holding_a_tv_with_cables_from_it_on_it_in_the_style_of_eerie_landscapes_books_and_portfolio_seed16174571395639179311.txt\n",
      "2023-08-23 18:29:19 Num: 9, count for 'tv': 0.0, prompt: @Babastti Prompt: a girl holding a tv with cables from it on it, in the style of eerie landscapes, books and portfolios, dollcore, tabloid photography, muted colours, oversized objects, photorealistic portraits }  Author: @Babastti, path: /apdcephfs_cq3/share_1290939/shadowcun/evals_dev/pikavideos/prompts/a_girl_holding_a_tv_with_cables_from_it_on_it_in_the_style_of_eerie_landscapes_books_and_portfolio_seed16174571395639179311.txt\n"
     ]
    },
    {
     "name": "stdout",
     "output_type": "stream",
     "text": [
      "processed frame 23, obj_num 0\n",
      "finished\n",
      "Directory created: ./pikavideos/book/masks\n",
      "Directory created: ./pikavideos/book/mask_video\n",
      "Directory created: ./pikavideos/book/mask_gif\n",
      "final text_encoder_type: bert-base-uncased\n",
      "Model loaded from ./ckpt/groundingdino_swint_ogc.pth \n",
      " => _IncompatibleKeys(missing_keys=[], unexpected_keys=['label_enc.weight', 'bert.embeddings.position_ids'])\n",
      "SegTracker has been initialized\n",
      "processed frame 22, obj_num 0\r"
     ]
    },
    {
     "name": "stderr",
     "output_type": "stream",
     "text": [
      "Num: 9, count for 'book': 0.0, prompt: @Babastti Prompt: a girl holding a tv with cables from it on it, in the style of eerie landscapes, books and portfolios, dollcore, tabloid photography, muted colours, oversized objects, photorealistic portraits }  Author: @Babastti, path: /apdcephfs_cq3/share_1290939/shadowcun/evals_dev/pikavideos/prompts/a_girl_holding_a_tv_with_cables_from_it_on_it_in_the_style_of_eerie_landscapes_books_and_portfolio_seed16174571395639179311.txt\n",
      "2023-08-23 18:29:29 Num: 9, count for 'book': 0.0, prompt: @Babastti Prompt: a girl holding a tv with cables from it on it, in the style of eerie landscapes, books and portfolios, dollcore, tabloid photography, muted colours, oversized objects, photorealistic portraits }  Author: @Babastti, path: /apdcephfs_cq3/share_1290939/shadowcun/evals_dev/pikavideos/prompts/a_girl_holding_a_tv_with_cables_from_it_on_it_in_the_style_of_eerie_landscapes_books_and_portfolio_seed16174571395639179311.txt\n"
     ]
    },
    {
     "name": "stdout",
     "output_type": "stream",
     "text": [
      "processed frame 23, obj_num 0\n",
      "finished\n",
      "Directory created: ./pikavideos/clock/masks\n",
      "Directory created: ./pikavideos/clock/mask_video\n",
      "Directory created: ./pikavideos/clock/mask_gif\n",
      "final text_encoder_type: bert-base-uncased\n",
      "Model loaded from ./ckpt/groundingdino_swint_ogc.pth \n",
      " => _IncompatibleKeys(missing_keys=[], unexpected_keys=['label_enc.weight', 'bert.embeddings.position_ids'])\n",
      "SegTracker has been initialized\n",
      "processed frame 22, obj_num 0\r"
     ]
    },
    {
     "name": "stderr",
     "output_type": "stream",
     "text": [
      "Num: 9, count for 'clock': 0.0, prompt: @creAItive1 Prompt: a mid range closeup of a high detailed ancient hourglass clock with a slightly out of focus sand and dunes desert background and tree camels walking toward the hourglass clock -ar 16:9 4K - motion 2  Author: @creAItive1, path: /apdcephfs_cq3/share_1290939/shadowcun/evals_dev/pikavideos/prompts/a_mid_range_closeup_of_a_high_detailed_ancient_hourglass_clock_with_a_slightly_out_of_focus_sand_and_seed11393968909632940198.txt\n",
      "2023-08-23 18:29:39 Num: 9, count for 'clock': 0.0, prompt: @creAItive1 Prompt: a mid range closeup of a high detailed ancient hourglass clock with a slightly out of focus sand and dunes desert background and tree camels walking toward the hourglass clock -ar 16:9 4K - motion 2  Author: @creAItive1, path: /apdcephfs_cq3/share_1290939/shadowcun/evals_dev/pikavideos/prompts/a_mid_range_closeup_of_a_high_detailed_ancient_hourglass_clock_with_a_slightly_out_of_focus_sand_and_seed11393968909632940198.txt\n"
     ]
    },
    {
     "name": "stdout",
     "output_type": "stream",
     "text": [
      "processed frame 23, obj_num 0\n",
      "finished\n",
      "Directory created: ./pikavideos/horse/masks\n",
      "Directory created: ./pikavideos/horse/mask_video\n",
      "Directory created: ./pikavideos/horse/mask_gif\n",
      "final text_encoder_type: bert-base-uncased\n",
      "Model loaded from ./ckpt/groundingdino_swint_ogc.pth \n",
      " => _IncompatibleKeys(missing_keys=[], unexpected_keys=['label_enc.weight', 'bert.embeddings.position_ids'])\n",
      "SegTracker has been initialized\n",
      "processed frame 22, obj_num 2\r"
     ]
    },
    {
     "name": "stderr",
     "output_type": "stream",
     "text": [
      "Num: 10, count for 'horse': 2.0, prompt: @Denden Prompt: Horse with wings on a coast similar to Scotland  Author: @Denden, path: /apdcephfs_cq3/share_1290939/shadowcun/evals_dev/pikavideos/prompts/Horse_with_wings_on_a_coast_similar_to_Scotland_seed18012505168770201443.txt\n",
      "2023-08-23 18:29:49 Num: 10, count for 'horse': 2.0, prompt: @Denden Prompt: Horse with wings on a coast similar to Scotland  Author: @Denden, path: /apdcephfs_cq3/share_1290939/shadowcun/evals_dev/pikavideos/prompts/Horse_with_wings_on_a_coast_similar_to_Scotland_seed18012505168770201443.txt\n"
     ]
    },
    {
     "name": "stdout",
     "output_type": "stream",
     "text": [
      "processed frame 23, obj_num 2\n",
      "finished\n",
      "Directory created: ./pikavideos/bus/masks\n",
      "Directory created: ./pikavideos/bus/mask_video\n",
      "Directory created: ./pikavideos/bus/mask_gif\n",
      "final text_encoder_type: bert-base-uncased\n",
      "Model loaded from ./ckpt/groundingdino_swint_ogc.pth \n",
      " => _IncompatibleKeys(missing_keys=[], unexpected_keys=['label_enc.weight', 'bert.embeddings.position_ids'])\n",
      "SegTracker has been initialized\n",
      "processed frame 22, obj_num 0\r"
     ]
    },
    {
     "name": "stderr",
     "output_type": "stream",
     "text": [
      "Num: 10, count for 'bus': 0.0, prompt: @discoking Prompt: lonely people in scifi bus cinematic, HD, 4k resolution, sharp, sony ar7  -neg \"cartoon, vector art, clipart, 3D, distorted, amateur, split \"  -gs 30  Image: 1 Attachment  Author: @discoking, path: /apdcephfs_cq3/share_1290939/shadowcun/evals_dev/pikavideos/prompts/lonely_people_in_scifi_bus_cinematic_HD_4k_resolution_sharp_sony_ar7__-neg__cartoon_vector_art_seed13872446135975882256.txt\n",
      "2023-08-23 18:29:59 Num: 10, count for 'bus': 0.0, prompt: @discoking Prompt: lonely people in scifi bus cinematic, HD, 4k resolution, sharp, sony ar7  -neg \"cartoon, vector art, clipart, 3D, distorted, amateur, split \"  -gs 30  Image: 1 Attachment  Author: @discoking, path: /apdcephfs_cq3/share_1290939/shadowcun/evals_dev/pikavideos/prompts/lonely_people_in_scifi_bus_cinematic_HD_4k_resolution_sharp_sony_ar7__-neg__cartoon_vector_art_seed13872446135975882256.txt\n"
     ]
    },
    {
     "name": "stdout",
     "output_type": "stream",
     "text": [
      "processed frame 23, obj_num 0\n",
      "finished\n",
      "Directory created: ./pikavideos/bed/masks\n",
      "Directory created: ./pikavideos/bed/mask_video\n",
      "Directory created: ./pikavideos/bed/mask_gif\n",
      "final text_encoder_type: bert-base-uncased\n",
      "Model loaded from ./ckpt/groundingdino_swint_ogc.pth \n",
      " => _IncompatibleKeys(missing_keys=[], unexpected_keys=['label_enc.weight', 'bert.embeddings.position_ids'])\n",
      "SegTracker has been initialized\n",
      "processed frame 22, obj_num 1\r"
     ]
    },
    {
     "name": "stderr",
     "output_type": "stream",
     "text": [
      "Num: 11, count for 'bed': 1.0, prompt: @radotw Prompt: barbie  sitting, watching tv in a dirty bed room  Author: @radotw, path: /apdcephfs_cq3/share_1290939/shadowcun/evals_dev/pikavideos/prompts/barbie__sitting_watching_tv_in_a_dirty_bed_room_seed5785052468425344771.txt\n",
      "2023-08-23 18:30:08 Num: 11, count for 'bed': 1.0, prompt: @radotw Prompt: barbie  sitting, watching tv in a dirty bed room  Author: @radotw, path: /apdcephfs_cq3/share_1290939/shadowcun/evals_dev/pikavideos/prompts/barbie__sitting_watching_tv_in_a_dirty_bed_room_seed5785052468425344771.txt\n"
     ]
    },
    {
     "name": "stdout",
     "output_type": "stream",
     "text": [
      "processed frame 23, obj_num 1\n",
      "finished\n",
      "Directory already exists: ./pikavideos/tv/masks\n",
      "Directory already exists: ./pikavideos/tv/mask_video\n",
      "Directory already exists: ./pikavideos/tv/mask_gif\n",
      "final text_encoder_type: bert-base-uncased\n",
      "Model loaded from ./ckpt/groundingdino_swint_ogc.pth \n",
      " => _IncompatibleKeys(missing_keys=[], unexpected_keys=['label_enc.weight', 'bert.embeddings.position_ids'])\n",
      "SegTracker has been initialized\n",
      "processed frame 22, obj_num 1\r"
     ]
    },
    {
     "name": "stderr",
     "output_type": "stream",
     "text": [
      "Num: 12, count for 'tv': 1.0, prompt: @radotw Prompt: barbie  sitting, watching tv in a dirty bed room  Author: @radotw, path: /apdcephfs_cq3/share_1290939/shadowcun/evals_dev/pikavideos/prompts/barbie__sitting_watching_tv_in_a_dirty_bed_room_seed5785052468425344771.txt\n",
      "2023-08-23 18:30:18 Num: 12, count for 'tv': 1.0, prompt: @radotw Prompt: barbie  sitting, watching tv in a dirty bed room  Author: @radotw, path: /apdcephfs_cq3/share_1290939/shadowcun/evals_dev/pikavideos/prompts/barbie__sitting_watching_tv_in_a_dirty_bed_room_seed5785052468425344771.txt\n"
     ]
    },
    {
     "name": "stdout",
     "output_type": "stream",
     "text": [
      "processed frame 23, obj_num 1\n",
      "finished\n",
      "Directory created: ./pikavideos/cat/masks\n",
      "Directory created: ./pikavideos/cat/mask_video\n",
      "Directory created: ./pikavideos/cat/mask_gif\n",
      "final text_encoder_type: bert-base-uncased\n",
      "Model loaded from ./ckpt/groundingdino_swint_ogc.pth \n",
      " => _IncompatibleKeys(missing_keys=[], unexpected_keys=['label_enc.weight', 'bert.embeddings.position_ids'])\n",
      "SegTracker has been initialized\n",
      "processed frame 22, obj_num 0\r"
     ]
    },
    {
     "name": "stderr",
     "output_type": "stream",
     "text": [
      "Num: 12, count for 'cat': 0.0, prompt: @Oks Prompt: cat smiles and laughs -ar 4:3  Image: 1 Attachment  Author: @Oks, path: /apdcephfs_cq3/share_1290939/shadowcun/evals_dev/pikavideos/prompts/cat_smiles_and_laughs_-ar_4_3__Image__1_Attachment_seed15097852949522318220.txt\n",
      "2023-08-23 18:30:28 Num: 12, count for 'cat': 0.0, prompt: @Oks Prompt: cat smiles and laughs -ar 4:3  Image: 1 Attachment  Author: @Oks, path: /apdcephfs_cq3/share_1290939/shadowcun/evals_dev/pikavideos/prompts/cat_smiles_and_laughs_-ar_4_3__Image__1_Attachment_seed15097852949522318220.txt\n"
     ]
    },
    {
     "name": "stdout",
     "output_type": "stream",
     "text": [
      "processed frame 23, obj_num 0\n",
      "finished\n",
      "Directory already exists: ./pikavideos/dog/masks\n",
      "Directory already exists: ./pikavideos/dog/mask_video\n",
      "Directory already exists: ./pikavideos/dog/mask_gif\n",
      "final text_encoder_type: bert-base-uncased\n",
      "Model loaded from ./ckpt/groundingdino_swint_ogc.pth \n",
      " => _IncompatibleKeys(missing_keys=[], unexpected_keys=['label_enc.weight', 'bert.embeddings.position_ids'])\n",
      "SegTracker has been initialized\n",
      "processed frame 22, obj_num 1\r"
     ]
    },
    {
     "name": "stderr",
     "output_type": "stream",
     "text": [
      "Num: 13, count for 'dog': 1.0, prompt: @kentashiyoko Prompt: a man kissing a white dog  Image: 1 Attachment  Author: @kentashiyoko, path: /apdcephfs_cq3/share_1290939/shadowcun/evals_dev/pikavideos/prompts/a_man_kissing_a_white_dog__Image__1_Attachment_seed2821337665348054621.txt\n",
      "2023-08-23 18:30:38 Num: 13, count for 'dog': 1.0, prompt: @kentashiyoko Prompt: a man kissing a white dog  Image: 1 Attachment  Author: @kentashiyoko, path: /apdcephfs_cq3/share_1290939/shadowcun/evals_dev/pikavideos/prompts/a_man_kissing_a_white_dog__Image__1_Attachment_seed2821337665348054621.txt\n"
     ]
    },
    {
     "name": "stdout",
     "output_type": "stream",
     "text": [
      "processed frame 23, obj_num 1\n",
      "finished\n",
      "Directory already exists: ./pikavideos/cat/masks\n",
      "Directory already exists: ./pikavideos/cat/mask_video\n",
      "Directory already exists: ./pikavideos/cat/mask_gif\n",
      "final text_encoder_type: bert-base-uncased\n",
      "Model loaded from ./ckpt/groundingdino_swint_ogc.pth \n",
      " => _IncompatibleKeys(missing_keys=[], unexpected_keys=['label_enc.weight', 'bert.embeddings.position_ids'])\n",
      "SegTracker has been initialized\n",
      "processed frame 22, obj_num 1\r"
     ]
    },
    {
     "name": "stderr",
     "output_type": "stream",
     "text": [
      "Num: 14, count for 'cat': 1.0, prompt: @Reya Prompt: A lifelike 3D model of a cat, playfully chasing a ball, through a cozy living room, the cat's movements are fluid and natural,  sing advanced 3D animation techniques to achieve realistic motion - 9:16  Image: 1 Attachment  Author: @Reya, path: /apdcephfs_cq3/share_1290939/shadowcun/evals_dev/pikavideos/prompts/A_lifelike_3D_model_of_a_cat_playfully_chasing_a_ball_through_a_cozy_living_room_the_cat_s_moveme_seed791572259697976577.txt\n",
      "2023-08-23 18:30:49 Num: 14, count for 'cat': 1.0, prompt: @Reya Prompt: A lifelike 3D model of a cat, playfully chasing a ball, through a cozy living room, the cat's movements are fluid and natural,  sing advanced 3D animation techniques to achieve realistic motion - 9:16  Image: 1 Attachment  Author: @Reya, path: /apdcephfs_cq3/share_1290939/shadowcun/evals_dev/pikavideos/prompts/A_lifelike_3D_model_of_a_cat_playfully_chasing_a_ball_through_a_cozy_living_room_the_cat_s_moveme_seed791572259697976577.txt\n"
     ]
    },
    {
     "name": "stdout",
     "output_type": "stream",
     "text": [
      "processed frame 23, obj_num 1\n",
      "finished\n",
      "Directory already exists: ./pikavideos/dog/masks\n",
      "Directory already exists: ./pikavideos/dog/mask_video\n",
      "Directory already exists: ./pikavideos/dog/mask_gif\n",
      "final text_encoder_type: bert-base-uncased\n",
      "Model loaded from ./ckpt/groundingdino_swint_ogc.pth \n",
      " => _IncompatibleKeys(missing_keys=[], unexpected_keys=['label_enc.weight', 'bert.embeddings.position_ids'])\n",
      "SegTracker has been initialized\n",
      "processed frame 22, obj_num 0\r"
     ]
    },
    {
     "name": "stderr",
     "output_type": "stream",
     "text": [
      "Num: 14, count for 'dog': 0.0, prompt: @Red Nelloh Prompt: the dog is sniffing  Image: 1 Attachment  Author: @Red Nelloh, path: /apdcephfs_cq3/share_1290939/shadowcun/evals_dev/pikavideos/prompts/the_dog_is_sniffing__Image__1_Attachment_seed18221327398837311923.txt\n",
      "2023-08-23 18:30:58 Num: 14, count for 'dog': 0.0, prompt: @Red Nelloh Prompt: the dog is sniffing  Image: 1 Attachment  Author: @Red Nelloh, path: /apdcephfs_cq3/share_1290939/shadowcun/evals_dev/pikavideos/prompts/the_dog_is_sniffing__Image__1_Attachment_seed18221327398837311923.txt\n"
     ]
    },
    {
     "name": "stdout",
     "output_type": "stream",
     "text": [
      "processed frame 23, obj_num 0\n",
      "finished\n",
      "Directory already exists: ./pikavideos/car/masks\n",
      "Directory already exists: ./pikavideos/car/mask_video\n",
      "Directory already exists: ./pikavideos/car/mask_gif\n",
      "final text_encoder_type: bert-base-uncased\n",
      "Model loaded from ./ckpt/groundingdino_swint_ogc.pth \n",
      " => _IncompatibleKeys(missing_keys=[], unexpected_keys=['label_enc.weight', 'bert.embeddings.position_ids'])\n",
      "SegTracker has been initialized\n",
      "processed frame 22, obj_num 1\r"
     ]
    },
    {
     "name": "stderr",
     "output_type": "stream",
     "text": [
      "Num: 15, count for 'car': 1.0, prompt: @OMO Prompt: Selfie in the car,4k  Image: 1 Attachment  Author: @OMO, path: /apdcephfs_cq3/share_1290939/shadowcun/evals_dev/pikavideos/prompts/Selfie_in_the_car4k__Image__1_Attachment_seed14973506488214882686.txt\n",
      "2023-08-23 18:31:09 Num: 15, count for 'car': 1.0, prompt: @OMO Prompt: Selfie in the car,4k  Image: 1 Attachment  Author: @OMO, path: /apdcephfs_cq3/share_1290939/shadowcun/evals_dev/pikavideos/prompts/Selfie_in_the_car4k__Image__1_Attachment_seed14973506488214882686.txt\n"
     ]
    },
    {
     "name": "stdout",
     "output_type": "stream",
     "text": [
      "processed frame 23, obj_num 1\n",
      "finished\n",
      "Directory already exists: ./pikavideos/cat/masks\n",
      "Directory already exists: ./pikavideos/cat/mask_video\n",
      "Directory already exists: ./pikavideos/cat/mask_gif\n",
      "final text_encoder_type: bert-base-uncased\n",
      "Model loaded from ./ckpt/groundingdino_swint_ogc.pth \n",
      " => _IncompatibleKeys(missing_keys=[], unexpected_keys=['label_enc.weight', 'bert.embeddings.position_ids'])\n",
      "SegTracker has been initialized\n",
      "processed frame 22, obj_num 0\r"
     ]
    },
    {
     "name": "stderr",
     "output_type": "stream",
     "text": [
      "Num: 15, count for 'cat': 0.0, prompt: @caihe Prompt: Movie shot, blue eyed white cat turning its head, autumn season, wind blowing maple leaves falling, wind blowing fur, 4k,9:16  Author: @caihe, path: /apdcephfs_cq3/share_1290939/shadowcun/evals_dev/pikavideos/prompts/Movie_shot_blue_eyed_white_cat_turning_its_head_autumn_season_wind_blowing_maple_leaves_falling__seed14700925975793508048.txt\n",
      "2023-08-23 18:31:18 Num: 15, count for 'cat': 0.0, prompt: @caihe Prompt: Movie shot, blue eyed white cat turning its head, autumn season, wind blowing maple leaves falling, wind blowing fur, 4k,9:16  Author: @caihe, path: /apdcephfs_cq3/share_1290939/shadowcun/evals_dev/pikavideos/prompts/Movie_shot_blue_eyed_white_cat_turning_its_head_autumn_season_wind_blowing_maple_leaves_falling__seed14700925975793508048.txt\n"
     ]
    },
    {
     "name": "stdout",
     "output_type": "stream",
     "text": [
      "processed frame 23, obj_num 0\n",
      "finished\n",
      "Directory already exists: ./pikavideos/cat/masks\n",
      "Directory already exists: ./pikavideos/cat/mask_video\n",
      "Directory already exists: ./pikavideos/cat/mask_gif\n",
      "final text_encoder_type: bert-base-uncased\n",
      "Model loaded from ./ckpt/groundingdino_swint_ogc.pth \n",
      " => _IncompatibleKeys(missing_keys=[], unexpected_keys=['label_enc.weight', 'bert.embeddings.position_ids'])\n",
      "SegTracker has been initialized\n",
      "processed frame 22, obj_num 1\r"
     ]
    },
    {
     "name": "stderr",
     "output_type": "stream",
     "text": [
      "Num: 16, count for 'cat': 1.0, prompt: Pika BOT 07/16/2023 12:35 PM@Shrishh Prompt: Dancing Cat  Image: 1 Attachment  Author: @Shrishh, path: /apdcephfs_cq3/share_1290939/shadowcun/evals_dev/pikavideos/prompts/Dancing_Cat.txt\n",
      "2023-08-23 18:31:31 Num: 16, count for 'cat': 1.0, prompt: Pika BOT 07/16/2023 12:35 PM@Shrishh Prompt: Dancing Cat  Image: 1 Attachment  Author: @Shrishh, path: /apdcephfs_cq3/share_1290939/shadowcun/evals_dev/pikavideos/prompts/Dancing_Cat.txt\n"
     ]
    },
    {
     "name": "stdout",
     "output_type": "stream",
     "text": [
      "processed frame 23, obj_num 1\n",
      "finished\n",
      "Directory already exists: ./pikavideos/bed/masks\n",
      "Directory already exists: ./pikavideos/bed/mask_video\n",
      "Directory already exists: ./pikavideos/bed/mask_gif\n",
      "final text_encoder_type: bert-base-uncased\n",
      "Model loaded from ./ckpt/groundingdino_swint_ogc.pth \n",
      " => _IncompatibleKeys(missing_keys=[], unexpected_keys=['label_enc.weight', 'bert.embeddings.position_ids'])\n",
      "SegTracker has been initialized\n",
      "processed frame 22, obj_num 1\r"
     ]
    },
    {
     "name": "stderr",
     "output_type": "stream",
     "text": [
      "Num: 17, count for 'bed': 1.0, prompt: @DCF Prompt: man scared to death in the bed, dark scene, horror, cinematic look, 8k  Author: @DCF, path: /apdcephfs_cq3/share_1290939/shadowcun/evals_dev/pikavideos/prompts/man_scared_to_death_in_the_bed_dark_scene_horror_cinematic_look_8k_seed4808118093159940398.txt\n",
      "2023-08-23 18:31:41 Num: 17, count for 'bed': 1.0, prompt: @DCF Prompt: man scared to death in the bed, dark scene, horror, cinematic look, 8k  Author: @DCF, path: /apdcephfs_cq3/share_1290939/shadowcun/evals_dev/pikavideos/prompts/man_scared_to_death_in_the_bed_dark_scene_horror_cinematic_look_8k_seed4808118093159940398.txt\n"
     ]
    },
    {
     "name": "stdout",
     "output_type": "stream",
     "text": [
      "processed frame 23, obj_num 1\n",
      "finished\n",
      "Directory created: ./pikavideos/motorcycle/masks\n",
      "Directory created: ./pikavideos/motorcycle/mask_video\n",
      "Directory created: ./pikavideos/motorcycle/mask_gif\n",
      "final text_encoder_type: bert-base-uncased\n",
      "Model loaded from ./ckpt/groundingdino_swint_ogc.pth \n",
      " => _IncompatibleKeys(missing_keys=[], unexpected_keys=['label_enc.weight', 'bert.embeddings.position_ids'])\n",
      "SegTracker has been initialized\n",
      "processed frame 22, obj_num 1\r"
     ]
    },
    {
     "name": "stderr",
     "output_type": "stream",
     "text": [
      "Num: 18, count for 'motorcycle': 1.0, prompt: @crystalwizard liked a video of @sooloooo. (Prompt: a white and gray themed electric motorcycle parked in the city streets, Bright sunlight  Author: @sooloooo), path: /apdcephfs_cq3/share_1290939/shadowcun/evals_dev/pikavideos/prompts/a_white_and_gray_themed_electric_motorcycle_parked_in_the_city_streets_Bright_sunlight_seed2283534430067221408.txt\n",
      "2023-08-23 18:31:51 Num: 18, count for 'motorcycle': 1.0, prompt: @crystalwizard liked a video of @sooloooo. (Prompt: a white and gray themed electric motorcycle parked in the city streets, Bright sunlight  Author: @sooloooo), path: /apdcephfs_cq3/share_1290939/shadowcun/evals_dev/pikavideos/prompts/a_white_and_gray_themed_electric_motorcycle_parked_in_the_city_streets_Bright_sunlight_seed2283534430067221408.txt\n"
     ]
    },
    {
     "name": "stdout",
     "output_type": "stream",
     "text": [
      "processed frame 23, obj_num 1\n",
      "finished\n",
      "Directory created: ./pikavideos/bench/masks\n",
      "Directory created: ./pikavideos/bench/mask_video\n",
      "Directory created: ./pikavideos/bench/mask_gif\n",
      "final text_encoder_type: bert-base-uncased\n",
      "Model loaded from ./ckpt/groundingdino_swint_ogc.pth \n",
      " => _IncompatibleKeys(missing_keys=[], unexpected_keys=['label_enc.weight', 'bert.embeddings.position_ids'])\n",
      "SegTracker has been initialized\n",
      "processed frame 22, obj_num 1\r"
     ]
    },
    {
     "name": "stderr",
     "output_type": "stream",
     "text": [
      "Num: 19, count for 'bench': 1.0, prompt: @Eugene Prompt: A woman sitting on a park bench in the style of Annie Leibovitz, Dark Colors, Deeper, richer shades, Ground Level Shot, Canon EOS 1DX Mark 3 camera with wide lens, 4K, -motion 4 -ar 16:9  Author: @Eugene, path: /apdcephfs_cq3/share_1290939/shadowcun/evals_dev/pikavideos/prompts/A_woman_sitting_on_a_park_bench_in_the_style_of_Annie_Leibovitz_Dark_Colors_Deeper_richer_shades_seed2483748260471034644.txt\n",
      "2023-08-23 18:32:01 Num: 19, count for 'bench': 1.0, prompt: @Eugene Prompt: A woman sitting on a park bench in the style of Annie Leibovitz, Dark Colors, Deeper, richer shades, Ground Level Shot, Canon EOS 1DX Mark 3 camera with wide lens, 4K, -motion 4 -ar 16:9  Author: @Eugene, path: /apdcephfs_cq3/share_1290939/shadowcun/evals_dev/pikavideos/prompts/A_woman_sitting_on_a_park_bench_in_the_style_of_Annie_Leibovitz_Dark_Colors_Deeper_richer_shades_seed2483748260471034644.txt\n"
     ]
    },
    {
     "name": "stdout",
     "output_type": "stream",
     "text": [
      "processed frame 23, obj_num 1\n",
      "finished\n",
      "Directory already exists: ./pikavideos/car/masks\n",
      "Directory already exists: ./pikavideos/car/mask_video\n",
      "Directory already exists: ./pikavideos/car/mask_gif\n",
      "final text_encoder_type: bert-base-uncased\n",
      "Model loaded from ./ckpt/groundingdino_swint_ogc.pth \n",
      " => _IncompatibleKeys(missing_keys=[], unexpected_keys=['label_enc.weight', 'bert.embeddings.position_ids'])\n",
      "SegTracker has been initialized\n",
      "processed frame 22, obj_num 0\r"
     ]
    },
    {
     "name": "stderr",
     "output_type": "stream",
     "text": [
      "Num: 19, count for 'car': 0.0, prompt: @Bader#367 Prompt: car reaches speed of light, cinematic, move gimbel motion  Image: 1 Attachment  Author: @Bader#367, path: /apdcephfs_cq3/share_1290939/shadowcun/evals_dev/pikavideos/prompts/car_reaches_speed_of_light_cinematic_move_gimbel_motion__Image__1_Attachment_seed5726449327133817216.txt\n",
      "2023-08-23 18:32:11 Num: 19, count for 'car': 0.0, prompt: @Bader#367 Prompt: car reaches speed of light, cinematic, move gimbel motion  Image: 1 Attachment  Author: @Bader#367, path: /apdcephfs_cq3/share_1290939/shadowcun/evals_dev/pikavideos/prompts/car_reaches_speed_of_light_cinematic_move_gimbel_motion__Image__1_Attachment_seed5726449327133817216.txt\n"
     ]
    },
    {
     "name": "stdout",
     "output_type": "stream",
     "text": [
      "processed frame 23, obj_num 0\n",
      "finished\n",
      "Directory already exists: ./pikavideos/cup/masks\n",
      "Directory already exists: ./pikavideos/cup/mask_video\n",
      "Directory already exists: ./pikavideos/cup/mask_gif\n",
      "final text_encoder_type: bert-base-uncased\n",
      "Model loaded from ./ckpt/groundingdino_swint_ogc.pth \n",
      " => _IncompatibleKeys(missing_keys=[], unexpected_keys=['label_enc.weight', 'bert.embeddings.position_ids'])\n",
      "SegTracker has been initialized\n",
      "processed frame 22, obj_num 0\r"
     ]
    },
    {
     "name": "stderr",
     "output_type": "stream",
     "text": [
      "Num: 19, count for 'cup': 0.0, prompt: @fatman2021b Prompt: Old Orthodox In the forefront of the artwork, a detailed portrayal of an Old Orthodox diagram by György Rózsahegyi lies on a table. Accompanying it are an aged photobook and a front label designed in the captivating style of folk art.  Central to the piece is a luminous humanoid figure, its intricate features and radiant motifs captivating the observer's gaze. Encircled by celestial dust and planets, it exudes the impression of soaring through the cosmos.  Foreground figures don biblical attire, their outstretched palms emanating a palpable aura of sanctified might. The handcrafted ivory sculptures upon the altar exude an air of ancient grandeur, while the sacred cup of understanding shrouds itself in spiritual enigma.  Doughnuts arrayed upon a wooden table in the backdrop present an artistic arrangement, their delectable visage evoking a sense of opulent indulgence. A Romanesque painting on the wall injects an essence of bygone history, while crimson fluid upon church walls evokes visceral passion and turmoil.  A Qajar painting in the distance lends a medieval opulence to the scene, while an Ethiopian woodcut exudes an aura of exotic mystique. The Old Orthodox diagram, a focal point on the foreground table, cloaks itself in esoteric intrigue, complemented by the vintage photobook and front label which breathe forth nostalgia and chronicles of yore.  Author: @fatman2021b (edited), path: /apdcephfs_cq3/share_1290939/shadowcun/evals_dev/pikavideos/prompts/Old_Orthodox_In_the_forefront_of_the_artwork_a_detailed_portrayal_of_an_Old_Orthodox_diagram_by_Gy__seed18206250958877586897.txt\n",
      "2023-08-23 18:32:21 Num: 19, count for 'cup': 0.0, prompt: @fatman2021b Prompt: Old Orthodox In the forefront of the artwork, a detailed portrayal of an Old Orthodox diagram by György Rózsahegyi lies on a table. Accompanying it are an aged photobook and a front label designed in the captivating style of folk art.  Central to the piece is a luminous humanoid figure, its intricate features and radiant motifs captivating the observer's gaze. Encircled by celestial dust and planets, it exudes the impression of soaring through the cosmos.  Foreground figures don biblical attire, their outstretched palms emanating a palpable aura of sanctified might. The handcrafted ivory sculptures upon the altar exude an air of ancient grandeur, while the sacred cup of understanding shrouds itself in spiritual enigma.  Doughnuts arrayed upon a wooden table in the backdrop present an artistic arrangement, their delectable visage evoking a sense of opulent indulgence. A Romanesque painting on the wall injects an essence of bygone history, while crimson fluid upon church walls evokes visceral passion and turmoil.  A Qajar painting in the distance lends a medieval opulence to the scene, while an Ethiopian woodcut exudes an aura of exotic mystique. The Old Orthodox diagram, a focal point on the foreground table, cloaks itself in esoteric intrigue, complemented by the vintage photobook and front label which breathe forth nostalgia and chronicles of yore.  Author: @fatman2021b (edited), path: /apdcephfs_cq3/share_1290939/shadowcun/evals_dev/pikavideos/prompts/Old_Orthodox_In_the_forefront_of_the_artwork_a_detailed_portrayal_of_an_Old_Orthodox_diagram_by_Gy__seed18206250958877586897.txt\n"
     ]
    },
    {
     "name": "stdout",
     "output_type": "stream",
     "text": [
      "processed frame 23, obj_num 0\n",
      "finished\n",
      "Directory created: ./pikavideos/skateboard/masks\n",
      "Directory created: ./pikavideos/skateboard/mask_video\n",
      "Directory created: ./pikavideos/skateboard/mask_gif\n",
      "final text_encoder_type: bert-base-uncased\n",
      "Model loaded from ./ckpt/groundingdino_swint_ogc.pth \n",
      " => _IncompatibleKeys(missing_keys=[], unexpected_keys=['label_enc.weight', 'bert.embeddings.position_ids'])\n",
      "SegTracker has been initialized\n",
      "processed frame 22, obj_num 0\r"
     ]
    },
    {
     "name": "stderr",
     "output_type": "stream",
     "text": [
      "Num: 19, count for 'skateboard': 0.0, prompt: @EgorKuzminXR Prompt: Jet Set Radio Live - Action: A young queer asian female running away, pursuit, gigantic city, futuristic buildings, retrofuturistic aesthetic, street photography, high angle, perspective, clear blue sky, graffitis japanese punk fashion, y2k, urban magazine cover photography, action pose, 35mm film, medium format, shot on Olympus OM10, Kodak Gold 200, ultracolor, pop, ultra wide shot, 24mm lens, cinematic lighting, energetic, speed, bright colors, saturated colors, realistic faces, lens flares, light leaks, motion blur, directional blur, action shot, in movement, y2k aesthetic, fisheye photography, sport photography, skateboard magazine photography, trasher magazine, carhartt, stuasy, ultra detailed face, epic compoaition and lighting, accurate human face, hyper realistic, shadows, 8k  Author: @EgorKuzminXR, path: /apdcephfs_cq3/share_1290939/shadowcun/evals_dev/pikavideos/prompts/Jet_Set_Radio_Live_-_Action__A_young_queer_asian_female_running_away_pursuit_gigantic_city_futuri_seed5409927364861403692.txt\n",
      "2023-08-23 18:32:30 Num: 19, count for 'skateboard': 0.0, prompt: @EgorKuzminXR Prompt: Jet Set Radio Live - Action: A young queer asian female running away, pursuit, gigantic city, futuristic buildings, retrofuturistic aesthetic, street photography, high angle, perspective, clear blue sky, graffitis japanese punk fashion, y2k, urban magazine cover photography, action pose, 35mm film, medium format, shot on Olympus OM10, Kodak Gold 200, ultracolor, pop, ultra wide shot, 24mm lens, cinematic lighting, energetic, speed, bright colors, saturated colors, realistic faces, lens flares, light leaks, motion blur, directional blur, action shot, in movement, y2k aesthetic, fisheye photography, sport photography, skateboard magazine photography, trasher magazine, carhartt, stuasy, ultra detailed face, epic compoaition and lighting, accurate human face, hyper realistic, shadows, 8k  Author: @EgorKuzminXR, path: /apdcephfs_cq3/share_1290939/shadowcun/evals_dev/pikavideos/prompts/Jet_Set_Radio_Live_-_Action__A_young_queer_asian_female_running_away_pursuit_gigantic_city_futuri_seed5409927364861403692.txt\n"
     ]
    },
    {
     "name": "stdout",
     "output_type": "stream",
     "text": [
      "processed frame 23, obj_num 0\n",
      "finished\n",
      "Directory already exists: ./pikavideos/motorcycle/masks\n",
      "Directory already exists: ./pikavideos/motorcycle/mask_video\n",
      "Directory already exists: ./pikavideos/motorcycle/mask_gif\n",
      "final text_encoder_type: bert-base-uncased\n",
      "Model loaded from ./ckpt/groundingdino_swint_ogc.pth \n",
      " => _IncompatibleKeys(missing_keys=[], unexpected_keys=['label_enc.weight', 'bert.embeddings.position_ids'])\n",
      "SegTracker has been initialized\n",
      "processed frame 22, obj_num 2\r"
     ]
    },
    {
     "name": "stderr",
     "output_type": "stream",
     "text": [
      "Num: 20, count for 'motorcycle': 2.0, prompt: @bartwhite Prompt: [two beautiful girls riding bmw motorcycles towards camera, sunset, highly detailed, 4k]  Author: @bartwhite, path: /apdcephfs_cq3/share_1290939/shadowcun/evals_dev/pikavideos/prompts/two_beautiful_girls_riding_bmw_motorcycles_towards_camera_sunset_highly_detailed_4k_.txt\n",
      "2023-08-23 18:32:41 Num: 20, count for 'motorcycle': 2.0, prompt: @bartwhite Prompt: [two beautiful girls riding bmw motorcycles towards camera, sunset, highly detailed, 4k]  Author: @bartwhite, path: /apdcephfs_cq3/share_1290939/shadowcun/evals_dev/pikavideos/prompts/two_beautiful_girls_riding_bmw_motorcycles_towards_camera_sunset_highly_detailed_4k_.txt\n"
     ]
    },
    {
     "name": "stdout",
     "output_type": "stream",
     "text": [
      "processed frame 23, obj_num 2\n",
      "finished\n",
      "Directory already exists: ./pikavideos/car/masks\n",
      "Directory already exists: ./pikavideos/car/mask_video\n",
      "Directory already exists: ./pikavideos/car/mask_gif\n",
      "final text_encoder_type: bert-base-uncased\n",
      "Model loaded from ./ckpt/groundingdino_swint_ogc.pth \n",
      " => _IncompatibleKeys(missing_keys=[], unexpected_keys=['label_enc.weight', 'bert.embeddings.position_ids'])\n",
      "SegTracker has been initialized\n",
      "processed frame 22, obj_num 1\r"
     ]
    },
    {
     "name": "stderr",
     "output_type": "stream",
     "text": [
      "Num: 21, count for 'car': 1.0, prompt: @fabioibaf77 Prompt: running car,  Image: 1 Attachment  Author: @fabioibaf77, path: /apdcephfs_cq3/share_1290939/shadowcun/evals_dev/pikavideos/prompts/running_car__Image__1_Attachment_seed16291816182876704188.txt\n",
      "2023-08-23 18:32:51 Num: 21, count for 'car': 1.0, prompt: @fabioibaf77 Prompt: running car,  Image: 1 Attachment  Author: @fabioibaf77, path: /apdcephfs_cq3/share_1290939/shadowcun/evals_dev/pikavideos/prompts/running_car__Image__1_Attachment_seed16291816182876704188.txt\n"
     ]
    },
    {
     "name": "stdout",
     "output_type": "stream",
     "text": [
      "processed frame 23, obj_num 1\n",
      "finished\n",
      "Directory created: ./pikavideos/boat/masks\n",
      "Directory created: ./pikavideos/boat/mask_video\n",
      "Directory created: ./pikavideos/boat/mask_gif\n",
      "final text_encoder_type: bert-base-uncased\n",
      "Model loaded from ./ckpt/groundingdino_swint_ogc.pth \n",
      " => _IncompatibleKeys(missing_keys=[], unexpected_keys=['label_enc.weight', 'bert.embeddings.position_ids'])\n",
      "SegTracker has been initialized\n",
      "processed frame 22, obj_num 0\r"
     ]
    },
    {
     "name": "stderr",
     "output_type": "stream",
     "text": [
      "Num: 21, count for 'boat': 0.0, prompt: @Ludwig Prompt: A  huge wave crashes over  someone in a boat with big impact causing splashes and foam, during a Sea Storm -gs 16  Author: @Ludwig, path: /apdcephfs_cq3/share_1290939/shadowcun/evals_dev/pikavideos/prompts/A__huge_wave_crashes_over__someone_in_a_boat_with_big_impact_causing_splashes_and_foam_during_a_Sea_seed18221540687598314611.txt\n",
      "2023-08-23 18:33:00 Num: 21, count for 'boat': 0.0, prompt: @Ludwig Prompt: A  huge wave crashes over  someone in a boat with big impact causing splashes and foam, during a Sea Storm -gs 16  Author: @Ludwig, path: /apdcephfs_cq3/share_1290939/shadowcun/evals_dev/pikavideos/prompts/A__huge_wave_crashes_over__someone_in_a_boat_with_big_impact_causing_splashes_and_foam_during_a_Sea_seed18221540687598314611.txt\n"
     ]
    },
    {
     "name": "stdout",
     "output_type": "stream",
     "text": [
      "processed frame 23, obj_num 0\n",
      "finished\n",
      "Directory created: ./pikavideos/carrot/masks\n",
      "Directory created: ./pikavideos/carrot/mask_video\n",
      "Directory created: ./pikavideos/carrot/mask_gif\n",
      "final text_encoder_type: bert-base-uncased\n",
      "Model loaded from ./ckpt/groundingdino_swint_ogc.pth \n",
      " => _IncompatibleKeys(missing_keys=[], unexpected_keys=['label_enc.weight', 'bert.embeddings.position_ids'])\n",
      "SegTracker has been initialized\n",
      "processed frame 22, obj_num 1\r"
     ]
    },
    {
     "name": "stderr",
     "output_type": "stream",
     "text": [
      "Num: 22, count for 'carrot': 1.0, prompt: @Teku Prompt: tony bennett singing into a carrot  Author: @Teku, path: /apdcephfs_cq3/share_1290939/shadowcun/evals_dev/pikavideos/prompts/tony_bennett_singing_into_a_carrot_seed660264354434429598.txt\n",
      "2023-08-23 18:33:11 Num: 22, count for 'carrot': 1.0, prompt: @Teku Prompt: tony bennett singing into a carrot  Author: @Teku, path: /apdcephfs_cq3/share_1290939/shadowcun/evals_dev/pikavideos/prompts/tony_bennett_singing_into_a_carrot_seed660264354434429598.txt\n"
     ]
    },
    {
     "name": "stdout",
     "output_type": "stream",
     "text": [
      "processed frame 23, obj_num 1\n",
      "finished\n",
      "Directory already exists: ./pikavideos/skateboard/masks\n",
      "Directory already exists: ./pikavideos/skateboard/mask_video\n",
      "Directory already exists: ./pikavideos/skateboard/mask_gif\n",
      "final text_encoder_type: bert-base-uncased\n",
      "Model loaded from ./ckpt/groundingdino_swint_ogc.pth \n",
      " => _IncompatibleKeys(missing_keys=[], unexpected_keys=['label_enc.weight', 'bert.embeddings.position_ids'])\n",
      "SegTracker has been initialized\n",
      "processed frame 22, obj_num 0\r"
     ]
    },
    {
     "name": "stderr",
     "output_type": "stream",
     "text": [
      "Num: 22, count for 'skateboard': 0.0, prompt: @Northernator Prompt: photorealistic a man kickfliping a skateboard,in a city,wideshot,motion/2, ar- 16:9  Author: @Northernator, path: /apdcephfs_cq3/share_1290939/shadowcun/evals_dev/pikavideos/prompts/photorealistic_a_man_kickfliping_a_skateboardin_a_citywideshotmotion_2_ar-_16_9_seed10678493263606233142.txt\n",
      "2023-08-23 18:33:21 Num: 22, count for 'skateboard': 0.0, prompt: @Northernator Prompt: photorealistic a man kickfliping a skateboard,in a city,wideshot,motion/2, ar- 16:9  Author: @Northernator, path: /apdcephfs_cq3/share_1290939/shadowcun/evals_dev/pikavideos/prompts/photorealistic_a_man_kickfliping_a_skateboardin_a_citywideshotmotion_2_ar-_16_9_seed10678493263606233142.txt\n"
     ]
    },
    {
     "name": "stdout",
     "output_type": "stream",
     "text": [
      "processed frame 23, obj_num 0\n",
      "finished\n",
      "Directory already exists: ./pikavideos/laptop/masks\n",
      "Directory already exists: ./pikavideos/laptop/mask_video\n",
      "Directory already exists: ./pikavideos/laptop/mask_gif\n",
      "final text_encoder_type: bert-base-uncased\n",
      "Model loaded from ./ckpt/groundingdino_swint_ogc.pth \n",
      " => _IncompatibleKeys(missing_keys=[], unexpected_keys=['label_enc.weight', 'bert.embeddings.position_ids'])\n",
      "SegTracker has been initialized\n",
      "processed frame 22, obj_num 1\r"
     ]
    },
    {
     "name": "stderr",
     "output_type": "stream",
     "text": [
      "Num: 23, count for 'laptop': 1.0, prompt: @Riobel Prompt: girl looking at her laptop, raw video, real life resolution, leg motion 0.8, motions 1.0, hair motions 0.8, eye motion 0.5, professional color grading  Image: 1 Attachment  Author: @Riobel, path: /apdcephfs_cq3/share_1290939/shadowcun/evals_dev/pikavideos/prompts/girl_looking_at_her_laptop_raw_video_real_life_resolution_leg_motion_0.8_motions_1.0_hair_motio_seed11656602751259620654.txt\n",
      "2023-08-23 18:33:31 Num: 23, count for 'laptop': 1.0, prompt: @Riobel Prompt: girl looking at her laptop, raw video, real life resolution, leg motion 0.8, motions 1.0, hair motions 0.8, eye motion 0.5, professional color grading  Image: 1 Attachment  Author: @Riobel, path: /apdcephfs_cq3/share_1290939/shadowcun/evals_dev/pikavideos/prompts/girl_looking_at_her_laptop_raw_video_real_life_resolution_leg_motion_0.8_motions_1.0_hair_motio_seed11656602751259620654.txt\n"
     ]
    },
    {
     "name": "stdout",
     "output_type": "stream",
     "text": [
      "processed frame 23, obj_num 1\n",
      "finished\n",
      "Directory already exists: ./pikavideos/cat/masks\n",
      "Directory already exists: ./pikavideos/cat/mask_video\n",
      "Directory already exists: ./pikavideos/cat/mask_gif\n",
      "final text_encoder_type: bert-base-uncased\n",
      "Model loaded from ./ckpt/groundingdino_swint_ogc.pth \n",
      " => _IncompatibleKeys(missing_keys=[], unexpected_keys=['label_enc.weight', 'bert.embeddings.position_ids'])\n",
      "SegTracker has been initialized\n",
      "processed frame 22, obj_num 0\r"
     ]
    },
    {
     "name": "stderr",
     "output_type": "stream",
     "text": [
      "Num: 23, count for 'cat': 0.0, prompt: @robowcz Prompt: cat on branch  Author: @robowcz, path: /apdcephfs_cq3/share_1290939/shadowcun/evals_dev/pikavideos/prompts/cat_on_branch_seed7279869124052098032.txt\n",
      "2023-08-23 18:33:41 Num: 23, count for 'cat': 0.0, prompt: @robowcz Prompt: cat on branch  Author: @robowcz, path: /apdcephfs_cq3/share_1290939/shadowcun/evals_dev/pikavideos/prompts/cat_on_branch_seed7279869124052098032.txt\n"
     ]
    },
    {
     "name": "stdout",
     "output_type": "stream",
     "text": [
      "processed frame 23, obj_num 0\n",
      "finished\n",
      "Directory already exists: ./pikavideos/bench/masks\n",
      "Directory already exists: ./pikavideos/bench/mask_video\n",
      "Directory already exists: ./pikavideos/bench/mask_gif\n",
      "final text_encoder_type: bert-base-uncased\n",
      "Model loaded from ./ckpt/groundingdino_swint_ogc.pth \n",
      " => _IncompatibleKeys(missing_keys=[], unexpected_keys=['label_enc.weight', 'bert.embeddings.position_ids'])\n",
      "SegTracker has been initialized\n",
      "processed frame 22, obj_num 0\r"
     ]
    },
    {
     "name": "stderr",
     "output_type": "stream",
     "text": [
      "Num: 23, count for 'bench': 0.0, prompt: @sanzeN Prompt: a blond woman sitting on a bench hair gently blowing in the breez  Author: @sanzeN, path: /apdcephfs_cq3/share_1290939/shadowcun/evals_dev/pikavideos/prompts/a_blond_woman_sitting_on_a_bench_hair_gently_blowing_in_the_breez_seed15177291097020419879.txt\n",
      "2023-08-23 18:33:51 Num: 23, count for 'bench': 0.0, prompt: @sanzeN Prompt: a blond woman sitting on a bench hair gently blowing in the breez  Author: @sanzeN, path: /apdcephfs_cq3/share_1290939/shadowcun/evals_dev/pikavideos/prompts/a_blond_woman_sitting_on_a_bench_hair_gently_blowing_in_the_breez_seed15177291097020419879.txt\n"
     ]
    },
    {
     "name": "stdout",
     "output_type": "stream",
     "text": [
      "processed frame 23, obj_num 0\n",
      "finished\n",
      "Directory created: ./pikavideos/truck/masks\n",
      "Directory created: ./pikavideos/truck/mask_video\n",
      "Directory created: ./pikavideos/truck/mask_gif\n",
      "final text_encoder_type: bert-base-uncased\n",
      "Model loaded from ./ckpt/groundingdino_swint_ogc.pth \n",
      " => _IncompatibleKeys(missing_keys=[], unexpected_keys=['label_enc.weight', 'bert.embeddings.position_ids'])\n",
      "SegTracker has been initialized\n",
      "processed frame 22, obj_num 1\r"
     ]
    },
    {
     "name": "stderr",
     "output_type": "stream",
     "text": [
      "Num: 24, count for 'truck': 1.0, prompt: @Z-Man Prompt: truck arriving at old gas station in the rainy desert  Image: 1 Attachment  Author: @Z-Man, path: /apdcephfs_cq3/share_1290939/shadowcun/evals_dev/pikavideos/prompts/truck_arriving_at_old_gas_station_in_the_rainy_desert__Image__1_Attachment_seed8940693317537364979.txt\n",
      "2023-08-23 18:34:01 Num: 24, count for 'truck': 1.0, prompt: @Z-Man Prompt: truck arriving at old gas station in the rainy desert  Image: 1 Attachment  Author: @Z-Man, path: /apdcephfs_cq3/share_1290939/shadowcun/evals_dev/pikavideos/prompts/truck_arriving_at_old_gas_station_in_the_rainy_desert__Image__1_Attachment_seed8940693317537364979.txt\n"
     ]
    },
    {
     "name": "stdout",
     "output_type": "stream",
     "text": [
      "processed frame 23, obj_num 1\n",
      "finished\n",
      "Directory already exists: ./pikavideos/cat/masks\n",
      "Directory already exists: ./pikavideos/cat/mask_video\n",
      "Directory already exists: ./pikavideos/cat/mask_gif\n",
      "final text_encoder_type: bert-base-uncased\n",
      "Model loaded from ./ckpt/groundingdino_swint_ogc.pth \n",
      " => _IncompatibleKeys(missing_keys=[], unexpected_keys=['label_enc.weight', 'bert.embeddings.position_ids'])\n",
      "SegTracker has been initialized\n",
      "processed frame 22, obj_num 0\r"
     ]
    },
    {
     "name": "stderr",
     "output_type": "stream",
     "text": [
      "Num: 24, count for 'cat': 0.0, prompt: @Biroel do Borel Prompt: Animate the image emphasizing a natural and subtle movement of the main element, make the cat close its eyes and make the ear move  Image: 1 Attachment  Author: @Biroel do Borel, path: /apdcephfs_cq3/share_1290939/shadowcun/evals_dev/pikavideos/prompts/Animate_the_image_emphasizing_a_natural_and_subtle_movement_of_the_main_element_make_the_cat_close__seed8652542625172062113.txt\n",
      "2023-08-23 18:34:12 Num: 24, count for 'cat': 0.0, prompt: @Biroel do Borel Prompt: Animate the image emphasizing a natural and subtle movement of the main element, make the cat close its eyes and make the ear move  Image: 1 Attachment  Author: @Biroel do Borel, path: /apdcephfs_cq3/share_1290939/shadowcun/evals_dev/pikavideos/prompts/Animate_the_image_emphasizing_a_natural_and_subtle_movement_of_the_main_element_make_the_cat_close__seed8652542625172062113.txt\n"
     ]
    },
    {
     "name": "stdout",
     "output_type": "stream",
     "text": [
      "processed frame 23, obj_num 0\n",
      "finished\n",
      "Directory created: ./pikavideos/bear/masks\n",
      "Directory created: ./pikavideos/bear/mask_video\n",
      "Directory created: ./pikavideos/bear/mask_gif\n",
      "final text_encoder_type: bert-base-uncased\n",
      "Model loaded from ./ckpt/groundingdino_swint_ogc.pth \n",
      " => _IncompatibleKeys(missing_keys=[], unexpected_keys=['label_enc.weight', 'bert.embeddings.position_ids'])\n",
      "SegTracker has been initialized\n",
      "processed frame 22, obj_num 0\r"
     ]
    },
    {
     "name": "stderr",
     "output_type": "stream",
     "text": [
      "Num: 24, count for 'bear': 0.0, prompt: @Scribble Jim Prompt: teddy bear hugging a rabbit plushie  Author: @Scribble Jim, path: /apdcephfs_cq3/share_1290939/shadowcun/evals_dev/pikavideos/prompts/teddy_bear_hugging_a_rabbit_plushie_seed2446961697251642049.txt\n",
      "2023-08-23 18:34:22 Num: 24, count for 'bear': 0.0, prompt: @Scribble Jim Prompt: teddy bear hugging a rabbit plushie  Author: @Scribble Jim, path: /apdcephfs_cq3/share_1290939/shadowcun/evals_dev/pikavideos/prompts/teddy_bear_hugging_a_rabbit_plushie_seed2446961697251642049.txt\n"
     ]
    },
    {
     "name": "stdout",
     "output_type": "stream",
     "text": [
      "processed frame 23, obj_num 0\n",
      "finished\n",
      "Directory created: ./pikavideos/teddy bear/masks\n",
      "Directory created: ./pikavideos/teddy bear/mask_video\n",
      "Directory created: ./pikavideos/teddy bear/mask_gif\n",
      "final text_encoder_type: bert-base-uncased\n",
      "Model loaded from ./ckpt/groundingdino_swint_ogc.pth \n",
      " => _IncompatibleKeys(missing_keys=[], unexpected_keys=['label_enc.weight', 'bert.embeddings.position_ids'])\n",
      "SegTracker has been initialized\n",
      "processed frame 22, obj_num 0\r"
     ]
    },
    {
     "name": "stderr",
     "output_type": "stream",
     "text": [
      "Num: 24, count for 'teddy bear': 0.0, prompt: @Scribble Jim Prompt: teddy bear hugging a rabbit plushie  Author: @Scribble Jim, path: /apdcephfs_cq3/share_1290939/shadowcun/evals_dev/pikavideos/prompts/teddy_bear_hugging_a_rabbit_plushie_seed2446961697251642049.txt\n",
      "2023-08-23 18:34:31 Num: 24, count for 'teddy bear': 0.0, prompt: @Scribble Jim Prompt: teddy bear hugging a rabbit plushie  Author: @Scribble Jim, path: /apdcephfs_cq3/share_1290939/shadowcun/evals_dev/pikavideos/prompts/teddy_bear_hugging_a_rabbit_plushie_seed2446961697251642049.txt\n"
     ]
    },
    {
     "name": "stdout",
     "output_type": "stream",
     "text": [
      "processed frame 23, obj_num 0\n",
      "finished\n",
      "Directory created: ./pikavideos/train/masks\n",
      "Directory created: ./pikavideos/train/mask_video\n",
      "Directory created: ./pikavideos/train/mask_gif\n",
      "final text_encoder_type: bert-base-uncased\n",
      "Model loaded from ./ckpt/groundingdino_swint_ogc.pth \n",
      " => _IncompatibleKeys(missing_keys=[], unexpected_keys=['label_enc.weight', 'bert.embeddings.position_ids'])\n",
      "SegTracker has been initialized\n",
      "processed frame 22, obj_num 1\r"
     ]
    },
    {
     "name": "stderr",
     "output_type": "stream",
     "text": [
      "Num: 25, count for 'train': 1.0, prompt: @Sparky60 Prompt: train and station  Image: 1 Attachment  Author: @Sparky60, path: /apdcephfs_cq3/share_1290939/shadowcun/evals_dev/pikavideos/prompts/train_and_station__Image__1_Attachment_seed11346332606250766129.txt\n",
      "2023-08-23 18:34:41 Num: 25, count for 'train': 1.0, prompt: @Sparky60 Prompt: train and station  Image: 1 Attachment  Author: @Sparky60, path: /apdcephfs_cq3/share_1290939/shadowcun/evals_dev/pikavideos/prompts/train_and_station__Image__1_Attachment_seed11346332606250766129.txt\n"
     ]
    },
    {
     "name": "stdout",
     "output_type": "stream",
     "text": [
      "processed frame 23, obj_num 1\n",
      "finished\n",
      "Directory created: ./pikavideos/cow/masks\n",
      "Directory created: ./pikavideos/cow/mask_video\n",
      "Directory created: ./pikavideos/cow/mask_gif\n",
      "final text_encoder_type: bert-base-uncased\n",
      "Model loaded from ./ckpt/groundingdino_swint_ogc.pth \n",
      " => _IncompatibleKeys(missing_keys=[], unexpected_keys=['label_enc.weight', 'bert.embeddings.position_ids'])\n",
      "SegTracker has been initialized\n",
      "processed frame 22, obj_num 0\r"
     ]
    },
    {
     "name": "stderr",
     "output_type": "stream",
     "text": [
      "Num: 25, count for 'cow': 0.0, prompt: @SamTuck liked a video of @moo cow. (Prompt: goblin girl dancing at the underground punk concert, vhs, strobes  Image: 1 Attachment  Author: @SamTuck), path: /apdcephfs_cq3/share_1290939/shadowcun/evals_dev/pikavideos/prompts/goblin_girl_dancing_at_the_underground_punk_concert_vhs_strobes__Image__1_Attachment_seed1476467712809461215.txt\n",
      "2023-08-23 18:34:52 Num: 25, count for 'cow': 0.0, prompt: @SamTuck liked a video of @moo cow. (Prompt: goblin girl dancing at the underground punk concert, vhs, strobes  Image: 1 Attachment  Author: @SamTuck), path: /apdcephfs_cq3/share_1290939/shadowcun/evals_dev/pikavideos/prompts/goblin_girl_dancing_at_the_underground_punk_concert_vhs_strobes__Image__1_Attachment_seed1476467712809461215.txt\n"
     ]
    },
    {
     "name": "stdout",
     "output_type": "stream",
     "text": [
      "processed frame 23, obj_num 0\n",
      "finished\n",
      "Directory already exists: ./pikavideos/cow/masks\n",
      "Directory already exists: ./pikavideos/cow/mask_video\n",
      "Directory already exists: ./pikavideos/cow/mask_gif\n",
      "final text_encoder_type: bert-base-uncased\n",
      "Model loaded from ./ckpt/groundingdino_swint_ogc.pth \n",
      " => _IncompatibleKeys(missing_keys=[], unexpected_keys=['label_enc.weight', 'bert.embeddings.position_ids'])\n",
      "SegTracker has been initialized\n",
      "processed frame 22, obj_num 1\r"
     ]
    },
    {
     "name": "stderr",
     "output_type": "stream",
     "text": [
      "Num: 26, count for 'cow': 0.875, prompt: Logo Concept: [Incorporate a cow or cow's head silhouette to symbolize dairy products; use natural elements like leaves or grass to represent freshness and organic nature; keep the design simple yet impactful]  Author: @pandak_kungfu, path: /apdcephfs_cq3/share_1290939/shadowcun/evals_dev/pikavideos/prompts/Title__Vedic_Dairy_Logo_Design__Description___Create_a_logo_that_represents_the_essence_of_Vedic_Da_seed5677761445415260951.txt\n",
      "2023-08-23 18:35:02 Num: 26, count for 'cow': 0.875, prompt: Logo Concept: [Incorporate a cow or cow's head silhouette to symbolize dairy products; use natural elements like leaves or grass to represent freshness and organic nature; keep the design simple yet impactful]  Author: @pandak_kungfu, path: /apdcephfs_cq3/share_1290939/shadowcun/evals_dev/pikavideos/prompts/Title__Vedic_Dairy_Logo_Design__Description___Create_a_logo_that_represents_the_essence_of_Vedic_Da_seed5677761445415260951.txt\n"
     ]
    },
    {
     "name": "stdout",
     "output_type": "stream",
     "text": [
      "processed frame 23, obj_num 1\n",
      "finished\n",
      "Directory already exists: ./pikavideos/airplane/masks\n",
      "Directory already exists: ./pikavideos/airplane/mask_video\n",
      "Directory already exists: ./pikavideos/airplane/mask_gif\n",
      "final text_encoder_type: bert-base-uncased\n",
      "Model loaded from ./ckpt/groundingdino_swint_ogc.pth \n",
      " => _IncompatibleKeys(missing_keys=[], unexpected_keys=['label_enc.weight', 'bert.embeddings.position_ids'])\n",
      "SegTracker has been initialized\n",
      "processed frame 22, obj_num 1\r"
     ]
    },
    {
     "name": "stderr",
     "output_type": "stream",
     "text": [
      "Num: 27, count for 'airplane': 1.0, prompt: @ALDS Prompt: a airplane flying . At the background some moutains and an ocean  Author: @ALDS, path: /apdcephfs_cq3/share_1290939/shadowcun/evals_dev/pikavideos/prompts/a_airplane_flying_._At_the_background_some_moutains_and_an_ocean_seed6646575126612053743.txt\n",
      "2023-08-23 18:35:12 Num: 27, count for 'airplane': 1.0, prompt: @ALDS Prompt: a airplane flying . At the background some moutains and an ocean  Author: @ALDS, path: /apdcephfs_cq3/share_1290939/shadowcun/evals_dev/pikavideos/prompts/a_airplane_flying_._At_the_background_some_moutains_and_an_ocean_seed6646575126612053743.txt\n"
     ]
    },
    {
     "name": "stdout",
     "output_type": "stream",
     "text": [
      "processed frame 23, obj_num 1\n",
      "finished\n",
      "Directory already exists: ./pikavideos/cat/masks\n",
      "Directory already exists: ./pikavideos/cat/mask_video\n",
      "Directory already exists: ./pikavideos/cat/mask_gif\n",
      "final text_encoder_type: bert-base-uncased\n",
      "Model loaded from ./ckpt/groundingdino_swint_ogc.pth \n",
      " => _IncompatibleKeys(missing_keys=[], unexpected_keys=['label_enc.weight', 'bert.embeddings.position_ids'])\n",
      "SegTracker has been initialized\n",
      "processed frame 22, obj_num 0\r"
     ]
    },
    {
     "name": "stderr",
     "output_type": "stream",
     "text": [
      "Num: 27, count for 'cat': 0.0, prompt: @Artvispak Prompt: Thunder cats liono taking out his sword, waving the sword, hair flowing, photo realistic, 4k,  Author: @Artvispak, path: /apdcephfs_cq3/share_1290939/shadowcun/evals_dev/pikavideos/prompts/Thunder_cats_liono_taking_out_his_sword_waving_the_sword_hair_flowing_photo_realistic_4k.txt\n",
      "2023-08-23 18:35:22 Num: 27, count for 'cat': 0.0, prompt: @Artvispak Prompt: Thunder cats liono taking out his sword, waving the sword, hair flowing, photo realistic, 4k,  Author: @Artvispak, path: /apdcephfs_cq3/share_1290939/shadowcun/evals_dev/pikavideos/prompts/Thunder_cats_liono_taking_out_his_sword_waving_the_sword_hair_flowing_photo_realistic_4k.txt\n"
     ]
    },
    {
     "name": "stdout",
     "output_type": "stream",
     "text": [
      "processed frame 23, obj_num 0\n",
      "finished\n",
      "Directory already exists: ./pikavideos/bear/masks\n",
      "Directory already exists: ./pikavideos/bear/mask_video\n",
      "Directory already exists: ./pikavideos/bear/mask_gif\n",
      "final text_encoder_type: bert-base-uncased\n",
      "Model loaded from ./ckpt/groundingdino_swint_ogc.pth \n",
      " => _IncompatibleKeys(missing_keys=[], unexpected_keys=['label_enc.weight', 'bert.embeddings.position_ids'])\n",
      "SegTracker has been initialized\n",
      "processed frame 22, obj_num 1\r"
     ]
    },
    {
     "name": "stderr",
     "output_type": "stream",
     "text": [
      "Num: 28, count for 'bear': 1.0, prompt: Pika BOT 07/30/2023 5:13 PM@Mw Prompt: : cute fluffy small bear walking along a golden  beach, the beach is next to the jungle,  16k photorealistic pixar quality  -gs 12  Author: @Mw, path: /apdcephfs_cq3/share_1290939/shadowcun/evals_dev/pikavideos/prompts/cute_fluffy_small_bear_walking_along_a_golden__beach_the_beach_is_next_to_the_jungle__16k_photor_seed12498831683040525516.txt\n",
      "2023-08-23 18:35:32 Num: 28, count for 'bear': 1.0, prompt: Pika BOT 07/30/2023 5:13 PM@Mw Prompt: : cute fluffy small bear walking along a golden  beach, the beach is next to the jungle,  16k photorealistic pixar quality  -gs 12  Author: @Mw, path: /apdcephfs_cq3/share_1290939/shadowcun/evals_dev/pikavideos/prompts/cute_fluffy_small_bear_walking_along_a_golden__beach_the_beach_is_next_to_the_jungle__16k_photor_seed12498831683040525516.txt\n"
     ]
    },
    {
     "name": "stdout",
     "output_type": "stream",
     "text": [
      "processed frame 23, obj_num 1\n",
      "finished\n",
      "Directory already exists: ./pikavideos/dog/masks\n",
      "Directory already exists: ./pikavideos/dog/mask_video\n",
      "Directory already exists: ./pikavideos/dog/mask_gif\n",
      "final text_encoder_type: bert-base-uncased\n",
      "Model loaded from ./ckpt/groundingdino_swint_ogc.pth \n",
      " => _IncompatibleKeys(missing_keys=[], unexpected_keys=['label_enc.weight', 'bert.embeddings.position_ids'])\n",
      "SegTracker has been initialized\n",
      "processed frame 22, obj_num 1\r"
     ]
    },
    {
     "name": "stderr",
     "output_type": "stream",
     "text": [
      "Num: 29, count for 'dog': 1.0, prompt: @けんさく(kensaku) Prompt: dog surfing moment  Image: 1 Attachment  Author: @けんさく(kensaku), path: /apdcephfs_cq3/share_1290939/shadowcun/evals_dev/pikavideos/prompts/dog_surfing_moment__Image__1_Attachment_seed1889703593918264318.txt\n",
      "2023-08-23 18:35:43 Num: 29, count for 'dog': 1.0, prompt: @けんさく(kensaku) Prompt: dog surfing moment  Image: 1 Attachment  Author: @けんさく(kensaku), path: /apdcephfs_cq3/share_1290939/shadowcun/evals_dev/pikavideos/prompts/dog_surfing_moment__Image__1_Attachment_seed1889703593918264318.txt\n"
     ]
    },
    {
     "name": "stdout",
     "output_type": "stream",
     "text": [
      "processed frame 23, obj_num 1\n",
      "finished\n",
      "Directory already exists: ./pikavideos/dog/masks\n",
      "Directory already exists: ./pikavideos/dog/mask_video\n",
      "Directory already exists: ./pikavideos/dog/mask_gif\n",
      "final text_encoder_type: bert-base-uncased\n",
      "Model loaded from ./ckpt/groundingdino_swint_ogc.pth \n",
      " => _IncompatibleKeys(missing_keys=[], unexpected_keys=['label_enc.weight', 'bert.embeddings.position_ids'])\n",
      "SegTracker has been initialized\n",
      "processed frame 22, obj_num 1\r"
     ]
    },
    {
     "name": "stderr",
     "output_type": "stream",
     "text": [
      "Num: 30, count for 'dog': 1.0, prompt: @Bobbert Prompt: dog walking to camera and licking  Author: @Bobbert, path: /apdcephfs_cq3/share_1290939/shadowcun/evals_dev/pikavideos/prompts/dog_walking_to_camera_and_licking_seed5295594750656886063.txt\n",
      "2023-08-23 18:35:53 Num: 30, count for 'dog': 1.0, prompt: @Bobbert Prompt: dog walking to camera and licking  Author: @Bobbert, path: /apdcephfs_cq3/share_1290939/shadowcun/evals_dev/pikavideos/prompts/dog_walking_to_camera_and_licking_seed5295594750656886063.txt\n"
     ]
    },
    {
     "name": "stdout",
     "output_type": "stream",
     "text": [
      "processed frame 23, obj_num 1\n",
      "finished\n",
      "Directory already exists: ./pikavideos/cat/masks\n",
      "Directory already exists: ./pikavideos/cat/mask_video\n",
      "Directory already exists: ./pikavideos/cat/mask_gif\n",
      "final text_encoder_type: bert-base-uncased\n",
      "Model loaded from ./ckpt/groundingdino_swint_ogc.pth \n",
      " => _IncompatibleKeys(missing_keys=[], unexpected_keys=['label_enc.weight', 'bert.embeddings.position_ids'])\n",
      "SegTracker has been initialized\n",
      "processed frame 22, obj_num 1\r"
     ]
    },
    {
     "name": "stderr",
     "output_type": "stream",
     "text": [
      "Num: 31, count for 'cat': 1.0, prompt: @tortiman Prompt: cat  Author: @tortiman, path: /apdcephfs_cq3/share_1290939/shadowcun/evals_dev/pikavideos/prompts/cat_seed8391520909023464416.txt\n",
      "2023-08-23 18:36:03 Num: 31, count for 'cat': 1.0, prompt: @tortiman Prompt: cat  Author: @tortiman, path: /apdcephfs_cq3/share_1290939/shadowcun/evals_dev/pikavideos/prompts/cat_seed8391520909023464416.txt\n"
     ]
    },
    {
     "name": "stdout",
     "output_type": "stream",
     "text": [
      "processed frame 23, obj_num 1\n",
      "finished\n",
      "Directory already exists: ./pikavideos/person/masks\n",
      "Directory already exists: ./pikavideos/person/mask_video\n",
      "Directory already exists: ./pikavideos/person/mask_gif\n",
      "final text_encoder_type: bert-base-uncased\n",
      "Model loaded from ./ckpt/groundingdino_swint_ogc.pth \n",
      " => _IncompatibleKeys(missing_keys=[], unexpected_keys=['label_enc.weight', 'bert.embeddings.position_ids'])\n",
      "SegTracker has been initialized\n",
      "processed frame 22, obj_num 1\r"
     ]
    },
    {
     "name": "stderr",
     "output_type": "stream",
     "text": [
      "Num: 32, count for 'person': 1.0, prompt: @Slider83 Prompt: A person walking away  Image: 1 Attachment  Author: @Slider83, path: /apdcephfs_cq3/share_1290939/shadowcun/evals_dev/pikavideos/prompts/A_person_walking_away__Image__1_Attachment_seed1269695338401791029.txt\n",
      "2023-08-23 18:36:14 Num: 32, count for 'person': 1.0, prompt: @Slider83 Prompt: A person walking away  Image: 1 Attachment  Author: @Slider83, path: /apdcephfs_cq3/share_1290939/shadowcun/evals_dev/pikavideos/prompts/A_person_walking_away__Image__1_Attachment_seed1269695338401791029.txt\n"
     ]
    },
    {
     "name": "stdout",
     "output_type": "stream",
     "text": [
      "processed frame 23, obj_num 1\n",
      "finished\n",
      "Directory already exists: ./pikavideos/person/masks\n",
      "Directory already exists: ./pikavideos/person/mask_video\n",
      "Directory already exists: ./pikavideos/person/mask_gif\n",
      "final text_encoder_type: bert-base-uncased\n",
      "Model loaded from ./ckpt/groundingdino_swint_ogc.pth \n",
      " => _IncompatibleKeys(missing_keys=[], unexpected_keys=['label_enc.weight', 'bert.embeddings.position_ids'])\n",
      "SegTracker has been initialized\n",
      "processed frame 22, obj_num 1\r"
     ]
    },
    {
     "name": "stderr",
     "output_type": "stream",
     "text": [
      "Num: 33, count for 'person': 1.0, prompt: @commedieu liked a video of @commedieu. (Prompt: person smiling and looking down, shy, nervous  Image: 1 Attachment  Author: @commedieu), path: /apdcephfs_cq3/share_1290939/shadowcun/evals_dev/pikavideos/prompts/person_smiling_and_looking_down_shy_nervous__Image__1_Attachment_seed3478096254944282588.txt\n",
      "2023-08-23 18:36:24 Num: 33, count for 'person': 1.0, prompt: @commedieu liked a video of @commedieu. (Prompt: person smiling and looking down, shy, nervous  Image: 1 Attachment  Author: @commedieu), path: /apdcephfs_cq3/share_1290939/shadowcun/evals_dev/pikavideos/prompts/person_smiling_and_looking_down_shy_nervous__Image__1_Attachment_seed3478096254944282588.txt\n"
     ]
    },
    {
     "name": "stdout",
     "output_type": "stream",
     "text": [
      "processed frame 23, obj_num 1\n",
      "finished\n",
      "Directory already exists: ./pikavideos/person/masks\n",
      "Directory already exists: ./pikavideos/person/mask_video\n",
      "Directory already exists: ./pikavideos/person/mask_gif\n",
      "final text_encoder_type: bert-base-uncased\n",
      "Model loaded from ./ckpt/groundingdino_swint_ogc.pth \n",
      " => _IncompatibleKeys(missing_keys=[], unexpected_keys=['label_enc.weight', 'bert.embeddings.position_ids'])\n",
      "SegTracker has been initialized\n",
      "processed frame 22, obj_num 1\r"
     ]
    },
    {
     "name": "stderr",
     "output_type": "stream",
     "text": [
      "Num: 34, count for 'person': 1.0, prompt: @Jagadnath Prompt: clouds moving as camera moves in and person shifting stance  Image: 1 Attachment  Author: @Jagadnath, path: /apdcephfs_cq3/share_1290939/shadowcun/evals_dev/pikavideos/prompts/clouds_moving_as_camera_moves_in_and_person_shifting_stance__Image__1_Attachment_seed17562932918334734321.txt\n",
      "2023-08-23 18:36:33 Num: 34, count for 'person': 1.0, prompt: @Jagadnath Prompt: clouds moving as camera moves in and person shifting stance  Image: 1 Attachment  Author: @Jagadnath, path: /apdcephfs_cq3/share_1290939/shadowcun/evals_dev/pikavideos/prompts/clouds_moving_as_camera_moves_in_and_person_shifting_stance__Image__1_Attachment_seed17562932918334734321.txt\n"
     ]
    },
    {
     "name": "stdout",
     "output_type": "stream",
     "text": [
      "processed frame 23, obj_num 1\n",
      "finished\n",
      "Directory already exists: ./pikavideos/person/masks\n",
      "Directory already exists: ./pikavideos/person/mask_video\n",
      "Directory already exists: ./pikavideos/person/mask_gif\n",
      "final text_encoder_type: bert-base-uncased\n",
      "Model loaded from ./ckpt/groundingdino_swint_ogc.pth \n",
      " => _IncompatibleKeys(missing_keys=[], unexpected_keys=['label_enc.weight', 'bert.embeddings.position_ids'])\n",
      "SegTracker has been initialized\n",
      "processed frame 22, obj_num 0\r"
     ]
    },
    {
     "name": "stderr",
     "output_type": "stream",
     "text": [
      "Num: 34, count for 'person': 0.0, prompt: @Barbara.Chira.ai.art Prompt: cinematic action scene, from the  live action movie, \"The Red Lotus,\"  closeup of person in red cloak working on an array of high-tech electronic computer devices, photorealistic film quality, directed by Zhang Yimou --ar 1:1  Author: @Barbara.Chira.ai.art, path: /apdcephfs_cq3/share_1290939/shadowcun/evals_dev/pikavideos/prompts/cinematic_action_scene_from_the__live_action_movie__The_Red_Lotus___closeup_of_person_in_red_cloa_seed6725289218061618916.txt\n",
      "2023-08-23 18:36:44 Num: 34, count for 'person': 0.0, prompt: @Barbara.Chira.ai.art Prompt: cinematic action scene, from the  live action movie, \"The Red Lotus,\"  closeup of person in red cloak working on an array of high-tech electronic computer devices, photorealistic film quality, directed by Zhang Yimou --ar 1:1  Author: @Barbara.Chira.ai.art, path: /apdcephfs_cq3/share_1290939/shadowcun/evals_dev/pikavideos/prompts/cinematic_action_scene_from_the__live_action_movie__The_Red_Lotus___closeup_of_person_in_red_cloa_seed6725289218061618916.txt\n"
     ]
    },
    {
     "name": "stdout",
     "output_type": "stream",
     "text": [
      "processed frame 23, obj_num 0\n",
      "finished\n",
      "Directory already exists: ./pikavideos/cow/masks\n",
      "Directory already exists: ./pikavideos/cow/mask_video\n",
      "Directory already exists: ./pikavideos/cow/mask_gif\n",
      "final text_encoder_type: bert-base-uncased\n",
      "Model loaded from ./ckpt/groundingdino_swint_ogc.pth \n",
      " => _IncompatibleKeys(missing_keys=[], unexpected_keys=['label_enc.weight', 'bert.embeddings.position_ids'])\n",
      "SegTracker has been initialized\n",
      "processed frame 22, obj_num 0\r"
     ]
    },
    {
     "name": "stderr",
     "output_type": "stream",
     "text": [
      "Num: 34, count for 'cow': 0.0, prompt: @moo cow Prompt: all newly discovered forms of fauna and flora shown in succession.  Author: @moo cow, path: /apdcephfs_cq3/share_1290939/shadowcun/evals_dev/pikavideos/prompts/all_newly_discovered_forms_of_fauna_and_flora_shown_in_succession._seed4329487839577428382.txt\n",
      "2023-08-23 18:36:53 Num: 34, count for 'cow': 0.0, prompt: @moo cow Prompt: all newly discovered forms of fauna and flora shown in succession.  Author: @moo cow, path: /apdcephfs_cq3/share_1290939/shadowcun/evals_dev/pikavideos/prompts/all_newly_discovered_forms_of_fauna_and_flora_shown_in_succession._seed4329487839577428382.txt\n"
     ]
    },
    {
     "name": "stdout",
     "output_type": "stream",
     "text": [
      "processed frame 23, obj_num 0\n",
      "finished\n",
      "Directory already exists: ./pikavideos/dog/masks\n",
      "Directory already exists: ./pikavideos/dog/mask_video\n",
      "Directory already exists: ./pikavideos/dog/mask_gif\n",
      "final text_encoder_type: bert-base-uncased\n",
      "Model loaded from ./ckpt/groundingdino_swint_ogc.pth \n",
      " => _IncompatibleKeys(missing_keys=[], unexpected_keys=['label_enc.weight', 'bert.embeddings.position_ids'])\n",
      "SegTracker has been initialized\n",
      "processed frame 22, obj_num 0\r"
     ]
    },
    {
     "name": "stderr",
     "output_type": "stream",
     "text": [
      "Num: 34, count for 'dog': 0.0, prompt: @florence24 Prompt: Dog  that bone for himself too. But as he opened his mouth, the bone he was biting fell into the river and sank.  Author: @florence24, path: /apdcephfs_cq3/share_1290939/shadowcun/evals_dev/pikavideos/prompts/Dog__that_bone_for_himself_too._But_as_he_opened_his_mouth_the_bone_he_was_biting_fell_into_the_riv_seed14887267517517018728.txt\n",
      "2023-08-23 18:37:03 Num: 34, count for 'dog': 0.0, prompt: @florence24 Prompt: Dog  that bone for himself too. But as he opened his mouth, the bone he was biting fell into the river and sank.  Author: @florence24, path: /apdcephfs_cq3/share_1290939/shadowcun/evals_dev/pikavideos/prompts/Dog__that_bone_for_himself_too._But_as_he_opened_his_mouth_the_bone_he_was_biting_fell_into_the_riv_seed14887267517517018728.txt\n"
     ]
    },
    {
     "name": "stdout",
     "output_type": "stream",
     "text": [
      "processed frame 23, obj_num 0\n",
      "finished\n",
      "Directory already exists: ./pikavideos/dog/masks\n",
      "Directory already exists: ./pikavideos/dog/mask_video\n",
      "Directory already exists: ./pikavideos/dog/mask_gif\n",
      "final text_encoder_type: bert-base-uncased\n",
      "Model loaded from ./ckpt/groundingdino_swint_ogc.pth \n",
      " => _IncompatibleKeys(missing_keys=[], unexpected_keys=['label_enc.weight', 'bert.embeddings.position_ids'])\n",
      "SegTracker has been initialized\n",
      "processed frame 22, obj_num 1\r"
     ]
    },
    {
     "name": "stderr",
     "output_type": "stream",
     "text": [
      "Num: 35, count for 'dog': 1.0, prompt: Pika BOT 07/29/2023 4:00 PM@IzzyAi Prompt: attractive angry female zombie wearing dog collar and chain trying to attack camera fiercely and with determination. Ultra photo realistic 8k resolution --ar 16:9  Author: @IzzyAi, path: /apdcephfs_cq3/share_1290939/shadowcun/evals_dev/pikavideos/prompts/attractive_angry_female_zombie_wearing_dog_collar_and_chain_trying_to_attack_camera_fiercely_and_wit_seed5095022968094946482.txt\n",
      "2023-08-23 18:37:13 Num: 35, count for 'dog': 1.0, prompt: Pika BOT 07/29/2023 4:00 PM@IzzyAi Prompt: attractive angry female zombie wearing dog collar and chain trying to attack camera fiercely and with determination. Ultra photo realistic 8k resolution --ar 16:9  Author: @IzzyAi, path: /apdcephfs_cq3/share_1290939/shadowcun/evals_dev/pikavideos/prompts/attractive_angry_female_zombie_wearing_dog_collar_and_chain_trying_to_attack_camera_fiercely_and_wit_seed5095022968094946482.txt\n"
     ]
    },
    {
     "name": "stdout",
     "output_type": "stream",
     "text": [
      "processed frame 23, obj_num 1\n",
      "finished\n",
      "Directory already exists: ./pikavideos/car/masks\n",
      "Directory already exists: ./pikavideos/car/mask_video\n",
      "Directory already exists: ./pikavideos/car/mask_gif\n",
      "final text_encoder_type: bert-base-uncased\n",
      "Model loaded from ./ckpt/groundingdino_swint_ogc.pth \n",
      " => _IncompatibleKeys(missing_keys=[], unexpected_keys=['label_enc.weight', 'bert.embeddings.position_ids'])\n",
      "SegTracker has been initialized\n",
      "processed frame 22, obj_num 1\r"
     ]
    },
    {
     "name": "stderr",
     "output_type": "stream",
     "text": [
      "Num: 36, count for 'car': 1.0, prompt: @Bader#367 Prompt: light become crisp, a strange car fills the entire scene  Image: 1 Attachment  Author: @Bader#367, path: /apdcephfs_cq3/share_1290939/shadowcun/evals_dev/pikavideos/prompts/light_become_crisp_a_strange_car_fills_the_entire_scene__Image__1_Attachment_seed16359014351043025285.txt\n",
      "2023-08-23 18:37:24 Num: 36, count for 'car': 1.0, prompt: @Bader#367 Prompt: light become crisp, a strange car fills the entire scene  Image: 1 Attachment  Author: @Bader#367, path: /apdcephfs_cq3/share_1290939/shadowcun/evals_dev/pikavideos/prompts/light_become_crisp_a_strange_car_fills_the_entire_scene__Image__1_Attachment_seed16359014351043025285.txt\n"
     ]
    },
    {
     "name": "stdout",
     "output_type": "stream",
     "text": [
      "processed frame 23, obj_num 1\n",
      "finished\n",
      "Directory already exists: ./pikavideos/car/masks\n",
      "Directory already exists: ./pikavideos/car/mask_video\n",
      "Directory already exists: ./pikavideos/car/mask_gif\n",
      "final text_encoder_type: bert-base-uncased\n",
      "Model loaded from ./ckpt/groundingdino_swint_ogc.pth \n",
      " => _IncompatibleKeys(missing_keys=[], unexpected_keys=['label_enc.weight', 'bert.embeddings.position_ids'])\n",
      "SegTracker has been initialized\n",
      "processed frame 22, obj_num 2\r"
     ]
    },
    {
     "name": "stderr",
     "output_type": "stream",
     "text": [
      "Num: 37, count for 'car': 2.0, prompt: @hisnamisnikita Prompt: Man standing on the road while cars path and wind blows  Image: 1 Attachment  Author: @hisnamisnikita, path: /apdcephfs_cq3/share_1290939/shadowcun/evals_dev/pikavideos/prompts/Man_standing_on_the_road_while_cars_path_and_wind_blows__Image__1_Attachment_seed12355136191404483036.txt\n",
      "2023-08-23 18:37:36 Num: 37, count for 'car': 2.0, prompt: @hisnamisnikita Prompt: Man standing on the road while cars path and wind blows  Image: 1 Attachment  Author: @hisnamisnikita, path: /apdcephfs_cq3/share_1290939/shadowcun/evals_dev/pikavideos/prompts/Man_standing_on_the_road_while_cars_path_and_wind_blows__Image__1_Attachment_seed12355136191404483036.txt\n"
     ]
    },
    {
     "name": "stdout",
     "output_type": "stream",
     "text": [
      "processed frame 23, obj_num 2\n",
      "finished\n",
      "Directory already exists: ./pikavideos/bed/masks\n",
      "Directory already exists: ./pikavideos/bed/mask_video\n",
      "Directory already exists: ./pikavideos/bed/mask_gif\n",
      "final text_encoder_type: bert-base-uncased\n",
      "Model loaded from ./ckpt/groundingdino_swint_ogc.pth \n",
      " => _IncompatibleKeys(missing_keys=[], unexpected_keys=['label_enc.weight', 'bert.embeddings.position_ids'])\n",
      "SegTracker has been initialized\n",
      "processed frame 22, obj_num 0\r"
     ]
    },
    {
     "name": "stderr",
     "output_type": "stream",
     "text": [
      "Num: 37, count for 'bed': 0.0, prompt: @Ampère Prompt: Vintage line art, man in nightgown floats out of bed while a ghost watches  Author: @Ampère, path: /apdcephfs_cq3/share_1290939/shadowcun/evals_dev/pikavideos/prompts/Vintage_line_art_man_in_nightgown_floats_out_of_bed_while_a_ghost_watches_seed7540970144828538385.txt\n",
      "2023-08-23 18:37:45 Num: 37, count for 'bed': 0.0, prompt: @Ampère Prompt: Vintage line art, man in nightgown floats out of bed while a ghost watches  Author: @Ampère, path: /apdcephfs_cq3/share_1290939/shadowcun/evals_dev/pikavideos/prompts/Vintage_line_art_man_in_nightgown_floats_out_of_bed_while_a_ghost_watches_seed7540970144828538385.txt\n"
     ]
    },
    {
     "name": "stdout",
     "output_type": "stream",
     "text": [
      "processed frame 23, obj_num 0\n",
      "finished\n",
      "Directory already exists: ./pikavideos/car/masks\n",
      "Directory already exists: ./pikavideos/car/mask_video\n",
      "Directory already exists: ./pikavideos/car/mask_gif\n",
      "final text_encoder_type: bert-base-uncased\n",
      "Model loaded from ./ckpt/groundingdino_swint_ogc.pth \n",
      " => _IncompatibleKeys(missing_keys=[], unexpected_keys=['label_enc.weight', 'bert.embeddings.position_ids'])\n",
      "SegTracker has been initialized\n",
      "processed frame 22, obj_num 2\r"
     ]
    },
    {
     "name": "stderr",
     "output_type": "stream",
     "text": [
      "Num: 38, count for 'car': 2.0, prompt: @Fau Ferdinand liked a video of @Fau Ferdinand. (Prompt: a black chicken crosses by foot a snowed in futuristic street with flying cars dramatic lighting 4k huper real  Author: @Fau Ferdinand), path: /apdcephfs_cq3/share_1290939/shadowcun/evals_dev/pikavideos/prompts/a_black_chicken_crosses_by_foot_a_snowed_in_futuristic_street_with_flying_cars_dramatic_lighting_4k__seed5701818278617194635.txt\n",
      "2023-08-23 18:37:55 Num: 38, count for 'car': 2.0, prompt: @Fau Ferdinand liked a video of @Fau Ferdinand. (Prompt: a black chicken crosses by foot a snowed in futuristic street with flying cars dramatic lighting 4k huper real  Author: @Fau Ferdinand), path: /apdcephfs_cq3/share_1290939/shadowcun/evals_dev/pikavideos/prompts/a_black_chicken_crosses_by_foot_a_snowed_in_futuristic_street_with_flying_cars_dramatic_lighting_4k__seed5701818278617194635.txt\n"
     ]
    },
    {
     "name": "stdout",
     "output_type": "stream",
     "text": [
      "processed frame 23, obj_num 2\n",
      "finished\n",
      "Directory already exists: ./pikavideos/cat/masks\n",
      "Directory already exists: ./pikavideos/cat/mask_video\n",
      "Directory already exists: ./pikavideos/cat/mask_gif\n",
      "final text_encoder_type: bert-base-uncased\n",
      "Model loaded from ./ckpt/groundingdino_swint_ogc.pth \n",
      " => _IncompatibleKeys(missing_keys=[], unexpected_keys=['label_enc.weight', 'bert.embeddings.position_ids'])\n",
      "SegTracker has been initialized\n",
      "processed frame 22, obj_num 2\r"
     ]
    },
    {
     "name": "stderr",
     "output_type": "stream",
     "text": [
      "Num: 39, count for 'cat': 2.0, prompt: @BillsKill Prompt: cat with fire all his body  Author: @BillsKill, path: /apdcephfs_cq3/share_1290939/shadowcun/evals_dev/pikavideos/prompts/cat_with_fire_all_his_body_seed8433044308218620193.txt\n",
      "2023-08-23 18:38:05 Num: 39, count for 'cat': 2.0, prompt: @BillsKill Prompt: cat with fire all his body  Author: @BillsKill, path: /apdcephfs_cq3/share_1290939/shadowcun/evals_dev/pikavideos/prompts/cat_with_fire_all_his_body_seed8433044308218620193.txt\n"
     ]
    },
    {
     "name": "stdout",
     "output_type": "stream",
     "text": [
      "processed frame 23, obj_num 2\n",
      "finished\n",
      "Directory already exists: ./pikavideos/tv/masks\n",
      "Directory already exists: ./pikavideos/tv/mask_video\n",
      "Directory already exists: ./pikavideos/tv/mask_gif\n",
      "final text_encoder_type: bert-base-uncased\n",
      "Model loaded from ./ckpt/groundingdino_swint_ogc.pth \n",
      " => _IncompatibleKeys(missing_keys=[], unexpected_keys=['label_enc.weight', 'bert.embeddings.position_ids'])\n",
      "SegTracker has been initialized\n",
      "processed frame 22, obj_num 1\r"
     ]
    },
    {
     "name": "stderr",
     "output_type": "stream",
     "text": [
      "Num: 40, count for 'tv': 1.0, prompt: @вакуум Prompt: a vhs video of tv noise  Author: @вакуум, path: /apdcephfs_cq3/share_1290939/shadowcun/evals_dev/pikavideos/prompts/a_vhs_video_of_tv_noise_seed10568844866536135534.txt\n",
      "2023-08-23 18:38:15 Num: 40, count for 'tv': 1.0, prompt: @вакуум Prompt: a vhs video of tv noise  Author: @вакуум, path: /apdcephfs_cq3/share_1290939/shadowcun/evals_dev/pikavideos/prompts/a_vhs_video_of_tv_noise_seed10568844866536135534.txt\n"
     ]
    },
    {
     "name": "stdout",
     "output_type": "stream",
     "text": [
      "processed frame 23, obj_num 1\n",
      "finished\n",
      "Directory already exists: ./pikavideos/horse/masks\n",
      "Directory already exists: ./pikavideos/horse/mask_video\n",
      "Directory already exists: ./pikavideos/horse/mask_gif\n",
      "final text_encoder_type: bert-base-uncased\n",
      "Model loaded from ./ckpt/groundingdino_swint_ogc.pth \n",
      " => _IncompatibleKeys(missing_keys=[], unexpected_keys=['label_enc.weight', 'bert.embeddings.position_ids'])\n",
      "SegTracker has been initialized\n",
      "processed frame 22, obj_num 0\r"
     ]
    },
    {
     "name": "stderr",
     "output_type": "stream",
     "text": [
      "Num: 40, count for 'horse': 0.0, prompt: @Ayyeyeart Prompt: sheep clam hybrid octosquid horse running in a field -gs 16 -motion 2  Author: @Ayyeyeart, path: /apdcephfs_cq3/share_1290939/shadowcun/evals_dev/pikavideos/prompts/sheep_clam_hybrid_octosquid_horse_running_in_a_field_-gs_16_-motion_2_seed16599070924526616166.txt\n",
      "2023-08-23 18:38:25 Num: 40, count for 'horse': 0.0, prompt: @Ayyeyeart Prompt: sheep clam hybrid octosquid horse running in a field -gs 16 -motion 2  Author: @Ayyeyeart, path: /apdcephfs_cq3/share_1290939/shadowcun/evals_dev/pikavideos/prompts/sheep_clam_hybrid_octosquid_horse_running_in_a_field_-gs_16_-motion_2_seed16599070924526616166.txt\n"
     ]
    },
    {
     "name": "stdout",
     "output_type": "stream",
     "text": [
      "processed frame 23, obj_num 0\n",
      "finished\n",
      "Directory created: ./pikavideos/sheep/masks\n",
      "Directory created: ./pikavideos/sheep/mask_video\n",
      "Directory created: ./pikavideos/sheep/mask_gif\n",
      "final text_encoder_type: bert-base-uncased\n",
      "Model loaded from ./ckpt/groundingdino_swint_ogc.pth \n",
      " => _IncompatibleKeys(missing_keys=[], unexpected_keys=['label_enc.weight', 'bert.embeddings.position_ids'])\n",
      "SegTracker has been initialized\n",
      "processed frame 22, obj_num 0\r"
     ]
    },
    {
     "name": "stderr",
     "output_type": "stream",
     "text": [
      "Num: 40, count for 'sheep': 0.0, prompt: @Ayyeyeart Prompt: sheep clam hybrid octosquid horse running in a field -gs 16 -motion 2  Author: @Ayyeyeart, path: /apdcephfs_cq3/share_1290939/shadowcun/evals_dev/pikavideos/prompts/sheep_clam_hybrid_octosquid_horse_running_in_a_field_-gs_16_-motion_2_seed16599070924526616166.txt\n",
      "2023-08-23 18:38:35 Num: 40, count for 'sheep': 0.0, prompt: @Ayyeyeart Prompt: sheep clam hybrid octosquid horse running in a field -gs 16 -motion 2  Author: @Ayyeyeart, path: /apdcephfs_cq3/share_1290939/shadowcun/evals_dev/pikavideos/prompts/sheep_clam_hybrid_octosquid_horse_running_in_a_field_-gs_16_-motion_2_seed16599070924526616166.txt\n"
     ]
    },
    {
     "name": "stdout",
     "output_type": "stream",
     "text": [
      "processed frame 23, obj_num 0\n",
      "finished\n",
      "Directory created: ./pikavideos/tie/masks\n",
      "Directory created: ./pikavideos/tie/mask_video\n",
      "Directory created: ./pikavideos/tie/mask_gif\n",
      "final text_encoder_type: bert-base-uncased\n",
      "Model loaded from ./ckpt/groundingdino_swint_ogc.pth \n",
      " => _IncompatibleKeys(missing_keys=[], unexpected_keys=['label_enc.weight', 'bert.embeddings.position_ids'])\n",
      "SegTracker has been initialized\n",
      "processed frame 22, obj_num 1\r"
     ]
    },
    {
     "name": "stderr",
     "output_type": "stream",
     "text": [
      "Num: 41, count for 'tie': 1.0, prompt: @A.K. Cassama Prompt: american shot of a 25 years old skinny guy, wearing an informal beige suit no tie relaxed buttonup white shirt and glasses, wearing a messy hairstyle and short beard, neck tattoed, alone in the garden, american style, 1980s hairstyle, daylight, technicolor, movie style, shot on Agfa Vista 200, 4k --ar 2:3 --stylize 1000 --v 4  Author: @A.K. Cassama, path: /apdcephfs_cq3/share_1290939/shadowcun/evals_dev/pikavideos/prompts/american_shot_of_a_25_years_old_skinny_guy_wearing_an_informal_beige_suit_no_tie_relaxed_buttonup_w_seed4679712184799241187.txt\n",
      "2023-08-23 18:38:45 Num: 41, count for 'tie': 1.0, prompt: @A.K. Cassama Prompt: american shot of a 25 years old skinny guy, wearing an informal beige suit no tie relaxed buttonup white shirt and glasses, wearing a messy hairstyle and short beard, neck tattoed, alone in the garden, american style, 1980s hairstyle, daylight, technicolor, movie style, shot on Agfa Vista 200, 4k --ar 2:3 --stylize 1000 --v 4  Author: @A.K. Cassama, path: /apdcephfs_cq3/share_1290939/shadowcun/evals_dev/pikavideos/prompts/american_shot_of_a_25_years_old_skinny_guy_wearing_an_informal_beige_suit_no_tie_relaxed_buttonup_w_seed4679712184799241187.txt\n"
     ]
    },
    {
     "name": "stdout",
     "output_type": "stream",
     "text": [
      "processed frame 23, obj_num 1\n",
      "finished\n",
      "Directory created: ./pikavideos/mouse/masks\n",
      "Directory created: ./pikavideos/mouse/mask_video\n",
      "Directory created: ./pikavideos/mouse/mask_gif\n",
      "final text_encoder_type: bert-base-uncased\n",
      "Model loaded from ./ckpt/groundingdino_swint_ogc.pth \n",
      " => _IncompatibleKeys(missing_keys=[], unexpected_keys=['label_enc.weight', 'bert.embeddings.position_ids'])\n",
      "SegTracker has been initialized\n",
      "processed frame 22, obj_num 1\r"
     ]
    },
    {
     "name": "stderr",
     "output_type": "stream",
     "text": [
      "Num: 42, count for 'mouse': 1.0, prompt: @N0Bark Prompt: small mouse escaping dark burning forest painted by zdzislaw Beksiiski  Author: @N0Bark (edited), path: /apdcephfs_cq3/share_1290939/shadowcun/evals_dev/pikavideos/prompts/small_mouse_escaping_dark_burning_forest_painted_by_zdzislaw_Beksiiski.txt\n",
      "2023-08-23 18:38:55 Num: 42, count for 'mouse': 1.0, prompt: @N0Bark Prompt: small mouse escaping dark burning forest painted by zdzislaw Beksiiski  Author: @N0Bark (edited), path: /apdcephfs_cq3/share_1290939/shadowcun/evals_dev/pikavideos/prompts/small_mouse_escaping_dark_burning_forest_painted_by_zdzislaw_Beksiiski.txt\n"
     ]
    },
    {
     "name": "stdout",
     "output_type": "stream",
     "text": [
      "processed frame 23, obj_num 1\n",
      "finished\n",
      "Directory already exists: ./pikavideos/dog/masks\n",
      "Directory already exists: ./pikavideos/dog/mask_video\n",
      "Directory already exists: ./pikavideos/dog/mask_gif\n",
      "final text_encoder_type: bert-base-uncased\n",
      "Model loaded from ./ckpt/groundingdino_swint_ogc.pth \n",
      " => _IncompatibleKeys(missing_keys=[], unexpected_keys=['label_enc.weight', 'bert.embeddings.position_ids'])\n",
      "SegTracker has been initialized\n",
      "processed frame 22, obj_num 1\r"
     ]
    },
    {
     "name": "stderr",
     "output_type": "stream",
     "text": [
      "Num: 43, count for 'dog': 1.0, prompt: @Jagglepie Prompt: a bar full of men with dog faces  Author: @Jagglepie, path: /apdcephfs_cq3/share_1290939/shadowcun/evals_dev/pikavideos/prompts/a_bar_full_of_men_with_dog_faces_seed1740354546605899122.txt\n",
      "2023-08-23 18:39:05 Num: 43, count for 'dog': 1.0, prompt: @Jagglepie Prompt: a bar full of men with dog faces  Author: @Jagglepie, path: /apdcephfs_cq3/share_1290939/shadowcun/evals_dev/pikavideos/prompts/a_bar_full_of_men_with_dog_faces_seed1740354546605899122.txt\n"
     ]
    },
    {
     "name": "stdout",
     "output_type": "stream",
     "text": [
      "processed frame 23, obj_num 1\n",
      "finished\n",
      "Directory created: ./pikavideos/chair/masks\n",
      "Directory created: ./pikavideos/chair/mask_video\n",
      "Directory created: ./pikavideos/chair/mask_gif\n",
      "final text_encoder_type: bert-base-uncased\n",
      "Model loaded from ./ckpt/groundingdino_swint_ogc.pth \n",
      " => _IncompatibleKeys(missing_keys=[], unexpected_keys=['label_enc.weight', 'bert.embeddings.position_ids'])\n",
      "SegTracker has been initialized\n",
      "processed frame 22, obj_num 1\r"
     ]
    },
    {
     "name": "stderr",
     "output_type": "stream",
     "text": [
      "Num: 44, count for 'chair': 1.0, prompt: @eschicogrande Prompt: Francis bacon man on chair smoking  Author: @eschicogrande, path: /apdcephfs_cq3/share_1290939/shadowcun/evals_dev/pikavideos/prompts/Francis_bacon_man_on_chair_smoking_seed17250029253312676042.txt\n",
      "2023-08-23 18:39:15 Num: 44, count for 'chair': 1.0, prompt: @eschicogrande Prompt: Francis bacon man on chair smoking  Author: @eschicogrande, path: /apdcephfs_cq3/share_1290939/shadowcun/evals_dev/pikavideos/prompts/Francis_bacon_man_on_chair_smoking_seed17250029253312676042.txt\n"
     ]
    },
    {
     "name": "stdout",
     "output_type": "stream",
     "text": [
      "processed frame 23, obj_num 1\n",
      "finished\n",
      "Directory already exists: ./pikavideos/train/masks\n",
      "Directory already exists: ./pikavideos/train/mask_video\n",
      "Directory already exists: ./pikavideos/train/mask_gif\n",
      "final text_encoder_type: bert-base-uncased\n",
      "Model loaded from ./ckpt/groundingdino_swint_ogc.pth \n",
      " => _IncompatibleKeys(missing_keys=[], unexpected_keys=['label_enc.weight', 'bert.embeddings.position_ids'])\n",
      "SegTracker has been initialized\n",
      "processed frame 22, obj_num 1\r"
     ]
    },
    {
     "name": "stderr",
     "output_type": "stream",
     "text": [
      "Num: 45, count for 'train': 1.0, prompt: @Iaroslav Kononov Prompt: very fast moving train  Image: 1 Attachment  Author: @Iaroslav Kononov, path: /apdcephfs_cq3/share_1290939/shadowcun/evals_dev/pikavideos/prompts/very_fast_moving_train__Image__1_Attachment_seed582264579767768671.txt\n",
      "2023-08-23 18:39:26 Num: 45, count for 'train': 1.0, prompt: @Iaroslav Kononov Prompt: very fast moving train  Image: 1 Attachment  Author: @Iaroslav Kononov, path: /apdcephfs_cq3/share_1290939/shadowcun/evals_dev/pikavideos/prompts/very_fast_moving_train__Image__1_Attachment_seed582264579767768671.txt\n"
     ]
    },
    {
     "name": "stdout",
     "output_type": "stream",
     "text": [
      "processed frame 23, obj_num 1\n",
      "finished\n",
      "Directory already exists: ./pikavideos/car/masks\n",
      "Directory already exists: ./pikavideos/car/mask_video\n",
      "Directory already exists: ./pikavideos/car/mask_gif\n",
      "final text_encoder_type: bert-base-uncased\n",
      "Model loaded from ./ckpt/groundingdino_swint_ogc.pth \n",
      " => _IncompatibleKeys(missing_keys=[], unexpected_keys=['label_enc.weight', 'bert.embeddings.position_ids'])\n",
      "SegTracker has been initialized\n",
      "processed frame 22, obj_num 0\r"
     ]
    },
    {
     "name": "stderr",
     "output_type": "stream",
     "text": [
      "Num: 45, count for 'car': 0.0, prompt: @nikolas rigo liked a video of @nottage. (Prompt: cars passing on the street with people chatting inside the restaurant, style of edward hopper, cinematic, photorealistic  Image: 1 Attachment  Author: @nottage), path: /apdcephfs_cq3/share_1290939/shadowcun/evals_dev/pikavideos/prompts/cars_passing_on_the_street_with_people_chatting_inside_the_restaurant_style_of_edward_hopper_cinem_seed7184702901290596504.txt\n",
      "2023-08-23 18:39:35 Num: 45, count for 'car': 0.0, prompt: @nikolas rigo liked a video of @nottage. (Prompt: cars passing on the street with people chatting inside the restaurant, style of edward hopper, cinematic, photorealistic  Image: 1 Attachment  Author: @nottage), path: /apdcephfs_cq3/share_1290939/shadowcun/evals_dev/pikavideos/prompts/cars_passing_on_the_street_with_people_chatting_inside_the_restaurant_style_of_edward_hopper_cinem_seed7184702901290596504.txt\n"
     ]
    },
    {
     "name": "stdout",
     "output_type": "stream",
     "text": [
      "processed frame 23, obj_num 0\n",
      "finished\n",
      "Directory already exists: ./pikavideos/person/masks\n",
      "Directory already exists: ./pikavideos/person/mask_video\n",
      "Directory already exists: ./pikavideos/person/mask_gif\n",
      "final text_encoder_type: bert-base-uncased\n",
      "Model loaded from ./ckpt/groundingdino_swint_ogc.pth \n",
      " => _IncompatibleKeys(missing_keys=[], unexpected_keys=['label_enc.weight', 'bert.embeddings.position_ids'])\n",
      "SegTracker has been initialized\n",
      "processed frame 22, obj_num 0\r"
     ]
    },
    {
     "name": "stderr",
     "output_type": "stream",
     "text": [
      "Num: 45, count for 'person': 0.0, prompt: @Siev Prompt: A very strange person eating a dirty brown soup crying  Author: @Siev, path: /apdcephfs_cq3/share_1290939/shadowcun/evals_dev/pikavideos/prompts/A_very_strange_person_eating_a_dirty_brown_soup_crying_seed2385514393305803634.txt\n",
      "2023-08-23 18:39:45 Num: 45, count for 'person': 0.0, prompt: @Siev Prompt: A very strange person eating a dirty brown soup crying  Author: @Siev, path: /apdcephfs_cq3/share_1290939/shadowcun/evals_dev/pikavideos/prompts/A_very_strange_person_eating_a_dirty_brown_soup_crying_seed2385514393305803634.txt\n"
     ]
    },
    {
     "name": "stdout",
     "output_type": "stream",
     "text": [
      "processed frame 23, obj_num 0\n",
      "finished\n",
      "Directory already exists: ./pikavideos/cat/masks\n",
      "Directory already exists: ./pikavideos/cat/mask_video\n",
      "Directory already exists: ./pikavideos/cat/mask_gif\n",
      "final text_encoder_type: bert-base-uncased\n",
      "Model loaded from ./ckpt/groundingdino_swint_ogc.pth \n",
      " => _IncompatibleKeys(missing_keys=[], unexpected_keys=['label_enc.weight', 'bert.embeddings.position_ids'])\n",
      "SegTracker has been initialized\n",
      "processed frame 22, obj_num 1\r"
     ]
    },
    {
     "name": "stderr",
     "output_type": "stream",
     "text": [
      "Num: 46, count for 'cat': 1.0, prompt: @jbroderson6 Prompt: A fat Pixar Disney looking fluffy blue and pink colored cat  Author: @jbroderson6, path: /apdcephfs_cq3/share_1290939/shadowcun/evals_dev/pikavideos/prompts/A_fat_Pixar_Disney_looking_fluffy_blue_and_pink_colored_cat_seed14342159460747431735.txt\n",
      "2023-08-23 18:39:56 Num: 46, count for 'cat': 1.0, prompt: @jbroderson6 Prompt: A fat Pixar Disney looking fluffy blue and pink colored cat  Author: @jbroderson6, path: /apdcephfs_cq3/share_1290939/shadowcun/evals_dev/pikavideos/prompts/A_fat_Pixar_Disney_looking_fluffy_blue_and_pink_colored_cat_seed14342159460747431735.txt\n"
     ]
    },
    {
     "name": "stdout",
     "output_type": "stream",
     "text": [
      "processed frame 23, obj_num 1\n",
      "finished\n",
      "Directory already exists: ./pikavideos/dog/masks\n",
      "Directory already exists: ./pikavideos/dog/mask_video\n",
      "Directory already exists: ./pikavideos/dog/mask_gif\n",
      "final text_encoder_type: bert-base-uncased\n",
      "Model loaded from ./ckpt/groundingdino_swint_ogc.pth \n",
      " => _IncompatibleKeys(missing_keys=[], unexpected_keys=['label_enc.weight', 'bert.embeddings.position_ids'])\n",
      "SegTracker has been initialized\n",
      "processed frame 22, obj_num 1\r"
     ]
    },
    {
     "name": "stderr",
     "output_type": "stream",
     "text": [
      "Num: 47, count for 'dog': 1.0, prompt: @Robi@Kali Prompt: A Swiss Mountain Dog sits gracefully in front of the Great Wall of China. The sun shines brightly, and a gentle breeze 4K -ar 16:9  Author: @Robi@Kali, path: /apdcephfs_cq3/share_1290939/shadowcun/evals_dev/pikavideos/prompts/A_Swiss_Mountain_Dog_sits_gracefully_in_front_of_the_Great_Wall_of_China._The_sun_shines_brightly_a_seed12490911669168199240.txt\n",
      "2023-08-23 18:40:05 Num: 47, count for 'dog': 1.0, prompt: @Robi@Kali Prompt: A Swiss Mountain Dog sits gracefully in front of the Great Wall of China. The sun shines brightly, and a gentle breeze 4K -ar 16:9  Author: @Robi@Kali, path: /apdcephfs_cq3/share_1290939/shadowcun/evals_dev/pikavideos/prompts/A_Swiss_Mountain_Dog_sits_gracefully_in_front_of_the_Great_Wall_of_China._The_sun_shines_brightly_a_seed12490911669168199240.txt\n"
     ]
    },
    {
     "name": "stdout",
     "output_type": "stream",
     "text": [
      "processed frame 23, obj_num 1\n",
      "finished\n",
      "Directory already exists: ./pikavideos/bear/masks\n",
      "Directory already exists: ./pikavideos/bear/mask_video\n",
      "Directory already exists: ./pikavideos/bear/mask_gif\n",
      "final text_encoder_type: bert-base-uncased\n",
      "Model loaded from ./ckpt/groundingdino_swint_ogc.pth \n",
      " => _IncompatibleKeys(missing_keys=[], unexpected_keys=['label_enc.weight', 'bert.embeddings.position_ids'])\n",
      "SegTracker has been initialized\n",
      "processed frame 22, obj_num 0\r"
     ]
    },
    {
     "name": "stderr",
     "output_type": "stream",
     "text": [
      "Num: 47, count for 'bear': 0.0, prompt: @Dio Black Prompt: In this charming manga-style scene, we delve into a vibrant and bustling cityscape. The city is a harmonious fusion of traditional charm and cutting-edge technology, where four adorable lolly girls with bunny and koala ears take center stage, embarking on an epic adventure.  Character A: Sakura, the Fearless Bear Guardian - Sakura's bright pink bunny ears stand tall on her head, matching her vibrant and adventurous personality. Her eyes twinkle with determination as she dons a high-tech outfit adorned with bunny motifs. Her rideable cyber beast is a magnificent robotic bear with eyes that beam with friendship. Mangá hight quality, style kimetsu no yaba  Author: @Dio Black, path: /apdcephfs_cq3/share_1290939/shadowcun/evals_dev/pikavideos/prompts/In_this_charming_manga-style_scene_we_delve_into_a_vibrant_and_bustling_cityscape._The_city_is_a_ha_seed17266558952880197998.txt\n",
      "2023-08-23 18:40:15 Num: 47, count for 'bear': 0.0, prompt: @Dio Black Prompt: In this charming manga-style scene, we delve into a vibrant and bustling cityscape. The city is a harmonious fusion of traditional charm and cutting-edge technology, where four adorable lolly girls with bunny and koala ears take center stage, embarking on an epic adventure.  Character A: Sakura, the Fearless Bear Guardian - Sakura's bright pink bunny ears stand tall on her head, matching her vibrant and adventurous personality. Her eyes twinkle with determination as she dons a high-tech outfit adorned with bunny motifs. Her rideable cyber beast is a magnificent robotic bear with eyes that beam with friendship. Mangá hight quality, style kimetsu no yaba  Author: @Dio Black, path: /apdcephfs_cq3/share_1290939/shadowcun/evals_dev/pikavideos/prompts/In_this_charming_manga-style_scene_we_delve_into_a_vibrant_and_bustling_cityscape._The_city_is_a_ha_seed17266558952880197998.txt\n"
     ]
    },
    {
     "name": "stdout",
     "output_type": "stream",
     "text": [
      "processed frame 23, obj_num 0\n",
      "finished\n",
      "Directory already exists: ./pikavideos/bed/masks\n",
      "Directory already exists: ./pikavideos/bed/mask_video\n",
      "Directory already exists: ./pikavideos/bed/mask_gif\n",
      "final text_encoder_type: bert-base-uncased\n",
      "Model loaded from ./ckpt/groundingdino_swint_ogc.pth \n",
      " => _IncompatibleKeys(missing_keys=[], unexpected_keys=['label_enc.weight', 'bert.embeddings.position_ids'])\n",
      "SegTracker has been initialized\n",
      "processed frame 22, obj_num 0\r"
     ]
    },
    {
     "name": "stderr",
     "output_type": "stream",
     "text": [
      "Num: 47, count for 'bed': 0.0, prompt: @DCF Prompt: man scared to death in the bed, dark scene, horror, cinematic look, 8k  Author: @DCF  Author: @DCF, path: /apdcephfs_cq3/share_1290939/shadowcun/evals_dev/pikavideos/prompts/man_scared_to_death_in_the_bed_dark_scene_horror_cinematic_look_8k__Author___DCF_seed11108832428849991565.txt\n",
      "2023-08-23 18:40:25 Num: 47, count for 'bed': 0.0, prompt: @DCF Prompt: man scared to death in the bed, dark scene, horror, cinematic look, 8k  Author: @DCF  Author: @DCF, path: /apdcephfs_cq3/share_1290939/shadowcun/evals_dev/pikavideos/prompts/man_scared_to_death_in_the_bed_dark_scene_horror_cinematic_look_8k__Author___DCF_seed11108832428849991565.txt\n"
     ]
    },
    {
     "name": "stdout",
     "output_type": "stream",
     "text": [
      "processed frame 23, obj_num 0\n",
      "finished\n",
      "Directory created: ./pikavideos/bird/masks\n",
      "Directory created: ./pikavideos/bird/mask_video\n",
      "Directory created: ./pikavideos/bird/mask_gif\n",
      "final text_encoder_type: bert-base-uncased\n",
      "Model loaded from ./ckpt/groundingdino_swint_ogc.pth \n",
      " => _IncompatibleKeys(missing_keys=[], unexpected_keys=['label_enc.weight', 'bert.embeddings.position_ids'])\n",
      "SegTracker has been initialized\n",
      "processed frame 22, obj_num 1\r"
     ]
    },
    {
     "name": "stderr",
     "output_type": "stream",
     "text": [
      "Num: 48, count for 'bird': 1.0, prompt: @didot0281 Prompt: birds fly by flapping their wings  Image: 1 Attachment  Author: @didot0281, path: /apdcephfs_cq3/share_1290939/shadowcun/evals_dev/pikavideos/prompts/birds_fly_by_flapping_their_wings__Image__1_Attachment_seed1841236978387538668.txt\n",
      "2023-08-23 18:40:35 Num: 48, count for 'bird': 1.0, prompt: @didot0281 Prompt: birds fly by flapping their wings  Image: 1 Attachment  Author: @didot0281, path: /apdcephfs_cq3/share_1290939/shadowcun/evals_dev/pikavideos/prompts/birds_fly_by_flapping_their_wings__Image__1_Attachment_seed1841236978387538668.txt\n"
     ]
    },
    {
     "name": "stdout",
     "output_type": "stream",
     "text": [
      "processed frame 23, obj_num 1\n",
      "finished\n",
      "Directory already exists: ./pikavideos/tv/masks\n",
      "Directory already exists: ./pikavideos/tv/mask_video\n",
      "Directory already exists: ./pikavideos/tv/mask_gif\n",
      "final text_encoder_type: bert-base-uncased\n",
      "Model loaded from ./ckpt/groundingdino_swint_ogc.pth \n",
      " => _IncompatibleKeys(missing_keys=[], unexpected_keys=['label_enc.weight', 'bert.embeddings.position_ids'])\n",
      "SegTracker has been initialized\n",
      "processed frame 22, obj_num 0\r"
     ]
    },
    {
     "name": "stderr",
     "output_type": "stream",
     "text": [
      "Num: 48, count for 'tv': 0.0, prompt: @tellyourfriends.tv Prompt: 2000s hi-tech military computer screen interface -motion 2  Author: @tellyourfriends.tv, path: /apdcephfs_cq3/share_1290939/shadowcun/evals_dev/pikavideos/prompts/2000s_hi-tech_military_computer_screen_interface_-motion_2_seed9679022439514010451.txt\n",
      "2023-08-23 18:40:45 Num: 48, count for 'tv': 0.0, prompt: @tellyourfriends.tv Prompt: 2000s hi-tech military computer screen interface -motion 2  Author: @tellyourfriends.tv, path: /apdcephfs_cq3/share_1290939/shadowcun/evals_dev/pikavideos/prompts/2000s_hi-tech_military_computer_screen_interface_-motion_2_seed9679022439514010451.txt\n"
     ]
    },
    {
     "name": "stdout",
     "output_type": "stream",
     "text": [
      "processed frame 23, obj_num 0\n",
      "finished\n",
      "Directory already exists: ./pikavideos/car/masks\n",
      "Directory already exists: ./pikavideos/car/mask_video\n",
      "Directory already exists: ./pikavideos/car/mask_gif\n",
      "final text_encoder_type: bert-base-uncased\n",
      "Model loaded from ./ckpt/groundingdino_swint_ogc.pth \n",
      " => _IncompatibleKeys(missing_keys=[], unexpected_keys=['label_enc.weight', 'bert.embeddings.position_ids'])\n",
      "SegTracker has been initialized\n",
      "processed frame 22, obj_num 1\r"
     ]
    },
    {
     "name": "stderr",
     "output_type": "stream",
     "text": [
      "Num: 49, count for 'car': 1.0, prompt: @Luiguguvineruioplo Prompt: Video going inside the car  Image: 1 Attachment  Author: @Luiguguvineruioplo, path: /apdcephfs_cq3/share_1290939/shadowcun/evals_dev/pikavideos/prompts/Video_going_inside_the_car__Image__1_Attachment_seed16542354091672033995.txt\n",
      "2023-08-23 18:40:55 Num: 49, count for 'car': 1.0, prompt: @Luiguguvineruioplo Prompt: Video going inside the car  Image: 1 Attachment  Author: @Luiguguvineruioplo, path: /apdcephfs_cq3/share_1290939/shadowcun/evals_dev/pikavideos/prompts/Video_going_inside_the_car__Image__1_Attachment_seed16542354091672033995.txt\n"
     ]
    },
    {
     "name": "stdout",
     "output_type": "stream",
     "text": [
      "processed frame 23, obj_num 1\n",
      "finished\n",
      "Directory already exists: ./pikavideos/tv/masks\n",
      "Directory already exists: ./pikavideos/tv/mask_video\n",
      "Directory already exists: ./pikavideos/tv/mask_gif\n",
      "final text_encoder_type: bert-base-uncased\n",
      "Model loaded from ./ckpt/groundingdino_swint_ogc.pth \n",
      " => _IncompatibleKeys(missing_keys=[], unexpected_keys=['label_enc.weight', 'bert.embeddings.position_ids'])\n",
      "SegTracker has been initialized\n",
      "processed frame 22, obj_num 0\r"
     ]
    },
    {
     "name": "stderr",
     "output_type": "stream",
     "text": [
      "Num: 49, count for 'tv': 0.0, prompt: @tannerofjosh Prompt: 28 year old woman kneeling in front of a crt tv with freaky imagery on it, moody, atmospheric, anamorphic --ar 23:10  Author: @tannerofjosh, path: /apdcephfs_cq3/share_1290939/shadowcun/evals_dev/pikavideos/prompts/28_year_old_woman_kneeling_in_front_of_a_crt_tv_with_freaky_imagery_on_it_moody_atmospheric_anamo_seed12070301278627561896.txt\n",
      "2023-08-23 18:41:05 Num: 49, count for 'tv': 0.0, prompt: @tannerofjosh Prompt: 28 year old woman kneeling in front of a crt tv with freaky imagery on it, moody, atmospheric, anamorphic --ar 23:10  Author: @tannerofjosh, path: /apdcephfs_cq3/share_1290939/shadowcun/evals_dev/pikavideos/prompts/28_year_old_woman_kneeling_in_front_of_a_crt_tv_with_freaky_imagery_on_it_moody_atmospheric_anamo_seed12070301278627561896.txt\n"
     ]
    },
    {
     "name": "stdout",
     "output_type": "stream",
     "text": [
      "processed frame 23, obj_num 0\n",
      "finished\n",
      "Directory already exists: ./pikavideos/cat/masks\n",
      "Directory already exists: ./pikavideos/cat/mask_video\n",
      "Directory already exists: ./pikavideos/cat/mask_gif\n",
      "final text_encoder_type: bert-base-uncased\n",
      "Model loaded from ./ckpt/groundingdino_swint_ogc.pth \n",
      " => _IncompatibleKeys(missing_keys=[], unexpected_keys=['label_enc.weight', 'bert.embeddings.position_ids'])\n",
      "SegTracker has been initialized\n",
      "processed frame 22, obj_num 1\r"
     ]
    },
    {
     "name": "stderr",
     "output_type": "stream",
     "text": [
      "Num: 50, count for 'cat': 1.0, prompt: @SunRich Prompt: realistic cat walking, blinking  Image: 1 Attachment  Author: @SunRich, path: /apdcephfs_cq3/share_1290939/shadowcun/evals_dev/pikavideos/prompts/realistic_cat_walking_blinking__Image__1_Attachment_seed7502784125868023219.txt\n",
      "2023-08-23 18:41:15 Num: 50, count for 'cat': 1.0, prompt: @SunRich Prompt: realistic cat walking, blinking  Image: 1 Attachment  Author: @SunRich, path: /apdcephfs_cq3/share_1290939/shadowcun/evals_dev/pikavideos/prompts/realistic_cat_walking_blinking__Image__1_Attachment_seed7502784125868023219.txt\n"
     ]
    },
    {
     "name": "stdout",
     "output_type": "stream",
     "text": [
      "processed frame 23, obj_num 1\n",
      "finished\n",
      "Directory already exists: ./pikavideos/car/masks\n",
      "Directory already exists: ./pikavideos/car/mask_video\n",
      "Directory already exists: ./pikavideos/car/mask_gif\n",
      "final text_encoder_type: bert-base-uncased\n",
      "Model loaded from ./ckpt/groundingdino_swint_ogc.pth \n",
      " => _IncompatibleKeys(missing_keys=[], unexpected_keys=['label_enc.weight', 'bert.embeddings.position_ids'])\n",
      "SegTracker has been initialized\n",
      "processed frame 22, obj_num 2\r"
     ]
    },
    {
     "name": "stderr",
     "output_type": "stream",
     "text": [
      "Num: 51, count for 'car': 1.7916666666666667, prompt: @MKT Prompt: people walking in slow, motion, cars driving, 4k  Image: 1 Attachment  Author: @MKT, path: /apdcephfs_cq3/share_1290939/shadowcun/evals_dev/pikavideos/prompts/people_walking_in_slow_motion_cars_driving_4k__Image__1_Attachment_seed12427096509417995575.txt\n",
      "2023-08-23 18:41:26 Num: 51, count for 'car': 1.7916666666666667, prompt: @MKT Prompt: people walking in slow, motion, cars driving, 4k  Image: 1 Attachment  Author: @MKT, path: /apdcephfs_cq3/share_1290939/shadowcun/evals_dev/pikavideos/prompts/people_walking_in_slow_motion_cars_driving_4k__Image__1_Attachment_seed12427096509417995575.txt\n"
     ]
    },
    {
     "name": "stdout",
     "output_type": "stream",
     "text": [
      "processed frame 23, obj_num 2\n",
      "finished\n",
      "Directory created: ./pikavideos/bicycle/masks\n",
      "Directory created: ./pikavideos/bicycle/mask_video\n",
      "Directory created: ./pikavideos/bicycle/mask_gif\n",
      "final text_encoder_type: bert-base-uncased\n",
      "Model loaded from ./ckpt/groundingdino_swint_ogc.pth \n",
      " => _IncompatibleKeys(missing_keys=[], unexpected_keys=['label_enc.weight', 'bert.embeddings.position_ids'])\n",
      "SegTracker has been initialized\n",
      "processed frame 22, obj_num 3\r"
     ]
    },
    {
     "name": "stderr",
     "output_type": "stream",
     "text": [
      "Num: 52, count for 'bicycle': 3.0, prompt: @Genarodesigns Prompt: people riding bicycles  Author: @Genarodesigns, path: /apdcephfs_cq3/share_1290939/shadowcun/evals_dev/pikavideos/prompts/people_riding_bicycles_seed9428148583954716310.txt\n",
      "2023-08-23 18:41:37 Num: 52, count for 'bicycle': 3.0, prompt: @Genarodesigns Prompt: people riding bicycles  Author: @Genarodesigns, path: /apdcephfs_cq3/share_1290939/shadowcun/evals_dev/pikavideos/prompts/people_riding_bicycles_seed9428148583954716310.txt\n"
     ]
    },
    {
     "name": "stdout",
     "output_type": "stream",
     "text": [
      "processed frame 23, obj_num 3\n",
      "finished\n",
      "Directory created: ./pikavideos/cake/masks\n",
      "Directory created: ./pikavideos/cake/mask_video\n",
      "Directory created: ./pikavideos/cake/mask_gif\n",
      "final text_encoder_type: bert-base-uncased\n",
      "Model loaded from ./ckpt/groundingdino_swint_ogc.pth \n",
      " => _IncompatibleKeys(missing_keys=[], unexpected_keys=['label_enc.weight', 'bert.embeddings.position_ids'])\n",
      "SegTracker has been initialized\n",
      "processed frame 22, obj_num 0\r"
     ]
    },
    {
     "name": "stderr",
     "output_type": "stream",
     "text": [
      "Num: 52, count for 'cake': 0.0, prompt: @Naomi76# Prompt: realistic 8k video of cute 16 years old boys and girls expressing friendship around a birthday cake with candles, -neg \"worst resolution, slow-motion, no-movment, ugly face, changing size limbs, limbs apart, morphing limbs\",-motion:4  Author: @Naomi76#, path: /apdcephfs_cq3/share_1290939/shadowcun/evals_dev/pikavideos/prompts/realistic_8k_video_of_cute_16_years_old_boys_and_girls_expressing_friendship_around_a_birthday_cake__seed5690752562088203955.txt\n",
      "2023-08-23 18:41:47 Num: 52, count for 'cake': 0.0, prompt: @Naomi76# Prompt: realistic 8k video of cute 16 years old boys and girls expressing friendship around a birthday cake with candles, -neg \"worst resolution, slow-motion, no-movment, ugly face, changing size limbs, limbs apart, morphing limbs\",-motion:4  Author: @Naomi76#, path: /apdcephfs_cq3/share_1290939/shadowcun/evals_dev/pikavideos/prompts/realistic_8k_video_of_cute_16_years_old_boys_and_girls_expressing_friendship_around_a_birthday_cake__seed5690752562088203955.txt\n"
     ]
    },
    {
     "name": "stdout",
     "output_type": "stream",
     "text": [
      "processed frame 23, obj_num 0\n",
      "finished\n",
      "Directory already exists: ./pikavideos/cat/masks\n",
      "Directory already exists: ./pikavideos/cat/mask_video\n",
      "Directory already exists: ./pikavideos/cat/mask_gif\n",
      "final text_encoder_type: bert-base-uncased\n",
      "Model loaded from ./ckpt/groundingdino_swint_ogc.pth \n",
      " => _IncompatibleKeys(missing_keys=[], unexpected_keys=['label_enc.weight', 'bert.embeddings.position_ids'])\n",
      "SegTracker has been initialized\n",
      "processed frame 22, obj_num 1\r"
     ]
    },
    {
     "name": "stderr",
     "output_type": "stream",
     "text": [
      "Num: 53, count for 'cat': 1.0, prompt: @Dagorti Prompt: angry cat is hissing and showing his fangs  Image: 1 Attachment  Author: @Dagorti, path: /apdcephfs_cq3/share_1290939/shadowcun/evals_dev/pikavideos/prompts/angry_cat_is_hissing_and_showing_his_fangs__Image__1_Attachment_seed16569916943315044273.txt\n",
      "2023-08-23 18:41:58 Num: 53, count for 'cat': 1.0, prompt: @Dagorti Prompt: angry cat is hissing and showing his fangs  Image: 1 Attachment  Author: @Dagorti, path: /apdcephfs_cq3/share_1290939/shadowcun/evals_dev/pikavideos/prompts/angry_cat_is_hissing_and_showing_his_fangs__Image__1_Attachment_seed16569916943315044273.txt\n"
     ]
    },
    {
     "name": "stdout",
     "output_type": "stream",
     "text": [
      "processed frame 23, obj_num 1\n",
      "finished\n",
      "Directory created: ./pikavideos/elephant/masks\n",
      "Directory created: ./pikavideos/elephant/mask_video\n",
      "Directory created: ./pikavideos/elephant/mask_gif\n",
      "final text_encoder_type: bert-base-uncased\n",
      "Model loaded from ./ckpt/groundingdino_swint_ogc.pth \n",
      " => _IncompatibleKeys(missing_keys=[], unexpected_keys=['label_enc.weight', 'bert.embeddings.position_ids'])\n",
      "SegTracker has been initialized\n",
      "processed frame 22, obj_num 1\r"
     ]
    },
    {
     "name": "stderr",
     "output_type": "stream",
     "text": [
      "Num: 54, count for 'elephant': 1.0, prompt: @Medin Prompt: Man on elephant dancing, elephant moving, cinematic scene, and background people moving, 4K -ar 1:1 -motion:2 --neg \"no other creatures\"  Image: 1 Attachment  Author: @Medin, path: /apdcephfs_cq3/share_1290939/shadowcun/evals_dev/pikavideos/prompts/Man_on_elephant_dancing_elephant_moving_cinematic_scene_and_background_people_moving_4K_-ar_1_1__seed430807081186622407.txt\n",
      "2023-08-23 18:42:08 Num: 54, count for 'elephant': 1.0, prompt: @Medin Prompt: Man on elephant dancing, elephant moving, cinematic scene, and background people moving, 4K -ar 1:1 -motion:2 --neg \"no other creatures\"  Image: 1 Attachment  Author: @Medin, path: /apdcephfs_cq3/share_1290939/shadowcun/evals_dev/pikavideos/prompts/Man_on_elephant_dancing_elephant_moving_cinematic_scene_and_background_people_moving_4K_-ar_1_1__seed430807081186622407.txt\n"
     ]
    },
    {
     "name": "stdout",
     "output_type": "stream",
     "text": [
      "processed frame 23, obj_num 1\n",
      "finished\n",
      "Directory already exists: ./pikavideos/car/masks\n",
      "Directory already exists: ./pikavideos/car/mask_video\n",
      "Directory already exists: ./pikavideos/car/mask_gif\n",
      "final text_encoder_type: bert-base-uncased\n",
      "Model loaded from ./ckpt/groundingdino_swint_ogc.pth \n",
      " => _IncompatibleKeys(missing_keys=[], unexpected_keys=['label_enc.weight', 'bert.embeddings.position_ids'])\n",
      "SegTracker has been initialized\n",
      "processed frame 22, obj_num 3\r"
     ]
    },
    {
     "name": "stderr",
     "output_type": "stream",
     "text": [
      "Num: 55, count for 'car': 2.9583333333333335, prompt: @MajorMills Prompt: cars moving  Image: 1 Attachment  Author: @MajorMills, path: /apdcephfs_cq3/share_1290939/shadowcun/evals_dev/pikavideos/prompts/cars_moving__Image__1_Attachment_seed3449892716956505285.txt\n",
      "2023-08-23 18:42:20 Num: 55, count for 'car': 2.9583333333333335, prompt: @MajorMills Prompt: cars moving  Image: 1 Attachment  Author: @MajorMills, path: /apdcephfs_cq3/share_1290939/shadowcun/evals_dev/pikavideos/prompts/cars_moving__Image__1_Attachment_seed3449892716956505285.txt\n"
     ]
    },
    {
     "name": "stdout",
     "output_type": "stream",
     "text": [
      "processed frame 23, obj_num 3\n",
      "finished\n",
      "Directory already exists: ./pikavideos/dog/masks\n",
      "Directory already exists: ./pikavideos/dog/mask_video\n",
      "Directory already exists: ./pikavideos/dog/mask_gif\n",
      "final text_encoder_type: bert-base-uncased\n",
      "Model loaded from ./ckpt/groundingdino_swint_ogc.pth \n",
      " => _IncompatibleKeys(missing_keys=[], unexpected_keys=['label_enc.weight', 'bert.embeddings.position_ids'])\n",
      "SegTracker has been initialized\n",
      "processed frame 22, obj_num 1\r"
     ]
    },
    {
     "name": "stderr",
     "output_type": "stream",
     "text": [
      "Num: 56, count for 'dog': 1.0, prompt: @gerard Prompt: dog plaaying with toy 4K -ar 1:1  Image: 1 Attachment  Author: @gerard, path: /apdcephfs_cq3/share_1290939/shadowcun/evals_dev/pikavideos/prompts/dog_plaaying_with_toy_4K_-ar_1_1__Image__1_Attachment_seed14354397326744048694.txt\n",
      "2023-08-23 18:42:31 Num: 56, count for 'dog': 1.0, prompt: @gerard Prompt: dog plaaying with toy 4K -ar 1:1  Image: 1 Attachment  Author: @gerard, path: /apdcephfs_cq3/share_1290939/shadowcun/evals_dev/pikavideos/prompts/dog_plaaying_with_toy_4K_-ar_1_1__Image__1_Attachment_seed14354397326744048694.txt\n"
     ]
    },
    {
     "name": "stdout",
     "output_type": "stream",
     "text": [
      "processed frame 23, obj_num 1\n",
      "finished\n",
      "Directory already exists: ./pikavideos/horse/masks\n",
      "Directory already exists: ./pikavideos/horse/mask_video\n",
      "Directory already exists: ./pikavideos/horse/mask_gif\n",
      "final text_encoder_type: bert-base-uncased\n",
      "Model loaded from ./ckpt/groundingdino_swint_ogc.pth \n",
      " => _IncompatibleKeys(missing_keys=[], unexpected_keys=['label_enc.weight', 'bert.embeddings.position_ids'])\n",
      "SegTracker has been initialized\n",
      "processed frame 22, obj_num 1\r"
     ]
    },
    {
     "name": "stderr",
     "output_type": "stream",
     "text": [
      "Num: 57, count for 'horse': 1.0, prompt: @Mat Prompt: horse running , gs 5, motion 2  Image: 1 Attachment  Author: @Mat, path: /apdcephfs_cq3/share_1290939/shadowcun/evals_dev/pikavideos/prompts/horse_running__gs_5_motion_2__Image__1_Attachment_seed708584625464338882.txt\n",
      "2023-08-23 18:42:42 Num: 57, count for 'horse': 1.0, prompt: @Mat Prompt: horse running , gs 5, motion 2  Image: 1 Attachment  Author: @Mat, path: /apdcephfs_cq3/share_1290939/shadowcun/evals_dev/pikavideos/prompts/horse_running__gs_5_motion_2__Image__1_Attachment_seed708584625464338882.txt\n"
     ]
    },
    {
     "name": "stdout",
     "output_type": "stream",
     "text": [
      "processed frame 23, obj_num 1\n",
      "finished\n",
      "Directory already exists: ./pikavideos/person/masks\n",
      "Directory already exists: ./pikavideos/person/mask_video\n",
      "Directory already exists: ./pikavideos/person/mask_gif\n",
      "final text_encoder_type: bert-base-uncased\n",
      "Model loaded from ./ckpt/groundingdino_swint_ogc.pth \n",
      " => _IncompatibleKeys(missing_keys=[], unexpected_keys=['label_enc.weight', 'bert.embeddings.position_ids'])\n",
      "SegTracker has been initialized\n",
      "processed frame 22, obj_num 1\r"
     ]
    },
    {
     "name": "stderr",
     "output_type": "stream",
     "text": [
      "Num: 58, count for 'person': 1.0, prompt: @Rhinger Prompt: person smiling and waving   Author: @Rhinger, path: /apdcephfs_cq3/share_1290939/shadowcun/evals_dev/pikavideos/prompts/person_smiling_and_waving___seed13486674019683534384.txt\n",
      "2023-08-23 18:42:52 Num: 58, count for 'person': 1.0, prompt: @Rhinger Prompt: person smiling and waving   Author: @Rhinger, path: /apdcephfs_cq3/share_1290939/shadowcun/evals_dev/pikavideos/prompts/person_smiling_and_waving___seed13486674019683534384.txt\n"
     ]
    },
    {
     "name": "stdout",
     "output_type": "stream",
     "text": [
      "processed frame 23, obj_num 1\n",
      "finished\n",
      "Directory already exists: ./pikavideos/car/masks\n",
      "Directory already exists: ./pikavideos/car/mask_video\n",
      "Directory already exists: ./pikavideos/car/mask_gif\n",
      "final text_encoder_type: bert-base-uncased\n",
      "Model loaded from ./ckpt/groundingdino_swint_ogc.pth \n",
      " => _IncompatibleKeys(missing_keys=[], unexpected_keys=['label_enc.weight', 'bert.embeddings.position_ids'])\n",
      "SegTracker has been initialized\n",
      "processed frame 22, obj_num 2\r"
     ]
    },
    {
     "name": "stderr",
     "output_type": "stream",
     "text": [
      "Num: 59, count for 'car': 2.0, prompt: Pika BOT 08/05/2023 12:57 AM@Gavhar Prompt: byd car closeup driving on the highway, flashlights on  Author: @Gavhar, path: /apdcephfs_cq3/share_1290939/shadowcun/evals_dev/pikavideos/prompts/byd_car_closeup_driving_on_the_highway_flashlights_on_seed8337801060119218573.txt\n",
      "2023-08-23 18:43:03 Num: 59, count for 'car': 2.0, prompt: Pika BOT 08/05/2023 12:57 AM@Gavhar Prompt: byd car closeup driving on the highway, flashlights on  Author: @Gavhar, path: /apdcephfs_cq3/share_1290939/shadowcun/evals_dev/pikavideos/prompts/byd_car_closeup_driving_on_the_highway_flashlights_on_seed8337801060119218573.txt\n"
     ]
    },
    {
     "name": "stdout",
     "output_type": "stream",
     "text": [
      "processed frame 23, obj_num 2\n",
      "finished\n",
      "Directory already exists: ./pikavideos/boat/masks\n",
      "Directory already exists: ./pikavideos/boat/mask_video\n",
      "Directory already exists: ./pikavideos/boat/mask_gif\n",
      "final text_encoder_type: bert-base-uncased\n",
      "Model loaded from ./ckpt/groundingdino_swint_ogc.pth \n",
      " => _IncompatibleKeys(missing_keys=[], unexpected_keys=['label_enc.weight', 'bert.embeddings.position_ids'])\n",
      "SegTracker has been initialized\n",
      "processed frame 22, obj_num 0\r"
     ]
    },
    {
     "name": "stderr",
     "output_type": "stream",
     "text": [
      "Num: 59, count for 'boat': 0.0, prompt: @Ruben A Prompt: boat sailing  Image: 1 Attachment  Author: @Ruben A, path: /apdcephfs_cq3/share_1290939/shadowcun/evals_dev/pikavideos/prompts/boat_sailing__Image__1_Attachment_seed13788988092552572555.txt\n",
      "2023-08-23 18:43:13 Num: 59, count for 'boat': 0.0, prompt: @Ruben A Prompt: boat sailing  Image: 1 Attachment  Author: @Ruben A, path: /apdcephfs_cq3/share_1290939/shadowcun/evals_dev/pikavideos/prompts/boat_sailing__Image__1_Attachment_seed13788988092552572555.txt\n"
     ]
    },
    {
     "name": "stdout",
     "output_type": "stream",
     "text": [
      "processed frame 23, obj_num 0\n",
      "finished\n",
      "Directory already exists: ./pikavideos/boat/masks\n",
      "Directory already exists: ./pikavideos/boat/mask_video\n",
      "Directory already exists: ./pikavideos/boat/mask_gif\n",
      "final text_encoder_type: bert-base-uncased\n",
      "Model loaded from ./ckpt/groundingdino_swint_ogc.pth \n",
      " => _IncompatibleKeys(missing_keys=[], unexpected_keys=['label_enc.weight', 'bert.embeddings.position_ids'])\n",
      "SegTracker has been initialized\n",
      "processed frame 22, obj_num 1\r"
     ]
    },
    {
     "name": "stderr",
     "output_type": "stream",
     "text": [
      "Num: 60, count for 'boat': 1.0, prompt: @RubenTainoAI Prompt: A drone's lens zooms in on a fisherman in a small boat, its facial recognition technology recognizing the figure in the middle of the lake.  Author: @RubenTainoAI, path: /apdcephfs_cq3/share_1290939/shadowcun/evals_dev/pikavideos/prompts/A_drone_s_lens_zooms_in_on_a_fisherman_in_a_small_boat_its_facial_recognition_technology_recognizin_seed4956214938281525759.txt\n",
      "2023-08-23 18:43:24 Num: 60, count for 'boat': 1.0, prompt: @RubenTainoAI Prompt: A drone's lens zooms in on a fisherman in a small boat, its facial recognition technology recognizing the figure in the middle of the lake.  Author: @RubenTainoAI, path: /apdcephfs_cq3/share_1290939/shadowcun/evals_dev/pikavideos/prompts/A_drone_s_lens_zooms_in_on_a_fisherman_in_a_small_boat_its_facial_recognition_technology_recognizin_seed4956214938281525759.txt\n"
     ]
    },
    {
     "name": "stdout",
     "output_type": "stream",
     "text": [
      "processed frame 23, obj_num 1\n",
      "finished\n",
      "Directory already exists: ./pikavideos/horse/masks\n",
      "Directory already exists: ./pikavideos/horse/mask_video\n",
      "Directory already exists: ./pikavideos/horse/mask_gif\n",
      "final text_encoder_type: bert-base-uncased\n",
      "Model loaded from ./ckpt/groundingdino_swint_ogc.pth \n",
      " => _IncompatibleKeys(missing_keys=[], unexpected_keys=['label_enc.weight', 'bert.embeddings.position_ids'])\n",
      "SegTracker has been initialized\n",
      "processed frame 22, obj_num 4\r"
     ]
    },
    {
     "name": "stderr",
     "output_type": "stream",
     "text": [
      "Num: 61, count for 'horse': 3.4166666666666665, prompt: @Vitalii VII liked a video of @Vitalii VII. (Prompt: land on fire as the majestic horses begin their gallop, some old school ukraine village, old cinema, night, dark and creepy style, horror. high quality -ar 9:16  Author: @Vitalii VII), path: /apdcephfs_cq3/share_1290939/shadowcun/evals_dev/pikavideos/prompts/land_on_fire_as_the_majestic_horses_begin_their_gallop_some_old_school_ukraine_village_old_cinema_seed15691251376760618475.txt\n",
      "2023-08-23 18:43:35 Num: 61, count for 'horse': 3.4166666666666665, prompt: @Vitalii VII liked a video of @Vitalii VII. (Prompt: land on fire as the majestic horses begin their gallop, some old school ukraine village, old cinema, night, dark and creepy style, horror. high quality -ar 9:16  Author: @Vitalii VII), path: /apdcephfs_cq3/share_1290939/shadowcun/evals_dev/pikavideos/prompts/land_on_fire_as_the_majestic_horses_begin_their_gallop_some_old_school_ukraine_village_old_cinema_seed15691251376760618475.txt\n"
     ]
    },
    {
     "name": "stdout",
     "output_type": "stream",
     "text": [
      "processed frame 23, obj_num 4\n",
      "finished\n",
      "Directory already exists: ./pikavideos/person/masks\n",
      "Directory already exists: ./pikavideos/person/mask_video\n",
      "Directory already exists: ./pikavideos/person/mask_gif\n",
      "final text_encoder_type: bert-base-uncased\n",
      "Model loaded from ./ckpt/groundingdino_swint_ogc.pth \n",
      " => _IncompatibleKeys(missing_keys=[], unexpected_keys=['label_enc.weight', 'bert.embeddings.position_ids'])\n",
      "SegTracker has been initialized\n",
      "processed frame 22, obj_num 0\r"
     ]
    },
    {
     "name": "stderr",
     "output_type": "stream",
     "text": [
      "Num: 61, count for 'person': 0.0, prompt: @AZ Prompt: person burning, a black and blue painting with an air of fire, in the style of martin ansin, human emotions, hyper-realistic water, exaggerated expressions, light cyan and orange, otherworldly grotesquery, uhd image  Image: 1 Attachment  Author: @AZ, path: /apdcephfs_cq3/share_1290939/shadowcun/evals_dev/pikavideos/prompts/person_burning_a_black_and_blue_painting_with_an_air_of_fire_in_the_style_of_martin_ansin_human_e_seed15543745763527708090.txt\n",
      "2023-08-23 18:43:45 Num: 61, count for 'person': 0.0, prompt: @AZ Prompt: person burning, a black and blue painting with an air of fire, in the style of martin ansin, human emotions, hyper-realistic water, exaggerated expressions, light cyan and orange, otherworldly grotesquery, uhd image  Image: 1 Attachment  Author: @AZ, path: /apdcephfs_cq3/share_1290939/shadowcun/evals_dev/pikavideos/prompts/person_burning_a_black_and_blue_painting_with_an_air_of_fire_in_the_style_of_martin_ansin_human_e_seed15543745763527708090.txt\n"
     ]
    },
    {
     "name": "stdout",
     "output_type": "stream",
     "text": [
      "processed frame 23, obj_num 0\n",
      "finished\n",
      "Directory created: ./pikavideos/orange/masks\n",
      "Directory created: ./pikavideos/orange/mask_video\n",
      "Directory created: ./pikavideos/orange/mask_gif\n",
      "final text_encoder_type: bert-base-uncased\n",
      "Model loaded from ./ckpt/groundingdino_swint_ogc.pth \n",
      " => _IncompatibleKeys(missing_keys=[], unexpected_keys=['label_enc.weight', 'bert.embeddings.position_ids'])\n",
      "SegTracker has been initialized\n",
      "processed frame 22, obj_num 0\r"
     ]
    },
    {
     "name": "stderr",
     "output_type": "stream",
     "text": [
      "Num: 61, count for 'orange': 0.0, prompt: @AZ Prompt: person burning, a black and blue painting with an air of fire, in the style of martin ansin, human emotions, hyper-realistic water, exaggerated expressions, light cyan and orange, otherworldly grotesquery, uhd image  Image: 1 Attachment  Author: @AZ, path: /apdcephfs_cq3/share_1290939/shadowcun/evals_dev/pikavideos/prompts/person_burning_a_black_and_blue_painting_with_an_air_of_fire_in_the_style_of_martin_ansin_human_e_seed15543745763527708090.txt\n",
      "2023-08-23 18:43:55 Num: 61, count for 'orange': 0.0, prompt: @AZ Prompt: person burning, a black and blue painting with an air of fire, in the style of martin ansin, human emotions, hyper-realistic water, exaggerated expressions, light cyan and orange, otherworldly grotesquery, uhd image  Image: 1 Attachment  Author: @AZ, path: /apdcephfs_cq3/share_1290939/shadowcun/evals_dev/pikavideos/prompts/person_burning_a_black_and_blue_painting_with_an_air_of_fire_in_the_style_of_martin_ansin_human_e_seed15543745763527708090.txt\n"
     ]
    },
    {
     "name": "stdout",
     "output_type": "stream",
     "text": [
      "processed frame 23, obj_num 0\n",
      "finished\n",
      "Directory already exists: ./pikavideos/bird/masks\n",
      "Directory already exists: ./pikavideos/bird/mask_video\n",
      "Directory already exists: ./pikavideos/bird/mask_gif\n",
      "final text_encoder_type: bert-base-uncased\n",
      "Model loaded from ./ckpt/groundingdino_swint_ogc.pth \n",
      " => _IncompatibleKeys(missing_keys=[], unexpected_keys=['label_enc.weight', 'bert.embeddings.position_ids'])\n",
      "SegTracker has been initialized\n",
      "processed frame 22, obj_num 0\r"
     ]
    },
    {
     "name": "stderr",
     "output_type": "stream",
     "text": [
      "Num: 61, count for 'bird': 0.0, prompt: @mo Prompt: top-view perspective peering through a bird's eye while staring into a mouse eye in 3 secs. pixelated. a cougar leaping to catch prey -gs 20  Author: @mo, path: /apdcephfs_cq3/share_1290939/shadowcun/evals_dev/pikavideos/prompts/top-view_perspective_peering_through_a_bird_s_eye_while_staring_into_a_mouse_eye_in_3_secs._pixelate_seed2154502092577422034.txt\n",
      "2023-08-23 18:44:05 Num: 61, count for 'bird': 0.0, prompt: @mo Prompt: top-view perspective peering through a bird's eye while staring into a mouse eye in 3 secs. pixelated. a cougar leaping to catch prey -gs 20  Author: @mo, path: /apdcephfs_cq3/share_1290939/shadowcun/evals_dev/pikavideos/prompts/top-view_perspective_peering_through_a_bird_s_eye_while_staring_into_a_mouse_eye_in_3_secs._pixelate_seed2154502092577422034.txt\n"
     ]
    },
    {
     "name": "stdout",
     "output_type": "stream",
     "text": [
      "processed frame 23, obj_num 0\n",
      "finished\n",
      "Directory already exists: ./pikavideos/mouse/masks\n",
      "Directory already exists: ./pikavideos/mouse/mask_video\n",
      "Directory already exists: ./pikavideos/mouse/mask_gif\n",
      "final text_encoder_type: bert-base-uncased\n",
      "Model loaded from ./ckpt/groundingdino_swint_ogc.pth \n",
      " => _IncompatibleKeys(missing_keys=[], unexpected_keys=['label_enc.weight', 'bert.embeddings.position_ids'])\n",
      "SegTracker has been initialized\n",
      "processed frame 22, obj_num 0\r"
     ]
    },
    {
     "name": "stderr",
     "output_type": "stream",
     "text": [
      "Num: 61, count for 'mouse': 0.0, prompt: @mo Prompt: top-view perspective peering through a bird's eye while staring into a mouse eye in 3 secs. pixelated. a cougar leaping to catch prey -gs 20  Author: @mo, path: /apdcephfs_cq3/share_1290939/shadowcun/evals_dev/pikavideos/prompts/top-view_perspective_peering_through_a_bird_s_eye_while_staring_into_a_mouse_eye_in_3_secs._pixelate_seed2154502092577422034.txt\n",
      "2023-08-23 18:44:15 Num: 61, count for 'mouse': 0.0, prompt: @mo Prompt: top-view perspective peering through a bird's eye while staring into a mouse eye in 3 secs. pixelated. a cougar leaping to catch prey -gs 20  Author: @mo, path: /apdcephfs_cq3/share_1290939/shadowcun/evals_dev/pikavideos/prompts/top-view_perspective_peering_through_a_bird_s_eye_while_staring_into_a_mouse_eye_in_3_secs._pixelate_seed2154502092577422034.txt\n"
     ]
    },
    {
     "name": "stdout",
     "output_type": "stream",
     "text": [
      "processed frame 23, obj_num 0\n",
      "finished\n",
      "Directory already exists: ./pikavideos/car/masks\n",
      "Directory already exists: ./pikavideos/car/mask_video\n",
      "Directory already exists: ./pikavideos/car/mask_gif\n",
      "final text_encoder_type: bert-base-uncased\n",
      "Model loaded from ./ckpt/groundingdino_swint_ogc.pth \n",
      " => _IncompatibleKeys(missing_keys=[], unexpected_keys=['label_enc.weight', 'bert.embeddings.position_ids'])\n",
      "SegTracker has been initialized\n",
      "processed frame 22, obj_num 1\r"
     ]
    },
    {
     "name": "stderr",
     "output_type": "stream",
     "text": [
      "Num: 62, count for 'car': 1.0, prompt: @Mystic M Prompt: A car on fire. -ar 16:9  Image: 1 Attachment  Author: @Mystic M, path: /apdcephfs_cq3/share_1290939/shadowcun/evals_dev/pikavideos/prompts/A_car_on_fire._-ar_16_9__Image__1_Attachment_seed9980940903349416123.txt\n",
      "2023-08-23 18:44:25 Num: 62, count for 'car': 1.0, prompt: @Mystic M Prompt: A car on fire. -ar 16:9  Image: 1 Attachment  Author: @Mystic M, path: /apdcephfs_cq3/share_1290939/shadowcun/evals_dev/pikavideos/prompts/A_car_on_fire._-ar_16_9__Image__1_Attachment_seed9980940903349416123.txt\n"
     ]
    },
    {
     "name": "stdout",
     "output_type": "stream",
     "text": [
      "processed frame 23, obj_num 1\n",
      "finished\n",
      "Directory already exists: ./pikavideos/laptop/masks\n",
      "Directory already exists: ./pikavideos/laptop/mask_video\n",
      "Directory already exists: ./pikavideos/laptop/mask_gif\n",
      "final text_encoder_type: bert-base-uncased\n",
      "Model loaded from ./ckpt/groundingdino_swint_ogc.pth \n",
      " => _IncompatibleKeys(missing_keys=[], unexpected_keys=['label_enc.weight', 'bert.embeddings.position_ids'])\n",
      "SegTracker has been initialized\n",
      "processed frame 22, obj_num 1\r"
     ]
    },
    {
     "name": "stderr",
     "output_type": "stream",
     "text": [
      "Num: 63, count for 'laptop': 1.0, prompt: @TMA Prompt: woman typing on laptop  Image: 1 Attachment  Author: @TMA, path: /apdcephfs_cq3/share_1290939/shadowcun/evals_dev/pikavideos/prompts/woman_typing_on_laptop__Image__1_Attachment_seed6319732779789454577.txt\n",
      "2023-08-23 18:44:34 Num: 63, count for 'laptop': 1.0, prompt: @TMA Prompt: woman typing on laptop  Image: 1 Attachment  Author: @TMA, path: /apdcephfs_cq3/share_1290939/shadowcun/evals_dev/pikavideos/prompts/woman_typing_on_laptop__Image__1_Attachment_seed6319732779789454577.txt\n"
     ]
    },
    {
     "name": "stdout",
     "output_type": "stream",
     "text": [
      "processed frame 23, obj_num 1\n",
      "finished\n",
      "Directory already exists: ./pikavideos/cow/masks\n",
      "Directory already exists: ./pikavideos/cow/mask_video\n",
      "Directory already exists: ./pikavideos/cow/mask_gif\n",
      "final text_encoder_type: bert-base-uncased\n",
      "Model loaded from ./ckpt/groundingdino_swint_ogc.pth \n",
      " => _IncompatibleKeys(missing_keys=[], unexpected_keys=['label_enc.weight', 'bert.embeddings.position_ids'])\n",
      "SegTracker has been initialized\n",
      "processed frame 22, obj_num 0\r"
     ]
    },
    {
     "name": "stderr",
     "output_type": "stream",
     "text": [
      "Num: 63, count for 'cow': 0.0, prompt: @moo cow Prompt: rows of weird filthy mutant toilet bowl  stalls, urinals and bathing facilities in an abandoned dilapidated underground secret military medical facility from the 70s overrun with mold and sewage leaking from the walls.  Author: @moo cow, path: /apdcephfs_cq3/share_1290939/shadowcun/evals_dev/pikavideos/prompts/rows_of_weird_filthy_mutant_toilet_bowl__stalls_urinals_and_bathing_facilities_in_an_abandoned_dila_seed11835583452766525813.txt\n",
      "2023-08-23 18:44:44 Num: 63, count for 'cow': 0.0, prompt: @moo cow Prompt: rows of weird filthy mutant toilet bowl  stalls, urinals and bathing facilities in an abandoned dilapidated underground secret military medical facility from the 70s overrun with mold and sewage leaking from the walls.  Author: @moo cow, path: /apdcephfs_cq3/share_1290939/shadowcun/evals_dev/pikavideos/prompts/rows_of_weird_filthy_mutant_toilet_bowl__stalls_urinals_and_bathing_facilities_in_an_abandoned_dila_seed11835583452766525813.txt\n"
     ]
    },
    {
     "name": "stdout",
     "output_type": "stream",
     "text": [
      "processed frame 23, obj_num 0\n",
      "finished\n",
      "Directory created: ./pikavideos/bowl/masks\n",
      "Directory created: ./pikavideos/bowl/mask_video\n",
      "Directory created: ./pikavideos/bowl/mask_gif\n",
      "final text_encoder_type: bert-base-uncased\n",
      "Model loaded from ./ckpt/groundingdino_swint_ogc.pth \n",
      " => _IncompatibleKeys(missing_keys=[], unexpected_keys=['label_enc.weight', 'bert.embeddings.position_ids'])\n",
      "SegTracker has been initialized\n",
      "processed frame 22, obj_num 0\r"
     ]
    },
    {
     "name": "stderr",
     "output_type": "stream",
     "text": [
      "Num: 63, count for 'bowl': 0.0, prompt: @moo cow Prompt: rows of weird filthy mutant toilet bowl  stalls, urinals and bathing facilities in an abandoned dilapidated underground secret military medical facility from the 70s overrun with mold and sewage leaking from the walls.  Author: @moo cow, path: /apdcephfs_cq3/share_1290939/shadowcun/evals_dev/pikavideos/prompts/rows_of_weird_filthy_mutant_toilet_bowl__stalls_urinals_and_bathing_facilities_in_an_abandoned_dila_seed11835583452766525813.txt\n",
      "2023-08-23 18:44:53 Num: 63, count for 'bowl': 0.0, prompt: @moo cow Prompt: rows of weird filthy mutant toilet bowl  stalls, urinals and bathing facilities in an abandoned dilapidated underground secret military medical facility from the 70s overrun with mold and sewage leaking from the walls.  Author: @moo cow, path: /apdcephfs_cq3/share_1290939/shadowcun/evals_dev/pikavideos/prompts/rows_of_weird_filthy_mutant_toilet_bowl__stalls_urinals_and_bathing_facilities_in_an_abandoned_dila_seed11835583452766525813.txt\n"
     ]
    },
    {
     "name": "stdout",
     "output_type": "stream",
     "text": [
      "processed frame 23, obj_num 0\n",
      "finished\n",
      "Directory created: ./pikavideos/toilet/masks\n",
      "Directory created: ./pikavideos/toilet/mask_video\n",
      "Directory created: ./pikavideos/toilet/mask_gif\n",
      "final text_encoder_type: bert-base-uncased\n",
      "Model loaded from ./ckpt/groundingdino_swint_ogc.pth \n",
      " => _IncompatibleKeys(missing_keys=[], unexpected_keys=['label_enc.weight', 'bert.embeddings.position_ids'])\n",
      "SegTracker has been initialized\n",
      "processed frame 22, obj_num 0\r"
     ]
    },
    {
     "name": "stderr",
     "output_type": "stream",
     "text": [
      "Num: 63, count for 'toilet': 0.0, prompt: @moo cow Prompt: rows of weird filthy mutant toilet bowl  stalls, urinals and bathing facilities in an abandoned dilapidated underground secret military medical facility from the 70s overrun with mold and sewage leaking from the walls.  Author: @moo cow, path: /apdcephfs_cq3/share_1290939/shadowcun/evals_dev/pikavideos/prompts/rows_of_weird_filthy_mutant_toilet_bowl__stalls_urinals_and_bathing_facilities_in_an_abandoned_dila_seed11835583452766525813.txt\n",
      "2023-08-23 18:45:03 Num: 63, count for 'toilet': 0.0, prompt: @moo cow Prompt: rows of weird filthy mutant toilet bowl  stalls, urinals and bathing facilities in an abandoned dilapidated underground secret military medical facility from the 70s overrun with mold and sewage leaking from the walls.  Author: @moo cow, path: /apdcephfs_cq3/share_1290939/shadowcun/evals_dev/pikavideos/prompts/rows_of_weird_filthy_mutant_toilet_bowl__stalls_urinals_and_bathing_facilities_in_an_abandoned_dila_seed11835583452766525813.txt\n"
     ]
    },
    {
     "name": "stdout",
     "output_type": "stream",
     "text": [
      "processed frame 23, obj_num 0\n",
      "finished\n",
      "Directory already exists: ./pikavideos/boat/masks\n",
      "Directory already exists: ./pikavideos/boat/mask_video\n",
      "Directory already exists: ./pikavideos/boat/mask_gif\n",
      "final text_encoder_type: bert-base-uncased\n",
      "Model loaded from ./ckpt/groundingdino_swint_ogc.pth \n",
      " => _IncompatibleKeys(missing_keys=[], unexpected_keys=['label_enc.weight', 'bert.embeddings.position_ids'])\n",
      "SegTracker has been initialized\n",
      "processed frame 22, obj_num 0\r"
     ]
    },
    {
     "name": "stderr",
     "output_type": "stream",
     "text": [
      "Num: 63, count for 'boat': 0.0, prompt: @Mike Prompt: storm at the sea, epic storm, waves, wind, boat  Author: @Mike, path: /apdcephfs_cq3/share_1290939/shadowcun/evals_dev/pikavideos/prompts/storm_at_the_sea_epic_storm_waves_wind_boat_seed10864897596949188762.txt\n",
      "2023-08-23 18:45:13 Num: 63, count for 'boat': 0.0, prompt: @Mike Prompt: storm at the sea, epic storm, waves, wind, boat  Author: @Mike, path: /apdcephfs_cq3/share_1290939/shadowcun/evals_dev/pikavideos/prompts/storm_at_the_sea_epic_storm_waves_wind_boat_seed10864897596949188762.txt\n"
     ]
    },
    {
     "name": "stdout",
     "output_type": "stream",
     "text": [
      "processed frame 23, obj_num 0\n",
      "finished\n",
      "Directory created: ./pikavideos/surfboard/masks\n",
      "Directory created: ./pikavideos/surfboard/mask_video\n",
      "Directory created: ./pikavideos/surfboard/mask_gif\n",
      "final text_encoder_type: bert-base-uncased\n",
      "Model loaded from ./ckpt/groundingdino_swint_ogc.pth \n",
      " => _IncompatibleKeys(missing_keys=[], unexpected_keys=['label_enc.weight', 'bert.embeddings.position_ids'])\n",
      "SegTracker has been initialized\n",
      "processed frame 22, obj_num 0\r"
     ]
    },
    {
     "name": "stderr",
     "output_type": "stream",
     "text": [
      "Num: 63, count for 'surfboard': 0.0, prompt: @gh Prompt: A surfer falls into the waves from the surfboard, DSLR camera quality  Author: @gh, path: /apdcephfs_cq3/share_1290939/shadowcun/evals_dev/pikavideos/prompts/A_surfer_falls_into_the_waves_from_the_surfboard_DSLR_camera_quality_seed3522832445687166616.txt\n",
      "2023-08-23 18:45:23 Num: 63, count for 'surfboard': 0.0, prompt: @gh Prompt: A surfer falls into the waves from the surfboard, DSLR camera quality  Author: @gh, path: /apdcephfs_cq3/share_1290939/shadowcun/evals_dev/pikavideos/prompts/A_surfer_falls_into_the_waves_from_the_surfboard_DSLR_camera_quality_seed3522832445687166616.txt\n"
     ]
    },
    {
     "name": "stdout",
     "output_type": "stream",
     "text": [
      "processed frame 23, obj_num 0\n",
      "finished\n",
      "Directory already exists: ./pikavideos/car/masks\n",
      "Directory already exists: ./pikavideos/car/mask_video\n",
      "Directory already exists: ./pikavideos/car/mask_gif\n",
      "final text_encoder_type: bert-base-uncased\n",
      "Model loaded from ./ckpt/groundingdino_swint_ogc.pth \n",
      " => _IncompatibleKeys(missing_keys=[], unexpected_keys=['label_enc.weight', 'bert.embeddings.position_ids'])\n",
      "SegTracker has been initialized\n",
      "processed frame 22, obj_num 1\r"
     ]
    },
    {
     "name": "stderr",
     "output_type": "stream",
     "text": [
      "Num: 64, count for 'car': 1.0, prompt: @Burnsbrightly Prompt: Car driving down the road and a UFO flying in the sky.  Image: 1 Attachment  Author: @Burnsbrightly, path: /apdcephfs_cq3/share_1290939/shadowcun/evals_dev/pikavideos/prompts/Car_driving_down_the_road_and_a_UFO_flying_in_the_sky.__Image__1_Attachment_seed14808926531290444863.txt\n",
      "2023-08-23 18:45:33 Num: 64, count for 'car': 1.0, prompt: @Burnsbrightly Prompt: Car driving down the road and a UFO flying in the sky.  Image: 1 Attachment  Author: @Burnsbrightly, path: /apdcephfs_cq3/share_1290939/shadowcun/evals_dev/pikavideos/prompts/Car_driving_down_the_road_and_a_UFO_flying_in_the_sky.__Image__1_Attachment_seed14808926531290444863.txt\n"
     ]
    },
    {
     "name": "stdout",
     "output_type": "stream",
     "text": [
      "processed frame 23, obj_num 1\n",
      "finished\n",
      "Directory already exists: ./pikavideos/car/masks\n",
      "Directory already exists: ./pikavideos/car/mask_video\n",
      "Directory already exists: ./pikavideos/car/mask_gif\n",
      "final text_encoder_type: bert-base-uncased\n",
      "Model loaded from ./ckpt/groundingdino_swint_ogc.pth \n",
      " => _IncompatibleKeys(missing_keys=[], unexpected_keys=['label_enc.weight', 'bert.embeddings.position_ids'])\n",
      "SegTracker has been initialized\n",
      "processed frame 22, obj_num 1\r"
     ]
    },
    {
     "name": "stderr",
     "output_type": "stream",
     "text": [
      "Num: 65, count for 'car': 1.0, prompt: @alex_di Prompt: cinematic, film by Wes Anderson, the car is moving forward, dramatic lighting -ar 16:9 -motion 4 -gs 25  Image: 1 Attachment  Author: @alex_di, path: /apdcephfs_cq3/share_1290939/shadowcun/evals_dev/pikavideos/prompts/cinematic_film_by_Wes_Anderson_the_car_is_moving_forward_dramatic_lighting_-ar_16_9_-motion_4_-gs_seed390461799623894897.txt\n",
      "2023-08-23 18:45:43 Num: 65, count for 'car': 1.0, prompt: @alex_di Prompt: cinematic, film by Wes Anderson, the car is moving forward, dramatic lighting -ar 16:9 -motion 4 -gs 25  Image: 1 Attachment  Author: @alex_di, path: /apdcephfs_cq3/share_1290939/shadowcun/evals_dev/pikavideos/prompts/cinematic_film_by_Wes_Anderson_the_car_is_moving_forward_dramatic_lighting_-ar_16_9_-motion_4_-gs_seed390461799623894897.txt\n"
     ]
    },
    {
     "name": "stdout",
     "output_type": "stream",
     "text": [
      "processed frame 23, obj_num 1\n",
      "finished\n",
      "Directory already exists: ./pikavideos/car/masks\n",
      "Directory already exists: ./pikavideos/car/mask_video\n",
      "Directory already exists: ./pikavideos/car/mask_gif\n",
      "final text_encoder_type: bert-base-uncased\n",
      "Model loaded from ./ckpt/groundingdino_swint_ogc.pth \n",
      " => _IncompatibleKeys(missing_keys=[], unexpected_keys=['label_enc.weight', 'bert.embeddings.position_ids'])\n",
      "SegTracker has been initialized\n",
      "processed frame 22, obj_num 0\r"
     ]
    },
    {
     "name": "stderr",
     "output_type": "stream",
     "text": [
      "Num: 65, count for 'car': 0.0, prompt: @Mishaaa Prompt: on the road, dynamic, passing landscape, Oregon, on the road to Portland, in the car, view from the front seat, landscape, cloudy, grey white sky, black trees and mountains, facing a long road, 1980  Author: @Mishaaa, path: /apdcephfs_cq3/share_1290939/shadowcun/evals_dev/pikavideos/prompts/on_the_road_dynamic_passing_landscape_Oregon_on_the_road_to_Portland_in_the_car_view_from_the__seed6462346501063363080.txt\n",
      "2023-08-23 18:45:52 Num: 65, count for 'car': 0.0, prompt: @Mishaaa Prompt: on the road, dynamic, passing landscape, Oregon, on the road to Portland, in the car, view from the front seat, landscape, cloudy, grey white sky, black trees and mountains, facing a long road, 1980  Author: @Mishaaa, path: /apdcephfs_cq3/share_1290939/shadowcun/evals_dev/pikavideos/prompts/on_the_road_dynamic_passing_landscape_Oregon_on_the_road_to_Portland_in_the_car_view_from_the__seed6462346501063363080.txt\n"
     ]
    },
    {
     "name": "stdout",
     "output_type": "stream",
     "text": [
      "processed frame 23, obj_num 0\n",
      "finished\n",
      "Directory already exists: ./pikavideos/bench/masks\n",
      "Directory already exists: ./pikavideos/bench/mask_video\n",
      "Directory already exists: ./pikavideos/bench/mask_gif\n",
      "final text_encoder_type: bert-base-uncased\n",
      "Model loaded from ./ckpt/groundingdino_swint_ogc.pth \n",
      " => _IncompatibleKeys(missing_keys=[], unexpected_keys=['label_enc.weight', 'bert.embeddings.position_ids'])\n",
      "SegTracker has been initialized\n",
      "processed frame 22, obj_num 1\r"
     ]
    },
    {
     "name": "stderr",
     "output_type": "stream",
     "text": [
      "Num: 66, count for 'bench': 1.0, prompt: @coasty Prompt: meteor shower with girl watching on bench  by gill buttons  Author: @coasty, path: /apdcephfs_cq3/share_1290939/shadowcun/evals_dev/pikavideos/prompts/meteor_shower_with_girl_watching_on_bench__by_gill_buttons_seed6137843617757720388.txt\n",
      "2023-08-23 18:46:02 Num: 66, count for 'bench': 1.0, prompt: @coasty Prompt: meteor shower with girl watching on bench  by gill buttons  Author: @coasty, path: /apdcephfs_cq3/share_1290939/shadowcun/evals_dev/pikavideos/prompts/meteor_shower_with_girl_watching_on_bench__by_gill_buttons_seed6137843617757720388.txt\n"
     ]
    },
    {
     "name": "stdout",
     "output_type": "stream",
     "text": [
      "processed frame 23, obj_num 1\n",
      "finished\n",
      "Directory already exists: ./pikavideos/orange/masks\n",
      "Directory already exists: ./pikavideos/orange/mask_video\n",
      "Directory already exists: ./pikavideos/orange/mask_gif\n",
      "final text_encoder_type: bert-base-uncased\n",
      "Model loaded from ./ckpt/groundingdino_swint_ogc.pth \n",
      " => _IncompatibleKeys(missing_keys=[], unexpected_keys=['label_enc.weight', 'bert.embeddings.position_ids'])\n",
      "SegTracker has been initialized\n",
      "processed frame 22, obj_num 0\r"
     ]
    },
    {
     "name": "stderr",
     "output_type": "stream",
     "text": [
      "Num: 66, count for 'orange': 0.0, prompt: @Tortilla Prompt: orange tractor trailer full of wheat, little girl plays with wheat on top of trailer full of wheat, octane render, anime style, award winning film  Author: @Tortilla, path: /apdcephfs_cq3/share_1290939/shadowcun/evals_dev/pikavideos/prompts/orange_tractor_trailer_full_of_wheat_little_girl_plays_with_wheat_on_top_of_trailer_full_of_wheat__seed12054352570629114379.txt\n",
      "2023-08-23 18:46:12 Num: 66, count for 'orange': 0.0, prompt: @Tortilla Prompt: orange tractor trailer full of wheat, little girl plays with wheat on top of trailer full of wheat, octane render, anime style, award winning film  Author: @Tortilla, path: /apdcephfs_cq3/share_1290939/shadowcun/evals_dev/pikavideos/prompts/orange_tractor_trailer_full_of_wheat_little_girl_plays_with_wheat_on_top_of_trailer_full_of_wheat__seed12054352570629114379.txt\n"
     ]
    },
    {
     "name": "stdout",
     "output_type": "stream",
     "text": [
      "processed frame 23, obj_num 0\n",
      "finished\n",
      "Directory already exists: ./pikavideos/cow/masks\n",
      "Directory already exists: ./pikavideos/cow/mask_video\n",
      "Directory already exists: ./pikavideos/cow/mask_gif\n",
      "final text_encoder_type: bert-base-uncased\n",
      "Model loaded from ./ckpt/groundingdino_swint_ogc.pth \n",
      " => _IncompatibleKeys(missing_keys=[], unexpected_keys=['label_enc.weight', 'bert.embeddings.position_ids'])\n",
      "SegTracker has been initialized\n",
      "processed frame 22, obj_num 0\r"
     ]
    },
    {
     "name": "stderr",
     "output_type": "stream",
     "text": [
      "Num: 66, count for 'cow': 0.0, prompt: @moo cow Prompt: a rich rapper covered in gold chains, diamond encrusted sunglasses, diamond grill and a huge toothy grin waves hands full of cash in the face of a starving emaciated African child with a bloated belly and sad sunken eyes sitting on the ground covered in black flies as the rich rapper dances around for the camera  Author: @moo cow, path: /apdcephfs_cq3/share_1290939/shadowcun/evals_dev/pikavideos/prompts/a_rich_rapper_covered_in_gold_chains_diamond_encrusted_sunglasses_diamond_grill_and_a_huge_toothy__seed34257553482153537.txt\n",
      "2023-08-23 18:46:22 Num: 66, count for 'cow': 0.0, prompt: @moo cow Prompt: a rich rapper covered in gold chains, diamond encrusted sunglasses, diamond grill and a huge toothy grin waves hands full of cash in the face of a starving emaciated African child with a bloated belly and sad sunken eyes sitting on the ground covered in black flies as the rich rapper dances around for the camera  Author: @moo cow, path: /apdcephfs_cq3/share_1290939/shadowcun/evals_dev/pikavideos/prompts/a_rich_rapper_covered_in_gold_chains_diamond_encrusted_sunglasses_diamond_grill_and_a_huge_toothy__seed34257553482153537.txt\n"
     ]
    },
    {
     "name": "stdout",
     "output_type": "stream",
     "text": [
      "processed frame 23, obj_num 0\n",
      "finished\n",
      "Directory already exists: ./pikavideos/orange/masks\n",
      "Directory already exists: ./pikavideos/orange/mask_video\n",
      "Directory already exists: ./pikavideos/orange/mask_gif\n",
      "final text_encoder_type: bert-base-uncased\n",
      "Model loaded from ./ckpt/groundingdino_swint_ogc.pth \n",
      " => _IncompatibleKeys(missing_keys=[], unexpected_keys=['label_enc.weight', 'bert.embeddings.position_ids'])\n",
      "SegTracker has been initialized\n",
      "processed frame 22, obj_num 0\r"
     ]
    },
    {
     "name": "stderr",
     "output_type": "stream",
     "text": [
      "Num: 66, count for 'orange': 0.0, prompt: @marika Prompt: man drinking orange soda  Author: @marika (edited) 1, path: /apdcephfs_cq3/share_1290939/shadowcun/evals_dev/pikavideos/prompts/man_drinking_orange_soda_seed10460790922448951508.txt\n",
      "2023-08-23 18:46:32 Num: 66, count for 'orange': 0.0, prompt: @marika Prompt: man drinking orange soda  Author: @marika (edited) 1, path: /apdcephfs_cq3/share_1290939/shadowcun/evals_dev/pikavideos/prompts/man_drinking_orange_soda_seed10460790922448951508.txt\n"
     ]
    },
    {
     "name": "stdout",
     "output_type": "stream",
     "text": [
      "processed frame 23, obj_num 0\n",
      "finished\n",
      "Directory already exists: ./pikavideos/skateboard/masks\n",
      "Directory already exists: ./pikavideos/skateboard/mask_video\n",
      "Directory already exists: ./pikavideos/skateboard/mask_gif\n",
      "final text_encoder_type: bert-base-uncased\n",
      "Model loaded from ./ckpt/groundingdino_swint_ogc.pth \n",
      " => _IncompatibleKeys(missing_keys=[], unexpected_keys=['label_enc.weight', 'bert.embeddings.position_ids'])\n",
      "SegTracker has been initialized\n",
      "processed frame 22, obj_num 1\r"
     ]
    },
    {
     "name": "stderr",
     "output_type": "stream",
     "text": [
      "Num: 67, count for 'skateboard': 1.0, prompt: @ランラン-ᛒᛚᚢᛒ Prompt: <lora:AnalogDistortion:1>, a girl riding a skateboard, miami beach sunset,AnalogDistortion, analog photo  , analog photo, fujifilm, fujicolor, LOMO, nexpo,in the style of 70s-90s dating hotline tv comercial ads lost media  Author: @ランラン-ᛒᛚᚢᛒ, path: /apdcephfs_cq3/share_1290939/shadowcun/evals_dev/pikavideos/prompts/lora_AnalogDistortion_1__a_girl_riding_a_skateboard_miami_beach_sunsetAnalogDistortion_analog_p_seed9060554341886982144.txt\n",
      "2023-08-23 18:46:42 Num: 67, count for 'skateboard': 1.0, prompt: @ランラン-ᛒᛚᚢᛒ Prompt: <lora:AnalogDistortion:1>, a girl riding a skateboard, miami beach sunset,AnalogDistortion, analog photo  , analog photo, fujifilm, fujicolor, LOMO, nexpo,in the style of 70s-90s dating hotline tv comercial ads lost media  Author: @ランラン-ᛒᛚᚢᛒ, path: /apdcephfs_cq3/share_1290939/shadowcun/evals_dev/pikavideos/prompts/lora_AnalogDistortion_1__a_girl_riding_a_skateboard_miami_beach_sunsetAnalogDistortion_analog_p_seed9060554341886982144.txt\n"
     ]
    },
    {
     "name": "stdout",
     "output_type": "stream",
     "text": [
      "processed frame 23, obj_num 1\n",
      "finished\n",
      "Directory already exists: ./pikavideos/tv/masks\n",
      "Directory already exists: ./pikavideos/tv/mask_video\n",
      "Directory already exists: ./pikavideos/tv/mask_gif\n",
      "final text_encoder_type: bert-base-uncased\n",
      "Model loaded from ./ckpt/groundingdino_swint_ogc.pth \n",
      " => _IncompatibleKeys(missing_keys=[], unexpected_keys=['label_enc.weight', 'bert.embeddings.position_ids'])\n",
      "SegTracker has been initialized\n",
      "processed frame 22, obj_num 0\r"
     ]
    },
    {
     "name": "stderr",
     "output_type": "stream",
     "text": [
      "Num: 67, count for 'tv': 0.0, prompt: @ランラン-ᛒᛚᚢᛒ Prompt: <lora:AnalogDistortion:1>, a girl riding a skateboard, miami beach sunset,AnalogDistortion, analog photo  , analog photo, fujifilm, fujicolor, LOMO, nexpo,in the style of 70s-90s dating hotline tv comercial ads lost media  Author: @ランラン-ᛒᛚᚢᛒ, path: /apdcephfs_cq3/share_1290939/shadowcun/evals_dev/pikavideos/prompts/lora_AnalogDistortion_1__a_girl_riding_a_skateboard_miami_beach_sunsetAnalogDistortion_analog_p_seed9060554341886982144.txt\n",
      "2023-08-23 18:46:51 Num: 67, count for 'tv': 0.0, prompt: @ランラン-ᛒᛚᚢᛒ Prompt: <lora:AnalogDistortion:1>, a girl riding a skateboard, miami beach sunset,AnalogDistortion, analog photo  , analog photo, fujifilm, fujicolor, LOMO, nexpo,in the style of 70s-90s dating hotline tv comercial ads lost media  Author: @ランラン-ᛒᛚᚢᛒ, path: /apdcephfs_cq3/share_1290939/shadowcun/evals_dev/pikavideos/prompts/lora_AnalogDistortion_1__a_girl_riding_a_skateboard_miami_beach_sunsetAnalogDistortion_analog_p_seed9060554341886982144.txt\n"
     ]
    },
    {
     "name": "stdout",
     "output_type": "stream",
     "text": [
      "processed frame 23, obj_num 0\n",
      "finished\n",
      "Directory already exists: ./pikavideos/horse/masks\n",
      "Directory already exists: ./pikavideos/horse/mask_video\n",
      "Directory already exists: ./pikavideos/horse/mask_gif\n",
      "final text_encoder_type: bert-base-uncased\n",
      "Model loaded from ./ckpt/groundingdino_swint_ogc.pth \n",
      " => _IncompatibleKeys(missing_keys=[], unexpected_keys=['label_enc.weight', 'bert.embeddings.position_ids'])\n",
      "SegTracker has been initialized\n",
      "processed frame 22, obj_num 1\r"
     ]
    },
    {
     "name": "stderr",
     "output_type": "stream",
     "text": [
      "Num: 68, count for 'horse': 1.0, prompt: @landless83 Prompt: cinematic scene old persian superhero style warrior with horse riding in desert  with ruins of perspolis in background.  Author: @landless83, path: /apdcephfs_cq3/share_1290939/shadowcun/evals_dev/pikavideos/prompts/cinematic_scene_old_persian_superhero_style_warrior_with_horse_riding_in_desert__with_ruins_of_persp_seed8061078619541928227.txt\n",
      "2023-08-23 18:47:01 Num: 68, count for 'horse': 1.0, prompt: @landless83 Prompt: cinematic scene old persian superhero style warrior with horse riding in desert  with ruins of perspolis in background.  Author: @landless83, path: /apdcephfs_cq3/share_1290939/shadowcun/evals_dev/pikavideos/prompts/cinematic_scene_old_persian_superhero_style_warrior_with_horse_riding_in_desert__with_ruins_of_persp_seed8061078619541928227.txt\n"
     ]
    },
    {
     "name": "stdout",
     "output_type": "stream",
     "text": [
      "processed frame 23, obj_num 1\n",
      "finished\n",
      "Directory already exists: ./pikavideos/dog/masks\n",
      "Directory already exists: ./pikavideos/dog/mask_video\n",
      "Directory already exists: ./pikavideos/dog/mask_gif\n",
      "final text_encoder_type: bert-base-uncased\n",
      "Model loaded from ./ckpt/groundingdino_swint_ogc.pth \n",
      " => _IncompatibleKeys(missing_keys=[], unexpected_keys=['label_enc.weight', 'bert.embeddings.position_ids'])\n",
      "SegTracker has been initialized\n",
      "processed frame 22, obj_num 1\r"
     ]
    },
    {
     "name": "stderr",
     "output_type": "stream",
     "text": [
      "Num: 69, count for 'dog': 1.0, prompt: @Incze / Go__next Prompt: The dog looking around  -motion 4  Image: 1 Attachment  Author: @Incze / Go__next, path: /apdcephfs_cq3/share_1290939/shadowcun/evals_dev/pikavideos/prompts/The_dog_looking_around__-motion_4__Image__1_Attachment_seed10954117432881458042.txt\n",
      "2023-08-23 18:47:12 Num: 69, count for 'dog': 1.0, prompt: @Incze / Go__next Prompt: The dog looking around  -motion 4  Image: 1 Attachment  Author: @Incze / Go__next, path: /apdcephfs_cq3/share_1290939/shadowcun/evals_dev/pikavideos/prompts/The_dog_looking_around__-motion_4__Image__1_Attachment_seed10954117432881458042.txt\n"
     ]
    },
    {
     "name": "stdout",
     "output_type": "stream",
     "text": [
      "processed frame 23, obj_num 1\n",
      "finished\n",
      "Directory created: ./pikavideos/bottle/masks\n",
      "Directory created: ./pikavideos/bottle/mask_video\n",
      "Directory created: ./pikavideos/bottle/mask_gif\n",
      "final text_encoder_type: bert-base-uncased\n",
      "Model loaded from ./ckpt/groundingdino_swint_ogc.pth \n",
      " => _IncompatibleKeys(missing_keys=[], unexpected_keys=['label_enc.weight', 'bert.embeddings.position_ids'])\n",
      "SegTracker has been initialized\n",
      "processed frame 22, obj_num 1\r"
     ]
    },
    {
     "name": "stderr",
     "output_type": "stream",
     "text": [
      "Num: 70, count for 'bottle': 1.0, prompt: @pitra Prompt: motion graphic of line art of bottles in the lab, glowing, sparkling  Image: 1 Attachment  Author: @pitra, path: /apdcephfs_cq3/share_1290939/shadowcun/evals_dev/pikavideos/prompts/motion_graphic_of_line_art_of_bottles_in_the_lab_glowing_sparkling.txt\n",
      "2023-08-23 18:47:23 Num: 70, count for 'bottle': 1.0, prompt: @pitra Prompt: motion graphic of line art of bottles in the lab, glowing, sparkling  Image: 1 Attachment  Author: @pitra, path: /apdcephfs_cq3/share_1290939/shadowcun/evals_dev/pikavideos/prompts/motion_graphic_of_line_art_of_bottles_in_the_lab_glowing_sparkling.txt\n"
     ]
    },
    {
     "name": "stdout",
     "output_type": "stream",
     "text": [
      "processed frame 23, obj_num 1\n",
      "finished\n",
      "Directory already exists: ./pikavideos/cow/masks\n",
      "Directory already exists: ./pikavideos/cow/mask_video\n",
      "Directory already exists: ./pikavideos/cow/mask_gif\n",
      "final text_encoder_type: bert-base-uncased\n",
      "Model loaded from ./ckpt/groundingdino_swint_ogc.pth \n",
      " => _IncompatibleKeys(missing_keys=[], unexpected_keys=['label_enc.weight', 'bert.embeddings.position_ids'])\n",
      "SegTracker has been initialized\n",
      "processed frame 22, obj_num 0\r"
     ]
    },
    {
     "name": "stderr",
     "output_type": "stream",
     "text": [
      "Num: 70, count for 'cow': 0.0, prompt: @keks34222 Prompt: create a video about a cow dancing in the middle of the road  Author: @keks34222, path: /apdcephfs_cq3/share_1290939/shadowcun/evals_dev/pikavideos/prompts/create_a_video_about_a_cow_dancing_in_the_middle_of_the_road_seed18315414794549033843.txt\n",
      "2023-08-23 18:47:33 Num: 70, count for 'cow': 0.0, prompt: @keks34222 Prompt: create a video about a cow dancing in the middle of the road  Author: @keks34222, path: /apdcephfs_cq3/share_1290939/shadowcun/evals_dev/pikavideos/prompts/create_a_video_about_a_cow_dancing_in_the_middle_of_the_road_seed18315414794549033843.txt\n"
     ]
    },
    {
     "name": "stdout",
     "output_type": "stream",
     "text": [
      "processed frame 23, obj_num 0\n",
      "finished\n",
      "Directory created: ./pikavideos/giraffe/masks\n",
      "Directory created: ./pikavideos/giraffe/mask_video\n",
      "Directory created: ./pikavideos/giraffe/mask_gif\n",
      "final text_encoder_type: bert-base-uncased\n",
      "Model loaded from ./ckpt/groundingdino_swint_ogc.pth \n",
      " => _IncompatibleKeys(missing_keys=[], unexpected_keys=['label_enc.weight', 'bert.embeddings.position_ids'])\n",
      "SegTracker has been initialized\n",
      "processed frame 22, obj_num 0\r"
     ]
    },
    {
     "name": "stderr",
     "output_type": "stream",
     "text": [
      "Num: 70, count for 'giraffe': 0.0, prompt: @cowardly-giraffe Prompt: barbie and darth vader on a beach vacation  Author: @cowardly-giraffe, path: /apdcephfs_cq3/share_1290939/shadowcun/evals_dev/pikavideos/prompts/barbie_and_darth_vader_on_a_beach_vacation_seed6299755764871371121.txt\n",
      "2023-08-23 18:47:43 Num: 70, count for 'giraffe': 0.0, prompt: @cowardly-giraffe Prompt: barbie and darth vader on a beach vacation  Author: @cowardly-giraffe, path: /apdcephfs_cq3/share_1290939/shadowcun/evals_dev/pikavideos/prompts/barbie_and_darth_vader_on_a_beach_vacation_seed6299755764871371121.txt\n"
     ]
    },
    {
     "name": "stdout",
     "output_type": "stream",
     "text": [
      "processed frame 23, obj_num 0\n",
      "finished\n",
      "Directory already exists: ./pikavideos/car/masks\n",
      "Directory already exists: ./pikavideos/car/mask_video\n",
      "Directory already exists: ./pikavideos/car/mask_gif\n",
      "final text_encoder_type: bert-base-uncased\n",
      "Model loaded from ./ckpt/groundingdino_swint_ogc.pth \n",
      " => _IncompatibleKeys(missing_keys=[], unexpected_keys=['label_enc.weight', 'bert.embeddings.position_ids'])\n",
      "SegTracker has been initialized\n",
      "processed frame 22, obj_num 0\r"
     ]
    },
    {
     "name": "stderr",
     "output_type": "stream",
     "text": [
      "Num: 70, count for 'car': 0.0, prompt: @BlackZ Prompt: f1 rancing car driving crash -motion 2  Image: 1 Attachment  Author: @BlackZ, path: /apdcephfs_cq3/share_1290939/shadowcun/evals_dev/pikavideos/prompts/f1_rancing_car_driving_crash_-motion_2__Image__1_Attachment_seed3213537936182892605.txt\n",
      "2023-08-23 18:47:53 Num: 70, count for 'car': 0.0, prompt: @BlackZ Prompt: f1 rancing car driving crash -motion 2  Image: 1 Attachment  Author: @BlackZ, path: /apdcephfs_cq3/share_1290939/shadowcun/evals_dev/pikavideos/prompts/f1_rancing_car_driving_crash_-motion_2__Image__1_Attachment_seed3213537936182892605.txt\n"
     ]
    },
    {
     "name": "stdout",
     "output_type": "stream",
     "text": [
      "processed frame 23, obj_num 0\n",
      "finished\n",
      "Directory already exists: ./pikavideos/book/masks\n",
      "Directory already exists: ./pikavideos/book/mask_video\n",
      "Directory already exists: ./pikavideos/book/mask_gif\n",
      "final text_encoder_type: bert-base-uncased\n",
      "Model loaded from ./ckpt/groundingdino_swint_ogc.pth \n",
      " => _IncompatibleKeys(missing_keys=[], unexpected_keys=['label_enc.weight', 'bert.embeddings.position_ids'])\n",
      "SegTracker has been initialized\n",
      "processed frame 22, obj_num 0\r"
     ]
    },
    {
     "name": "stderr",
     "output_type": "stream",
     "text": [
      "Num: 70, count for 'book': 0.0, prompt: @JackMarvel Prompt: giovane uomo biondo capelli riccioli corti davanti a una casa stile coloniale ispanica in un piccolo pueblo di guacara venezuela anno 1968, nello stile comic book marvel, 4K --ar 16:9  Author: @JackMarvel, path: /apdcephfs_cq3/share_1290939/shadowcun/evals_dev/pikavideos/prompts/giovane_uomo_biondo_capelli_riccioli_corti_davanti_a_una_casa_stile_coloniale_ispanica_in_un_piccolo.txt\n",
      "2023-08-23 18:48:03 Num: 70, count for 'book': 0.0, prompt: @JackMarvel Prompt: giovane uomo biondo capelli riccioli corti davanti a una casa stile coloniale ispanica in un piccolo pueblo di guacara venezuela anno 1968, nello stile comic book marvel, 4K --ar 16:9  Author: @JackMarvel, path: /apdcephfs_cq3/share_1290939/shadowcun/evals_dev/pikavideos/prompts/giovane_uomo_biondo_capelli_riccioli_corti_davanti_a_una_casa_stile_coloniale_ispanica_in_un_piccolo.txt\n"
     ]
    },
    {
     "name": "stdout",
     "output_type": "stream",
     "text": [
      "processed frame 23, obj_num 0\n",
      "finished\n",
      "Directory already exists: ./pikavideos/bench/masks\n",
      "Directory already exists: ./pikavideos/bench/mask_video\n",
      "Directory already exists: ./pikavideos/bench/mask_gif\n",
      "final text_encoder_type: bert-base-uncased\n",
      "Model loaded from ./ckpt/groundingdino_swint_ogc.pth \n",
      " => _IncompatibleKeys(missing_keys=[], unexpected_keys=['label_enc.weight', 'bert.embeddings.position_ids'])\n",
      "SegTracker has been initialized\n",
      "processed frame 22, obj_num 1\r"
     ]
    },
    {
     "name": "stderr",
     "output_type": "stream",
     "text": [
      "Num: 71, count for 'bench': 1.0, prompt: @Bench Press Papi Prompt: Donald Trump Coffee At a Party  Author: @Bench Press Papi, path: /apdcephfs_cq3/share_1290939/shadowcun/evals_dev/pikavideos/prompts/Donald_Trump_Coffee_At_a_Party_seed2308801269101516758.txt\n",
      "2023-08-23 18:48:13 Num: 71, count for 'bench': 1.0, prompt: @Bench Press Papi Prompt: Donald Trump Coffee At a Party  Author: @Bench Press Papi, path: /apdcephfs_cq3/share_1290939/shadowcun/evals_dev/pikavideos/prompts/Donald_Trump_Coffee_At_a_Party_seed2308801269101516758.txt\n"
     ]
    },
    {
     "name": "stdout",
     "output_type": "stream",
     "text": [
      "processed frame 23, obj_num 1\n",
      "finished\n",
      "Directory already exists: ./pikavideos/cat/masks\n",
      "Directory already exists: ./pikavideos/cat/mask_video\n",
      "Directory already exists: ./pikavideos/cat/mask_gif\n",
      "final text_encoder_type: bert-base-uncased\n",
      "Model loaded from ./ckpt/groundingdino_swint_ogc.pth \n",
      " => _IncompatibleKeys(missing_keys=[], unexpected_keys=['label_enc.weight', 'bert.embeddings.position_ids'])\n",
      "SegTracker has been initialized\n",
      "processed frame 22, obj_num 1\r"
     ]
    },
    {
     "name": "stderr",
     "output_type": "stream",
     "text": [
      "Num: 72, count for 'cat': 1.0, prompt: @Sio Prompt: little flies flying around head of cat in room  Image: 1 Attachment  Author: @Sio (edited), path: /apdcephfs_cq3/share_1290939/shadowcun/evals_dev/pikavideos/prompts/little_flies_flying_around_head_of_cat_in_room__Image__1_Attachment_seed12843728382681082473.txt\n",
      "2023-08-23 18:48:24 Num: 72, count for 'cat': 1.0, prompt: @Sio Prompt: little flies flying around head of cat in room  Image: 1 Attachment  Author: @Sio (edited), path: /apdcephfs_cq3/share_1290939/shadowcun/evals_dev/pikavideos/prompts/little_flies_flying_around_head_of_cat_in_room__Image__1_Attachment_seed12843728382681082473.txt\n"
     ]
    },
    {
     "name": "stdout",
     "output_type": "stream",
     "text": [
      "processed frame 23, obj_num 1\n",
      "finished\n",
      "Directory already exists: ./pikavideos/bowl/masks\n",
      "Directory already exists: ./pikavideos/bowl/mask_video\n",
      "Directory already exists: ./pikavideos/bowl/mask_gif\n",
      "final text_encoder_type: bert-base-uncased\n",
      "Model loaded from ./ckpt/groundingdino_swint_ogc.pth \n",
      " => _IncompatibleKeys(missing_keys=[], unexpected_keys=['label_enc.weight', 'bert.embeddings.position_ids'])\n",
      "SegTracker has been initialized\n",
      "processed frame 22, obj_num 0\r"
     ]
    },
    {
     "name": "stderr",
     "output_type": "stream",
     "text": [
      "Num: 72, count for 'bowl': 0.0, prompt: Pika BOT 08/01/2023 11:45 AM@manyface // hallucinarix Prompt: off world dust bowl  Author: @manyface // hallucinarix, path: /apdcephfs_cq3/share_1290939/shadowcun/evals_dev/pikavideos/prompts/off_world_dust_bowl_seed6848367235353685305.txt\n",
      "2023-08-23 18:48:33 Num: 72, count for 'bowl': 0.0, prompt: Pika BOT 08/01/2023 11:45 AM@manyface // hallucinarix Prompt: off world dust bowl  Author: @manyface // hallucinarix, path: /apdcephfs_cq3/share_1290939/shadowcun/evals_dev/pikavideos/prompts/off_world_dust_bowl_seed6848367235353685305.txt\n"
     ]
    },
    {
     "name": "stdout",
     "output_type": "stream",
     "text": [
      "processed frame 23, obj_num 0\n",
      "finished\n",
      "Directory already exists: ./pikavideos/cat/masks\n",
      "Directory already exists: ./pikavideos/cat/mask_video\n",
      "Directory already exists: ./pikavideos/cat/mask_gif\n",
      "final text_encoder_type: bert-base-uncased\n",
      "Model loaded from ./ckpt/groundingdino_swint_ogc.pth \n",
      " => _IncompatibleKeys(missing_keys=[], unexpected_keys=['label_enc.weight', 'bert.embeddings.position_ids'])\n",
      "SegTracker has been initialized\n",
      "processed frame 22, obj_num 1\r"
     ]
    },
    {
     "name": "stderr",
     "output_type": "stream",
     "text": [
      "Num: 73, count for 'cat': 1.0, prompt: @caihe Prompt: Cats stick out their tongues, fish swim  Image: 1 Attachment  Author: @caihe, path: /apdcephfs_cq3/share_1290939/shadowcun/evals_dev/pikavideos/prompts/Cats_stick_out_their_tongues_fish_swim__Image__1_Attachment_seed1004780111898588410.txt\n",
      "2023-08-23 18:48:43 Num: 73, count for 'cat': 1.0, prompt: @caihe Prompt: Cats stick out their tongues, fish swim  Image: 1 Attachment  Author: @caihe, path: /apdcephfs_cq3/share_1290939/shadowcun/evals_dev/pikavideos/prompts/Cats_stick_out_their_tongues_fish_swim__Image__1_Attachment_seed1004780111898588410.txt\n"
     ]
    },
    {
     "name": "stdout",
     "output_type": "stream",
     "text": [
      "processed frame 23, obj_num 1\n",
      "finished\n",
      "Directory already exists: ./pikavideos/cat/masks\n",
      "Directory already exists: ./pikavideos/cat/mask_video\n",
      "Directory already exists: ./pikavideos/cat/mask_gif\n",
      "final text_encoder_type: bert-base-uncased\n",
      "Model loaded from ./ckpt/groundingdino_swint_ogc.pth \n",
      " => _IncompatibleKeys(missing_keys=[], unexpected_keys=['label_enc.weight', 'bert.embeddings.position_ids'])\n",
      "SegTracker has been initialized\n",
      "processed frame 22, obj_num 0\r"
     ]
    },
    {
     "name": "stderr",
     "output_type": "stream",
     "text": [
      "Num: 73, count for 'cat': 0.0, prompt: @SN[a]Ke--> Prompt: A gray cat in a Chinese straw hat raises its head and eyes. The gaze is focused and fixed on the camera. The cat quickly draws a katana from its scabbard and cuts through the camera. Darkness  Author: @SN[a]Ke-->, path: /apdcephfs_cq3/share_1290939/shadowcun/evals_dev/pikavideos/prompts/A_gray_cat_in_a_Chinese_straw_hat_raises_its_head_and_eyes._The_gaze_is_focused_and_fixed_on_the_cam_seed15573749410952736772.txt\n",
      "2023-08-23 18:48:52 Num: 73, count for 'cat': 0.0, prompt: @SN[a]Ke--> Prompt: A gray cat in a Chinese straw hat raises its head and eyes. The gaze is focused and fixed on the camera. The cat quickly draws a katana from its scabbard and cuts through the camera. Darkness  Author: @SN[a]Ke-->, path: /apdcephfs_cq3/share_1290939/shadowcun/evals_dev/pikavideos/prompts/A_gray_cat_in_a_Chinese_straw_hat_raises_its_head_and_eyes._The_gaze_is_focused_and_fixed_on_the_cam_seed15573749410952736772.txt\n"
     ]
    },
    {
     "name": "stdout",
     "output_type": "stream",
     "text": [
      "processed frame 23, obj_num 0\n",
      "finished\n",
      "Directory already exists: ./pikavideos/bicycle/masks\n",
      "Directory already exists: ./pikavideos/bicycle/mask_video\n",
      "Directory already exists: ./pikavideos/bicycle/mask_gif\n",
      "final text_encoder_type: bert-base-uncased\n",
      "Model loaded from ./ckpt/groundingdino_swint_ogc.pth \n",
      " => _IncompatibleKeys(missing_keys=[], unexpected_keys=['label_enc.weight', 'bert.embeddings.position_ids'])\n",
      "SegTracker has been initialized\n",
      "processed frame 22, obj_num 2\r"
     ]
    },
    {
     "name": "stderr",
     "output_type": "stream",
     "text": [
      "Num: 74, count for 'bicycle': 2.0, prompt: @Leonardo Prompt: two brothers riding bicycles through the street , riding very fast  Image: 1 Attachment  Author: @Leonardo, path: /apdcephfs_cq3/share_1290939/shadowcun/evals_dev/pikavideos/prompts/two_brothers_riding_bicycles_through_the_street__riding_very_fast__Image__1_Attachment_seed165377107675275096.txt\n",
      "2023-08-23 18:49:03 Num: 74, count for 'bicycle': 2.0, prompt: @Leonardo Prompt: two brothers riding bicycles through the street , riding very fast  Image: 1 Attachment  Author: @Leonardo, path: /apdcephfs_cq3/share_1290939/shadowcun/evals_dev/pikavideos/prompts/two_brothers_riding_bicycles_through_the_street__riding_very_fast__Image__1_Attachment_seed165377107675275096.txt\n"
     ]
    },
    {
     "name": "stdout",
     "output_type": "stream",
     "text": [
      "processed frame 23, obj_num 2\n",
      "finished\n",
      "Directory already exists: ./pikavideos/car/masks\n",
      "Directory already exists: ./pikavideos/car/mask_video\n",
      "Directory already exists: ./pikavideos/car/mask_gif\n",
      "final text_encoder_type: bert-base-uncased\n",
      "Model loaded from ./ckpt/groundingdino_swint_ogc.pth \n",
      " => _IncompatibleKeys(missing_keys=[], unexpected_keys=['label_enc.weight', 'bert.embeddings.position_ids'])\n",
      "SegTracker has been initialized\n",
      "processed frame 22, obj_num 1\r"
     ]
    },
    {
     "name": "stderr",
     "output_type": "stream",
     "text": [
      "Num: 75, count for 'car': 1.0, prompt: @Bob Prompt: two silhouettes  getting out of a car, the  man on the  right  rnning to the left side   to join the female silhouette  going round  the  back of the  car, street lights  on,  heavy rain, lighting  Image: 1 Attachment  Author: @Bob, path: /apdcephfs_cq3/share_1290939/shadowcun/evals_dev/pikavideos/prompts/two_silhouettes__getting_out_of_a_car_the__man_on_the__right__rnning_to_the_left_side___to_join_the_seed13947819358779522920.txt\n",
      "2023-08-23 18:49:14 Num: 75, count for 'car': 1.0, prompt: @Bob Prompt: two silhouettes  getting out of a car, the  man on the  right  rnning to the left side   to join the female silhouette  going round  the  back of the  car, street lights  on,  heavy rain, lighting  Image: 1 Attachment  Author: @Bob, path: /apdcephfs_cq3/share_1290939/shadowcun/evals_dev/pikavideos/prompts/two_silhouettes__getting_out_of_a_car_the__man_on_the__right__rnning_to_the_left_side___to_join_the_seed13947819358779522920.txt\n"
     ]
    },
    {
     "name": "stdout",
     "output_type": "stream",
     "text": [
      "processed frame 23, obj_num 1\n",
      "finished\n",
      "Directory already exists: ./pikavideos/elephant/masks\n",
      "Directory already exists: ./pikavideos/elephant/mask_video\n",
      "Directory already exists: ./pikavideos/elephant/mask_gif\n",
      "final text_encoder_type: bert-base-uncased\n",
      "Model loaded from ./ckpt/groundingdino_swint_ogc.pth \n",
      " => _IncompatibleKeys(missing_keys=[], unexpected_keys=['label_enc.weight', 'bert.embeddings.position_ids'])\n",
      "SegTracker has been initialized\n",
      "processed frame 22, obj_num 1\r"
     ]
    },
    {
     "name": "stderr",
     "output_type": "stream",
     "text": [
      "Num: 76, count for 'elephant': 1.0, prompt: @Антонио Prompt: Elephant going on tall wood stick 10 hours asmr  Author: @Антонио, path: /apdcephfs_cq3/share_1290939/shadowcun/evals_dev/pikavideos/prompts/Elephant_going_on_tall_wood_stick_10_hours_asmr_seed12580938564456104631.txt\n",
      "2023-08-23 18:49:24 Num: 76, count for 'elephant': 1.0, prompt: @Антонио Prompt: Elephant going on tall wood stick 10 hours asmr  Author: @Антонио, path: /apdcephfs_cq3/share_1290939/shadowcun/evals_dev/pikavideos/prompts/Elephant_going_on_tall_wood_stick_10_hours_asmr_seed12580938564456104631.txt\n"
     ]
    },
    {
     "name": "stdout",
     "output_type": "stream",
     "text": [
      "processed frame 23, obj_num 1\n",
      "finished\n",
      "Directory created: ./pikavideos/scissors/masks\n",
      "Directory created: ./pikavideos/scissors/mask_video\n",
      "Directory created: ./pikavideos/scissors/mask_gif\n",
      "final text_encoder_type: bert-base-uncased\n",
      "Model loaded from ./ckpt/groundingdino_swint_ogc.pth \n",
      " => _IncompatibleKeys(missing_keys=[], unexpected_keys=['label_enc.weight', 'bert.embeddings.position_ids'])\n",
      "SegTracker has been initialized\n",
      "processed frame 22, obj_num 0\r"
     ]
    },
    {
     "name": "stderr",
     "output_type": "stream",
     "text": [
      "Num: 76, count for 'scissors': 0.0, prompt: @maximamber Prompt: Scissors cut the island from the photo, 4K -ar 4:5  Author: @maximamber, path: /apdcephfs_cq3/share_1290939/shadowcun/evals_dev/pikavideos/prompts/Scissors_cut_the_island_from_the_photo_4K_-ar_4_5_seed8475143653167367857.txt\n",
      "2023-08-23 18:49:35 Num: 76, count for 'scissors': 0.0, prompt: @maximamber Prompt: Scissors cut the island from the photo, 4K -ar 4:5  Author: @maximamber, path: /apdcephfs_cq3/share_1290939/shadowcun/evals_dev/pikavideos/prompts/Scissors_cut_the_island_from_the_photo_4K_-ar_4_5_seed8475143653167367857.txt\n"
     ]
    },
    {
     "name": "stdout",
     "output_type": "stream",
     "text": [
      "processed frame 23, obj_num 0\n",
      "finished\n",
      "Directory already exists: ./pikavideos/horse/masks\n",
      "Directory already exists: ./pikavideos/horse/mask_video\n",
      "Directory already exists: ./pikavideos/horse/mask_gif\n",
      "final text_encoder_type: bert-base-uncased\n",
      "Model loaded from ./ckpt/groundingdino_swint_ogc.pth \n",
      " => _IncompatibleKeys(missing_keys=[], unexpected_keys=['label_enc.weight', 'bert.embeddings.position_ids'])\n",
      "SegTracker has been initialized\n",
      "processed frame 22, obj_num 1\r"
     ]
    },
    {
     "name": "stderr",
     "output_type": "stream",
     "text": [
      "Num: 77, count for 'horse': 1.0, prompt: @philvant Prompt: cowboy sitting on a horse, looking at the horizon -motion 0  Image: 1 Attachment  Author: @philvant, path: /apdcephfs_cq3/share_1290939/shadowcun/evals_dev/pikavideos/prompts/cowboy_sitting_on_a_horse_looking_at_the_horizon_-motion_0_seed3831740179607068330.txt\n",
      "2023-08-23 18:49:46 Num: 77, count for 'horse': 1.0, prompt: @philvant Prompt: cowboy sitting on a horse, looking at the horizon -motion 0  Image: 1 Attachment  Author: @philvant, path: /apdcephfs_cq3/share_1290939/shadowcun/evals_dev/pikavideos/prompts/cowboy_sitting_on_a_horse_looking_at_the_horizon_-motion_0_seed3831740179607068330.txt\n"
     ]
    },
    {
     "name": "stdout",
     "output_type": "stream",
     "text": [
      "processed frame 23, obj_num 1\n",
      "finished\n",
      "Directory created: ./pikavideos/pizza/masks\n",
      "Directory created: ./pikavideos/pizza/mask_video\n",
      "Directory created: ./pikavideos/pizza/mask_gif\n",
      "final text_encoder_type: bert-base-uncased\n",
      "Model loaded from ./ckpt/groundingdino_swint_ogc.pth \n",
      " => _IncompatibleKeys(missing_keys=[], unexpected_keys=['label_enc.weight', 'bert.embeddings.position_ids'])\n",
      "SegTracker has been initialized\n",
      "processed frame 22, obj_num 1\r"
     ]
    },
    {
     "name": "stderr",
     "output_type": "stream",
     "text": [
      "Num: 78, count for 'pizza': 1.0, prompt: @Rez Prompt: alien pizza party in the break room  Author: @Rez, path: /apdcephfs_cq3/share_1290939/shadowcun/evals_dev/pikavideos/prompts/alien_pizza_party_in_the_break_room_seed1192467185869974563.txt\n",
      "2023-08-23 18:49:56 Num: 78, count for 'pizza': 1.0, prompt: @Rez Prompt: alien pizza party in the break room  Author: @Rez, path: /apdcephfs_cq3/share_1290939/shadowcun/evals_dev/pikavideos/prompts/alien_pizza_party_in_the_break_room_seed1192467185869974563.txt\n"
     ]
    },
    {
     "name": "stdout",
     "output_type": "stream",
     "text": [
      "processed frame 23, obj_num 1\n",
      "finished\n",
      "Directory already exists: ./pikavideos/cat/masks\n",
      "Directory already exists: ./pikavideos/cat/mask_video\n",
      "Directory already exists: ./pikavideos/cat/mask_gif\n",
      "final text_encoder_type: bert-base-uncased\n",
      "Model loaded from ./ckpt/groundingdino_swint_ogc.pth \n",
      " => _IncompatibleKeys(missing_keys=[], unexpected_keys=['label_enc.weight', 'bert.embeddings.position_ids'])\n",
      "SegTracker has been initialized\n",
      "processed frame 22, obj_num 1\r"
     ]
    },
    {
     "name": "stderr",
     "output_type": "stream",
     "text": [
      "Num: 79, count for 'cat': 1.0, prompt: @INTERNACIONA Prompt: a fuul body photo of anthropomorphic humanoid female Sphynx cat, with fuul body tattooed , Mesmerizing Surreal Portrait Photography surrealism style, walking the street,  Author: @INTERNACIONA, path: /apdcephfs_cq3/share_1290939/shadowcun/evals_dev/pikavideos/prompts/a_fuul_body_photo_of_anthropomorphic_humanoid_female_Sphynx_cat_with_fuul_body_tattooed__Mesmerizi_seed14288307204846397238.txt\n",
      "2023-08-23 18:50:06 Num: 79, count for 'cat': 1.0, prompt: @INTERNACIONA Prompt: a fuul body photo of anthropomorphic humanoid female Sphynx cat, with fuul body tattooed , Mesmerizing Surreal Portrait Photography surrealism style, walking the street,  Author: @INTERNACIONA, path: /apdcephfs_cq3/share_1290939/shadowcun/evals_dev/pikavideos/prompts/a_fuul_body_photo_of_anthropomorphic_humanoid_female_Sphynx_cat_with_fuul_body_tattooed__Mesmerizi_seed14288307204846397238.txt\n"
     ]
    },
    {
     "name": "stdout",
     "output_type": "stream",
     "text": [
      "processed frame 23, obj_num 1\n",
      "finished\n",
      "Directory already exists: ./pikavideos/mouse/masks\n",
      "Directory already exists: ./pikavideos/mouse/mask_video\n",
      "Directory already exists: ./pikavideos/mouse/mask_gif\n",
      "final text_encoder_type: bert-base-uncased\n",
      "Model loaded from ./ckpt/groundingdino_swint_ogc.pth \n",
      " => _IncompatibleKeys(missing_keys=[], unexpected_keys=['label_enc.weight', 'bert.embeddings.position_ids'])\n",
      "SegTracker has been initialized\n",
      "processed frame 22, obj_num 0\r"
     ]
    },
    {
     "name": "stderr",
     "output_type": "stream",
     "text": [
      "Num: 79, count for 'mouse': 0.0, prompt: @crystalwizard Prompt: a closeup of a mouse climbing up a fancy tablecloth  Author: @crystalwizard, path: /apdcephfs_cq3/share_1290939/shadowcun/evals_dev/pikavideos/prompts/a_closeup_of_a_mouse_climbing_up_a_fancy_tablecloth_seed12373224086312210419.txt\n",
      "2023-08-23 18:50:17 Num: 79, count for 'mouse': 0.0, prompt: @crystalwizard Prompt: a closeup of a mouse climbing up a fancy tablecloth  Author: @crystalwizard, path: /apdcephfs_cq3/share_1290939/shadowcun/evals_dev/pikavideos/prompts/a_closeup_of_a_mouse_climbing_up_a_fancy_tablecloth_seed12373224086312210419.txt\n"
     ]
    },
    {
     "name": "stdout",
     "output_type": "stream",
     "text": [
      "processed frame 23, obj_num 0\n",
      "finished\n",
      "Directory already exists: ./pikavideos/car/masks\n",
      "Directory already exists: ./pikavideos/car/mask_video\n",
      "Directory already exists: ./pikavideos/car/mask_gif\n",
      "final text_encoder_type: bert-base-uncased\n",
      "Model loaded from ./ckpt/groundingdino_swint_ogc.pth \n",
      " => _IncompatibleKeys(missing_keys=[], unexpected_keys=['label_enc.weight', 'bert.embeddings.position_ids'])\n",
      "SegTracker has been initialized\n",
      "processed frame 22, obj_num 0\r"
     ]
    },
    {
     "name": "stderr",
     "output_type": "stream",
     "text": [
      "Num: 79, count for 'car': 0.0, prompt: @TheFlynn Prompt: a woman -ar 16:9 holding a cat -motion 2 in a car  Author: @TheFlynn, path: /apdcephfs_cq3/share_1290939/shadowcun/evals_dev/pikavideos/prompts/a_woman_-ar_16_9_holding_a_cat_-motion_2_in_a_car_seed2387677455424164934.txt\n",
      "2023-08-23 18:50:27 Num: 79, count for 'car': 0.0, prompt: @TheFlynn Prompt: a woman -ar 16:9 holding a cat -motion 2 in a car  Author: @TheFlynn, path: /apdcephfs_cq3/share_1290939/shadowcun/evals_dev/pikavideos/prompts/a_woman_-ar_16_9_holding_a_cat_-motion_2_in_a_car_seed2387677455424164934.txt\n"
     ]
    },
    {
     "name": "stdout",
     "output_type": "stream",
     "text": [
      "processed frame 23, obj_num 0\n",
      "finished\n",
      "Directory already exists: ./pikavideos/cat/masks\n",
      "Directory already exists: ./pikavideos/cat/mask_video\n",
      "Directory already exists: ./pikavideos/cat/mask_gif\n",
      "final text_encoder_type: bert-base-uncased\n",
      "Model loaded from ./ckpt/groundingdino_swint_ogc.pth \n",
      " => _IncompatibleKeys(missing_keys=[], unexpected_keys=['label_enc.weight', 'bert.embeddings.position_ids'])\n",
      "SegTracker has been initialized\n",
      "processed frame 22, obj_num 0\r"
     ]
    },
    {
     "name": "stderr",
     "output_type": "stream",
     "text": [
      "Num: 79, count for 'cat': 0.0, prompt: @TheFlynn Prompt: a woman -ar 16:9 holding a cat -motion 2 in a car  Author: @TheFlynn, path: /apdcephfs_cq3/share_1290939/shadowcun/evals_dev/pikavideos/prompts/a_woman_-ar_16_9_holding_a_cat_-motion_2_in_a_car_seed2387677455424164934.txt\n",
      "2023-08-23 18:50:36 Num: 79, count for 'cat': 0.0, prompt: @TheFlynn Prompt: a woman -ar 16:9 holding a cat -motion 2 in a car  Author: @TheFlynn, path: /apdcephfs_cq3/share_1290939/shadowcun/evals_dev/pikavideos/prompts/a_woman_-ar_16_9_holding_a_cat_-motion_2_in_a_car_seed2387677455424164934.txt\n"
     ]
    },
    {
     "name": "stdout",
     "output_type": "stream",
     "text": [
      "processed frame 23, obj_num 0\n",
      "finished\n",
      "Directory already exists: ./pikavideos/tv/masks\n",
      "Directory already exists: ./pikavideos/tv/mask_video\n",
      "Directory already exists: ./pikavideos/tv/mask_gif\n",
      "final text_encoder_type: bert-base-uncased\n",
      "Model loaded from ./ckpt/groundingdino_swint_ogc.pth \n",
      " => _IncompatibleKeys(missing_keys=[], unexpected_keys=['label_enc.weight', 'bert.embeddings.position_ids'])\n",
      "SegTracker has been initialized\n",
      "processed frame 22, obj_num 0\r"
     ]
    },
    {
     "name": "stderr",
     "output_type": "stream",
     "text": [
      "Num: 79, count for 'tv': 0.0, prompt: @ランラン-ᛒᛚᚢᛒ Prompt: <lora:AnalogDistortion:1>,your mom,AnalogDistortion, analog photo  , analog photo, fujifilm, fujicolor, LOMO, nexpo,in the style of 70s-90s dating hotline tv comercial ads lost media  Author: @ランラン-ᛒᛚᚢᛒ, path: /apdcephfs_cq3/share_1290939/shadowcun/evals_dev/pikavideos/prompts/lora_AnalogDistortion_1_your_momAnalogDistortion_analog_photo___analog_photo_fujifilm_fujicol_seed18431127116619502807.txt\n",
      "2023-08-23 18:50:46 Num: 79, count for 'tv': 0.0, prompt: @ランラン-ᛒᛚᚢᛒ Prompt: <lora:AnalogDistortion:1>,your mom,AnalogDistortion, analog photo  , analog photo, fujifilm, fujicolor, LOMO, nexpo,in the style of 70s-90s dating hotline tv comercial ads lost media  Author: @ランラン-ᛒᛚᚢᛒ, path: /apdcephfs_cq3/share_1290939/shadowcun/evals_dev/pikavideos/prompts/lora_AnalogDistortion_1_your_momAnalogDistortion_analog_photo___analog_photo_fujifilm_fujicol_seed18431127116619502807.txt\n"
     ]
    },
    {
     "name": "stdout",
     "output_type": "stream",
     "text": [
      "processed frame 23, obj_num 0\n",
      "finished\n",
      "Directory already exists: ./pikavideos/car/masks\n",
      "Directory already exists: ./pikavideos/car/mask_video\n",
      "Directory already exists: ./pikavideos/car/mask_gif\n",
      "final text_encoder_type: bert-base-uncased\n",
      "Model loaded from ./ckpt/groundingdino_swint_ogc.pth \n",
      " => _IncompatibleKeys(missing_keys=[], unexpected_keys=['label_enc.weight', 'bert.embeddings.position_ids'])\n",
      "SegTracker has been initialized\n",
      "processed frame 22, obj_num 1\r"
     ]
    },
    {
     "name": "stderr",
     "output_type": "stream",
     "text": [
      "Num: 80, count for 'car': 1.0, prompt: @pikapika Prompt: at night, from far away we follow a car driving on the brooklyn bridge toward the city, cinematic, 90's style film, grain  Author: @pikapika, path: /apdcephfs_cq3/share_1290939/shadowcun/evals_dev/pikavideos/prompts/at_night_from_far_away_we_follow_a_car_driving_on_the_brooklyn_bridge_toward_the_city_cinematic_9_seed1098260985241790359.txt\n",
      "2023-08-23 18:50:56 Num: 80, count for 'car': 1.0, prompt: @pikapika Prompt: at night, from far away we follow a car driving on the brooklyn bridge toward the city, cinematic, 90's style film, grain  Author: @pikapika, path: /apdcephfs_cq3/share_1290939/shadowcun/evals_dev/pikavideos/prompts/at_night_from_far_away_we_follow_a_car_driving_on_the_brooklyn_bridge_toward_the_city_cinematic_9_seed1098260985241790359.txt\n"
     ]
    },
    {
     "name": "stdout",
     "output_type": "stream",
     "text": [
      "processed frame 23, obj_num 1\n",
      "finished\n",
      "Directory already exists: ./pikavideos/cake/masks\n",
      "Directory already exists: ./pikavideos/cake/mask_video\n",
      "Directory already exists: ./pikavideos/cake/mask_gif\n",
      "final text_encoder_type: bert-base-uncased\n",
      "Model loaded from ./ckpt/groundingdino_swint_ogc.pth \n",
      " => _IncompatibleKeys(missing_keys=[], unexpected_keys=['label_enc.weight', 'bert.embeddings.position_ids'])\n",
      "SegTracker has been initialized\n",
      "processed frame 22, obj_num 1\r"
     ]
    },
    {
     "name": "stderr",
     "output_type": "stream",
     "text": [
      "Num: 81, count for 'cake': 1.0, prompt: @César01 Prompt: Cinematic, dramatic animation, of bandenires, with a jumping cake, with a constant zoom out  Image: 1 Attachment  Author: @César01, path: /apdcephfs_cq3/share_1290939/shadowcun/evals_dev/pikavideos/prompts/Cinematic_dramatic_animation_of_bandenires_with_a_jumping_cake_with_a_constant_zoom_out__Image___seed9874230824683788962.txt\n",
      "2023-08-23 18:51:07 Num: 81, count for 'cake': 1.0, prompt: @César01 Prompt: Cinematic, dramatic animation, of bandenires, with a jumping cake, with a constant zoom out  Image: 1 Attachment  Author: @César01, path: /apdcephfs_cq3/share_1290939/shadowcun/evals_dev/pikavideos/prompts/Cinematic_dramatic_animation_of_bandenires_with_a_jumping_cake_with_a_constant_zoom_out__Image___seed9874230824683788962.txt\n"
     ]
    },
    {
     "name": "stdout",
     "output_type": "stream",
     "text": [
      "processed frame 23, obj_num 1\n",
      "finished\n",
      "Directory already exists: ./pikavideos/person/masks\n",
      "Directory already exists: ./pikavideos/person/mask_video\n",
      "Directory already exists: ./pikavideos/person/mask_gif\n",
      "final text_encoder_type: bert-base-uncased\n",
      "Model loaded from ./ckpt/groundingdino_swint_ogc.pth \n",
      " => _IncompatibleKeys(missing_keys=[], unexpected_keys=['label_enc.weight', 'bert.embeddings.position_ids'])\n",
      "SegTracker has been initialized\n",
      "processed frame 22, obj_num 1\r"
     ]
    },
    {
     "name": "stderr",
     "output_type": "stream",
     "text": [
      "Num: 82, count for 'person': 1.0, prompt: @Talot Prompt: Please generate a video based on the provided photograph. The person in the photograph should be depicted in the uniform of a Red Army soldier from the Soviet Union during World War II (1941-1945), holding a PPSh-41 submachine gun. The transformation should include the character as a human, in the context of World War II, wearing the uniform of a Red Army soldier from the specified time period, and holding the mentioned weapon. The action should be standing at attention. The output format should be a video with a duration of 10 seconds and a resolution of 1920x1080.  Image: 1 Attachment  Author: @Talot, path: /apdcephfs_cq3/share_1290939/shadowcun/evals_dev/pikavideos/prompts/Please_generate_a_video_based_on_the_provided_photograph._The_person_in_the_photograph_should_be_dep_seed18290073344995155821.txt\n",
      "2023-08-23 18:51:18 Num: 82, count for 'person': 1.0, prompt: @Talot Prompt: Please generate a video based on the provided photograph. The person in the photograph should be depicted in the uniform of a Red Army soldier from the Soviet Union during World War II (1941-1945), holding a PPSh-41 submachine gun. The transformation should include the character as a human, in the context of World War II, wearing the uniform of a Red Army soldier from the specified time period, and holding the mentioned weapon. The action should be standing at attention. The output format should be a video with a duration of 10 seconds and a resolution of 1920x1080.  Image: 1 Attachment  Author: @Talot, path: /apdcephfs_cq3/share_1290939/shadowcun/evals_dev/pikavideos/prompts/Please_generate_a_video_based_on_the_provided_photograph._The_person_in_the_photograph_should_be_dep_seed18290073344995155821.txt\n"
     ]
    },
    {
     "name": "stdout",
     "output_type": "stream",
     "text": [
      "processed frame 23, obj_num 1\n",
      "finished\n",
      "Directory already exists: ./pikavideos/book/masks\n",
      "Directory already exists: ./pikavideos/book/mask_video\n",
      "Directory already exists: ./pikavideos/book/mask_gif\n",
      "final text_encoder_type: bert-base-uncased\n",
      "Model loaded from ./ckpt/groundingdino_swint_ogc.pth \n",
      " => _IncompatibleKeys(missing_keys=[], unexpected_keys=['label_enc.weight', 'bert.embeddings.position_ids'])\n",
      "SegTracker has been initialized\n",
      "processed frame 22, obj_num 0\r"
     ]
    },
    {
     "name": "stderr",
     "output_type": "stream",
     "text": [
      "Num: 82, count for 'book': 0.0, prompt: @Sumitmetab Prompt: a beautiful lady levitating towrads the sky in the mountains, meditation pose,2D animation, windy, wind, dynamic camera motion, night sky, moonlit, himalayas, comic book art, science fiction, nicholas roerich --neg\"sunlight, mulitple arms, multiple legs, disfigured hands, disfigured legs, disfigured face, bad drawing, 3d, depth of field, vivid colours\"  Author: @Sumitmetab, path: /apdcephfs_cq3/share_1290939/shadowcun/evals_dev/pikavideos/prompts/a_beautiful_lady_levitating_towrads_the_sky_in_the_mountains_meditation_pose2D_animation_windy_w_seed1372825332865181648.txt\n",
      "2023-08-23 18:51:28 Num: 82, count for 'book': 0.0, prompt: @Sumitmetab Prompt: a beautiful lady levitating towrads the sky in the mountains, meditation pose,2D animation, windy, wind, dynamic camera motion, night sky, moonlit, himalayas, comic book art, science fiction, nicholas roerich --neg\"sunlight, mulitple arms, multiple legs, disfigured hands, disfigured legs, disfigured face, bad drawing, 3d, depth of field, vivid colours\"  Author: @Sumitmetab, path: /apdcephfs_cq3/share_1290939/shadowcun/evals_dev/pikavideos/prompts/a_beautiful_lady_levitating_towrads_the_sky_in_the_mountains_meditation_pose2D_animation_windy_w_seed1372825332865181648.txt\n"
     ]
    },
    {
     "name": "stdout",
     "output_type": "stream",
     "text": [
      "processed frame 23, obj_num 0\n",
      "finished\n",
      "Directory already exists: ./pikavideos/person/masks\n",
      "Directory already exists: ./pikavideos/person/mask_video\n",
      "Directory already exists: ./pikavideos/person/mask_gif\n",
      "final text_encoder_type: bert-base-uncased\n",
      "Model loaded from ./ckpt/groundingdino_swint_ogc.pth \n",
      " => _IncompatibleKeys(missing_keys=[], unexpected_keys=['label_enc.weight', 'bert.embeddings.position_ids'])\n",
      "SegTracker has been initialized\n",
      "processed frame 22, obj_num 1\r"
     ]
    },
    {
     "name": "stderr",
     "output_type": "stream",
     "text": [
      "Num: 83, count for 'person': 1.0, prompt: @Backoo World -Ai Video Animation Prompt: Female warrior fighting versus a python. -qs 1 -ar 9:6 -motion 2 -neg rain, extra people, extra man, extra person, missing lightning  Author: @Backoo World -Ai Video Animation, path: /apdcephfs_cq3/share_1290939/shadowcun/evals_dev/pikavideos/prompts/Female_warrior_fighting_versus_a_python._-qs_1_-ar_9_6_-motion_2_-neg_rain_extra_people_extra_man_seed10773135385337718221.txt\n",
      "2023-08-23 18:51:37 Num: 83, count for 'person': 1.0, prompt: @Backoo World -Ai Video Animation Prompt: Female warrior fighting versus a python. -qs 1 -ar 9:6 -motion 2 -neg rain, extra people, extra man, extra person, missing lightning  Author: @Backoo World -Ai Video Animation, path: /apdcephfs_cq3/share_1290939/shadowcun/evals_dev/pikavideos/prompts/Female_warrior_fighting_versus_a_python._-qs_1_-ar_9_6_-motion_2_-neg_rain_extra_people_extra_man_seed10773135385337718221.txt\n"
     ]
    },
    {
     "name": "stdout",
     "output_type": "stream",
     "text": [
      "processed frame 23, obj_num 1\n",
      "finished\n",
      "Directory already exists: ./pikavideos/cat/masks\n",
      "Directory already exists: ./pikavideos/cat/mask_video\n",
      "Directory already exists: ./pikavideos/cat/mask_gif\n",
      "final text_encoder_type: bert-base-uncased\n",
      "Model loaded from ./ckpt/groundingdino_swint_ogc.pth \n",
      " => _IncompatibleKeys(missing_keys=[], unexpected_keys=['label_enc.weight', 'bert.embeddings.position_ids'])\n",
      "SegTracker has been initialized\n",
      "processed frame 22, obj_num 1\r"
     ]
    },
    {
     "name": "stderr",
     "output_type": "stream",
     "text": [
      "Num: 84, count for 'cat': 1.0, prompt: @🦆 AF Prompt: cats fighting -ar 16:9 -motion 2  Author: @🦆 AF, path: /apdcephfs_cq3/share_1290939/shadowcun/evals_dev/pikavideos/prompts/cats_fighting_-ar_16_9_-motion_2_seed13206291212816161955.txt\n",
      "2023-08-23 18:51:49 Num: 84, count for 'cat': 1.0, prompt: @🦆 AF Prompt: cats fighting -ar 16:9 -motion 2  Author: @🦆 AF, path: /apdcephfs_cq3/share_1290939/shadowcun/evals_dev/pikavideos/prompts/cats_fighting_-ar_16_9_-motion_2_seed13206291212816161955.txt\n"
     ]
    },
    {
     "name": "stdout",
     "output_type": "stream",
     "text": [
      "processed frame 23, obj_num 1\n",
      "finished\n",
      "Directory already exists: ./pikavideos/bicycle/masks\n",
      "Directory already exists: ./pikavideos/bicycle/mask_video\n",
      "Directory already exists: ./pikavideos/bicycle/mask_gif\n",
      "final text_encoder_type: bert-base-uncased\n",
      "Model loaded from ./ckpt/groundingdino_swint_ogc.pth \n",
      " => _IncompatibleKeys(missing_keys=[], unexpected_keys=['label_enc.weight', 'bert.embeddings.position_ids'])\n",
      "SegTracker has been initialized\n",
      "processed frame 22, obj_num 0\r"
     ]
    },
    {
     "name": "stderr",
     "output_type": "stream",
     "text": [
      "Num: 84, count for 'bicycle': 0.0, prompt: @Midawinner Prompt: a group of people walking down a street at night with umbrellas on the windows of stores and a bicycle in a danish village  Author: @Midawinner, path: /apdcephfs_cq3/share_1290939/shadowcun/evals_dev/pikavideos/prompts/a_group_of_people_walking_down_a_street_at_night_with_umbrellas_on_the_windows_of_stores_and_a_bicyc_seed6239717797794103476.txt\n",
      "2023-08-23 18:51:59 Num: 84, count for 'bicycle': 0.0, prompt: @Midawinner Prompt: a group of people walking down a street at night with umbrellas on the windows of stores and a bicycle in a danish village  Author: @Midawinner, path: /apdcephfs_cq3/share_1290939/shadowcun/evals_dev/pikavideos/prompts/a_group_of_people_walking_down_a_street_at_night_with_umbrellas_on_the_windows_of_stores_and_a_bicyc_seed6239717797794103476.txt\n"
     ]
    },
    {
     "name": "stdout",
     "output_type": "stream",
     "text": [
      "processed frame 23, obj_num 0\n",
      "finished\n",
      "Directory created: ./pikavideos/umbrella/masks\n",
      "Directory created: ./pikavideos/umbrella/mask_video\n",
      "Directory created: ./pikavideos/umbrella/mask_gif\n",
      "final text_encoder_type: bert-base-uncased\n",
      "Model loaded from ./ckpt/groundingdino_swint_ogc.pth \n",
      " => _IncompatibleKeys(missing_keys=[], unexpected_keys=['label_enc.weight', 'bert.embeddings.position_ids'])\n",
      "SegTracker has been initialized\n",
      "processed frame 22, obj_num 0\r"
     ]
    },
    {
     "name": "stderr",
     "output_type": "stream",
     "text": [
      "Num: 84, count for 'umbrella': 0.0, prompt: @Midawinner Prompt: a group of people walking down a street at night with umbrellas on the windows of stores and a bicycle in a danish village  Author: @Midawinner, path: /apdcephfs_cq3/share_1290939/shadowcun/evals_dev/pikavideos/prompts/a_group_of_people_walking_down_a_street_at_night_with_umbrellas_on_the_windows_of_stores_and_a_bicyc_seed6239717797794103476.txt\n",
      "2023-08-23 18:52:08 Num: 84, count for 'umbrella': 0.0, prompt: @Midawinner Prompt: a group of people walking down a street at night with umbrellas on the windows of stores and a bicycle in a danish village  Author: @Midawinner, path: /apdcephfs_cq3/share_1290939/shadowcun/evals_dev/pikavideos/prompts/a_group_of_people_walking_down_a_street_at_night_with_umbrellas_on_the_windows_of_stores_and_a_bicyc_seed6239717797794103476.txt\n"
     ]
    },
    {
     "name": "stdout",
     "output_type": "stream",
     "text": [
      "processed frame 23, obj_num 0\n",
      "finished\n",
      "Directory already exists: ./pikavideos/cow/masks\n",
      "Directory already exists: ./pikavideos/cow/mask_video\n",
      "Directory already exists: ./pikavideos/cow/mask_gif\n",
      "final text_encoder_type: bert-base-uncased\n",
      "Model loaded from ./ckpt/groundingdino_swint_ogc.pth \n",
      " => _IncompatibleKeys(missing_keys=[], unexpected_keys=['label_enc.weight', 'bert.embeddings.position_ids'])\n",
      "SegTracker has been initialized\n",
      "processed frame 22, obj_num 0\r"
     ]
    },
    {
     "name": "stderr",
     "output_type": "stream",
     "text": [
      "Num: 84, count for 'cow': 0.0, prompt: @moo cow Prompt: a woman that is a spoon with big female eyes and a tiny mouth is staring at you in a dark room. the spoon has the ghost of a woman living inside of it. the spoonwoman looks alien--ar 9:16  Author: @moo cow, path: /apdcephfs_cq3/share_1290939/shadowcun/evals_dev/pikavideos/prompts/a_woman_that_is_a_spoon_with_big_female_eyes_and_a_tiny_mouth_is_staring_at_you_in_a_dark_room._the__seed15944440194995858250.txt\n",
      "2023-08-23 18:52:20 Num: 84, count for 'cow': 0.0, prompt: @moo cow Prompt: a woman that is a spoon with big female eyes and a tiny mouth is staring at you in a dark room. the spoon has the ghost of a woman living inside of it. the spoonwoman looks alien--ar 9:16  Author: @moo cow, path: /apdcephfs_cq3/share_1290939/shadowcun/evals_dev/pikavideos/prompts/a_woman_that_is_a_spoon_with_big_female_eyes_and_a_tiny_mouth_is_staring_at_you_in_a_dark_room._the__seed15944440194995858250.txt\n"
     ]
    },
    {
     "name": "stdout",
     "output_type": "stream",
     "text": [
      "processed frame 23, obj_num 0\n",
      "finished\n",
      "Directory created: ./pikavideos/spoon/masks\n",
      "Directory created: ./pikavideos/spoon/mask_video\n",
      "Directory created: ./pikavideos/spoon/mask_gif\n",
      "final text_encoder_type: bert-base-uncased\n",
      "Model loaded from ./ckpt/groundingdino_swint_ogc.pth \n",
      " => _IncompatibleKeys(missing_keys=[], unexpected_keys=['label_enc.weight', 'bert.embeddings.position_ids'])\n",
      "SegTracker has been initialized\n",
      "processed frame 22, obj_num 0\r"
     ]
    },
    {
     "name": "stderr",
     "output_type": "stream",
     "text": [
      "Num: 84, count for 'spoon': 0.0, prompt: @moo cow Prompt: a woman that is a spoon with big female eyes and a tiny mouth is staring at you in a dark room. the spoon has the ghost of a woman living inside of it. the spoonwoman looks alien--ar 9:16  Author: @moo cow, path: /apdcephfs_cq3/share_1290939/shadowcun/evals_dev/pikavideos/prompts/a_woman_that_is_a_spoon_with_big_female_eyes_and_a_tiny_mouth_is_staring_at_you_in_a_dark_room._the__seed15944440194995858250.txt\n",
      "2023-08-23 18:52:30 Num: 84, count for 'spoon': 0.0, prompt: @moo cow Prompt: a woman that is a spoon with big female eyes and a tiny mouth is staring at you in a dark room. the spoon has the ghost of a woman living inside of it. the spoonwoman looks alien--ar 9:16  Author: @moo cow, path: /apdcephfs_cq3/share_1290939/shadowcun/evals_dev/pikavideos/prompts/a_woman_that_is_a_spoon_with_big_female_eyes_and_a_tiny_mouth_is_staring_at_you_in_a_dark_room._the__seed15944440194995858250.txt\n"
     ]
    },
    {
     "name": "stdout",
     "output_type": "stream",
     "text": [
      "processed frame 23, obj_num 0\n",
      "finished\n",
      "Directory already exists: ./pikavideos/dog/masks\n",
      "Directory already exists: ./pikavideos/dog/mask_video\n",
      "Directory already exists: ./pikavideos/dog/mask_gif\n",
      "final text_encoder_type: bert-base-uncased\n",
      "Model loaded from ./ckpt/groundingdino_swint_ogc.pth \n",
      " => _IncompatibleKeys(missing_keys=[], unexpected_keys=['label_enc.weight', 'bert.embeddings.position_ids'])\n",
      "SegTracker has been initialized\n",
      "processed frame 22, obj_num 1\r"
     ]
    },
    {
     "name": "stderr",
     "output_type": "stream",
     "text": [
      "Num: 85, count for 'dog': 1.0, prompt: @pljh Prompt: The cute dog squats and nods slightly  Image: 1 Attachment  Author: @pljh, path: /apdcephfs_cq3/share_1290939/shadowcun/evals_dev/pikavideos/prompts/The_cute_dog_squats_and_nods_slightly__Image__1_Attachment_seed11791342803992450285.txt\n",
      "2023-08-23 18:52:40 Num: 85, count for 'dog': 1.0, prompt: @pljh Prompt: The cute dog squats and nods slightly  Image: 1 Attachment  Author: @pljh, path: /apdcephfs_cq3/share_1290939/shadowcun/evals_dev/pikavideos/prompts/The_cute_dog_squats_and_nods_slightly__Image__1_Attachment_seed11791342803992450285.txt\n"
     ]
    },
    {
     "name": "stdout",
     "output_type": "stream",
     "text": [
      "processed frame 23, obj_num 1\n",
      "finished\n",
      "Directory already exists: ./pikavideos/car/masks\n",
      "Directory already exists: ./pikavideos/car/mask_video\n",
      "Directory already exists: ./pikavideos/car/mask_gif\n",
      "final text_encoder_type: bert-base-uncased\n",
      "Model loaded from ./ckpt/groundingdino_swint_ogc.pth \n",
      " => _IncompatibleKeys(missing_keys=[], unexpected_keys=['label_enc.weight', 'bert.embeddings.position_ids'])\n",
      "SegTracker has been initialized\n",
      "processed frame 22, obj_num 1\r"
     ]
    },
    {
     "name": "stderr",
     "output_type": "stream",
     "text": [
      "Num: 86, count for 'car': 1.0, prompt: @BroZtun Prompt: sport car  Author: @BroZtun, path: /apdcephfs_cq3/share_1290939/shadowcun/evals_dev/pikavideos/prompts/sport_car_seed5377194011456783672.txt\n",
      "2023-08-23 18:52:50 Num: 86, count for 'car': 1.0, prompt: @BroZtun Prompt: sport car  Author: @BroZtun, path: /apdcephfs_cq3/share_1290939/shadowcun/evals_dev/pikavideos/prompts/sport_car_seed5377194011456783672.txt\n"
     ]
    },
    {
     "name": "stdout",
     "output_type": "stream",
     "text": [
      "processed frame 23, obj_num 1\n",
      "finished\n",
      "Directory created: ./pikavideos/oven/masks\n",
      "Directory created: ./pikavideos/oven/mask_video\n",
      "Directory created: ./pikavideos/oven/mask_gif\n",
      "final text_encoder_type: bert-base-uncased\n",
      "Model loaded from ./ckpt/groundingdino_swint_ogc.pth \n",
      " => _IncompatibleKeys(missing_keys=[], unexpected_keys=['label_enc.weight', 'bert.embeddings.position_ids'])\n",
      "SegTracker has been initialized\n",
      "processed frame 22, obj_num 0\r"
     ]
    },
    {
     "name": "stderr",
     "output_type": "stream",
     "text": [
      "Num: 86, count for 'oven': 0.0, prompt: @ethan narratica Prompt: food ad, old iron oven being opened, cinematic, 4k -motion 4  Author: @ethan narratica, path: /apdcephfs_cq3/share_1290939/shadowcun/evals_dev/pikavideos/prompts/food_ad_old_iron_oven_being_opened_cinematic_4k_-motion_4_seed10120839239057148044.txt\n",
      "2023-08-23 18:53:00 Num: 86, count for 'oven': 0.0, prompt: @ethan narratica Prompt: food ad, old iron oven being opened, cinematic, 4k -motion 4  Author: @ethan narratica, path: /apdcephfs_cq3/share_1290939/shadowcun/evals_dev/pikavideos/prompts/food_ad_old_iron_oven_being_opened_cinematic_4k_-motion_4_seed10120839239057148044.txt\n"
     ]
    },
    {
     "name": "stdout",
     "output_type": "stream",
     "text": [
      "processed frame 23, obj_num 0\n",
      "finished\n",
      "Directory already exists: ./pikavideos/person/masks\n",
      "Directory already exists: ./pikavideos/person/mask_video\n",
      "Directory already exists: ./pikavideos/person/mask_gif\n",
      "final text_encoder_type: bert-base-uncased\n",
      "Model loaded from ./ckpt/groundingdino_swint_ogc.pth \n",
      " => _IncompatibleKeys(missing_keys=[], unexpected_keys=['label_enc.weight', 'bert.embeddings.position_ids'])\n",
      "SegTracker has been initialized\n",
      "processed frame 22, obj_num 1\r"
     ]
    },
    {
     "name": "stderr",
     "output_type": "stream",
     "text": [
      "Num: 87, count for 'person': 1.0, prompt: @vjsethvj Prompt: soldiers, cinematic, explosions, 4k, fire, wind blowing, smoke, all these behind the person smoking  Image: 1 Attachment  Author: @vjsethvj, path: /apdcephfs_cq3/share_1290939/shadowcun/evals_dev/pikavideos/prompts/soldiers_cinematic_explosions_4k_fire_wind_blowing_smoke_all_these_behind_the_person_smoking__seed10571518686784218602.txt\n",
      "2023-08-23 18:53:10 Num: 87, count for 'person': 1.0, prompt: @vjsethvj Prompt: soldiers, cinematic, explosions, 4k, fire, wind blowing, smoke, all these behind the person smoking  Image: 1 Attachment  Author: @vjsethvj, path: /apdcephfs_cq3/share_1290939/shadowcun/evals_dev/pikavideos/prompts/soldiers_cinematic_explosions_4k_fire_wind_blowing_smoke_all_these_behind_the_person_smoking__seed10571518686784218602.txt\n"
     ]
    },
    {
     "name": "stdout",
     "output_type": "stream",
     "text": [
      "processed frame 23, obj_num 1\n",
      "finished\n",
      "Directory already exists: ./pikavideos/cat/masks\n",
      "Directory already exists: ./pikavideos/cat/mask_video\n",
      "Directory already exists: ./pikavideos/cat/mask_gif\n",
      "final text_encoder_type: bert-base-uncased\n",
      "Model loaded from ./ckpt/groundingdino_swint_ogc.pth \n",
      " => _IncompatibleKeys(missing_keys=[], unexpected_keys=['label_enc.weight', 'bert.embeddings.position_ids'])\n",
      "SegTracker has been initialized\n",
      "processed frame 22, obj_num 2\r"
     ]
    },
    {
     "name": "stderr",
     "output_type": "stream",
     "text": [
      "Num: 88, count for 'cat': 2.0, prompt: @Sâdsf Prompt: army cat vs zombie  Author: @Sâdsf, path: /apdcephfs_cq3/share_1290939/shadowcun/evals_dev/pikavideos/prompts/army_cat_vs_zombie_seed7124679321577652842.txt\n",
      "2023-08-23 18:53:20 Num: 88, count for 'cat': 2.0, prompt: @Sâdsf Prompt: army cat vs zombie  Author: @Sâdsf, path: /apdcephfs_cq3/share_1290939/shadowcun/evals_dev/pikavideos/prompts/army_cat_vs_zombie_seed7124679321577652842.txt\n"
     ]
    },
    {
     "name": "stdout",
     "output_type": "stream",
     "text": [
      "processed frame 23, obj_num 2\n",
      "finished\n",
      "Directory already exists: ./pikavideos/cow/masks\n",
      "Directory already exists: ./pikavideos/cow/mask_video\n",
      "Directory already exists: ./pikavideos/cow/mask_gif\n",
      "final text_encoder_type: bert-base-uncased\n",
      "Model loaded from ./ckpt/groundingdino_swint_ogc.pth \n",
      " => _IncompatibleKeys(missing_keys=[], unexpected_keys=['label_enc.weight', 'bert.embeddings.position_ids'])\n",
      "SegTracker has been initialized\n",
      "processed frame 22, obj_num 0\r"
     ]
    },
    {
     "name": "stderr",
     "output_type": "stream",
     "text": [
      "Num: 88, count for 'cow': 0.0, prompt: Pika BOT 07/25/2023 1:59 PM@moo cow Prompt: Close Encounters of the Third Kind  Author: @moo cow, path: /apdcephfs_cq3/share_1290939/shadowcun/evals_dev/pikavideos/prompts/Close_Encounters_of_the_Third_Kind_seed1249203786905796555.txt\n",
      "2023-08-23 18:53:29 Num: 88, count for 'cow': 0.0, prompt: Pika BOT 07/25/2023 1:59 PM@moo cow Prompt: Close Encounters of the Third Kind  Author: @moo cow, path: /apdcephfs_cq3/share_1290939/shadowcun/evals_dev/pikavideos/prompts/Close_Encounters_of_the_Third_Kind_seed1249203786905796555.txt\n"
     ]
    },
    {
     "name": "stdout",
     "output_type": "stream",
     "text": [
      "processed frame 23, obj_num 0\n",
      "finished\n",
      "Directory already exists: ./pikavideos/person/masks\n",
      "Directory already exists: ./pikavideos/person/mask_video\n",
      "Directory already exists: ./pikavideos/person/mask_gif\n",
      "final text_encoder_type: bert-base-uncased\n",
      "Model loaded from ./ckpt/groundingdino_swint_ogc.pth \n",
      " => _IncompatibleKeys(missing_keys=[], unexpected_keys=['label_enc.weight', 'bert.embeddings.position_ids'])\n",
      "SegTracker has been initialized\n",
      "processed frame 22, obj_num 1\r"
     ]
    },
    {
     "name": "stderr",
     "output_type": "stream",
     "text": [
      "Num: 89, count for 'person': 1.0, prompt: @escorza Prompt: frustrated person in the 18th century sitting at his desk and throwing the sheets of paper on the floor -ar 16:9  Author: @escorza, path: /apdcephfs_cq3/share_1290939/shadowcun/evals_dev/pikavideos/prompts/frustrated_person_in_the_18th_century_sitting_at_his_desk_and_throwing_the_sheets_of_paper_on_the_fl_seed13618059069347916229.txt\n",
      "2023-08-23 18:53:39 Num: 89, count for 'person': 1.0, prompt: @escorza Prompt: frustrated person in the 18th century sitting at his desk and throwing the sheets of paper on the floor -ar 16:9  Author: @escorza, path: /apdcephfs_cq3/share_1290939/shadowcun/evals_dev/pikavideos/prompts/frustrated_person_in_the_18th_century_sitting_at_his_desk_and_throwing_the_sheets_of_paper_on_the_fl_seed13618059069347916229.txt\n"
     ]
    },
    {
     "name": "stdout",
     "output_type": "stream",
     "text": [
      "processed frame 23, obj_num 1\n",
      "finished\n",
      "Directory already exists: ./pikavideos/book/masks\n",
      "Directory already exists: ./pikavideos/book/mask_video\n",
      "Directory already exists: ./pikavideos/book/mask_gif\n",
      "final text_encoder_type: bert-base-uncased\n",
      "Model loaded from ./ckpt/groundingdino_swint_ogc.pth \n",
      " => _IncompatibleKeys(missing_keys=[], unexpected_keys=['label_enc.weight', 'bert.embeddings.position_ids'])\n",
      "SegTracker has been initialized\n",
      "processed frame 22, obj_num 0\r"
     ]
    },
    {
     "name": "stderr",
     "output_type": "stream",
     "text": [
      "Num: 89, count for 'book': 0.0, prompt: @Карлос Мухмедов Prompt: Vladimir Putin dances with the book Atomic Heart  Author: @Карлос Мухмедов, path: /apdcephfs_cq3/share_1290939/shadowcun/evals_dev/pikavideos/prompts/Vladimir_Putin_dances_with_the_book_Atomic_Heart_seed12025615929186879809.txt\n",
      "2023-08-23 18:53:49 Num: 89, count for 'book': 0.0, prompt: @Карлос Мухмедов Prompt: Vladimir Putin dances with the book Atomic Heart  Author: @Карлос Мухмедов, path: /apdcephfs_cq3/share_1290939/shadowcun/evals_dev/pikavideos/prompts/Vladimir_Putin_dances_with_the_book_Atomic_Heart_seed12025615929186879809.txt\n"
     ]
    },
    {
     "name": "stdout",
     "output_type": "stream",
     "text": [
      "processed frame 23, obj_num 0\n",
      "finished\n",
      "Directory already exists: ./pikavideos/bed/masks\n",
      "Directory already exists: ./pikavideos/bed/mask_video\n",
      "Directory already exists: ./pikavideos/bed/mask_gif\n",
      "final text_encoder_type: bert-base-uncased\n",
      "Model loaded from ./ckpt/groundingdino_swint_ogc.pth \n",
      " => _IncompatibleKeys(missing_keys=[], unexpected_keys=['label_enc.weight', 'bert.embeddings.position_ids'])\n",
      "SegTracker has been initialized\n",
      "processed frame 22, obj_num 0\r"
     ]
    },
    {
     "name": "stderr",
     "output_type": "stream",
     "text": [
      "Num: 89, count for 'bed': 0.0, prompt: @Moepick Prompt: A girl, profile, sitting on a bed, looking at a mobile phone, illustration style  Author: @Moepick, path: /apdcephfs_cq3/share_1290939/shadowcun/evals_dev/pikavideos/prompts/A_girl_profile_sitting_on_a_bed_looking_at_a_mobile_phone_illustration_style_seed16555077850182190271.txt\n",
      "2023-08-23 18:54:00 Num: 89, count for 'bed': 0.0, prompt: @Moepick Prompt: A girl, profile, sitting on a bed, looking at a mobile phone, illustration style  Author: @Moepick, path: /apdcephfs_cq3/share_1290939/shadowcun/evals_dev/pikavideos/prompts/A_girl_profile_sitting_on_a_bed_looking_at_a_mobile_phone_illustration_style_seed16555077850182190271.txt\n"
     ]
    },
    {
     "name": "stdout",
     "output_type": "stream",
     "text": [
      "processed frame 23, obj_num 0\n",
      "finished\n",
      "Directory already exists: ./pikavideos/car/masks\n",
      "Directory already exists: ./pikavideos/car/mask_video\n",
      "Directory already exists: ./pikavideos/car/mask_gif\n",
      "final text_encoder_type: bert-base-uncased\n",
      "Model loaded from ./ckpt/groundingdino_swint_ogc.pth \n",
      " => _IncompatibleKeys(missing_keys=[], unexpected_keys=['label_enc.weight', 'bert.embeddings.position_ids'])\n",
      "SegTracker has been initialized\n",
      "processed frame 22, obj_num 1\r"
     ]
    },
    {
     "name": "stderr",
     "output_type": "stream",
     "text": [
      "Num: 90, count for 'car': 1.0, prompt: @꧁☬⋆ТᎻᎬ༒ᏦᎥᏁᏳ⋆☬꧂ Prompt: car gets into an accident footage from behind  Author: @꧁☬⋆ТᎻᎬ༒ᏦᎥᏁᏳ⋆☬꧂, path: /apdcephfs_cq3/share_1290939/shadowcun/evals_dev/pikavideos/prompts/car_gets_into_an_accident_footage_from_behind_seed13591742287728995427.txt\n",
      "2023-08-23 18:54:10 Num: 90, count for 'car': 1.0, prompt: @꧁☬⋆ТᎻᎬ༒ᏦᎥᏁᏳ⋆☬꧂ Prompt: car gets into an accident footage from behind  Author: @꧁☬⋆ТᎻᎬ༒ᏦᎥᏁᏳ⋆☬꧂, path: /apdcephfs_cq3/share_1290939/shadowcun/evals_dev/pikavideos/prompts/car_gets_into_an_accident_footage_from_behind_seed13591742287728995427.txt\n"
     ]
    },
    {
     "name": "stdout",
     "output_type": "stream",
     "text": [
      "processed frame 23, obj_num 1\n",
      "finished\n",
      "Directory already exists: ./pikavideos/giraffe/masks\n",
      "Directory already exists: ./pikavideos/giraffe/mask_video\n",
      "Directory already exists: ./pikavideos/giraffe/mask_gif\n",
      "final text_encoder_type: bert-base-uncased\n",
      "Model loaded from ./ckpt/groundingdino_swint_ogc.pth \n",
      " => _IncompatibleKeys(missing_keys=[], unexpected_keys=['label_enc.weight', 'bert.embeddings.position_ids'])\n",
      "SegTracker has been initialized\n",
      "processed frame 22, obj_num 1\r"
     ]
    },
    {
     "name": "stderr",
     "output_type": "stream",
     "text": [
      "Num: 91, count for 'giraffe': 1.0, prompt: @bishu1990cool Prompt: giraffe is walking  Image: 1 Attachment  Author: @bishu1990cool, path: /apdcephfs_cq3/share_1290939/shadowcun/evals_dev/pikavideos/prompts/giraffe_is_walking__Image__1_Attachment_seed2718011336393332073.txt\n",
      "2023-08-23 18:54:21 Num: 91, count for 'giraffe': 1.0, prompt: @bishu1990cool Prompt: giraffe is walking  Image: 1 Attachment  Author: @bishu1990cool, path: /apdcephfs_cq3/share_1290939/shadowcun/evals_dev/pikavideos/prompts/giraffe_is_walking__Image__1_Attachment_seed2718011336393332073.txt\n"
     ]
    },
    {
     "name": "stdout",
     "output_type": "stream",
     "text": [
      "processed frame 23, obj_num 1\n",
      "finished\n",
      "Directory already exists: ./pikavideos/tv/masks\n",
      "Directory already exists: ./pikavideos/tv/mask_video\n",
      "Directory already exists: ./pikavideos/tv/mask_gif\n",
      "final text_encoder_type: bert-base-uncased\n",
      "Model loaded from ./ckpt/groundingdino_swint_ogc.pth \n",
      " => _IncompatibleKeys(missing_keys=[], unexpected_keys=['label_enc.weight', 'bert.embeddings.position_ids'])\n",
      "SegTracker has been initialized\n",
      "processed frame 22, obj_num 0\r"
     ]
    },
    {
     "name": "stderr",
     "output_type": "stream",
     "text": [
      "Num: 91, count for 'tv': 0.0, prompt: @ランラン-ᛒᛚᚢᛒ Prompt: <lora:AnalogDistortion:0.4>,donald trump clapping his hands around a strobe light,AnalogDistortion, analog photo  , analog photo, fujifilm, fujicolor, LOMO, nexpo,in the style of 70s-90s dating hotline tv comercial ads lost media -gs1  Image: 1 Attachment  Author: @ランラン-ᛒᛚᚢᛒ, path: /apdcephfs_cq3/share_1290939/shadowcun/evals_dev/pikavideos/prompts/lora_AnalogDistortion_0.4_donald_trump_clapping_his_hands_around_a_strobe_lightAnalogDistortion__seed11758982034462770154.txt\n",
      "2023-08-23 18:54:31 Num: 91, count for 'tv': 0.0, prompt: @ランラン-ᛒᛚᚢᛒ Prompt: <lora:AnalogDistortion:0.4>,donald trump clapping his hands around a strobe light,AnalogDistortion, analog photo  , analog photo, fujifilm, fujicolor, LOMO, nexpo,in the style of 70s-90s dating hotline tv comercial ads lost media -gs1  Image: 1 Attachment  Author: @ランラン-ᛒᛚᚢᛒ, path: /apdcephfs_cq3/share_1290939/shadowcun/evals_dev/pikavideos/prompts/lora_AnalogDistortion_0.4_donald_trump_clapping_his_hands_around_a_strobe_lightAnalogDistortion__seed11758982034462770154.txt\n"
     ]
    },
    {
     "name": "stdout",
     "output_type": "stream",
     "text": [
      "processed frame 23, obj_num 0\n",
      "finished\n",
      "Directory already exists: ./pikavideos/skateboard/masks\n",
      "Directory already exists: ./pikavideos/skateboard/mask_video\n",
      "Directory already exists: ./pikavideos/skateboard/mask_gif\n",
      "final text_encoder_type: bert-base-uncased\n",
      "Model loaded from ./ckpt/groundingdino_swint_ogc.pth \n",
      " => _IncompatibleKeys(missing_keys=[], unexpected_keys=['label_enc.weight', 'bert.embeddings.position_ids'])\n",
      "SegTracker has been initialized\n",
      "processed frame 22, obj_num 0\r"
     ]
    },
    {
     "name": "stderr",
     "output_type": "stream",
     "text": [
      "Num: 91, count for 'skateboard': 0.0, prompt: @srsfr liked a video of @ランラン-ᛒᛚᚢᛒ. (Prompt: <lora:AnalogDistortion:1>, a girl riding a skateboard, miami beach sunset,AnalogDistortion, analog photo  , analog photo, fujifilm, fujicolor, LOMO, nexpo,in the style of 70s-90s dating hotline tv comercial ads lost media  Author: @ランラン-ᛒᛚᚢᛒ), path: /apdcephfs_cq3/share_1290939/shadowcun/evals_dev/pikavideos/prompts/lora_AnalogDistortion_1__a_girl_riding_a_skateboard_miami_beach_sunsetAnalogDistortion_analog_p_seed16032842601969260758.txt\n",
      "2023-08-23 18:54:41 Num: 91, count for 'skateboard': 0.0, prompt: @srsfr liked a video of @ランラン-ᛒᛚᚢᛒ. (Prompt: <lora:AnalogDistortion:1>, a girl riding a skateboard, miami beach sunset,AnalogDistortion, analog photo  , analog photo, fujifilm, fujicolor, LOMO, nexpo,in the style of 70s-90s dating hotline tv comercial ads lost media  Author: @ランラン-ᛒᛚᚢᛒ), path: /apdcephfs_cq3/share_1290939/shadowcun/evals_dev/pikavideos/prompts/lora_AnalogDistortion_1__a_girl_riding_a_skateboard_miami_beach_sunsetAnalogDistortion_analog_p_seed16032842601969260758.txt\n"
     ]
    },
    {
     "name": "stdout",
     "output_type": "stream",
     "text": [
      "processed frame 23, obj_num 0\n",
      "finished\n",
      "Directory already exists: ./pikavideos/tv/masks\n",
      "Directory already exists: ./pikavideos/tv/mask_video\n",
      "Directory already exists: ./pikavideos/tv/mask_gif\n",
      "final text_encoder_type: bert-base-uncased\n",
      "Model loaded from ./ckpt/groundingdino_swint_ogc.pth \n",
      " => _IncompatibleKeys(missing_keys=[], unexpected_keys=['label_enc.weight', 'bert.embeddings.position_ids'])\n",
      "SegTracker has been initialized\n",
      "processed frame 22, obj_num 0\r"
     ]
    },
    {
     "name": "stderr",
     "output_type": "stream",
     "text": [
      "Num: 91, count for 'tv': 0.0, prompt: @srsfr liked a video of @ランラン-ᛒᛚᚢᛒ. (Prompt: <lora:AnalogDistortion:1>, a girl riding a skateboard, miami beach sunset,AnalogDistortion, analog photo  , analog photo, fujifilm, fujicolor, LOMO, nexpo,in the style of 70s-90s dating hotline tv comercial ads lost media  Author: @ランラン-ᛒᛚᚢᛒ), path: /apdcephfs_cq3/share_1290939/shadowcun/evals_dev/pikavideos/prompts/lora_AnalogDistortion_1__a_girl_riding_a_skateboard_miami_beach_sunsetAnalogDistortion_analog_p_seed16032842601969260758.txt\n",
      "2023-08-23 18:54:51 Num: 91, count for 'tv': 0.0, prompt: @srsfr liked a video of @ランラン-ᛒᛚᚢᛒ. (Prompt: <lora:AnalogDistortion:1>, a girl riding a skateboard, miami beach sunset,AnalogDistortion, analog photo  , analog photo, fujifilm, fujicolor, LOMO, nexpo,in the style of 70s-90s dating hotline tv comercial ads lost media  Author: @ランラン-ᛒᛚᚢᛒ), path: /apdcephfs_cq3/share_1290939/shadowcun/evals_dev/pikavideos/prompts/lora_AnalogDistortion_1__a_girl_riding_a_skateboard_miami_beach_sunsetAnalogDistortion_analog_p_seed16032842601969260758.txt\n"
     ]
    },
    {
     "name": "stdout",
     "output_type": "stream",
     "text": [
      "processed frame 23, obj_num 0\n",
      "finished\n",
      "Directory already exists: ./pikavideos/car/masks\n",
      "Directory already exists: ./pikavideos/car/mask_video\n",
      "Directory already exists: ./pikavideos/car/mask_gif\n",
      "final text_encoder_type: bert-base-uncased\n",
      "Model loaded from ./ckpt/groundingdino_swint_ogc.pth \n",
      " => _IncompatibleKeys(missing_keys=[], unexpected_keys=['label_enc.weight', 'bert.embeddings.position_ids'])\n",
      "SegTracker has been initialized\n",
      "processed frame 22, obj_num 1\r"
     ]
    },
    {
     "name": "stderr",
     "output_type": "stream",
     "text": [
      "Num: 92, count for 'car': 1.0, prompt: Pika BOT 08/05/2023 11:17 PM@ksolanki8 liked a video of @ksolanki8. (Prompt: a car converting into a transformer, sunny day, highly detailed, 8k, cinematic, sci fi film  Author: @ksolanki8), path: /apdcephfs_cq3/share_1290939/shadowcun/evals_dev/pikavideos/prompts/a_car_converting_into_a_transformer_sunny_day_highly_detailed_8k_cinematic_sci_fi_film_seed16233371724984420311.txt\n",
      "2023-08-23 18:55:01 Num: 92, count for 'car': 1.0, prompt: Pika BOT 08/05/2023 11:17 PM@ksolanki8 liked a video of @ksolanki8. (Prompt: a car converting into a transformer, sunny day, highly detailed, 8k, cinematic, sci fi film  Author: @ksolanki8), path: /apdcephfs_cq3/share_1290939/shadowcun/evals_dev/pikavideos/prompts/a_car_converting_into_a_transformer_sunny_day_highly_detailed_8k_cinematic_sci_fi_film_seed16233371724984420311.txt\n"
     ]
    },
    {
     "name": "stdout",
     "output_type": "stream",
     "text": [
      "processed frame 23, obj_num 1\n",
      "finished\n",
      "Directory already exists: ./pikavideos/book/masks\n",
      "Directory already exists: ./pikavideos/book/mask_video\n",
      "Directory already exists: ./pikavideos/book/mask_gif\n",
      "final text_encoder_type: bert-base-uncased\n",
      "Model loaded from ./ckpt/groundingdino_swint_ogc.pth \n",
      " => _IncompatibleKeys(missing_keys=[], unexpected_keys=['label_enc.weight', 'bert.embeddings.position_ids'])\n",
      "SegTracker has been initialized\n",
      "processed frame 22, obj_num 1\r"
     ]
    },
    {
     "name": "stderr",
     "output_type": "stream",
     "text": [
      "Num: 93, count for 'book': 1.0, prompt: @Umedjon Prompt: Omar Khayyam reads books  Author: @Umedjon, path: /apdcephfs_cq3/share_1290939/shadowcun/evals_dev/pikavideos/prompts/Omar_Khayyam_reads_books_seed2647466052356689773.txt\n",
      "2023-08-23 18:55:11 Num: 93, count for 'book': 1.0, prompt: @Umedjon Prompt: Omar Khayyam reads books  Author: @Umedjon, path: /apdcephfs_cq3/share_1290939/shadowcun/evals_dev/pikavideos/prompts/Omar_Khayyam_reads_books_seed2647466052356689773.txt\n"
     ]
    },
    {
     "name": "stdout",
     "output_type": "stream",
     "text": [
      "processed frame 23, obj_num 1\n",
      "finished\n",
      "Directory already exists: ./pikavideos/motorcycle/masks\n",
      "Directory already exists: ./pikavideos/motorcycle/mask_video\n",
      "Directory already exists: ./pikavideos/motorcycle/mask_gif\n",
      "final text_encoder_type: bert-base-uncased\n",
      "Model loaded from ./ckpt/groundingdino_swint_ogc.pth \n",
      " => _IncompatibleKeys(missing_keys=[], unexpected_keys=['label_enc.weight', 'bert.embeddings.position_ids'])\n",
      "SegTracker has been initialized\n",
      "processed frame 22, obj_num 1\r"
     ]
    },
    {
     "name": "stderr",
     "output_type": "stream",
     "text": [
      "Num: 94, count for 'motorcycle': 1.0, prompt: @Skraaglenax liked a video of @gabon. (Prompt: a PET riding a motorcycle in town  Image: 1 Attachment  Author: @gabon), path: /apdcephfs_cq3/share_1290939/shadowcun/evals_dev/pikavideos/prompts/a_PET_riding_a_motorcycle_in_town__Image__1_Attachment_seed15923176396217617607.txt\n",
      "2023-08-23 18:55:22 Num: 94, count for 'motorcycle': 1.0, prompt: @Skraaglenax liked a video of @gabon. (Prompt: a PET riding a motorcycle in town  Image: 1 Attachment  Author: @gabon), path: /apdcephfs_cq3/share_1290939/shadowcun/evals_dev/pikavideos/prompts/a_PET_riding_a_motorcycle_in_town__Image__1_Attachment_seed15923176396217617607.txt\n"
     ]
    },
    {
     "name": "stdout",
     "output_type": "stream",
     "text": [
      "processed frame 23, obj_num 1\n",
      "finished\n",
      "Directory already exists: ./pikavideos/dog/masks\n",
      "Directory already exists: ./pikavideos/dog/mask_video\n",
      "Directory already exists: ./pikavideos/dog/mask_gif\n",
      "final text_encoder_type: bert-base-uncased\n",
      "Model loaded from ./ckpt/groundingdino_swint_ogc.pth \n",
      " => _IncompatibleKeys(missing_keys=[], unexpected_keys=['label_enc.weight', 'bert.embeddings.position_ids'])\n",
      "SegTracker has been initialized\n",
      "processed frame 22, obj_num 0\r"
     ]
    },
    {
     "name": "stderr",
     "output_type": "stream",
     "text": [
      "Num: 94, count for 'dog': 0.0, prompt: @u dikke panda Prompt: The crowd is very upset with the dog.  Image: 1 Attachment  Author: @u dikke panda, path: /apdcephfs_cq3/share_1290939/shadowcun/evals_dev/pikavideos/prompts/The_crowd_is_very_upset_with_the_dog.__Image__1_Attachment_seed11093558594390490709.txt\n",
      "2023-08-23 18:55:32 Num: 94, count for 'dog': 0.0, prompt: @u dikke panda Prompt: The crowd is very upset with the dog.  Image: 1 Attachment  Author: @u dikke panda, path: /apdcephfs_cq3/share_1290939/shadowcun/evals_dev/pikavideos/prompts/The_crowd_is_very_upset_with_the_dog.__Image__1_Attachment_seed11093558594390490709.txt\n"
     ]
    },
    {
     "name": "stdout",
     "output_type": "stream",
     "text": [
      "processed frame 23, obj_num 0\n",
      "finished\n",
      "Directory already exists: ./pikavideos/bear/masks\n",
      "Directory already exists: ./pikavideos/bear/mask_video\n",
      "Directory already exists: ./pikavideos/bear/mask_gif\n",
      "final text_encoder_type: bert-base-uncased\n",
      "Model loaded from ./ckpt/groundingdino_swint_ogc.pth \n",
      " => _IncompatibleKeys(missing_keys=[], unexpected_keys=['label_enc.weight', 'bert.embeddings.position_ids'])\n",
      "SegTracker has been initialized\n",
      "processed frame 22, obj_num 1\r"
     ]
    },
    {
     "name": "stderr",
     "output_type": "stream",
     "text": [
      "Num: 95, count for 'bear': 1.0, prompt: @Alice-Phinix Prompt: the bear moves  Image: 1 Attachment  Author: @Alice-Phinix, path: /apdcephfs_cq3/share_1290939/shadowcun/evals_dev/pikavideos/prompts/the_bear_moves__Image__1_Attachment_seed2168523509643401528.txt\n",
      "2023-08-23 18:55:44 Num: 95, count for 'bear': 1.0, prompt: @Alice-Phinix Prompt: the bear moves  Image: 1 Attachment  Author: @Alice-Phinix, path: /apdcephfs_cq3/share_1290939/shadowcun/evals_dev/pikavideos/prompts/the_bear_moves__Image__1_Attachment_seed2168523509643401528.txt\n"
     ]
    },
    {
     "name": "stdout",
     "output_type": "stream",
     "text": [
      "processed frame 23, obj_num 1\n",
      "finished\n",
      "Directory already exists: ./pikavideos/person/masks\n",
      "Directory already exists: ./pikavideos/person/mask_video\n",
      "Directory already exists: ./pikavideos/person/mask_gif\n",
      "final text_encoder_type: bert-base-uncased\n",
      "Model loaded from ./ckpt/groundingdino_swint_ogc.pth \n",
      " => _IncompatibleKeys(missing_keys=[], unexpected_keys=['label_enc.weight', 'bert.embeddings.position_ids'])\n",
      "SegTracker has been initialized\n",
      "processed frame 22, obj_num 0\r"
     ]
    },
    {
     "name": "stderr",
     "output_type": "stream",
     "text": [
      "Num: 95, count for 'person': 0.0, prompt: @Genarodesigns Prompt: one person looking directly into the camera laughing  Author: @Genarodesigns, path: /apdcephfs_cq3/share_1290939/shadowcun/evals_dev/pikavideos/prompts/one_person_looking_directly_into_the_camera_laughing_seed12286867639824760884.txt\n",
      "2023-08-23 18:55:53 Num: 95, count for 'person': 0.0, prompt: @Genarodesigns Prompt: one person looking directly into the camera laughing  Author: @Genarodesigns, path: /apdcephfs_cq3/share_1290939/shadowcun/evals_dev/pikavideos/prompts/one_person_looking_directly_into_the_camera_laughing_seed12286867639824760884.txt\n"
     ]
    },
    {
     "name": "stdout",
     "output_type": "stream",
     "text": [
      "processed frame 23, obj_num 0\n",
      "finished\n",
      "Directory already exists: ./pikavideos/laptop/masks\n",
      "Directory already exists: ./pikavideos/laptop/mask_video\n",
      "Directory already exists: ./pikavideos/laptop/mask_gif\n",
      "final text_encoder_type: bert-base-uncased\n",
      "Model loaded from ./ckpt/groundingdino_swint_ogc.pth \n",
      " => _IncompatibleKeys(missing_keys=[], unexpected_keys=['label_enc.weight', 'bert.embeddings.position_ids'])\n",
      "SegTracker has been initialized\n",
      "processed frame 22, obj_num 0\r"
     ]
    },
    {
     "name": "stderr",
     "output_type": "stream",
     "text": [
      "Num: 95, count for 'laptop': 0.0, prompt: @cancy Prompt: 2d animated film, END  message on the laptop ,punk style--ar  9:16  Author: @cancy, path: /apdcephfs_cq3/share_1290939/shadowcun/evals_dev/pikavideos/prompts/2d_animated_film_END__message_on_the_laptop_punk_style--ar__9_16_seed3069666009061396924.txt\n",
      "2023-08-23 18:56:05 Num: 95, count for 'laptop': 0.0, prompt: @cancy Prompt: 2d animated film, END  message on the laptop ,punk style--ar  9:16  Author: @cancy, path: /apdcephfs_cq3/share_1290939/shadowcun/evals_dev/pikavideos/prompts/2d_animated_film_END__message_on_the_laptop_punk_style--ar__9_16_seed3069666009061396924.txt\n"
     ]
    },
    {
     "name": "stdout",
     "output_type": "stream",
     "text": [
      "processed frame 23, obj_num 0\n",
      "finished\n",
      "Directory already exists: ./pikavideos/airplane/masks\n",
      "Directory already exists: ./pikavideos/airplane/mask_video\n",
      "Directory already exists: ./pikavideos/airplane/mask_gif\n",
      "final text_encoder_type: bert-base-uncased\n",
      "Model loaded from ./ckpt/groundingdino_swint_ogc.pth \n",
      " => _IncompatibleKeys(missing_keys=[], unexpected_keys=['label_enc.weight', 'bert.embeddings.position_ids'])\n",
      "SegTracker has been initialized\n",
      "processed frame 22, obj_num 0\r"
     ]
    },
    {
     "name": "stderr",
     "output_type": "stream",
     "text": [
      "Num: 95, count for 'airplane': 0.0, prompt: @Brinane Prompt: an airplane is flying past the sunset  Author: @Treka1313, path: /apdcephfs_cq3/share_1290939/shadowcun/evals_dev/pikavideos/prompts/an_airplane_is_flying_past_the_sunset_seed1057424059794552127.txt\n",
      "2023-08-23 18:56:15 Num: 95, count for 'airplane': 0.0, prompt: @Brinane Prompt: an airplane is flying past the sunset  Author: @Treka1313, path: /apdcephfs_cq3/share_1290939/shadowcun/evals_dev/pikavideos/prompts/an_airplane_is_flying_past_the_sunset_seed1057424059794552127.txt\n"
     ]
    },
    {
     "name": "stdout",
     "output_type": "stream",
     "text": [
      "processed frame 23, obj_num 0\n",
      "finished\n",
      "Directory already exists: ./pikavideos/person/masks\n",
      "Directory already exists: ./pikavideos/person/mask_video\n",
      "Directory already exists: ./pikavideos/person/mask_gif\n",
      "final text_encoder_type: bert-base-uncased\n",
      "Model loaded from ./ckpt/groundingdino_swint_ogc.pth \n",
      " => _IncompatibleKeys(missing_keys=[], unexpected_keys=['label_enc.weight', 'bert.embeddings.position_ids'])\n",
      "SegTracker has been initialized\n",
      "processed frame 22, obj_num 0\r"
     ]
    },
    {
     "name": "stderr",
     "output_type": "stream",
     "text": [
      "Num: 95, count for 'person': 0.0, prompt: @AUSHEV Prompt: First-person view, the camera flies through the night city, and then falls through the cracks in the asphalt.  Author: @AUSHEV, path: /apdcephfs_cq3/share_1290939/shadowcun/evals_dev/pikavideos/prompts/First-person_view_the_camera_flies_through_the_night_city_and_then_falls_through_the_cracks_in_the_seed10713987335729362302.txt\n",
      "2023-08-23 18:56:25 Num: 95, count for 'person': 0.0, prompt: @AUSHEV Prompt: First-person view, the camera flies through the night city, and then falls through the cracks in the asphalt.  Author: @AUSHEV, path: /apdcephfs_cq3/share_1290939/shadowcun/evals_dev/pikavideos/prompts/First-person_view_the_camera_flies_through_the_night_city_and_then_falls_through_the_cracks_in_the_seed10713987335729362302.txt\n"
     ]
    },
    {
     "name": "stdout",
     "output_type": "stream",
     "text": [
      "processed frame 23, obj_num 0\n",
      "finished\n",
      "Directory already exists: ./pikavideos/cow/masks\n",
      "Directory already exists: ./pikavideos/cow/mask_video\n",
      "Directory already exists: ./pikavideos/cow/mask_gif\n",
      "final text_encoder_type: bert-base-uncased\n",
      "Model loaded from ./ckpt/groundingdino_swint_ogc.pth \n",
      " => _IncompatibleKeys(missing_keys=[], unexpected_keys=['label_enc.weight', 'bert.embeddings.position_ids'])\n",
      "SegTracker has been initialized\n",
      "processed frame 22, obj_num 1\r"
     ]
    },
    {
     "name": "stderr",
     "output_type": "stream",
     "text": [
      "Num: 96, count for 'cow': 1.0, prompt: @bishu1990cool Prompt: cow is walking  Image: 1 Attachment  Author: @bishu1990cool, path: /apdcephfs_cq3/share_1290939/shadowcun/evals_dev/pikavideos/prompts/cow_is_walking__Image__1_Attachment_seed296484230355235622.txt\n",
      "2023-08-23 18:56:35 Num: 96, count for 'cow': 1.0, prompt: @bishu1990cool Prompt: cow is walking  Image: 1 Attachment  Author: @bishu1990cool, path: /apdcephfs_cq3/share_1290939/shadowcun/evals_dev/pikavideos/prompts/cow_is_walking__Image__1_Attachment_seed296484230355235622.txt\n"
     ]
    },
    {
     "name": "stdout",
     "output_type": "stream",
     "text": [
      "processed frame 23, obj_num 1\n",
      "finished\n",
      "Directory already exists: ./pikavideos/clock/masks\n",
      "Directory already exists: ./pikavideos/clock/mask_video\n",
      "Directory already exists: ./pikavideos/clock/mask_gif\n",
      "final text_encoder_type: bert-base-uncased\n",
      "Model loaded from ./ckpt/groundingdino_swint_ogc.pth \n",
      " => _IncompatibleKeys(missing_keys=[], unexpected_keys=['label_enc.weight', 'bert.embeddings.position_ids'])\n",
      "SegTracker has been initialized\n",
      "processed frame 22, obj_num 2\r"
     ]
    },
    {
     "name": "stderr",
     "output_type": "stream",
     "text": [
      "Num: 97, count for 'clock': 2.0, prompt: @Stanislav Prompt: Cinematic close up shot of  gears spinning inside clock -ar 16:9  Author: @Stanislav, path: /apdcephfs_cq3/share_1290939/shadowcun/evals_dev/pikavideos/prompts/Cinematic_close_up_shot_of__gears_spinning_inside_clock_-ar_16_9_seed1193571900417583121.txt\n",
      "2023-08-23 18:56:45 Num: 97, count for 'clock': 2.0, prompt: @Stanislav Prompt: Cinematic close up shot of  gears spinning inside clock -ar 16:9  Author: @Stanislav, path: /apdcephfs_cq3/share_1290939/shadowcun/evals_dev/pikavideos/prompts/Cinematic_close_up_shot_of__gears_spinning_inside_clock_-ar_16_9_seed1193571900417583121.txt\n"
     ]
    },
    {
     "name": "stdout",
     "output_type": "stream",
     "text": [
      "processed frame 23, obj_num 2\n",
      "finished\n",
      "Directory already exists: ./pikavideos/dog/masks\n",
      "Directory already exists: ./pikavideos/dog/mask_video\n",
      "Directory already exists: ./pikavideos/dog/mask_gif\n",
      "final text_encoder_type: bert-base-uncased\n",
      "Model loaded from ./ckpt/groundingdino_swint_ogc.pth \n",
      " => _IncompatibleKeys(missing_keys=[], unexpected_keys=['label_enc.weight', 'bert.embeddings.position_ids'])\n",
      "SegTracker has been initialized\n",
      "processed frame 22, obj_num 1\r"
     ]
    },
    {
     "name": "stderr",
     "output_type": "stream",
     "text": [
      "Num: 98, count for 'dog': 1.0, prompt: @Forever&Alwayz Prompt: An old dog walking along a shed, ::2, Black and white, found footage, realistic, grainy, eerie  Author: @Forever&Alwayz, path: /apdcephfs_cq3/share_1290939/shadowcun/evals_dev/pikavideos/prompts/An_old_dog_walking_along_a_shed___2_Black_and_white_found_footage_realistic_grainy_eerie_seed14625478833720012292.txt\n",
      "2023-08-23 18:56:55 Num: 98, count for 'dog': 1.0, prompt: @Forever&Alwayz Prompt: An old dog walking along a shed, ::2, Black and white, found footage, realistic, grainy, eerie  Author: @Forever&Alwayz, path: /apdcephfs_cq3/share_1290939/shadowcun/evals_dev/pikavideos/prompts/An_old_dog_walking_along_a_shed___2_Black_and_white_found_footage_realistic_grainy_eerie_seed14625478833720012292.txt\n"
     ]
    },
    {
     "name": "stdout",
     "output_type": "stream",
     "text": [
      "processed frame 23, obj_num 1\n",
      "finished\n",
      "Directory already exists: ./pikavideos/bear/masks\n",
      "Directory already exists: ./pikavideos/bear/mask_video\n",
      "Directory already exists: ./pikavideos/bear/mask_gif\n",
      "final text_encoder_type: bert-base-uncased\n",
      "Model loaded from ./ckpt/groundingdino_swint_ogc.pth \n",
      " => _IncompatibleKeys(missing_keys=[], unexpected_keys=['label_enc.weight', 'bert.embeddings.position_ids'])\n",
      "SegTracker has been initialized\n",
      "processed frame 22, obj_num 0\r"
     ]
    },
    {
     "name": "stderr",
     "output_type": "stream",
     "text": [
      "Num: 98, count for 'bear': 0.0, prompt: @crimelab357 liked a video. (Prompt: biopunk bear made of mold and moss, highly cinematic octane render, evil bear in the misty woods at night, roar,  Author: @crimelab357), path: /apdcephfs_cq3/share_1290939/shadowcun/evals_dev/pikavideos/prompts/biopunk_bear_made_of_mold_and_moss_highly_cinematic_octane_render_evil_bear_in_the_misty_woods_at__seed4977348844458060401.txt\n",
      "2023-08-23 18:57:06 Num: 98, count for 'bear': 0.0, prompt: @crimelab357 liked a video. (Prompt: biopunk bear made of mold and moss, highly cinematic octane render, evil bear in the misty woods at night, roar,  Author: @crimelab357), path: /apdcephfs_cq3/share_1290939/shadowcun/evals_dev/pikavideos/prompts/biopunk_bear_made_of_mold_and_moss_highly_cinematic_octane_render_evil_bear_in_the_misty_woods_at__seed4977348844458060401.txt\n"
     ]
    },
    {
     "name": "stdout",
     "output_type": "stream",
     "text": [
      "processed frame 23, obj_num 0\n",
      "finished\n",
      "Directory already exists: ./pikavideos/dog/masks\n",
      "Directory already exists: ./pikavideos/dog/mask_video\n",
      "Directory already exists: ./pikavideos/dog/mask_gif\n",
      "final text_encoder_type: bert-base-uncased\n",
      "Model loaded from ./ckpt/groundingdino_swint_ogc.pth \n",
      " => _IncompatibleKeys(missing_keys=[], unexpected_keys=['label_enc.weight', 'bert.embeddings.position_ids'])\n",
      "SegTracker has been initialized\n",
      "processed frame 22, obj_num 1\r"
     ]
    },
    {
     "name": "stderr",
     "output_type": "stream",
     "text": [
      "Num: 99, count for 'dog': 1.0, prompt: @Klaudia Prompt: dog constantly talking  Image: 1 Attachment  Author: @Klaudia, path: /apdcephfs_cq3/share_1290939/shadowcun/evals_dev/pikavideos/prompts/dog_constantly_talking__Image__1_Attachment_seed5762161908801784008.txt\n",
      "2023-08-23 18:57:16 Num: 99, count for 'dog': 1.0, prompt: @Klaudia Prompt: dog constantly talking  Image: 1 Attachment  Author: @Klaudia, path: /apdcephfs_cq3/share_1290939/shadowcun/evals_dev/pikavideos/prompts/dog_constantly_talking__Image__1_Attachment_seed5762161908801784008.txt\n"
     ]
    },
    {
     "name": "stdout",
     "output_type": "stream",
     "text": [
      "processed frame 23, obj_num 1\n",
      "finished\n",
      "Directory already exists: ./pikavideos/car/masks\n",
      "Directory already exists: ./pikavideos/car/mask_video\n",
      "Directory already exists: ./pikavideos/car/mask_gif\n",
      "final text_encoder_type: bert-base-uncased\n",
      "Model loaded from ./ckpt/groundingdino_swint_ogc.pth \n",
      " => _IncompatibleKeys(missing_keys=[], unexpected_keys=['label_enc.weight', 'bert.embeddings.position_ids'])\n",
      "SegTracker has been initialized\n",
      "processed frame 22, obj_num 0\r"
     ]
    },
    {
     "name": "stderr",
     "output_type": "stream",
     "text": [
      "Num: 99, count for 'car': 0.0, prompt: @delist Prompt: funny video of car test dummie dancing and making it rain money and coins at a rave party club  Author: @delist, path: /apdcephfs_cq3/share_1290939/shadowcun/evals_dev/pikavideos/prompts/funny_video_of_car_test_dummie_dancing_and_making_it_rain_money_and_coins_at_a_rave_party_club_seed13825590661368730683.txt\n",
      "2023-08-23 18:57:26 Num: 99, count for 'car': 0.0, prompt: @delist Prompt: funny video of car test dummie dancing and making it rain money and coins at a rave party club  Author: @delist, path: /apdcephfs_cq3/share_1290939/shadowcun/evals_dev/pikavideos/prompts/funny_video_of_car_test_dummie_dancing_and_making_it_rain_money_and_coins_at_a_rave_party_club_seed13825590661368730683.txt\n"
     ]
    },
    {
     "name": "stdout",
     "output_type": "stream",
     "text": [
      "processed frame 23, obj_num 0\n",
      "finished\n",
      "Directory already exists: ./pikavideos/dog/masks\n",
      "Directory already exists: ./pikavideos/dog/mask_video\n",
      "Directory already exists: ./pikavideos/dog/mask_gif\n",
      "final text_encoder_type: bert-base-uncased\n",
      "Model loaded from ./ckpt/groundingdino_swint_ogc.pth \n",
      " => _IncompatibleKeys(missing_keys=[], unexpected_keys=['label_enc.weight', 'bert.embeddings.position_ids'])\n",
      "SegTracker has been initialized\n",
      "processed frame 22, obj_num 1\r"
     ]
    },
    {
     "name": "stderr",
     "output_type": "stream",
     "text": [
      "Num: 100, count for 'dog': 1.0, prompt: @ШmaLLer Prompt: A large, rusty, dog mechanical robot, a dog, stands on two legs, and on his head he has a dog head of the Colia breed, stands in a dark workshop, gloomy, scary, horror , 4K -ar 16:9 -gs 12  Author: @ШmaLLer, path: /apdcephfs_cq3/share_1290939/shadowcun/evals_dev/pikavideos/prompts/A_large_rusty_dog_mechanical_robot_a_dog_stands_on_two_legs_and_on_his_head_he_has_a_dog_head_o_seed14592956817263627375.txt\n",
      "2023-08-23 18:57:37 Num: 100, count for 'dog': 1.0, prompt: @ШmaLLer Prompt: A large, rusty, dog mechanical robot, a dog, stands on two legs, and on his head he has a dog head of the Colia breed, stands in a dark workshop, gloomy, scary, horror , 4K -ar 16:9 -gs 12  Author: @ШmaLLer, path: /apdcephfs_cq3/share_1290939/shadowcun/evals_dev/pikavideos/prompts/A_large_rusty_dog_mechanical_robot_a_dog_stands_on_two_legs_and_on_his_head_he_has_a_dog_head_o_seed14592956817263627375.txt\n"
     ]
    },
    {
     "name": "stdout",
     "output_type": "stream",
     "text": [
      "processed frame 23, obj_num 1\n",
      "finished\n",
      "Directory already exists: ./pikavideos/bird/masks\n",
      "Directory already exists: ./pikavideos/bird/mask_video\n",
      "Directory already exists: ./pikavideos/bird/mask_gif\n",
      "final text_encoder_type: bert-base-uncased\n",
      "Model loaded from ./ckpt/groundingdino_swint_ogc.pth \n",
      " => _IncompatibleKeys(missing_keys=[], unexpected_keys=['label_enc.weight', 'bert.embeddings.position_ids'])\n",
      "SegTracker has been initialized\n",
      "processed frame 22, obj_num 0\r"
     ]
    },
    {
     "name": "stderr",
     "output_type": "stream",
     "text": [
      "Num: 100, count for 'bird': 0.0, prompt: @Honey Prompt: african woman with long hair in a blue fur bird costume and feathers, in the style of cyril rolando, iconic album covers, 32k uhd, golden age illustrations, michael malm, junglepunk, celebrity portraitBioluminescence  Author: @Honey, path: /apdcephfs_cq3/share_1290939/shadowcun/evals_dev/pikavideos/prompts/african_woman_with_long_hair_in_a_blue_fur_bird_costume_and_feathers_in_the_style_of_cyril_rolando_seed18048155511409742904.txt\n",
      "2023-08-23 18:57:46 Num: 100, count for 'bird': 0.0, prompt: @Honey Prompt: african woman with long hair in a blue fur bird costume and feathers, in the style of cyril rolando, iconic album covers, 32k uhd, golden age illustrations, michael malm, junglepunk, celebrity portraitBioluminescence  Author: @Honey, path: /apdcephfs_cq3/share_1290939/shadowcun/evals_dev/pikavideos/prompts/african_woman_with_long_hair_in_a_blue_fur_bird_costume_and_feathers_in_the_style_of_cyril_rolando_seed18048155511409742904.txt\n"
     ]
    },
    {
     "name": "stdout",
     "output_type": "stream",
     "text": [
      "processed frame 23, obj_num 0\n",
      "finished\n",
      "Directory already exists: ./pikavideos/tv/masks\n",
      "Directory already exists: ./pikavideos/tv/mask_video\n",
      "Directory already exists: ./pikavideos/tv/mask_gif\n",
      "final text_encoder_type: bert-base-uncased\n",
      "Model loaded from ./ckpt/groundingdino_swint_ogc.pth \n",
      " => _IncompatibleKeys(missing_keys=[], unexpected_keys=['label_enc.weight', 'bert.embeddings.position_ids'])\n",
      "SegTracker has been initialized\n",
      "processed frame 22, obj_num 0\r"
     ]
    },
    {
     "name": "stderr",
     "output_type": "stream",
     "text": [
      "Num: 100, count for 'tv': 0.0, prompt: @Go Bonkers liked a video. (Prompt: thick stream of hot espresso melting a human-face-shaped ice sculpture, tv commercial, uhd, close-up shot, satisfying render, delicious, highest quality, bright white high key lighting, volumetric lighting, 8k, trending, award winning  Author: @brian), path: /apdcephfs_cq3/share_1290939/shadowcun/evals_dev/pikavideos/prompts/thick_stream_of_hot_espresso_melting_a_human-face-shaped_ice_sculpture_tv_commercial_uhd_close-up.txt\n",
      "2023-08-23 18:57:56 Num: 100, count for 'tv': 0.0, prompt: @Go Bonkers liked a video. (Prompt: thick stream of hot espresso melting a human-face-shaped ice sculpture, tv commercial, uhd, close-up shot, satisfying render, delicious, highest quality, bright white high key lighting, volumetric lighting, 8k, trending, award winning  Author: @brian), path: /apdcephfs_cq3/share_1290939/shadowcun/evals_dev/pikavideos/prompts/thick_stream_of_hot_espresso_melting_a_human-face-shaped_ice_sculpture_tv_commercial_uhd_close-up.txt\n"
     ]
    },
    {
     "name": "stdout",
     "output_type": "stream",
     "text": [
      "processed frame 23, obj_num 0\n",
      "finished\n",
      "Directory already exists: ./pikavideos/train/masks\n",
      "Directory already exists: ./pikavideos/train/mask_video\n",
      "Directory already exists: ./pikavideos/train/mask_gif\n",
      "final text_encoder_type: bert-base-uncased\n",
      "Model loaded from ./ckpt/groundingdino_swint_ogc.pth \n",
      " => _IncompatibleKeys(missing_keys=[], unexpected_keys=['label_enc.weight', 'bert.embeddings.position_ids'])\n",
      "SegTracker has been initialized\n",
      "processed frame 22, obj_num 1\r"
     ]
    },
    {
     "name": "stderr",
     "output_type": "stream",
     "text": [
      "Num: 101, count for 'train': 1.0, prompt: Pika BOT 07/14/2023 7:36 PM@Crea Prompt: a women watching the sée througth the window of a train  Image: 1 Attachment  Author: @Crea, path: /apdcephfs_cq3/share_1290939/shadowcun/evals_dev/pikavideos/prompts/a_women_watching_the_s_e_througth_the_window_of_a_train.txt\n",
      "2023-08-23 18:58:07 Num: 101, count for 'train': 1.0, prompt: Pika BOT 07/14/2023 7:36 PM@Crea Prompt: a women watching the sée througth the window of a train  Image: 1 Attachment  Author: @Crea, path: /apdcephfs_cq3/share_1290939/shadowcun/evals_dev/pikavideos/prompts/a_women_watching_the_s_e_througth_the_window_of_a_train.txt\n"
     ]
    },
    {
     "name": "stdout",
     "output_type": "stream",
     "text": [
      "processed frame 23, obj_num 1\n",
      "finished\n",
      "Directory already exists: ./pikavideos/sheep/masks\n",
      "Directory already exists: ./pikavideos/sheep/mask_video\n",
      "Directory already exists: ./pikavideos/sheep/mask_gif\n",
      "final text_encoder_type: bert-base-uncased\n",
      "Model loaded from ./ckpt/groundingdino_swint_ogc.pth \n",
      " => _IncompatibleKeys(missing_keys=[], unexpected_keys=['label_enc.weight', 'bert.embeddings.position_ids'])\n",
      "SegTracker has been initialized\n",
      "processed frame 22, obj_num 1\r"
     ]
    },
    {
     "name": "stderr",
     "output_type": "stream",
     "text": [
      "Num: 102, count for 'sheep': 1.0, prompt: @adamjlieberman Prompt: wool sheep doll waving  Image: 1 Attachment  Author: @adamjlieberman, path: /apdcephfs_cq3/share_1290939/shadowcun/evals_dev/pikavideos/prompts/wool_sheep_doll_waving__Image__1_Attachment_seed17506717506053254393.txt\n",
      "2023-08-23 18:58:19 Num: 102, count for 'sheep': 1.0, prompt: @adamjlieberman Prompt: wool sheep doll waving  Image: 1 Attachment  Author: @adamjlieberman, path: /apdcephfs_cq3/share_1290939/shadowcun/evals_dev/pikavideos/prompts/wool_sheep_doll_waving__Image__1_Attachment_seed17506717506053254393.txt\n"
     ]
    },
    {
     "name": "stdout",
     "output_type": "stream",
     "text": [
      "processed frame 23, obj_num 1\n",
      "finished\n",
      "Directory already exists: ./pikavideos/cup/masks\n",
      "Directory already exists: ./pikavideos/cup/mask_video\n",
      "Directory already exists: ./pikavideos/cup/mask_gif\n",
      "final text_encoder_type: bert-base-uncased\n",
      "Model loaded from ./ckpt/groundingdino_swint_ogc.pth \n",
      " => _IncompatibleKeys(missing_keys=[], unexpected_keys=['label_enc.weight', 'bert.embeddings.position_ids'])\n",
      "SegTracker has been initialized\n",
      "processed frame 22, obj_num 1\r"
     ]
    },
    {
     "name": "stderr",
     "output_type": "stream",
     "text": [
      "Num: 103, count for 'cup': 1.0, prompt: @copoflin Prompt: Depict a woman sitting by a window on a rainy day, with a cup of hot chocolate in her hands. She looks out the window with a small smile on her face. The light from the window casts a warm reflection on the chocolate and emanates a cozy and peaceful atmosphere.  Author: @copoflin, path: /apdcephfs_cq3/share_1290939/shadowcun/evals_dev/pikavideos/prompts/Depict_a_woman_sitting_by_a_window_on_a_rainy_day_with_a_cup_of_hot_chocolate_in_her_hands._She_loo_seed773186272515449027.txt\n",
      "2023-08-23 18:58:29 Num: 103, count for 'cup': 1.0, prompt: @copoflin Prompt: Depict a woman sitting by a window on a rainy day, with a cup of hot chocolate in her hands. She looks out the window with a small smile on her face. The light from the window casts a warm reflection on the chocolate and emanates a cozy and peaceful atmosphere.  Author: @copoflin, path: /apdcephfs_cq3/share_1290939/shadowcun/evals_dev/pikavideos/prompts/Depict_a_woman_sitting_by_a_window_on_a_rainy_day_with_a_cup_of_hot_chocolate_in_her_hands._She_loo_seed773186272515449027.txt\n"
     ]
    },
    {
     "name": "stdout",
     "output_type": "stream",
     "text": [
      "processed frame 23, obj_num 1\n",
      "finished\n",
      "Directory already exists: ./pikavideos/car/masks\n",
      "Directory already exists: ./pikavideos/car/mask_video\n",
      "Directory already exists: ./pikavideos/car/mask_gif\n",
      "final text_encoder_type: bert-base-uncased\n",
      "Model loaded from ./ckpt/groundingdino_swint_ogc.pth \n",
      " => _IncompatibleKeys(missing_keys=[], unexpected_keys=['label_enc.weight', 'bert.embeddings.position_ids'])\n",
      "SegTracker has been initialized\n",
      "processed frame 22, obj_num 1\r"
     ]
    },
    {
     "name": "stderr",
     "output_type": "stream",
     "text": [
      "Num: 104, count for 'car': 1.0, prompt: @ashe Prompt: a guy driving the car, attractive, movie scene, sharp focus  Author: @ashe, path: /apdcephfs_cq3/share_1290939/shadowcun/evals_dev/pikavideos/prompts/a_guy_driving_the_car_attractive_movie_scene_sharp_focus_seed2551254739298084371.txt\n",
      "2023-08-23 18:58:39 Num: 104, count for 'car': 1.0, prompt: @ashe Prompt: a guy driving the car, attractive, movie scene, sharp focus  Author: @ashe, path: /apdcephfs_cq3/share_1290939/shadowcun/evals_dev/pikavideos/prompts/a_guy_driving_the_car_attractive_movie_scene_sharp_focus_seed2551254739298084371.txt\n"
     ]
    },
    {
     "name": "stdout",
     "output_type": "stream",
     "text": [
      "processed frame 23, obj_num 1\n",
      "finished\n",
      "Directory already exists: ./pikavideos/bird/masks\n",
      "Directory already exists: ./pikavideos/bird/mask_video\n",
      "Directory already exists: ./pikavideos/bird/mask_gif\n",
      "final text_encoder_type: bert-base-uncased\n",
      "Model loaded from ./ckpt/groundingdino_swint_ogc.pth \n",
      " => _IncompatibleKeys(missing_keys=[], unexpected_keys=['label_enc.weight', 'bert.embeddings.position_ids'])\n",
      "SegTracker has been initialized\n",
      "processed frame 22, obj_num 2\r"
     ]
    },
    {
     "name": "stderr",
     "output_type": "stream",
     "text": [
      "Num: 105, count for 'bird': 1.5833333333333333, prompt: @neeramesh liked a video of @neeramesh. (Prompt: animate rabbit digging the hole,  one bird bringing a stick,  another bird building nest  Image: 1 Attachment  Author: @neeramesh), path: /apdcephfs_cq3/share_1290939/shadowcun/evals_dev/pikavideos/prompts/animate_rabbit_digging_the_hole__one_bird_bringing_a_stick__another_bird_building_nest__Image__1_A_seed8850124105716867369.txt\n",
      "2023-08-23 18:58:49 Num: 105, count for 'bird': 1.5833333333333333, prompt: @neeramesh liked a video of @neeramesh. (Prompt: animate rabbit digging the hole,  one bird bringing a stick,  another bird building nest  Image: 1 Attachment  Author: @neeramesh), path: /apdcephfs_cq3/share_1290939/shadowcun/evals_dev/pikavideos/prompts/animate_rabbit_digging_the_hole__one_bird_bringing_a_stick__another_bird_building_nest__Image__1_A_seed8850124105716867369.txt\n"
     ]
    },
    {
     "name": "stdout",
     "output_type": "stream",
     "text": [
      "processed frame 23, obj_num 2\n",
      "finished\n",
      "Directory already exists: ./pikavideos/boat/masks\n",
      "Directory already exists: ./pikavideos/boat/mask_video\n",
      "Directory already exists: ./pikavideos/boat/mask_gif\n",
      "final text_encoder_type: bert-base-uncased\n",
      "Model loaded from ./ckpt/groundingdino_swint_ogc.pth \n",
      " => _IncompatibleKeys(missing_keys=[], unexpected_keys=['label_enc.weight', 'bert.embeddings.position_ids'])\n",
      "SegTracker has been initialized\n",
      "processed frame 22, obj_num 1\r"
     ]
    },
    {
     "name": "stderr",
     "output_type": "stream",
     "text": [
      "Num: 106, count for 'boat': 1.0, prompt: @tesses Prompt: a drone video of a landscape of a boat in the ocean, Ultra HD, smooth animation, ocean moving, boat moving unreal engine, 4k, grayscale, black and white  Author: @tesses, path: /apdcephfs_cq3/share_1290939/shadowcun/evals_dev/pikavideos/prompts/a_drone_video_of_a_landscape_of_a_boat_in_the_ocean_Ultra_HD_smooth_animation_ocean_moving_boat__seed10210146207691878036.txt\n",
      "2023-08-23 18:59:00 Num: 106, count for 'boat': 1.0, prompt: @tesses Prompt: a drone video of a landscape of a boat in the ocean, Ultra HD, smooth animation, ocean moving, boat moving unreal engine, 4k, grayscale, black and white  Author: @tesses, path: /apdcephfs_cq3/share_1290939/shadowcun/evals_dev/pikavideos/prompts/a_drone_video_of_a_landscape_of_a_boat_in_the_ocean_Ultra_HD_smooth_animation_ocean_moving_boat__seed10210146207691878036.txt\n"
     ]
    },
    {
     "name": "stdout",
     "output_type": "stream",
     "text": [
      "processed frame 23, obj_num 1\n",
      "finished\n",
      "Directory already exists: ./pikavideos/car/masks\n",
      "Directory already exists: ./pikavideos/car/mask_video\n",
      "Directory already exists: ./pikavideos/car/mask_gif\n",
      "final text_encoder_type: bert-base-uncased\n",
      "Model loaded from ./ckpt/groundingdino_swint_ogc.pth \n",
      " => _IncompatibleKeys(missing_keys=[], unexpected_keys=['label_enc.weight', 'bert.embeddings.position_ids'])\n",
      "SegTracker has been initialized\n",
      "processed frame 22, obj_num 0\r"
     ]
    },
    {
     "name": "stderr",
     "output_type": "stream",
     "text": [
      "Num: 106, count for 'car': 0.0, prompt: @Kun0929 Prompt: A young couple kissing in the car  Author: @Kun0929, path: /apdcephfs_cq3/share_1290939/shadowcun/evals_dev/pikavideos/prompts/A_young_couple_kissing_in_the_car_seed129713423720379238.txt\n",
      "2023-08-23 18:59:10 Num: 106, count for 'car': 0.0, prompt: @Kun0929 Prompt: A young couple kissing in the car  Author: @Kun0929, path: /apdcephfs_cq3/share_1290939/shadowcun/evals_dev/pikavideos/prompts/A_young_couple_kissing_in_the_car_seed129713423720379238.txt\n"
     ]
    },
    {
     "name": "stdout",
     "output_type": "stream",
     "text": [
      "processed frame 23, obj_num 0\n",
      "finished\n",
      "Directory already exists: ./pikavideos/boat/masks\n",
      "Directory already exists: ./pikavideos/boat/mask_video\n",
      "Directory already exists: ./pikavideos/boat/mask_gif\n",
      "final text_encoder_type: bert-base-uncased\n",
      "Model loaded from ./ckpt/groundingdino_swint_ogc.pth \n",
      " => _IncompatibleKeys(missing_keys=[], unexpected_keys=['label_enc.weight', 'bert.embeddings.position_ids'])\n",
      "SegTracker has been initialized\n",
      "processed frame 22, obj_num 0\r"
     ]
    },
    {
     "name": "stderr",
     "output_type": "stream",
     "text": [
      "Num: 106, count for 'boat': 0.0, prompt: @Ludwig liked a video of @Ludwig. (Prompt: wave crashes over man in a boat, realistic splashes, correct body anatomy, highly detailed -gs  05  -motion 04 -neg good weather, blue sky ,distorted limbs, distorted hands  Image: 1 Attachment  Author: @Ludwig), path: /apdcephfs_cq3/share_1290939/shadowcun/evals_dev/pikavideos/prompts/wave_crashes_over_man_in_a_boat_realistic_splashes_correct_body_anatomy_highly_detailed_-gs__05___seed3812161083232966140.txt\n",
      "2023-08-23 18:59:20 Num: 106, count for 'boat': 0.0, prompt: @Ludwig liked a video of @Ludwig. (Prompt: wave crashes over man in a boat, realistic splashes, correct body anatomy, highly detailed -gs  05  -motion 04 -neg good weather, blue sky ,distorted limbs, distorted hands  Image: 1 Attachment  Author: @Ludwig), path: /apdcephfs_cq3/share_1290939/shadowcun/evals_dev/pikavideos/prompts/wave_crashes_over_man_in_a_boat_realistic_splashes_correct_body_anatomy_highly_detailed_-gs__05___seed3812161083232966140.txt\n"
     ]
    },
    {
     "name": "stdout",
     "output_type": "stream",
     "text": [
      "processed frame 23, obj_num 0\n",
      "finished\n",
      "Directory already exists: ./pikavideos/car/masks\n",
      "Directory already exists: ./pikavideos/car/mask_video\n",
      "Directory already exists: ./pikavideos/car/mask_gif\n",
      "final text_encoder_type: bert-base-uncased\n",
      "Model loaded from ./ckpt/groundingdino_swint_ogc.pth \n",
      " => _IncompatibleKeys(missing_keys=[], unexpected_keys=['label_enc.weight', 'bert.embeddings.position_ids'])\n",
      "SegTracker has been initialized\n",
      "processed frame 22, obj_num 0\r"
     ]
    },
    {
     "name": "stderr",
     "output_type": "stream",
     "text": [
      "Num: 106, count for 'car': 0.0, prompt: @Fnix liked a video of @Fnix. (Prompt: Perch Perkins in front of the Chum Bucket announcing a rap battle. SpongeBob and Plankton ready to battle, with excited residents watching.  -neg cars,other buildings -ar 16:9 -motion 4  Image: 1 Attachment  Author: @Fnix), path: /apdcephfs_cq3/share_1290939/shadowcun/evals_dev/pikavideos/prompts/Perch_Perkins_in_front_of_the_Chum_Bucket_announcing_a_rap_battle._SpongeBob_and_Plankton_ready_to_b_seed6698004400213969110.txt\n",
      "2023-08-23 18:59:31 Num: 106, count for 'car': 0.0, prompt: @Fnix liked a video of @Fnix. (Prompt: Perch Perkins in front of the Chum Bucket announcing a rap battle. SpongeBob and Plankton ready to battle, with excited residents watching.  -neg cars,other buildings -ar 16:9 -motion 4  Image: 1 Attachment  Author: @Fnix), path: /apdcephfs_cq3/share_1290939/shadowcun/evals_dev/pikavideos/prompts/Perch_Perkins_in_front_of_the_Chum_Bucket_announcing_a_rap_battle._SpongeBob_and_Plankton_ready_to_b_seed6698004400213969110.txt\n"
     ]
    },
    {
     "name": "stdout",
     "output_type": "stream",
     "text": [
      "processed frame 23, obj_num 0\n",
      "finished\n",
      "Directory already exists: ./pikavideos/airplane/masks\n",
      "Directory already exists: ./pikavideos/airplane/mask_video\n",
      "Directory already exists: ./pikavideos/airplane/mask_gif\n",
      "final text_encoder_type: bert-base-uncased\n",
      "Model loaded from ./ckpt/groundingdino_swint_ogc.pth \n",
      " => _IncompatibleKeys(missing_keys=[], unexpected_keys=['label_enc.weight', 'bert.embeddings.position_ids'])\n",
      "SegTracker has been initialized\n",
      "processed frame 22, obj_num 1\r"
     ]
    },
    {
     "name": "stderr",
     "output_type": "stream",
     "text": [
      "Num: 107, count for 'airplane': 1.0, prompt: @abc32 Prompt: A airplane runnng in the sea, 4k, ar 16:9  Author: @abc32, path: /apdcephfs_cq3/share_1290939/shadowcun/evals_dev/pikavideos/prompts/A_airplane_runnng_in_the_sea_4k_ar_16_9_seed12409093192629567401.txt\n",
      "2023-08-23 18:59:41 Num: 107, count for 'airplane': 1.0, prompt: @abc32 Prompt: A airplane runnng in the sea, 4k, ar 16:9  Author: @abc32, path: /apdcephfs_cq3/share_1290939/shadowcun/evals_dev/pikavideos/prompts/A_airplane_runnng_in_the_sea_4k_ar_16_9_seed12409093192629567401.txt\n"
     ]
    },
    {
     "name": "stdout",
     "output_type": "stream",
     "text": [
      "processed frame 23, obj_num 1\n",
      "finished\n",
      "Directory already exists: ./pikavideos/bench/masks\n",
      "Directory already exists: ./pikavideos/bench/mask_video\n",
      "Directory already exists: ./pikavideos/bench/mask_gif\n",
      "final text_encoder_type: bert-base-uncased\n",
      "Model loaded from ./ckpt/groundingdino_swint_ogc.pth \n",
      " => _IncompatibleKeys(missing_keys=[], unexpected_keys=['label_enc.weight', 'bert.embeddings.position_ids'])\n",
      "SegTracker has been initialized\n",
      "processed frame 22, obj_num 0\r"
     ]
    },
    {
     "name": "stderr",
     "output_type": "stream",
     "text": [
      "Num: 107, count for 'bench': 0.0, prompt: @Bench Press Papi Prompt: Donald Trump backflip vigorous  Author: @Bench Press Papi, path: /apdcephfs_cq3/share_1290939/shadowcun/evals_dev/pikavideos/prompts/Donald_Trump_backflip_vigorous_seed3544770582210571700.txt\n",
      "2023-08-23 18:59:51 Num: 107, count for 'bench': 0.0, prompt: @Bench Press Papi Prompt: Donald Trump backflip vigorous  Author: @Bench Press Papi, path: /apdcephfs_cq3/share_1290939/shadowcun/evals_dev/pikavideos/prompts/Donald_Trump_backflip_vigorous_seed3544770582210571700.txt\n"
     ]
    },
    {
     "name": "stdout",
     "output_type": "stream",
     "text": [
      "processed frame 23, obj_num 0\n",
      "finished\n",
      "Directory already exists: ./pikavideos/bed/masks\n",
      "Directory already exists: ./pikavideos/bed/mask_video\n",
      "Directory already exists: ./pikavideos/bed/mask_gif\n",
      "final text_encoder_type: bert-base-uncased\n",
      "Model loaded from ./ckpt/groundingdino_swint_ogc.pth \n",
      " => _IncompatibleKeys(missing_keys=[], unexpected_keys=['label_enc.weight', 'bert.embeddings.position_ids'])\n",
      "SegTracker has been initialized\n",
      "processed frame 22, obj_num 1\r"
     ]
    },
    {
     "name": "stderr",
     "output_type": "stream",
     "text": [
      "Num: 108, count for 'bed': 1.0, prompt: @choopchomp Prompt: man and woman sitting on the bed in comfortable light room, realistic volumetric video  Author: @choopchomp, path: /apdcephfs_cq3/share_1290939/shadowcun/evals_dev/pikavideos/prompts/man_and_woman_sitting_on_the_bed_in_comfortable_light_room_realistic_volumetric_video.txt\n",
      "2023-08-23 19:00:01 Num: 108, count for 'bed': 1.0, prompt: @choopchomp Prompt: man and woman sitting on the bed in comfortable light room, realistic volumetric video  Author: @choopchomp, path: /apdcephfs_cq3/share_1290939/shadowcun/evals_dev/pikavideos/prompts/man_and_woman_sitting_on_the_bed_in_comfortable_light_room_realistic_volumetric_video.txt\n"
     ]
    },
    {
     "name": "stdout",
     "output_type": "stream",
     "text": [
      "processed frame 23, obj_num 1\n",
      "finished\n",
      "Directory already exists: ./pikavideos/dog/masks\n",
      "Directory already exists: ./pikavideos/dog/mask_video\n",
      "Directory already exists: ./pikavideos/dog/mask_gif\n",
      "final text_encoder_type: bert-base-uncased\n",
      "Model loaded from ./ckpt/groundingdino_swint_ogc.pth \n",
      " => _IncompatibleKeys(missing_keys=[], unexpected_keys=['label_enc.weight', 'bert.embeddings.position_ids'])\n",
      "SegTracker has been initialized\n",
      "processed frame 22, obj_num 0\r"
     ]
    },
    {
     "name": "stderr",
     "output_type": "stream",
     "text": [
      "Num: 108, count for 'dog': 0.0, prompt: @Buk Prompt: old man, girl and dog inside house  Image: 1 Attachment  Author: @Buk, path: /apdcephfs_cq3/share_1290939/shadowcun/evals_dev/pikavideos/prompts/old_man_girl_and_dog_inside_house__Image__1_Attachment_seed966484870689083396.txt\n",
      "2023-08-23 19:00:11 Num: 108, count for 'dog': 0.0, prompt: @Buk Prompt: old man, girl and dog inside house  Image: 1 Attachment  Author: @Buk, path: /apdcephfs_cq3/share_1290939/shadowcun/evals_dev/pikavideos/prompts/old_man_girl_and_dog_inside_house__Image__1_Attachment_seed966484870689083396.txt\n"
     ]
    },
    {
     "name": "stdout",
     "output_type": "stream",
     "text": [
      "processed frame 23, obj_num 0\n",
      "finished\n",
      "Directory already exists: ./pikavideos/tv/masks\n",
      "Directory already exists: ./pikavideos/tv/mask_video\n",
      "Directory already exists: ./pikavideos/tv/mask_gif\n",
      "final text_encoder_type: bert-base-uncased\n",
      "Model loaded from ./ckpt/groundingdino_swint_ogc.pth \n",
      " => _IncompatibleKeys(missing_keys=[], unexpected_keys=['label_enc.weight', 'bert.embeddings.position_ids'])\n",
      "SegTracker has been initialized\n",
      "processed frame 22, obj_num 0\r"
     ]
    },
    {
     "name": "stderr",
     "output_type": "stream",
     "text": [
      "Num: 108, count for 'tv': 0.0, prompt: @Noam Chinaski Prompt: man jumping out of TV, trippy, motion 1,  Quentin Tarantino style  Author: @Noam Chinaski, path: /apdcephfs_cq3/share_1290939/shadowcun/evals_dev/pikavideos/prompts/man_jumping_out_of_TV_trippy_motion_1__Quentin_Tarantino_style_seed11030114500808816839.txt\n",
      "2023-08-23 19:00:22 Num: 108, count for 'tv': 0.0, prompt: @Noam Chinaski Prompt: man jumping out of TV, trippy, motion 1,  Quentin Tarantino style  Author: @Noam Chinaski, path: /apdcephfs_cq3/share_1290939/shadowcun/evals_dev/pikavideos/prompts/man_jumping_out_of_TV_trippy_motion_1__Quentin_Tarantino_style_seed11030114500808816839.txt\n"
     ]
    },
    {
     "name": "stdout",
     "output_type": "stream",
     "text": [
      "processed frame 23, obj_num 0\n",
      "finished\n",
      "Directory already exists: ./pikavideos/car/masks\n",
      "Directory already exists: ./pikavideos/car/mask_video\n",
      "Directory already exists: ./pikavideos/car/mask_gif\n",
      "final text_encoder_type: bert-base-uncased\n",
      "Model loaded from ./ckpt/groundingdino_swint_ogc.pth \n",
      " => _IncompatibleKeys(missing_keys=[], unexpected_keys=['label_enc.weight', 'bert.embeddings.position_ids'])\n",
      "SegTracker has been initialized\n",
      "processed frame 22, obj_num 1\r"
     ]
    },
    {
     "name": "stderr",
     "output_type": "stream",
     "text": [
      "Num: 109, count for 'car': 1.0, prompt: @chico Prompt: Car stopping at night in the forest  hyperdetailed,8k,hyperrealistic  Author: @chico, path: /apdcephfs_cq3/share_1290939/shadowcun/evals_dev/pikavideos/prompts/Car_stopping_at_night_in_the_forest__hyperdetailed8khyperrealistic_seed15564756386792583849.txt\n",
      "2023-08-23 19:00:32 Num: 109, count for 'car': 1.0, prompt: @chico Prompt: Car stopping at night in the forest  hyperdetailed,8k,hyperrealistic  Author: @chico, path: /apdcephfs_cq3/share_1290939/shadowcun/evals_dev/pikavideos/prompts/Car_stopping_at_night_in_the_forest__hyperdetailed8khyperrealistic_seed15564756386792583849.txt\n"
     ]
    },
    {
     "name": "stdout",
     "output_type": "stream",
     "text": [
      "processed frame 23, obj_num 1\n",
      "finished\n",
      "Directory already exists: ./pikavideos/book/masks\n",
      "Directory already exists: ./pikavideos/book/mask_video\n",
      "Directory already exists: ./pikavideos/book/mask_gif\n",
      "final text_encoder_type: bert-base-uncased\n",
      "Model loaded from ./ckpt/groundingdino_swint_ogc.pth \n",
      " => _IncompatibleKeys(missing_keys=[], unexpected_keys=['label_enc.weight', 'bert.embeddings.position_ids'])\n",
      "SegTracker has been initialized\n",
      "processed frame 22, obj_num 1\r"
     ]
    },
    {
     "name": "stderr",
     "output_type": "stream",
     "text": [
      "Num: 110, count for 'book': 1.0, prompt: @Hamzo Prompt: \"Create an image of an ancient parchment with the words 'Book of Job' illuminated in rich, golden calligraphy. The parchment should have intricate textures and a slightly aged appearance, placed on a wooden surface with soft, warm lighting. The scene should evoke a sense of reverence and anticipation.\"  Author: @Hamzo, path: /apdcephfs_cq3/share_1290939/shadowcun/evals_dev/pikavideos/prompts/Create_an_image_of_an_ancient_parchment_with_the_words__Book_of_Job__illuminated_in_rich_golden_ca_seed13199640191126260646.txt\n",
      "2023-08-23 19:00:42 Num: 110, count for 'book': 1.0, prompt: @Hamzo Prompt: \"Create an image of an ancient parchment with the words 'Book of Job' illuminated in rich, golden calligraphy. The parchment should have intricate textures and a slightly aged appearance, placed on a wooden surface with soft, warm lighting. The scene should evoke a sense of reverence and anticipation.\"  Author: @Hamzo, path: /apdcephfs_cq3/share_1290939/shadowcun/evals_dev/pikavideos/prompts/Create_an_image_of_an_ancient_parchment_with_the_words__Book_of_Job__illuminated_in_rich_golden_ca_seed13199640191126260646.txt\n"
     ]
    },
    {
     "name": "stdout",
     "output_type": "stream",
     "text": [
      "processed frame 23, obj_num 1\n",
      "finished\n",
      "Directory already exists: ./pikavideos/car/masks\n",
      "Directory already exists: ./pikavideos/car/mask_video\n",
      "Directory already exists: ./pikavideos/car/mask_gif\n",
      "final text_encoder_type: bert-base-uncased\n",
      "Model loaded from ./ckpt/groundingdino_swint_ogc.pth \n",
      " => _IncompatibleKeys(missing_keys=[], unexpected_keys=['label_enc.weight', 'bert.embeddings.position_ids'])\n",
      "SegTracker has been initialized\n",
      "processed frame 22, obj_num 0\r"
     ]
    },
    {
     "name": "stderr",
     "output_type": "stream",
     "text": [
      "Num: 110, count for 'car': 0.0, prompt: @Grey H Prompt: {Blue and Purple 1930s mobster cars coming close fast}  Author: @Grey H, path: /apdcephfs_cq3/share_1290939/shadowcun/evals_dev/pikavideos/prompts/Blue_and_Purple_1930s_mobster_cars_coming_close_fast__seed1569993608302920158.txt\n",
      "2023-08-23 19:00:52 Num: 110, count for 'car': 0.0, prompt: @Grey H Prompt: {Blue and Purple 1930s mobster cars coming close fast}  Author: @Grey H, path: /apdcephfs_cq3/share_1290939/shadowcun/evals_dev/pikavideos/prompts/Blue_and_Purple_1930s_mobster_cars_coming_close_fast__seed1569993608302920158.txt\n"
     ]
    },
    {
     "name": "stdout",
     "output_type": "stream",
     "text": [
      "processed frame 23, obj_num 0\n",
      "finished\n",
      "Directory already exists: ./pikavideos/horse/masks\n",
      "Directory already exists: ./pikavideos/horse/mask_video\n",
      "Directory already exists: ./pikavideos/horse/mask_gif\n",
      "final text_encoder_type: bert-base-uncased\n",
      "Model loaded from ./ckpt/groundingdino_swint_ogc.pth \n",
      " => _IncompatibleKeys(missing_keys=[], unexpected_keys=['label_enc.weight', 'bert.embeddings.position_ids'])\n",
      "SegTracker has been initialized\n",
      "processed frame 22, obj_num 1\r"
     ]
    },
    {
     "name": "stderr",
     "output_type": "stream",
     "text": [
      "Num: 111, count for 'horse': 1.0, prompt: @rico77 Prompt: Horse, running, denoising, HD, 16:9  Image: 1 Attachment  Author: @rico77, path: /apdcephfs_cq3/share_1290939/shadowcun/evals_dev/pikavideos/prompts/Horse_running_denoising_HD_16_9.txt\n",
      "2023-08-23 19:01:02 Num: 111, count for 'horse': 1.0, prompt: @rico77 Prompt: Horse, running, denoising, HD, 16:9  Image: 1 Attachment  Author: @rico77, path: /apdcephfs_cq3/share_1290939/shadowcun/evals_dev/pikavideos/prompts/Horse_running_denoising_HD_16_9.txt\n"
     ]
    },
    {
     "name": "stdout",
     "output_type": "stream",
     "text": [
      "processed frame 23, obj_num 1\n",
      "finished\n",
      "Directory already exists: ./pikavideos/boat/masks\n",
      "Directory already exists: ./pikavideos/boat/mask_video\n",
      "Directory already exists: ./pikavideos/boat/mask_gif\n",
      "final text_encoder_type: bert-base-uncased\n",
      "Model loaded from ./ckpt/groundingdino_swint_ogc.pth \n",
      " => _IncompatibleKeys(missing_keys=[], unexpected_keys=['label_enc.weight', 'bert.embeddings.position_ids'])\n",
      "SegTracker has been initialized\n",
      "processed frame 22, obj_num 1\r"
     ]
    },
    {
     "name": "stderr",
     "output_type": "stream",
     "text": [
      "Num: 112, count for 'boat': 1.0, prompt: @dark Prompt: an old man is fishing on a boat in a rainy day  Author: @dark, path: /apdcephfs_cq3/share_1290939/shadowcun/evals_dev/pikavideos/prompts/an_old_man_is_fishing_on_a_boat_in_a_rainy_day_seed8793131192544757108.txt\n",
      "2023-08-23 19:01:12 Num: 112, count for 'boat': 1.0, prompt: @dark Prompt: an old man is fishing on a boat in a rainy day  Author: @dark, path: /apdcephfs_cq3/share_1290939/shadowcun/evals_dev/pikavideos/prompts/an_old_man_is_fishing_on_a_boat_in_a_rainy_day_seed8793131192544757108.txt\n"
     ]
    },
    {
     "name": "stdout",
     "output_type": "stream",
     "text": [
      "processed frame 23, obj_num 1\n",
      "finished\n",
      "Directory already exists: ./pikavideos/pizza/masks\n",
      "Directory already exists: ./pikavideos/pizza/mask_video\n",
      "Directory already exists: ./pikavideos/pizza/mask_gif\n",
      "final text_encoder_type: bert-base-uncased\n",
      "Model loaded from ./ckpt/groundingdino_swint_ogc.pth \n",
      " => _IncompatibleKeys(missing_keys=[], unexpected_keys=['label_enc.weight', 'bert.embeddings.position_ids'])\n",
      "SegTracker has been initialized\n",
      "processed frame 22, obj_num 1\r"
     ]
    },
    {
     "name": "stderr",
     "output_type": "stream",
     "text": [
      "Num: 113, count for 'pizza': 1.0, prompt: @AI CONCEPTUALIST Prompt: pizza monster eating humans, in a restuarant, 8k, camera moion  Author: @AI CONCEPTUALIST, path: /apdcephfs_cq3/share_1290939/shadowcun/evals_dev/pikavideos/prompts/pizza_monster_eating_humans_in_a_restuarant_8k_camera_moion_seed613637964954972977.txt\n",
      "2023-08-23 19:01:21 Num: 113, count for 'pizza': 1.0, prompt: @AI CONCEPTUALIST Prompt: pizza monster eating humans, in a restuarant, 8k, camera moion  Author: @AI CONCEPTUALIST, path: /apdcephfs_cq3/share_1290939/shadowcun/evals_dev/pikavideos/prompts/pizza_monster_eating_humans_in_a_restuarant_8k_camera_moion_seed613637964954972977.txt\n"
     ]
    },
    {
     "name": "stdout",
     "output_type": "stream",
     "text": [
      "processed frame 23, obj_num 1\n",
      "finished\n",
      "Directory already exists: ./pikavideos/train/masks\n",
      "Directory already exists: ./pikavideos/train/mask_video\n",
      "Directory already exists: ./pikavideos/train/mask_gif\n",
      "final text_encoder_type: bert-base-uncased\n",
      "Model loaded from ./ckpt/groundingdino_swint_ogc.pth \n",
      " => _IncompatibleKeys(missing_keys=[], unexpected_keys=['label_enc.weight', 'bert.embeddings.position_ids'])\n",
      "SegTracker has been initialized\n",
      "processed frame 22, obj_num 0\r"
     ]
    },
    {
     "name": "stderr",
     "output_type": "stream",
     "text": [
      "Num: 113, count for 'train': 0.0, prompt: @EFX Prompt: hair flowing, cloth moving, paint dripping, subway train  Image: 1 Attachment  Author: @EFX, path: /apdcephfs_cq3/share_1290939/shadowcun/evals_dev/pikavideos/prompts/hair_flowing_cloth_moving_paint_dripping_subway_train__Image__1_Attachment_seed11494369302548624796.txt\n",
      "2023-08-23 19:01:32 Num: 113, count for 'train': 0.0, prompt: @EFX Prompt: hair flowing, cloth moving, paint dripping, subway train  Image: 1 Attachment  Author: @EFX, path: /apdcephfs_cq3/share_1290939/shadowcun/evals_dev/pikavideos/prompts/hair_flowing_cloth_moving_paint_dripping_subway_train__Image__1_Attachment_seed11494369302548624796.txt\n"
     ]
    },
    {
     "name": "stdout",
     "output_type": "stream",
     "text": [
      "processed frame 23, obj_num 0\n",
      "finished\n",
      "Directory already exists: ./pikavideos/cup/masks\n",
      "Directory already exists: ./pikavideos/cup/mask_video\n",
      "Directory already exists: ./pikavideos/cup/mask_gif\n",
      "final text_encoder_type: bert-base-uncased\n",
      "Model loaded from ./ckpt/groundingdino_swint_ogc.pth \n",
      " => _IncompatibleKeys(missing_keys=[], unexpected_keys=['label_enc.weight', 'bert.embeddings.position_ids'])\n",
      "SegTracker has been initialized\n",
      "processed frame 22, obj_num 0\r"
     ]
    },
    {
     "name": "stderr",
     "output_type": "stream",
     "text": [
      "Num: 113, count for 'cup': 0.0, prompt: @running_a_fever Prompt: -at 9:16 @running_a_fever Prompt: -ar 9:16 https://media.discordapp.net/attachments/1070715147414417410/1129409337324998787/running_a_fever_film_grain._dusty._shot_on_35mm_film._1970s_min_b83ac038-5a31-44f2-b94a-d61c82136c64.png film grain. dusty. shot on 35mm film. 1970’s minimalistic non objective photography. hand holding with two fingers a fat eye crawling on floor, blue eye, super tiny eye, white and yellow flur, ultra realistic, seventies style. slightly pinching. orange juice tears from the eye dripping down into a glass cup.  Author: @running_a_fever film grain. dusty. shot on 35mm film. 1970’s minimalistic non objective photography. hand holding with two fingers a fat eye crawling on floor, blue eye, super tiny eye, white and yellow flur, ultra realistic, seventies style. slightly pinching. orange juice tears from the eye dripping down into a glass cup.  Author: @running_a_fever  , path: /apdcephfs_cq3/share_1290939/shadowcun/evals_dev/pikavideos/prompts/-at_9_16___1033486076561608724__Prompt__-ar_9_16_https___media.discordapp.net_attachments_1070715147.txt\n",
      "2023-08-23 19:01:44 Num: 113, count for 'cup': 0.0, prompt: @running_a_fever Prompt: -at 9:16 @running_a_fever Prompt: -ar 9:16 https://media.discordapp.net/attachments/1070715147414417410/1129409337324998787/running_a_fever_film_grain._dusty._shot_on_35mm_film._1970s_min_b83ac038-5a31-44f2-b94a-d61c82136c64.png film grain. dusty. shot on 35mm film. 1970’s minimalistic non objective photography. hand holding with two fingers a fat eye crawling on floor, blue eye, super tiny eye, white and yellow flur, ultra realistic, seventies style. slightly pinching. orange juice tears from the eye dripping down into a glass cup.  Author: @running_a_fever film grain. dusty. shot on 35mm film. 1970’s minimalistic non objective photography. hand holding with two fingers a fat eye crawling on floor, blue eye, super tiny eye, white and yellow flur, ultra realistic, seventies style. slightly pinching. orange juice tears from the eye dripping down into a glass cup.  Author: @running_a_fever  , path: /apdcephfs_cq3/share_1290939/shadowcun/evals_dev/pikavideos/prompts/-at_9_16___1033486076561608724__Prompt__-ar_9_16_https___media.discordapp.net_attachments_1070715147.txt\n"
     ]
    },
    {
     "name": "stdout",
     "output_type": "stream",
     "text": [
      "processed frame 23, obj_num 0\n",
      "finished\n",
      "Directory already exists: ./pikavideos/orange/masks\n",
      "Directory already exists: ./pikavideos/orange/mask_video\n",
      "Directory already exists: ./pikavideos/orange/mask_gif\n",
      "final text_encoder_type: bert-base-uncased\n",
      "Model loaded from ./ckpt/groundingdino_swint_ogc.pth \n",
      " => _IncompatibleKeys(missing_keys=[], unexpected_keys=['label_enc.weight', 'bert.embeddings.position_ids'])\n",
      "SegTracker has been initialized\n",
      "processed frame 22, obj_num 0\r"
     ]
    },
    {
     "name": "stderr",
     "output_type": "stream",
     "text": [
      "Num: 113, count for 'orange': 0.0, prompt: @running_a_fever Prompt: -at 9:16 @running_a_fever Prompt: -ar 9:16 https://media.discordapp.net/attachments/1070715147414417410/1129409337324998787/running_a_fever_film_grain._dusty._shot_on_35mm_film._1970s_min_b83ac038-5a31-44f2-b94a-d61c82136c64.png film grain. dusty. shot on 35mm film. 1970’s minimalistic non objective photography. hand holding with two fingers a fat eye crawling on floor, blue eye, super tiny eye, white and yellow flur, ultra realistic, seventies style. slightly pinching. orange juice tears from the eye dripping down into a glass cup.  Author: @running_a_fever film grain. dusty. shot on 35mm film. 1970’s minimalistic non objective photography. hand holding with two fingers a fat eye crawling on floor, blue eye, super tiny eye, white and yellow flur, ultra realistic, seventies style. slightly pinching. orange juice tears from the eye dripping down into a glass cup.  Author: @running_a_fever  , path: /apdcephfs_cq3/share_1290939/shadowcun/evals_dev/pikavideos/prompts/-at_9_16___1033486076561608724__Prompt__-ar_9_16_https___media.discordapp.net_attachments_1070715147.txt\n",
      "2023-08-23 19:01:54 Num: 113, count for 'orange': 0.0, prompt: @running_a_fever Prompt: -at 9:16 @running_a_fever Prompt: -ar 9:16 https://media.discordapp.net/attachments/1070715147414417410/1129409337324998787/running_a_fever_film_grain._dusty._shot_on_35mm_film._1970s_min_b83ac038-5a31-44f2-b94a-d61c82136c64.png film grain. dusty. shot on 35mm film. 1970’s minimalistic non objective photography. hand holding with two fingers a fat eye crawling on floor, blue eye, super tiny eye, white and yellow flur, ultra realistic, seventies style. slightly pinching. orange juice tears from the eye dripping down into a glass cup.  Author: @running_a_fever film grain. dusty. shot on 35mm film. 1970’s minimalistic non objective photography. hand holding with two fingers a fat eye crawling on floor, blue eye, super tiny eye, white and yellow flur, ultra realistic, seventies style. slightly pinching. orange juice tears from the eye dripping down into a glass cup.  Author: @running_a_fever  , path: /apdcephfs_cq3/share_1290939/shadowcun/evals_dev/pikavideos/prompts/-at_9_16___1033486076561608724__Prompt__-ar_9_16_https___media.discordapp.net_attachments_1070715147.txt\n"
     ]
    },
    {
     "name": "stdout",
     "output_type": "stream",
     "text": [
      "processed frame 23, obj_num 0\n",
      "finished\n",
      "Directory already exists: ./pikavideos/car/masks\n",
      "Directory already exists: ./pikavideos/car/mask_video\n",
      "Directory already exists: ./pikavideos/car/mask_gif\n",
      "final text_encoder_type: bert-base-uncased\n",
      "Model loaded from ./ckpt/groundingdino_swint_ogc.pth \n",
      " => _IncompatibleKeys(missing_keys=[], unexpected_keys=['label_enc.weight', 'bert.embeddings.position_ids'])\n",
      "SegTracker has been initialized\n",
      "processed frame 22, obj_num 1\r"
     ]
    },
    {
     "name": "stderr",
     "output_type": "stream",
     "text": [
      "Num: 114, count for 'car': 1.0, prompt: @Vista Prompt: A lime green Toyota Supra driving through a neon cyberpunk cityscape, with raindrops reflecting the colorful lights on the car's glossy exterior, 8k resoultion, dslr camera, 24fps, 1/50 shutter speed --ar 9:16  Author: @Vista, path: /apdcephfs_cq3/share_1290939/shadowcun/evals_dev/pikavideos/prompts/A_lime_green_Toyota_Supra_driving_through_a_neon_cyberpunk_cityscape_with_raindrops_reflecting_the__seed14001149426572313259.txt\n",
      "2023-08-23 19:02:05 Num: 114, count for 'car': 1.0, prompt: @Vista Prompt: A lime green Toyota Supra driving through a neon cyberpunk cityscape, with raindrops reflecting the colorful lights on the car's glossy exterior, 8k resoultion, dslr camera, 24fps, 1/50 shutter speed --ar 9:16  Author: @Vista, path: /apdcephfs_cq3/share_1290939/shadowcun/evals_dev/pikavideos/prompts/A_lime_green_Toyota_Supra_driving_through_a_neon_cyberpunk_cityscape_with_raindrops_reflecting_the__seed14001149426572313259.txt\n"
     ]
    },
    {
     "name": "stdout",
     "output_type": "stream",
     "text": [
      "processed frame 23, obj_num 1\n",
      "finished\n",
      "Directory already exists: ./pikavideos/chair/masks\n",
      "Directory already exists: ./pikavideos/chair/mask_video\n",
      "Directory already exists: ./pikavideos/chair/mask_gif\n",
      "final text_encoder_type: bert-base-uncased\n",
      "Model loaded from ./ckpt/groundingdino_swint_ogc.pth \n",
      " => _IncompatibleKeys(missing_keys=[], unexpected_keys=['label_enc.weight', 'bert.embeddings.position_ids'])\n",
      "SegTracker has been initialized\n",
      "processed frame 22, obj_num 1\r"
     ]
    },
    {
     "name": "stderr",
     "output_type": "stream",
     "text": [
      "Num: 115, count for 'chair': 1.0, prompt: @csai Prompt: patient strapped to chair in asylum 1980s french experimental film  Image: 1 Attachment  Author: @csai, path: /apdcephfs_cq3/share_1290939/shadowcun/evals_dev/pikavideos/prompts/patient_strapped_to_chair_in_asylum_1980s_french_experimental_film.txt\n",
      "2023-08-23 19:02:16 Num: 115, count for 'chair': 1.0, prompt: @csai Prompt: patient strapped to chair in asylum 1980s french experimental film  Image: 1 Attachment  Author: @csai, path: /apdcephfs_cq3/share_1290939/shadowcun/evals_dev/pikavideos/prompts/patient_strapped_to_chair_in_asylum_1980s_french_experimental_film.txt\n"
     ]
    },
    {
     "name": "stdout",
     "output_type": "stream",
     "text": [
      "processed frame 23, obj_num 1\n",
      "finished\n",
      "Directory already exists: ./pikavideos/dog/masks\n",
      "Directory already exists: ./pikavideos/dog/mask_video\n",
      "Directory already exists: ./pikavideos/dog/mask_gif\n",
      "final text_encoder_type: bert-base-uncased\n",
      "Model loaded from ./ckpt/groundingdino_swint_ogc.pth \n",
      " => _IncompatibleKeys(missing_keys=[], unexpected_keys=['label_enc.weight', 'bert.embeddings.position_ids'])\n",
      "SegTracker has been initialized\n",
      "processed frame 22, obj_num 1\r"
     ]
    },
    {
     "name": "stderr",
     "output_type": "stream",
     "text": [
      "Num: 116, count for 'dog': 1.0, prompt: @norris Prompt: a dog is running  Author: @norris, path: /apdcephfs_cq3/share_1290939/shadowcun/evals_dev/pikavideos/prompts/a_dog_is_running_seed16575404196183261058.txt\n",
      "2023-08-23 19:02:26 Num: 116, count for 'dog': 1.0, prompt: @norris Prompt: a dog is running  Author: @norris, path: /apdcephfs_cq3/share_1290939/shadowcun/evals_dev/pikavideos/prompts/a_dog_is_running_seed16575404196183261058.txt\n"
     ]
    },
    {
     "name": "stdout",
     "output_type": "stream",
     "text": [
      "processed frame 23, obj_num 1\n",
      "finished\n",
      "Directory already exists: ./pikavideos/bed/masks\n",
      "Directory already exists: ./pikavideos/bed/mask_video\n",
      "Directory already exists: ./pikavideos/bed/mask_gif\n",
      "final text_encoder_type: bert-base-uncased\n",
      "Model loaded from ./ckpt/groundingdino_swint_ogc.pth \n",
      " => _IncompatibleKeys(missing_keys=[], unexpected_keys=['label_enc.weight', 'bert.embeddings.position_ids'])\n",
      "SegTracker has been initialized\n",
      "processed frame 22, obj_num 1\r"
     ]
    },
    {
     "name": "stderr",
     "output_type": "stream",
     "text": [
      "Num: 117, count for 'bed': 1.0, prompt: @j.elizabeth Prompt: girl singing, lying on bed  Image: 1 Attachment  Author: @j.elizabeth, path: /apdcephfs_cq3/share_1290939/shadowcun/evals_dev/pikavideos/prompts/girl_singing_lying_on_bed__Image__1_Attachment_seed11097103233119489747.txt\n",
      "2023-08-23 19:02:37 Num: 117, count for 'bed': 1.0, prompt: @j.elizabeth Prompt: girl singing, lying on bed  Image: 1 Attachment  Author: @j.elizabeth, path: /apdcephfs_cq3/share_1290939/shadowcun/evals_dev/pikavideos/prompts/girl_singing_lying_on_bed__Image__1_Attachment_seed11097103233119489747.txt\n"
     ]
    },
    {
     "name": "stdout",
     "output_type": "stream",
     "text": [
      "processed frame 23, obj_num 1\n",
      "finished\n",
      "Directory already exists: ./pikavideos/train/masks\n",
      "Directory already exists: ./pikavideos/train/mask_video\n",
      "Directory already exists: ./pikavideos/train/mask_gif\n",
      "final text_encoder_type: bert-base-uncased\n",
      "Model loaded from ./ckpt/groundingdino_swint_ogc.pth \n",
      " => _IncompatibleKeys(missing_keys=[], unexpected_keys=['label_enc.weight', 'bert.embeddings.position_ids'])\n",
      "SegTracker has been initialized\n",
      "processed frame 22, obj_num 1\r"
     ]
    },
    {
     "name": "stderr",
     "output_type": "stream",
     "text": [
      "Num: 118, count for 'train': 1.0, prompt: @Tsuzen Prompt: a train is running fast  Image: 1 Attachment  Author: @Tsuzen, path: /apdcephfs_cq3/share_1290939/shadowcun/evals_dev/pikavideos/prompts/a_train_is_running_fast__Image__1_Attachment_seed14313715466123540846.txt\n",
      "2023-08-23 19:02:48 Num: 118, count for 'train': 1.0, prompt: @Tsuzen Prompt: a train is running fast  Image: 1 Attachment  Author: @Tsuzen, path: /apdcephfs_cq3/share_1290939/shadowcun/evals_dev/pikavideos/prompts/a_train_is_running_fast__Image__1_Attachment_seed14313715466123540846.txt\n"
     ]
    },
    {
     "name": "stdout",
     "output_type": "stream",
     "text": [
      "processed frame 23, obj_num 1\n",
      "finished\n",
      "Directory already exists: ./pikavideos/person/masks\n",
      "Directory already exists: ./pikavideos/person/mask_video\n",
      "Directory already exists: ./pikavideos/person/mask_gif\n",
      "final text_encoder_type: bert-base-uncased\n",
      "Model loaded from ./ckpt/groundingdino_swint_ogc.pth \n",
      " => _IncompatibleKeys(missing_keys=[], unexpected_keys=['label_enc.weight', 'bert.embeddings.position_ids'])\n",
      "SegTracker has been initialized\n",
      "processed frame 22, obj_num 0\r"
     ]
    },
    {
     "name": "stderr",
     "output_type": "stream",
     "text": [
      "Num: 118, count for 'person': 0.0, prompt: @JZ3D Prompt: animate person in chair.  Image: 1 Attachment  Author: @JZ3D, path: /apdcephfs_cq3/share_1290939/shadowcun/evals_dev/pikavideos/prompts/animate_person_in_chair._seed2628916402956994264.txt\n",
      "2023-08-23 19:02:58 Num: 118, count for 'person': 0.0, prompt: @JZ3D Prompt: animate person in chair.  Image: 1 Attachment  Author: @JZ3D, path: /apdcephfs_cq3/share_1290939/shadowcun/evals_dev/pikavideos/prompts/animate_person_in_chair._seed2628916402956994264.txt\n"
     ]
    },
    {
     "name": "stdout",
     "output_type": "stream",
     "text": [
      "processed frame 23, obj_num 0\n",
      "finished\n",
      "Directory already exists: ./pikavideos/chair/masks\n",
      "Directory already exists: ./pikavideos/chair/mask_video\n",
      "Directory already exists: ./pikavideos/chair/mask_gif\n",
      "final text_encoder_type: bert-base-uncased\n",
      "Model loaded from ./ckpt/groundingdino_swint_ogc.pth \n",
      " => _IncompatibleKeys(missing_keys=[], unexpected_keys=['label_enc.weight', 'bert.embeddings.position_ids'])\n",
      "SegTracker has been initialized\n",
      "processed frame 22, obj_num 0\r"
     ]
    },
    {
     "name": "stderr",
     "output_type": "stream",
     "text": [
      "Num: 118, count for 'chair': 0.0, prompt: @JZ3D Prompt: animate person in chair.  Image: 1 Attachment  Author: @JZ3D, path: /apdcephfs_cq3/share_1290939/shadowcun/evals_dev/pikavideos/prompts/animate_person_in_chair._seed2628916402956994264.txt\n",
      "2023-08-23 19:03:08 Num: 118, count for 'chair': 0.0, prompt: @JZ3D Prompt: animate person in chair.  Image: 1 Attachment  Author: @JZ3D, path: /apdcephfs_cq3/share_1290939/shadowcun/evals_dev/pikavideos/prompts/animate_person_in_chair._seed2628916402956994264.txt\n"
     ]
    },
    {
     "name": "stdout",
     "output_type": "stream",
     "text": [
      "processed frame 23, obj_num 0\n",
      "finished\n",
      "Directory already exists: ./pikavideos/person/masks\n",
      "Directory already exists: ./pikavideos/person/mask_video\n",
      "Directory already exists: ./pikavideos/person/mask_gif\n",
      "final text_encoder_type: bert-base-uncased\n",
      "Model loaded from ./ckpt/groundingdino_swint_ogc.pth \n",
      " => _IncompatibleKeys(missing_keys=[], unexpected_keys=['label_enc.weight', 'bert.embeddings.position_ids'])\n",
      "SegTracker has been initialized\n",
      "processed frame 22, obj_num 1\r"
     ]
    },
    {
     "name": "stderr",
     "output_type": "stream",
     "text": [
      "Num: 119, count for 'person': 1.0, prompt: @Randomdude Prompt: clumsy person hurting his knee on a fan  Author: @Randomdude, path: /apdcephfs_cq3/share_1290939/shadowcun/evals_dev/pikavideos/prompts/clumsy_person_hurting_his_knee_on_a_fan_seed521100019104328987.txt\n",
      "2023-08-23 19:03:18 Num: 119, count for 'person': 1.0, prompt: @Randomdude Prompt: clumsy person hurting his knee on a fan  Author: @Randomdude, path: /apdcephfs_cq3/share_1290939/shadowcun/evals_dev/pikavideos/prompts/clumsy_person_hurting_his_knee_on_a_fan_seed521100019104328987.txt\n"
     ]
    },
    {
     "name": "stdout",
     "output_type": "stream",
     "text": [
      "processed frame 23, obj_num 1\n",
      "finished\n",
      "Directory already exists: ./pikavideos/person/masks\n",
      "Directory already exists: ./pikavideos/person/mask_video\n",
      "Directory already exists: ./pikavideos/person/mask_gif\n",
      "final text_encoder_type: bert-base-uncased\n",
      "Model loaded from ./ckpt/groundingdino_swint_ogc.pth \n",
      " => _IncompatibleKeys(missing_keys=[], unexpected_keys=['label_enc.weight', 'bert.embeddings.position_ids'])\n",
      "SegTracker has been initialized\n",
      "processed frame 22, obj_num 1\r"
     ]
    },
    {
     "name": "stderr",
     "output_type": "stream",
     "text": [
      "Num: 120, count for 'person': 1.0, prompt: @Thechandrapalsinghrajput Prompt: The person is now standing up, stretching, and smiling. They have finished all of their tasks, and they are feeling accomplished, 4k, 60fps  Author: @Thechandrapalsinghrajput, path: /apdcephfs_cq3/share_1290939/shadowcun/evals_dev/pikavideos/prompts/The_person_is_now_standing_up_stretching_and_smiling._They_have_finished_all_of_their_tasks_and_t_seed1533460219997543090.txt\n",
      "2023-08-23 19:03:28 Num: 120, count for 'person': 1.0, prompt: @Thechandrapalsinghrajput Prompt: The person is now standing up, stretching, and smiling. They have finished all of their tasks, and they are feeling accomplished, 4k, 60fps  Author: @Thechandrapalsinghrajput, path: /apdcephfs_cq3/share_1290939/shadowcun/evals_dev/pikavideos/prompts/The_person_is_now_standing_up_stretching_and_smiling._They_have_finished_all_of_their_tasks_and_t_seed1533460219997543090.txt\n"
     ]
    },
    {
     "name": "stdout",
     "output_type": "stream",
     "text": [
      "processed frame 23, obj_num 1\n",
      "finished\n",
      "Directory already exists: ./pikavideos/motorcycle/masks\n",
      "Directory already exists: ./pikavideos/motorcycle/mask_video\n",
      "Directory already exists: ./pikavideos/motorcycle/mask_gif\n",
      "final text_encoder_type: bert-base-uncased\n",
      "Model loaded from ./ckpt/groundingdino_swint_ogc.pth \n",
      " => _IncompatibleKeys(missing_keys=[], unexpected_keys=['label_enc.weight', 'bert.embeddings.position_ids'])\n",
      "SegTracker has been initialized\n",
      "processed frame 22, obj_num 1\r"
     ]
    },
    {
     "name": "stderr",
     "output_type": "stream",
     "text": [
      "Num: 121, count for 'motorcycle': 1.0, prompt: @Blake Mage Prompt: ghostrider driving a motorcycle through the desert. huge flames. action, speed, cinematic action scene, ghostrider movie style, mad max movie style.  Image: 1 Attachment  Author: @Blake Mage, path: /apdcephfs_cq3/share_1290939/shadowcun/evals_dev/pikavideos/prompts/ghostrider_driving_a_motorcycle_through_the_desert._huge_flames._action_speed_cinematic_action_sce_seed8842894192356618115.txt\n",
      "2023-08-23 19:03:37 Num: 121, count for 'motorcycle': 1.0, prompt: @Blake Mage Prompt: ghostrider driving a motorcycle through the desert. huge flames. action, speed, cinematic action scene, ghostrider movie style, mad max movie style.  Image: 1 Attachment  Author: @Blake Mage, path: /apdcephfs_cq3/share_1290939/shadowcun/evals_dev/pikavideos/prompts/ghostrider_driving_a_motorcycle_through_the_desert._huge_flames._action_speed_cinematic_action_sce_seed8842894192356618115.txt\n"
     ]
    },
    {
     "name": "stdout",
     "output_type": "stream",
     "text": [
      "processed frame 23, obj_num 1\n",
      "finished\n",
      "Directory already exists: ./pikavideos/horse/masks\n",
      "Directory already exists: ./pikavideos/horse/mask_video\n",
      "Directory already exists: ./pikavideos/horse/mask_gif\n",
      "final text_encoder_type: bert-base-uncased\n",
      "Model loaded from ./ckpt/groundingdino_swint_ogc.pth \n",
      " => _IncompatibleKeys(missing_keys=[], unexpected_keys=['label_enc.weight', 'bert.embeddings.position_ids'])\n",
      "SegTracker has been initialized\n",
      "processed frame 22, obj_num 1\r"
     ]
    },
    {
     "name": "stderr",
     "output_type": "stream",
     "text": [
      "Num: 122, count for 'horse': 1.0, prompt: @manu13 Prompt: animated the horses and the soldiers  Image: 1 Attachment  Author: @manu13, path: /apdcephfs_cq3/share_1290939/shadowcun/evals_dev/pikavideos/prompts/animated_the_horses_and_the_soldiers__Image__1_Attachment_seed6443731362824509056.txt\n",
      "2023-08-23 19:03:49 Num: 122, count for 'horse': 1.0, prompt: @manu13 Prompt: animated the horses and the soldiers  Image: 1 Attachment  Author: @manu13, path: /apdcephfs_cq3/share_1290939/shadowcun/evals_dev/pikavideos/prompts/animated_the_horses_and_the_soldiers__Image__1_Attachment_seed6443731362824509056.txt\n"
     ]
    },
    {
     "name": "stdout",
     "output_type": "stream",
     "text": [
      "processed frame 23, obj_num 1\n",
      "finished\n",
      "Directory already exists: ./pikavideos/person/masks\n",
      "Directory already exists: ./pikavideos/person/mask_video\n",
      "Directory already exists: ./pikavideos/person/mask_gif\n",
      "final text_encoder_type: bert-base-uncased\n",
      "Model loaded from ./ckpt/groundingdino_swint_ogc.pth \n",
      " => _IncompatibleKeys(missing_keys=[], unexpected_keys=['label_enc.weight', 'bert.embeddings.position_ids'])\n",
      "SegTracker has been initialized\n",
      "processed frame 22, obj_num 0\r"
     ]
    },
    {
     "name": "stderr",
     "output_type": "stream",
     "text": [
      "Num: 122, count for 'person': 0.0, prompt: @Amaro7 Prompt: luxury car on a beach avenue walking slowly, with person inside smoking cigarette  Author: @Amaro7, path: /apdcephfs_cq3/share_1290939/shadowcun/evals_dev/pikavideos/prompts/luxury_car_on_a_beach_avenue_walking_slowly_with_person_inside_smoking_cigarette_seed12483553217606798567.txt\n",
      "2023-08-23 19:03:58 Num: 122, count for 'person': 0.0, prompt: @Amaro7 Prompt: luxury car on a beach avenue walking slowly, with person inside smoking cigarette  Author: @Amaro7, path: /apdcephfs_cq3/share_1290939/shadowcun/evals_dev/pikavideos/prompts/luxury_car_on_a_beach_avenue_walking_slowly_with_person_inside_smoking_cigarette_seed12483553217606798567.txt\n"
     ]
    },
    {
     "name": "stdout",
     "output_type": "stream",
     "text": [
      "processed frame 23, obj_num 0\n",
      "finished\n",
      "Directory already exists: ./pikavideos/car/masks\n",
      "Directory already exists: ./pikavideos/car/mask_video\n",
      "Directory already exists: ./pikavideos/car/mask_gif\n",
      "final text_encoder_type: bert-base-uncased\n",
      "Model loaded from ./ckpt/groundingdino_swint_ogc.pth \n",
      " => _IncompatibleKeys(missing_keys=[], unexpected_keys=['label_enc.weight', 'bert.embeddings.position_ids'])\n",
      "SegTracker has been initialized\n",
      "processed frame 22, obj_num 1\r"
     ]
    },
    {
     "name": "stderr",
     "output_type": "stream",
     "text": [
      "Num: 123, count for 'car': 1.0, prompt: @Amaro7 Prompt: luxury car on a beach avenue walking slowly, with person inside smoking cigarette  Author: @Amaro7, path: /apdcephfs_cq3/share_1290939/shadowcun/evals_dev/pikavideos/prompts/luxury_car_on_a_beach_avenue_walking_slowly_with_person_inside_smoking_cigarette_seed12483553217606798567.txt\n",
      "2023-08-23 19:04:08 Num: 123, count for 'car': 1.0, prompt: @Amaro7 Prompt: luxury car on a beach avenue walking slowly, with person inside smoking cigarette  Author: @Amaro7, path: /apdcephfs_cq3/share_1290939/shadowcun/evals_dev/pikavideos/prompts/luxury_car_on_a_beach_avenue_walking_slowly_with_person_inside_smoking_cigarette_seed12483553217606798567.txt\n"
     ]
    },
    {
     "name": "stdout",
     "output_type": "stream",
     "text": [
      "processed frame 23, obj_num 1\n",
      "finished\n",
      "Directory already exists: ./pikavideos/tv/masks\n",
      "Directory already exists: ./pikavideos/tv/mask_video\n",
      "Directory already exists: ./pikavideos/tv/mask_gif\n",
      "final text_encoder_type: bert-base-uncased\n",
      "Model loaded from ./ckpt/groundingdino_swint_ogc.pth \n",
      " => _IncompatibleKeys(missing_keys=[], unexpected_keys=['label_enc.weight', 'bert.embeddings.position_ids'])\n",
      "SegTracker has been initialized\n",
      "processed frame 22, obj_num 0\r"
     ]
    },
    {
     "name": "stderr",
     "output_type": "stream",
     "text": [
      "Num: 123, count for 'tv': 0.0, prompt: @Chet Bliss Prompt: 60’s black white tv show talent show  Author: @Chet Bliss (edited), path: /apdcephfs_cq3/share_1290939/shadowcun/evals_dev/pikavideos/prompts/60_s_black_white_tv_show_talent_show.txt\n",
      "2023-08-23 19:04:18 Num: 123, count for 'tv': 0.0, prompt: @Chet Bliss Prompt: 60’s black white tv show talent show  Author: @Chet Bliss (edited), path: /apdcephfs_cq3/share_1290939/shadowcun/evals_dev/pikavideos/prompts/60_s_black_white_tv_show_talent_show.txt\n"
     ]
    },
    {
     "name": "stdout",
     "output_type": "stream",
     "text": [
      "processed frame 23, obj_num 0\n",
      "finished\n",
      "Directory already exists: ./pikavideos/cat/masks\n",
      "Directory already exists: ./pikavideos/cat/mask_video\n",
      "Directory already exists: ./pikavideos/cat/mask_gif\n",
      "final text_encoder_type: bert-base-uncased\n",
      "Model loaded from ./ckpt/groundingdino_swint_ogc.pth \n",
      " => _IncompatibleKeys(missing_keys=[], unexpected_keys=['label_enc.weight', 'bert.embeddings.position_ids'])\n",
      "SegTracker has been initialized\n",
      "processed frame 22, obj_num 1\r"
     ]
    },
    {
     "name": "stderr",
     "output_type": "stream",
     "text": [
      "Num: 124, count for 'cat': 1.0, prompt: @pljh Prompt: The cat trembled with fear, and the corners of its mouth moved slightly  Image: 1 Attachment  Author: @pljh, path: /apdcephfs_cq3/share_1290939/shadowcun/evals_dev/pikavideos/prompts/The_cat_trembled_with_fear_and_the_corners_of_its_mouth_moved_slightly__Image__1_Attachment_seed10850927560730672191.txt\n",
      "2023-08-23 19:04:29 Num: 124, count for 'cat': 1.0, prompt: @pljh Prompt: The cat trembled with fear, and the corners of its mouth moved slightly  Image: 1 Attachment  Author: @pljh, path: /apdcephfs_cq3/share_1290939/shadowcun/evals_dev/pikavideos/prompts/The_cat_trembled_with_fear_and_the_corners_of_its_mouth_moved_slightly__Image__1_Attachment_seed10850927560730672191.txt\n"
     ]
    },
    {
     "name": "stdout",
     "output_type": "stream",
     "text": [
      "processed frame 23, obj_num 1\n",
      "finished\n",
      "Directory already exists: ./pikavideos/orange/masks\n",
      "Directory already exists: ./pikavideos/orange/mask_video\n",
      "Directory already exists: ./pikavideos/orange/mask_gif\n",
      "final text_encoder_type: bert-base-uncased\n",
      "Model loaded from ./ckpt/groundingdino_swint_ogc.pth \n",
      " => _IncompatibleKeys(missing_keys=[], unexpected_keys=['label_enc.weight', 'bert.embeddings.position_ids'])\n",
      "SegTracker has been initialized\n",
      "processed frame 22, obj_num 0\r"
     ]
    },
    {
     "name": "stderr",
     "output_type": "stream",
     "text": [
      "Num: 124, count for 'orange': 0.0, prompt: @Terrence Green Kirby Prompt: Horror Anime animation of man and woman hugging, in the background a monster with iron plating and orange flame interior approaches menacingly -motion 4  Image: 1 Attachment  Author: @Terrence Green Kirby, path: /apdcephfs_cq3/share_1290939/shadowcun/evals_dev/pikavideos/prompts/Horror_Anime_animation_of_man_and_woman_hugging_in_the_background_a_monster_with_iron_plating_and_o_seed14353077103859331704.txt\n",
      "2023-08-23 19:04:39 Num: 124, count for 'orange': 0.0, prompt: @Terrence Green Kirby Prompt: Horror Anime animation of man and woman hugging, in the background a monster with iron plating and orange flame interior approaches menacingly -motion 4  Image: 1 Attachment  Author: @Terrence Green Kirby, path: /apdcephfs_cq3/share_1290939/shadowcun/evals_dev/pikavideos/prompts/Horror_Anime_animation_of_man_and_woman_hugging_in_the_background_a_monster_with_iron_plating_and_o_seed14353077103859331704.txt\n"
     ]
    },
    {
     "name": "stdout",
     "output_type": "stream",
     "text": [
      "processed frame 23, obj_num 0\n",
      "finished\n",
      "Directory already exists: ./pikavideos/bear/masks\n",
      "Directory already exists: ./pikavideos/bear/mask_video\n",
      "Directory already exists: ./pikavideos/bear/mask_gif\n",
      "final text_encoder_type: bert-base-uncased\n",
      "Model loaded from ./ckpt/groundingdino_swint_ogc.pth \n",
      " => _IncompatibleKeys(missing_keys=[], unexpected_keys=['label_enc.weight', 'bert.embeddings.position_ids'])\n",
      "SegTracker has been initialized\n",
      "processed frame 22, obj_num 1\r"
     ]
    },
    {
     "name": "stderr",
     "output_type": "stream",
     "text": [
      "Num: 125, count for 'bear': 1.0, prompt: @FieryEagle Prompt: girl in knight armor riding a bear in the forest  Image: 1 Attachment  Author: @FieryEagle, path: /apdcephfs_cq3/share_1290939/shadowcun/evals_dev/pikavideos/prompts/girl_in_knight_armor_riding_a_bear_in_the_forest_seed9050506768446369015.txt\n",
      "2023-08-23 19:04:50 Num: 125, count for 'bear': 1.0, prompt: @FieryEagle Prompt: girl in knight armor riding a bear in the forest  Image: 1 Attachment  Author: @FieryEagle, path: /apdcephfs_cq3/share_1290939/shadowcun/evals_dev/pikavideos/prompts/girl_in_knight_armor_riding_a_bear_in_the_forest_seed9050506768446369015.txt\n"
     ]
    },
    {
     "name": "stdout",
     "output_type": "stream",
     "text": [
      "processed frame 23, obj_num 1\n",
      "finished\n",
      "Directory already exists: ./pikavideos/horse/masks\n",
      "Directory already exists: ./pikavideos/horse/mask_video\n",
      "Directory already exists: ./pikavideos/horse/mask_gif\n",
      "final text_encoder_type: bert-base-uncased\n",
      "Model loaded from ./ckpt/groundingdino_swint_ogc.pth \n",
      " => _IncompatibleKeys(missing_keys=[], unexpected_keys=['label_enc.weight', 'bert.embeddings.position_ids'])\n",
      "SegTracker has been initialized\n",
      "processed frame 22, obj_num 1\r"
     ]
    },
    {
     "name": "stderr",
     "output_type": "stream",
     "text": [
      "Num: 126, count for 'horse': 1.0, prompt: @frankshines Prompt: man riding horse  Image: 1 Attachment  Author: @frankshines, path: /apdcephfs_cq3/share_1290939/shadowcun/evals_dev/pikavideos/prompts/man_riding_horse_seed14064714789447944397.txt\n",
      "2023-08-23 19:05:00 Num: 126, count for 'horse': 1.0, prompt: @frankshines Prompt: man riding horse  Image: 1 Attachment  Author: @frankshines, path: /apdcephfs_cq3/share_1290939/shadowcun/evals_dev/pikavideos/prompts/man_riding_horse_seed14064714789447944397.txt\n"
     ]
    },
    {
     "name": "stdout",
     "output_type": "stream",
     "text": [
      "processed frame 23, obj_num 1\n",
      "finished\n",
      "Directory already exists: ./pikavideos/car/masks\n",
      "Directory already exists: ./pikavideos/car/mask_video\n",
      "Directory already exists: ./pikavideos/car/mask_gif\n",
      "final text_encoder_type: bert-base-uncased\n",
      "Model loaded from ./ckpt/groundingdino_swint_ogc.pth \n",
      " => _IncompatibleKeys(missing_keys=[], unexpected_keys=['label_enc.weight', 'bert.embeddings.position_ids'])\n",
      "SegTracker has been initialized\n",
      "processed frame 22, obj_num 1\r"
     ]
    },
    {
     "name": "stderr",
     "output_type": "stream",
     "text": [
      "Num: 127, count for 'car': 1.0, prompt: @lumberjack Prompt: driving car  Image: 1 Attachment  Author: @lumberjack, path: /apdcephfs_cq3/share_1290939/shadowcun/evals_dev/pikavideos/prompts/driving_car__Image__1_Attachment_seed1420991770935304436.txt\n",
      "2023-08-23 19:05:11 Num: 127, count for 'car': 1.0, prompt: @lumberjack Prompt: driving car  Image: 1 Attachment  Author: @lumberjack, path: /apdcephfs_cq3/share_1290939/shadowcun/evals_dev/pikavideos/prompts/driving_car__Image__1_Attachment_seed1420991770935304436.txt\n"
     ]
    },
    {
     "name": "stdout",
     "output_type": "stream",
     "text": [
      "processed frame 23, obj_num 1\n",
      "finished\n",
      "Directory already exists: ./pikavideos/train/masks\n",
      "Directory already exists: ./pikavideos/train/mask_video\n",
      "Directory already exists: ./pikavideos/train/mask_gif\n",
      "final text_encoder_type: bert-base-uncased\n",
      "Model loaded from ./ckpt/groundingdino_swint_ogc.pth \n",
      " => _IncompatibleKeys(missing_keys=[], unexpected_keys=['label_enc.weight', 'bert.embeddings.position_ids'])\n",
      "SegTracker has been initialized\n",
      "processed frame 22, obj_num 0\r"
     ]
    },
    {
     "name": "stderr",
     "output_type": "stream",
     "text": [
      "Num: 127, count for 'train': 0.0, prompt: @xlqlh Prompt: Mr. Conductor from Dinosaur Train television series, intricate details, 4k  Author: @xlqlh (edited), path: /apdcephfs_cq3/share_1290939/shadowcun/evals_dev/pikavideos/prompts/Mr._Conductor_from_Dinosaur_Train_television_series_intricate_details_4k_seed12063988209632426026.txt\n",
      "2023-08-23 19:05:20 Num: 127, count for 'train': 0.0, prompt: @xlqlh Prompt: Mr. Conductor from Dinosaur Train television series, intricate details, 4k  Author: @xlqlh (edited), path: /apdcephfs_cq3/share_1290939/shadowcun/evals_dev/pikavideos/prompts/Mr._Conductor_from_Dinosaur_Train_television_series_intricate_details_4k_seed12063988209632426026.txt\n"
     ]
    },
    {
     "name": "stdout",
     "output_type": "stream",
     "text": [
      "processed frame 23, obj_num 0\n",
      "finished\n",
      "Directory already exists: ./pikavideos/cat/masks\n",
      "Directory already exists: ./pikavideos/cat/mask_video\n",
      "Directory already exists: ./pikavideos/cat/mask_gif\n",
      "final text_encoder_type: bert-base-uncased\n",
      "Model loaded from ./ckpt/groundingdino_swint_ogc.pth \n",
      " => _IncompatibleKeys(missing_keys=[], unexpected_keys=['label_enc.weight', 'bert.embeddings.position_ids'])\n",
      "SegTracker has been initialized\n",
      "processed frame 22, obj_num 1\r"
     ]
    },
    {
     "name": "stderr",
     "output_type": "stream",
     "text": [
      "Num: 128, count for 'cat': 1.0, prompt: @woodcut Prompt: The cat catches the donut with a smirk, wearing a tiny victory crown.  Author: @woodcut, path: /apdcephfs_cq3/share_1290939/shadowcun/evals_dev/pikavideos/prompts/The_cat_catches_the_donut_with_a_smirk_wearing_a_tiny_victory_crown._seed574148281839231355.txt\n",
      "2023-08-23 19:05:30 Num: 128, count for 'cat': 1.0, prompt: @woodcut Prompt: The cat catches the donut with a smirk, wearing a tiny victory crown.  Author: @woodcut, path: /apdcephfs_cq3/share_1290939/shadowcun/evals_dev/pikavideos/prompts/The_cat_catches_the_donut_with_a_smirk_wearing_a_tiny_victory_crown._seed574148281839231355.txt\n"
     ]
    },
    {
     "name": "stdout",
     "output_type": "stream",
     "text": [
      "processed frame 23, obj_num 1\n",
      "finished\n",
      "Directory created: ./pikavideos/donut/masks\n",
      "Directory created: ./pikavideos/donut/mask_video\n",
      "Directory created: ./pikavideos/donut/mask_gif\n",
      "final text_encoder_type: bert-base-uncased\n",
      "Model loaded from ./ckpt/groundingdino_swint_ogc.pth \n",
      " => _IncompatibleKeys(missing_keys=[], unexpected_keys=['label_enc.weight', 'bert.embeddings.position_ids'])\n",
      "SegTracker has been initialized\n",
      "processed frame 22, obj_num 2\r"
     ]
    },
    {
     "name": "stderr",
     "output_type": "stream",
     "text": [
      "Num: 129, count for 'donut': 2.0, prompt: @woodcut Prompt: The cat catches the donut with a smirk, wearing a tiny victory crown.  Author: @woodcut, path: /apdcephfs_cq3/share_1290939/shadowcun/evals_dev/pikavideos/prompts/The_cat_catches_the_donut_with_a_smirk_wearing_a_tiny_victory_crown._seed574148281839231355.txt\n",
      "2023-08-23 19:05:40 Num: 129, count for 'donut': 2.0, prompt: @woodcut Prompt: The cat catches the donut with a smirk, wearing a tiny victory crown.  Author: @woodcut, path: /apdcephfs_cq3/share_1290939/shadowcun/evals_dev/pikavideos/prompts/The_cat_catches_the_donut_with_a_smirk_wearing_a_tiny_victory_crown._seed574148281839231355.txt\n"
     ]
    },
    {
     "name": "stdout",
     "output_type": "stream",
     "text": [
      "processed frame 23, obj_num 2\n",
      "finished\n",
      "Directory already exists: ./pikavideos/motorcycle/masks\n",
      "Directory already exists: ./pikavideos/motorcycle/mask_video\n",
      "Directory already exists: ./pikavideos/motorcycle/mask_gif\n",
      "final text_encoder_type: bert-base-uncased\n",
      "Model loaded from ./ckpt/groundingdino_swint_ogc.pth \n",
      " => _IncompatibleKeys(missing_keys=[], unexpected_keys=['label_enc.weight', 'bert.embeddings.position_ids'])\n",
      "SegTracker has been initialized\n",
      "processed frame 22, obj_num 0\r"
     ]
    },
    {
     "name": "stderr",
     "output_type": "stream",
     "text": [
      "Num: 129, count for 'motorcycle': 0.0, prompt: @Bohdash666 Prompt: a man in a leather outfit , helmet on his head ride a motorcycle  Image: 1 Attachment  Author: @Bohdash666, path: /apdcephfs_cq3/share_1290939/shadowcun/evals_dev/pikavideos/prompts/a_man_in_a_leather_outfit__helmet_on_his_head_ride_a_motorcycle.txt\n",
      "2023-08-23 19:05:51 Num: 129, count for 'motorcycle': 0.0, prompt: @Bohdash666 Prompt: a man in a leather outfit , helmet on his head ride a motorcycle  Image: 1 Attachment  Author: @Bohdash666, path: /apdcephfs_cq3/share_1290939/shadowcun/evals_dev/pikavideos/prompts/a_man_in_a_leather_outfit__helmet_on_his_head_ride_a_motorcycle.txt\n"
     ]
    },
    {
     "name": "stdout",
     "output_type": "stream",
     "text": [
      "processed frame 23, obj_num 0\n",
      "finished\n",
      "Directory already exists: ./pikavideos/boat/masks\n",
      "Directory already exists: ./pikavideos/boat/mask_video\n",
      "Directory already exists: ./pikavideos/boat/mask_gif\n",
      "final text_encoder_type: bert-base-uncased\n",
      "Model loaded from ./ckpt/groundingdino_swint_ogc.pth \n",
      " => _IncompatibleKeys(missing_keys=[], unexpected_keys=['label_enc.weight', 'bert.embeddings.position_ids'])\n",
      "SegTracker has been initialized\n",
      "processed frame 22, obj_num 1\r"
     ]
    },
    {
     "name": "stderr",
     "output_type": "stream",
     "text": [
      "Num: 130, count for 'boat': 1.0, prompt: @toouniq Prompt: hand made small paper boat flowing in the stream of water stream , 3/4 closeup camera angle , nat-geo style videography --ar 16:9 -neg \"distort , fake , 3d , plastic , distort \"  Author: @toouniq, path: /apdcephfs_cq3/share_1290939/shadowcun/evals_dev/pikavideos/prompts/hand_made_small_paper_boat_flowing_in_the_stream_of_water_stream__3_4_closeup_camera_angle__nat-ge.txt\n",
      "2023-08-23 19:06:01 Num: 130, count for 'boat': 1.0, prompt: @toouniq Prompt: hand made small paper boat flowing in the stream of water stream , 3/4 closeup camera angle , nat-geo style videography --ar 16:9 -neg \"distort , fake , 3d , plastic , distort \"  Author: @toouniq, path: /apdcephfs_cq3/share_1290939/shadowcun/evals_dev/pikavideos/prompts/hand_made_small_paper_boat_flowing_in_the_stream_of_water_stream__3_4_closeup_camera_angle__nat-ge.txt\n"
     ]
    },
    {
     "name": "stdout",
     "output_type": "stream",
     "text": [
      "processed frame 23, obj_num 1\n",
      "finished\n",
      "Directory already exists: ./pikavideos/car/masks\n",
      "Directory already exists: ./pikavideos/car/mask_video\n",
      "Directory already exists: ./pikavideos/car/mask_gif\n",
      "final text_encoder_type: bert-base-uncased\n",
      "Model loaded from ./ckpt/groundingdino_swint_ogc.pth \n",
      " => _IncompatibleKeys(missing_keys=[], unexpected_keys=['label_enc.weight', 'bert.embeddings.position_ids'])\n",
      "SegTracker has been initialized\n",
      "processed frame 22, obj_num 1\r"
     ]
    },
    {
     "name": "stderr",
     "output_type": "stream",
     "text": [
      "Num: 131, count for 'car': 1.0, prompt: @Broose Goodflow Prompt: fast sports car -seed 10 -gs 02 -motion 3  Author: @Broose Goodflow, path: /apdcephfs_cq3/share_1290939/shadowcun/evals_dev/pikavideos/prompts/fast_sports_car_-seed_10_-gs_02_-motion_3_seed10.txt\n",
      "2023-08-23 19:06:11 Num: 131, count for 'car': 1.0, prompt: @Broose Goodflow Prompt: fast sports car -seed 10 -gs 02 -motion 3  Author: @Broose Goodflow, path: /apdcephfs_cq3/share_1290939/shadowcun/evals_dev/pikavideos/prompts/fast_sports_car_-seed_10_-gs_02_-motion_3_seed10.txt\n"
     ]
    },
    {
     "name": "stdout",
     "output_type": "stream",
     "text": [
      "processed frame 23, obj_num 1\n",
      "finished\n",
      "Directory already exists: ./pikavideos/car/masks\n",
      "Directory already exists: ./pikavideos/car/mask_video\n",
      "Directory already exists: ./pikavideos/car/mask_gif\n",
      "final text_encoder_type: bert-base-uncased\n",
      "Model loaded from ./ckpt/groundingdino_swint_ogc.pth \n",
      " => _IncompatibleKeys(missing_keys=[], unexpected_keys=['label_enc.weight', 'bert.embeddings.position_ids'])\n",
      "SegTracker has been initialized\n",
      "processed frame 22, obj_num 1\r"
     ]
    },
    {
     "name": "stderr",
     "output_type": "stream",
     "text": [
      "Num: 132, count for 'car': 1.0, prompt: @pirat_z_honolulu Prompt: riding in a car  Image: 1 Attachment  Author: @pirat_z_honolulu, path: /apdcephfs_cq3/share_1290939/shadowcun/evals_dev/pikavideos/prompts/riding_in_a_car_seed5040304633497122434.txt\n",
      "2023-08-23 19:06:21 Num: 132, count for 'car': 1.0, prompt: @pirat_z_honolulu Prompt: riding in a car  Image: 1 Attachment  Author: @pirat_z_honolulu, path: /apdcephfs_cq3/share_1290939/shadowcun/evals_dev/pikavideos/prompts/riding_in_a_car_seed5040304633497122434.txt\n"
     ]
    },
    {
     "name": "stdout",
     "output_type": "stream",
     "text": [
      "processed frame 23, obj_num 1\n",
      "finished\n",
      "Directory already exists: ./pikavideos/dog/masks\n",
      "Directory already exists: ./pikavideos/dog/mask_video\n",
      "Directory already exists: ./pikavideos/dog/mask_gif\n",
      "final text_encoder_type: bert-base-uncased\n",
      "Model loaded from ./ckpt/groundingdino_swint_ogc.pth \n",
      " => _IncompatibleKeys(missing_keys=[], unexpected_keys=['label_enc.weight', 'bert.embeddings.position_ids'])\n",
      "SegTracker has been initialized\n",
      "processed frame 22, obj_num 1\r"
     ]
    },
    {
     "name": "stderr",
     "output_type": "stream",
     "text": [
      "Num: 133, count for 'dog': 1.0, prompt: @Celia Prompt: golden retreiver dog playing  Author: @Celia, path: /apdcephfs_cq3/share_1290939/shadowcun/evals_dev/pikavideos/prompts/golden_retreiver_dog_playing_seed4239167281611700329.txt\n",
      "2023-08-23 19:06:31 Num: 133, count for 'dog': 1.0, prompt: @Celia Prompt: golden retreiver dog playing  Author: @Celia, path: /apdcephfs_cq3/share_1290939/shadowcun/evals_dev/pikavideos/prompts/golden_retreiver_dog_playing_seed4239167281611700329.txt\n"
     ]
    },
    {
     "name": "stdout",
     "output_type": "stream",
     "text": [
      "processed frame 23, obj_num 1\n",
      "finished\n",
      "Directory already exists: ./pikavideos/train/masks\n",
      "Directory already exists: ./pikavideos/train/mask_video\n",
      "Directory already exists: ./pikavideos/train/mask_gif\n",
      "final text_encoder_type: bert-base-uncased\n",
      "Model loaded from ./ckpt/groundingdino_swint_ogc.pth \n",
      " => _IncompatibleKeys(missing_keys=[], unexpected_keys=['label_enc.weight', 'bert.embeddings.position_ids'])\n",
      "SegTracker has been initialized\n",
      "processed frame 22, obj_num 1\r"
     ]
    },
    {
     "name": "stderr",
     "output_type": "stream",
     "text": [
      "Num: 134, count for 'train': 1.0, prompt: @OUTMAN#0812 Prompt: A pretty Girl Robot looks out the window of a future city on a train, future cityscapes,With an aluminum can of juice in his hand -gs 21  Image: 1 Attachment  Author: @OUTMAN#0812, path: /apdcephfs_cq3/share_1290939/shadowcun/evals_dev/pikavideos/prompts/A_pretty_Girl_Robot_looks_out_the_window_of_a_future_city_on_a_train_future_cityscapesWith_an_alum_seed3016217209627091797.txt\n",
      "2023-08-23 19:06:41 Num: 134, count for 'train': 1.0, prompt: @OUTMAN#0812 Prompt: A pretty Girl Robot looks out the window of a future city on a train, future cityscapes,With an aluminum can of juice in his hand -gs 21  Image: 1 Attachment  Author: @OUTMAN#0812, path: /apdcephfs_cq3/share_1290939/shadowcun/evals_dev/pikavideos/prompts/A_pretty_Girl_Robot_looks_out_the_window_of_a_future_city_on_a_train_future_cityscapesWith_an_alum_seed3016217209627091797.txt\n"
     ]
    },
    {
     "name": "stdout",
     "output_type": "stream",
     "text": [
      "processed frame 23, obj_num 1\n",
      "finished\n",
      "Directory already exists: ./pikavideos/person/masks\n",
      "Directory already exists: ./pikavideos/person/mask_video\n",
      "Directory already exists: ./pikavideos/person/mask_gif\n",
      "final text_encoder_type: bert-base-uncased\n",
      "Model loaded from ./ckpt/groundingdino_swint_ogc.pth \n",
      " => _IncompatibleKeys(missing_keys=[], unexpected_keys=['label_enc.weight', 'bert.embeddings.position_ids'])\n",
      "SegTracker has been initialized\n",
      "processed frame 22, obj_num 1\r"
     ]
    },
    {
     "name": "stderr",
     "output_type": "stream",
     "text": [
      "Num: 135, count for 'person': 1.0, prompt: @dorotianjos Prompt: person running down the street with dog  Author: @dorotianjos, path: /apdcephfs_cq3/share_1290939/shadowcun/evals_dev/pikavideos/prompts/person_running_down_the_street_with_dog_seed15367397281729691401.txt\n",
      "2023-08-23 19:06:51 Num: 135, count for 'person': 1.0, prompt: @dorotianjos Prompt: person running down the street with dog  Author: @dorotianjos, path: /apdcephfs_cq3/share_1290939/shadowcun/evals_dev/pikavideos/prompts/person_running_down_the_street_with_dog_seed15367397281729691401.txt\n"
     ]
    },
    {
     "name": "stdout",
     "output_type": "stream",
     "text": [
      "processed frame 23, obj_num 1\n",
      "finished\n",
      "Directory already exists: ./pikavideos/dog/masks\n",
      "Directory already exists: ./pikavideos/dog/mask_video\n",
      "Directory already exists: ./pikavideos/dog/mask_gif\n",
      "final text_encoder_type: bert-base-uncased\n",
      "Model loaded from ./ckpt/groundingdino_swint_ogc.pth \n",
      " => _IncompatibleKeys(missing_keys=[], unexpected_keys=['label_enc.weight', 'bert.embeddings.position_ids'])\n",
      "SegTracker has been initialized\n",
      "processed frame 22, obj_num 1\r"
     ]
    },
    {
     "name": "stderr",
     "output_type": "stream",
     "text": [
      "Num: 136, count for 'dog': 1.0, prompt: @dorotianjos Prompt: person running down the street with dog  Author: @dorotianjos, path: /apdcephfs_cq3/share_1290939/shadowcun/evals_dev/pikavideos/prompts/person_running_down_the_street_with_dog_seed15367397281729691401.txt\n",
      "2023-08-23 19:07:01 Num: 136, count for 'dog': 1.0, prompt: @dorotianjos Prompt: person running down the street with dog  Author: @dorotianjos, path: /apdcephfs_cq3/share_1290939/shadowcun/evals_dev/pikavideos/prompts/person_running_down_the_street_with_dog_seed15367397281729691401.txt\n"
     ]
    },
    {
     "name": "stdout",
     "output_type": "stream",
     "text": [
      "processed frame 23, obj_num 1\n",
      "finished\n",
      "Directory already exists: ./pikavideos/car/masks\n",
      "Directory already exists: ./pikavideos/car/mask_video\n",
      "Directory already exists: ./pikavideos/car/mask_gif\n",
      "final text_encoder_type: bert-base-uncased\n",
      "Model loaded from ./ckpt/groundingdino_swint_ogc.pth \n",
      " => _IncompatibleKeys(missing_keys=[], unexpected_keys=['label_enc.weight', 'bert.embeddings.position_ids'])\n",
      "SegTracker has been initialized\n",
      "processed frame 22, obj_num 1\r"
     ]
    },
    {
     "name": "stderr",
     "output_type": "stream",
     "text": [
      "Num: 137, count for 'car': 1.0, prompt: @the weirdo Prompt: car , red , fast , moving fast , full car , full picture , fixed car  Author: @the weirdo, path: /apdcephfs_cq3/share_1290939/shadowcun/evals_dev/pikavideos/prompts/car__red__fast__moving_fast__full_car__full_picture__fixed_car_seed6363372505867892093.txt\n",
      "2023-08-23 19:07:12 Num: 137, count for 'car': 1.0, prompt: @the weirdo Prompt: car , red , fast , moving fast , full car , full picture , fixed car  Author: @the weirdo, path: /apdcephfs_cq3/share_1290939/shadowcun/evals_dev/pikavideos/prompts/car__red__fast__moving_fast__full_car__full_picture__fixed_car_seed6363372505867892093.txt\n"
     ]
    },
    {
     "name": "stdout",
     "output_type": "stream",
     "text": [
      "processed frame 23, obj_num 1\n",
      "finished\n",
      "Directory already exists: ./pikavideos/boat/masks\n",
      "Directory already exists: ./pikavideos/boat/mask_video\n",
      "Directory already exists: ./pikavideos/boat/mask_gif\n",
      "final text_encoder_type: bert-base-uncased\n",
      "Model loaded from ./ckpt/groundingdino_swint_ogc.pth \n",
      " => _IncompatibleKeys(missing_keys=[], unexpected_keys=['label_enc.weight', 'bert.embeddings.position_ids'])\n",
      "SegTracker has been initialized\n",
      "processed frame 22, obj_num 0\r"
     ]
    },
    {
     "name": "stderr",
     "output_type": "stream",
     "text": [
      "Num: 137, count for 'boat': 0.0, prompt: @Rochan Prompt: cute boy selfie when dancing like beyonce, organic (boy humanoid+ mermaid creature made out of pink blood:1.3)++, funny, happy mood, fantasy dreamlikeart, digital painting, highest resolution, fine painting, 8k, artstation HQ, extremely detailed 8k wallpaper, trending on ArtStation, trending, Intricate, High Detail, Sharp focus, dramatic (full moon), room lit,realistic, pale skin, ominous aura Halo, foggy, mist, (very detailed undead background:1.0), (highly detailed background:1.0), masterpiece, best quality, space, room lights, magic, intricate, illustration, [symmetrical face], tone mapped, highly detailed, artstation, concept art, smooth, sharp focus, dramatic lighting, art by dandon fuga, chromatic aberration, depth of field, soft lighting, (blood dripping down fingers) , tentacles from face, ((a dark shadow in a cloak with an elk skull head)), dark, ominous background, on a boat, render, grim reaper -ar 9:16  Author: @Rochan, path: /apdcephfs_cq3/share_1290939/shadowcun/evals_dev/pikavideos/prompts/cute_boy_selfie_when_dancing_like_beyonce_organic_boy_humanoid__mermaid_creature_made_out_of_pink__seed9776269350892699749.txt\n",
      "2023-08-23 19:07:22 Num: 137, count for 'boat': 0.0, prompt: @Rochan Prompt: cute boy selfie when dancing like beyonce, organic (boy humanoid+ mermaid creature made out of pink blood:1.3)++, funny, happy mood, fantasy dreamlikeart, digital painting, highest resolution, fine painting, 8k, artstation HQ, extremely detailed 8k wallpaper, trending on ArtStation, trending, Intricate, High Detail, Sharp focus, dramatic (full moon), room lit,realistic, pale skin, ominous aura Halo, foggy, mist, (very detailed undead background:1.0), (highly detailed background:1.0), masterpiece, best quality, space, room lights, magic, intricate, illustration, [symmetrical face], tone mapped, highly detailed, artstation, concept art, smooth, sharp focus, dramatic lighting, art by dandon fuga, chromatic aberration, depth of field, soft lighting, (blood dripping down fingers) , tentacles from face, ((a dark shadow in a cloak with an elk skull head)), dark, ominous background, on a boat, render, grim reaper -ar 9:16  Author: @Rochan, path: /apdcephfs_cq3/share_1290939/shadowcun/evals_dev/pikavideos/prompts/cute_boy_selfie_when_dancing_like_beyonce_organic_boy_humanoid__mermaid_creature_made_out_of_pink__seed9776269350892699749.txt\n"
     ]
    },
    {
     "name": "stdout",
     "output_type": "stream",
     "text": [
      "processed frame 23, obj_num 0\n",
      "finished\n",
      "Directory already exists: ./pikavideos/dog/masks\n",
      "Directory already exists: ./pikavideos/dog/mask_video\n",
      "Directory already exists: ./pikavideos/dog/mask_gif\n",
      "final text_encoder_type: bert-base-uncased\n",
      "Model loaded from ./ckpt/groundingdino_swint_ogc.pth \n",
      " => _IncompatibleKeys(missing_keys=[], unexpected_keys=['label_enc.weight', 'bert.embeddings.position_ids'])\n",
      "SegTracker has been initialized\n",
      "processed frame 22, obj_num 0\r"
     ]
    },
    {
     "name": "stderr",
     "output_type": "stream",
     "text": [
      "Num: 137, count for 'dog': 0.0, prompt: @hi Prompt: a dog playing in a pool  Author: @hi, path: /apdcephfs_cq3/share_1290939/shadowcun/evals_dev/pikavideos/prompts/a_dog_playing_in_a_pool_seed1820319877157205572.txt\n",
      "2023-08-23 19:07:32 Num: 137, count for 'dog': 0.0, prompt: @hi Prompt: a dog playing in a pool  Author: @hi, path: /apdcephfs_cq3/share_1290939/shadowcun/evals_dev/pikavideos/prompts/a_dog_playing_in_a_pool_seed1820319877157205572.txt\n"
     ]
    },
    {
     "name": "stdout",
     "output_type": "stream",
     "text": [
      "processed frame 23, obj_num 0\n",
      "finished\n",
      "Directory already exists: ./pikavideos/car/masks\n",
      "Directory already exists: ./pikavideos/car/mask_video\n",
      "Directory already exists: ./pikavideos/car/mask_gif\n",
      "final text_encoder_type: bert-base-uncased\n",
      "Model loaded from ./ckpt/groundingdino_swint_ogc.pth \n",
      " => _IncompatibleKeys(missing_keys=[], unexpected_keys=['label_enc.weight', 'bert.embeddings.position_ids'])\n",
      "SegTracker has been initialized\n",
      "processed frame 22, obj_num 1\r"
     ]
    },
    {
     "name": "stderr",
     "output_type": "stream",
     "text": [
      "Num: 138, count for 'car': 1.0, prompt: @adi Prompt: Produce an exhilarating 4K video showcasing a Daewoo Matiz in a Fast & Furious-style setting. Watch as the compact yet agile car takes on thrilling high-speed races, daring stunts, and adrenaline-pumping maneuvers. Set the aspect ratio to 16:9 to experience the action in stunning cinematic quality.  Author: @adi, path: /apdcephfs_cq3/share_1290939/shadowcun/evals_dev/pikavideos/prompts/Produce_an_exhilarating_4K_video_showcasing_a_Daewoo_Matiz_in_a_Fast___Furious-style_setting._Watch__seed5850378853805114492.txt\n",
      "2023-08-23 19:07:43 Num: 138, count for 'car': 1.0, prompt: @adi Prompt: Produce an exhilarating 4K video showcasing a Daewoo Matiz in a Fast & Furious-style setting. Watch as the compact yet agile car takes on thrilling high-speed races, daring stunts, and adrenaline-pumping maneuvers. Set the aspect ratio to 16:9 to experience the action in stunning cinematic quality.  Author: @adi, path: /apdcephfs_cq3/share_1290939/shadowcun/evals_dev/pikavideos/prompts/Produce_an_exhilarating_4K_video_showcasing_a_Daewoo_Matiz_in_a_Fast___Furious-style_setting._Watch__seed5850378853805114492.txt\n"
     ]
    },
    {
     "name": "stdout",
     "output_type": "stream",
     "text": [
      "processed frame 23, obj_num 1\n",
      "finished\n",
      "Directory already exists: ./pikavideos/car/masks\n",
      "Directory already exists: ./pikavideos/car/mask_video\n",
      "Directory already exists: ./pikavideos/car/mask_gif\n",
      "final text_encoder_type: bert-base-uncased\n",
      "Model loaded from ./ckpt/groundingdino_swint_ogc.pth \n",
      " => _IncompatibleKeys(missing_keys=[], unexpected_keys=['label_enc.weight', 'bert.embeddings.position_ids'])\n",
      "SegTracker has been initialized\n",
      "processed frame 22, obj_num 2\r"
     ]
    },
    {
     "name": "stderr",
     "output_type": "stream",
     "text": [
      "Num: 139, count for 'car': 2.0, prompt: @Samantha Prompt: futuristic solar punk city with flying cars and lit up buildings  Author: @Samantha, path: /apdcephfs_cq3/share_1290939/shadowcun/evals_dev/pikavideos/prompts/futuristic_solar_punk_city_with_flying_cars_and_lit_up_buildings_seed15863776981840709657.txt\n",
      "2023-08-23 19:07:53 Num: 139, count for 'car': 2.0, prompt: @Samantha Prompt: futuristic solar punk city with flying cars and lit up buildings  Author: @Samantha, path: /apdcephfs_cq3/share_1290939/shadowcun/evals_dev/pikavideos/prompts/futuristic_solar_punk_city_with_flying_cars_and_lit_up_buildings_seed15863776981840709657.txt\n"
     ]
    },
    {
     "name": "stdout",
     "output_type": "stream",
     "text": [
      "processed frame 23, obj_num 2\n",
      "finished\n",
      "Directory already exists: ./pikavideos/bottle/masks\n",
      "Directory already exists: ./pikavideos/bottle/mask_video\n",
      "Directory already exists: ./pikavideos/bottle/mask_gif\n",
      "final text_encoder_type: bert-base-uncased\n",
      "Model loaded from ./ckpt/groundingdino_swint_ogc.pth \n",
      " => _IncompatibleKeys(missing_keys=[], unexpected_keys=['label_enc.weight', 'bert.embeddings.position_ids'])\n",
      "SegTracker has been initialized\n",
      "processed frame 22, obj_num 0\r"
     ]
    },
    {
     "name": "stderr",
     "output_type": "stream",
     "text": [
      "Num: 139, count for 'bottle': 0.0, prompt: @Adam2011 Prompt: man showing NAFDAC number on a bottle of coke  Author: @Adam2011, path: /apdcephfs_cq3/share_1290939/shadowcun/evals_dev/pikavideos/prompts/man_showing_NAFDAC_number_on_a_bottle_of_coke_seed11705450495967193146.txt\n",
      "2023-08-23 19:08:03 Num: 139, count for 'bottle': 0.0, prompt: @Adam2011 Prompt: man showing NAFDAC number on a bottle of coke  Author: @Adam2011, path: /apdcephfs_cq3/share_1290939/shadowcun/evals_dev/pikavideos/prompts/man_showing_NAFDAC_number_on_a_bottle_of_coke_seed11705450495967193146.txt\n"
     ]
    },
    {
     "name": "stdout",
     "output_type": "stream",
     "text": [
      "processed frame 23, obj_num 0\n",
      "finished\n",
      "Directory already exists: ./pikavideos/pizza/masks\n",
      "Directory already exists: ./pikavideos/pizza/mask_video\n",
      "Directory already exists: ./pikavideos/pizza/mask_gif\n",
      "final text_encoder_type: bert-base-uncased\n",
      "Model loaded from ./ckpt/groundingdino_swint_ogc.pth \n",
      " => _IncompatibleKeys(missing_keys=[], unexpected_keys=['label_enc.weight', 'bert.embeddings.position_ids'])\n",
      "SegTracker has been initialized\n",
      "processed frame 22, obj_num 0\r"
     ]
    },
    {
     "name": "stderr",
     "output_type": "stream",
     "text": [
      "Num: 139, count for 'pizza': 0.0, prompt: @crystalwizard Prompt: baby yoda eating pizza  Author: @crystalwizard 1, path: /apdcephfs_cq3/share_1290939/shadowcun/evals_dev/pikavideos/prompts/baby_yoda_eating_pizza_seed4727039119258606414.txt\n",
      "2023-08-23 19:08:13 Num: 139, count for 'pizza': 0.0, prompt: @crystalwizard Prompt: baby yoda eating pizza  Author: @crystalwizard 1, path: /apdcephfs_cq3/share_1290939/shadowcun/evals_dev/pikavideos/prompts/baby_yoda_eating_pizza_seed4727039119258606414.txt\n"
     ]
    },
    {
     "name": "stdout",
     "output_type": "stream",
     "text": [
      "processed frame 23, obj_num 0\n",
      "finished\n",
      "Directory already exists: ./pikavideos/car/masks\n",
      "Directory already exists: ./pikavideos/car/mask_video\n",
      "Directory already exists: ./pikavideos/car/mask_gif\n",
      "final text_encoder_type: bert-base-uncased\n",
      "Model loaded from ./ckpt/groundingdino_swint_ogc.pth \n",
      " => _IncompatibleKeys(missing_keys=[], unexpected_keys=['label_enc.weight', 'bert.embeddings.position_ids'])\n",
      "SegTracker has been initialized\n",
      "processed frame 22, obj_num 0\r"
     ]
    },
    {
     "name": "stderr",
     "output_type": "stream",
     "text": [
      "Num: 139, count for 'car': 0.0, prompt: @Juan Ignacio Prompt: smoke from spinning car wheels,camera movements  -gs 18 -motion 4  Image: 1  Author: @Juan Ignacio, path: /apdcephfs_cq3/share_1290939/shadowcun/evals_dev/pikavideos/prompts/smoke_from_spinning_car_wheelscamera_movements__-gs_18_-motion_4__Image__1_seed3488200845921722819.txt\n",
      "2023-08-23 19:08:23 Num: 139, count for 'car': 0.0, prompt: @Juan Ignacio Prompt: smoke from spinning car wheels,camera movements  -gs 18 -motion 4  Image: 1  Author: @Juan Ignacio, path: /apdcephfs_cq3/share_1290939/shadowcun/evals_dev/pikavideos/prompts/smoke_from_spinning_car_wheelscamera_movements__-gs_18_-motion_4__Image__1_seed3488200845921722819.txt\n"
     ]
    },
    {
     "name": "stdout",
     "output_type": "stream",
     "text": [
      "processed frame 23, obj_num 0\n",
      "finished\n",
      "Directory already exists: ./pikavideos/boat/masks\n",
      "Directory already exists: ./pikavideos/boat/mask_video\n",
      "Directory already exists: ./pikavideos/boat/mask_gif\n",
      "final text_encoder_type: bert-base-uncased\n",
      "Model loaded from ./ckpt/groundingdino_swint_ogc.pth \n",
      " => _IncompatibleKeys(missing_keys=[], unexpected_keys=['label_enc.weight', 'bert.embeddings.position_ids'])\n",
      "SegTracker has been initialized\n",
      "processed frame 22, obj_num 1\r"
     ]
    },
    {
     "name": "stderr",
     "output_type": "stream",
     "text": [
      "Num: 140, count for 'boat': 1.0, prompt: @Romastudio Prompt: Timelapse A paper boat floats on a forest river,forest, Tim Burton style,-motion 2 -ar 16:9  Author: @Romastudio, path: /apdcephfs_cq3/share_1290939/shadowcun/evals_dev/pikavideos/prompts/Timelapse_A_paper_boat_floats_on_a_forest_riverforest_Tim_Burton_style-motion_2_-ar_16_9_seed2481976485388952647.txt\n",
      "2023-08-23 19:08:32 Num: 140, count for 'boat': 1.0, prompt: @Romastudio Prompt: Timelapse A paper boat floats on a forest river,forest, Tim Burton style,-motion 2 -ar 16:9  Author: @Romastudio, path: /apdcephfs_cq3/share_1290939/shadowcun/evals_dev/pikavideos/prompts/Timelapse_A_paper_boat_floats_on_a_forest_riverforest_Tim_Burton_style-motion_2_-ar_16_9_seed2481976485388952647.txt\n"
     ]
    },
    {
     "name": "stdout",
     "output_type": "stream",
     "text": [
      "processed frame 23, obj_num 1\n",
      "finished\n",
      "Directory already exists: ./pikavideos/bottle/masks\n",
      "Directory already exists: ./pikavideos/bottle/mask_video\n",
      "Directory already exists: ./pikavideos/bottle/mask_gif\n",
      "final text_encoder_type: bert-base-uncased\n",
      "Model loaded from ./ckpt/groundingdino_swint_ogc.pth \n",
      " => _IncompatibleKeys(missing_keys=[], unexpected_keys=['label_enc.weight', 'bert.embeddings.position_ids'])\n",
      "SegTracker has been initialized\n",
      "processed frame 22, obj_num 1\r"
     ]
    },
    {
     "name": "stderr",
     "output_type": "stream",
     "text": [
      "Num: 141, count for 'bottle': 1.0, prompt: @jsilvabeats_official Prompt: Bottle of Jack Daniels Whiskey, the drink is being poured into a crystal glass with ice, Jack Daniels Whiskey product photography, studio background, studio lighting, splashing, delicious.  Author: @jsilvabeats_official, path: /apdcephfs_cq3/share_1290939/shadowcun/evals_dev/pikavideos/prompts/Bottle_of_Jack_Daniels_Whiskey_the_drink_is_being_poured_into_a_crystal_glass_with_ice_Jack_Daniel.txt\n",
      "2023-08-23 19:08:43 Num: 141, count for 'bottle': 1.0, prompt: @jsilvabeats_official Prompt: Bottle of Jack Daniels Whiskey, the drink is being poured into a crystal glass with ice, Jack Daniels Whiskey product photography, studio background, studio lighting, splashing, delicious.  Author: @jsilvabeats_official, path: /apdcephfs_cq3/share_1290939/shadowcun/evals_dev/pikavideos/prompts/Bottle_of_Jack_Daniels_Whiskey_the_drink_is_being_poured_into_a_crystal_glass_with_ice_Jack_Daniel.txt\n"
     ]
    },
    {
     "name": "stdout",
     "output_type": "stream",
     "text": [
      "processed frame 23, obj_num 1\n",
      "finished\n",
      "Directory already exists: ./pikavideos/chair/masks\n",
      "Directory already exists: ./pikavideos/chair/mask_video\n",
      "Directory already exists: ./pikavideos/chair/mask_gif\n",
      "final text_encoder_type: bert-base-uncased\n",
      "Model loaded from ./ckpt/groundingdino_swint_ogc.pth \n",
      " => _IncompatibleKeys(missing_keys=[], unexpected_keys=['label_enc.weight', 'bert.embeddings.position_ids'])\n",
      "SegTracker has been initialized\n",
      "processed frame 22, obj_num 0\r"
     ]
    },
    {
     "name": "stderr",
     "output_type": "stream",
     "text": [
      "Num: 141, count for 'chair': 0.0, prompt: @AIwizz99 Prompt: A smiling, African American, adventurous little girl named Althea sitting comfortably in a fluffy red chair placed in a cozy room. Whiskers, a curious-looking tomcat, is lounging at her side.  Author: @AIwizz99, path: /apdcephfs_cq3/share_1290939/shadowcun/evals_dev/pikavideos/prompts/A_smiling_African_American_adventurous_little_girl_named_Althea_sitting_comfortably_in_a_fluffy_re_seed8540522031305226534.txt\n",
      "2023-08-23 19:08:53 Num: 141, count for 'chair': 0.0, prompt: @AIwizz99 Prompt: A smiling, African American, adventurous little girl named Althea sitting comfortably in a fluffy red chair placed in a cozy room. Whiskers, a curious-looking tomcat, is lounging at her side.  Author: @AIwizz99, path: /apdcephfs_cq3/share_1290939/shadowcun/evals_dev/pikavideos/prompts/A_smiling_African_American_adventurous_little_girl_named_Althea_sitting_comfortably_in_a_fluffy_re_seed8540522031305226534.txt\n"
     ]
    },
    {
     "name": "stdout",
     "output_type": "stream",
     "text": [
      "processed frame 23, obj_num 0\n",
      "finished\n",
      "Directory already exists: ./pikavideos/cow/masks\n",
      "Directory already exists: ./pikavideos/cow/mask_video\n",
      "Directory already exists: ./pikavideos/cow/mask_gif\n",
      "final text_encoder_type: bert-base-uncased\n",
      "Model loaded from ./ckpt/groundingdino_swint_ogc.pth \n",
      " => _IncompatibleKeys(missing_keys=[], unexpected_keys=['label_enc.weight', 'bert.embeddings.position_ids'])\n",
      "SegTracker has been initialized\n",
      "processed frame 22, obj_num 0\r"
     ]
    },
    {
     "name": "stderr",
     "output_type": "stream",
     "text": [
      "Num: 141, count for 'cow': 0.0, prompt: @moo cow Prompt: A 500 ft wall of nuclear fire rushes through the city, filling the streets like a tsunami of nuclear fire straight at you.  Author: @moo cow, path: /apdcephfs_cq3/share_1290939/shadowcun/evals_dev/pikavideos/prompts/A_500_ft_wall_of_nuclear_fire_rushes_through_the_city_filling_the_streets_like_a_tsunami_of_nuclear_seed2844450887668336490.txt\n",
      "2023-08-23 19:09:04 Num: 141, count for 'cow': 0.0, prompt: @moo cow Prompt: A 500 ft wall of nuclear fire rushes through the city, filling the streets like a tsunami of nuclear fire straight at you.  Author: @moo cow, path: /apdcephfs_cq3/share_1290939/shadowcun/evals_dev/pikavideos/prompts/A_500_ft_wall_of_nuclear_fire_rushes_through_the_city_filling_the_streets_like_a_tsunami_of_nuclear_seed2844450887668336490.txt\n"
     ]
    },
    {
     "name": "stdout",
     "output_type": "stream",
     "text": [
      "processed frame 23, obj_num 0\n",
      "finished\n",
      "Directory already exists: ./pikavideos/dog/masks\n",
      "Directory already exists: ./pikavideos/dog/mask_video\n",
      "Directory already exists: ./pikavideos/dog/mask_gif\n",
      "final text_encoder_type: bert-base-uncased\n",
      "Model loaded from ./ckpt/groundingdino_swint_ogc.pth \n",
      " => _IncompatibleKeys(missing_keys=[], unexpected_keys=['label_enc.weight', 'bert.embeddings.position_ids'])\n",
      "SegTracker has been initialized\n",
      "processed frame 22, obj_num 1\r"
     ]
    },
    {
     "name": "stderr",
     "output_type": "stream",
     "text": [
      "Num: 142, count for 'dog': 1.0, prompt: @crystalwizard Prompt: A dog dashes through the room and vanishes -gs 20  Image: 1 Attachment  Author: @crystalwizard, path: /apdcephfs_cq3/share_1290939/shadowcun/evals_dev/pikavideos/prompts/A_dog_dashes_through_the_room_and_vanishes_-gs_20__Image__1_Attachment_seed4936070216503870977.txt\n",
      "2023-08-23 19:09:15 Num: 142, count for 'dog': 1.0, prompt: @crystalwizard Prompt: A dog dashes through the room and vanishes -gs 20  Image: 1 Attachment  Author: @crystalwizard, path: /apdcephfs_cq3/share_1290939/shadowcun/evals_dev/pikavideos/prompts/A_dog_dashes_through_the_room_and_vanishes_-gs_20__Image__1_Attachment_seed4936070216503870977.txt\n"
     ]
    },
    {
     "name": "stdout",
     "output_type": "stream",
     "text": [
      "processed frame 23, obj_num 1\n",
      "finished\n",
      "Directory already exists: ./pikavideos/cat/masks\n",
      "Directory already exists: ./pikavideos/cat/mask_video\n",
      "Directory already exists: ./pikavideos/cat/mask_gif\n",
      "final text_encoder_type: bert-base-uncased\n",
      "Model loaded from ./ckpt/groundingdino_swint_ogc.pth \n",
      " => _IncompatibleKeys(missing_keys=[], unexpected_keys=['label_enc.weight', 'bert.embeddings.position_ids'])\n",
      "SegTracker has been initialized\n",
      "processed frame 22, obj_num 1\r"
     ]
    },
    {
     "name": "stderr",
     "output_type": "stream",
     "text": [
      "Num: 143, count for 'cat': 1.0, prompt: @Thorus Prompt: In 2013, not far from the cat, a cat sculpture was installed.  Author: @Thorus, path: /apdcephfs_cq3/share_1290939/shadowcun/evals_dev/pikavideos/prompts/In_2013_not_far_from_the_cat_a_cat_sculpture_was_installed._seed14766271438762578054.txt\n",
      "2023-08-23 19:09:25 Num: 143, count for 'cat': 1.0, prompt: @Thorus Prompt: In 2013, not far from the cat, a cat sculpture was installed.  Author: @Thorus, path: /apdcephfs_cq3/share_1290939/shadowcun/evals_dev/pikavideos/prompts/In_2013_not_far_from_the_cat_a_cat_sculpture_was_installed._seed14766271438762578054.txt\n"
     ]
    },
    {
     "name": "stdout",
     "output_type": "stream",
     "text": [
      "processed frame 23, obj_num 1\n",
      "finished\n",
      "Directory already exists: ./pikavideos/boat/masks\n",
      "Directory already exists: ./pikavideos/boat/mask_video\n",
      "Directory already exists: ./pikavideos/boat/mask_gif\n",
      "final text_encoder_type: bert-base-uncased\n",
      "Model loaded from ./ckpt/groundingdino_swint_ogc.pth \n",
      " => _IncompatibleKeys(missing_keys=[], unexpected_keys=['label_enc.weight', 'bert.embeddings.position_ids'])\n",
      "SegTracker has been initialized\n",
      "processed frame 22, obj_num 7\r"
     ]
    },
    {
     "name": "stderr",
     "output_type": "stream",
     "text": [
      "Num: 144, count for 'boat': 7.0, prompt: @Abhimanyu Prompt: Animate boats , clouds and people.  Image: 1 Attachment  Author: @Abhimanyu, path: /apdcephfs_cq3/share_1290939/shadowcun/evals_dev/pikavideos/prompts/Animate_boats__clouds_and_people.__Image__1_Attachment_seed6624138151383641631.txt\n",
      "2023-08-23 19:09:36 Num: 144, count for 'boat': 7.0, prompt: @Abhimanyu Prompt: Animate boats , clouds and people.  Image: 1 Attachment  Author: @Abhimanyu, path: /apdcephfs_cq3/share_1290939/shadowcun/evals_dev/pikavideos/prompts/Animate_boats__clouds_and_people.__Image__1_Attachment_seed6624138151383641631.txt\n"
     ]
    },
    {
     "name": "stdout",
     "output_type": "stream",
     "text": [
      "processed frame 23, obj_num 7\n",
      "finished\n",
      "Directory already exists: ./pikavideos/cat/masks\n",
      "Directory already exists: ./pikavideos/cat/mask_video\n",
      "Directory already exists: ./pikavideos/cat/mask_gif\n",
      "final text_encoder_type: bert-base-uncased\n",
      "Model loaded from ./ckpt/groundingdino_swint_ogc.pth \n",
      " => _IncompatibleKeys(missing_keys=[], unexpected_keys=['label_enc.weight', 'bert.embeddings.position_ids'])\n",
      "SegTracker has been initialized\n",
      "processed frame 22, obj_num 1\r"
     ]
    },
    {
     "name": "stderr",
     "output_type": "stream",
     "text": [
      "Num: 145, count for 'cat': 1.0, prompt: Pika BOT 08/03/2023 2:58 AM@Toni Prompt: cats run away from dogs  Author: @Toni, path: /apdcephfs_cq3/share_1290939/shadowcun/evals_dev/pikavideos/prompts/cats_run_away_from_dogs_seed14055160263246553945.txt\n",
      "2023-08-23 19:09:47 Num: 145, count for 'cat': 1.0, prompt: Pika BOT 08/03/2023 2:58 AM@Toni Prompt: cats run away from dogs  Author: @Toni, path: /apdcephfs_cq3/share_1290939/shadowcun/evals_dev/pikavideos/prompts/cats_run_away_from_dogs_seed14055160263246553945.txt\n"
     ]
    },
    {
     "name": "stdout",
     "output_type": "stream",
     "text": [
      "processed frame 23, obj_num 1\n",
      "finished\n",
      "Directory already exists: ./pikavideos/dog/masks\n",
      "Directory already exists: ./pikavideos/dog/mask_video\n",
      "Directory already exists: ./pikavideos/dog/mask_gif\n",
      "final text_encoder_type: bert-base-uncased\n",
      "Model loaded from ./ckpt/groundingdino_swint_ogc.pth \n",
      " => _IncompatibleKeys(missing_keys=[], unexpected_keys=['label_enc.weight', 'bert.embeddings.position_ids'])\n",
      "SegTracker has been initialized\n",
      "processed frame 22, obj_num 0\r"
     ]
    },
    {
     "name": "stderr",
     "output_type": "stream",
     "text": [
      "Num: 145, count for 'dog': 0.0, prompt: Pika BOT 08/03/2023 2:58 AM@Toni Prompt: cats run away from dogs  Author: @Toni, path: /apdcephfs_cq3/share_1290939/shadowcun/evals_dev/pikavideos/prompts/cats_run_away_from_dogs_seed14055160263246553945.txt\n",
      "2023-08-23 19:09:56 Num: 145, count for 'dog': 0.0, prompt: Pika BOT 08/03/2023 2:58 AM@Toni Prompt: cats run away from dogs  Author: @Toni, path: /apdcephfs_cq3/share_1290939/shadowcun/evals_dev/pikavideos/prompts/cats_run_away_from_dogs_seed14055160263246553945.txt\n"
     ]
    },
    {
     "name": "stdout",
     "output_type": "stream",
     "text": [
      "processed frame 23, obj_num 0\n",
      "finished\n",
      "Directory already exists: ./pikavideos/dog/masks\n",
      "Directory already exists: ./pikavideos/dog/mask_video\n",
      "Directory already exists: ./pikavideos/dog/mask_gif\n",
      "final text_encoder_type: bert-base-uncased\n",
      "Model loaded from ./ckpt/groundingdino_swint_ogc.pth \n",
      " => _IncompatibleKeys(missing_keys=[], unexpected_keys=['label_enc.weight', 'bert.embeddings.position_ids'])\n",
      "SegTracker has been initialized\n",
      "processed frame 22, obj_num 0\r"
     ]
    },
    {
     "name": "stderr",
     "output_type": "stream",
     "text": [
      "Num: 145, count for 'dog': 0.0, prompt: @Forever&Alwayz Prompt: African tribe dogs killing a man, -motion 4  Author: @Forever&Alwayz, path: /apdcephfs_cq3/share_1290939/shadowcun/evals_dev/pikavideos/prompts/African_tribe_dogs_killing_a_man_-motion_4_seed15639942809475717879.txt\n",
      "2023-08-23 19:10:06 Num: 145, count for 'dog': 0.0, prompt: @Forever&Alwayz Prompt: African tribe dogs killing a man, -motion 4  Author: @Forever&Alwayz, path: /apdcephfs_cq3/share_1290939/shadowcun/evals_dev/pikavideos/prompts/African_tribe_dogs_killing_a_man_-motion_4_seed15639942809475717879.txt\n"
     ]
    },
    {
     "name": "stdout",
     "output_type": "stream",
     "text": [
      "processed frame 23, obj_num 0\n",
      "finished\n",
      "Directory already exists: ./pikavideos/boat/masks\n",
      "Directory already exists: ./pikavideos/boat/mask_video\n",
      "Directory already exists: ./pikavideos/boat/mask_gif\n",
      "final text_encoder_type: bert-base-uncased\n",
      "Model loaded from ./ckpt/groundingdino_swint_ogc.pth \n",
      " => _IncompatibleKeys(missing_keys=[], unexpected_keys=['label_enc.weight', 'bert.embeddings.position_ids'])\n",
      "SegTracker has been initialized\n",
      "processed frame 22, obj_num 0\r"
     ]
    },
    {
     "name": "stderr",
     "output_type": "stream",
     "text": [
      "Num: 145, count for 'boat': 0.0, prompt: @Mishaaa Prompt: boatwomen in the gorges of the tarn in the south of france transporting sheep in a boat on the river, 1950, black and white, old photo, old postcard  Author: @Mishaaa, path: /apdcephfs_cq3/share_1290939/shadowcun/evals_dev/pikavideos/prompts/boatwomen_in_the_gorges_of_the_tarn_in_the_south_of_france_transporting_sheep_in_a_boat_on_the_river_seed8578508417394219497.txt\n",
      "2023-08-23 19:10:15 Num: 145, count for 'boat': 0.0, prompt: @Mishaaa Prompt: boatwomen in the gorges of the tarn in the south of france transporting sheep in a boat on the river, 1950, black and white, old photo, old postcard  Author: @Mishaaa, path: /apdcephfs_cq3/share_1290939/shadowcun/evals_dev/pikavideos/prompts/boatwomen_in_the_gorges_of_the_tarn_in_the_south_of_france_transporting_sheep_in_a_boat_on_the_river_seed8578508417394219497.txt\n"
     ]
    },
    {
     "name": "stdout",
     "output_type": "stream",
     "text": [
      "processed frame 23, obj_num 0\n",
      "finished\n",
      "Directory already exists: ./pikavideos/sheep/masks\n",
      "Directory already exists: ./pikavideos/sheep/mask_video\n",
      "Directory already exists: ./pikavideos/sheep/mask_gif\n",
      "final text_encoder_type: bert-base-uncased\n",
      "Model loaded from ./ckpt/groundingdino_swint_ogc.pth \n",
      " => _IncompatibleKeys(missing_keys=[], unexpected_keys=['label_enc.weight', 'bert.embeddings.position_ids'])\n",
      "SegTracker has been initialized\n",
      "processed frame 22, obj_num 0\r"
     ]
    },
    {
     "name": "stderr",
     "output_type": "stream",
     "text": [
      "Num: 145, count for 'sheep': 0.0, prompt: @Mishaaa Prompt: boatwomen in the gorges of the tarn in the south of france transporting sheep in a boat on the river, 1950, black and white, old photo, old postcard  Author: @Mishaaa, path: /apdcephfs_cq3/share_1290939/shadowcun/evals_dev/pikavideos/prompts/boatwomen_in_the_gorges_of_the_tarn_in_the_south_of_france_transporting_sheep_in_a_boat_on_the_river_seed8578508417394219497.txt\n",
      "2023-08-23 19:10:25 Num: 145, count for 'sheep': 0.0, prompt: @Mishaaa Prompt: boatwomen in the gorges of the tarn in the south of france transporting sheep in a boat on the river, 1950, black and white, old photo, old postcard  Author: @Mishaaa, path: /apdcephfs_cq3/share_1290939/shadowcun/evals_dev/pikavideos/prompts/boatwomen_in_the_gorges_of_the_tarn_in_the_south_of_france_transporting_sheep_in_a_boat_on_the_river_seed8578508417394219497.txt\n"
     ]
    },
    {
     "name": "stdout",
     "output_type": "stream",
     "text": [
      "processed frame 23, obj_num 0\n",
      "finished\n",
      "Directory already exists: ./pikavideos/cat/masks\n",
      "Directory already exists: ./pikavideos/cat/mask_video\n",
      "Directory already exists: ./pikavideos/cat/mask_gif\n",
      "final text_encoder_type: bert-base-uncased\n",
      "Model loaded from ./ckpt/groundingdino_swint_ogc.pth \n",
      " => _IncompatibleKeys(missing_keys=[], unexpected_keys=['label_enc.weight', 'bert.embeddings.position_ids'])\n",
      "SegTracker has been initialized\n",
      "processed frame 22, obj_num 1\r"
     ]
    },
    {
     "name": "stderr",
     "output_type": "stream",
     "text": [
      "Num: 146, count for 'cat': 1.0, prompt: @GatoPreto liked a video of @GatoPreto. (Prompt: a soldier cat with an automatic rifle -ar 16:9  Author: @GatoPreto), path: /apdcephfs_cq3/share_1290939/shadowcun/evals_dev/pikavideos/prompts/a_soldier_cat_with_an_automatic_rifle_-ar_16_9_seed13894638350112559150.txt\n",
      "2023-08-23 19:10:35 Num: 146, count for 'cat': 1.0, prompt: @GatoPreto liked a video of @GatoPreto. (Prompt: a soldier cat with an automatic rifle -ar 16:9  Author: @GatoPreto), path: /apdcephfs_cq3/share_1290939/shadowcun/evals_dev/pikavideos/prompts/a_soldier_cat_with_an_automatic_rifle_-ar_16_9_seed13894638350112559150.txt\n"
     ]
    },
    {
     "name": "stdout",
     "output_type": "stream",
     "text": [
      "processed frame 23, obj_num 1\n",
      "finished\n",
      "Directory already exists: ./pikavideos/bird/masks\n",
      "Directory already exists: ./pikavideos/bird/mask_video\n",
      "Directory already exists: ./pikavideos/bird/mask_gif\n",
      "final text_encoder_type: bert-base-uncased\n",
      "Model loaded from ./ckpt/groundingdino_swint_ogc.pth \n",
      " => _IncompatibleKeys(missing_keys=[], unexpected_keys=['label_enc.weight', 'bert.embeddings.position_ids'])\n",
      "SegTracker has been initialized\n",
      "processed frame 22, obj_num 1\r"
     ]
    },
    {
     "name": "stderr",
     "output_type": "stream",
     "text": [
      "Num: 147, count for 'bird': 1.0, prompt: @rafal78 Prompt: lonely bird on the sky flying  Author: @rafal78, path: /apdcephfs_cq3/share_1290939/shadowcun/evals_dev/pikavideos/prompts/lonely_bird_on_the_sky_flying_seed17134597600375558759.txt\n",
      "2023-08-23 19:10:45 Num: 147, count for 'bird': 1.0, prompt: @rafal78 Prompt: lonely bird on the sky flying  Author: @rafal78, path: /apdcephfs_cq3/share_1290939/shadowcun/evals_dev/pikavideos/prompts/lonely_bird_on_the_sky_flying_seed17134597600375558759.txt\n"
     ]
    },
    {
     "name": "stdout",
     "output_type": "stream",
     "text": [
      "processed frame 23, obj_num 1\n",
      "finished\n",
      "Directory already exists: ./pikavideos/car/masks\n",
      "Directory already exists: ./pikavideos/car/mask_video\n",
      "Directory already exists: ./pikavideos/car/mask_gif\n",
      "final text_encoder_type: bert-base-uncased\n",
      "Model loaded from ./ckpt/groundingdino_swint_ogc.pth \n",
      " => _IncompatibleKeys(missing_keys=[], unexpected_keys=['label_enc.weight', 'bert.embeddings.position_ids'])\n",
      "SegTracker has been initialized\n",
      "processed frame 22, obj_num 0\r"
     ]
    },
    {
     "name": "stderr",
     "output_type": "stream",
     "text": [
      "Num: 147, count for 'car': 0.0, prompt: @Ameen Prompt: car racing accident , beautiful hyper realistic, high octane render, HD, hyper intelligent render, extreme render, cinematic shot, golden hour lighting, hyper lapse, drone shot, high resolution.  Image: 1 Attachment  Author: @Ameen, path: /apdcephfs_cq3/share_1290939/shadowcun/evals_dev/pikavideos/prompts/car_racing_accident__beautiful_hyper_realistic_high_octane_render_HD_hyper_intelligent_render_e_seed15025961323380637568.txt\n",
      "2023-08-23 19:10:55 Num: 147, count for 'car': 0.0, prompt: @Ameen Prompt: car racing accident , beautiful hyper realistic, high octane render, HD, hyper intelligent render, extreme render, cinematic shot, golden hour lighting, hyper lapse, drone shot, high resolution.  Image: 1 Attachment  Author: @Ameen, path: /apdcephfs_cq3/share_1290939/shadowcun/evals_dev/pikavideos/prompts/car_racing_accident__beautiful_hyper_realistic_high_octane_render_HD_hyper_intelligent_render_e_seed15025961323380637568.txt\n"
     ]
    },
    {
     "name": "stdout",
     "output_type": "stream",
     "text": [
      "processed frame 23, obj_num 0\n",
      "finished\n",
      "Directory already exists: ./pikavideos/horse/masks\n",
      "Directory already exists: ./pikavideos/horse/mask_video\n",
      "Directory already exists: ./pikavideos/horse/mask_gif\n",
      "final text_encoder_type: bert-base-uncased\n",
      "Model loaded from ./ckpt/groundingdino_swint_ogc.pth \n",
      " => _IncompatibleKeys(missing_keys=[], unexpected_keys=['label_enc.weight', 'bert.embeddings.position_ids'])\n",
      "SegTracker has been initialized\n",
      "processed frame 22, obj_num 1\r"
     ]
    },
    {
     "name": "stderr",
     "output_type": "stream",
     "text": [
      "Num: 148, count for 'horse': 1.0, prompt: @Tamir Prompt: make the horse galloping  Image: 1 Attachment  Author: @Tamir (edited), path: /apdcephfs_cq3/share_1290939/shadowcun/evals_dev/pikavideos/prompts/make_the_horse_galloping__Image__1_Attachment_seed10560148806258526781.txt\n",
      "2023-08-23 19:11:05 Num: 148, count for 'horse': 1.0, prompt: @Tamir Prompt: make the horse galloping  Image: 1 Attachment  Author: @Tamir (edited), path: /apdcephfs_cq3/share_1290939/shadowcun/evals_dev/pikavideos/prompts/make_the_horse_galloping__Image__1_Attachment_seed10560148806258526781.txt\n"
     ]
    },
    {
     "name": "stdout",
     "output_type": "stream",
     "text": [
      "processed frame 23, obj_num 1\n",
      "finished\n",
      "Directory already exists: ./pikavideos/bear/masks\n",
      "Directory already exists: ./pikavideos/bear/mask_video\n",
      "Directory already exists: ./pikavideos/bear/mask_gif\n",
      "final text_encoder_type: bert-base-uncased\n",
      "Model loaded from ./ckpt/groundingdino_swint_ogc.pth \n",
      " => _IncompatibleKeys(missing_keys=[], unexpected_keys=['label_enc.weight', 'bert.embeddings.position_ids'])\n",
      "SegTracker has been initialized\n",
      "processed frame 22, obj_num 0\r"
     ]
    },
    {
     "name": "stderr",
     "output_type": "stream",
     "text": [
      "Num: 148, count for 'bear': 0.0, prompt: @Bartley Prompt: Teddy Bear: smiling, beautiful, wearing blue jean jacket, playing a chess game with Spider Man, sunrise storm as captured with a polarized canon 10-22mm lens on a Canon eos 5d mkii body, bright white patchy clouds, hazy chartreuse horizon, pucey blue in 3-point perspective fading into infinity, national geographic photo of the year, photography by David Attenborough, ross tran, Eugene de blaas, tom bagshaw as ruan jia, ar 16:9  Author: @Bartley, path: /apdcephfs_cq3/share_1290939/shadowcun/evals_dev/pikavideos/prompts/Teddy_Bear__smiling_beautiful_wearing_blue_jean_jacket_playing_a_chess_game_with_Spider_Man_sunr_seed11016306147380608525.txt\n",
      "2023-08-23 19:11:15 Num: 148, count for 'bear': 0.0, prompt: @Bartley Prompt: Teddy Bear: smiling, beautiful, wearing blue jean jacket, playing a chess game with Spider Man, sunrise storm as captured with a polarized canon 10-22mm lens on a Canon eos 5d mkii body, bright white patchy clouds, hazy chartreuse horizon, pucey blue in 3-point perspective fading into infinity, national geographic photo of the year, photography by David Attenborough, ross tran, Eugene de blaas, tom bagshaw as ruan jia, ar 16:9  Author: @Bartley, path: /apdcephfs_cq3/share_1290939/shadowcun/evals_dev/pikavideos/prompts/Teddy_Bear__smiling_beautiful_wearing_blue_jean_jacket_playing_a_chess_game_with_Spider_Man_sunr_seed11016306147380608525.txt\n"
     ]
    },
    {
     "name": "stdout",
     "output_type": "stream",
     "text": [
      "processed frame 23, obj_num 0\n",
      "finished\n",
      "Directory already exists: ./pikavideos/teddy bear/masks\n",
      "Directory already exists: ./pikavideos/teddy bear/mask_video\n",
      "Directory already exists: ./pikavideos/teddy bear/mask_gif\n",
      "final text_encoder_type: bert-base-uncased\n",
      "Model loaded from ./ckpt/groundingdino_swint_ogc.pth \n",
      " => _IncompatibleKeys(missing_keys=[], unexpected_keys=['label_enc.weight', 'bert.embeddings.position_ids'])\n",
      "SegTracker has been initialized\n",
      "processed frame 22, obj_num 0\r"
     ]
    },
    {
     "name": "stderr",
     "output_type": "stream",
     "text": [
      "Num: 148, count for 'teddy bear': 0.0, prompt: @Bartley Prompt: Teddy Bear: smiling, beautiful, wearing blue jean jacket, playing a chess game with Spider Man, sunrise storm as captured with a polarized canon 10-22mm lens on a Canon eos 5d mkii body, bright white patchy clouds, hazy chartreuse horizon, pucey blue in 3-point perspective fading into infinity, national geographic photo of the year, photography by David Attenborough, ross tran, Eugene de blaas, tom bagshaw as ruan jia, ar 16:9  Author: @Bartley, path: /apdcephfs_cq3/share_1290939/shadowcun/evals_dev/pikavideos/prompts/Teddy_Bear__smiling_beautiful_wearing_blue_jean_jacket_playing_a_chess_game_with_Spider_Man_sunr_seed11016306147380608525.txt\n",
      "2023-08-23 19:11:25 Num: 148, count for 'teddy bear': 0.0, prompt: @Bartley Prompt: Teddy Bear: smiling, beautiful, wearing blue jean jacket, playing a chess game with Spider Man, sunrise storm as captured with a polarized canon 10-22mm lens on a Canon eos 5d mkii body, bright white patchy clouds, hazy chartreuse horizon, pucey blue in 3-point perspective fading into infinity, national geographic photo of the year, photography by David Attenborough, ross tran, Eugene de blaas, tom bagshaw as ruan jia, ar 16:9  Author: @Bartley, path: /apdcephfs_cq3/share_1290939/shadowcun/evals_dev/pikavideos/prompts/Teddy_Bear__smiling_beautiful_wearing_blue_jean_jacket_playing_a_chess_game_with_Spider_Man_sunr_seed11016306147380608525.txt\n"
     ]
    },
    {
     "name": "stdout",
     "output_type": "stream",
     "text": [
      "processed frame 23, obj_num 0\n",
      "finished\n",
      "Directory already exists: ./pikavideos/person/masks\n",
      "Directory already exists: ./pikavideos/person/mask_video\n",
      "Directory already exists: ./pikavideos/person/mask_gif\n",
      "final text_encoder_type: bert-base-uncased\n",
      "Model loaded from ./ckpt/groundingdino_swint_ogc.pth \n",
      " => _IncompatibleKeys(missing_keys=[], unexpected_keys=['label_enc.weight', 'bert.embeddings.position_ids'])\n",
      "SegTracker has been initialized\n",
      "processed frame 22, obj_num 0\r"
     ]
    },
    {
     "name": "stderr",
     "output_type": "stream",
     "text": [
      "Num: 148, count for 'person': 0.0, prompt: @Domishay liked a video of @Domishay. (Prompt: zoom into midddle persons eyes  --realistic- colorful-cinematic-4k-ar 16:9  Image: 1 Attachment  Author: @Domishay), path: /apdcephfs_cq3/share_1290939/shadowcun/evals_dev/pikavideos/prompts/zoom_into_midddle_persons_eyes__--realistic-_colorful-cinematic-4k-ar_16_9__Image__1_Attachment_seed12526361365999684879.txt\n",
      "2023-08-23 19:11:35 Num: 148, count for 'person': 0.0, prompt: @Domishay liked a video of @Domishay. (Prompt: zoom into midddle persons eyes  --realistic- colorful-cinematic-4k-ar 16:9  Image: 1 Attachment  Author: @Domishay), path: /apdcephfs_cq3/share_1290939/shadowcun/evals_dev/pikavideos/prompts/zoom_into_midddle_persons_eyes__--realistic-_colorful-cinematic-4k-ar_16_9__Image__1_Attachment_seed12526361365999684879.txt\n"
     ]
    },
    {
     "name": "stdout",
     "output_type": "stream",
     "text": [
      "processed frame 23, obj_num 0\n",
      "finished\n",
      "Directory already exists: ./pikavideos/bird/masks\n",
      "Directory already exists: ./pikavideos/bird/mask_video\n",
      "Directory already exists: ./pikavideos/bird/mask_gif\n",
      "final text_encoder_type: bert-base-uncased\n",
      "Model loaded from ./ckpt/groundingdino_swint_ogc.pth \n",
      " => _IncompatibleKeys(missing_keys=[], unexpected_keys=['label_enc.weight', 'bert.embeddings.position_ids'])\n",
      "SegTracker has been initialized\n",
      "processed frame 22, obj_num 0\r"
     ]
    },
    {
     "name": "stderr",
     "output_type": "stream",
     "text": [
      "Num: 148, count for 'bird': 0.0, prompt: @𝗝𝗲𝗳𝗳 𝗺𝗮𝗻𝟭𝟭𝟮 Prompt: the bird shakes its head, -motion 4  Image: 1 Attachment  Author: @𝗝𝗲𝗳𝗳 𝗺𝗮𝗻𝟭𝟭𝟮 (edited), path: /apdcephfs_cq3/share_1290939/shadowcun/evals_dev/pikavideos/prompts/the_bird_shakes_its_head_-motion_4__Image__1_Attachment_seed2419792262974987324.txt\n",
      "2023-08-23 19:11:46 Num: 148, count for 'bird': 0.0, prompt: @𝗝𝗲𝗳𝗳 𝗺𝗮𝗻𝟭𝟭𝟮 Prompt: the bird shakes its head, -motion 4  Image: 1 Attachment  Author: @𝗝𝗲𝗳𝗳 𝗺𝗮𝗻𝟭𝟭𝟮 (edited), path: /apdcephfs_cq3/share_1290939/shadowcun/evals_dev/pikavideos/prompts/the_bird_shakes_its_head_-motion_4__Image__1_Attachment_seed2419792262974987324.txt\n"
     ]
    },
    {
     "name": "stdout",
     "output_type": "stream",
     "text": [
      "processed frame 23, obj_num 0\n",
      "finished\n",
      "Directory already exists: ./pikavideos/person/masks\n",
      "Directory already exists: ./pikavideos/person/mask_video\n",
      "Directory already exists: ./pikavideos/person/mask_gif\n",
      "final text_encoder_type: bert-base-uncased\n",
      "Model loaded from ./ckpt/groundingdino_swint_ogc.pth \n",
      " => _IncompatibleKeys(missing_keys=[], unexpected_keys=['label_enc.weight', 'bert.embeddings.position_ids'])\n",
      "SegTracker has been initialized\n",
      "processed frame 22, obj_num 1\r"
     ]
    },
    {
     "name": "stderr",
     "output_type": "stream",
     "text": [
      "Num: 149, count for 'person': 1.0, prompt: @siegfriedimmortal Prompt: person folding clothes one minute video  Author: @siegfriedimmortal, path: /apdcephfs_cq3/share_1290939/shadowcun/evals_dev/pikavideos/prompts/person_folding_clothes_one_minute_video_seed17344034858981167208.txt\n",
      "2023-08-23 19:11:56 Num: 149, count for 'person': 1.0, prompt: @siegfriedimmortal Prompt: person folding clothes one minute video  Author: @siegfriedimmortal, path: /apdcephfs_cq3/share_1290939/shadowcun/evals_dev/pikavideos/prompts/person_folding_clothes_one_minute_video_seed17344034858981167208.txt\n"
     ]
    },
    {
     "name": "stdout",
     "output_type": "stream",
     "text": [
      "processed frame 23, obj_num 1\n",
      "finished\n",
      "Directory already exists: ./pikavideos/cake/masks\n",
      "Directory already exists: ./pikavideos/cake/mask_video\n",
      "Directory already exists: ./pikavideos/cake/mask_gif\n",
      "final text_encoder_type: bert-base-uncased\n",
      "Model loaded from ./ckpt/groundingdino_swint_ogc.pth \n",
      " => _IncompatibleKeys(missing_keys=[], unexpected_keys=['label_enc.weight', 'bert.embeddings.position_ids'])\n",
      "SegTracker has been initialized\n",
      "processed frame 22, obj_num 1\r"
     ]
    },
    {
     "name": "stderr",
     "output_type": "stream",
     "text": [
      "Num: 150, count for 'cake': 1.0, prompt: @Negative liked a video of @Ishy. (Prompt: a realistic mouth watering black forest cake being sliced revealing layers of rich chocolate and cream  Author: @Ishy), path: /apdcephfs_cq3/share_1290939/shadowcun/evals_dev/pikavideos/prompts/a_realistic_mouth_watering_black_forest_cake_being_sliced_revealing_layers_of_rich_chocolate_and_cre_seed13304838970565571944.txt\n",
      "2023-08-23 19:12:06 Num: 150, count for 'cake': 1.0, prompt: @Negative liked a video of @Ishy. (Prompt: a realistic mouth watering black forest cake being sliced revealing layers of rich chocolate and cream  Author: @Ishy), path: /apdcephfs_cq3/share_1290939/shadowcun/evals_dev/pikavideos/prompts/a_realistic_mouth_watering_black_forest_cake_being_sliced_revealing_layers_of_rich_chocolate_and_cre_seed13304838970565571944.txt\n"
     ]
    },
    {
     "name": "stdout",
     "output_type": "stream",
     "text": [
      "processed frame 23, obj_num 1\n",
      "finished\n",
      "Directory already exists: ./pikavideos/skateboard/masks\n",
      "Directory already exists: ./pikavideos/skateboard/mask_video\n",
      "Directory already exists: ./pikavideos/skateboard/mask_gif\n",
      "final text_encoder_type: bert-base-uncased\n",
      "Model loaded from ./ckpt/groundingdino_swint_ogc.pth \n",
      " => _IncompatibleKeys(missing_keys=[], unexpected_keys=['label_enc.weight', 'bert.embeddings.position_ids'])\n",
      "SegTracker has been initialized\n",
      "processed frame 22, obj_num 0\r"
     ]
    },
    {
     "name": "stderr",
     "output_type": "stream",
     "text": [
      "Num: 150, count for 'skateboard': 0.0, prompt: @Threepwood Prompt: [Summer] in Los Angeles in the 80s. [Girl back to camera] watching [skateboarder] doing tricks on his [skateboard] in a [skatepark]. Retro style look, video distortion and tv lines, washed out colors, fluent movement, film grain. -neg lack of detail, inconsistent lighting  Author: @Threepwood, path: /apdcephfs_cq3/share_1290939/shadowcun/evals_dev/pikavideos/prompts/Summer__in_Los_Angeles_in_the_80s.__Girl_back_to_camera__watching__skateboarder__doing_tricks_on_hi_seed5675609250572038569.txt\n",
      "2023-08-23 19:12:15 Num: 150, count for 'skateboard': 0.0, prompt: @Threepwood Prompt: [Summer] in Los Angeles in the 80s. [Girl back to camera] watching [skateboarder] doing tricks on his [skateboard] in a [skatepark]. Retro style look, video distortion and tv lines, washed out colors, fluent movement, film grain. -neg lack of detail, inconsistent lighting  Author: @Threepwood, path: /apdcephfs_cq3/share_1290939/shadowcun/evals_dev/pikavideos/prompts/Summer__in_Los_Angeles_in_the_80s.__Girl_back_to_camera__watching__skateboarder__doing_tricks_on_hi_seed5675609250572038569.txt\n"
     ]
    },
    {
     "name": "stdout",
     "output_type": "stream",
     "text": [
      "processed frame 23, obj_num 0\n",
      "finished\n",
      "Directory already exists: ./pikavideos/tv/masks\n",
      "Directory already exists: ./pikavideos/tv/mask_video\n",
      "Directory already exists: ./pikavideos/tv/mask_gif\n",
      "final text_encoder_type: bert-base-uncased\n",
      "Model loaded from ./ckpt/groundingdino_swint_ogc.pth \n",
      " => _IncompatibleKeys(missing_keys=[], unexpected_keys=['label_enc.weight', 'bert.embeddings.position_ids'])\n",
      "SegTracker has been initialized\n",
      "processed frame 22, obj_num 0\r"
     ]
    },
    {
     "name": "stderr",
     "output_type": "stream",
     "text": [
      "Num: 150, count for 'tv': 0.0, prompt: @Threepwood Prompt: [Summer] in Los Angeles in the 80s. [Girl back to camera] watching [skateboarder] doing tricks on his [skateboard] in a [skatepark]. Retro style look, video distortion and tv lines, washed out colors, fluent movement, film grain. -neg lack of detail, inconsistent lighting  Author: @Threepwood, path: /apdcephfs_cq3/share_1290939/shadowcun/evals_dev/pikavideos/prompts/Summer__in_Los_Angeles_in_the_80s.__Girl_back_to_camera__watching__skateboarder__doing_tricks_on_hi_seed5675609250572038569.txt\n",
      "2023-08-23 19:12:26 Num: 150, count for 'tv': 0.0, prompt: @Threepwood Prompt: [Summer] in Los Angeles in the 80s. [Girl back to camera] watching [skateboarder] doing tricks on his [skateboard] in a [skatepark]. Retro style look, video distortion and tv lines, washed out colors, fluent movement, film grain. -neg lack of detail, inconsistent lighting  Author: @Threepwood, path: /apdcephfs_cq3/share_1290939/shadowcun/evals_dev/pikavideos/prompts/Summer__in_Los_Angeles_in_the_80s.__Girl_back_to_camera__watching__skateboarder__doing_tricks_on_hi_seed5675609250572038569.txt\n"
     ]
    },
    {
     "name": "stdout",
     "output_type": "stream",
     "text": [
      "processed frame 23, obj_num 0\n",
      "finished\n",
      "Directory already exists: ./pikavideos/bottle/masks\n",
      "Directory already exists: ./pikavideos/bottle/mask_video\n",
      "Directory already exists: ./pikavideos/bottle/mask_gif\n",
      "final text_encoder_type: bert-base-uncased\n",
      "Model loaded from ./ckpt/groundingdino_swint_ogc.pth \n",
      " => _IncompatibleKeys(missing_keys=[], unexpected_keys=['label_enc.weight', 'bert.embeddings.position_ids'])\n",
      "SegTracker has been initialized\n",
      "processed frame 22, obj_num 0\r"
     ]
    },
    {
     "name": "stderr",
     "output_type": "stream",
     "text": [
      "Num: 150, count for 'bottle': 0.0, prompt: @Warz244 Prompt: closeup shot of an extremly worn out extremly drunk sad ugly human super mario from super mario bros in a bar surrounded by bottles, 80 russian film still  Image: 1 Attachment  Author: @Warz244, path: /apdcephfs_cq3/share_1290939/shadowcun/evals_dev/pikavideos/prompts/closeup_shot_of_an_extremly_worn_out_extremly_drunk_sad_ugly_human_super_mario_from_super_mario_bros_seed7679841720985795441.txt\n",
      "2023-08-23 19:12:37 Num: 150, count for 'bottle': 0.0, prompt: @Warz244 Prompt: closeup shot of an extremly worn out extremly drunk sad ugly human super mario from super mario bros in a bar surrounded by bottles, 80 russian film still  Image: 1 Attachment  Author: @Warz244, path: /apdcephfs_cq3/share_1290939/shadowcun/evals_dev/pikavideos/prompts/closeup_shot_of_an_extremly_worn_out_extremly_drunk_sad_ugly_human_super_mario_from_super_mario_bros_seed7679841720985795441.txt\n"
     ]
    },
    {
     "name": "stdout",
     "output_type": "stream",
     "text": [
      "processed frame 23, obj_num 0\n",
      "finished\n",
      "Directory already exists: ./pikavideos/tv/masks\n",
      "Directory already exists: ./pikavideos/tv/mask_video\n",
      "Directory already exists: ./pikavideos/tv/mask_gif\n",
      "final text_encoder_type: bert-base-uncased\n",
      "Model loaded from ./ckpt/groundingdino_swint_ogc.pth \n",
      " => _IncompatibleKeys(missing_keys=[], unexpected_keys=['label_enc.weight', 'bert.embeddings.position_ids'])\n",
      "SegTracker has been initialized\n",
      "processed frame 22, obj_num 0\r"
     ]
    },
    {
     "name": "stderr",
     "output_type": "stream",
     "text": [
      "Num: 150, count for 'tv': 0.0, prompt: @Carl… Prompt: found footage, movie, ar 16:9, tv screen, vhs load, tube screen, vcr, vhs, dat tape, anolog  Author: @Carl…, path: /apdcephfs_cq3/share_1290939/shadowcun/evals_dev/pikavideos/prompts/found_footage_movie_ar_16_9_tv_screen_vhs_load_tube_screen_vcr_vhs_dat_tape_anolog_seed2248032374577353931.txt\n",
      "2023-08-23 19:12:47 Num: 150, count for 'tv': 0.0, prompt: @Carl… Prompt: found footage, movie, ar 16:9, tv screen, vhs load, tube screen, vcr, vhs, dat tape, anolog  Author: @Carl…, path: /apdcephfs_cq3/share_1290939/shadowcun/evals_dev/pikavideos/prompts/found_footage_movie_ar_16_9_tv_screen_vhs_load_tube_screen_vcr_vhs_dat_tape_anolog_seed2248032374577353931.txt\n"
     ]
    },
    {
     "name": "stdout",
     "output_type": "stream",
     "text": [
      "processed frame 23, obj_num 0\n",
      "finished\n",
      "Directory created: ./pikavideos/keyboard/masks\n",
      "Directory created: ./pikavideos/keyboard/mask_video\n",
      "Directory created: ./pikavideos/keyboard/mask_gif\n",
      "final text_encoder_type: bert-base-uncased\n",
      "Model loaded from ./ckpt/groundingdino_swint_ogc.pth \n",
      " => _IncompatibleKeys(missing_keys=[], unexpected_keys=['label_enc.weight', 'bert.embeddings.position_ids'])\n",
      "SegTracker has been initialized\n",
      "processed frame 22, obj_num 0\r"
     ]
    },
    {
     "name": "stderr",
     "output_type": "stream",
     "text": [
      "Num: 150, count for 'keyboard': 0.0, prompt: @HrefnDV Prompt: Female demon playing keyboards. Dark. Gothic. Darkness. Cinematographic. -ar 9:16 4k Highly detailed. Horror. Realistic.  Author: @HrefnDV, path: /apdcephfs_cq3/share_1290939/shadowcun/evals_dev/pikavideos/prompts/Female_demon_playing_keyboards._Dark._Gothic._Darkness._Cinematographic._-ar_9_16_4k_Highly_detailed_seed10668045141907272684.txt\n",
      "2023-08-23 19:12:58 Num: 150, count for 'keyboard': 0.0, prompt: @HrefnDV Prompt: Female demon playing keyboards. Dark. Gothic. Darkness. Cinematographic. -ar 9:16 4k Highly detailed. Horror. Realistic.  Author: @HrefnDV, path: /apdcephfs_cq3/share_1290939/shadowcun/evals_dev/pikavideos/prompts/Female_demon_playing_keyboards._Dark._Gothic._Darkness._Cinematographic._-ar_9_16_4k_Highly_detailed_seed10668045141907272684.txt\n"
     ]
    },
    {
     "name": "stdout",
     "output_type": "stream",
     "text": [
      "processed frame 23, obj_num 0\n",
      "finished\n",
      "Directory already exists: ./pikavideos/cat/masks\n",
      "Directory already exists: ./pikavideos/cat/mask_video\n",
      "Directory already exists: ./pikavideos/cat/mask_gif\n",
      "final text_encoder_type: bert-base-uncased\n",
      "Model loaded from ./ckpt/groundingdino_swint_ogc.pth \n",
      " => _IncompatibleKeys(missing_keys=[], unexpected_keys=['label_enc.weight', 'bert.embeddings.position_ids'])\n",
      "SegTracker has been initialized\n",
      "processed frame 22, obj_num 1\r"
     ]
    },
    {
     "name": "stderr",
     "output_type": "stream",
     "text": [
      "Num: 151, count for 'cat': 1.0, prompt: @roosen liked a video. (Prompt: incredibly charming little girl carrying a backpack, accompanied by her adorable cat, enjoying a lovely spring outing surrounded by beautiful yellow flowers and natural scenery. The illustration is in high definition at 4k resolution, with highly-detailed facial features and cartoon-style visuals -gs90 -motion3  Author: @roosen), path: /apdcephfs_cq3/share_1290939/shadowcun/evals_dev/pikavideos/prompts/incredibly_charming_little_girl_carrying_a_backpack_accompanied_by_her_adorable_cat_enjoying_a_lov_seed16860211219380879568.txt\n",
      "2023-08-23 19:13:08 Num: 151, count for 'cat': 1.0, prompt: @roosen liked a video. (Prompt: incredibly charming little girl carrying a backpack, accompanied by her adorable cat, enjoying a lovely spring outing surrounded by beautiful yellow flowers and natural scenery. The illustration is in high definition at 4k resolution, with highly-detailed facial features and cartoon-style visuals -gs90 -motion3  Author: @roosen), path: /apdcephfs_cq3/share_1290939/shadowcun/evals_dev/pikavideos/prompts/incredibly_charming_little_girl_carrying_a_backpack_accompanied_by_her_adorable_cat_enjoying_a_lov_seed16860211219380879568.txt\n"
     ]
    },
    {
     "name": "stdout",
     "output_type": "stream",
     "text": [
      "processed frame 23, obj_num 1\n",
      "finished\n",
      "Directory created: ./pikavideos/backpack/masks\n",
      "Directory created: ./pikavideos/backpack/mask_video\n",
      "Directory created: ./pikavideos/backpack/mask_gif\n",
      "final text_encoder_type: bert-base-uncased\n"
     ]
    },
    {
     "name": "stderr",
     "output_type": "stream",
     "text": [
      "'(ReadTimeoutError(\"HTTPSConnectionPool(host='huggingface.co', port=443): Read timed out. (read timeout=10)\"), '(Request ID: 21ddddbc-4e85-4f74-a049-2ac1c3bd51d4)')' thrown while requesting HEAD https://huggingface.co/bert-base-uncased/resolve/main/tokenizer_config.json\n",
      "'(ReadTimeoutError(\"HTTPSConnectionPool(host='huggingface.co', port=443): Read timed out. (read timeout=10)\"), '(Request ID: 21ddddbc-4e85-4f74-a049-2ac1c3bd51d4)')' thrown while requesting HEAD https://huggingface.co/bert-base-uncased/resolve/main/tokenizer_config.json\n",
      "2023-08-23 19:13:20 '(ReadTimeoutError(\"HTTPSConnectionPool(host='huggingface.co', port=443): Read timed out. (read timeout=10)\"), '(Request ID: 21ddddbc-4e85-4f74-a049-2ac1c3bd51d4)')' thrown while requesting HEAD https://huggingface.co/bert-base-uncased/resolve/main/tokenizer_config.json\n",
      "'(ReadTimeoutError(\"HTTPSConnectionPool(host='huggingface.co', port=443): Read timed out. (read timeout=10)\"), '(Request ID: 1f76a57a-41a0-47b7-a124-7c8315d7b64d)')' thrown while requesting HEAD https://huggingface.co/bert-base-uncased/resolve/main/config.json\n",
      "'(ReadTimeoutError(\"HTTPSConnectionPool(host='huggingface.co', port=443): Read timed out. (read timeout=10)\"), '(Request ID: 1f76a57a-41a0-47b7-a124-7c8315d7b64d)')' thrown while requesting HEAD https://huggingface.co/bert-base-uncased/resolve/main/config.json\n",
      "2023-08-23 19:13:31 '(ReadTimeoutError(\"HTTPSConnectionPool(host='huggingface.co', port=443): Read timed out. (read timeout=10)\"), '(Request ID: 1f76a57a-41a0-47b7-a124-7c8315d7b64d)')' thrown while requesting HEAD https://huggingface.co/bert-base-uncased/resolve/main/config.json\n"
     ]
    },
    {
     "name": "stdout",
     "output_type": "stream",
     "text": [
      "Model loaded from ./ckpt/groundingdino_swint_ogc.pth \n",
      " => _IncompatibleKeys(missing_keys=[], unexpected_keys=['label_enc.weight', 'bert.embeddings.position_ids'])\n",
      "SegTracker has been initialized\n",
      "processed frame 22, obj_num 1\r"
     ]
    },
    {
     "name": "stderr",
     "output_type": "stream",
     "text": [
      "Num: 152, count for 'backpack': 1.0, prompt: @roosen liked a video. (Prompt: incredibly charming little girl carrying a backpack, accompanied by her adorable cat, enjoying a lovely spring outing surrounded by beautiful yellow flowers and natural scenery. The illustration is in high definition at 4k resolution, with highly-detailed facial features and cartoon-style visuals -gs90 -motion3  Author: @roosen), path: /apdcephfs_cq3/share_1290939/shadowcun/evals_dev/pikavideos/prompts/incredibly_charming_little_girl_carrying_a_backpack_accompanied_by_her_adorable_cat_enjoying_a_lov_seed16860211219380879568.txt\n",
      "2023-08-23 19:13:38 Num: 152, count for 'backpack': 1.0, prompt: @roosen liked a video. (Prompt: incredibly charming little girl carrying a backpack, accompanied by her adorable cat, enjoying a lovely spring outing surrounded by beautiful yellow flowers and natural scenery. The illustration is in high definition at 4k resolution, with highly-detailed facial features and cartoon-style visuals -gs90 -motion3  Author: @roosen), path: /apdcephfs_cq3/share_1290939/shadowcun/evals_dev/pikavideos/prompts/incredibly_charming_little_girl_carrying_a_backpack_accompanied_by_her_adorable_cat_enjoying_a_lov_seed16860211219380879568.txt\n"
     ]
    },
    {
     "name": "stdout",
     "output_type": "stream",
     "text": [
      "processed frame 23, obj_num 1\n",
      "finished\n",
      "Directory already exists: ./pikavideos/boat/masks\n",
      "Directory already exists: ./pikavideos/boat/mask_video\n",
      "Directory already exists: ./pikavideos/boat/mask_gif\n",
      "final text_encoder_type: bert-base-uncased\n"
     ]
    },
    {
     "name": "stderr",
     "output_type": "stream",
     "text": [
      "'(ReadTimeoutError(\"HTTPSConnectionPool(host='huggingface.co', port=443): Read timed out. (read timeout=10)\"), '(Request ID: 61245893-d79d-4014-8dee-701349d0f65d)')' thrown while requesting HEAD https://huggingface.co/bert-base-uncased/resolve/main/tokenizer_config.json\n",
      "'(ReadTimeoutError(\"HTTPSConnectionPool(host='huggingface.co', port=443): Read timed out. (read timeout=10)\"), '(Request ID: 61245893-d79d-4014-8dee-701349d0f65d)')' thrown while requesting HEAD https://huggingface.co/bert-base-uncased/resolve/main/tokenizer_config.json\n",
      "2023-08-23 19:13:51 '(ReadTimeoutError(\"HTTPSConnectionPool(host='huggingface.co', port=443): Read timed out. (read timeout=10)\"), '(Request ID: 61245893-d79d-4014-8dee-701349d0f65d)')' thrown while requesting HEAD https://huggingface.co/bert-base-uncased/resolve/main/tokenizer_config.json\n"
     ]
    },
    {
     "name": "stdout",
     "output_type": "stream",
     "text": [
      "Model loaded from ./ckpt/groundingdino_swint_ogc.pth \n",
      " => _IncompatibleKeys(missing_keys=[], unexpected_keys=['label_enc.weight', 'bert.embeddings.position_ids'])\n",
      "SegTracker has been initialized\n",
      "processed frame 22, obj_num 0\r"
     ]
    },
    {
     "name": "stderr",
     "output_type": "stream",
     "text": [
      "Num: 152, count for 'boat': 0.0, prompt: @kreator0 Prompt: mage amidst the waves of the sea holding scepter to evoke elementals, many waves, rough seas , parallax, perfect deep  , Soft Breeze, Water Movement, Boat Movement, Cloud Movement, Calm, Cinematic lighting, -gs 08 -motion 2  Image: 1 Attachment  Author: @kreator0, path: /apdcephfs_cq3/share_1290939/shadowcun/evals_dev/pikavideos/prompts/mage_amidst_the_waves_of_the_sea_holding_scepter_to_evoke_elementals_many_waves_rough_seas__paral_seed14472906494625134793.txt\n",
      "2023-08-23 19:14:00 Num: 152, count for 'boat': 0.0, prompt: @kreator0 Prompt: mage amidst the waves of the sea holding scepter to evoke elementals, many waves, rough seas , parallax, perfect deep  , Soft Breeze, Water Movement, Boat Movement, Cloud Movement, Calm, Cinematic lighting, -gs 08 -motion 2  Image: 1 Attachment  Author: @kreator0, path: /apdcephfs_cq3/share_1290939/shadowcun/evals_dev/pikavideos/prompts/mage_amidst_the_waves_of_the_sea_holding_scepter_to_evoke_elementals_many_waves_rough_seas__paral_seed14472906494625134793.txt\n"
     ]
    },
    {
     "name": "stdout",
     "output_type": "stream",
     "text": [
      "processed frame 23, obj_num 0\n",
      "finished\n",
      "Directory already exists: ./pikavideos/cat/masks\n",
      "Directory already exists: ./pikavideos/cat/mask_video\n",
      "Directory already exists: ./pikavideos/cat/mask_gif\n",
      "final text_encoder_type: bert-base-uncased\n"
     ]
    },
    {
     "name": "stderr",
     "output_type": "stream",
     "text": [
      "'(ReadTimeoutError(\"HTTPSConnectionPool(host='huggingface.co', port=443): Read timed out. (read timeout=10)\"), '(Request ID: 258f8a67-1f1f-4e31-894f-341e8d8c81fe)')' thrown while requesting HEAD https://huggingface.co/bert-base-uncased/resolve/main/config.json\n",
      "'(ReadTimeoutError(\"HTTPSConnectionPool(host='huggingface.co', port=443): Read timed out. (read timeout=10)\"), '(Request ID: 258f8a67-1f1f-4e31-894f-341e8d8c81fe)')' thrown while requesting HEAD https://huggingface.co/bert-base-uncased/resolve/main/config.json\n",
      "2023-08-23 19:14:13 '(ReadTimeoutError(\"HTTPSConnectionPool(host='huggingface.co', port=443): Read timed out. (read timeout=10)\"), '(Request ID: 258f8a67-1f1f-4e31-894f-341e8d8c81fe)')' thrown while requesting HEAD https://huggingface.co/bert-base-uncased/resolve/main/config.json\n"
     ]
    },
    {
     "name": "stdout",
     "output_type": "stream",
     "text": [
      "Model loaded from ./ckpt/groundingdino_swint_ogc.pth \n",
      " => _IncompatibleKeys(missing_keys=[], unexpected_keys=['label_enc.weight', 'bert.embeddings.position_ids'])\n",
      "SegTracker has been initialized\n",
      "processed frame 22, obj_num 1\r"
     ]
    },
    {
     "name": "stderr",
     "output_type": "stream",
     "text": [
      "Num: 153, count for 'cat': 1.0, prompt: @บีบี Prompt: Slide the glasses down and put them on the cat's eyes.  Image: 1 Attachment  Author: @บีบี, path: /apdcephfs_cq3/share_1290939/shadowcun/evals_dev/pikavideos/prompts/Slide_the_glasses_down_and_put_them_on_the_cat_s_eyes.__Image__1_Attachment_seed2888977315838079965.txt\n",
      "2023-08-23 19:14:21 Num: 153, count for 'cat': 1.0, prompt: @บีบี Prompt: Slide the glasses down and put them on the cat's eyes.  Image: 1 Attachment  Author: @บีบี, path: /apdcephfs_cq3/share_1290939/shadowcun/evals_dev/pikavideos/prompts/Slide_the_glasses_down_and_put_them_on_the_cat_s_eyes.__Image__1_Attachment_seed2888977315838079965.txt\n"
     ]
    },
    {
     "name": "stdout",
     "output_type": "stream",
     "text": [
      "processed frame 23, obj_num 1\n",
      "finished\n",
      "Directory already exists: ./pikavideos/bird/masks\n",
      "Directory already exists: ./pikavideos/bird/mask_video\n",
      "Directory already exists: ./pikavideos/bird/mask_gif\n",
      "final text_encoder_type: bert-base-uncased\n",
      "Model loaded from ./ckpt/groundingdino_swint_ogc.pth \n",
      " => _IncompatibleKeys(missing_keys=[], unexpected_keys=['label_enc.weight', 'bert.embeddings.position_ids'])\n",
      "SegTracker has been initialized\n",
      "processed frame 22, obj_num 0\r"
     ]
    },
    {
     "name": "stderr",
     "output_type": "stream",
     "text": [
      "Num: 153, count for 'bird': 0.0, prompt: @Aspidistra liked a video. (Prompt: a bird human hybrid enjoying a steaming succulent meal  Image: 1 Attachment  Author: @Aspidistra), path: /apdcephfs_cq3/share_1290939/shadowcun/evals_dev/pikavideos/prompts/a_bird_human_hybrid_enjoying_a_steaming_succulent_meal.txt\n",
      "2023-08-23 19:14:32 Num: 153, count for 'bird': 0.0, prompt: @Aspidistra liked a video. (Prompt: a bird human hybrid enjoying a steaming succulent meal  Image: 1 Attachment  Author: @Aspidistra), path: /apdcephfs_cq3/share_1290939/shadowcun/evals_dev/pikavideos/prompts/a_bird_human_hybrid_enjoying_a_steaming_succulent_meal.txt\n"
     ]
    },
    {
     "name": "stdout",
     "output_type": "stream",
     "text": [
      "processed frame 23, obj_num 0\n",
      "finished\n",
      "Directory already exists: ./pikavideos/person/masks\n",
      "Directory already exists: ./pikavideos/person/mask_video\n",
      "Directory already exists: ./pikavideos/person/mask_gif\n",
      "final text_encoder_type: bert-base-uncased\n",
      "Model loaded from ./ckpt/groundingdino_swint_ogc.pth \n",
      " => _IncompatibleKeys(missing_keys=[], unexpected_keys=['label_enc.weight', 'bert.embeddings.position_ids'])\n",
      "SegTracker has been initialized\n",
      "processed frame 22, obj_num 1\r"
     ]
    },
    {
     "name": "stderr",
     "output_type": "stream",
     "text": [
      "Num: 154, count for 'person': 1.0, prompt: @Bhernardo Prompt: a person writing on a paper  Author: @Bhernardo, path: /apdcephfs_cq3/share_1290939/shadowcun/evals_dev/pikavideos/prompts/a_person_writing_on_a_paper.txt\n",
      "2023-08-23 19:14:42 Num: 154, count for 'person': 1.0, prompt: @Bhernardo Prompt: a person writing on a paper  Author: @Bhernardo, path: /apdcephfs_cq3/share_1290939/shadowcun/evals_dev/pikavideos/prompts/a_person_writing_on_a_paper.txt\n"
     ]
    },
    {
     "name": "stdout",
     "output_type": "stream",
     "text": [
      "processed frame 23, obj_num 1\n",
      "finished\n",
      "Directory already exists: ./pikavideos/car/masks\n",
      "Directory already exists: ./pikavideos/car/mask_video\n",
      "Directory already exists: ./pikavideos/car/mask_gif\n",
      "final text_encoder_type: bert-base-uncased\n",
      "Model loaded from ./ckpt/groundingdino_swint_ogc.pth \n",
      " => _IncompatibleKeys(missing_keys=[], unexpected_keys=['label_enc.weight', 'bert.embeddings.position_ids'])\n",
      "SegTracker has been initialized\n",
      "processed frame 22, obj_num 1\r"
     ]
    },
    {
     "name": "stderr",
     "output_type": "stream",
     "text": [
      "Num: 155, count for 'car': 1.0, prompt: @andyboeh Prompt: a sports car driving on the mountain, ar 16:9  Author: @andyboeh, path: /apdcephfs_cq3/share_1290939/shadowcun/evals_dev/pikavideos/prompts/a_sports_car_driving_on_the_mountain_ar_16_9_seed6571349666259008225.txt\n",
      "2023-08-23 19:14:52 Num: 155, count for 'car': 1.0, prompt: @andyboeh Prompt: a sports car driving on the mountain, ar 16:9  Author: @andyboeh, path: /apdcephfs_cq3/share_1290939/shadowcun/evals_dev/pikavideos/prompts/a_sports_car_driving_on_the_mountain_ar_16_9_seed6571349666259008225.txt\n"
     ]
    },
    {
     "name": "stdout",
     "output_type": "stream",
     "text": [
      "processed frame 23, obj_num 1\n",
      "finished\n",
      "Directory already exists: ./pikavideos/bed/masks\n",
      "Directory already exists: ./pikavideos/bed/mask_video\n",
      "Directory already exists: ./pikavideos/bed/mask_gif\n",
      "final text_encoder_type: bert-base-uncased\n",
      "Model loaded from ./ckpt/groundingdino_swint_ogc.pth \n",
      " => _IncompatibleKeys(missing_keys=[], unexpected_keys=['label_enc.weight', 'bert.embeddings.position_ids'])\n",
      "SegTracker has been initialized\n",
      "processed frame 22, obj_num 1\r"
     ]
    },
    {
     "name": "stderr",
     "output_type": "stream",
     "text": [
      "Num: 156, count for 'bed': 1.0, prompt: @AF Prompt: woman standing up out of bed and falling to the floor.  The room is sparse and she has long golden blonde hair.  Lots of brown and gold tones in the room  Author: @AF, path: /apdcephfs_cq3/share_1290939/shadowcun/evals_dev/pikavideos/prompts/woman_standing_up_out_of_bed_and_falling_to_the_floor.__The_room_is_sparse_and_she_has_long_golden_b_seed11619518617194083220.txt\n",
      "2023-08-23 19:15:03 Num: 156, count for 'bed': 1.0, prompt: @AF Prompt: woman standing up out of bed and falling to the floor.  The room is sparse and she has long golden blonde hair.  Lots of brown and gold tones in the room  Author: @AF, path: /apdcephfs_cq3/share_1290939/shadowcun/evals_dev/pikavideos/prompts/woman_standing_up_out_of_bed_and_falling_to_the_floor.__The_room_is_sparse_and_she_has_long_golden_b_seed11619518617194083220.txt\n"
     ]
    },
    {
     "name": "stdout",
     "output_type": "stream",
     "text": [
      "processed frame 23, obj_num 1\n",
      "finished\n",
      "Directory already exists: ./pikavideos/cow/masks\n",
      "Directory already exists: ./pikavideos/cow/mask_video\n",
      "Directory already exists: ./pikavideos/cow/mask_gif\n",
      "final text_encoder_type: bert-base-uncased\n",
      "Model loaded from ./ckpt/groundingdino_swint_ogc.pth \n",
      " => _IncompatibleKeys(missing_keys=[], unexpected_keys=['label_enc.weight', 'bert.embeddings.position_ids'])\n",
      "SegTracker has been initialized\n",
      "processed frame 22, obj_num 2\r"
     ]
    },
    {
     "name": "stderr",
     "output_type": "stream",
     "text": [
      "Num: 157, count for 'cow': 2.0, prompt: @Smashr Prompt: UFO abducting a cow  Author: @Smashr, path: /apdcephfs_cq3/share_1290939/shadowcun/evals_dev/pikavideos/prompts/UFO_abducting_a_cow.txt\n",
      "2023-08-23 19:15:13 Num: 157, count for 'cow': 2.0, prompt: @Smashr Prompt: UFO abducting a cow  Author: @Smashr, path: /apdcephfs_cq3/share_1290939/shadowcun/evals_dev/pikavideos/prompts/UFO_abducting_a_cow.txt\n"
     ]
    },
    {
     "name": "stdout",
     "output_type": "stream",
     "text": [
      "processed frame 23, obj_num 2\n",
      "finished\n",
      "Directory already exists: ./pikavideos/cake/masks\n",
      "Directory already exists: ./pikavideos/cake/mask_video\n",
      "Directory already exists: ./pikavideos/cake/mask_gif\n",
      "final text_encoder_type: bert-base-uncased\n",
      "Model loaded from ./ckpt/groundingdino_swint_ogc.pth \n",
      " => _IncompatibleKeys(missing_keys=[], unexpected_keys=['label_enc.weight', 'bert.embeddings.position_ids'])\n",
      "SegTracker has been initialized\n",
      "processed frame 22, obj_num 1\r"
     ]
    },
    {
     "name": "stderr",
     "output_type": "stream",
     "text": [
      "Num: 158, count for 'cake': 1.0, prompt: @Bangflow Prompt: tasteful cake getting sliced  Author: @Bangflow (edited), path: /apdcephfs_cq3/share_1290939/shadowcun/evals_dev/pikavideos/prompts/tasteful_cake_getting_sliced_seed12171285121466931421.txt\n",
      "2023-08-23 19:15:23 Num: 158, count for 'cake': 1.0, prompt: @Bangflow Prompt: tasteful cake getting sliced  Author: @Bangflow (edited), path: /apdcephfs_cq3/share_1290939/shadowcun/evals_dev/pikavideos/prompts/tasteful_cake_getting_sliced_seed12171285121466931421.txt\n"
     ]
    },
    {
     "name": "stdout",
     "output_type": "stream",
     "text": [
      "processed frame 23, obj_num 1\n",
      "finished\n",
      "Directory already exists: ./pikavideos/train/masks\n",
      "Directory already exists: ./pikavideos/train/mask_video\n",
      "Directory already exists: ./pikavideos/train/mask_gif\n",
      "final text_encoder_type: bert-base-uncased\n",
      "Model loaded from ./ckpt/groundingdino_swint_ogc.pth \n",
      " => _IncompatibleKeys(missing_keys=[], unexpected_keys=['label_enc.weight', 'bert.embeddings.position_ids'])\n",
      "SegTracker has been initialized\n",
      "processed frame 22, obj_num 0\r"
     ]
    },
    {
     "name": "stderr",
     "output_type": "stream",
     "text": [
      "Num: 158, count for 'train': 0.0, prompt: @BlackDeity Prompt: a guy who looks like a Viking with a braid and shaved sides and a long beard who does exercise with weights and trains people to be warriors who jumps long distances  Author: @BlackDeity, path: /apdcephfs_cq3/share_1290939/shadowcun/evals_dev/pikavideos/prompts/a_guy_who_looks_like_a_Viking_with_a_braid_and_shaved_sides_and_a_long_beard_who_does_exercise_with__seed11352691549874981279.txt\n",
      "2023-08-23 19:15:33 Num: 158, count for 'train': 0.0, prompt: @BlackDeity Prompt: a guy who looks like a Viking with a braid and shaved sides and a long beard who does exercise with weights and trains people to be warriors who jumps long distances  Author: @BlackDeity, path: /apdcephfs_cq3/share_1290939/shadowcun/evals_dev/pikavideos/prompts/a_guy_who_looks_like_a_Viking_with_a_braid_and_shaved_sides_and_a_long_beard_who_does_exercise_with__seed11352691549874981279.txt\n"
     ]
    },
    {
     "name": "stdout",
     "output_type": "stream",
     "text": [
      "processed frame 23, obj_num 0\n",
      "finished\n",
      "Directory already exists: ./pikavideos/tv/masks\n",
      "Directory already exists: ./pikavideos/tv/mask_video\n",
      "Directory already exists: ./pikavideos/tv/mask_gif\n",
      "final text_encoder_type: bert-base-uncased\n",
      "Model loaded from ./ckpt/groundingdino_swint_ogc.pth \n",
      " => _IncompatibleKeys(missing_keys=[], unexpected_keys=['label_enc.weight', 'bert.embeddings.position_ids'])\n",
      "SegTracker has been initialized\n",
      "processed frame 22, obj_num 0\r"
     ]
    },
    {
     "name": "stderr",
     "output_type": "stream",
     "text": [
      "Num: 158, count for 'tv': 0.0, prompt: @We Luv Tech Prompt: A beautiful woman sitting on her sofa watching a tv set in a lounge room, pixar -gs 20  Author: @We Luv Tech, path: /apdcephfs_cq3/share_1290939/shadowcun/evals_dev/pikavideos/prompts/A_beautiful_woman_sitting_on_her_sofa_watching_a_tv_set_in_a_lounge_room_pixar_-gs_20.txt\n",
      "2023-08-23 19:15:43 Num: 158, count for 'tv': 0.0, prompt: @We Luv Tech Prompt: A beautiful woman sitting on her sofa watching a tv set in a lounge room, pixar -gs 20  Author: @We Luv Tech, path: /apdcephfs_cq3/share_1290939/shadowcun/evals_dev/pikavideos/prompts/A_beautiful_woman_sitting_on_her_sofa_watching_a_tv_set_in_a_lounge_room_pixar_-gs_20.txt\n"
     ]
    },
    {
     "name": "stdout",
     "output_type": "stream",
     "text": [
      "processed frame 23, obj_num 0\n",
      "finished\n",
      "Directory already exists: ./pikavideos/train/masks\n",
      "Directory already exists: ./pikavideos/train/mask_video\n",
      "Directory already exists: ./pikavideos/train/mask_gif\n",
      "final text_encoder_type: bert-base-uncased\n",
      "Model loaded from ./ckpt/groundingdino_swint_ogc.pth \n",
      " => _IncompatibleKeys(missing_keys=[], unexpected_keys=['label_enc.weight', 'bert.embeddings.position_ids'])\n",
      "SegTracker has been initialized\n",
      "processed frame 22, obj_num 1\r"
     ]
    },
    {
     "name": "stderr",
     "output_type": "stream",
     "text": [
      "Num: 159, count for 'train': 1.0, prompt: @uozjun Prompt: subtle movement in train ,videotaped,image:kamy1107_photography_of_passengers_in_train_in_Shibuya_in_Tokyo_e0944f94-bec3-4bfb-b087-71ca48ae876b.png  Author: @uozjun, path: /apdcephfs_cq3/share_1290939/shadowcun/evals_dev/pikavideos/prompts/subtle_movement_in_train_videotapedimage_kamy1107_photography_of_passengers_in_train_in_Shibuya_in_seed14396761024627159967.txt\n",
      "2023-08-23 19:15:53 Num: 159, count for 'train': 1.0, prompt: @uozjun Prompt: subtle movement in train ,videotaped,image:kamy1107_photography_of_passengers_in_train_in_Shibuya_in_Tokyo_e0944f94-bec3-4bfb-b087-71ca48ae876b.png  Author: @uozjun, path: /apdcephfs_cq3/share_1290939/shadowcun/evals_dev/pikavideos/prompts/subtle_movement_in_train_videotapedimage_kamy1107_photography_of_passengers_in_train_in_Shibuya_in_seed14396761024627159967.txt\n"
     ]
    },
    {
     "name": "stdout",
     "output_type": "stream",
     "text": [
      "processed frame 23, obj_num 1\n",
      "finished\n",
      "Directory already exists: ./pikavideos/car/masks\n",
      "Directory already exists: ./pikavideos/car/mask_video\n",
      "Directory already exists: ./pikavideos/car/mask_gif\n",
      "final text_encoder_type: bert-base-uncased\n",
      "Model loaded from ./ckpt/groundingdino_swint_ogc.pth \n",
      " => _IncompatibleKeys(missing_keys=[], unexpected_keys=['label_enc.weight', 'bert.embeddings.position_ids'])\n",
      "SegTracker has been initialized\n",
      "processed frame 22, obj_num 1\r"
     ]
    },
    {
     "name": "stderr",
     "output_type": "stream",
     "text": [
      "Num: 160, count for 'car': 1.0, prompt: @Bohdash666 Prompt: Mad Max movie scene, action scene car crash explosion, 8k, photorealistic, cinematic, colorful, hq, hdr -neg \"deformity, ugly, boring, blurry\"  Image: 1 Attachment  Author: @Bohdash666, path: /apdcephfs_cq3/share_1290939/shadowcun/evals_dev/pikavideos/prompts/Mad_Max_movie_scene_action_scene_car_crash_explosion_8k_photorealistic_cinematic_colorful_hq__seed15132880129143743906.txt\n",
      "2023-08-23 19:16:03 Num: 160, count for 'car': 1.0, prompt: @Bohdash666 Prompt: Mad Max movie scene, action scene car crash explosion, 8k, photorealistic, cinematic, colorful, hq, hdr -neg \"deformity, ugly, boring, blurry\"  Image: 1 Attachment  Author: @Bohdash666, path: /apdcephfs_cq3/share_1290939/shadowcun/evals_dev/pikavideos/prompts/Mad_Max_movie_scene_action_scene_car_crash_explosion_8k_photorealistic_cinematic_colorful_hq__seed15132880129143743906.txt\n"
     ]
    },
    {
     "name": "stdout",
     "output_type": "stream",
     "text": [
      "processed frame 23, obj_num 1\n",
      "finished\n",
      "Directory already exists: ./pikavideos/giraffe/masks\n",
      "Directory already exists: ./pikavideos/giraffe/mask_video\n",
      "Directory already exists: ./pikavideos/giraffe/mask_gif\n",
      "final text_encoder_type: bert-base-uncased\n",
      "Model loaded from ./ckpt/groundingdino_swint_ogc.pth \n",
      " => _IncompatibleKeys(missing_keys=[], unexpected_keys=['label_enc.weight', 'bert.embeddings.position_ids'])\n",
      "SegTracker has been initialized\n",
      "processed frame 22, obj_num 2\r"
     ]
    },
    {
     "name": "stderr",
     "output_type": "stream",
     "text": [
      "Num: 161, count for 'giraffe': 2.0, prompt: @iseekq Prompt: a giraffe jumping in beautiful clouds  Image: 1 Attachment  Author: @iseekq, path: /apdcephfs_cq3/share_1290939/shadowcun/evals_dev/pikavideos/prompts/a_giraffe_jumping_in_beautiful_clouds__Image__1_Attachment_seed5768600509116718537.txt\n",
      "2023-08-23 19:16:14 Num: 161, count for 'giraffe': 2.0, prompt: @iseekq Prompt: a giraffe jumping in beautiful clouds  Image: 1 Attachment  Author: @iseekq, path: /apdcephfs_cq3/share_1290939/shadowcun/evals_dev/pikavideos/prompts/a_giraffe_jumping_in_beautiful_clouds__Image__1_Attachment_seed5768600509116718537.txt\n"
     ]
    },
    {
     "name": "stdout",
     "output_type": "stream",
     "text": [
      "processed frame 23, obj_num 2\n",
      "finished\n",
      "Directory already exists: ./pikavideos/bird/masks\n",
      "Directory already exists: ./pikavideos/bird/mask_video\n",
      "Directory already exists: ./pikavideos/bird/mask_gif\n",
      "final text_encoder_type: bert-base-uncased\n",
      "Model loaded from ./ckpt/groundingdino_swint_ogc.pth \n",
      " => _IncompatibleKeys(missing_keys=[], unexpected_keys=['label_enc.weight', 'bert.embeddings.position_ids'])\n",
      "SegTracker has been initialized\n",
      "processed frame 22, obj_num 1\r"
     ]
    },
    {
     "name": "stderr",
     "output_type": "stream",
     "text": [
      "Num: 162, count for 'bird': 1.0, prompt: @deathrow Prompt: man turns into big bird and flies away to the sky  Image: 1 Attachment  Author: @deathrow, path: /apdcephfs_cq3/share_1290939/shadowcun/evals_dev/pikavideos/prompts/man_turns_into_big_bird_and_flies_away_to_the_sky__Image__1_Attachment_seed5825404106006464719.txt\n",
      "2023-08-23 19:16:24 Num: 162, count for 'bird': 1.0, prompt: @deathrow Prompt: man turns into big bird and flies away to the sky  Image: 1 Attachment  Author: @deathrow, path: /apdcephfs_cq3/share_1290939/shadowcun/evals_dev/pikavideos/prompts/man_turns_into_big_bird_and_flies_away_to_the_sky__Image__1_Attachment_seed5825404106006464719.txt\n"
     ]
    },
    {
     "name": "stdout",
     "output_type": "stream",
     "text": [
      "processed frame 23, obj_num 1\n",
      "finished\n",
      "Directory already exists: ./pikavideos/person/masks\n",
      "Directory already exists: ./pikavideos/person/mask_video\n",
      "Directory already exists: ./pikavideos/person/mask_gif\n",
      "final text_encoder_type: bert-base-uncased\n",
      "Model loaded from ./ckpt/groundingdino_swint_ogc.pth \n",
      " => _IncompatibleKeys(missing_keys=[], unexpected_keys=['label_enc.weight', 'bert.embeddings.position_ids'])\n",
      "SegTracker has been initialized\n",
      "processed frame 22, obj_num 1\r"
     ]
    },
    {
     "name": "stderr",
     "output_type": "stream",
     "text": [
      "Num: 163, count for 'person': 1.0, prompt: @Lonedemon liked a video of @Lonedemon. (Prompt: Create an image where a person's hair dances in the invisible embrace of a gentle breeze, infusing the scene with an unmistakable romantic ambiance. The subject, bathed in soft, warm light, stands amidst an open field or by the shore. Their hair, like cascading silk, flows with the rhythm of the wind, as if engaged in an intimate dance. The sun, painting the sky with hues of gold and pink, adds to the tender atmosphere. Your task is to capture this fleeting moment that encapsulates the essence of love and connection with nature  Image: 1 Attachment  Author: @Lonedemon), path: /apdcephfs_cq3/share_1290939/shadowcun/evals_dev/pikavideos/prompts/Create_an_image_where_a_person_s_hair_dances_in_the_invisible_embrace_of_a_gentle_breeze_infusing_t_seed13666788862595311892.txt\n",
      "2023-08-23 19:16:35 Num: 163, count for 'person': 1.0, prompt: @Lonedemon liked a video of @Lonedemon. (Prompt: Create an image where a person's hair dances in the invisible embrace of a gentle breeze, infusing the scene with an unmistakable romantic ambiance. The subject, bathed in soft, warm light, stands amidst an open field or by the shore. Their hair, like cascading silk, flows with the rhythm of the wind, as if engaged in an intimate dance. The sun, painting the sky with hues of gold and pink, adds to the tender atmosphere. Your task is to capture this fleeting moment that encapsulates the essence of love and connection with nature  Image: 1 Attachment  Author: @Lonedemon), path: /apdcephfs_cq3/share_1290939/shadowcun/evals_dev/pikavideos/prompts/Create_an_image_where_a_person_s_hair_dances_in_the_invisible_embrace_of_a_gentle_breeze_infusing_t_seed13666788862595311892.txt\n"
     ]
    },
    {
     "name": "stdout",
     "output_type": "stream",
     "text": [
      "processed frame 23, obj_num 1\n",
      "finished\n",
      "Directory already exists: ./pikavideos/bird/masks\n",
      "Directory already exists: ./pikavideos/bird/mask_video\n",
      "Directory already exists: ./pikavideos/bird/mask_gif\n",
      "final text_encoder_type: bert-base-uncased\n",
      "Model loaded from ./ckpt/groundingdino_swint_ogc.pth \n",
      " => _IncompatibleKeys(missing_keys=[], unexpected_keys=['label_enc.weight', 'bert.embeddings.position_ids'])\n",
      "SegTracker has been initialized\n",
      "processed frame 22, obj_num 0\r"
     ]
    },
    {
     "name": "stderr",
     "output_type": "stream",
     "text": [
      "Num: 163, count for 'bird': 0.0, prompt: @rohitmokashi90 Prompt: golden neon glow bird, in a futuristic city, hyper realistic, high octane render, HD, hyper intelligent render, extreme render, cinematic shot, denoise version, golden hour lighting,  Author: @rohitmokashi90, path: /apdcephfs_cq3/share_1290939/shadowcun/evals_dev/pikavideos/prompts/golden_neon_glow_bird_in_a_futuristic_city_hyper_realistic_high_octane_render_HD_hyper_intellig_seed2641660672516959467.txt\n",
      "2023-08-23 19:16:45 Num: 163, count for 'bird': 0.0, prompt: @rohitmokashi90 Prompt: golden neon glow bird, in a futuristic city, hyper realistic, high octane render, HD, hyper intelligent render, extreme render, cinematic shot, denoise version, golden hour lighting,  Author: @rohitmokashi90, path: /apdcephfs_cq3/share_1290939/shadowcun/evals_dev/pikavideos/prompts/golden_neon_glow_bird_in_a_futuristic_city_hyper_realistic_high_octane_render_HD_hyper_intellig_seed2641660672516959467.txt\n"
     ]
    },
    {
     "name": "stdout",
     "output_type": "stream",
     "text": [
      "processed frame 23, obj_num 0\n",
      "finished\n",
      "Directory already exists: ./pikavideos/car/masks\n",
      "Directory already exists: ./pikavideos/car/mask_video\n",
      "Directory already exists: ./pikavideos/car/mask_gif\n",
      "final text_encoder_type: bert-base-uncased\n",
      "Model loaded from ./ckpt/groundingdino_swint_ogc.pth \n",
      " => _IncompatibleKeys(missing_keys=[], unexpected_keys=['label_enc.weight', 'bert.embeddings.position_ids'])\n",
      "SegTracker has been initialized\n",
      "processed frame 22, obj_num 0\r"
     ]
    },
    {
     "name": "stderr",
     "output_type": "stream",
     "text": [
      "Num: 163, count for 'car': 0.0, prompt: @Mishaaa Prompt: on the road, dynamic, passing landscape, Oregon, on the road to Portland, in the car, view from the front seat, landscape, cloudy, grey white sky, winter, black trees and mountains, facing a long road, 1980  Author: @Mishaaa, path: /apdcephfs_cq3/share_1290939/shadowcun/evals_dev/pikavideos/prompts/on_the_road_dynamic_passing_landscape_Oregon_on_the_road_to_Portland_in_the_car_view_from_the__seed5013289472863958742.txt\n",
      "2023-08-23 19:16:54 Num: 163, count for 'car': 0.0, prompt: @Mishaaa Prompt: on the road, dynamic, passing landscape, Oregon, on the road to Portland, in the car, view from the front seat, landscape, cloudy, grey white sky, winter, black trees and mountains, facing a long road, 1980  Author: @Mishaaa, path: /apdcephfs_cq3/share_1290939/shadowcun/evals_dev/pikavideos/prompts/on_the_road_dynamic_passing_landscape_Oregon_on_the_road_to_Portland_in_the_car_view_from_the__seed5013289472863958742.txt\n"
     ]
    },
    {
     "name": "stdout",
     "output_type": "stream",
     "text": [
      "processed frame 23, obj_num 0\n",
      "finished\n",
      "Directory already exists: ./pikavideos/person/masks\n",
      "Directory already exists: ./pikavideos/person/mask_video\n",
      "Directory already exists: ./pikavideos/person/mask_gif\n",
      "final text_encoder_type: bert-base-uncased\n",
      "Model loaded from ./ckpt/groundingdino_swint_ogc.pth \n",
      " => _IncompatibleKeys(missing_keys=[], unexpected_keys=['label_enc.weight', 'bert.embeddings.position_ids'])\n",
      "SegTracker has been initialized\n",
      "processed frame 22, obj_num 0\r"
     ]
    },
    {
     "name": "stderr",
     "output_type": "stream",
     "text": [
      "Num: 163, count for 'person': 0.0, prompt: @Ayyeyeart Prompt: a close up of a person wearing headphones, inspired by Kurt Trampedach, reddit, wearing a red lumberjack shirt, with long blond hair, 8k octan photo, on a sunny day -ar 4:5 -gs 15 -motion 2  Author: @Ayyeyeart, path: /apdcephfs_cq3/share_1290939/shadowcun/evals_dev/pikavideos/prompts/a_close_up_of_a_person_wearing_headphones_inspired_by_Kurt_Trampedach_reddit_wearing_a_red_lumber_seed1320005453185741725.txt\n",
      "2023-08-23 19:17:06 Num: 163, count for 'person': 0.0, prompt: @Ayyeyeart Prompt: a close up of a person wearing headphones, inspired by Kurt Trampedach, reddit, wearing a red lumberjack shirt, with long blond hair, 8k octan photo, on a sunny day -ar 4:5 -gs 15 -motion 2  Author: @Ayyeyeart, path: /apdcephfs_cq3/share_1290939/shadowcun/evals_dev/pikavideos/prompts/a_close_up_of_a_person_wearing_headphones_inspired_by_Kurt_Trampedach_reddit_wearing_a_red_lumber_seed1320005453185741725.txt\n"
     ]
    },
    {
     "name": "stdout",
     "output_type": "stream",
     "text": [
      "processed frame 23, obj_num 0\n",
      "finished\n",
      "Directory already exists: ./pikavideos/horse/masks\n",
      "Directory already exists: ./pikavideos/horse/mask_video\n",
      "Directory already exists: ./pikavideos/horse/mask_gif\n",
      "final text_encoder_type: bert-base-uncased\n",
      "Model loaded from ./ckpt/groundingdino_swint_ogc.pth \n",
      " => _IncompatibleKeys(missing_keys=[], unexpected_keys=['label_enc.weight', 'bert.embeddings.position_ids'])\n",
      "SegTracker has been initialized\n",
      "processed frame 22, obj_num 0\r"
     ]
    },
    {
     "name": "stderr",
     "output_type": "stream",
     "text": [
      "Num: 163, count for 'horse': 0.0, prompt: @xcc Prompt: A girl runs in the desert on a horse  Author: @xcc, path: /apdcephfs_cq3/share_1290939/shadowcun/evals_dev/pikavideos/prompts/A_girl_runs_in_the_desert_on_a_horse_seed732382973332895811.txt\n",
      "2023-08-23 19:17:16 Num: 163, count for 'horse': 0.0, prompt: @xcc Prompt: A girl runs in the desert on a horse  Author: @xcc, path: /apdcephfs_cq3/share_1290939/shadowcun/evals_dev/pikavideos/prompts/A_girl_runs_in_the_desert_on_a_horse_seed732382973332895811.txt\n"
     ]
    },
    {
     "name": "stdout",
     "output_type": "stream",
     "text": [
      "processed frame 23, obj_num 0\n",
      "finished\n",
      "Directory already exists: ./pikavideos/train/masks\n",
      "Directory already exists: ./pikavideos/train/mask_video\n",
      "Directory already exists: ./pikavideos/train/mask_gif\n",
      "final text_encoder_type: bert-base-uncased\n",
      "Model loaded from ./ckpt/groundingdino_swint_ogc.pth \n",
      " => _IncompatibleKeys(missing_keys=[], unexpected_keys=['label_enc.weight', 'bert.embeddings.position_ids'])\n",
      "SegTracker has been initialized\n",
      "processed frame 22, obj_num 0\r"
     ]
    },
    {
     "name": "stderr",
     "output_type": "stream",
     "text": [
      "Num: 163, count for 'train': 0.0, prompt: @Iaroslav Kononov Prompt: man singing and rotating 360 deegrees, train moving fast on the right side  Image: 1 Attachment  Author: @Iaroslav Kononov, path: /apdcephfs_cq3/share_1290939/shadowcun/evals_dev/pikavideos/prompts/man_singing_and_rotating_360_deegrees_train_moving_fast_on_the_right_side__Image__1_Attachment_seed696381751851856815.txt\n",
      "2023-08-23 19:17:25 Num: 163, count for 'train': 0.0, prompt: @Iaroslav Kononov Prompt: man singing and rotating 360 deegrees, train moving fast on the right side  Image: 1 Attachment  Author: @Iaroslav Kononov, path: /apdcephfs_cq3/share_1290939/shadowcun/evals_dev/pikavideos/prompts/man_singing_and_rotating_360_deegrees_train_moving_fast_on_the_right_side__Image__1_Attachment_seed696381751851856815.txt\n"
     ]
    },
    {
     "name": "stdout",
     "output_type": "stream",
     "text": [
      "processed frame 23, obj_num 0\n",
      "finished\n",
      "Directory already exists: ./pikavideos/cat/masks\n",
      "Directory already exists: ./pikavideos/cat/mask_video\n",
      "Directory already exists: ./pikavideos/cat/mask_gif\n",
      "final text_encoder_type: bert-base-uncased\n",
      "Model loaded from ./ckpt/groundingdino_swint_ogc.pth \n",
      " => _IncompatibleKeys(missing_keys=[], unexpected_keys=['label_enc.weight', 'bert.embeddings.position_ids'])\n",
      "SegTracker has been initialized\n",
      "processed frame 22, obj_num 1\r"
     ]
    },
    {
     "name": "stderr",
     "output_type": "stream",
     "text": [
      "Num: 164, count for 'cat': 1.0, prompt: @FanatiX Prompt: Dolly Zoom Shot, cat walking  Image: 1 Attachment  Author: @FanatiX, path: /apdcephfs_cq3/share_1290939/shadowcun/evals_dev/pikavideos/prompts/Dolly_Zoom_Shot_cat_walking__Image__1_Attachment_seed16707101901099132775.txt\n",
      "2023-08-23 19:17:36 Num: 164, count for 'cat': 1.0, prompt: @FanatiX Prompt: Dolly Zoom Shot, cat walking  Image: 1 Attachment  Author: @FanatiX, path: /apdcephfs_cq3/share_1290939/shadowcun/evals_dev/pikavideos/prompts/Dolly_Zoom_Shot_cat_walking__Image__1_Attachment_seed16707101901099132775.txt\n"
     ]
    },
    {
     "name": "stdout",
     "output_type": "stream",
     "text": [
      "processed frame 23, obj_num 1\n",
      "finished\n",
      "Directory already exists: ./pikavideos/tv/masks\n",
      "Directory already exists: ./pikavideos/tv/mask_video\n",
      "Directory already exists: ./pikavideos/tv/mask_gif\n",
      "final text_encoder_type: bert-base-uncased\n",
      "Model loaded from ./ckpt/groundingdino_swint_ogc.pth \n",
      " => _IncompatibleKeys(missing_keys=[], unexpected_keys=['label_enc.weight', 'bert.embeddings.position_ids'])\n",
      "SegTracker has been initialized\n",
      "processed frame 22, obj_num 0\r"
     ]
    },
    {
     "name": "stderr",
     "output_type": "stream",
     "text": [
      "Num: 164, count for 'tv': 0.0, prompt: @thejustin661 Prompt: old footage of a group of black singers performing on an old tv show, 50s, 1950s, detailed, uhd, realistic, 8k, old footage, archival footage, black and white television, details  Author: @thejustin661, path: /apdcephfs_cq3/share_1290939/shadowcun/evals_dev/pikavideos/prompts/old_footage_of_a_group_of_black_singers_performing_on_an_old_tv_show_50s_1950s_detailed_uhd_rea_seed13068478298101090346.txt\n",
      "2023-08-23 19:17:45 Num: 164, count for 'tv': 0.0, prompt: @thejustin661 Prompt: old footage of a group of black singers performing on an old tv show, 50s, 1950s, detailed, uhd, realistic, 8k, old footage, archival footage, black and white television, details  Author: @thejustin661, path: /apdcephfs_cq3/share_1290939/shadowcun/evals_dev/pikavideos/prompts/old_footage_of_a_group_of_black_singers_performing_on_an_old_tv_show_50s_1950s_detailed_uhd_rea_seed13068478298101090346.txt\n"
     ]
    },
    {
     "name": "stdout",
     "output_type": "stream",
     "text": [
      "processed frame 23, obj_num 0\n",
      "finished\n",
      "Directory already exists: ./pikavideos/cat/masks\n",
      "Directory already exists: ./pikavideos/cat/mask_video\n",
      "Directory already exists: ./pikavideos/cat/mask_gif\n",
      "final text_encoder_type: bert-base-uncased\n",
      "Model loaded from ./ckpt/groundingdino_swint_ogc.pth \n",
      " => _IncompatibleKeys(missing_keys=[], unexpected_keys=['label_enc.weight', 'bert.embeddings.position_ids'])\n",
      "SegTracker has been initialized\n",
      "processed frame 22, obj_num 0\r"
     ]
    },
    {
     "name": "stderr",
     "output_type": "stream",
     "text": [
      "Num: 164, count for 'cat': 0.0, prompt: @barunmadhu77 Prompt: she play with a cat  Image: 1 Attachment  Author: @barunmadhu77, path: /apdcephfs_cq3/share_1290939/shadowcun/evals_dev/pikavideos/prompts/she_play_with_a_cat__Image__1_Attachment_seed17681917862238386793.txt\n",
      "2023-08-23 19:17:56 Num: 164, count for 'cat': 0.0, prompt: @barunmadhu77 Prompt: she play with a cat  Image: 1 Attachment  Author: @barunmadhu77, path: /apdcephfs_cq3/share_1290939/shadowcun/evals_dev/pikavideos/prompts/she_play_with_a_cat__Image__1_Attachment_seed17681917862238386793.txt\n"
     ]
    },
    {
     "name": "stdout",
     "output_type": "stream",
     "text": [
      "processed frame 23, obj_num 0\n",
      "finished\n",
      "Directory already exists: ./pikavideos/train/masks\n",
      "Directory already exists: ./pikavideos/train/mask_video\n",
      "Directory already exists: ./pikavideos/train/mask_gif\n",
      "final text_encoder_type: bert-base-uncased\n",
      "Model loaded from ./ckpt/groundingdino_swint_ogc.pth \n",
      " => _IncompatibleKeys(missing_keys=[], unexpected_keys=['label_enc.weight', 'bert.embeddings.position_ids'])\n",
      "SegTracker has been initialized\n",
      "processed frame 22, obj_num 1\r"
     ]
    },
    {
     "name": "stderr",
     "output_type": "stream",
     "text": [
      "Num: 165, count for 'train': 1.0, prompt: @hi Prompt: a train stoping and people getting on it  Author: @hi, path: /apdcephfs_cq3/share_1290939/shadowcun/evals_dev/pikavideos/prompts/a_train_stoping_and_people_getting_on_it_seed17874729856861400353.txt\n",
      "2023-08-23 19:18:06 Num: 165, count for 'train': 1.0, prompt: @hi Prompt: a train stoping and people getting on it  Author: @hi, path: /apdcephfs_cq3/share_1290939/shadowcun/evals_dev/pikavideos/prompts/a_train_stoping_and_people_getting_on_it_seed17874729856861400353.txt\n"
     ]
    },
    {
     "name": "stdout",
     "output_type": "stream",
     "text": [
      "processed frame 23, obj_num 1\n",
      "finished\n",
      "Directory already exists: ./pikavideos/chair/masks\n",
      "Directory already exists: ./pikavideos/chair/mask_video\n",
      "Directory already exists: ./pikavideos/chair/mask_gif\n",
      "final text_encoder_type: bert-base-uncased\n",
      "Model loaded from ./ckpt/groundingdino_swint_ogc.pth \n",
      " => _IncompatibleKeys(missing_keys=[], unexpected_keys=['label_enc.weight', 'bert.embeddings.position_ids'])\n",
      "SegTracker has been initialized\n",
      "processed frame 22, obj_num 1\r"
     ]
    },
    {
     "name": "stderr",
     "output_type": "stream",
     "text": [
      "Num: 166, count for 'chair': 1.0, prompt: @holywriter Prompt: guy sitting in a pool chair, colorful scenery  Image: 1 Attachment  Author: @holywriter, path: /apdcephfs_cq3/share_1290939/shadowcun/evals_dev/pikavideos/prompts/guy_sitting_in_a_pool_chair_colorful_scenery__Image__1_Attachment_seed143274559070119397.txt\n",
      "2023-08-23 19:18:16 Num: 166, count for 'chair': 1.0, prompt: @holywriter Prompt: guy sitting in a pool chair, colorful scenery  Image: 1 Attachment  Author: @holywriter, path: /apdcephfs_cq3/share_1290939/shadowcun/evals_dev/pikavideos/prompts/guy_sitting_in_a_pool_chair_colorful_scenery__Image__1_Attachment_seed143274559070119397.txt\n"
     ]
    },
    {
     "name": "stdout",
     "output_type": "stream",
     "text": [
      "processed frame 23, obj_num 1\n",
      "finished\n",
      "Directory already exists: ./pikavideos/orange/masks\n",
      "Directory already exists: ./pikavideos/orange/mask_video\n",
      "Directory already exists: ./pikavideos/orange/mask_gif\n",
      "final text_encoder_type: bert-base-uncased\n",
      "Model loaded from ./ckpt/groundingdino_swint_ogc.pth \n",
      " => _IncompatibleKeys(missing_keys=[], unexpected_keys=['label_enc.weight', 'bert.embeddings.position_ids'])\n",
      "SegTracker has been initialized\n",
      "processed frame 22, obj_num 0\r"
     ]
    },
    {
     "name": "stderr",
     "output_type": "stream",
     "text": [
      "Num: 166, count for 'orange': 0.0, prompt: @Ксюша Key Prompt: Spaceships on Mars, few spaceships flies among debris and fog, orange colors 4K -neg \"people\" -ar 16:9 -motion 2  Author: @Ксюша Key, path: /apdcephfs_cq3/share_1290939/shadowcun/evals_dev/pikavideos/prompts/Spaceships_on_Mars_few_spaceships_flies_among_debris_and_fog_orange_colors_4K_-neg__people__-ar_16_seed5794810187500533480.txt\n",
      "2023-08-23 19:18:26 Num: 166, count for 'orange': 0.0, prompt: @Ксюша Key Prompt: Spaceships on Mars, few spaceships flies among debris and fog, orange colors 4K -neg \"people\" -ar 16:9 -motion 2  Author: @Ксюша Key, path: /apdcephfs_cq3/share_1290939/shadowcun/evals_dev/pikavideos/prompts/Spaceships_on_Mars_few_spaceships_flies_among_debris_and_fog_orange_colors_4K_-neg__people__-ar_16_seed5794810187500533480.txt\n"
     ]
    },
    {
     "name": "stdout",
     "output_type": "stream",
     "text": [
      "processed frame 23, obj_num 0\n",
      "finished\n",
      "Directory already exists: ./pikavideos/dog/masks\n",
      "Directory already exists: ./pikavideos/dog/mask_video\n",
      "Directory already exists: ./pikavideos/dog/mask_gif\n",
      "final text_encoder_type: bert-base-uncased\n",
      "Model loaded from ./ckpt/groundingdino_swint_ogc.pth \n",
      " => _IncompatibleKeys(missing_keys=[], unexpected_keys=['label_enc.weight', 'bert.embeddings.position_ids'])\n",
      "SegTracker has been initialized\n",
      "processed frame 22, obj_num 1\r"
     ]
    },
    {
     "name": "stderr",
     "output_type": "stream",
     "text": [
      "Num: 167, count for 'dog': 1.0, prompt: @AIArtwork Prompt: Man lifting his dog up and down while talking  Image: 1 Attachment  Author: @AIArtwork, path: /apdcephfs_cq3/share_1290939/shadowcun/evals_dev/pikavideos/prompts/Man_lifting_his_dog_up_and_down_while_talking_seed5132500667036919620.txt\n",
      "2023-08-23 19:18:37 Num: 167, count for 'dog': 1.0, prompt: @AIArtwork Prompt: Man lifting his dog up and down while talking  Image: 1 Attachment  Author: @AIArtwork, path: /apdcephfs_cq3/share_1290939/shadowcun/evals_dev/pikavideos/prompts/Man_lifting_his_dog_up_and_down_while_talking_seed5132500667036919620.txt\n"
     ]
    },
    {
     "name": "stdout",
     "output_type": "stream",
     "text": [
      "processed frame 23, obj_num 1\n",
      "finished\n",
      "Directory already exists: ./pikavideos/bicycle/masks\n",
      "Directory already exists: ./pikavideos/bicycle/mask_video\n",
      "Directory already exists: ./pikavideos/bicycle/mask_gif\n",
      "final text_encoder_type: bert-base-uncased\n",
      "Model loaded from ./ckpt/groundingdino_swint_ogc.pth \n",
      " => _IncompatibleKeys(missing_keys=[], unexpected_keys=['label_enc.weight', 'bert.embeddings.position_ids'])\n",
      "SegTracker has been initialized\n",
      "processed frame 22, obj_num 2\r"
     ]
    },
    {
     "name": "stderr",
     "output_type": "stream",
     "text": [
      "Num: 168, count for 'bicycle': 2.0, prompt: @Forsait Prompt: people are walking down the street, a bicycle is riding  Image: 1 Attachment  Author: @Forsait, path: /apdcephfs_cq3/share_1290939/shadowcun/evals_dev/pikavideos/prompts/people_are_walking_down_the_street_a_bicycle_is_riding__Image__1_Attachment_seed7221463651184874329.txt\n",
      "2023-08-23 19:18:48 Num: 168, count for 'bicycle': 2.0, prompt: @Forsait Prompt: people are walking down the street, a bicycle is riding  Image: 1 Attachment  Author: @Forsait, path: /apdcephfs_cq3/share_1290939/shadowcun/evals_dev/pikavideos/prompts/people_are_walking_down_the_street_a_bicycle_is_riding__Image__1_Attachment_seed7221463651184874329.txt\n"
     ]
    },
    {
     "name": "stdout",
     "output_type": "stream",
     "text": [
      "processed frame 23, obj_num 2\n",
      "finished\n",
      "Directory already exists: ./pikavideos/person/masks\n",
      "Directory already exists: ./pikavideos/person/mask_video\n",
      "Directory already exists: ./pikavideos/person/mask_gif\n",
      "final text_encoder_type: bert-base-uncased\n",
      "Model loaded from ./ckpt/groundingdino_swint_ogc.pth \n",
      " => _IncompatibleKeys(missing_keys=[], unexpected_keys=['label_enc.weight', 'bert.embeddings.position_ids'])\n",
      "SegTracker has been initialized\n",
      "processed frame 22, obj_num 0\r"
     ]
    },
    {
     "name": "stderr",
     "output_type": "stream",
     "text": [
      "Num: 168, count for 'person': 0.0, prompt: @Totaro liked a video of @shantanu. (Prompt: Create Person plants dollar bills in a flowerpot, puzzled expression, expecting money sprout. Humorous and vivid  -gs5 -motion2  Author: @shantanu), path: /apdcephfs_cq3/share_1290939/shadowcun/evals_dev/pikavideos/prompts/Create_Person_plants_dollar_bills_in_a_flowerpot_puzzled_expression_expecting_money_sprout._Humoro_seed15157622582993118976.txt\n",
      "2023-08-23 19:18:59 Num: 168, count for 'person': 0.0, prompt: @Totaro liked a video of @shantanu. (Prompt: Create Person plants dollar bills in a flowerpot, puzzled expression, expecting money sprout. Humorous and vivid  -gs5 -motion2  Author: @shantanu), path: /apdcephfs_cq3/share_1290939/shadowcun/evals_dev/pikavideos/prompts/Create_Person_plants_dollar_bills_in_a_flowerpot_puzzled_expression_expecting_money_sprout._Humoro_seed15157622582993118976.txt\n"
     ]
    },
    {
     "name": "stdout",
     "output_type": "stream",
     "text": [
      "processed frame 23, obj_num 0\n",
      "finished\n",
      "Directory already exists: ./pikavideos/bear/masks\n",
      "Directory already exists: ./pikavideos/bear/mask_video\n",
      "Directory already exists: ./pikavideos/bear/mask_gif\n",
      "final text_encoder_type: bert-base-uncased\n",
      "Model loaded from ./ckpt/groundingdino_swint_ogc.pth \n",
      " => _IncompatibleKeys(missing_keys=[], unexpected_keys=['label_enc.weight', 'bert.embeddings.position_ids'])\n",
      "SegTracker has been initialized\n",
      "processed frame 22, obj_num 2\r"
     ]
    },
    {
     "name": "stderr",
     "output_type": "stream",
     "text": [
      "Num: 169, count for 'bear': 2.0, prompt: @JetTheGuy liked a video of @casby. (Prompt: teddy bear swimming -motion 2  Author: @casby), path: /apdcephfs_cq3/share_1290939/shadowcun/evals_dev/pikavideos/prompts/teddy_bear_swimming_-motion_2_seed8602817305629476919.txt\n",
      "2023-08-23 19:19:10 Num: 169, count for 'bear': 2.0, prompt: @JetTheGuy liked a video of @casby. (Prompt: teddy bear swimming -motion 2  Author: @casby), path: /apdcephfs_cq3/share_1290939/shadowcun/evals_dev/pikavideos/prompts/teddy_bear_swimming_-motion_2_seed8602817305629476919.txt\n"
     ]
    },
    {
     "name": "stdout",
     "output_type": "stream",
     "text": [
      "processed frame 23, obj_num 2\n",
      "finished\n",
      "Directory already exists: ./pikavideos/teddy bear/masks\n",
      "Directory already exists: ./pikavideos/teddy bear/mask_video\n",
      "Directory already exists: ./pikavideos/teddy bear/mask_gif\n",
      "final text_encoder_type: bert-base-uncased\n",
      "Model loaded from ./ckpt/groundingdino_swint_ogc.pth \n",
      " => _IncompatibleKeys(missing_keys=[], unexpected_keys=['label_enc.weight', 'bert.embeddings.position_ids'])\n",
      "SegTracker has been initialized\n",
      "processed frame 22, obj_num 2\r"
     ]
    },
    {
     "name": "stderr",
     "output_type": "stream",
     "text": [
      "Num: 170, count for 'teddy bear': 2.0, prompt: @JetTheGuy liked a video of @casby. (Prompt: teddy bear swimming -motion 2  Author: @casby), path: /apdcephfs_cq3/share_1290939/shadowcun/evals_dev/pikavideos/prompts/teddy_bear_swimming_-motion_2_seed8602817305629476919.txt\n",
      "2023-08-23 19:19:21 Num: 170, count for 'teddy bear': 2.0, prompt: @JetTheGuy liked a video of @casby. (Prompt: teddy bear swimming -motion 2  Author: @casby), path: /apdcephfs_cq3/share_1290939/shadowcun/evals_dev/pikavideos/prompts/teddy_bear_swimming_-motion_2_seed8602817305629476919.txt\n"
     ]
    },
    {
     "name": "stdout",
     "output_type": "stream",
     "text": [
      "processed frame 23, obj_num 2\n",
      "finished\n",
      "Directory already exists: ./pikavideos/car/masks\n",
      "Directory already exists: ./pikavideos/car/mask_video\n",
      "Directory already exists: ./pikavideos/car/mask_gif\n",
      "final text_encoder_type: bert-base-uncased\n",
      "Model loaded from ./ckpt/groundingdino_swint_ogc.pth \n",
      " => _IncompatibleKeys(missing_keys=[], unexpected_keys=['label_enc.weight', 'bert.embeddings.position_ids'])\n",
      "SegTracker has been initialized\n",
      "processed frame 22, obj_num 1\r"
     ]
    },
    {
     "name": "stderr",
     "output_type": "stream",
     "text": [
      "Num: 171, count for 'car': 1.0, prompt: @jiro Prompt: car is running, car explosions, cinematic  Author: @jiro, path: /apdcephfs_cq3/share_1290939/shadowcun/evals_dev/pikavideos/prompts/car_is_running_car_explosions_cinematic_seed6537910881629723043.txt\n",
      "2023-08-23 19:19:39 Num: 171, count for 'car': 1.0, prompt: @jiro Prompt: car is running, car explosions, cinematic  Author: @jiro, path: /apdcephfs_cq3/share_1290939/shadowcun/evals_dev/pikavideos/prompts/car_is_running_car_explosions_cinematic_seed6537910881629723043.txt\n"
     ]
    },
    {
     "name": "stdout",
     "output_type": "stream",
     "text": [
      "processed frame 23, obj_num 1\n",
      "finished\n",
      "Directory already exists: ./pikavideos/horse/masks\n",
      "Directory already exists: ./pikavideos/horse/mask_video\n",
      "Directory already exists: ./pikavideos/horse/mask_gif\n",
      "final text_encoder_type: bert-base-uncased\n",
      "Model loaded from ./ckpt/groundingdino_swint_ogc.pth \n",
      " => _IncompatibleKeys(missing_keys=[], unexpected_keys=['label_enc.weight', 'bert.embeddings.position_ids'])\n",
      "SegTracker has been initialized\n",
      "processed frame 22, obj_num 1\r"
     ]
    },
    {
     "name": "stderr",
     "output_type": "stream",
     "text": [
      "Num: 172, count for 'horse': 1.0, prompt: @Vany Fernández Prompt: horses flying, insanely detailed, 8k render -motion 2  Image: 1 Attachment  Author: @Vany Fernández, path: /apdcephfs_cq3/share_1290939/shadowcun/evals_dev/pikavideos/prompts/horses_flying_insanely_detailed_8k_render_-motion_2__Image__1_Attachment_seed13290128468247721214.txt\n",
      "2023-08-23 19:19:54 Num: 172, count for 'horse': 1.0, prompt: @Vany Fernández Prompt: horses flying, insanely detailed, 8k render -motion 2  Image: 1 Attachment  Author: @Vany Fernández, path: /apdcephfs_cq3/share_1290939/shadowcun/evals_dev/pikavideos/prompts/horses_flying_insanely_detailed_8k_render_-motion_2__Image__1_Attachment_seed13290128468247721214.txt\n"
     ]
    },
    {
     "name": "stdout",
     "output_type": "stream",
     "text": [
      "processed frame 23, obj_num 1\n",
      "finished\n",
      "Directory already exists: ./pikavideos/bear/masks\n",
      "Directory already exists: ./pikavideos/bear/mask_video\n",
      "Directory already exists: ./pikavideos/bear/mask_gif\n",
      "final text_encoder_type: bert-base-uncased\n"
     ]
    },
    {
     "name": "stderr",
     "output_type": "stream",
     "text": [
      "'(ReadTimeoutError(\"HTTPSConnectionPool(host='huggingface.co', port=443): Read timed out. (read timeout=10)\"), '(Request ID: c6ddc0f8-be92-4555-b980-0fdb62081997)')' thrown while requesting HEAD https://huggingface.co/bert-base-uncased/resolve/main/tokenizer_config.json\n",
      "'(ReadTimeoutError(\"HTTPSConnectionPool(host='huggingface.co', port=443): Read timed out. (read timeout=10)\"), '(Request ID: c6ddc0f8-be92-4555-b980-0fdb62081997)')' thrown while requesting HEAD https://huggingface.co/bert-base-uncased/resolve/main/tokenizer_config.json\n",
      "2023-08-23 19:20:06 '(ReadTimeoutError(\"HTTPSConnectionPool(host='huggingface.co', port=443): Read timed out. (read timeout=10)\"), '(Request ID: c6ddc0f8-be92-4555-b980-0fdb62081997)')' thrown while requesting HEAD https://huggingface.co/bert-base-uncased/resolve/main/tokenizer_config.json\n",
      "'(ReadTimeoutError(\"HTTPSConnectionPool(host='huggingface.co', port=443): Read timed out. (read timeout=10)\"), '(Request ID: 30f2360a-194c-45bc-8d9b-51a81b236033)')' thrown while requesting HEAD https://huggingface.co/bert-base-uncased/resolve/main/config.json\n",
      "'(ReadTimeoutError(\"HTTPSConnectionPool(host='huggingface.co', port=443): Read timed out. (read timeout=10)\"), '(Request ID: 30f2360a-194c-45bc-8d9b-51a81b236033)')' thrown while requesting HEAD https://huggingface.co/bert-base-uncased/resolve/main/config.json\n",
      "2023-08-23 19:20:17 '(ReadTimeoutError(\"HTTPSConnectionPool(host='huggingface.co', port=443): Read timed out. (read timeout=10)\"), '(Request ID: 30f2360a-194c-45bc-8d9b-51a81b236033)')' thrown while requesting HEAD https://huggingface.co/bert-base-uncased/resolve/main/config.json\n"
     ]
    },
    {
     "name": "stdout",
     "output_type": "stream",
     "text": [
      "Model loaded from ./ckpt/groundingdino_swint_ogc.pth \n",
      " => _IncompatibleKeys(missing_keys=[], unexpected_keys=['label_enc.weight', 'bert.embeddings.position_ids'])\n",
      "SegTracker has been initialized\n",
      "processed frame 22, obj_num 1\r"
     ]
    },
    {
     "name": "stderr",
     "output_type": "stream",
     "text": [
      "Num: 173, count for 'bear': 1.0, prompt: @гулящь Prompt: neon, cyberpunk bear commander  Author: @гулящь, path: /apdcephfs_cq3/share_1290939/shadowcun/evals_dev/pikavideos/prompts/neon_cyberpunk_bear_commander_seed13144080613008654667.txt\n",
      "2023-08-23 19:20:24 Num: 173, count for 'bear': 1.0, prompt: @гулящь Prompt: neon, cyberpunk bear commander  Author: @гулящь, path: /apdcephfs_cq3/share_1290939/shadowcun/evals_dev/pikavideos/prompts/neon_cyberpunk_bear_commander_seed13144080613008654667.txt\n"
     ]
    },
    {
     "name": "stdout",
     "output_type": "stream",
     "text": [
      "processed frame 23, obj_num 1\n",
      "finished\n",
      "Directory already exists: ./pikavideos/chair/masks\n",
      "Directory already exists: ./pikavideos/chair/mask_video\n",
      "Directory already exists: ./pikavideos/chair/mask_gif\n",
      "final text_encoder_type: bert-base-uncased\n"
     ]
    },
    {
     "name": "stderr",
     "output_type": "stream",
     "text": [
      "'(ReadTimeoutError(\"HTTPSConnectionPool(host='huggingface.co', port=443): Read timed out. (read timeout=10)\"), '(Request ID: 1fb1830e-070c-42c6-b417-2d6a064cfe6c)')' thrown while requesting HEAD https://huggingface.co/bert-base-uncased/resolve/main/tokenizer_config.json\n",
      "'(ReadTimeoutError(\"HTTPSConnectionPool(host='huggingface.co', port=443): Read timed out. (read timeout=10)\"), '(Request ID: 1fb1830e-070c-42c6-b417-2d6a064cfe6c)')' thrown while requesting HEAD https://huggingface.co/bert-base-uncased/resolve/main/tokenizer_config.json\n",
      "2023-08-23 19:20:37 '(ReadTimeoutError(\"HTTPSConnectionPool(host='huggingface.co', port=443): Read timed out. (read timeout=10)\"), '(Request ID: 1fb1830e-070c-42c6-b417-2d6a064cfe6c)')' thrown while requesting HEAD https://huggingface.co/bert-base-uncased/resolve/main/tokenizer_config.json\n",
      "'(ReadTimeoutError(\"HTTPSConnectionPool(host='huggingface.co', port=443): Read timed out. (read timeout=10)\"), '(Request ID: 154788b0-5152-4d2d-b962-5ad43623587e)')' thrown while requesting HEAD https://huggingface.co/bert-base-uncased/resolve/main/config.json\n",
      "'(ReadTimeoutError(\"HTTPSConnectionPool(host='huggingface.co', port=443): Read timed out. (read timeout=10)\"), '(Request ID: 154788b0-5152-4d2d-b962-5ad43623587e)')' thrown while requesting HEAD https://huggingface.co/bert-base-uncased/resolve/main/config.json\n",
      "2023-08-23 19:20:48 '(ReadTimeoutError(\"HTTPSConnectionPool(host='huggingface.co', port=443): Read timed out. (read timeout=10)\"), '(Request ID: 154788b0-5152-4d2d-b962-5ad43623587e)')' thrown while requesting HEAD https://huggingface.co/bert-base-uncased/resolve/main/config.json\n"
     ]
    },
    {
     "name": "stdout",
     "output_type": "stream",
     "text": [
      "Model loaded from ./ckpt/groundingdino_swint_ogc.pth \n",
      " => _IncompatibleKeys(missing_keys=[], unexpected_keys=['label_enc.weight', 'bert.embeddings.position_ids'])\n",
      "SegTracker has been initialized\n",
      "processed frame 22, obj_num 1\r"
     ]
    },
    {
     "name": "stderr",
     "output_type": "stream",
     "text": [
      "Num: 174, count for 'chair': 1.0, prompt: @proyectohunabku Prompt: A beautiful mexica woman wearing a prehispanic dress sitting on a chair for a magazine photo shoot facing the camera, full body shot, 4k uhd, photorealistic, detailed, -ar 4:5 -motion 4  Author: @proyectohunabku, path: /apdcephfs_cq3/share_1290939/shadowcun/evals_dev/pikavideos/prompts/A_beautiful_mexica_woman_wearing_a_prehispanic_dress_sitting_on_a_chair_for_a_magazine_photo_shoot_f_seed13255353232898386948.txt\n",
      "2023-08-23 19:20:57 Num: 174, count for 'chair': 1.0, prompt: @proyectohunabku Prompt: A beautiful mexica woman wearing a prehispanic dress sitting on a chair for a magazine photo shoot facing the camera, full body shot, 4k uhd, photorealistic, detailed, -ar 4:5 -motion 4  Author: @proyectohunabku, path: /apdcephfs_cq3/share_1290939/shadowcun/evals_dev/pikavideos/prompts/A_beautiful_mexica_woman_wearing_a_prehispanic_dress_sitting_on_a_chair_for_a_magazine_photo_shoot_f_seed13255353232898386948.txt\n"
     ]
    },
    {
     "name": "stdout",
     "output_type": "stream",
     "text": [
      "processed frame 23, obj_num 1\n",
      "finished\n",
      "Directory already exists: ./pikavideos/bed/masks\n",
      "Directory already exists: ./pikavideos/bed/mask_video\n",
      "Directory already exists: ./pikavideos/bed/mask_gif\n",
      "final text_encoder_type: bert-base-uncased\n"
     ]
    },
    {
     "name": "stderr",
     "output_type": "stream",
     "text": [
      "'(ReadTimeoutError(\"HTTPSConnectionPool(host='huggingface.co', port=443): Read timed out. (read timeout=10)\"), '(Request ID: 1763d36f-b568-4111-a213-f533c7259fc5)')' thrown while requesting HEAD https://huggingface.co/bert-base-uncased/resolve/main/tokenizer_config.json\n",
      "'(ReadTimeoutError(\"HTTPSConnectionPool(host='huggingface.co', port=443): Read timed out. (read timeout=10)\"), '(Request ID: 1763d36f-b568-4111-a213-f533c7259fc5)')' thrown while requesting HEAD https://huggingface.co/bert-base-uncased/resolve/main/tokenizer_config.json\n",
      "2023-08-23 19:21:09 '(ReadTimeoutError(\"HTTPSConnectionPool(host='huggingface.co', port=443): Read timed out. (read timeout=10)\"), '(Request ID: 1763d36f-b568-4111-a213-f533c7259fc5)')' thrown while requesting HEAD https://huggingface.co/bert-base-uncased/resolve/main/tokenizer_config.json\n",
      "'(ReadTimeoutError(\"HTTPSConnectionPool(host='huggingface.co', port=443): Read timed out. (read timeout=10)\"), '(Request ID: 1ab74139-b90f-48cc-8e4e-cd343597a6b7)')' thrown while requesting HEAD https://huggingface.co/bert-base-uncased/resolve/main/config.json\n",
      "'(ReadTimeoutError(\"HTTPSConnectionPool(host='huggingface.co', port=443): Read timed out. (read timeout=10)\"), '(Request ID: 1ab74139-b90f-48cc-8e4e-cd343597a6b7)')' thrown while requesting HEAD https://huggingface.co/bert-base-uncased/resolve/main/config.json\n",
      "2023-08-23 19:21:20 '(ReadTimeoutError(\"HTTPSConnectionPool(host='huggingface.co', port=443): Read timed out. (read timeout=10)\"), '(Request ID: 1ab74139-b90f-48cc-8e4e-cd343597a6b7)')' thrown while requesting HEAD https://huggingface.co/bert-base-uncased/resolve/main/config.json\n"
     ]
    },
    {
     "name": "stdout",
     "output_type": "stream",
     "text": [
      "Model loaded from ./ckpt/groundingdino_swint_ogc.pth \n",
      " => _IncompatibleKeys(missing_keys=[], unexpected_keys=['label_enc.weight', 'bert.embeddings.position_ids'])\n",
      "SegTracker has been initialized\n",
      "processed frame 22, obj_num 0\r"
     ]
    },
    {
     "name": "stderr",
     "output_type": "stream",
     "text": [
      "Num: 174, count for 'bed': 0.0, prompt: @snakeking Prompt: Disney animation. A cartoon alien humanoid moth sleeping in his bed in his cave home  Author: @snakeking (edited), path: /apdcephfs_cq3/share_1290939/shadowcun/evals_dev/pikavideos/prompts/Disney_animation._A_cartoon_alien_humanoid_moth_sleeping_in_his_bed_in_his_cave_home.txt\n",
      "2023-08-23 19:21:27 Num: 174, count for 'bed': 0.0, prompt: @snakeking Prompt: Disney animation. A cartoon alien humanoid moth sleeping in his bed in his cave home  Author: @snakeking (edited), path: /apdcephfs_cq3/share_1290939/shadowcun/evals_dev/pikavideos/prompts/Disney_animation._A_cartoon_alien_humanoid_moth_sleeping_in_his_bed_in_his_cave_home.txt\n"
     ]
    },
    {
     "name": "stdout",
     "output_type": "stream",
     "text": [
      "processed frame 23, obj_num 0\n",
      "finished\n",
      "Directory already exists: ./pikavideos/bed/masks\n",
      "Directory already exists: ./pikavideos/bed/mask_video\n",
      "Directory already exists: ./pikavideos/bed/mask_gif\n",
      "final text_encoder_type: bert-base-uncased\n"
     ]
    },
    {
     "name": "stderr",
     "output_type": "stream",
     "text": [
      "'(ReadTimeoutError(\"HTTPSConnectionPool(host='huggingface.co', port=443): Read timed out. (read timeout=10)\"), '(Request ID: 33e4ad13-043d-4878-b194-4e342f1e253f)')' thrown while requesting HEAD https://huggingface.co/bert-base-uncased/resolve/main/tokenizer_config.json\n",
      "'(ReadTimeoutError(\"HTTPSConnectionPool(host='huggingface.co', port=443): Read timed out. (read timeout=10)\"), '(Request ID: 33e4ad13-043d-4878-b194-4e342f1e253f)')' thrown while requesting HEAD https://huggingface.co/bert-base-uncased/resolve/main/tokenizer_config.json\n",
      "2023-08-23 19:21:40 '(ReadTimeoutError(\"HTTPSConnectionPool(host='huggingface.co', port=443): Read timed out. (read timeout=10)\"), '(Request ID: 33e4ad13-043d-4878-b194-4e342f1e253f)')' thrown while requesting HEAD https://huggingface.co/bert-base-uncased/resolve/main/tokenizer_config.json\n",
      "'(ReadTimeoutError(\"HTTPSConnectionPool(host='huggingface.co', port=443): Read timed out. (read timeout=10)\"), '(Request ID: 5a2811c4-9b8f-4bc5-98e1-ff571b778ecd)')' thrown while requesting HEAD https://huggingface.co/bert-base-uncased/resolve/main/config.json\n",
      "'(ReadTimeoutError(\"HTTPSConnectionPool(host='huggingface.co', port=443): Read timed out. (read timeout=10)\"), '(Request ID: 5a2811c4-9b8f-4bc5-98e1-ff571b778ecd)')' thrown while requesting HEAD https://huggingface.co/bert-base-uncased/resolve/main/config.json\n",
      "2023-08-23 19:21:50 '(ReadTimeoutError(\"HTTPSConnectionPool(host='huggingface.co', port=443): Read timed out. (read timeout=10)\"), '(Request ID: 5a2811c4-9b8f-4bc5-98e1-ff571b778ecd)')' thrown while requesting HEAD https://huggingface.co/bert-base-uncased/resolve/main/config.json\n"
     ]
    },
    {
     "name": "stdout",
     "output_type": "stream",
     "text": [
      "Model loaded from ./ckpt/groundingdino_swint_ogc.pth \n",
      " => _IncompatibleKeys(missing_keys=[], unexpected_keys=['label_enc.weight', 'bert.embeddings.position_ids'])\n",
      "SegTracker has been initialized\n",
      "processed frame 22, obj_num 0\r"
     ]
    },
    {
     "name": "stderr",
     "output_type": "stream",
     "text": [
      "Num: 174, count for 'bed': 0.0, prompt: Pika BOT 07/28/2023 4:36 PM@Ben Prompt: girl jumps to another galaxy from her bed 6 seconds video  Author: @Ben, path: /apdcephfs_cq3/share_1290939/shadowcun/evals_dev/pikavideos/prompts/girl_jumps_to_another_galaxy_from_her_bed_6_seconds_video_seed10481171967626022846.txt\n",
      "2023-08-23 19:21:57 Num: 174, count for 'bed': 0.0, prompt: Pika BOT 07/28/2023 4:36 PM@Ben Prompt: girl jumps to another galaxy from her bed 6 seconds video  Author: @Ben, path: /apdcephfs_cq3/share_1290939/shadowcun/evals_dev/pikavideos/prompts/girl_jumps_to_another_galaxy_from_her_bed_6_seconds_video_seed10481171967626022846.txt\n"
     ]
    },
    {
     "name": "stdout",
     "output_type": "stream",
     "text": [
      "processed frame 23, obj_num 0\n",
      "finished\n",
      "Directory already exists: ./pikavideos/boat/masks\n",
      "Directory already exists: ./pikavideos/boat/mask_video\n",
      "Directory already exists: ./pikavideos/boat/mask_gif\n",
      "final text_encoder_type: bert-base-uncased\n"
     ]
    },
    {
     "name": "stderr",
     "output_type": "stream",
     "text": [
      "'(ReadTimeoutError(\"HTTPSConnectionPool(host='huggingface.co', port=443): Read timed out. (read timeout=10)\"), '(Request ID: 0a876c3e-a2c3-4850-9e0f-8a56b6e359d6)')' thrown while requesting HEAD https://huggingface.co/bert-base-uncased/resolve/main/tokenizer_config.json\n",
      "'(ReadTimeoutError(\"HTTPSConnectionPool(host='huggingface.co', port=443): Read timed out. (read timeout=10)\"), '(Request ID: 0a876c3e-a2c3-4850-9e0f-8a56b6e359d6)')' thrown while requesting HEAD https://huggingface.co/bert-base-uncased/resolve/main/tokenizer_config.json\n",
      "2023-08-23 19:22:14 '(ReadTimeoutError(\"HTTPSConnectionPool(host='huggingface.co', port=443): Read timed out. (read timeout=10)\"), '(Request ID: 0a876c3e-a2c3-4850-9e0f-8a56b6e359d6)')' thrown while requesting HEAD https://huggingface.co/bert-base-uncased/resolve/main/tokenizer_config.json\n",
      "'(ReadTimeoutError(\"HTTPSConnectionPool(host='huggingface.co', port=443): Read timed out. (read timeout=10)\"), '(Request ID: 85bb2467-3fc3-4d47-b54e-e5f8367d5d8f)')' thrown while requesting HEAD https://huggingface.co/bert-base-uncased/resolve/main/config.json\n",
      "'(ReadTimeoutError(\"HTTPSConnectionPool(host='huggingface.co', port=443): Read timed out. (read timeout=10)\"), '(Request ID: 85bb2467-3fc3-4d47-b54e-e5f8367d5d8f)')' thrown while requesting HEAD https://huggingface.co/bert-base-uncased/resolve/main/config.json\n",
      "2023-08-23 19:22:24 '(ReadTimeoutError(\"HTTPSConnectionPool(host='huggingface.co', port=443): Read timed out. (read timeout=10)\"), '(Request ID: 85bb2467-3fc3-4d47-b54e-e5f8367d5d8f)')' thrown while requesting HEAD https://huggingface.co/bert-base-uncased/resolve/main/config.json\n"
     ]
    },
    {
     "name": "stdout",
     "output_type": "stream",
     "text": [
      "Model loaded from ./ckpt/groundingdino_swint_ogc.pth \n",
      " => _IncompatibleKeys(missing_keys=[], unexpected_keys=['label_enc.weight', 'bert.embeddings.position_ids'])\n",
      "SegTracker has been initialized\n",
      "processed frame 22, obj_num 1\r"
     ]
    },
    {
     "name": "stderr",
     "output_type": "stream",
     "text": [
      "Num: 175, count for 'boat': 1.0, prompt: @Mishaaa Prompt: boatwomen in the gorges of the tarn in the south of france transporting sheep in a boat on the river, 1950, black and white, old photo, old postcard  Author: @Mishaaa, path: /apdcephfs_cq3/share_1290939/shadowcun/evals_dev/pikavideos/prompts/boatwomen_in_the_gorges_of_the_tarn_in_the_south_of_france_transporting_sheep_in_a_boat_on_the_river_seed14038676368621600599.txt\n",
      "2023-08-23 19:22:32 Num: 175, count for 'boat': 1.0, prompt: @Mishaaa Prompt: boatwomen in the gorges of the tarn in the south of france transporting sheep in a boat on the river, 1950, black and white, old photo, old postcard  Author: @Mishaaa, path: /apdcephfs_cq3/share_1290939/shadowcun/evals_dev/pikavideos/prompts/boatwomen_in_the_gorges_of_the_tarn_in_the_south_of_france_transporting_sheep_in_a_boat_on_the_river_seed14038676368621600599.txt\n"
     ]
    },
    {
     "name": "stdout",
     "output_type": "stream",
     "text": [
      "processed frame 23, obj_num 1\n",
      "finished\n",
      "Directory already exists: ./pikavideos/sheep/masks\n",
      "Directory already exists: ./pikavideos/sheep/mask_video\n",
      "Directory already exists: ./pikavideos/sheep/mask_gif\n",
      "final text_encoder_type: bert-base-uncased\n"
     ]
    },
    {
     "name": "stderr",
     "output_type": "stream",
     "text": [
      "'(ReadTimeoutError(\"HTTPSConnectionPool(host='huggingface.co', port=443): Read timed out. (read timeout=10)\"), '(Request ID: edc46506-da15-4a7e-8ee7-8ede1afcc075)')' thrown while requesting HEAD https://huggingface.co/bert-base-uncased/resolve/main/tokenizer_config.json\n",
      "'(ReadTimeoutError(\"HTTPSConnectionPool(host='huggingface.co', port=443): Read timed out. (read timeout=10)\"), '(Request ID: edc46506-da15-4a7e-8ee7-8ede1afcc075)')' thrown while requesting HEAD https://huggingface.co/bert-base-uncased/resolve/main/tokenizer_config.json\n",
      "2023-08-23 19:22:44 '(ReadTimeoutError(\"HTTPSConnectionPool(host='huggingface.co', port=443): Read timed out. (read timeout=10)\"), '(Request ID: edc46506-da15-4a7e-8ee7-8ede1afcc075)')' thrown while requesting HEAD https://huggingface.co/bert-base-uncased/resolve/main/tokenizer_config.json\n",
      "'(ReadTimeoutError(\"HTTPSConnectionPool(host='huggingface.co', port=443): Read timed out. (read timeout=10)\"), '(Request ID: 9de3e7d5-a88a-4a4f-be21-541e9ac33d3e)')' thrown while requesting HEAD https://huggingface.co/bert-base-uncased/resolve/main/config.json\n",
      "'(ReadTimeoutError(\"HTTPSConnectionPool(host='huggingface.co', port=443): Read timed out. (read timeout=10)\"), '(Request ID: 9de3e7d5-a88a-4a4f-be21-541e9ac33d3e)')' thrown while requesting HEAD https://huggingface.co/bert-base-uncased/resolve/main/config.json\n",
      "2023-08-23 19:22:54 '(ReadTimeoutError(\"HTTPSConnectionPool(host='huggingface.co', port=443): Read timed out. (read timeout=10)\"), '(Request ID: 9de3e7d5-a88a-4a4f-be21-541e9ac33d3e)')' thrown while requesting HEAD https://huggingface.co/bert-base-uncased/resolve/main/config.json\n"
     ]
    },
    {
     "name": "stdout",
     "output_type": "stream",
     "text": [
      "Model loaded from ./ckpt/groundingdino_swint_ogc.pth \n",
      " => _IncompatibleKeys(missing_keys=[], unexpected_keys=['label_enc.weight', 'bert.embeddings.position_ids'])\n",
      "SegTracker has been initialized\n",
      "processed frame 22, obj_num 0\r"
     ]
    },
    {
     "name": "stderr",
     "output_type": "stream",
     "text": [
      "Num: 175, count for 'sheep': 0.0, prompt: @Mishaaa Prompt: boatwomen in the gorges of the tarn in the south of france transporting sheep in a boat on the river, 1950, black and white, old photo, old postcard  Author: @Mishaaa, path: /apdcephfs_cq3/share_1290939/shadowcun/evals_dev/pikavideos/prompts/boatwomen_in_the_gorges_of_the_tarn_in_the_south_of_france_transporting_sheep_in_a_boat_on_the_river_seed14038676368621600599.txt\n",
      "2023-08-23 19:23:02 Num: 175, count for 'sheep': 0.0, prompt: @Mishaaa Prompt: boatwomen in the gorges of the tarn in the south of france transporting sheep in a boat on the river, 1950, black and white, old photo, old postcard  Author: @Mishaaa, path: /apdcephfs_cq3/share_1290939/shadowcun/evals_dev/pikavideos/prompts/boatwomen_in_the_gorges_of_the_tarn_in_the_south_of_france_transporting_sheep_in_a_boat_on_the_river_seed14038676368621600599.txt\n"
     ]
    },
    {
     "name": "stdout",
     "output_type": "stream",
     "text": [
      "processed frame 23, obj_num 0\n",
      "finished\n",
      "Directory already exists: ./pikavideos/tv/masks\n",
      "Directory already exists: ./pikavideos/tv/mask_video\n",
      "Directory already exists: ./pikavideos/tv/mask_gif\n",
      "final text_encoder_type: bert-base-uncased\n"
     ]
    },
    {
     "name": "stderr",
     "output_type": "stream",
     "text": [
      "'(ReadTimeoutError(\"HTTPSConnectionPool(host='huggingface.co', port=443): Read timed out. (read timeout=10)\"), '(Request ID: bfbc7694-6457-4b41-b229-1ab66d26b692)')' thrown while requesting HEAD https://huggingface.co/bert-base-uncased/resolve/main/tokenizer_config.json\n",
      "'(ReadTimeoutError(\"HTTPSConnectionPool(host='huggingface.co', port=443): Read timed out. (read timeout=10)\"), '(Request ID: bfbc7694-6457-4b41-b229-1ab66d26b692)')' thrown while requesting HEAD https://huggingface.co/bert-base-uncased/resolve/main/tokenizer_config.json\n",
      "2023-08-23 19:23:15 '(ReadTimeoutError(\"HTTPSConnectionPool(host='huggingface.co', port=443): Read timed out. (read timeout=10)\"), '(Request ID: bfbc7694-6457-4b41-b229-1ab66d26b692)')' thrown while requesting HEAD https://huggingface.co/bert-base-uncased/resolve/main/tokenizer_config.json\n",
      "'(ReadTimeoutError(\"HTTPSConnectionPool(host='huggingface.co', port=443): Read timed out. (read timeout=10)\"), '(Request ID: c53f369b-e970-427d-8ccb-6c5247cacc9b)')' thrown while requesting HEAD https://huggingface.co/bert-base-uncased/resolve/main/config.json\n",
      "'(ReadTimeoutError(\"HTTPSConnectionPool(host='huggingface.co', port=443): Read timed out. (read timeout=10)\"), '(Request ID: c53f369b-e970-427d-8ccb-6c5247cacc9b)')' thrown while requesting HEAD https://huggingface.co/bert-base-uncased/resolve/main/config.json\n",
      "2023-08-23 19:23:25 '(ReadTimeoutError(\"HTTPSConnectionPool(host='huggingface.co', port=443): Read timed out. (read timeout=10)\"), '(Request ID: c53f369b-e970-427d-8ccb-6c5247cacc9b)')' thrown while requesting HEAD https://huggingface.co/bert-base-uncased/resolve/main/config.json\n"
     ]
    },
    {
     "name": "stdout",
     "output_type": "stream",
     "text": [
      "Model loaded from ./ckpt/groundingdino_swint_ogc.pth \n",
      " => _IncompatibleKeys(missing_keys=[], unexpected_keys=['label_enc.weight', 'bert.embeddings.position_ids'])\n",
      "SegTracker has been initialized\n",
      "processed frame 22, obj_num 1\r"
     ]
    },
    {
     "name": "stderr",
     "output_type": "stream",
     "text": [
      "Num: 176, count for 'tv': 1.0, prompt: @ランラン-ᛒᛚᚢᛒ Prompt: <lora:AnalogDistortion:1>,ronald mcdonald laughing in side the mcdonalds play place,AnalogDistortion, analog photo  , analog photo, fujifilm, fujicolor, LOMO, nexpo,in the style of 70s-90s dating hotline tv comercial ads lost media  Author: @ランラン-ᛒᛚᚢᛒ, path: /apdcephfs_cq3/share_1290939/shadowcun/evals_dev/pikavideos/prompts/lora_AnalogDistortion_1_ronald_mcdonald_laughing_in_side_the_mcdonalds_play_placeAnalogDistortion_seed1034658208086077328.txt\n",
      "2023-08-23 19:23:33 Num: 176, count for 'tv': 1.0, prompt: @ランラン-ᛒᛚᚢᛒ Prompt: <lora:AnalogDistortion:1>,ronald mcdonald laughing in side the mcdonalds play place,AnalogDistortion, analog photo  , analog photo, fujifilm, fujicolor, LOMO, nexpo,in the style of 70s-90s dating hotline tv comercial ads lost media  Author: @ランラン-ᛒᛚᚢᛒ, path: /apdcephfs_cq3/share_1290939/shadowcun/evals_dev/pikavideos/prompts/lora_AnalogDistortion_1_ronald_mcdonald_laughing_in_side_the_mcdonalds_play_placeAnalogDistortion_seed1034658208086077328.txt\n"
     ]
    },
    {
     "name": "stdout",
     "output_type": "stream",
     "text": [
      "processed frame 23, obj_num 1\n",
      "finished\n",
      "Directory already exists: ./pikavideos/cat/masks\n",
      "Directory already exists: ./pikavideos/cat/mask_video\n",
      "Directory already exists: ./pikavideos/cat/mask_gif\n",
      "final text_encoder_type: bert-base-uncased\n"
     ]
    },
    {
     "name": "stderr",
     "output_type": "stream",
     "text": [
      "'(ReadTimeoutError(\"HTTPSConnectionPool(host='huggingface.co', port=443): Read timed out. (read timeout=10)\"), '(Request ID: 8750f46e-74d0-4a75-a250-d4c5aeed524b)')' thrown while requesting HEAD https://huggingface.co/bert-base-uncased/resolve/main/tokenizer_config.json\n",
      "'(ReadTimeoutError(\"HTTPSConnectionPool(host='huggingface.co', port=443): Read timed out. (read timeout=10)\"), '(Request ID: 8750f46e-74d0-4a75-a250-d4c5aeed524b)')' thrown while requesting HEAD https://huggingface.co/bert-base-uncased/resolve/main/tokenizer_config.json\n",
      "2023-08-23 19:23:46 '(ReadTimeoutError(\"HTTPSConnectionPool(host='huggingface.co', port=443): Read timed out. (read timeout=10)\"), '(Request ID: 8750f46e-74d0-4a75-a250-d4c5aeed524b)')' thrown while requesting HEAD https://huggingface.co/bert-base-uncased/resolve/main/tokenizer_config.json\n",
      "'(ReadTimeoutError(\"HTTPSConnectionPool(host='huggingface.co', port=443): Read timed out. (read timeout=10)\"), '(Request ID: d9b840ed-ca46-431a-83f8-165f9f7000be)')' thrown while requesting HEAD https://huggingface.co/bert-base-uncased/resolve/main/config.json\n",
      "'(ReadTimeoutError(\"HTTPSConnectionPool(host='huggingface.co', port=443): Read timed out. (read timeout=10)\"), '(Request ID: d9b840ed-ca46-431a-83f8-165f9f7000be)')' thrown while requesting HEAD https://huggingface.co/bert-base-uncased/resolve/main/config.json\n",
      "2023-08-23 19:23:56 '(ReadTimeoutError(\"HTTPSConnectionPool(host='huggingface.co', port=443): Read timed out. (read timeout=10)\"), '(Request ID: d9b840ed-ca46-431a-83f8-165f9f7000be)')' thrown while requesting HEAD https://huggingface.co/bert-base-uncased/resolve/main/config.json\n"
     ]
    },
    {
     "name": "stdout",
     "output_type": "stream",
     "text": [
      "Model loaded from ./ckpt/groundingdino_swint_ogc.pth \n",
      " => _IncompatibleKeys(missing_keys=[], unexpected_keys=['label_enc.weight', 'bert.embeddings.position_ids'])\n",
      "SegTracker has been initialized\n",
      "processed frame 22, obj_num 1\r"
     ]
    },
    {
     "name": "stderr",
     "output_type": "stream",
     "text": [
      "Num: 177, count for 'cat': 1.0, prompt: @caihe Prompt: Movie shot, blue eyed white cat silhouette, autumn season, wind blowing maple leaves falling, wind blowing fur, 4k  Author: @caihe, path: /apdcephfs_cq3/share_1290939/shadowcun/evals_dev/pikavideos/prompts/Movie_shot_blue_eyed_white_cat_silhouette_autumn_season_wind_blowing_maple_leaves_falling_wind_b_seed11655611411805461375.txt\n",
      "2023-08-23 19:24:03 Num: 177, count for 'cat': 1.0, prompt: @caihe Prompt: Movie shot, blue eyed white cat silhouette, autumn season, wind blowing maple leaves falling, wind blowing fur, 4k  Author: @caihe, path: /apdcephfs_cq3/share_1290939/shadowcun/evals_dev/pikavideos/prompts/Movie_shot_blue_eyed_white_cat_silhouette_autumn_season_wind_blowing_maple_leaves_falling_wind_b_seed11655611411805461375.txt\n"
     ]
    },
    {
     "name": "stdout",
     "output_type": "stream",
     "text": [
      "processed frame 23, obj_num 1\n",
      "finished\n",
      "Directory already exists: ./pikavideos/bird/masks\n",
      "Directory already exists: ./pikavideos/bird/mask_video\n",
      "Directory already exists: ./pikavideos/bird/mask_gif\n",
      "final text_encoder_type: bert-base-uncased\n"
     ]
    },
    {
     "name": "stderr",
     "output_type": "stream",
     "text": [
      "'(ReadTimeoutError(\"HTTPSConnectionPool(host='huggingface.co', port=443): Read timed out. (read timeout=10)\"), '(Request ID: b7083eeb-01ec-4307-9d99-2a291bf5e230)')' thrown while requesting HEAD https://huggingface.co/bert-base-uncased/resolve/main/tokenizer_config.json\n",
      "'(ReadTimeoutError(\"HTTPSConnectionPool(host='huggingface.co', port=443): Read timed out. (read timeout=10)\"), '(Request ID: b7083eeb-01ec-4307-9d99-2a291bf5e230)')' thrown while requesting HEAD https://huggingface.co/bert-base-uncased/resolve/main/tokenizer_config.json\n",
      "2023-08-23 19:24:16 '(ReadTimeoutError(\"HTTPSConnectionPool(host='huggingface.co', port=443): Read timed out. (read timeout=10)\"), '(Request ID: b7083eeb-01ec-4307-9d99-2a291bf5e230)')' thrown while requesting HEAD https://huggingface.co/bert-base-uncased/resolve/main/tokenizer_config.json\n",
      "'(ReadTimeoutError(\"HTTPSConnectionPool(host='huggingface.co', port=443): Read timed out. (read timeout=10)\"), '(Request ID: 4a7c6ac8-b092-4d7c-9173-d842e61ecd41)')' thrown while requesting HEAD https://huggingface.co/bert-base-uncased/resolve/main/config.json\n",
      "'(ReadTimeoutError(\"HTTPSConnectionPool(host='huggingface.co', port=443): Read timed out. (read timeout=10)\"), '(Request ID: 4a7c6ac8-b092-4d7c-9173-d842e61ecd41)')' thrown while requesting HEAD https://huggingface.co/bert-base-uncased/resolve/main/config.json\n",
      "2023-08-23 19:24:27 '(ReadTimeoutError(\"HTTPSConnectionPool(host='huggingface.co', port=443): Read timed out. (read timeout=10)\"), '(Request ID: 4a7c6ac8-b092-4d7c-9173-d842e61ecd41)')' thrown while requesting HEAD https://huggingface.co/bert-base-uncased/resolve/main/config.json\n"
     ]
    },
    {
     "name": "stdout",
     "output_type": "stream",
     "text": [
      "Model loaded from ./ckpt/groundingdino_swint_ogc.pth \n",
      " => _IncompatibleKeys(missing_keys=[], unexpected_keys=['label_enc.weight', 'bert.embeddings.position_ids'])\n",
      "SegTracker has been initialized\n",
      "processed frame 22, obj_num 0\r"
     ]
    },
    {
     "name": "stderr",
     "output_type": "stream",
     "text": [
      "Num: 177, count for 'bird': 0.0, prompt: @Kagan Productions Prompt: an evil woman with wings with black birds flying behind her, lightning stike  Image: 1 Attachment  Author: @Kagan Productions, path: /apdcephfs_cq3/share_1290939/shadowcun/evals_dev/pikavideos/prompts/an_evil_woman_with_wings_with_black_birds_flying_behind_her_lightning_stike__Image__1_Attachment_seed15445532270012254187.txt\n",
      "2023-08-23 19:24:34 Num: 177, count for 'bird': 0.0, prompt: @Kagan Productions Prompt: an evil woman with wings with black birds flying behind her, lightning stike  Image: 1 Attachment  Author: @Kagan Productions, path: /apdcephfs_cq3/share_1290939/shadowcun/evals_dev/pikavideos/prompts/an_evil_woman_with_wings_with_black_birds_flying_behind_her_lightning_stike__Image__1_Attachment_seed15445532270012254187.txt\n"
     ]
    },
    {
     "name": "stdout",
     "output_type": "stream",
     "text": [
      "processed frame 23, obj_num 0\n",
      "finished\n",
      "Directory already exists: ./pikavideos/giraffe/masks\n",
      "Directory already exists: ./pikavideos/giraffe/mask_video\n",
      "Directory already exists: ./pikavideos/giraffe/mask_gif\n",
      "final text_encoder_type: bert-base-uncased\n"
     ]
    },
    {
     "name": "stderr",
     "output_type": "stream",
     "text": [
      "'(ReadTimeoutError(\"HTTPSConnectionPool(host='huggingface.co', port=443): Read timed out. (read timeout=10)\"), '(Request ID: 2f558e02-a017-48fb-ae69-cd54c18c83d0)')' thrown while requesting HEAD https://huggingface.co/bert-base-uncased/resolve/main/tokenizer_config.json\n",
      "'(ReadTimeoutError(\"HTTPSConnectionPool(host='huggingface.co', port=443): Read timed out. (read timeout=10)\"), '(Request ID: 2f558e02-a017-48fb-ae69-cd54c18c83d0)')' thrown while requesting HEAD https://huggingface.co/bert-base-uncased/resolve/main/tokenizer_config.json\n",
      "2023-08-23 19:24:46 '(ReadTimeoutError(\"HTTPSConnectionPool(host='huggingface.co', port=443): Read timed out. (read timeout=10)\"), '(Request ID: 2f558e02-a017-48fb-ae69-cd54c18c83d0)')' thrown while requesting HEAD https://huggingface.co/bert-base-uncased/resolve/main/tokenizer_config.json\n",
      "'(ReadTimeoutError(\"HTTPSConnectionPool(host='huggingface.co', port=443): Read timed out. (read timeout=10)\"), '(Request ID: ff7b952a-9d7a-469c-9653-642a2dacea5e)')' thrown while requesting HEAD https://huggingface.co/bert-base-uncased/resolve/main/config.json\n",
      "'(ReadTimeoutError(\"HTTPSConnectionPool(host='huggingface.co', port=443): Read timed out. (read timeout=10)\"), '(Request ID: ff7b952a-9d7a-469c-9653-642a2dacea5e)')' thrown while requesting HEAD https://huggingface.co/bert-base-uncased/resolve/main/config.json\n",
      "2023-08-23 19:24:57 '(ReadTimeoutError(\"HTTPSConnectionPool(host='huggingface.co', port=443): Read timed out. (read timeout=10)\"), '(Request ID: ff7b952a-9d7a-469c-9653-642a2dacea5e)')' thrown while requesting HEAD https://huggingface.co/bert-base-uncased/resolve/main/config.json\n"
     ]
    },
    {
     "name": "stdout",
     "output_type": "stream",
     "text": [
      "Model loaded from ./ckpt/groundingdino_swint_ogc.pth \n",
      " => _IncompatibleKeys(missing_keys=[], unexpected_keys=['label_enc.weight', 'bert.embeddings.position_ids'])\n",
      "SegTracker has been initialized\n",
      "processed frame 22, obj_num 1\r"
     ]
    },
    {
     "name": "stderr",
     "output_type": "stream",
     "text": [
      "Num: 178, count for 'giraffe': 1.0, prompt: @radzombie07 Prompt: mutant giraffe  Author: @radzombie07, path: /apdcephfs_cq3/share_1290939/shadowcun/evals_dev/pikavideos/prompts/mutant_giraffe_seed16832558243397464486.txt\n",
      "2023-08-23 19:25:04 Num: 178, count for 'giraffe': 1.0, prompt: @radzombie07 Prompt: mutant giraffe  Author: @radzombie07, path: /apdcephfs_cq3/share_1290939/shadowcun/evals_dev/pikavideos/prompts/mutant_giraffe_seed16832558243397464486.txt\n"
     ]
    },
    {
     "name": "stdout",
     "output_type": "stream",
     "text": [
      "processed frame 23, obj_num 1\n",
      "finished\n",
      "Directory already exists: ./pikavideos/car/masks\n",
      "Directory already exists: ./pikavideos/car/mask_video\n",
      "Directory already exists: ./pikavideos/car/mask_gif\n",
      "final text_encoder_type: bert-base-uncased\n"
     ]
    },
    {
     "name": "stderr",
     "output_type": "stream",
     "text": [
      "'(ReadTimeoutError(\"HTTPSConnectionPool(host='huggingface.co', port=443): Read timed out. (read timeout=10)\"), '(Request ID: aeebdaa1-a600-4084-bc77-9af6d8e986b9)')' thrown while requesting HEAD https://huggingface.co/bert-base-uncased/resolve/main/tokenizer_config.json\n",
      "'(ReadTimeoutError(\"HTTPSConnectionPool(host='huggingface.co', port=443): Read timed out. (read timeout=10)\"), '(Request ID: aeebdaa1-a600-4084-bc77-9af6d8e986b9)')' thrown while requesting HEAD https://huggingface.co/bert-base-uncased/resolve/main/tokenizer_config.json\n",
      "2023-08-23 19:25:18 '(ReadTimeoutError(\"HTTPSConnectionPool(host='huggingface.co', port=443): Read timed out. (read timeout=10)\"), '(Request ID: aeebdaa1-a600-4084-bc77-9af6d8e986b9)')' thrown while requesting HEAD https://huggingface.co/bert-base-uncased/resolve/main/tokenizer_config.json\n",
      "'(ReadTimeoutError(\"HTTPSConnectionPool(host='huggingface.co', port=443): Read timed out. (read timeout=10)\"), '(Request ID: 84bfe250-1bce-4907-a659-c8f4aba7ae37)')' thrown while requesting HEAD https://huggingface.co/bert-base-uncased/resolve/main/config.json\n",
      "'(ReadTimeoutError(\"HTTPSConnectionPool(host='huggingface.co', port=443): Read timed out. (read timeout=10)\"), '(Request ID: 84bfe250-1bce-4907-a659-c8f4aba7ae37)')' thrown while requesting HEAD https://huggingface.co/bert-base-uncased/resolve/main/config.json\n",
      "2023-08-23 19:25:28 '(ReadTimeoutError(\"HTTPSConnectionPool(host='huggingface.co', port=443): Read timed out. (read timeout=10)\"), '(Request ID: 84bfe250-1bce-4907-a659-c8f4aba7ae37)')' thrown while requesting HEAD https://huggingface.co/bert-base-uncased/resolve/main/config.json\n"
     ]
    },
    {
     "name": "stdout",
     "output_type": "stream",
     "text": [
      "Model loaded from ./ckpt/groundingdino_swint_ogc.pth \n",
      " => _IncompatibleKeys(missing_keys=[], unexpected_keys=['label_enc.weight', 'bert.embeddings.position_ids'])\n",
      "SegTracker has been initialized\n",
      "processed frame 22, obj_num 0\r"
     ]
    },
    {
     "name": "stderr",
     "output_type": "stream",
     "text": [
      "Num: 178, count for 'car': 0.0, prompt: @Ameen Prompt: movie shot. 35mm, A sweeping aerial shot of Neo-Velos, gleaming skyscrapers touching the clouds, hovering cars, and Synths assisting humans in various tasks.  Image: 1 Attachment  Author: @Ameen, path: /apdcephfs_cq3/share_1290939/shadowcun/evals_dev/pikavideos/prompts/movie_shot._35mm_A_sweeping_aerial_shot_of_Neo-Velos_gleaming_skyscrapers_touching_the_clouds_hov_seed5262847660850868142.txt\n",
      "2023-08-23 19:25:36 Num: 178, count for 'car': 0.0, prompt: @Ameen Prompt: movie shot. 35mm, A sweeping aerial shot of Neo-Velos, gleaming skyscrapers touching the clouds, hovering cars, and Synths assisting humans in various tasks.  Image: 1 Attachment  Author: @Ameen, path: /apdcephfs_cq3/share_1290939/shadowcun/evals_dev/pikavideos/prompts/movie_shot._35mm_A_sweeping_aerial_shot_of_Neo-Velos_gleaming_skyscrapers_touching_the_clouds_hov_seed5262847660850868142.txt\n"
     ]
    },
    {
     "name": "stdout",
     "output_type": "stream",
     "text": [
      "processed frame 23, obj_num 0\n",
      "finished\n",
      "Directory already exists: ./pikavideos/car/masks\n",
      "Directory already exists: ./pikavideos/car/mask_video\n",
      "Directory already exists: ./pikavideos/car/mask_gif\n",
      "final text_encoder_type: bert-base-uncased\n"
     ]
    },
    {
     "name": "stderr",
     "output_type": "stream",
     "text": [
      "'(ReadTimeoutError(\"HTTPSConnectionPool(host='huggingface.co', port=443): Read timed out. (read timeout=10)\"), '(Request ID: cd29651e-ac91-4b48-afe0-b2d0ea63c461)')' thrown while requesting HEAD https://huggingface.co/bert-base-uncased/resolve/main/tokenizer_config.json\n",
      "'(ReadTimeoutError(\"HTTPSConnectionPool(host='huggingface.co', port=443): Read timed out. (read timeout=10)\"), '(Request ID: cd29651e-ac91-4b48-afe0-b2d0ea63c461)')' thrown while requesting HEAD https://huggingface.co/bert-base-uncased/resolve/main/tokenizer_config.json\n",
      "2023-08-23 19:25:48 '(ReadTimeoutError(\"HTTPSConnectionPool(host='huggingface.co', port=443): Read timed out. (read timeout=10)\"), '(Request ID: cd29651e-ac91-4b48-afe0-b2d0ea63c461)')' thrown while requesting HEAD https://huggingface.co/bert-base-uncased/resolve/main/tokenizer_config.json\n",
      "'(ReadTimeoutError(\"HTTPSConnectionPool(host='huggingface.co', port=443): Read timed out. (read timeout=10)\"), '(Request ID: ee826412-afcd-490d-bc66-a5fed83de1b7)')' thrown while requesting HEAD https://huggingface.co/bert-base-uncased/resolve/main/config.json\n",
      "'(ReadTimeoutError(\"HTTPSConnectionPool(host='huggingface.co', port=443): Read timed out. (read timeout=10)\"), '(Request ID: ee826412-afcd-490d-bc66-a5fed83de1b7)')' thrown while requesting HEAD https://huggingface.co/bert-base-uncased/resolve/main/config.json\n",
      "2023-08-23 19:25:59 '(ReadTimeoutError(\"HTTPSConnectionPool(host='huggingface.co', port=443): Read timed out. (read timeout=10)\"), '(Request ID: ee826412-afcd-490d-bc66-a5fed83de1b7)')' thrown while requesting HEAD https://huggingface.co/bert-base-uncased/resolve/main/config.json\n"
     ]
    },
    {
     "name": "stdout",
     "output_type": "stream",
     "text": [
      "Model loaded from ./ckpt/groundingdino_swint_ogc.pth \n",
      " => _IncompatibleKeys(missing_keys=[], unexpected_keys=['label_enc.weight', 'bert.embeddings.position_ids'])\n",
      "SegTracker has been initialized\n",
      "processed frame 22, obj_num 1\r"
     ]
    },
    {
     "name": "stderr",
     "output_type": "stream",
     "text": [
      "Num: 179, count for 'car': 1.0, prompt: @влатбалымов Prompt: elf is racing in a burning stock car full of manure at night  Author: @влатбалымов, path: /apdcephfs_cq3/share_1290939/shadowcun/evals_dev/pikavideos/prompts/elf_is_racing_in_a_burning_stock_car_full_of_manure_at_night_seed9908087925585611511.txt\n",
      "2023-08-23 19:26:06 Num: 179, count for 'car': 1.0, prompt: @влатбалымов Prompt: elf is racing in a burning stock car full of manure at night  Author: @влатбалымов, path: /apdcephfs_cq3/share_1290939/shadowcun/evals_dev/pikavideos/prompts/elf_is_racing_in_a_burning_stock_car_full_of_manure_at_night_seed9908087925585611511.txt\n"
     ]
    },
    {
     "name": "stdout",
     "output_type": "stream",
     "text": [
      "processed frame 23, obj_num 1\n",
      "finished\n",
      "Directory already exists: ./pikavideos/dog/masks\n",
      "Directory already exists: ./pikavideos/dog/mask_video\n",
      "Directory already exists: ./pikavideos/dog/mask_gif\n",
      "final text_encoder_type: bert-base-uncased\n"
     ]
    },
    {
     "name": "stderr",
     "output_type": "stream",
     "text": [
      "'(ReadTimeoutError(\"HTTPSConnectionPool(host='huggingface.co', port=443): Read timed out. (read timeout=10)\"), '(Request ID: 48fd6851-c8e5-4b28-9de5-e45de5f9af60)')' thrown while requesting HEAD https://huggingface.co/bert-base-uncased/resolve/main/tokenizer_config.json\n",
      "'(ReadTimeoutError(\"HTTPSConnectionPool(host='huggingface.co', port=443): Read timed out. (read timeout=10)\"), '(Request ID: 48fd6851-c8e5-4b28-9de5-e45de5f9af60)')' thrown while requesting HEAD https://huggingface.co/bert-base-uncased/resolve/main/tokenizer_config.json\n",
      "2023-08-23 19:26:19 '(ReadTimeoutError(\"HTTPSConnectionPool(host='huggingface.co', port=443): Read timed out. (read timeout=10)\"), '(Request ID: 48fd6851-c8e5-4b28-9de5-e45de5f9af60)')' thrown while requesting HEAD https://huggingface.co/bert-base-uncased/resolve/main/tokenizer_config.json\n",
      "'(ReadTimeoutError(\"HTTPSConnectionPool(host='huggingface.co', port=443): Read timed out. (read timeout=10)\"), '(Request ID: 4e067abe-084c-40d7-affe-55874f272989)')' thrown while requesting HEAD https://huggingface.co/bert-base-uncased/resolve/main/config.json\n",
      "'(ReadTimeoutError(\"HTTPSConnectionPool(host='huggingface.co', port=443): Read timed out. (read timeout=10)\"), '(Request ID: 4e067abe-084c-40d7-affe-55874f272989)')' thrown while requesting HEAD https://huggingface.co/bert-base-uncased/resolve/main/config.json\n",
      "2023-08-23 19:26:29 '(ReadTimeoutError(\"HTTPSConnectionPool(host='huggingface.co', port=443): Read timed out. (read timeout=10)\"), '(Request ID: 4e067abe-084c-40d7-affe-55874f272989)')' thrown while requesting HEAD https://huggingface.co/bert-base-uncased/resolve/main/config.json\n"
     ]
    },
    {
     "name": "stdout",
     "output_type": "stream",
     "text": [
      "Model loaded from ./ckpt/groundingdino_swint_ogc.pth \n",
      " => _IncompatibleKeys(missing_keys=[], unexpected_keys=['label_enc.weight', 'bert.embeddings.position_ids'])\n",
      "SegTracker has been initialized\n",
      "processed frame 22, obj_num 1\r"
     ]
    },
    {
     "name": "stderr",
     "output_type": "stream",
     "text": [
      "Num: 180, count for 'dog': 1.0, prompt: @o crIAdor Prompt: CREATE REAL DOGS IN SUIT AND TIE WORKING IN THE OFFICE IN 16:9 HD  Author: @o crIAdor, path: /apdcephfs_cq3/share_1290939/shadowcun/evals_dev/pikavideos/prompts/CREATE_REAL_DOGS_IN_SUIT_AND_TIE_WORKING_IN_THE_OFFICE_IN_16_9_HD_seed10298156964639311752.txt\n",
      "2023-08-23 19:26:37 Num: 180, count for 'dog': 1.0, prompt: @o crIAdor Prompt: CREATE REAL DOGS IN SUIT AND TIE WORKING IN THE OFFICE IN 16:9 HD  Author: @o crIAdor, path: /apdcephfs_cq3/share_1290939/shadowcun/evals_dev/pikavideos/prompts/CREATE_REAL_DOGS_IN_SUIT_AND_TIE_WORKING_IN_THE_OFFICE_IN_16_9_HD_seed10298156964639311752.txt\n"
     ]
    },
    {
     "name": "stdout",
     "output_type": "stream",
     "text": [
      "processed frame 23, obj_num 1\n",
      "finished\n",
      "Directory already exists: ./pikavideos/tie/masks\n",
      "Directory already exists: ./pikavideos/tie/mask_video\n",
      "Directory already exists: ./pikavideos/tie/mask_gif\n",
      "final text_encoder_type: bert-base-uncased\n"
     ]
    },
    {
     "name": "stderr",
     "output_type": "stream",
     "text": [
      "'(ReadTimeoutError(\"HTTPSConnectionPool(host='huggingface.co', port=443): Read timed out. (read timeout=10)\"), '(Request ID: fb7d0b42-9b4a-4be3-a0d6-10e142a09851)')' thrown while requesting HEAD https://huggingface.co/bert-base-uncased/resolve/main/tokenizer_config.json\n",
      "'(ReadTimeoutError(\"HTTPSConnectionPool(host='huggingface.co', port=443): Read timed out. (read timeout=10)\"), '(Request ID: fb7d0b42-9b4a-4be3-a0d6-10e142a09851)')' thrown while requesting HEAD https://huggingface.co/bert-base-uncased/resolve/main/tokenizer_config.json\n",
      "2023-08-23 19:26:49 '(ReadTimeoutError(\"HTTPSConnectionPool(host='huggingface.co', port=443): Read timed out. (read timeout=10)\"), '(Request ID: fb7d0b42-9b4a-4be3-a0d6-10e142a09851)')' thrown while requesting HEAD https://huggingface.co/bert-base-uncased/resolve/main/tokenizer_config.json\n",
      "'(ReadTimeoutError(\"HTTPSConnectionPool(host='huggingface.co', port=443): Read timed out. (read timeout=10)\"), '(Request ID: e71e8d14-9fae-45b5-a8ca-889018095439)')' thrown while requesting HEAD https://huggingface.co/bert-base-uncased/resolve/main/config.json\n",
      "'(ReadTimeoutError(\"HTTPSConnectionPool(host='huggingface.co', port=443): Read timed out. (read timeout=10)\"), '(Request ID: e71e8d14-9fae-45b5-a8ca-889018095439)')' thrown while requesting HEAD https://huggingface.co/bert-base-uncased/resolve/main/config.json\n",
      "2023-08-23 19:27:00 '(ReadTimeoutError(\"HTTPSConnectionPool(host='huggingface.co', port=443): Read timed out. (read timeout=10)\"), '(Request ID: e71e8d14-9fae-45b5-a8ca-889018095439)')' thrown while requesting HEAD https://huggingface.co/bert-base-uncased/resolve/main/config.json\n"
     ]
    },
    {
     "name": "stdout",
     "output_type": "stream",
     "text": [
      "Model loaded from ./ckpt/groundingdino_swint_ogc.pth \n",
      " => _IncompatibleKeys(missing_keys=[], unexpected_keys=['label_enc.weight', 'bert.embeddings.position_ids'])\n",
      "SegTracker has been initialized\n",
      "processed frame 22, obj_num 0\r"
     ]
    },
    {
     "name": "stderr",
     "output_type": "stream",
     "text": [
      "Num: 180, count for 'tie': 0.0, prompt: @o crIAdor Prompt: CREATE REAL DOGS IN SUIT AND TIE WORKING IN THE OFFICE IN 16:9 HD  Author: @o crIAdor, path: /apdcephfs_cq3/share_1290939/shadowcun/evals_dev/pikavideos/prompts/CREATE_REAL_DOGS_IN_SUIT_AND_TIE_WORKING_IN_THE_OFFICE_IN_16_9_HD_seed10298156964639311752.txt\n",
      "2023-08-23 19:27:07 Num: 180, count for 'tie': 0.0, prompt: @o crIAdor Prompt: CREATE REAL DOGS IN SUIT AND TIE WORKING IN THE OFFICE IN 16:9 HD  Author: @o crIAdor, path: /apdcephfs_cq3/share_1290939/shadowcun/evals_dev/pikavideos/prompts/CREATE_REAL_DOGS_IN_SUIT_AND_TIE_WORKING_IN_THE_OFFICE_IN_16_9_HD_seed10298156964639311752.txt\n"
     ]
    },
    {
     "name": "stdout",
     "output_type": "stream",
     "text": [
      "processed frame 23, obj_num 0\n",
      "finished\n",
      "Directory already exists: ./pikavideos/cat/masks\n",
      "Directory already exists: ./pikavideos/cat/mask_video\n",
      "Directory already exists: ./pikavideos/cat/mask_gif\n",
      "final text_encoder_type: bert-base-uncased\n"
     ]
    },
    {
     "name": "stderr",
     "output_type": "stream",
     "text": [
      "'(ReadTimeoutError(\"HTTPSConnectionPool(host='huggingface.co', port=443): Read timed out. (read timeout=10)\"), '(Request ID: db379a08-4976-4f4d-ab48-52e721574a46)')' thrown while requesting HEAD https://huggingface.co/bert-base-uncased/resolve/main/tokenizer_config.json\n",
      "'(ReadTimeoutError(\"HTTPSConnectionPool(host='huggingface.co', port=443): Read timed out. (read timeout=10)\"), '(Request ID: db379a08-4976-4f4d-ab48-52e721574a46)')' thrown while requesting HEAD https://huggingface.co/bert-base-uncased/resolve/main/tokenizer_config.json\n",
      "2023-08-23 19:27:21 '(ReadTimeoutError(\"HTTPSConnectionPool(host='huggingface.co', port=443): Read timed out. (read timeout=10)\"), '(Request ID: db379a08-4976-4f4d-ab48-52e721574a46)')' thrown while requesting HEAD https://huggingface.co/bert-base-uncased/resolve/main/tokenizer_config.json\n",
      "'(ReadTimeoutError(\"HTTPSConnectionPool(host='huggingface.co', port=443): Read timed out. (read timeout=10)\"), '(Request ID: cc7f9fbd-4c4a-4021-b60a-da7db25109f0)')' thrown while requesting HEAD https://huggingface.co/bert-base-uncased/resolve/main/config.json\n",
      "'(ReadTimeoutError(\"HTTPSConnectionPool(host='huggingface.co', port=443): Read timed out. (read timeout=10)\"), '(Request ID: cc7f9fbd-4c4a-4021-b60a-da7db25109f0)')' thrown while requesting HEAD https://huggingface.co/bert-base-uncased/resolve/main/config.json\n",
      "2023-08-23 19:27:31 '(ReadTimeoutError(\"HTTPSConnectionPool(host='huggingface.co', port=443): Read timed out. (read timeout=10)\"), '(Request ID: cc7f9fbd-4c4a-4021-b60a-da7db25109f0)')' thrown while requesting HEAD https://huggingface.co/bert-base-uncased/resolve/main/config.json\n"
     ]
    },
    {
     "name": "stdout",
     "output_type": "stream",
     "text": [
      "Model loaded from ./ckpt/groundingdino_swint_ogc.pth \n",
      " => _IncompatibleKeys(missing_keys=[], unexpected_keys=['label_enc.weight', 'bert.embeddings.position_ids'])\n",
      "SegTracker has been initialized\n",
      "processed frame 22, obj_num 1\r"
     ]
    },
    {
     "name": "stderr",
     "output_type": "stream",
     "text": [
      "Num: 181, count for 'cat': 1.0, prompt: Pika BOT 08/04/2023 12:41 PM@raymond Prompt: a curl white cat upsidedown play soccer  Author: @raymond, path: /apdcephfs_cq3/share_1290939/shadowcun/evals_dev/pikavideos/prompts/a_curl_white_cat_upsidedown_play_soccer_seed4045948734243891463.txt\n",
      "2023-08-23 19:27:39 Num: 181, count for 'cat': 1.0, prompt: Pika BOT 08/04/2023 12:41 PM@raymond Prompt: a curl white cat upsidedown play soccer  Author: @raymond, path: /apdcephfs_cq3/share_1290939/shadowcun/evals_dev/pikavideos/prompts/a_curl_white_cat_upsidedown_play_soccer_seed4045948734243891463.txt\n"
     ]
    },
    {
     "name": "stdout",
     "output_type": "stream",
     "text": [
      "processed frame 23, obj_num 1\n",
      "finished\n",
      "Directory already exists: ./pikavideos/cat/masks\n",
      "Directory already exists: ./pikavideos/cat/mask_video\n",
      "Directory already exists: ./pikavideos/cat/mask_gif\n",
      "final text_encoder_type: bert-base-uncased\n"
     ]
    },
    {
     "name": "stderr",
     "output_type": "stream",
     "text": [
      "'(ReadTimeoutError(\"HTTPSConnectionPool(host='huggingface.co', port=443): Read timed out. (read timeout=10)\"), '(Request ID: 12171540-7531-4064-a366-9ac491157786)')' thrown while requesting HEAD https://huggingface.co/bert-base-uncased/resolve/main/tokenizer_config.json\n",
      "'(ReadTimeoutError(\"HTTPSConnectionPool(host='huggingface.co', port=443): Read timed out. (read timeout=10)\"), '(Request ID: 12171540-7531-4064-a366-9ac491157786)')' thrown while requesting HEAD https://huggingface.co/bert-base-uncased/resolve/main/tokenizer_config.json\n",
      "2023-08-23 19:27:55 '(ReadTimeoutError(\"HTTPSConnectionPool(host='huggingface.co', port=443): Read timed out. (read timeout=10)\"), '(Request ID: 12171540-7531-4064-a366-9ac491157786)')' thrown while requesting HEAD https://huggingface.co/bert-base-uncased/resolve/main/tokenizer_config.json\n",
      "'(ReadTimeoutError(\"HTTPSConnectionPool(host='huggingface.co', port=443): Read timed out. (read timeout=10)\"), '(Request ID: c4280e57-95d3-4755-98c1-8f3d52a7cad0)')' thrown while requesting HEAD https://huggingface.co/bert-base-uncased/resolve/main/config.json\n",
      "'(ReadTimeoutError(\"HTTPSConnectionPool(host='huggingface.co', port=443): Read timed out. (read timeout=10)\"), '(Request ID: c4280e57-95d3-4755-98c1-8f3d52a7cad0)')' thrown while requesting HEAD https://huggingface.co/bert-base-uncased/resolve/main/config.json\n",
      "2023-08-23 19:28:06 '(ReadTimeoutError(\"HTTPSConnectionPool(host='huggingface.co', port=443): Read timed out. (read timeout=10)\"), '(Request ID: c4280e57-95d3-4755-98c1-8f3d52a7cad0)')' thrown while requesting HEAD https://huggingface.co/bert-base-uncased/resolve/main/config.json\n"
     ]
    },
    {
     "name": "stdout",
     "output_type": "stream",
     "text": [
      "Model loaded from ./ckpt/groundingdino_swint_ogc.pth \n",
      " => _IncompatibleKeys(missing_keys=[], unexpected_keys=['label_enc.weight', 'bert.embeddings.position_ids'])\n",
      "SegTracker has been initialized\n",
      "processed frame 22, obj_num 0\r"
     ]
    },
    {
     "name": "stderr",
     "output_type": "stream",
     "text": [
      "Num: 181, count for 'cat': 0.0, prompt: @Risk Prompt: The United States senate in session. Slow-dolly The seated senators are chatting amongst themselves in their seats when they are silenced by the sound of doors opening. They all glance toward the aisle. 3/4 top down shot on the United States senate as a small cat walks down the aisle with the senators looking on in surprise photoreal cinematic, ar 16:9  Author: @Risk, path: /apdcephfs_cq3/share_1290939/shadowcun/evals_dev/pikavideos/prompts/The_United_States_senate_in_session._Slow-dolly_The_seated_senators_are_chatting_amongst_themselves_.txt\n",
      "2023-08-23 19:28:13 Num: 181, count for 'cat': 0.0, prompt: @Risk Prompt: The United States senate in session. Slow-dolly The seated senators are chatting amongst themselves in their seats when they are silenced by the sound of doors opening. They all glance toward the aisle. 3/4 top down shot on the United States senate as a small cat walks down the aisle with the senators looking on in surprise photoreal cinematic, ar 16:9  Author: @Risk, path: /apdcephfs_cq3/share_1290939/shadowcun/evals_dev/pikavideos/prompts/The_United_States_senate_in_session._Slow-dolly_The_seated_senators_are_chatting_amongst_themselves_.txt\n"
     ]
    },
    {
     "name": "stdout",
     "output_type": "stream",
     "text": [
      "processed frame 23, obj_num 0\n",
      "finished\n",
      "Directory already exists: ./pikavideos/bed/masks\n",
      "Directory already exists: ./pikavideos/bed/mask_video\n",
      "Directory already exists: ./pikavideos/bed/mask_gif\n",
      "final text_encoder_type: bert-base-uncased\n"
     ]
    },
    {
     "name": "stderr",
     "output_type": "stream",
     "text": [
      "'(ReadTimeoutError(\"HTTPSConnectionPool(host='huggingface.co', port=443): Read timed out. (read timeout=10)\"), '(Request ID: d5129ebb-06d6-41a8-a4db-7533a03e38c7)')' thrown while requesting HEAD https://huggingface.co/bert-base-uncased/resolve/main/tokenizer_config.json\n",
      "'(ReadTimeoutError(\"HTTPSConnectionPool(host='huggingface.co', port=443): Read timed out. (read timeout=10)\"), '(Request ID: d5129ebb-06d6-41a8-a4db-7533a03e38c7)')' thrown while requesting HEAD https://huggingface.co/bert-base-uncased/resolve/main/tokenizer_config.json\n",
      "2023-08-23 19:28:29 '(ReadTimeoutError(\"HTTPSConnectionPool(host='huggingface.co', port=443): Read timed out. (read timeout=10)\"), '(Request ID: d5129ebb-06d6-41a8-a4db-7533a03e38c7)')' thrown while requesting HEAD https://huggingface.co/bert-base-uncased/resolve/main/tokenizer_config.json\n",
      "'(ReadTimeoutError(\"HTTPSConnectionPool(host='huggingface.co', port=443): Read timed out. (read timeout=10)\"), '(Request ID: 39dac360-cd81-4956-ab5e-32f455c3b9e1)')' thrown while requesting HEAD https://huggingface.co/bert-base-uncased/resolve/main/config.json\n",
      "'(ReadTimeoutError(\"HTTPSConnectionPool(host='huggingface.co', port=443): Read timed out. (read timeout=10)\"), '(Request ID: 39dac360-cd81-4956-ab5e-32f455c3b9e1)')' thrown while requesting HEAD https://huggingface.co/bert-base-uncased/resolve/main/config.json\n",
      "2023-08-23 19:28:40 '(ReadTimeoutError(\"HTTPSConnectionPool(host='huggingface.co', port=443): Read timed out. (read timeout=10)\"), '(Request ID: 39dac360-cd81-4956-ab5e-32f455c3b9e1)')' thrown while requesting HEAD https://huggingface.co/bert-base-uncased/resolve/main/config.json\n"
     ]
    },
    {
     "name": "stdout",
     "output_type": "stream",
     "text": [
      "Model loaded from ./ckpt/groundingdino_swint_ogc.pth \n",
      " => _IncompatibleKeys(missing_keys=[], unexpected_keys=['label_enc.weight', 'bert.embeddings.position_ids'])\n",
      "SegTracker has been initialized\n",
      "processed frame 22, obj_num 0\r"
     ]
    },
    {
     "name": "stderr",
     "output_type": "stream",
     "text": [
      "Num: 181, count for 'bed': 0.0, prompt: @Self11love11 Prompt: girl holding eyes, sitting in bed crying  Author: @Self11love11, path: /apdcephfs_cq3/share_1290939/shadowcun/evals_dev/pikavideos/prompts/girl_holding_eyes_sitting_in_bed_crying_seed4639220618579360255.txt\n",
      "2023-08-23 19:28:47 Num: 181, count for 'bed': 0.0, prompt: @Self11love11 Prompt: girl holding eyes, sitting in bed crying  Author: @Self11love11, path: /apdcephfs_cq3/share_1290939/shadowcun/evals_dev/pikavideos/prompts/girl_holding_eyes_sitting_in_bed_crying_seed4639220618579360255.txt\n"
     ]
    },
    {
     "name": "stdout",
     "output_type": "stream",
     "text": [
      "processed frame 23, obj_num 0\n",
      "finished\n",
      "Directory already exists: ./pikavideos/bird/masks\n",
      "Directory already exists: ./pikavideos/bird/mask_video\n",
      "Directory already exists: ./pikavideos/bird/mask_gif\n",
      "final text_encoder_type: bert-base-uncased\n"
     ]
    },
    {
     "name": "stderr",
     "output_type": "stream",
     "text": [
      "'(ReadTimeoutError(\"HTTPSConnectionPool(host='huggingface.co', port=443): Read timed out. (read timeout=10)\"), '(Request ID: 29398f8e-19d1-457d-b516-859bc2fa4cd7)')' thrown while requesting HEAD https://huggingface.co/bert-base-uncased/resolve/main/tokenizer_config.json\n",
      "'(ReadTimeoutError(\"HTTPSConnectionPool(host='huggingface.co', port=443): Read timed out. (read timeout=10)\"), '(Request ID: 29398f8e-19d1-457d-b516-859bc2fa4cd7)')' thrown while requesting HEAD https://huggingface.co/bert-base-uncased/resolve/main/tokenizer_config.json\n",
      "2023-08-23 19:29:00 '(ReadTimeoutError(\"HTTPSConnectionPool(host='huggingface.co', port=443): Read timed out. (read timeout=10)\"), '(Request ID: 29398f8e-19d1-457d-b516-859bc2fa4cd7)')' thrown while requesting HEAD https://huggingface.co/bert-base-uncased/resolve/main/tokenizer_config.json\n",
      "'(ReadTimeoutError(\"HTTPSConnectionPool(host='huggingface.co', port=443): Read timed out. (read timeout=10)\"), '(Request ID: 39663531-c0de-41ae-a78c-118c6064a982)')' thrown while requesting HEAD https://huggingface.co/bert-base-uncased/resolve/main/config.json\n",
      "'(ReadTimeoutError(\"HTTPSConnectionPool(host='huggingface.co', port=443): Read timed out. (read timeout=10)\"), '(Request ID: 39663531-c0de-41ae-a78c-118c6064a982)')' thrown while requesting HEAD https://huggingface.co/bert-base-uncased/resolve/main/config.json\n",
      "2023-08-23 19:29:10 '(ReadTimeoutError(\"HTTPSConnectionPool(host='huggingface.co', port=443): Read timed out. (read timeout=10)\"), '(Request ID: 39663531-c0de-41ae-a78c-118c6064a982)')' thrown while requesting HEAD https://huggingface.co/bert-base-uncased/resolve/main/config.json\n"
     ]
    },
    {
     "name": "stdout",
     "output_type": "stream",
     "text": [
      "Model loaded from ./ckpt/groundingdino_swint_ogc.pth \n",
      " => _IncompatibleKeys(missing_keys=[], unexpected_keys=['label_enc.weight', 'bert.embeddings.position_ids'])\n",
      "SegTracker has been initialized\n",
      "processed frame 22, obj_num 0\r"
     ]
    },
    {
     "name": "stderr",
     "output_type": "stream",
     "text": [
      "Num: 181, count for 'bird': 0.0, prompt: @Rez Prompt: (Gorgeous Painting:1.3) of (Masterpiece:1.3),of (watercolor painting),  (large brain alien head:1.1),(birds:1.2), (body full of skull tattoo:1.3),(snake curling around head:1.4),snakes, (art by Carne Griffiths:1.3),(tertiary color:1.3), (secondary color:1), (primary color:.7), vibrant color, deep shadow, ((Abstract, Abstraction, Artistic, Rim Lights, Rim Lighting, Rim Light, Edge Lighting, absurdres, high resolution, (8k resolution), 8k, 8kres, 8k res, super resolution, ultra hd, megapixel, high details, detailed and intricate, intricate details, high intricate details, absurd amount of details)), (by Artist Alberto Seveso:1.4),(by Artist Conrad Roset:1.4),(by Artist Ivan Bilibin:1.3),(Process Art:1.8)  style of kaleidoscope art  Author: @Rez, path: /apdcephfs_cq3/share_1290939/shadowcun/evals_dev/pikavideos/prompts/Gorgeous_Painting_1.3_of_Masterpiece_1.3of_watercolor_painting__large_brain_alien_head_1.1_seed12210963327208145966.txt\n",
      "2023-08-23 19:29:17 Num: 181, count for 'bird': 0.0, prompt: @Rez Prompt: (Gorgeous Painting:1.3) of (Masterpiece:1.3),of (watercolor painting),  (large brain alien head:1.1),(birds:1.2), (body full of skull tattoo:1.3),(snake curling around head:1.4),snakes, (art by Carne Griffiths:1.3),(tertiary color:1.3), (secondary color:1), (primary color:.7), vibrant color, deep shadow, ((Abstract, Abstraction, Artistic, Rim Lights, Rim Lighting, Rim Light, Edge Lighting, absurdres, high resolution, (8k resolution), 8k, 8kres, 8k res, super resolution, ultra hd, megapixel, high details, detailed and intricate, intricate details, high intricate details, absurd amount of details)), (by Artist Alberto Seveso:1.4),(by Artist Conrad Roset:1.4),(by Artist Ivan Bilibin:1.3),(Process Art:1.8)  style of kaleidoscope art  Author: @Rez, path: /apdcephfs_cq3/share_1290939/shadowcun/evals_dev/pikavideos/prompts/Gorgeous_Painting_1.3_of_Masterpiece_1.3of_watercolor_painting__large_brain_alien_head_1.1_seed12210963327208145966.txt\n"
     ]
    },
    {
     "name": "stdout",
     "output_type": "stream",
     "text": [
      "processed frame 23, obj_num 0\n",
      "finished\n",
      "Directory already exists: ./pikavideos/car/masks\n",
      "Directory already exists: ./pikavideos/car/mask_video\n",
      "Directory already exists: ./pikavideos/car/mask_gif\n",
      "final text_encoder_type: bert-base-uncased\n"
     ]
    },
    {
     "name": "stderr",
     "output_type": "stream",
     "text": [
      "'(ReadTimeoutError(\"HTTPSConnectionPool(host='huggingface.co', port=443): Read timed out. (read timeout=10)\"), '(Request ID: 19a61d9e-1c2c-4fa6-a5de-fcaad23e43bc)')' thrown while requesting HEAD https://huggingface.co/bert-base-uncased/resolve/main/tokenizer_config.json\n",
      "'(ReadTimeoutError(\"HTTPSConnectionPool(host='huggingface.co', port=443): Read timed out. (read timeout=10)\"), '(Request ID: 19a61d9e-1c2c-4fa6-a5de-fcaad23e43bc)')' thrown while requesting HEAD https://huggingface.co/bert-base-uncased/resolve/main/tokenizer_config.json\n",
      "2023-08-23 19:29:33 '(ReadTimeoutError(\"HTTPSConnectionPool(host='huggingface.co', port=443): Read timed out. (read timeout=10)\"), '(Request ID: 19a61d9e-1c2c-4fa6-a5de-fcaad23e43bc)')' thrown while requesting HEAD https://huggingface.co/bert-base-uncased/resolve/main/tokenizer_config.json\n",
      "'(ReadTimeoutError(\"HTTPSConnectionPool(host='huggingface.co', port=443): Read timed out. (read timeout=10)\"), '(Request ID: 50fe7487-f06d-4ba2-93bc-ba9e875a6b4d)')' thrown while requesting HEAD https://huggingface.co/bert-base-uncased/resolve/main/config.json\n",
      "'(ReadTimeoutError(\"HTTPSConnectionPool(host='huggingface.co', port=443): Read timed out. (read timeout=10)\"), '(Request ID: 50fe7487-f06d-4ba2-93bc-ba9e875a6b4d)')' thrown while requesting HEAD https://huggingface.co/bert-base-uncased/resolve/main/config.json\n",
      "2023-08-23 19:29:44 '(ReadTimeoutError(\"HTTPSConnectionPool(host='huggingface.co', port=443): Read timed out. (read timeout=10)\"), '(Request ID: 50fe7487-f06d-4ba2-93bc-ba9e875a6b4d)')' thrown while requesting HEAD https://huggingface.co/bert-base-uncased/resolve/main/config.json\n"
     ]
    },
    {
     "name": "stdout",
     "output_type": "stream",
     "text": [
      "Model loaded from ./ckpt/groundingdino_swint_ogc.pth \n",
      " => _IncompatibleKeys(missing_keys=[], unexpected_keys=['label_enc.weight', 'bert.embeddings.position_ids'])\n",
      "SegTracker has been initialized\n",
      "processed frame 22, obj_num 0\r"
     ]
    },
    {
     "name": "stderr",
     "output_type": "stream",
     "text": [
      "Num: 181, count for 'car': 0.0, prompt: @ntgian Prompt: a sleek and agile Formula 1 car gracefully tackling a demanding hairpin turn, driver visible  Author: @ntgian, path: /apdcephfs_cq3/share_1290939/shadowcun/evals_dev/pikavideos/prompts/a_sleek_and_agile_Formula_1_car_gracefully_tackling_a_demanding_hairpin_turn_driver_visible_seed2038653596749400069.txt\n",
      "2023-08-23 19:29:51 Num: 181, count for 'car': 0.0, prompt: @ntgian Prompt: a sleek and agile Formula 1 car gracefully tackling a demanding hairpin turn, driver visible  Author: @ntgian, path: /apdcephfs_cq3/share_1290939/shadowcun/evals_dev/pikavideos/prompts/a_sleek_and_agile_Formula_1_car_gracefully_tackling_a_demanding_hairpin_turn_driver_visible_seed2038653596749400069.txt\n"
     ]
    },
    {
     "name": "stdout",
     "output_type": "stream",
     "text": [
      "processed frame 23, obj_num 0\n",
      "finished\n",
      "Directory already exists: ./pikavideos/car/masks\n",
      "Directory already exists: ./pikavideos/car/mask_video\n",
      "Directory already exists: ./pikavideos/car/mask_gif\n",
      "final text_encoder_type: bert-base-uncased\n"
     ]
    },
    {
     "name": "stderr",
     "output_type": "stream",
     "text": [
      "'(ReadTimeoutError(\"HTTPSConnectionPool(host='huggingface.co', port=443): Read timed out. (read timeout=10)\"), '(Request ID: e185ccf1-0b0e-48f2-8c09-f23eefdce01b)')' thrown while requesting HEAD https://huggingface.co/bert-base-uncased/resolve/main/tokenizer_config.json\n",
      "'(ReadTimeoutError(\"HTTPSConnectionPool(host='huggingface.co', port=443): Read timed out. (read timeout=10)\"), '(Request ID: e185ccf1-0b0e-48f2-8c09-f23eefdce01b)')' thrown while requesting HEAD https://huggingface.co/bert-base-uncased/resolve/main/tokenizer_config.json\n",
      "2023-08-23 19:30:03 '(ReadTimeoutError(\"HTTPSConnectionPool(host='huggingface.co', port=443): Read timed out. (read timeout=10)\"), '(Request ID: e185ccf1-0b0e-48f2-8c09-f23eefdce01b)')' thrown while requesting HEAD https://huggingface.co/bert-base-uncased/resolve/main/tokenizer_config.json\n"
     ]
    },
    {
     "name": "stdout",
     "output_type": "stream",
     "text": [
      "Model loaded from ./ckpt/groundingdino_swint_ogc.pth \n",
      " => _IncompatibleKeys(missing_keys=[], unexpected_keys=['label_enc.weight', 'bert.embeddings.position_ids'])\n",
      "SegTracker has been initialized\n",
      "processed frame 22, obj_num 1\r"
     ]
    },
    {
     "name": "stderr",
     "output_type": "stream",
     "text": [
      "Num: 182, count for 'car': 1.0, prompt: @zackary Prompt: story board with car as protagonist running in iceland desert, comic style  Author: @zackary, path: /apdcephfs_cq3/share_1290939/shadowcun/evals_dev/pikavideos/prompts/story_board_with_car_as_protagonist_running_in_iceland_desert_comic_style_seed124137931659369668.txt\n",
      "2023-08-23 19:30:15 Num: 182, count for 'car': 1.0, prompt: @zackary Prompt: story board with car as protagonist running in iceland desert, comic style  Author: @zackary, path: /apdcephfs_cq3/share_1290939/shadowcun/evals_dev/pikavideos/prompts/story_board_with_car_as_protagonist_running_in_iceland_desert_comic_style_seed124137931659369668.txt\n"
     ]
    },
    {
     "name": "stdout",
     "output_type": "stream",
     "text": [
      "processed frame 23, obj_num 1\n",
      "finished\n",
      "Directory already exists: ./pikavideos/book/masks\n",
      "Directory already exists: ./pikavideos/book/mask_video\n",
      "Directory already exists: ./pikavideos/book/mask_gif\n",
      "final text_encoder_type: bert-base-uncased\n"
     ]
    },
    {
     "name": "stderr",
     "output_type": "stream",
     "text": [
      "'(ReadTimeoutError(\"HTTPSConnectionPool(host='huggingface.co', port=443): Read timed out. (read timeout=10)\"), '(Request ID: fadb52a3-dcad-4740-b32e-a1c794b944e7)')' thrown while requesting HEAD https://huggingface.co/bert-base-uncased/resolve/main/tokenizer_config.json\n",
      "'(ReadTimeoutError(\"HTTPSConnectionPool(host='huggingface.co', port=443): Read timed out. (read timeout=10)\"), '(Request ID: fadb52a3-dcad-4740-b32e-a1c794b944e7)')' thrown while requesting HEAD https://huggingface.co/bert-base-uncased/resolve/main/tokenizer_config.json\n",
      "2023-08-23 19:30:26 '(ReadTimeoutError(\"HTTPSConnectionPool(host='huggingface.co', port=443): Read timed out. (read timeout=10)\"), '(Request ID: fadb52a3-dcad-4740-b32e-a1c794b944e7)')' thrown while requesting HEAD https://huggingface.co/bert-base-uncased/resolve/main/tokenizer_config.json\n"
     ]
    },
    {
     "name": "stdout",
     "output_type": "stream",
     "text": [
      "Model loaded from ./ckpt/groundingdino_swint_ogc.pth \n",
      " => _IncompatibleKeys(missing_keys=[], unexpected_keys=['label_enc.weight', 'bert.embeddings.position_ids'])\n",
      "SegTracker has been initialized\n",
      "processed frame 22, obj_num 0\r"
     ]
    },
    {
     "name": "stderr",
     "output_type": "stream",
     "text": [
      "Num: 182, count for 'book': 0.0, prompt: @Raihan Prompt: A student sitting at a desk with a book, showing a determined expression while studying. Realistic, 8k  Author: @Raihan, path: /apdcephfs_cq3/share_1290939/shadowcun/evals_dev/pikavideos/prompts/A_student_sitting_at_a_desk_with_a_book_showing_a_determined_expression_while_studying._Realistic__seed1514866878675134849.txt\n",
      "2023-08-23 19:30:42 Num: 182, count for 'book': 0.0, prompt: @Raihan Prompt: A student sitting at a desk with a book, showing a determined expression while studying. Realistic, 8k  Author: @Raihan, path: /apdcephfs_cq3/share_1290939/shadowcun/evals_dev/pikavideos/prompts/A_student_sitting_at_a_desk_with_a_book_showing_a_determined_expression_while_studying._Realistic__seed1514866878675134849.txt\n"
     ]
    },
    {
     "name": "stdout",
     "output_type": "stream",
     "text": [
      "processed frame 23, obj_num 0\n",
      "finished\n",
      "Directory already exists: ./pikavideos/car/masks\n",
      "Directory already exists: ./pikavideos/car/mask_video\n",
      "Directory already exists: ./pikavideos/car/mask_gif\n",
      "final text_encoder_type: bert-base-uncased\n",
      "Model loaded from ./ckpt/groundingdino_swint_ogc.pth \n",
      " => _IncompatibleKeys(missing_keys=[], unexpected_keys=['label_enc.weight', 'bert.embeddings.position_ids'])\n",
      "SegTracker has been initialized\n",
      "processed frame 22, obj_num 0\r"
     ]
    },
    {
     "name": "stderr",
     "output_type": "stream",
     "text": [
      "Num: 182, count for 'car': 0.0, prompt: @andyo liked a video of @AntonYS. (Prompt: A charismatic man standing at the beachfront, his gaze fixed on the camera as the exhilarating roar of street racing cars echoes in the background, creating a captivating contrast between serenity and speed, 4K, -gs 17 -motion 0 -ar 1:1  Image: 1 Attachment  Author: @AntonYS), path: /apdcephfs_cq3/share_1290939/shadowcun/evals_dev/pikavideos/prompts/A_charismatic_man_standing_at_the_beachfront_his_gaze_fixed_on_the_camera_as_the_exhilarating_roar__seed6942590743877849919.txt\n",
      "2023-08-23 19:30:54 Num: 182, count for 'car': 0.0, prompt: @andyo liked a video of @AntonYS. (Prompt: A charismatic man standing at the beachfront, his gaze fixed on the camera as the exhilarating roar of street racing cars echoes in the background, creating a captivating contrast between serenity and speed, 4K, -gs 17 -motion 0 -ar 1:1  Image: 1 Attachment  Author: @AntonYS), path: /apdcephfs_cq3/share_1290939/shadowcun/evals_dev/pikavideos/prompts/A_charismatic_man_standing_at_the_beachfront_his_gaze_fixed_on_the_camera_as_the_exhilarating_roar__seed6942590743877849919.txt\n"
     ]
    },
    {
     "name": "stdout",
     "output_type": "stream",
     "text": [
      "processed frame 23, obj_num 0\n",
      "finished\n",
      "Directory already exists: ./pikavideos/dog/masks\n",
      "Directory already exists: ./pikavideos/dog/mask_video\n",
      "Directory already exists: ./pikavideos/dog/mask_gif\n",
      "final text_encoder_type: bert-base-uncased\n",
      "Model loaded from ./ckpt/groundingdino_swint_ogc.pth \n",
      " => _IncompatibleKeys(missing_keys=[], unexpected_keys=['label_enc.weight', 'bert.embeddings.position_ids'])\n",
      "SegTracker has been initialized\n",
      "processed frame 22, obj_num 0\r"
     ]
    },
    {
     "name": "stderr",
     "output_type": "stream",
     "text": [
      "Num: 182, count for 'dog': 0.0, prompt: @LWG2022 Prompt: image of a dog with a horn  Author: @LWG2022, path: /apdcephfs_cq3/share_1290939/shadowcun/evals_dev/pikavideos/prompts/image_of_a_dog_with_a_horn_seed10118441195596756295.txt\n",
      "2023-08-23 19:31:05 Num: 182, count for 'dog': 0.0, prompt: @LWG2022 Prompt: image of a dog with a horn  Author: @LWG2022, path: /apdcephfs_cq3/share_1290939/shadowcun/evals_dev/pikavideos/prompts/image_of_a_dog_with_a_horn_seed10118441195596756295.txt\n"
     ]
    },
    {
     "name": "stdout",
     "output_type": "stream",
     "text": [
      "processed frame 23, obj_num 0\n",
      "finished\n",
      "Directory already exists: ./pikavideos/bird/masks\n",
      "Directory already exists: ./pikavideos/bird/mask_video\n",
      "Directory already exists: ./pikavideos/bird/mask_gif\n",
      "final text_encoder_type: bert-base-uncased\n",
      "Model loaded from ./ckpt/groundingdino_swint_ogc.pth \n",
      " => _IncompatibleKeys(missing_keys=[], unexpected_keys=['label_enc.weight', 'bert.embeddings.position_ids'])\n",
      "SegTracker has been initialized\n",
      "processed frame 22, obj_num 0\r"
     ]
    },
    {
     "name": "stderr",
     "output_type": "stream",
     "text": [
      "Num: 182, count for 'bird': 0.0, prompt: @cainrus Prompt: holographic bird lands next to the boy  -gs 12 -motion 2  Image: 1 Attachment  Author: @cainrus, path: /apdcephfs_cq3/share_1290939/shadowcun/evals_dev/pikavideos/prompts/holographic_bird_lands_next_to_the_boy__-gs_12_-motion_2__Image__1_Attachment_seed5998299863516336628.txt\n",
      "2023-08-23 19:31:17 Num: 182, count for 'bird': 0.0, prompt: @cainrus Prompt: holographic bird lands next to the boy  -gs 12 -motion 2  Image: 1 Attachment  Author: @cainrus, path: /apdcephfs_cq3/share_1290939/shadowcun/evals_dev/pikavideos/prompts/holographic_bird_lands_next_to_the_boy__-gs_12_-motion_2__Image__1_Attachment_seed5998299863516336628.txt\n"
     ]
    },
    {
     "name": "stdout",
     "output_type": "stream",
     "text": [
      "processed frame 23, obj_num 0\n",
      "finished\n",
      "Directory already exists: ./pikavideos/cat/masks\n",
      "Directory already exists: ./pikavideos/cat/mask_video\n",
      "Directory already exists: ./pikavideos/cat/mask_gif\n",
      "final text_encoder_type: bert-base-uncased\n",
      "Model loaded from ./ckpt/groundingdino_swint_ogc.pth \n",
      " => _IncompatibleKeys(missing_keys=[], unexpected_keys=['label_enc.weight', 'bert.embeddings.position_ids'])\n",
      "SegTracker has been initialized\n",
      "processed frame 22, obj_num 1\r"
     ]
    },
    {
     "name": "stderr",
     "output_type": "stream",
     "text": [
      "Num: 183, count for 'cat': 1.0, prompt: @AIArtwork Prompt: cat acting crazy  Image: 1 Attachment  Author: @AIArtwork, path: /apdcephfs_cq3/share_1290939/shadowcun/evals_dev/pikavideos/prompts/cat_acting_crazy__Image__1_Attachment_seed15005877397283479532.txt\n",
      "2023-08-23 19:31:28 Num: 183, count for 'cat': 1.0, prompt: @AIArtwork Prompt: cat acting crazy  Image: 1 Attachment  Author: @AIArtwork, path: /apdcephfs_cq3/share_1290939/shadowcun/evals_dev/pikavideos/prompts/cat_acting_crazy__Image__1_Attachment_seed15005877397283479532.txt\n"
     ]
    },
    {
     "name": "stdout",
     "output_type": "stream",
     "text": [
      "processed frame 23, obj_num 1\n",
      "finished\n",
      "Directory already exists: ./pikavideos/laptop/masks\n",
      "Directory already exists: ./pikavideos/laptop/mask_video\n",
      "Directory already exists: ./pikavideos/laptop/mask_gif\n",
      "final text_encoder_type: bert-base-uncased\n",
      "Model loaded from ./ckpt/groundingdino_swint_ogc.pth \n",
      " => _IncompatibleKeys(missing_keys=[], unexpected_keys=['label_enc.weight', 'bert.embeddings.position_ids'])\n",
      "SegTracker has been initialized\n",
      "processed frame 22, obj_num 1\r"
     ]
    },
    {
     "name": "stderr",
     "output_type": "stream",
     "text": [
      "Num: 184, count for 'laptop': 1.0, prompt: @prof_NORMAL Prompt: woman working on laptop  Image: 1 Attachment  Author: @prof_NORMAL, path: /apdcephfs_cq3/share_1290939/shadowcun/evals_dev/pikavideos/prompts/woman_working_on_laptop_seed7209164789664336437.txt\n",
      "2023-08-23 19:31:38 Num: 184, count for 'laptop': 1.0, prompt: @prof_NORMAL Prompt: woman working on laptop  Image: 1 Attachment  Author: @prof_NORMAL, path: /apdcephfs_cq3/share_1290939/shadowcun/evals_dev/pikavideos/prompts/woman_working_on_laptop_seed7209164789664336437.txt\n"
     ]
    },
    {
     "name": "stdout",
     "output_type": "stream",
     "text": [
      "processed frame 23, obj_num 1\n",
      "finished\n",
      "Directory already exists: ./pikavideos/mouse/masks\n",
      "Directory already exists: ./pikavideos/mouse/mask_video\n",
      "Directory already exists: ./pikavideos/mouse/mask_gif\n",
      "final text_encoder_type: bert-base-uncased\n",
      "Model loaded from ./ckpt/groundingdino_swint_ogc.pth \n",
      " => _IncompatibleKeys(missing_keys=[], unexpected_keys=['label_enc.weight', 'bert.embeddings.position_ids'])\n",
      "SegTracker has been initialized\n",
      "processed frame 22, obj_num 0\r"
     ]
    },
    {
     "name": "stderr",
     "output_type": "stream",
     "text": [
      "Num: 184, count for 'mouse': 0.0, prompt: @crystalwizard Prompt: a mouse nibbles on pie, squeaks, scurries -motion 2 -gs 20  Author: @crystalwizard, path: /apdcephfs_cq3/share_1290939/shadowcun/evals_dev/pikavideos/prompts/a_mouse_nibbles_on_pie_squeaks_scurries_-motion_2_-gs_20_seed10426830115748969552.txt\n",
      "2023-08-23 19:31:48 Num: 184, count for 'mouse': 0.0, prompt: @crystalwizard Prompt: a mouse nibbles on pie, squeaks, scurries -motion 2 -gs 20  Author: @crystalwizard, path: /apdcephfs_cq3/share_1290939/shadowcun/evals_dev/pikavideos/prompts/a_mouse_nibbles_on_pie_squeaks_scurries_-motion_2_-gs_20_seed10426830115748969552.txt\n"
     ]
    },
    {
     "name": "stdout",
     "output_type": "stream",
     "text": [
      "processed frame 23, obj_num 0\n",
      "finished\n",
      "Directory already exists: ./pikavideos/book/masks\n",
      "Directory already exists: ./pikavideos/book/mask_video\n",
      "Directory already exists: ./pikavideos/book/mask_gif\n",
      "final text_encoder_type: bert-base-uncased\n",
      "Model loaded from ./ckpt/groundingdino_swint_ogc.pth \n",
      " => _IncompatibleKeys(missing_keys=[], unexpected_keys=['label_enc.weight', 'bert.embeddings.position_ids'])\n",
      "SegTracker has been initialized\n",
      "processed frame 22, obj_num 0\r"
     ]
    },
    {
     "name": "stderr",
     "output_type": "stream",
     "text": [
      "Num: 184, count for 'book': 0.0, prompt: @NTJustin Prompt: tearing a page out of a book  Author: @NTJustin, path: /apdcephfs_cq3/share_1290939/shadowcun/evals_dev/pikavideos/prompts/tearing_a_page_out_of_a_book_seed8767203942502066002.txt\n",
      "2023-08-23 19:31:58 Num: 184, count for 'book': 0.0, prompt: @NTJustin Prompt: tearing a page out of a book  Author: @NTJustin, path: /apdcephfs_cq3/share_1290939/shadowcun/evals_dev/pikavideos/prompts/tearing_a_page_out_of_a_book_seed8767203942502066002.txt\n"
     ]
    },
    {
     "name": "stdout",
     "output_type": "stream",
     "text": [
      "processed frame 23, obj_num 0\n",
      "finished\n",
      "Directory already exists: ./pikavideos/car/masks\n",
      "Directory already exists: ./pikavideos/car/mask_video\n",
      "Directory already exists: ./pikavideos/car/mask_gif\n",
      "final text_encoder_type: bert-base-uncased\n",
      "Model loaded from ./ckpt/groundingdino_swint_ogc.pth \n",
      " => _IncompatibleKeys(missing_keys=[], unexpected_keys=['label_enc.weight', 'bert.embeddings.position_ids'])\n",
      "SegTracker has been initialized\n",
      "processed frame 22, obj_num 1\r"
     ]
    },
    {
     "name": "stderr",
     "output_type": "stream",
     "text": [
      "Num: 185, count for 'car': 1.0, prompt: @!                          MZEEN Prompt: man eating chips in car, realistic  Image: 1 Attachment  Author: @!                          MZEEN, path: /apdcephfs_cq3/share_1290939/shadowcun/evals_dev/pikavideos/prompts/man_eating_chips_in_car_realistic__Image__1_Attachment_seed7678061265952060579.txt\n",
      "2023-08-23 19:32:08 Num: 185, count for 'car': 1.0, prompt: @!                          MZEEN Prompt: man eating chips in car, realistic  Image: 1 Attachment  Author: @!                          MZEEN, path: /apdcephfs_cq3/share_1290939/shadowcun/evals_dev/pikavideos/prompts/man_eating_chips_in_car_realistic__Image__1_Attachment_seed7678061265952060579.txt\n"
     ]
    },
    {
     "name": "stdout",
     "output_type": "stream",
     "text": [
      "processed frame 23, obj_num 1\n",
      "finished\n",
      "Directory already exists: ./pikavideos/train/masks\n",
      "Directory already exists: ./pikavideos/train/mask_video\n",
      "Directory already exists: ./pikavideos/train/mask_gif\n",
      "final text_encoder_type: bert-base-uncased\n",
      "Model loaded from ./ckpt/groundingdino_swint_ogc.pth \n",
      " => _IncompatibleKeys(missing_keys=[], unexpected_keys=['label_enc.weight', 'bert.embeddings.position_ids'])\n",
      "SegTracker has been initialized\n",
      "processed frame 22, obj_num 1\r"
     ]
    },
    {
     "name": "stderr",
     "output_type": "stream",
     "text": [
      "Num: 186, count for 'train': 1.0, prompt: @Genotype Prompt: make the smoke from the train animated  Image: 1 Attachment  Author: @Genotype, path: /apdcephfs_cq3/share_1290939/shadowcun/evals_dev/pikavideos/prompts/make_the_smoke_from_the_train_animated__Image__1_Attachment_seed7248096488124649713.txt\n",
      "2023-08-23 19:32:19 Num: 186, count for 'train': 1.0, prompt: @Genotype Prompt: make the smoke from the train animated  Image: 1 Attachment  Author: @Genotype, path: /apdcephfs_cq3/share_1290939/shadowcun/evals_dev/pikavideos/prompts/make_the_smoke_from_the_train_animated__Image__1_Attachment_seed7248096488124649713.txt\n"
     ]
    },
    {
     "name": "stdout",
     "output_type": "stream",
     "text": [
      "processed frame 23, obj_num 1\n",
      "finished\n",
      "Directory already exists: ./pikavideos/couch/masks\n",
      "Directory already exists: ./pikavideos/couch/mask_video\n",
      "Directory already exists: ./pikavideos/couch/mask_gif\n",
      "final text_encoder_type: bert-base-uncased\n",
      "Model loaded from ./ckpt/groundingdino_swint_ogc.pth \n",
      " => _IncompatibleKeys(missing_keys=[], unexpected_keys=['label_enc.weight', 'bert.embeddings.position_ids'])\n",
      "SegTracker has been initialized\n",
      "processed frame 22, obj_num 1\r"
     ]
    },
    {
     "name": "stderr",
     "output_type": "stream",
     "text": [
      "Num: 187, count for 'couch': 1.0, prompt: @deus Prompt: a woman sits on a couch with a man in it, in the style of classic hollywood glamour, theatrical gestures, expressive body language, black and white film, monumental ensembles, movie still, vibrant, lively --ar 2:1  Author: @deus, path: /apdcephfs_cq3/share_1290939/shadowcun/evals_dev/pikavideos/prompts/a_woman_sits_on_a_couch_with_a_man_in_it_in_the_style_of_classic_hollywood_glamour_theatrical_gest_seed6198481171086113611.txt\n",
      "2023-08-23 19:32:28 Num: 187, count for 'couch': 1.0, prompt: @deus Prompt: a woman sits on a couch with a man in it, in the style of classic hollywood glamour, theatrical gestures, expressive body language, black and white film, monumental ensembles, movie still, vibrant, lively --ar 2:1  Author: @deus, path: /apdcephfs_cq3/share_1290939/shadowcun/evals_dev/pikavideos/prompts/a_woman_sits_on_a_couch_with_a_man_in_it_in_the_style_of_classic_hollywood_glamour_theatrical_gest_seed6198481171086113611.txt\n"
     ]
    },
    {
     "name": "stdout",
     "output_type": "stream",
     "text": [
      "processed frame 23, obj_num 1\n",
      "finished\n",
      "Directory already exists: ./pikavideos/mouse/masks\n",
      "Directory already exists: ./pikavideos/mouse/mask_video\n",
      "Directory already exists: ./pikavideos/mouse/mask_gif\n",
      "final text_encoder_type: bert-base-uncased\n",
      "Model loaded from ./ckpt/groundingdino_swint_ogc.pth \n",
      " => _IncompatibleKeys(missing_keys=[], unexpected_keys=['label_enc.weight', 'bert.embeddings.position_ids'])\n",
      "SegTracker has been initialized\n",
      "processed frame 22, obj_num 0\r"
     ]
    },
    {
     "name": "stderr",
     "output_type": "stream",
     "text": [
      "Num: 187, count for 'mouse': 0.0, prompt: @sam Prompt: zombie mickey mouse, realistic, photoreal, 4k detailed  Author: @sam, path: /apdcephfs_cq3/share_1290939/shadowcun/evals_dev/pikavideos/prompts/zombie_mickey_mouse_realistic_photoreal_4k_detailed.txt\n",
      "2023-08-23 19:32:38 Num: 187, count for 'mouse': 0.0, prompt: @sam Prompt: zombie mickey mouse, realistic, photoreal, 4k detailed  Author: @sam, path: /apdcephfs_cq3/share_1290939/shadowcun/evals_dev/pikavideos/prompts/zombie_mickey_mouse_realistic_photoreal_4k_detailed.txt\n"
     ]
    },
    {
     "name": "stdout",
     "output_type": "stream",
     "text": [
      "processed frame 23, obj_num 0\n",
      "finished\n",
      "Directory already exists: ./pikavideos/car/masks\n",
      "Directory already exists: ./pikavideos/car/mask_video\n",
      "Directory already exists: ./pikavideos/car/mask_gif\n",
      "final text_encoder_type: bert-base-uncased\n",
      "Model loaded from ./ckpt/groundingdino_swint_ogc.pth \n",
      " => _IncompatibleKeys(missing_keys=[], unexpected_keys=['label_enc.weight', 'bert.embeddings.position_ids'])\n",
      "SegTracker has been initialized\n",
      "processed frame 22, obj_num 0\r"
     ]
    },
    {
     "name": "stderr",
     "output_type": "stream",
     "text": [
      "Num: 187, count for 'car': 0.0, prompt: @CesarMerida Prompt: a man driving a car  Author: @CesarMerida, path: /apdcephfs_cq3/share_1290939/shadowcun/evals_dev/pikavideos/prompts/a_man_driving_a_car_seed5983925423732343952.txt\n",
      "2023-08-23 19:32:48 Num: 187, count for 'car': 0.0, prompt: @CesarMerida Prompt: a man driving a car  Author: @CesarMerida, path: /apdcephfs_cq3/share_1290939/shadowcun/evals_dev/pikavideos/prompts/a_man_driving_a_car_seed5983925423732343952.txt\n"
     ]
    },
    {
     "name": "stdout",
     "output_type": "stream",
     "text": [
      "processed frame 23, obj_num 0\n",
      "finished\n",
      "Directory already exists: ./pikavideos/cat/masks\n",
      "Directory already exists: ./pikavideos/cat/mask_video\n",
      "Directory already exists: ./pikavideos/cat/mask_gif\n",
      "final text_encoder_type: bert-base-uncased\n",
      "Model loaded from ./ckpt/groundingdino_swint_ogc.pth \n",
      " => _IncompatibleKeys(missing_keys=[], unexpected_keys=['label_enc.weight', 'bert.embeddings.position_ids'])\n",
      "SegTracker has been initialized\n",
      "processed frame 22, obj_num 1\r"
     ]
    },
    {
     "name": "stderr",
     "output_type": "stream",
     "text": [
      "Num: 188, count for 'cat': 1.0, prompt: @Gizéh Prompt: the dance of the cat men of the forest, cinematic style, amazing digital animation, highly detailed, 4k, hd  Author: @Gizéh, path: /apdcephfs_cq3/share_1290939/shadowcun/evals_dev/pikavideos/prompts/the_dance_of_the_cat_men_of_the_forest_cinematic_style_amazing_digital_animation_highly_detailed_seed8019795298952566789.txt\n",
      "2023-08-23 19:32:59 Num: 188, count for 'cat': 1.0, prompt: @Gizéh Prompt: the dance of the cat men of the forest, cinematic style, amazing digital animation, highly detailed, 4k, hd  Author: @Gizéh, path: /apdcephfs_cq3/share_1290939/shadowcun/evals_dev/pikavideos/prompts/the_dance_of_the_cat_men_of_the_forest_cinematic_style_amazing_digital_animation_highly_detailed_seed8019795298952566789.txt\n"
     ]
    },
    {
     "name": "stdout",
     "output_type": "stream",
     "text": [
      "processed frame 23, obj_num 1\n",
      "finished\n",
      "Directory already exists: ./pikavideos/tv/masks\n",
      "Directory already exists: ./pikavideos/tv/mask_video\n",
      "Directory already exists: ./pikavideos/tv/mask_gif\n",
      "final text_encoder_type: bert-base-uncased\n",
      "Model loaded from ./ckpt/groundingdino_swint_ogc.pth \n",
      " => _IncompatibleKeys(missing_keys=[], unexpected_keys=['label_enc.weight', 'bert.embeddings.position_ids'])\n",
      "SegTracker has been initialized\n",
      "processed frame 22, obj_num 0\r"
     ]
    },
    {
     "name": "stderr",
     "output_type": "stream",
     "text": [
      "Num: 188, count for 'tv': 0.0, prompt: douggyused /createPika BOT 07/05/2023 5:49 AM@douggy Prompt: daytime childrens tv show, UK, 1980, tv show, puppet, presenter, crying  Author: @douggy (edited), path: /apdcephfs_cq3/share_1290939/shadowcun/evals_dev/pikavideos/prompts/daytime_childrens_tv_show_UK_1980_tv_show_puppet_presenter_crying.txt\n",
      "2023-08-23 19:33:08 Num: 188, count for 'tv': 0.0, prompt: douggyused /createPika BOT 07/05/2023 5:49 AM@douggy Prompt: daytime childrens tv show, UK, 1980, tv show, puppet, presenter, crying  Author: @douggy (edited), path: /apdcephfs_cq3/share_1290939/shadowcun/evals_dev/pikavideos/prompts/daytime_childrens_tv_show_UK_1980_tv_show_puppet_presenter_crying.txt\n"
     ]
    },
    {
     "name": "stdout",
     "output_type": "stream",
     "text": [
      "processed frame 23, obj_num 0\n",
      "finished\n",
      "Directory already exists: ./pikavideos/tv/masks\n",
      "Directory already exists: ./pikavideos/tv/mask_video\n",
      "Directory already exists: ./pikavideos/tv/mask_gif\n",
      "final text_encoder_type: bert-base-uncased\n",
      "Model loaded from ./ckpt/groundingdino_swint_ogc.pth \n",
      " => _IncompatibleKeys(missing_keys=[], unexpected_keys=['label_enc.weight', 'bert.embeddings.position_ids'])\n",
      "SegTracker has been initialized\n",
      "processed frame 22, obj_num 0\r"
     ]
    },
    {
     "name": "stderr",
     "output_type": "stream",
     "text": [
      "Num: 188, count for 'tv': 0.0, prompt: @ランラン-ᛒᛚᚢᛒ Prompt: <lora:AnalogDistortion:1>, a girl playing in the shore waves, miami beach sunset,AnalogDistortion, analog photo , fujifilm, fujicolor, LOMO, nexpo,in the style of 70s-90s dating hotline tv comercial ads lost media  Author: @ランラン-ᛒᛚᚢᛒ, path: /apdcephfs_cq3/share_1290939/shadowcun/evals_dev/pikavideos/prompts/lora_AnalogDistortion_1__a_girl_playing_in_the_shore_waves_miami_beach_sunsetAnalogDistortion_a_seed11145278913442721860.txt\n",
      "2023-08-23 19:33:19 Num: 188, count for 'tv': 0.0, prompt: @ランラン-ᛒᛚᚢᛒ Prompt: <lora:AnalogDistortion:1>, a girl playing in the shore waves, miami beach sunset,AnalogDistortion, analog photo , fujifilm, fujicolor, LOMO, nexpo,in the style of 70s-90s dating hotline tv comercial ads lost media  Author: @ランラン-ᛒᛚᚢᛒ, path: /apdcephfs_cq3/share_1290939/shadowcun/evals_dev/pikavideos/prompts/lora_AnalogDistortion_1__a_girl_playing_in_the_shore_waves_miami_beach_sunsetAnalogDistortion_a_seed11145278913442721860.txt\n"
     ]
    },
    {
     "name": "stdout",
     "output_type": "stream",
     "text": [
      "processed frame 23, obj_num 0\n",
      "finished\n",
      "Directory already exists: ./pikavideos/horse/masks\n",
      "Directory already exists: ./pikavideos/horse/mask_video\n",
      "Directory already exists: ./pikavideos/horse/mask_gif\n",
      "final text_encoder_type: bert-base-uncased\n",
      "Model loaded from ./ckpt/groundingdino_swint_ogc.pth \n",
      " => _IncompatibleKeys(missing_keys=[], unexpected_keys=['label_enc.weight', 'bert.embeddings.position_ids'])\n",
      "SegTracker has been initialized\n",
      "processed frame 22, obj_num 2\r"
     ]
    },
    {
     "name": "stderr",
     "output_type": "stream",
     "text": [
      "Num: 189, count for 'horse': 2.0, prompt: @JerryWon Prompt: horses race  Image: 1 Attachment  Author: @JerryWon, path: /apdcephfs_cq3/share_1290939/shadowcun/evals_dev/pikavideos/prompts/horses_race__Image__1_Attachment_seed8826621366677356175.txt\n",
      "2023-08-23 19:33:29 Num: 189, count for 'horse': 2.0, prompt: @JerryWon Prompt: horses race  Image: 1 Attachment  Author: @JerryWon, path: /apdcephfs_cq3/share_1290939/shadowcun/evals_dev/pikavideos/prompts/horses_race__Image__1_Attachment_seed8826621366677356175.txt\n"
     ]
    },
    {
     "name": "stdout",
     "output_type": "stream",
     "text": [
      "processed frame 23, obj_num 2\n",
      "finished\n",
      "Directory already exists: ./pikavideos/toilet/masks\n",
      "Directory already exists: ./pikavideos/toilet/mask_video\n",
      "Directory already exists: ./pikavideos/toilet/mask_gif\n",
      "final text_encoder_type: bert-base-uncased\n",
      "Model loaded from ./ckpt/groundingdino_swint_ogc.pth \n",
      " => _IncompatibleKeys(missing_keys=[], unexpected_keys=['label_enc.weight', 'bert.embeddings.position_ids'])\n",
      "SegTracker has been initialized\n",
      "processed frame 22, obj_num 0\r"
     ]
    },
    {
     "name": "stderr",
     "output_type": "stream",
     "text": [
      "Num: 189, count for 'toilet': 0.0, prompt: @влатбалымов Prompt: elves are flying above an endless toilet field  Author: @влатбалымов, path: /apdcephfs_cq3/share_1290939/shadowcun/evals_dev/pikavideos/prompts/elves_are_flying_above_an_endless_toilet_field_seed3079781608179735161.txt\n",
      "2023-08-23 19:33:39 Num: 189, count for 'toilet': 0.0, prompt: @влатбалымов Prompt: elves are flying above an endless toilet field  Author: @влатбалымов, path: /apdcephfs_cq3/share_1290939/shadowcun/evals_dev/pikavideos/prompts/elves_are_flying_above_an_endless_toilet_field_seed3079781608179735161.txt\n"
     ]
    },
    {
     "name": "stdout",
     "output_type": "stream",
     "text": [
      "processed frame 23, obj_num 0\n",
      "finished\n",
      "Directory already exists: ./pikavideos/car/masks\n",
      "Directory already exists: ./pikavideos/car/mask_video\n",
      "Directory already exists: ./pikavideos/car/mask_gif\n",
      "final text_encoder_type: bert-base-uncased\n",
      "Model loaded from ./ckpt/groundingdino_swint_ogc.pth \n",
      " => _IncompatibleKeys(missing_keys=[], unexpected_keys=['label_enc.weight', 'bert.embeddings.position_ids'])\n",
      "SegTracker has been initialized\n",
      "processed frame 22, obj_num 0\r"
     ]
    },
    {
     "name": "stderr",
     "output_type": "stream",
     "text": [
      "Num: 189, count for 'car': 0.0, prompt: @mo Prompt: Showcase the fascinating journey of a curious and intelligent wolf as she explores the future. The wolf is a female with blue eyes, sleek gray fur, and muscle tone. She stumbles upon a group of technologists and researchers working on cutting-edge innovations. Illustrate futuristic inventions, virtual reality, and flying cars. -Pixelated. -ar 16:9 -gs 16  Author: @mo, path: /apdcephfs_cq3/share_1290939/shadowcun/evals_dev/pikavideos/prompts/Showcase_the_fascinating_journey_of_a_curious_and_intelligent_wolf_as_she_explores_the_future._The_w_seed15685071708910778938.txt\n",
      "2023-08-23 19:33:49 Num: 189, count for 'car': 0.0, prompt: @mo Prompt: Showcase the fascinating journey of a curious and intelligent wolf as she explores the future. The wolf is a female with blue eyes, sleek gray fur, and muscle tone. She stumbles upon a group of technologists and researchers working on cutting-edge innovations. Illustrate futuristic inventions, virtual reality, and flying cars. -Pixelated. -ar 16:9 -gs 16  Author: @mo, path: /apdcephfs_cq3/share_1290939/shadowcun/evals_dev/pikavideos/prompts/Showcase_the_fascinating_journey_of_a_curious_and_intelligent_wolf_as_she_explores_the_future._The_w_seed15685071708910778938.txt\n"
     ]
    },
    {
     "name": "stdout",
     "output_type": "stream",
     "text": [
      "processed frame 23, obj_num 0\n",
      "finished\n",
      "Directory already exists: ./pikavideos/cow/masks\n",
      "Directory already exists: ./pikavideos/cow/mask_video\n",
      "Directory already exists: ./pikavideos/cow/mask_gif\n",
      "final text_encoder_type: bert-base-uncased\n",
      "Model loaded from ./ckpt/groundingdino_swint_ogc.pth \n",
      " => _IncompatibleKeys(missing_keys=[], unexpected_keys=['label_enc.weight', 'bert.embeddings.position_ids'])\n",
      "SegTracker has been initialized\n",
      "processed frame 22, obj_num 0\r"
     ]
    },
    {
     "name": "stderr",
     "output_type": "stream",
     "text": [
      "Num: 189, count for 'cow': 0.0, prompt: @moo cow Prompt: never before seen film footage of non-humanoid creatures from the original \"The Outer Limits\" and \"The Twilight Zone\" in classic black and white moving pictures  Author: @moo cow, path: /apdcephfs_cq3/share_1290939/shadowcun/evals_dev/pikavideos/prompts/never_before_seen_film_footage_of_non-humanoid_creatures_from_the_original__The_Outer_Limits__and__T_seed7093114907991868354.txt\n",
      "2023-08-23 19:33:59 Num: 189, count for 'cow': 0.0, prompt: @moo cow Prompt: never before seen film footage of non-humanoid creatures from the original \"The Outer Limits\" and \"The Twilight Zone\" in classic black and white moving pictures  Author: @moo cow, path: /apdcephfs_cq3/share_1290939/shadowcun/evals_dev/pikavideos/prompts/never_before_seen_film_footage_of_non-humanoid_creatures_from_the_original__The_Outer_Limits__and__T_seed7093114907991868354.txt\n"
     ]
    },
    {
     "name": "stdout",
     "output_type": "stream",
     "text": [
      "processed frame 23, obj_num 0\n",
      "finished\n",
      "Directory already exists: ./pikavideos/horse/masks\n",
      "Directory already exists: ./pikavideos/horse/mask_video\n",
      "Directory already exists: ./pikavideos/horse/mask_gif\n",
      "final text_encoder_type: bert-base-uncased\n",
      "Model loaded from ./ckpt/groundingdino_swint_ogc.pth \n",
      " => _IncompatibleKeys(missing_keys=[], unexpected_keys=['label_enc.weight', 'bert.embeddings.position_ids'])\n",
      "SegTracker has been initialized\n",
      "processed frame 22, obj_num 1\r"
     ]
    },
    {
     "name": "stderr",
     "output_type": "stream",
     "text": [
      "Num: 190, count for 'horse': 1.0, prompt: @Sarahkozak Prompt: cowboy and horse rising above and getting abducted by a UFO  Image: 1 Attachment  Author: @Sarahkozak, path: /apdcephfs_cq3/share_1290939/shadowcun/evals_dev/pikavideos/prompts/cowboy_and_horse_rising_above_and_getting_abducted_by_a_UFO__Image__1_Attachment_seed6406969688023391456.txt\n",
      "2023-08-23 19:34:10 Num: 190, count for 'horse': 1.0, prompt: @Sarahkozak Prompt: cowboy and horse rising above and getting abducted by a UFO  Image: 1 Attachment  Author: @Sarahkozak, path: /apdcephfs_cq3/share_1290939/shadowcun/evals_dev/pikavideos/prompts/cowboy_and_horse_rising_above_and_getting_abducted_by_a_UFO__Image__1_Attachment_seed6406969688023391456.txt\n"
     ]
    },
    {
     "name": "stdout",
     "output_type": "stream",
     "text": [
      "processed frame 23, obj_num 1\n",
      "finished\n",
      "Directory already exists: ./pikavideos/horse/masks\n",
      "Directory already exists: ./pikavideos/horse/mask_video\n",
      "Directory already exists: ./pikavideos/horse/mask_gif\n",
      "final text_encoder_type: bert-base-uncased\n",
      "Model loaded from ./ckpt/groundingdino_swint_ogc.pth \n",
      " => _IncompatibleKeys(missing_keys=[], unexpected_keys=['label_enc.weight', 'bert.embeddings.position_ids'])\n",
      "SegTracker has been initialized\n",
      "processed frame 22, obj_num 2\r"
     ]
    },
    {
     "name": "stderr",
     "output_type": "stream",
     "text": [
      "Num: 191, count for 'horse': 2.0, prompt: @Totallyben! Prompt: horses hooves kicking up dirt ar-16:9  Author: @Totallyben!, path: /apdcephfs_cq3/share_1290939/shadowcun/evals_dev/pikavideos/prompts/horses_hooves_kicking_up_dirt_ar-16_9_seed70794435876549181.txt\n",
      "2023-08-23 19:34:21 Num: 191, count for 'horse': 2.0, prompt: @Totallyben! Prompt: horses hooves kicking up dirt ar-16:9  Author: @Totallyben!, path: /apdcephfs_cq3/share_1290939/shadowcun/evals_dev/pikavideos/prompts/horses_hooves_kicking_up_dirt_ar-16_9_seed70794435876549181.txt\n"
     ]
    },
    {
     "name": "stdout",
     "output_type": "stream",
     "text": [
      "processed frame 23, obj_num 2\n",
      "finished\n",
      "Directory already exists: ./pikavideos/car/masks\n",
      "Directory already exists: ./pikavideos/car/mask_video\n",
      "Directory already exists: ./pikavideos/car/mask_gif\n",
      "final text_encoder_type: bert-base-uncased\n",
      "Model loaded from ./ckpt/groundingdino_swint_ogc.pth \n",
      " => _IncompatibleKeys(missing_keys=[], unexpected_keys=['label_enc.weight', 'bert.embeddings.position_ids'])\n",
      "SegTracker has been initialized\n",
      "processed frame 22, obj_num 1\r"
     ]
    },
    {
     "name": "stderr",
     "output_type": "stream",
     "text": [
      "Num: 192, count for 'car': 1.0, prompt: @serg Prompt: Steampunk classic The tavern, the cabaret, the whores in steampunk style old man grey hai goggles victorian driving car, -seed1761196088961288136, --neg ((deformed, distorted, disfigured:1.3), poorly drawn, bad anatomy, wrong anatomy, extra limb, missing limb, floating limbs, (mutated hands and fingers:1.4), disconnected limbs, mutation, mutated, ugly, disgusting, blurry, amputation)  Author: @serg, path: /apdcephfs_cq3/share_1290939/shadowcun/evals_dev/pikavideos/prompts/Steampunk_classic_The_tavern_the_cabaret_the_whores_in_steampunk_style_old_man_grey_hai_goggles_vi_seed15368867679539182376.txt\n",
      "2023-08-23 19:34:31 Num: 192, count for 'car': 1.0, prompt: @serg Prompt: Steampunk classic The tavern, the cabaret, the whores in steampunk style old man grey hai goggles victorian driving car, -seed1761196088961288136, --neg ((deformed, distorted, disfigured:1.3), poorly drawn, bad anatomy, wrong anatomy, extra limb, missing limb, floating limbs, (mutated hands and fingers:1.4), disconnected limbs, mutation, mutated, ugly, disgusting, blurry, amputation)  Author: @serg, path: /apdcephfs_cq3/share_1290939/shadowcun/evals_dev/pikavideos/prompts/Steampunk_classic_The_tavern_the_cabaret_the_whores_in_steampunk_style_old_man_grey_hai_goggles_vi_seed15368867679539182376.txt\n"
     ]
    },
    {
     "name": "stdout",
     "output_type": "stream",
     "text": [
      "processed frame 23, obj_num 1\n",
      "finished\n",
      "Directory already exists: ./pikavideos/boat/masks\n",
      "Directory already exists: ./pikavideos/boat/mask_video\n",
      "Directory already exists: ./pikavideos/boat/mask_gif\n",
      "final text_encoder_type: bert-base-uncased\n",
      "Model loaded from ./ckpt/groundingdino_swint_ogc.pth \n",
      " => _IncompatibleKeys(missing_keys=[], unexpected_keys=['label_enc.weight', 'bert.embeddings.position_ids'])\n",
      "SegTracker has been initialized\n",
      "processed frame 22, obj_num 1\r"
     ]
    },
    {
     "name": "stderr",
     "output_type": "stream",
     "text": [
      "Num: 193, count for 'boat': 1.0, prompt: @冰封溪谷 Prompt: The boat drifts on the lake, its oars beating against the water.  Author: @冰封溪谷, path: /apdcephfs_cq3/share_1290939/shadowcun/evals_dev/pikavideos/prompts/The_boat_drifts_on_the_lake_its_oars_beating_against_the_water._seed3968795885561555695.txt\n",
      "2023-08-23 19:34:42 Num: 193, count for 'boat': 1.0, prompt: @冰封溪谷 Prompt: The boat drifts on the lake, its oars beating against the water.  Author: @冰封溪谷, path: /apdcephfs_cq3/share_1290939/shadowcun/evals_dev/pikavideos/prompts/The_boat_drifts_on_the_lake_its_oars_beating_against_the_water._seed3968795885561555695.txt\n"
     ]
    },
    {
     "name": "stdout",
     "output_type": "stream",
     "text": [
      "processed frame 23, obj_num 1\n",
      "finished\n",
      "Directory already exists: ./pikavideos/horse/masks\n",
      "Directory already exists: ./pikavideos/horse/mask_video\n",
      "Directory already exists: ./pikavideos/horse/mask_gif\n",
      "final text_encoder_type: bert-base-uncased\n",
      "Model loaded from ./ckpt/groundingdino_swint_ogc.pth \n",
      " => _IncompatibleKeys(missing_keys=[], unexpected_keys=['label_enc.weight', 'bert.embeddings.position_ids'])\n",
      "SegTracker has been initialized\n",
      "processed frame 22, obj_num 1\r"
     ]
    },
    {
     "name": "stderr",
     "output_type": "stream",
     "text": [
      "Num: 194, count for 'horse': 1.0, prompt: @Milietoon Prompt: Four knights on the same horse galloping across a battlefield  Image: 1 Attachment  Author: @Milietoon, path: /apdcephfs_cq3/share_1290939/shadowcun/evals_dev/pikavideos/prompts/Four_knights_on_the_same_horse_galloping_across_a_battlefield__Image__1_Attachment_seed3987821317759632387.txt\n",
      "2023-08-23 19:34:52 Num: 194, count for 'horse': 1.0, prompt: @Milietoon Prompt: Four knights on the same horse galloping across a battlefield  Image: 1 Attachment  Author: @Milietoon, path: /apdcephfs_cq3/share_1290939/shadowcun/evals_dev/pikavideos/prompts/Four_knights_on_the_same_horse_galloping_across_a_battlefield__Image__1_Attachment_seed3987821317759632387.txt\n"
     ]
    },
    {
     "name": "stdout",
     "output_type": "stream",
     "text": [
      "processed frame 23, obj_num 1\n",
      "finished\n",
      "Directory already exists: ./pikavideos/tv/masks\n",
      "Directory already exists: ./pikavideos/tv/mask_video\n",
      "Directory already exists: ./pikavideos/tv/mask_gif\n",
      "final text_encoder_type: bert-base-uncased\n",
      "Model loaded from ./ckpt/groundingdino_swint_ogc.pth \n",
      " => _IncompatibleKeys(missing_keys=[], unexpected_keys=['label_enc.weight', 'bert.embeddings.position_ids'])\n",
      "SegTracker has been initialized\n",
      "processed frame 22, obj_num 0\r"
     ]
    },
    {
     "name": "stderr",
     "output_type": "stream",
     "text": [
      "Num: 194, count for 'tv': 0.0, prompt: @ランラン-ᛒᛚᚢᛒ Prompt: <lora:AnalogDistortion:0.4>,pregnant yoda,AnalogDistortion, analog photo  , analog photo, fujifilm, fujicolor, LOMO, nexpo,in the style of 70s-90s dating hotline tv comercial ads lost media  Author: @ランラン-ᛒᛚᚢᛒ, path: /apdcephfs_cq3/share_1290939/shadowcun/evals_dev/pikavideos/prompts/lora_AnalogDistortion_0.4_pregnant_yodaAnalogDistortion_analog_photo___analog_photo_fujifilm__seed8646609688053412142.txt\n",
      "2023-08-23 19:35:02 Num: 194, count for 'tv': 0.0, prompt: @ランラン-ᛒᛚᚢᛒ Prompt: <lora:AnalogDistortion:0.4>,pregnant yoda,AnalogDistortion, analog photo  , analog photo, fujifilm, fujicolor, LOMO, nexpo,in the style of 70s-90s dating hotline tv comercial ads lost media  Author: @ランラン-ᛒᛚᚢᛒ, path: /apdcephfs_cq3/share_1290939/shadowcun/evals_dev/pikavideos/prompts/lora_AnalogDistortion_0.4_pregnant_yodaAnalogDistortion_analog_photo___analog_photo_fujifilm__seed8646609688053412142.txt\n"
     ]
    },
    {
     "name": "stdout",
     "output_type": "stream",
     "text": [
      "processed frame 23, obj_num 0\n",
      "finished\n",
      "Directory already exists: ./pikavideos/cat/masks\n",
      "Directory already exists: ./pikavideos/cat/mask_video\n",
      "Directory already exists: ./pikavideos/cat/mask_gif\n",
      "final text_encoder_type: bert-base-uncased\n",
      "Model loaded from ./ckpt/groundingdino_swint_ogc.pth \n",
      " => _IncompatibleKeys(missing_keys=[], unexpected_keys=['label_enc.weight', 'bert.embeddings.position_ids'])\n",
      "SegTracker has been initialized\n",
      "processed frame 22, obj_num 1\r"
     ]
    },
    {
     "name": "stderr",
     "output_type": "stream",
     "text": [
      "Num: 195, count for 'cat': 1.0, prompt: @caihe Prompt: Cats drink water, fish swim  Image: 1 Attachment  Author: @caihe, path: /apdcephfs_cq3/share_1290939/shadowcun/evals_dev/pikavideos/prompts/Cats_drink_water_fish_swim__Image__1_Attachment_seed1802449737854618231.txt\n",
      "2023-08-23 19:35:12 Num: 195, count for 'cat': 1.0, prompt: @caihe Prompt: Cats drink water, fish swim  Image: 1 Attachment  Author: @caihe, path: /apdcephfs_cq3/share_1290939/shadowcun/evals_dev/pikavideos/prompts/Cats_drink_water_fish_swim__Image__1_Attachment_seed1802449737854618231.txt\n"
     ]
    },
    {
     "name": "stdout",
     "output_type": "stream",
     "text": [
      "processed frame 23, obj_num 1\n",
      "finished\n",
      "Directory created: ./pikavideos/apple/masks\n",
      "Directory created: ./pikavideos/apple/mask_video\n",
      "Directory created: ./pikavideos/apple/mask_gif\n",
      "final text_encoder_type: bert-base-uncased\n",
      "Model loaded from ./ckpt/groundingdino_swint_ogc.pth \n",
      " => _IncompatibleKeys(missing_keys=[], unexpected_keys=['label_enc.weight', 'bert.embeddings.position_ids'])\n",
      "SegTracker has been initialized\n",
      "processed frame 22, obj_num 1\r"
     ]
    },
    {
     "name": "stderr",
     "output_type": "stream",
     "text": [
      "Num: 196, count for 'apple': 1.0, prompt: @0.leo.0 Prompt: rotting apple  Author: @0.leo.0, path: /apdcephfs_cq3/share_1290939/shadowcun/evals_dev/pikavideos/prompts/rotting_apple_seed14380921347069490967.txt\n",
      "2023-08-23 19:35:22 Num: 196, count for 'apple': 1.0, prompt: @0.leo.0 Prompt: rotting apple  Author: @0.leo.0, path: /apdcephfs_cq3/share_1290939/shadowcun/evals_dev/pikavideos/prompts/rotting_apple_seed14380921347069490967.txt\n"
     ]
    },
    {
     "name": "stdout",
     "output_type": "stream",
     "text": [
      "processed frame 23, obj_num 1\n",
      "finished\n",
      "Directory already exists: ./pikavideos/bird/masks\n",
      "Directory already exists: ./pikavideos/bird/mask_video\n",
      "Directory already exists: ./pikavideos/bird/mask_gif\n",
      "final text_encoder_type: bert-base-uncased\n",
      "Model loaded from ./ckpt/groundingdino_swint_ogc.pth \n",
      " => _IncompatibleKeys(missing_keys=[], unexpected_keys=['label_enc.weight', 'bert.embeddings.position_ids'])\n",
      "SegTracker has been initialized\n",
      "processed frame 22, obj_num 1\r"
     ]
    },
    {
     "name": "stderr",
     "output_type": "stream",
     "text": [
      "Num: 197, count for 'bird': 1.0, prompt: @EireStrike Prompt: bird in water  Image: 1 Attachment  Author: @EireStrike, path: /apdcephfs_cq3/share_1290939/shadowcun/evals_dev/pikavideos/prompts/bird_in_water__Image__1_Attachment_seed7801342474670625767.txt\n",
      "2023-08-23 19:35:34 Num: 197, count for 'bird': 1.0, prompt: @EireStrike Prompt: bird in water  Image: 1 Attachment  Author: @EireStrike, path: /apdcephfs_cq3/share_1290939/shadowcun/evals_dev/pikavideos/prompts/bird_in_water__Image__1_Attachment_seed7801342474670625767.txt\n"
     ]
    },
    {
     "name": "stdout",
     "output_type": "stream",
     "text": [
      "processed frame 23, obj_num 1\n",
      "finished\n",
      "Directory already exists: ./pikavideos/car/masks\n",
      "Directory already exists: ./pikavideos/car/mask_video\n",
      "Directory already exists: ./pikavideos/car/mask_gif\n",
      "final text_encoder_type: bert-base-uncased\n",
      "Model loaded from ./ckpt/groundingdino_swint_ogc.pth \n",
      " => _IncompatibleKeys(missing_keys=[], unexpected_keys=['label_enc.weight', 'bert.embeddings.position_ids'])\n",
      "SegTracker has been initialized\n",
      "processed frame 22, obj_num 0\r"
     ]
    },
    {
     "name": "stderr",
     "output_type": "stream",
     "text": [
      "Num: 197, count for 'car': 0.0, prompt: @ANAZ Prompt: woman from back in a car -ar 9:16  Author: @ANAZ, path: /apdcephfs_cq3/share_1290939/shadowcun/evals_dev/pikavideos/prompts/woman_from_back_in_a_car_-ar_9_16_seed10530675568021828679.txt\n",
      "2023-08-23 19:35:45 Num: 197, count for 'car': 0.0, prompt: @ANAZ Prompt: woman from back in a car -ar 9:16  Author: @ANAZ, path: /apdcephfs_cq3/share_1290939/shadowcun/evals_dev/pikavideos/prompts/woman_from_back_in_a_car_-ar_9_16_seed10530675568021828679.txt\n"
     ]
    },
    {
     "name": "stdout",
     "output_type": "stream",
     "text": [
      "processed frame 23, obj_num 0\n",
      "finished\n",
      "Directory already exists: ./pikavideos/tv/masks\n",
      "Directory already exists: ./pikavideos/tv/mask_video\n",
      "Directory already exists: ./pikavideos/tv/mask_gif\n",
      "final text_encoder_type: bert-base-uncased\n",
      "Model loaded from ./ckpt/groundingdino_swint_ogc.pth \n",
      " => _IncompatibleKeys(missing_keys=[], unexpected_keys=['label_enc.weight', 'bert.embeddings.position_ids'])\n",
      "SegTracker has been initialized\n",
      "processed frame 22, obj_num 0\r"
     ]
    },
    {
     "name": "stderr",
     "output_type": "stream",
     "text": [
      "Num: 197, count for 'tv': 0.0, prompt: @adamwhatelse (adam tubak) Prompt: tv ad  Image: 1 Attachment  Author: @adamwhatelse (adam tubak), path: /apdcephfs_cq3/share_1290939/shadowcun/evals_dev/pikavideos/prompts/tv_ad__Image__1_Attachment_seed1414631191472616986.txt\n",
      "2023-08-23 19:35:54 Num: 197, count for 'tv': 0.0, prompt: @adamwhatelse (adam tubak) Prompt: tv ad  Image: 1 Attachment  Author: @adamwhatelse (adam tubak), path: /apdcephfs_cq3/share_1290939/shadowcun/evals_dev/pikavideos/prompts/tv_ad__Image__1_Attachment_seed1414631191472616986.txt\n"
     ]
    },
    {
     "name": "stdout",
     "output_type": "stream",
     "text": [
      "processed frame 23, obj_num 0\n",
      "finished\n",
      "Directory already exists: ./pikavideos/cat/masks\n",
      "Directory already exists: ./pikavideos/cat/mask_video\n",
      "Directory already exists: ./pikavideos/cat/mask_gif\n",
      "final text_encoder_type: bert-base-uncased\n",
      "Model loaded from ./ckpt/groundingdino_swint_ogc.pth \n",
      " => _IncompatibleKeys(missing_keys=[], unexpected_keys=['label_enc.weight', 'bert.embeddings.position_ids'])\n",
      "SegTracker has been initialized\n",
      "processed frame 22, obj_num 0\r"
     ]
    },
    {
     "name": "stderr",
     "output_type": "stream",
     "text": [
      "Num: 197, count for 'cat': 0.0, prompt: @starseed Prompt: a tree -motion 3  -gs24 and a cat and a woman  existing -ar 16:9  Author: @starseed, path: /apdcephfs_cq3/share_1290939/shadowcun/evals_dev/pikavideos/prompts/a_tree_-motion_3__-gs24_and_a_cat_and_a_woman__existing_-ar_16_9_seed3876224246623086219.txt\n",
      "2023-08-23 19:36:05 Num: 197, count for 'cat': 0.0, prompt: @starseed Prompt: a tree -motion 3  -gs24 and a cat and a woman  existing -ar 16:9  Author: @starseed, path: /apdcephfs_cq3/share_1290939/shadowcun/evals_dev/pikavideos/prompts/a_tree_-motion_3__-gs24_and_a_cat_and_a_woman__existing_-ar_16_9_seed3876224246623086219.txt\n"
     ]
    },
    {
     "name": "stdout",
     "output_type": "stream",
     "text": [
      "processed frame 23, obj_num 0\n",
      "finished\n",
      "Directory already exists: ./pikavideos/orange/masks\n",
      "Directory already exists: ./pikavideos/orange/mask_video\n",
      "Directory already exists: ./pikavideos/orange/mask_gif\n",
      "final text_encoder_type: bert-base-uncased\n",
      "Model loaded from ./ckpt/groundingdino_swint_ogc.pth \n",
      " => _IncompatibleKeys(missing_keys=[], unexpected_keys=['label_enc.weight', 'bert.embeddings.position_ids'])\n",
      "SegTracker has been initialized\n",
      "processed frame 22, obj_num 0\r"
     ]
    },
    {
     "name": "stderr",
     "output_type": "stream",
     "text": [
      "Num: 197, count for 'orange': 0.0, prompt: @MaxNap#1618 Prompt: drone flight in a straight line over tuscany, early morning sun, golden and orange light on the green hills and the rows of cypress trees, 4k -ar 16:9  Author: @MaxNap#1618, path: /apdcephfs_cq3/share_1290939/shadowcun/evals_dev/pikavideos/prompts/drone_flight_in_a_straight_line_over_tuscany_early_morning_sun_golden_and_orange_light_on_the_gree_seed3489728320600333981.txt\n",
      "2023-08-23 19:36:15 Num: 197, count for 'orange': 0.0, prompt: @MaxNap#1618 Prompt: drone flight in a straight line over tuscany, early morning sun, golden and orange light on the green hills and the rows of cypress trees, 4k -ar 16:9  Author: @MaxNap#1618, path: /apdcephfs_cq3/share_1290939/shadowcun/evals_dev/pikavideos/prompts/drone_flight_in_a_straight_line_over_tuscany_early_morning_sun_golden_and_orange_light_on_the_gree_seed3489728320600333981.txt\n"
     ]
    },
    {
     "name": "stdout",
     "output_type": "stream",
     "text": [
      "processed frame 23, obj_num 0\n",
      "finished\n",
      "Directory already exists: ./pikavideos/cat/masks\n",
      "Directory already exists: ./pikavideos/cat/mask_video\n",
      "Directory already exists: ./pikavideos/cat/mask_gif\n",
      "final text_encoder_type: bert-base-uncased\n",
      "Model loaded from ./ckpt/groundingdino_swint_ogc.pth \n",
      " => _IncompatibleKeys(missing_keys=[], unexpected_keys=['label_enc.weight', 'bert.embeddings.position_ids'])\n",
      "SegTracker has been initialized\n",
      "processed frame 22, obj_num 0\r"
     ]
    },
    {
     "name": "stderr",
     "output_type": "stream",
     "text": [
      "Num: 197, count for 'cat': 0.0, prompt: @Rez Prompt: xenomorph playing with a cat  Image: 1 Attachment  Author: @Rez, path: /apdcephfs_cq3/share_1290939/shadowcun/evals_dev/pikavideos/prompts/xenomorph_playing_with_a_cat__Image__1_Attachment_seed11359398577744513678.txt\n",
      "2023-08-23 19:36:25 Num: 197, count for 'cat': 0.0, prompt: @Rez Prompt: xenomorph playing with a cat  Image: 1 Attachment  Author: @Rez, path: /apdcephfs_cq3/share_1290939/shadowcun/evals_dev/pikavideos/prompts/xenomorph_playing_with_a_cat__Image__1_Attachment_seed11359398577744513678.txt\n"
     ]
    },
    {
     "name": "stdout",
     "output_type": "stream",
     "text": [
      "processed frame 23, obj_num 0\n",
      "finished\n",
      "Directory already exists: ./pikavideos/train/masks\n",
      "Directory already exists: ./pikavideos/train/mask_video\n",
      "Directory already exists: ./pikavideos/train/mask_gif\n",
      "final text_encoder_type: bert-base-uncased\n",
      "Model loaded from ./ckpt/groundingdino_swint_ogc.pth \n",
      " => _IncompatibleKeys(missing_keys=[], unexpected_keys=['label_enc.weight', 'bert.embeddings.position_ids'])\n",
      "SegTracker has been initialized\n",
      "processed frame 22, obj_num 0\r"
     ]
    },
    {
     "name": "stderr",
     "output_type": "stream",
     "text": [
      "Num: 197, count for 'train': 0.0, prompt: @Nicko Prompt: moving train  Image: 1 Attachment  Author: @Nicko, path: /apdcephfs_cq3/share_1290939/shadowcun/evals_dev/pikavideos/prompts/moving_train__Image__1_Attachment_seed4201435879266228354.txt\n",
      "2023-08-23 19:36:35 Num: 197, count for 'train': 0.0, prompt: @Nicko Prompt: moving train  Image: 1 Attachment  Author: @Nicko, path: /apdcephfs_cq3/share_1290939/shadowcun/evals_dev/pikavideos/prompts/moving_train__Image__1_Attachment_seed4201435879266228354.txt\n"
     ]
    },
    {
     "name": "stdout",
     "output_type": "stream",
     "text": [
      "processed frame 23, obj_num 0\n",
      "finished\n",
      "Directory already exists: ./pikavideos/cat/masks\n",
      "Directory already exists: ./pikavideos/cat/mask_video\n",
      "Directory already exists: ./pikavideos/cat/mask_gif\n",
      "final text_encoder_type: bert-base-uncased\n",
      "Model loaded from ./ckpt/groundingdino_swint_ogc.pth \n",
      " => _IncompatibleKeys(missing_keys=[], unexpected_keys=['label_enc.weight', 'bert.embeddings.position_ids'])\n",
      "SegTracker has been initialized\n",
      "processed frame 22, obj_num 0\r"
     ]
    },
    {
     "name": "stderr",
     "output_type": "stream",
     "text": [
      "Num: 197, count for 'cat': 0.0, prompt: @Artificially Inclined™ Prompt: a cat combined with a blue whale  Author: @Artificially Inclined™, path: /apdcephfs_cq3/share_1290939/shadowcun/evals_dev/pikavideos/prompts/a_cat_combined_with_a_blue_whale.txt\n",
      "2023-08-23 19:36:45 Num: 197, count for 'cat': 0.0, prompt: @Artificially Inclined™ Prompt: a cat combined with a blue whale  Author: @Artificially Inclined™, path: /apdcephfs_cq3/share_1290939/shadowcun/evals_dev/pikavideos/prompts/a_cat_combined_with_a_blue_whale.txt\n"
     ]
    },
    {
     "name": "stdout",
     "output_type": "stream",
     "text": [
      "processed frame 23, obj_num 0\n",
      "finished\n",
      "Directory already exists: ./pikavideos/truck/masks\n",
      "Directory already exists: ./pikavideos/truck/mask_video\n",
      "Directory already exists: ./pikavideos/truck/mask_gif\n",
      "final text_encoder_type: bert-base-uncased\n",
      "Model loaded from ./ckpt/groundingdino_swint_ogc.pth \n",
      " => _IncompatibleKeys(missing_keys=[], unexpected_keys=['label_enc.weight', 'bert.embeddings.position_ids'])\n",
      "SegTracker has been initialized\n",
      "processed frame 22, obj_num 0\r"
     ]
    },
    {
     "name": "stderr",
     "output_type": "stream",
     "text": [
      "Num: 197, count for 'truck': 0.0, prompt: @MutualistSymbiosis Prompt: A zoom-in on to a trucker looking annoyed in the cab of his truck. Cinematic movement. HD 8K --ar 16:9 --motion 1  -neg \"anime, broken hands, blurry, cartoon, fake, drawing, illustration, boring, 3d render, long neck, out of frame, extra fingers, mutated hands, other people, blurry, ugly, impossible physics, painting, cartoon, vector art, clipart, 3D, distorted, amateur, split\"  Image: 1 Attachment  Author: @MutualistSymbiosis, path: /apdcephfs_cq3/share_1290939/shadowcun/evals_dev/pikavideos/prompts/A_zoom-in_on_to_a_trucker_looking_annoyed_in_the_cab_of_his_truck._Cinematic_movement._HD_8K_--ar_16_seed9790556984409674547.txt\n",
      "2023-08-23 19:36:55 Num: 197, count for 'truck': 0.0, prompt: @MutualistSymbiosis Prompt: A zoom-in on to a trucker looking annoyed in the cab of his truck. Cinematic movement. HD 8K --ar 16:9 --motion 1  -neg \"anime, broken hands, blurry, cartoon, fake, drawing, illustration, boring, 3d render, long neck, out of frame, extra fingers, mutated hands, other people, blurry, ugly, impossible physics, painting, cartoon, vector art, clipart, 3D, distorted, amateur, split\"  Image: 1 Attachment  Author: @MutualistSymbiosis, path: /apdcephfs_cq3/share_1290939/shadowcun/evals_dev/pikavideos/prompts/A_zoom-in_on_to_a_trucker_looking_annoyed_in_the_cab_of_his_truck._Cinematic_movement._HD_8K_--ar_16_seed9790556984409674547.txt\n"
     ]
    },
    {
     "name": "stdout",
     "output_type": "stream",
     "text": [
      "processed frame 23, obj_num 0\n",
      "finished\n",
      "Directory already exists: ./pikavideos/apple/masks\n",
      "Directory already exists: ./pikavideos/apple/mask_video\n",
      "Directory already exists: ./pikavideos/apple/mask_gif\n",
      "final text_encoder_type: bert-base-uncased\n",
      "Model loaded from ./ckpt/groundingdino_swint_ogc.pth \n",
      " => _IncompatibleKeys(missing_keys=[], unexpected_keys=['label_enc.weight', 'bert.embeddings.position_ids'])\n",
      "SegTracker has been initialized\n",
      "processed frame 22, obj_num 1\r"
     ]
    },
    {
     "name": "stderr",
     "output_type": "stream",
     "text": [
      "Num: 198, count for 'apple': 1.0, prompt: @crystalwizard Prompt: a shiny red apple spinning in space near a nebula -motion 2 -gs 20  Author: @crystalwizard, path: /apdcephfs_cq3/share_1290939/shadowcun/evals_dev/pikavideos/prompts/a_shiny_red_apple_spinning_in_space_near_a_nebula_-motion_2_-gs_20_seed10356773099737161514.txt\n",
      "2023-08-23 19:37:05 Num: 198, count for 'apple': 1.0, prompt: @crystalwizard Prompt: a shiny red apple spinning in space near a nebula -motion 2 -gs 20  Author: @crystalwizard, path: /apdcephfs_cq3/share_1290939/shadowcun/evals_dev/pikavideos/prompts/a_shiny_red_apple_spinning_in_space_near_a_nebula_-motion_2_-gs_20_seed10356773099737161514.txt\n"
     ]
    },
    {
     "name": "stdout",
     "output_type": "stream",
     "text": [
      "processed frame 23, obj_num 1\n",
      "finished\n",
      "Directory already exists: ./pikavideos/horse/masks\n",
      "Directory already exists: ./pikavideos/horse/mask_video\n",
      "Directory already exists: ./pikavideos/horse/mask_gif\n",
      "final text_encoder_type: bert-base-uncased\n",
      "Model loaded from ./ckpt/groundingdino_swint_ogc.pth \n",
      " => _IncompatibleKeys(missing_keys=[], unexpected_keys=['label_enc.weight', 'bert.embeddings.position_ids'])\n",
      "SegTracker has been initialized\n",
      "processed frame 22, obj_num 3\r"
     ]
    },
    {
     "name": "stderr",
     "output_type": "stream",
     "text": [
      "Num: 199, count for 'horse': 3.0, prompt: @Miguelinc Prompt: crazy unicorn, devil horses, rainbow explotion  Author: @Miguelinc, path: /apdcephfs_cq3/share_1290939/shadowcun/evals_dev/pikavideos/prompts/crazy_unicorn_devil_horses_rainbow_explotion.txt\n",
      "2023-08-23 19:37:16 Num: 199, count for 'horse': 3.0, prompt: @Miguelinc Prompt: crazy unicorn, devil horses, rainbow explotion  Author: @Miguelinc, path: /apdcephfs_cq3/share_1290939/shadowcun/evals_dev/pikavideos/prompts/crazy_unicorn_devil_horses_rainbow_explotion.txt\n"
     ]
    },
    {
     "name": "stdout",
     "output_type": "stream",
     "text": [
      "processed frame 23, obj_num 3\n",
      "finished\n",
      "Directory already exists: ./pikavideos/cat/masks\n",
      "Directory already exists: ./pikavideos/cat/mask_video\n",
      "Directory already exists: ./pikavideos/cat/mask_gif\n",
      "final text_encoder_type: bert-base-uncased\n",
      "Model loaded from ./ckpt/groundingdino_swint_ogc.pth \n",
      " => _IncompatibleKeys(missing_keys=[], unexpected_keys=['label_enc.weight', 'bert.embeddings.position_ids'])\n",
      "SegTracker has been initialized\n",
      "processed frame 22, obj_num 1\r"
     ]
    },
    {
     "name": "stderr",
     "output_type": "stream",
     "text": [
      "Num: 200, count for 'cat': 1.0, prompt: @Pirat Prompt: a cat is walking in the forest, sunset, 4K -neg \"bad anatomy, lowres\" -ar 1:1  Author: @Pirat, path: /apdcephfs_cq3/share_1290939/shadowcun/evals_dev/pikavideos/prompts/a_cat_is_walking_in_the_forest_sunset_4K_-neg__bad_anatomy_lowres__-ar_1_1_seed2825446378679494913.txt\n",
      "2023-08-23 19:37:27 Num: 200, count for 'cat': 1.0, prompt: @Pirat Prompt: a cat is walking in the forest, sunset, 4K -neg \"bad anatomy, lowres\" -ar 1:1  Author: @Pirat, path: /apdcephfs_cq3/share_1290939/shadowcun/evals_dev/pikavideos/prompts/a_cat_is_walking_in_the_forest_sunset_4K_-neg__bad_anatomy_lowres__-ar_1_1_seed2825446378679494913.txt\n"
     ]
    },
    {
     "name": "stdout",
     "output_type": "stream",
     "text": [
      "processed frame 23, obj_num 1\n",
      "finished\n",
      "Directory already exists: ./pikavideos/toilet/masks\n",
      "Directory already exists: ./pikavideos/toilet/mask_video\n",
      "Directory already exists: ./pikavideos/toilet/mask_gif\n",
      "final text_encoder_type: bert-base-uncased\n",
      "Model loaded from ./ckpt/groundingdino_swint_ogc.pth \n",
      " => _IncompatibleKeys(missing_keys=[], unexpected_keys=['label_enc.weight', 'bert.embeddings.position_ids'])\n",
      "SegTracker has been initialized\n",
      "processed frame 22, obj_num 0\r"
     ]
    },
    {
     "name": "stderr",
     "output_type": "stream",
     "text": [
      "Num: 200, count for 'toilet': 0.0, prompt: @astralmoonveil Prompt: war scene with toilets and mutant camera head people with explosions and broken toilets on fire with explosions in the background and giant flying cameras  Author: @astralmoonveil, path: /apdcephfs_cq3/share_1290939/shadowcun/evals_dev/pikavideos/prompts/war_scene_with_toilets_and_mutant_camera_head_people_with_explosions_and_broken_toilets_on_fire_with_seed14821965150235445925.txt\n",
      "2023-08-23 19:37:37 Num: 200, count for 'toilet': 0.0, prompt: @astralmoonveil Prompt: war scene with toilets and mutant camera head people with explosions and broken toilets on fire with explosions in the background and giant flying cameras  Author: @astralmoonveil, path: /apdcephfs_cq3/share_1290939/shadowcun/evals_dev/pikavideos/prompts/war_scene_with_toilets_and_mutant_camera_head_people_with_explosions_and_broken_toilets_on_fire_with_seed14821965150235445925.txt\n"
     ]
    },
    {
     "name": "stdout",
     "output_type": "stream",
     "text": [
      "processed frame 23, obj_num 0\n",
      "finished\n",
      "Directory already exists: ./pikavideos/dog/masks\n",
      "Directory already exists: ./pikavideos/dog/mask_video\n",
      "Directory already exists: ./pikavideos/dog/mask_gif\n",
      "final text_encoder_type: bert-base-uncased\n",
      "Model loaded from ./ckpt/groundingdino_swint_ogc.pth \n",
      " => _IncompatibleKeys(missing_keys=[], unexpected_keys=['label_enc.weight', 'bert.embeddings.position_ids'])\n",
      "SegTracker has been initialized\n",
      "processed frame 22, obj_num 1\r"
     ]
    },
    {
     "name": "stderr",
     "output_type": "stream",
     "text": [
      "Num: 201, count for 'dog': 1.0, prompt: @majid Prompt: Dog swimming  Author: @majid, path: /apdcephfs_cq3/share_1290939/shadowcun/evals_dev/pikavideos/prompts/Dog_swimming_seed9545842172649173518.txt\n",
      "2023-08-23 19:37:47 Num: 201, count for 'dog': 1.0, prompt: @majid Prompt: Dog swimming  Author: @majid, path: /apdcephfs_cq3/share_1290939/shadowcun/evals_dev/pikavideos/prompts/Dog_swimming_seed9545842172649173518.txt\n"
     ]
    },
    {
     "name": "stdout",
     "output_type": "stream",
     "text": [
      "processed frame 23, obj_num 1\n",
      "finished\n",
      "Directory already exists: ./pikavideos/bottle/masks\n",
      "Directory already exists: ./pikavideos/bottle/mask_video\n",
      "Directory already exists: ./pikavideos/bottle/mask_gif\n",
      "final text_encoder_type: bert-base-uncased\n",
      "Model loaded from ./ckpt/groundingdino_swint_ogc.pth \n",
      " => _IncompatibleKeys(missing_keys=[], unexpected_keys=['label_enc.weight', 'bert.embeddings.position_ids'])\n",
      "SegTracker has been initialized\n",
      "processed frame 22, obj_num 2\r"
     ]
    },
    {
     "name": "stderr",
     "output_type": "stream",
     "text": [
      "Num: 202, count for 'bottle': 2.0, prompt: @ランラン-ᛒᛚᚢᛒ Prompt: lora:AnalogDistortion:0.4>,girl on the beach enjoying a bottle of coca cola,AnalogDistortion, analog photo  , analog photo, fujifilm, fujicolor, LOMO, nexpo,in the style of 70s-90s dating hotline tv comercial ads lost media  Author: @ランラン-ᛒᛚᚢᛒ, path: /apdcephfs_cq3/share_1290939/shadowcun/evals_dev/pikavideos/prompts/lora_AnalogDistortion_0.4_girl_on_the_beach_enjoying_a_bottle_of_coca_colaAnalogDistortion_analog_seed8427728631249787284.txt\n",
      "2023-08-23 19:37:57 Num: 202, count for 'bottle': 2.0, prompt: @ランラン-ᛒᛚᚢᛒ Prompt: lora:AnalogDistortion:0.4>,girl on the beach enjoying a bottle of coca cola,AnalogDistortion, analog photo  , analog photo, fujifilm, fujicolor, LOMO, nexpo,in the style of 70s-90s dating hotline tv comercial ads lost media  Author: @ランラン-ᛒᛚᚢᛒ, path: /apdcephfs_cq3/share_1290939/shadowcun/evals_dev/pikavideos/prompts/lora_AnalogDistortion_0.4_girl_on_the_beach_enjoying_a_bottle_of_coca_colaAnalogDistortion_analog_seed8427728631249787284.txt\n"
     ]
    },
    {
     "name": "stdout",
     "output_type": "stream",
     "text": [
      "processed frame 23, obj_num 2\n",
      "finished\n",
      "Directory already exists: ./pikavideos/tv/masks\n",
      "Directory already exists: ./pikavideos/tv/mask_video\n",
      "Directory already exists: ./pikavideos/tv/mask_gif\n",
      "final text_encoder_type: bert-base-uncased\n",
      "Model loaded from ./ckpt/groundingdino_swint_ogc.pth \n",
      " => _IncompatibleKeys(missing_keys=[], unexpected_keys=['label_enc.weight', 'bert.embeddings.position_ids'])\n",
      "SegTracker has been initialized\n",
      "processed frame 22, obj_num 0\r"
     ]
    },
    {
     "name": "stderr",
     "output_type": "stream",
     "text": [
      "Num: 202, count for 'tv': 0.0, prompt: @ランラン-ᛒᛚᚢᛒ Prompt: lora:AnalogDistortion:0.4>,girl on the beach enjoying a bottle of coca cola,AnalogDistortion, analog photo  , analog photo, fujifilm, fujicolor, LOMO, nexpo,in the style of 70s-90s dating hotline tv comercial ads lost media  Author: @ランラン-ᛒᛚᚢᛒ, path: /apdcephfs_cq3/share_1290939/shadowcun/evals_dev/pikavideos/prompts/lora_AnalogDistortion_0.4_girl_on_the_beach_enjoying_a_bottle_of_coca_colaAnalogDistortion_analog_seed8427728631249787284.txt\n",
      "2023-08-23 19:38:06 Num: 202, count for 'tv': 0.0, prompt: @ランラン-ᛒᛚᚢᛒ Prompt: lora:AnalogDistortion:0.4>,girl on the beach enjoying a bottle of coca cola,AnalogDistortion, analog photo  , analog photo, fujifilm, fujicolor, LOMO, nexpo,in the style of 70s-90s dating hotline tv comercial ads lost media  Author: @ランラン-ᛒᛚᚢᛒ, path: /apdcephfs_cq3/share_1290939/shadowcun/evals_dev/pikavideos/prompts/lora_AnalogDistortion_0.4_girl_on_the_beach_enjoying_a_bottle_of_coca_colaAnalogDistortion_analog_seed8427728631249787284.txt\n"
     ]
    },
    {
     "name": "stdout",
     "output_type": "stream",
     "text": [
      "processed frame 23, obj_num 0\n",
      "finished\n",
      "Directory already exists: ./pikavideos/person/masks\n",
      "Directory already exists: ./pikavideos/person/mask_video\n",
      "Directory already exists: ./pikavideos/person/mask_gif\n",
      "final text_encoder_type: bert-base-uncased\n",
      "Model loaded from ./ckpt/groundingdino_swint_ogc.pth \n",
      " => _IncompatibleKeys(missing_keys=[], unexpected_keys=['label_enc.weight', 'bert.embeddings.position_ids'])\n",
      "SegTracker has been initialized\n",
      "processed frame 22, obj_num 4\r"
     ]
    },
    {
     "name": "stderr",
     "output_type": "stream",
     "text": [
      "Num: 203, count for 'person': 4.0, prompt: @@adsant Prompt: A person sitting on a throne, with others bowing down and serving them  Author: @@adsant, path: /apdcephfs_cq3/share_1290939/shadowcun/evals_dev/pikavideos/prompts/A_person_sitting_on_a_throne_with_others_bowing_down_and_serving_them_seed18243138962577046386.txt\n",
      "2023-08-23 19:38:17 Num: 203, count for 'person': 4.0, prompt: @@adsant Prompt: A person sitting on a throne, with others bowing down and serving them  Author: @@adsant, path: /apdcephfs_cq3/share_1290939/shadowcun/evals_dev/pikavideos/prompts/A_person_sitting_on_a_throne_with_others_bowing_down_and_serving_them_seed18243138962577046386.txt\n"
     ]
    },
    {
     "name": "stdout",
     "output_type": "stream",
     "text": [
      "processed frame 23, obj_num 4\n",
      "finished\n",
      "Directory already exists: ./pikavideos/car/masks\n",
      "Directory already exists: ./pikavideos/car/mask_video\n",
      "Directory already exists: ./pikavideos/car/mask_gif\n",
      "final text_encoder_type: bert-base-uncased\n",
      "Model loaded from ./ckpt/groundingdino_swint_ogc.pth \n",
      " => _IncompatibleKeys(missing_keys=[], unexpected_keys=['label_enc.weight', 'bert.embeddings.position_ids'])\n",
      "SegTracker has been initialized\n",
      "processed frame 22, obj_num 1\r"
     ]
    },
    {
     "name": "stderr",
     "output_type": "stream",
     "text": [
      "Num: 204, count for 'car': 1.0, prompt: @vitsum Prompt: the front car is in a summer location and is moving, the monkey is inside  Image: 1 Attachment  Author: @vitsum, path: /apdcephfs_cq3/share_1290939/shadowcun/evals_dev/pikavideos/prompts/the_front_car_is_in_a_summer_location_and_is_moving_the_monkey_is_inside__Image__1_Attachment_seed14190918382690388670.txt\n",
      "2023-08-23 19:38:28 Num: 204, count for 'car': 1.0, prompt: @vitsum Prompt: the front car is in a summer location and is moving, the monkey is inside  Image: 1 Attachment  Author: @vitsum, path: /apdcephfs_cq3/share_1290939/shadowcun/evals_dev/pikavideos/prompts/the_front_car_is_in_a_summer_location_and_is_moving_the_monkey_is_inside__Image__1_Attachment_seed14190918382690388670.txt\n"
     ]
    },
    {
     "name": "stdout",
     "output_type": "stream",
     "text": [
      "processed frame 23, obj_num 1\n",
      "finished\n",
      "Directory created: ./pikavideos/knife/masks\n",
      "Directory created: ./pikavideos/knife/mask_video\n",
      "Directory created: ./pikavideos/knife/mask_gif\n",
      "final text_encoder_type: bert-base-uncased\n",
      "Model loaded from ./ckpt/groundingdino_swint_ogc.pth \n",
      " => _IncompatibleKeys(missing_keys=[], unexpected_keys=['label_enc.weight', 'bert.embeddings.position_ids'])\n",
      "SegTracker has been initialized\n",
      "processed frame 22, obj_num 0\r"
     ]
    },
    {
     "name": "stderr",
     "output_type": "stream",
     "text": [
      "Num: 204, count for 'knife': 0.0, prompt: @meta Prompt: rocket flying through the clouds into space, moon, style of laurie greasley, james gilleard, genshin impact, trending pixiv fanbox, acrylic palette knife, 4k, minimalistic, few colors, green color, minimalistic background, devinart, trending on artstation, low details  Author: @meta, path: /apdcephfs_cq3/share_1290939/shadowcun/evals_dev/pikavideos/prompts/rocket_flying_through_the_clouds_into_space_moon_style_of_laurie_greasley_james_gilleard_genshin_seed15769069512439439054.txt\n",
      "2023-08-23 19:38:37 Num: 204, count for 'knife': 0.0, prompt: @meta Prompt: rocket flying through the clouds into space, moon, style of laurie greasley, james gilleard, genshin impact, trending pixiv fanbox, acrylic palette knife, 4k, minimalistic, few colors, green color, minimalistic background, devinart, trending on artstation, low details  Author: @meta, path: /apdcephfs_cq3/share_1290939/shadowcun/evals_dev/pikavideos/prompts/rocket_flying_through_the_clouds_into_space_moon_style_of_laurie_greasley_james_gilleard_genshin_seed15769069512439439054.txt\n"
     ]
    },
    {
     "name": "stdout",
     "output_type": "stream",
     "text": [
      "processed frame 23, obj_num 0\n",
      "finished\n",
      "Directory already exists: ./pikavideos/tv/masks\n",
      "Directory already exists: ./pikavideos/tv/mask_video\n",
      "Directory already exists: ./pikavideos/tv/mask_gif\n",
      "final text_encoder_type: bert-base-uncased\n",
      "Model loaded from ./ckpt/groundingdino_swint_ogc.pth \n",
      " => _IncompatibleKeys(missing_keys=[], unexpected_keys=['label_enc.weight', 'bert.embeddings.position_ids'])\n",
      "SegTracker has been initialized\n",
      "processed frame 22, obj_num 1\r"
     ]
    },
    {
     "name": "stderr",
     "output_type": "stream",
     "text": [
      "Num: 205, count for 'tv': 1.0, prompt: @Friend of AI Prompt: a retro squre TV in the barbarella universe in a slick futuristic palace living room 1970s color anolog TV room  Author: @Friend of AI, path: /apdcephfs_cq3/share_1290939/shadowcun/evals_dev/pikavideos/prompts/a_retro_squre_TV_in_the_barbarella_universe_in_a_slick_futuristic_palace_living_room_1970s_color_ano.txt\n",
      "2023-08-23 19:38:47 Num: 205, count for 'tv': 1.0, prompt: @Friend of AI Prompt: a retro squre TV in the barbarella universe in a slick futuristic palace living room 1970s color anolog TV room  Author: @Friend of AI, path: /apdcephfs_cq3/share_1290939/shadowcun/evals_dev/pikavideos/prompts/a_retro_squre_TV_in_the_barbarella_universe_in_a_slick_futuristic_palace_living_room_1970s_color_ano.txt\n"
     ]
    },
    {
     "name": "stdout",
     "output_type": "stream",
     "text": [
      "processed frame 23, obj_num 1\n",
      "finished\n",
      "Directory already exists: ./pikavideos/cat/masks\n",
      "Directory already exists: ./pikavideos/cat/mask_video\n",
      "Directory already exists: ./pikavideos/cat/mask_gif\n",
      "final text_encoder_type: bert-base-uncased\n",
      "Model loaded from ./ckpt/groundingdino_swint_ogc.pth \n",
      " => _IncompatibleKeys(missing_keys=[], unexpected_keys=['label_enc.weight', 'bert.embeddings.position_ids'])\n",
      "SegTracker has been initialized\n",
      "processed frame 22, obj_num 0\r"
     ]
    },
    {
     "name": "stderr",
     "output_type": "stream",
     "text": [
      "Num: 205, count for 'cat': 0.0, prompt: @andree1988 Prompt: Cat is trippin on acid trip LSD, movie, cinematic, psychedelic, awesome details -ar 16:9  Author: @andree1988, path: /apdcephfs_cq3/share_1290939/shadowcun/evals_dev/pikavideos/prompts/Cat_is_trippin_on_acid_trip_LSD_movie_cinematic_psychedelic_awesome_details_-ar_16_9_seed14341890885862022536.txt\n",
      "2023-08-23 19:38:57 Num: 205, count for 'cat': 0.0, prompt: @andree1988 Prompt: Cat is trippin on acid trip LSD, movie, cinematic, psychedelic, awesome details -ar 16:9  Author: @andree1988, path: /apdcephfs_cq3/share_1290939/shadowcun/evals_dev/pikavideos/prompts/Cat_is_trippin_on_acid_trip_LSD_movie_cinematic_psychedelic_awesome_details_-ar_16_9_seed14341890885862022536.txt\n"
     ]
    },
    {
     "name": "stdout",
     "output_type": "stream",
     "text": [
      "processed frame 23, obj_num 0\n",
      "finished\n",
      "Directory already exists: ./pikavideos/horse/masks\n",
      "Directory already exists: ./pikavideos/horse/mask_video\n",
      "Directory already exists: ./pikavideos/horse/mask_gif\n",
      "final text_encoder_type: bert-base-uncased\n",
      "Model loaded from ./ckpt/groundingdino_swint_ogc.pth \n",
      " => _IncompatibleKeys(missing_keys=[], unexpected_keys=['label_enc.weight', 'bert.embeddings.position_ids'])\n",
      "SegTracker has been initialized\n",
      "processed frame 22, obj_num 0\r"
     ]
    },
    {
     "name": "stderr",
     "output_type": "stream",
     "text": [
      "Num: 205, count for 'horse': 0.0, prompt: @Mendermi Prompt: A young general in the Han Dynasty of China rode a horse and led his soldiers in a fierce battle with the enemy center the composition Cinematic background high detail ultra - realistic light background photo realistic, 4k, high detailed -ar 2:1  Image: 1 Attachment  Author: @Mendermi, path: /apdcephfs_cq3/share_1290939/shadowcun/evals_dev/pikavideos/prompts/A_young_general_in_the_Han_Dynasty_of_China_rode_a_horse_and_led_his_soldiers_in_a_fierce_battle_wit_seed11506691712381507713.txt\n",
      "2023-08-23 19:39:07 Num: 205, count for 'horse': 0.0, prompt: @Mendermi Prompt: A young general in the Han Dynasty of China rode a horse and led his soldiers in a fierce battle with the enemy center the composition Cinematic background high detail ultra - realistic light background photo realistic, 4k, high detailed -ar 2:1  Image: 1 Attachment  Author: @Mendermi, path: /apdcephfs_cq3/share_1290939/shadowcun/evals_dev/pikavideos/prompts/A_young_general_in_the_Han_Dynasty_of_China_rode_a_horse_and_led_his_soldiers_in_a_fierce_battle_wit_seed11506691712381507713.txt\n"
     ]
    },
    {
     "name": "stdout",
     "output_type": "stream",
     "text": [
      "processed frame 23, obj_num 0\n",
      "finished\n",
      "Directory already exists: ./pikavideos/bird/masks\n",
      "Directory already exists: ./pikavideos/bird/mask_video\n",
      "Directory already exists: ./pikavideos/bird/mask_gif\n",
      "final text_encoder_type: bert-base-uncased\n",
      "Model loaded from ./ckpt/groundingdino_swint_ogc.pth \n",
      " => _IncompatibleKeys(missing_keys=[], unexpected_keys=['label_enc.weight', 'bert.embeddings.position_ids'])\n",
      "SegTracker has been initialized\n",
      "processed frame 22, obj_num 0\r"
     ]
    },
    {
     "name": "stderr",
     "output_type": "stream",
     "text": [
      "Num: 205, count for 'bird': 0.0, prompt: @richitelli Prompt: a timelapse of a city evolving over a thousand years. Extreme long shot, worm’s-eye view, the camera slowly zooms in, warm color palette. -ar: 16-9. Camera: Arri Alexa. Lenns: Zeiss anamorphic 10 mm. Film, 8k, detailed, sunlight, clouds moving, birds flying.  Author: @richitelli, path: /apdcephfs_cq3/share_1290939/shadowcun/evals_dev/pikavideos/prompts/a_timelapse_of_a_city_evolving_over_a_thousand_years._Extreme_long_shot_worm_s-eye_view_the_camera_seed4160039928446493810.txt\n",
      "2023-08-23 19:39:16 Num: 205, count for 'bird': 0.0, prompt: @richitelli Prompt: a timelapse of a city evolving over a thousand years. Extreme long shot, worm’s-eye view, the camera slowly zooms in, warm color palette. -ar: 16-9. Camera: Arri Alexa. Lenns: Zeiss anamorphic 10 mm. Film, 8k, detailed, sunlight, clouds moving, birds flying.  Author: @richitelli, path: /apdcephfs_cq3/share_1290939/shadowcun/evals_dev/pikavideos/prompts/a_timelapse_of_a_city_evolving_over_a_thousand_years._Extreme_long_shot_worm_s-eye_view_the_camera_seed4160039928446493810.txt\n"
     ]
    },
    {
     "name": "stdout",
     "output_type": "stream",
     "text": [
      "processed frame 23, obj_num 0\n",
      "finished\n",
      "Directory already exists: ./pikavideos/cow/masks\n",
      "Directory already exists: ./pikavideos/cow/mask_video\n",
      "Directory already exists: ./pikavideos/cow/mask_gif\n",
      "final text_encoder_type: bert-base-uncased\n",
      "Model loaded from ./ckpt/groundingdino_swint_ogc.pth \n",
      " => _IncompatibleKeys(missing_keys=[], unexpected_keys=['label_enc.weight', 'bert.embeddings.position_ids'])\n",
      "SegTracker has been initialized\n",
      "processed frame 22, obj_num 1\r"
     ]
    },
    {
     "name": "stderr",
     "output_type": "stream",
     "text": [
      "Num: 206, count for 'cow': 1.0, prompt: @moo cow Prompt: an enchanted/possessed 4 foot tall silver spoon with big female eyes and a small mouth is moving around with a magic ghost of a woman inside of it, making it move  Author: @moo cow, path: /apdcephfs_cq3/share_1290939/shadowcun/evals_dev/pikavideos/prompts/an_enchanted_possessed_4_foot_tall_silver_spoon_with_big_female_eyes_and_a_small_mouth_is_moving_aro_seed9644474074620784650.txt\n",
      "2023-08-23 19:39:26 Num: 206, count for 'cow': 1.0, prompt: @moo cow Prompt: an enchanted/possessed 4 foot tall silver spoon with big female eyes and a small mouth is moving around with a magic ghost of a woman inside of it, making it move  Author: @moo cow, path: /apdcephfs_cq3/share_1290939/shadowcun/evals_dev/pikavideos/prompts/an_enchanted_possessed_4_foot_tall_silver_spoon_with_big_female_eyes_and_a_small_mouth_is_moving_aro_seed9644474074620784650.txt\n"
     ]
    },
    {
     "name": "stdout",
     "output_type": "stream",
     "text": [
      "processed frame 23, obj_num 1\n",
      "finished\n",
      "Directory already exists: ./pikavideos/spoon/masks\n",
      "Directory already exists: ./pikavideos/spoon/mask_video\n",
      "Directory already exists: ./pikavideos/spoon/mask_gif\n",
      "final text_encoder_type: bert-base-uncased\n",
      "Model loaded from ./ckpt/groundingdino_swint_ogc.pth \n",
      " => _IncompatibleKeys(missing_keys=[], unexpected_keys=['label_enc.weight', 'bert.embeddings.position_ids'])\n",
      "SegTracker has been initialized\n",
      "processed frame 22, obj_num 1\r"
     ]
    },
    {
     "name": "stderr",
     "output_type": "stream",
     "text": [
      "Num: 207, count for 'spoon': 1.0, prompt: @moo cow Prompt: an enchanted/possessed 4 foot tall silver spoon with big female eyes and a small mouth is moving around with a magic ghost of a woman inside of it, making it move  Author: @moo cow, path: /apdcephfs_cq3/share_1290939/shadowcun/evals_dev/pikavideos/prompts/an_enchanted_possessed_4_foot_tall_silver_spoon_with_big_female_eyes_and_a_small_mouth_is_moving_aro_seed9644474074620784650.txt\n",
      "2023-08-23 19:39:36 Num: 207, count for 'spoon': 1.0, prompt: @moo cow Prompt: an enchanted/possessed 4 foot tall silver spoon with big female eyes and a small mouth is moving around with a magic ghost of a woman inside of it, making it move  Author: @moo cow, path: /apdcephfs_cq3/share_1290939/shadowcun/evals_dev/pikavideos/prompts/an_enchanted_possessed_4_foot_tall_silver_spoon_with_big_female_eyes_and_a_small_mouth_is_moving_aro_seed9644474074620784650.txt\n"
     ]
    },
    {
     "name": "stdout",
     "output_type": "stream",
     "text": [
      "processed frame 23, obj_num 1\n",
      "finished\n",
      "Directory already exists: ./pikavideos/dog/masks\n",
      "Directory already exists: ./pikavideos/dog/mask_video\n",
      "Directory already exists: ./pikavideos/dog/mask_gif\n",
      "final text_encoder_type: bert-base-uncased\n",
      "Model loaded from ./ckpt/groundingdino_swint_ogc.pth \n",
      " => _IncompatibleKeys(missing_keys=[], unexpected_keys=['label_enc.weight', 'bert.embeddings.position_ids'])\n",
      "SegTracker has been initialized\n",
      "processed frame 22, obj_num 0\r"
     ]
    },
    {
     "name": "stderr",
     "output_type": "stream",
     "text": [
      "Num: 207, count for 'dog': 0.0, prompt: @Prince Prompt: female dog anthro, movie, cgi, cinematic  Image: 1 Attachment  Author: @Prince, path: /apdcephfs_cq3/share_1290939/shadowcun/evals_dev/pikavideos/prompts/female_dog_anthro_movie_cgi_cinematic__Image__1_Attachment_seed7975560742740769841.txt\n",
      "2023-08-23 19:39:46 Num: 207, count for 'dog': 0.0, prompt: @Prince Prompt: female dog anthro, movie, cgi, cinematic  Image: 1 Attachment  Author: @Prince, path: /apdcephfs_cq3/share_1290939/shadowcun/evals_dev/pikavideos/prompts/female_dog_anthro_movie_cgi_cinematic__Image__1_Attachment_seed7975560742740769841.txt\n"
     ]
    },
    {
     "name": "stdout",
     "output_type": "stream",
     "text": [
      "processed frame 23, obj_num 0\n",
      "finished\n",
      "Directory already exists: ./pikavideos/car/masks\n",
      "Directory already exists: ./pikavideos/car/mask_video\n",
      "Directory already exists: ./pikavideos/car/mask_gif\n",
      "final text_encoder_type: bert-base-uncased\n",
      "Model loaded from ./ckpt/groundingdino_swint_ogc.pth \n",
      " => _IncompatibleKeys(missing_keys=[], unexpected_keys=['label_enc.weight', 'bert.embeddings.position_ids'])\n",
      "SegTracker has been initialized\n",
      "processed frame 22, obj_num 0\r"
     ]
    },
    {
     "name": "stderr",
     "output_type": "stream",
     "text": [
      "Num: 207, count for 'car': 0.0, prompt: @psychoticgiraffe Prompt: racist cowboy that drives a racist car on mars  Author: @psychoticgiraffe, path: /apdcephfs_cq3/share_1290939/shadowcun/evals_dev/pikavideos/prompts/racist_cowboy_that_drives_a_racist_car_on_mars_seed15069438482947617218.txt\n",
      "2023-08-23 19:39:56 Num: 207, count for 'car': 0.0, prompt: @psychoticgiraffe Prompt: racist cowboy that drives a racist car on mars  Author: @psychoticgiraffe, path: /apdcephfs_cq3/share_1290939/shadowcun/evals_dev/pikavideos/prompts/racist_cowboy_that_drives_a_racist_car_on_mars_seed15069438482947617218.txt\n"
     ]
    },
    {
     "name": "stdout",
     "output_type": "stream",
     "text": [
      "processed frame 23, obj_num 0\n",
      "finished\n",
      "Directory already exists: ./pikavideos/dog/masks\n",
      "Directory already exists: ./pikavideos/dog/mask_video\n",
      "Directory already exists: ./pikavideos/dog/mask_gif\n",
      "final text_encoder_type: bert-base-uncased\n",
      "Model loaded from ./ckpt/groundingdino_swint_ogc.pth \n",
      " => _IncompatibleKeys(missing_keys=[], unexpected_keys=['label_enc.weight', 'bert.embeddings.position_ids'])\n",
      "SegTracker has been initialized\n",
      "processed frame 22, obj_num 0\r"
     ]
    },
    {
     "name": "stderr",
     "output_type": "stream",
     "text": [
      "Num: 207, count for 'dog': 0.0, prompt: @Sgt Dingo Prompt: caramels bubble into infinity while a dog licks his nuts in the foreground -ar 5:2  Author: @Sgt Dingo, path: /apdcephfs_cq3/share_1290939/shadowcun/evals_dev/pikavideos/prompts/caramels_bubble_into_infinity_while_a_dog_licks_his_nuts_in_the_foreground_-ar_5_2_seed1186345516327120709.txt\n",
      "2023-08-23 19:40:05 Num: 207, count for 'dog': 0.0, prompt: @Sgt Dingo Prompt: caramels bubble into infinity while a dog licks his nuts in the foreground -ar 5:2  Author: @Sgt Dingo, path: /apdcephfs_cq3/share_1290939/shadowcun/evals_dev/pikavideos/prompts/caramels_bubble_into_infinity_while_a_dog_licks_his_nuts_in_the_foreground_-ar_5_2_seed1186345516327120709.txt\n"
     ]
    },
    {
     "name": "stdout",
     "output_type": "stream",
     "text": [
      "processed frame 23, obj_num 0\n",
      "finished\n",
      "Directory already exists: ./pikavideos/bird/masks\n",
      "Directory already exists: ./pikavideos/bird/mask_video\n",
      "Directory already exists: ./pikavideos/bird/mask_gif\n",
      "final text_encoder_type: bert-base-uncased\n",
      "Model loaded from ./ckpt/groundingdino_swint_ogc.pth \n",
      " => _IncompatibleKeys(missing_keys=[], unexpected_keys=['label_enc.weight', 'bert.embeddings.position_ids'])\n",
      "SegTracker has been initialized\n",
      "processed frame 22, obj_num 0\r"
     ]
    },
    {
     "name": "stderr",
     "output_type": "stream",
     "text": [
      "Num: 207, count for 'bird': 0.0, prompt: @CGB2023 Prompt: bird eye view of Shanghai night view with a shining Oriental Pearl tower 8k,cinematic  Author: @CGB2023, path: /apdcephfs_cq3/share_1290939/shadowcun/evals_dev/pikavideos/prompts/bird_eye_view_of_Shanghai_night_view_with_a_shining_Oriental_Pearl_tower_8kcinematic.txt\n",
      "2023-08-23 19:40:15 Num: 207, count for 'bird': 0.0, prompt: @CGB2023 Prompt: bird eye view of Shanghai night view with a shining Oriental Pearl tower 8k,cinematic  Author: @CGB2023, path: /apdcephfs_cq3/share_1290939/shadowcun/evals_dev/pikavideos/prompts/bird_eye_view_of_Shanghai_night_view_with_a_shining_Oriental_Pearl_tower_8kcinematic.txt\n"
     ]
    },
    {
     "name": "stdout",
     "output_type": "stream",
     "text": [
      "processed frame 23, obj_num 0\n",
      "finished\n",
      "Directory already exists: ./pikavideos/cat/masks\n",
      "Directory already exists: ./pikavideos/cat/mask_video\n",
      "Directory already exists: ./pikavideos/cat/mask_gif\n",
      "final text_encoder_type: bert-base-uncased\n",
      "Model loaded from ./ckpt/groundingdino_swint_ogc.pth \n",
      " => _IncompatibleKeys(missing_keys=[], unexpected_keys=['label_enc.weight', 'bert.embeddings.position_ids'])\n",
      "SegTracker has been initialized\n",
      "processed frame 22, obj_num 1\r"
     ]
    },
    {
     "name": "stderr",
     "output_type": "stream",
     "text": [
      "Num: 208, count for 'cat': 1.0, prompt: Pika BOT 07/29/2023 5:18 AM@Arealon Prompt: playing cat  Author: @Arealon, path: /apdcephfs_cq3/share_1290939/shadowcun/evals_dev/pikavideos/prompts/playing_cat_seed2602058643770788273.txt\n",
      "2023-08-23 19:40:25 Num: 208, count for 'cat': 1.0, prompt: Pika BOT 07/29/2023 5:18 AM@Arealon Prompt: playing cat  Author: @Arealon, path: /apdcephfs_cq3/share_1290939/shadowcun/evals_dev/pikavideos/prompts/playing_cat_seed2602058643770788273.txt\n"
     ]
    },
    {
     "name": "stdout",
     "output_type": "stream",
     "text": [
      "processed frame 23, obj_num 1\n",
      "finished\n",
      "Directory already exists: ./pikavideos/car/masks\n",
      "Directory already exists: ./pikavideos/car/mask_video\n",
      "Directory already exists: ./pikavideos/car/mask_gif\n",
      "final text_encoder_type: bert-base-uncased\n",
      "Model loaded from ./ckpt/groundingdino_swint_ogc.pth \n",
      " => _IncompatibleKeys(missing_keys=[], unexpected_keys=['label_enc.weight', 'bert.embeddings.position_ids'])\n",
      "SegTracker has been initialized\n",
      "processed frame 22, obj_num 2\r"
     ]
    },
    {
     "name": "stderr",
     "output_type": "stream",
     "text": [
      "Num: 209, count for 'car': 2.0, prompt: @BrentYoung Prompt: car driving down road towards Mountain range, retrowave, synthwave, anime -motion 2  Image: 1 Attachment  Author: @BrentYoung, path: /apdcephfs_cq3/share_1290939/shadowcun/evals_dev/pikavideos/prompts/car_driving_down_road_towards_Mountain_range_retrowave_synthwave_anime_-motion_2_seed12332204593669466498.txt\n",
      "2023-08-23 19:40:35 Num: 209, count for 'car': 2.0, prompt: @BrentYoung Prompt: car driving down road towards Mountain range, retrowave, synthwave, anime -motion 2  Image: 1 Attachment  Author: @BrentYoung, path: /apdcephfs_cq3/share_1290939/shadowcun/evals_dev/pikavideos/prompts/car_driving_down_road_towards_Mountain_range_retrowave_synthwave_anime_-motion_2_seed12332204593669466498.txt\n"
     ]
    },
    {
     "name": "stdout",
     "output_type": "stream",
     "text": [
      "processed frame 23, obj_num 2\n",
      "finished\n",
      "Directory already exists: ./pikavideos/cat/masks\n",
      "Directory already exists: ./pikavideos/cat/mask_video\n",
      "Directory already exists: ./pikavideos/cat/mask_gif\n",
      "final text_encoder_type: bert-base-uncased\n",
      "Model loaded from ./ckpt/groundingdino_swint_ogc.pth \n",
      " => _IncompatibleKeys(missing_keys=[], unexpected_keys=['label_enc.weight', 'bert.embeddings.position_ids'])\n",
      "SegTracker has been initialized\n",
      "processed frame 22, obj_num 1\r"
     ]
    },
    {
     "name": "stderr",
     "output_type": "stream",
     "text": [
      "Num: 210, count for 'cat': 1.0, prompt: @caihe Prompt: Cats spit out their tongues, fish swim  Image: 1 Attachment  Author: @caihe, path: /apdcephfs_cq3/share_1290939/shadowcun/evals_dev/pikavideos/prompts/Cats_spit_out_their_tongues_fish_swim__Image__1_Attachment_seed12721476439531419377.txt\n",
      "2023-08-23 19:40:46 Num: 210, count for 'cat': 1.0, prompt: @caihe Prompt: Cats spit out their tongues, fish swim  Image: 1 Attachment  Author: @caihe, path: /apdcephfs_cq3/share_1290939/shadowcun/evals_dev/pikavideos/prompts/Cats_spit_out_their_tongues_fish_swim__Image__1_Attachment_seed12721476439531419377.txt\n"
     ]
    },
    {
     "name": "stdout",
     "output_type": "stream",
     "text": [
      "processed frame 23, obj_num 1\n",
      "finished\n",
      "Directory already exists: ./pikavideos/dog/masks\n",
      "Directory already exists: ./pikavideos/dog/mask_video\n",
      "Directory already exists: ./pikavideos/dog/mask_gif\n",
      "final text_encoder_type: bert-base-uncased\n",
      "Model loaded from ./ckpt/groundingdino_swint_ogc.pth \n",
      " => _IncompatibleKeys(missing_keys=[], unexpected_keys=['label_enc.weight', 'bert.embeddings.position_ids'])\n",
      "SegTracker has been initialized\n",
      "processed frame 22, obj_num 1\r"
     ]
    },
    {
     "name": "stderr",
     "output_type": "stream",
     "text": [
      "Num: 211, count for 'dog': 1.0, prompt: @poeticoncept Prompt: white Canaan dog eating a carrot  Author: @poeticoncept, path: /apdcephfs_cq3/share_1290939/shadowcun/evals_dev/pikavideos/prompts/white_Canaan_dog_eating_a_carrot_seed2108268391227410236.txt\n",
      "2023-08-23 19:40:56 Num: 211, count for 'dog': 1.0, prompt: @poeticoncept Prompt: white Canaan dog eating a carrot  Author: @poeticoncept, path: /apdcephfs_cq3/share_1290939/shadowcun/evals_dev/pikavideos/prompts/white_Canaan_dog_eating_a_carrot_seed2108268391227410236.txt\n"
     ]
    },
    {
     "name": "stdout",
     "output_type": "stream",
     "text": [
      "processed frame 23, obj_num 1\n",
      "finished\n",
      "Directory already exists: ./pikavideos/carrot/masks\n",
      "Directory already exists: ./pikavideos/carrot/mask_video\n",
      "Directory already exists: ./pikavideos/carrot/mask_gif\n",
      "final text_encoder_type: bert-base-uncased\n",
      "Model loaded from ./ckpt/groundingdino_swint_ogc.pth \n",
      " => _IncompatibleKeys(missing_keys=[], unexpected_keys=['label_enc.weight', 'bert.embeddings.position_ids'])\n",
      "SegTracker has been initialized\n",
      "processed frame 22, obj_num 0\r"
     ]
    },
    {
     "name": "stderr",
     "output_type": "stream",
     "text": [
      "Num: 211, count for 'carrot': 0.0, prompt: @poeticoncept Prompt: white Canaan dog eating a carrot  Author: @poeticoncept, path: /apdcephfs_cq3/share_1290939/shadowcun/evals_dev/pikavideos/prompts/white_Canaan_dog_eating_a_carrot_seed2108268391227410236.txt\n",
      "2023-08-23 19:41:05 Num: 211, count for 'carrot': 0.0, prompt: @poeticoncept Prompt: white Canaan dog eating a carrot  Author: @poeticoncept, path: /apdcephfs_cq3/share_1290939/shadowcun/evals_dev/pikavideos/prompts/white_Canaan_dog_eating_a_carrot_seed2108268391227410236.txt\n"
     ]
    },
    {
     "name": "stdout",
     "output_type": "stream",
     "text": [
      "processed frame 23, obj_num 0\n",
      "finished\n",
      "Directory already exists: ./pikavideos/car/masks\n",
      "Directory already exists: ./pikavideos/car/mask_video\n",
      "Directory already exists: ./pikavideos/car/mask_gif\n",
      "final text_encoder_type: bert-base-uncased\n",
      "Model loaded from ./ckpt/groundingdino_swint_ogc.pth \n",
      " => _IncompatibleKeys(missing_keys=[], unexpected_keys=['label_enc.weight', 'bert.embeddings.position_ids'])\n",
      "SegTracker has been initialized\n",
      "processed frame 22, obj_num 1\r"
     ]
    },
    {
     "name": "stderr",
     "output_type": "stream",
     "text": [
      "Num: 212, count for 'car': 1.0, prompt: @melonilucca Prompt: cinematic shot of a car race in the desert  Author: @melonilucca (edited), path: /apdcephfs_cq3/share_1290939/shadowcun/evals_dev/pikavideos/prompts/cinematic_shot_of_a_car_race_in_the_desert.txt\n",
      "2023-08-23 19:41:16 Num: 212, count for 'car': 1.0, prompt: @melonilucca Prompt: cinematic shot of a car race in the desert  Author: @melonilucca (edited), path: /apdcephfs_cq3/share_1290939/shadowcun/evals_dev/pikavideos/prompts/cinematic_shot_of_a_car_race_in_the_desert.txt\n"
     ]
    },
    {
     "name": "stdout",
     "output_type": "stream",
     "text": [
      "processed frame 23, obj_num 1\n",
      "finished\n",
      "Directory already exists: ./pikavideos/bird/masks\n",
      "Directory already exists: ./pikavideos/bird/mask_video\n",
      "Directory already exists: ./pikavideos/bird/mask_gif\n",
      "final text_encoder_type: bert-base-uncased\n",
      "Model loaded from ./ckpt/groundingdino_swint_ogc.pth \n",
      " => _IncompatibleKeys(missing_keys=[], unexpected_keys=['label_enc.weight', 'bert.embeddings.position_ids'])\n",
      "SegTracker has been initialized\n",
      "processed frame 22, obj_num 1\r"
     ]
    },
    {
     "name": "stderr",
     "output_type": "stream",
     "text": [
      "Num: 213, count for 'bird': 1.0, prompt: @zwt27 Prompt: animate uper right corner of the brush in the paiting and the image going from low quality to higher quality. make the bird fly as well.  Image: 1 Attachment  Author: @zwt27, path: /apdcephfs_cq3/share_1290939/shadowcun/evals_dev/pikavideos/prompts/animate_uper_right_corner_of_the_brush_in_the_paiting_and_the_image_going_from_low_quality_to_higher_seed10107725593750849301.txt\n",
      "2023-08-23 19:41:26 Num: 213, count for 'bird': 1.0, prompt: @zwt27 Prompt: animate uper right corner of the brush in the paiting and the image going from low quality to higher quality. make the bird fly as well.  Image: 1 Attachment  Author: @zwt27, path: /apdcephfs_cq3/share_1290939/shadowcun/evals_dev/pikavideos/prompts/animate_uper_right_corner_of_the_brush_in_the_paiting_and_the_image_going_from_low_quality_to_higher_seed10107725593750849301.txt\n"
     ]
    },
    {
     "name": "stdout",
     "output_type": "stream",
     "text": [
      "processed frame 23, obj_num 1\n",
      "finished\n",
      "Directory already exists: ./pikavideos/pizza/masks\n",
      "Directory already exists: ./pikavideos/pizza/mask_video\n",
      "Directory already exists: ./pikavideos/pizza/mask_gif\n",
      "final text_encoder_type: bert-base-uncased\n",
      "Model loaded from ./ckpt/groundingdino_swint_ogc.pth \n",
      " => _IncompatibleKeys(missing_keys=[], unexpected_keys=['label_enc.weight', 'bert.embeddings.position_ids'])\n",
      "SegTracker has been initialized\n",
      "processed frame 22, obj_num 1\r"
     ]
    },
    {
     "name": "stderr",
     "output_type": "stream",
     "text": [
      "Num: 214, count for 'pizza': 1.0, prompt: @paceystore Prompt: davido holding pizza in the bush  Author: @paceystore, path: /apdcephfs_cq3/share_1290939/shadowcun/evals_dev/pikavideos/prompts/davido_holding_pizza_in_the_bush_seed14085659627394804020.txt\n",
      "2023-08-23 19:41:37 Num: 214, count for 'pizza': 1.0, prompt: @paceystore Prompt: davido holding pizza in the bush  Author: @paceystore, path: /apdcephfs_cq3/share_1290939/shadowcun/evals_dev/pikavideos/prompts/davido_holding_pizza_in_the_bush_seed14085659627394804020.txt\n"
     ]
    },
    {
     "name": "stdout",
     "output_type": "stream",
     "text": [
      "processed frame 23, obj_num 1\n",
      "finished\n",
      "Directory already exists: ./pikavideos/cat/masks\n",
      "Directory already exists: ./pikavideos/cat/mask_video\n",
      "Directory already exists: ./pikavideos/cat/mask_gif\n",
      "final text_encoder_type: bert-base-uncased\n",
      "Model loaded from ./ckpt/groundingdino_swint_ogc.pth \n",
      " => _IncompatibleKeys(missing_keys=[], unexpected_keys=['label_enc.weight', 'bert.embeddings.position_ids'])\n",
      "SegTracker has been initialized\n",
      "processed frame 22, obj_num 1\r"
     ]
    },
    {
     "name": "stderr",
     "output_type": "stream",
     "text": [
      "Num: 215, count for 'cat': 1.0, prompt: @Terrence Green Kirby liked a video of @Terrence Green Kirby. (Prompt: Coin in front rolls around track, cat in the distance gets ready to pounce on it by shaking and going low to ground  Image: 1 Attachment  Author: @Terrence Green Kirby), path: /apdcephfs_cq3/share_1290939/shadowcun/evals_dev/pikavideos/prompts/Coin_in_front_rolls_around_track_cat_in_the_distance_gets_ready_to_pounce_on_it_by_shaking_and_goin_seed12976848520852606488.txt\n",
      "2023-08-23 19:41:48 Num: 215, count for 'cat': 1.0, prompt: @Terrence Green Kirby liked a video of @Terrence Green Kirby. (Prompt: Coin in front rolls around track, cat in the distance gets ready to pounce on it by shaking and going low to ground  Image: 1 Attachment  Author: @Terrence Green Kirby), path: /apdcephfs_cq3/share_1290939/shadowcun/evals_dev/pikavideos/prompts/Coin_in_front_rolls_around_track_cat_in_the_distance_gets_ready_to_pounce_on_it_by_shaking_and_goin_seed12976848520852606488.txt\n"
     ]
    },
    {
     "name": "stdout",
     "output_type": "stream",
     "text": [
      "processed frame 23, obj_num 1\n",
      "finished\n",
      "Directory already exists: ./pikavideos/bowl/masks\n",
      "Directory already exists: ./pikavideos/bowl/mask_video\n",
      "Directory already exists: ./pikavideos/bowl/mask_gif\n",
      "final text_encoder_type: bert-base-uncased\n",
      "Model loaded from ./ckpt/groundingdino_swint_ogc.pth \n",
      " => _IncompatibleKeys(missing_keys=[], unexpected_keys=['label_enc.weight', 'bert.embeddings.position_ids'])\n",
      "SegTracker has been initialized\n",
      "processed frame 22, obj_num 0\r"
     ]
    },
    {
     "name": "stderr",
     "output_type": "stream",
     "text": [
      "Num: 215, count for 'bowl': 0.0, prompt: @RumpelSluutskin Prompt: a top-down view of a fudge bar splashing into a toilet bowl, hyperrealistic 12k ultra detailed --ar 16:9  Author: @RumpelSluutskin, path: /apdcephfs_cq3/share_1290939/shadowcun/evals_dev/pikavideos/prompts/a_top-down_view_of_a_fudge_bar_splashing_into_a_toilet_bowl_hyperrealistic_12k_ultra_detailed_--ar__seed16991052896572826507.txt\n",
      "2023-08-23 19:41:58 Num: 215, count for 'bowl': 0.0, prompt: @RumpelSluutskin Prompt: a top-down view of a fudge bar splashing into a toilet bowl, hyperrealistic 12k ultra detailed --ar 16:9  Author: @RumpelSluutskin, path: /apdcephfs_cq3/share_1290939/shadowcun/evals_dev/pikavideos/prompts/a_top-down_view_of_a_fudge_bar_splashing_into_a_toilet_bowl_hyperrealistic_12k_ultra_detailed_--ar__seed16991052896572826507.txt\n"
     ]
    },
    {
     "name": "stdout",
     "output_type": "stream",
     "text": [
      "processed frame 23, obj_num 0\n",
      "finished\n",
      "Directory already exists: ./pikavideos/toilet/masks\n",
      "Directory already exists: ./pikavideos/toilet/mask_video\n",
      "Directory already exists: ./pikavideos/toilet/mask_gif\n",
      "final text_encoder_type: bert-base-uncased\n",
      "Model loaded from ./ckpt/groundingdino_swint_ogc.pth \n",
      " => _IncompatibleKeys(missing_keys=[], unexpected_keys=['label_enc.weight', 'bert.embeddings.position_ids'])\n",
      "SegTracker has been initialized\n",
      "processed frame 22, obj_num 0\r"
     ]
    },
    {
     "name": "stderr",
     "output_type": "stream",
     "text": [
      "Num: 215, count for 'toilet': 0.0, prompt: @RumpelSluutskin Prompt: a top-down view of a fudge bar splashing into a toilet bowl, hyperrealistic 12k ultra detailed --ar 16:9  Author: @RumpelSluutskin, path: /apdcephfs_cq3/share_1290939/shadowcun/evals_dev/pikavideos/prompts/a_top-down_view_of_a_fudge_bar_splashing_into_a_toilet_bowl_hyperrealistic_12k_ultra_detailed_--ar__seed16991052896572826507.txt\n",
      "2023-08-23 19:42:07 Num: 215, count for 'toilet': 0.0, prompt: @RumpelSluutskin Prompt: a top-down view of a fudge bar splashing into a toilet bowl, hyperrealistic 12k ultra detailed --ar 16:9  Author: @RumpelSluutskin, path: /apdcephfs_cq3/share_1290939/shadowcun/evals_dev/pikavideos/prompts/a_top-down_view_of_a_fudge_bar_splashing_into_a_toilet_bowl_hyperrealistic_12k_ultra_detailed_--ar__seed16991052896572826507.txt\n"
     ]
    },
    {
     "name": "stdout",
     "output_type": "stream",
     "text": [
      "processed frame 23, obj_num 0\n",
      "finished\n",
      "Directory already exists: ./pikavideos/horse/masks\n",
      "Directory already exists: ./pikavideos/horse/mask_video\n",
      "Directory already exists: ./pikavideos/horse/mask_gif\n",
      "final text_encoder_type: bert-base-uncased\n",
      "Model loaded from ./ckpt/groundingdino_swint_ogc.pth \n",
      " => _IncompatibleKeys(missing_keys=[], unexpected_keys=['label_enc.weight', 'bert.embeddings.position_ids'])\n",
      "SegTracker has been initialized\n",
      "processed frame 22, obj_num 1\r"
     ]
    },
    {
     "name": "stderr",
     "output_type": "stream",
     "text": [
      "Num: 216, count for 'horse': 1.0, prompt: @Terrence Green Kirby Prompt: Animated animation of elf woman, the elf riding a horse, the horse turning their head abruptly to look right and left, the elf's hair blows in breeze, foliage blows  Image: 1 Attachment  Author: @Terrence Green Kirby (edited), path: /apdcephfs_cq3/share_1290939/shadowcun/evals_dev/pikavideos/prompts/Animated_animation_of_elf_woman_the_elf_riding_a_horse_the_horse_turning_their_head_abruptly_to_lo_seed13179820148499501774.txt\n",
      "2023-08-23 19:42:18 Num: 216, count for 'horse': 1.0, prompt: @Terrence Green Kirby Prompt: Animated animation of elf woman, the elf riding a horse, the horse turning their head abruptly to look right and left, the elf's hair blows in breeze, foliage blows  Image: 1 Attachment  Author: @Terrence Green Kirby (edited), path: /apdcephfs_cq3/share_1290939/shadowcun/evals_dev/pikavideos/prompts/Animated_animation_of_elf_woman_the_elf_riding_a_horse_the_horse_turning_their_head_abruptly_to_lo_seed13179820148499501774.txt\n"
     ]
    },
    {
     "name": "stdout",
     "output_type": "stream",
     "text": [
      "processed frame 23, obj_num 1\n",
      "finished\n",
      "Directory already exists: ./pikavideos/orange/masks\n",
      "Directory already exists: ./pikavideos/orange/mask_video\n",
      "Directory already exists: ./pikavideos/orange/mask_gif\n",
      "final text_encoder_type: bert-base-uncased\n",
      "Model loaded from ./ckpt/groundingdino_swint_ogc.pth \n",
      " => _IncompatibleKeys(missing_keys=[], unexpected_keys=['label_enc.weight', 'bert.embeddings.position_ids'])\n",
      "SegTracker has been initialized\n",
      "processed frame 22, obj_num 0\r"
     ]
    },
    {
     "name": "stderr",
     "output_type": "stream",
     "text": [
      "Num: 216, count for 'orange': 0.0, prompt: @Motive8 Prompt: scene from, A Clockwork Orange, panning camera, in focus, large grin  Author: @Motive8, path: /apdcephfs_cq3/share_1290939/shadowcun/evals_dev/pikavideos/prompts/scene_from_A_Clockwork_Orange_panning_camera_in_focus_large_grin.txt\n",
      "2023-08-23 19:42:28 Num: 216, count for 'orange': 0.0, prompt: @Motive8 Prompt: scene from, A Clockwork Orange, panning camera, in focus, large grin  Author: @Motive8, path: /apdcephfs_cq3/share_1290939/shadowcun/evals_dev/pikavideos/prompts/scene_from_A_Clockwork_Orange_panning_camera_in_focus_large_grin.txt\n"
     ]
    },
    {
     "name": "stdout",
     "output_type": "stream",
     "text": [
      "processed frame 23, obj_num 0\n",
      "finished\n",
      "Directory already exists: ./pikavideos/bear/masks\n",
      "Directory already exists: ./pikavideos/bear/mask_video\n",
      "Directory already exists: ./pikavideos/bear/mask_gif\n",
      "final text_encoder_type: bert-base-uncased\n",
      "Model loaded from ./ckpt/groundingdino_swint_ogc.pth \n",
      " => _IncompatibleKeys(missing_keys=[], unexpected_keys=['label_enc.weight', 'bert.embeddings.position_ids'])\n",
      "SegTracker has been initialized\n",
      "processed frame 22, obj_num 0\r"
     ]
    },
    {
     "name": "stderr",
     "output_type": "stream",
     "text": [
      "Num: 216, count for 'bear': 0.0, prompt: @Terrence Green Kirby Prompt: Woman holds teddy bear tight to her, the teddy bear's head moves and eyes blink  Image: 1 Attachment  Author: @Terrence Green Kirby, path: /apdcephfs_cq3/share_1290939/shadowcun/evals_dev/pikavideos/prompts/Woman_holds_teddy_bear_tight_to_her_the_teddy_bear_s_head_moves_and_eyes_blink__Image__1_Attachment_seed9279376336835672120.txt\n",
      "2023-08-23 19:42:39 Num: 216, count for 'bear': 0.0, prompt: @Terrence Green Kirby Prompt: Woman holds teddy bear tight to her, the teddy bear's head moves and eyes blink  Image: 1 Attachment  Author: @Terrence Green Kirby, path: /apdcephfs_cq3/share_1290939/shadowcun/evals_dev/pikavideos/prompts/Woman_holds_teddy_bear_tight_to_her_the_teddy_bear_s_head_moves_and_eyes_blink__Image__1_Attachment_seed9279376336835672120.txt\n"
     ]
    },
    {
     "name": "stdout",
     "output_type": "stream",
     "text": [
      "processed frame 23, obj_num 0\n",
      "finished\n",
      "Directory already exists: ./pikavideos/teddy bear/masks\n",
      "Directory already exists: ./pikavideos/teddy bear/mask_video\n",
      "Directory already exists: ./pikavideos/teddy bear/mask_gif\n",
      "final text_encoder_type: bert-base-uncased\n",
      "Model loaded from ./ckpt/groundingdino_swint_ogc.pth \n",
      " => _IncompatibleKeys(missing_keys=[], unexpected_keys=['label_enc.weight', 'bert.embeddings.position_ids'])\n",
      "SegTracker has been initialized\n",
      "processed frame 22, obj_num 0\r"
     ]
    },
    {
     "name": "stderr",
     "output_type": "stream",
     "text": [
      "Num: 216, count for 'teddy bear': 0.0, prompt: @Terrence Green Kirby Prompt: Woman holds teddy bear tight to her, the teddy bear's head moves and eyes blink  Image: 1 Attachment  Author: @Terrence Green Kirby, path: /apdcephfs_cq3/share_1290939/shadowcun/evals_dev/pikavideos/prompts/Woman_holds_teddy_bear_tight_to_her_the_teddy_bear_s_head_moves_and_eyes_blink__Image__1_Attachment_seed9279376336835672120.txt\n",
      "2023-08-23 19:42:49 Num: 216, count for 'teddy bear': 0.0, prompt: @Terrence Green Kirby Prompt: Woman holds teddy bear tight to her, the teddy bear's head moves and eyes blink  Image: 1 Attachment  Author: @Terrence Green Kirby, path: /apdcephfs_cq3/share_1290939/shadowcun/evals_dev/pikavideos/prompts/Woman_holds_teddy_bear_tight_to_her_the_teddy_bear_s_head_moves_and_eyes_blink__Image__1_Attachment_seed9279376336835672120.txt\n"
     ]
    },
    {
     "name": "stdout",
     "output_type": "stream",
     "text": [
      "processed frame 23, obj_num 0\n",
      "finished\n",
      "Directory already exists: ./pikavideos/bird/masks\n",
      "Directory already exists: ./pikavideos/bird/mask_video\n",
      "Directory already exists: ./pikavideos/bird/mask_gif\n",
      "final text_encoder_type: bert-base-uncased\n",
      "Model loaded from ./ckpt/groundingdino_swint_ogc.pth \n",
      " => _IncompatibleKeys(missing_keys=[], unexpected_keys=['label_enc.weight', 'bert.embeddings.position_ids'])\n",
      "SegTracker has been initialized\n",
      "processed frame 22, obj_num 1\r"
     ]
    },
    {
     "name": "stderr",
     "output_type": "stream",
     "text": [
      "Num: 217, count for 'bird': 1.0, prompt: @kklai Prompt: a bird standing on a branch of a tree in the wind  Image: 1 Attachment  Author: @kklai, path: /apdcephfs_cq3/share_1290939/shadowcun/evals_dev/pikavideos/prompts/a_bird_standing_on_a_branch_of_a_tree_in_the_wind__Image__1_Attachment_seed6247472059031671960.txt\n",
      "2023-08-23 19:43:00 Num: 217, count for 'bird': 1.0, prompt: @kklai Prompt: a bird standing on a branch of a tree in the wind  Image: 1 Attachment  Author: @kklai, path: /apdcephfs_cq3/share_1290939/shadowcun/evals_dev/pikavideos/prompts/a_bird_standing_on_a_branch_of_a_tree_in_the_wind__Image__1_Attachment_seed6247472059031671960.txt\n"
     ]
    },
    {
     "name": "stdout",
     "output_type": "stream",
     "text": [
      "processed frame 23, obj_num 1\n",
      "finished\n",
      "Directory already exists: ./pikavideos/dog/masks\n",
      "Directory already exists: ./pikavideos/dog/mask_video\n",
      "Directory already exists: ./pikavideos/dog/mask_gif\n",
      "final text_encoder_type: bert-base-uncased\n",
      "Model loaded from ./ckpt/groundingdino_swint_ogc.pth \n",
      " => _IncompatibleKeys(missing_keys=[], unexpected_keys=['label_enc.weight', 'bert.embeddings.position_ids'])\n",
      "SegTracker has been initialized\n",
      "processed frame 22, obj_num 1\r"
     ]
    },
    {
     "name": "stderr",
     "output_type": "stream",
     "text": [
      "Num: 218, count for 'dog': 1.0, prompt: @EireStrike Prompt: the dog crashes into the water with force  Image: 1 Attachment  Author: @EireStrike, path: /apdcephfs_cq3/share_1290939/shadowcun/evals_dev/pikavideos/prompts/the_dog_crashes_into_the_water_with_force__Image__1_Attachment_seed1464244204610841975.txt\n",
      "2023-08-23 19:43:10 Num: 218, count for 'dog': 1.0, prompt: @EireStrike Prompt: the dog crashes into the water with force  Image: 1 Attachment  Author: @EireStrike, path: /apdcephfs_cq3/share_1290939/shadowcun/evals_dev/pikavideos/prompts/the_dog_crashes_into_the_water_with_force__Image__1_Attachment_seed1464244204610841975.txt\n"
     ]
    },
    {
     "name": "stdout",
     "output_type": "stream",
     "text": [
      "processed frame 23, obj_num 1\n",
      "finished\n",
      "Directory already exists: ./pikavideos/cat/masks\n",
      "Directory already exists: ./pikavideos/cat/mask_video\n",
      "Directory already exists: ./pikavideos/cat/mask_gif\n",
      "final text_encoder_type: bert-base-uncased\n",
      "Model loaded from ./ckpt/groundingdino_swint_ogc.pth \n",
      " => _IncompatibleKeys(missing_keys=[], unexpected_keys=['label_enc.weight', 'bert.embeddings.position_ids'])\n",
      "SegTracker has been initialized\n",
      "processed frame 22, obj_num 1\r"
     ]
    },
    {
     "name": "stderr",
     "output_type": "stream",
     "text": [
      "Num: 219, count for 'cat': 1.0, prompt: @FireAndBlood Prompt: cat binking, dynamic bubble, pulsuating bubble, feature film  Image: 1 Attachment  Author: @FireAndBlood, path: /apdcephfs_cq3/share_1290939/shadowcun/evals_dev/pikavideos/prompts/cat_binking_dynamic_bubble_pulsuating_bubble_feature_film__Image__1_Attachment_seed5281402099033273876.txt\n",
      "2023-08-23 19:43:22 Num: 219, count for 'cat': 1.0, prompt: @FireAndBlood Prompt: cat binking, dynamic bubble, pulsuating bubble, feature film  Image: 1 Attachment  Author: @FireAndBlood, path: /apdcephfs_cq3/share_1290939/shadowcun/evals_dev/pikavideos/prompts/cat_binking_dynamic_bubble_pulsuating_bubble_feature_film__Image__1_Attachment_seed5281402099033273876.txt\n"
     ]
    },
    {
     "name": "stdout",
     "output_type": "stream",
     "text": [
      "processed frame 23, obj_num 1\n",
      "finished\n",
      "Directory already exists: ./pikavideos/backpack/masks\n",
      "Directory already exists: ./pikavideos/backpack/mask_video\n",
      "Directory already exists: ./pikavideos/backpack/mask_gif\n",
      "final text_encoder_type: bert-base-uncased\n",
      "Model loaded from ./ckpt/groundingdino_swint_ogc.pth \n",
      " => _IncompatibleKeys(missing_keys=[], unexpected_keys=['label_enc.weight', 'bert.embeddings.position_ids'])\n",
      "SegTracker has been initialized\n",
      "processed frame 22, obj_num 0\r"
     ]
    },
    {
     "name": "stderr",
     "output_type": "stream",
     "text": [
      "Num: 219, count for 'backpack': 0.0, prompt: @Paulus Prompt: 16:8 cinematic scene, girl with red hair, with backpack on dressed for adventure, on a  volcanic island looking at a macaw flying towards her  Author: @Paulus, path: /apdcephfs_cq3/share_1290939/shadowcun/evals_dev/pikavideos/prompts/16_8_cinematic_scene_girl_with_red_hair_with_backpack_on_dressed_for_adventure_on_a__volcanic_isl_seed16883329397663929169.txt\n",
      "2023-08-23 19:43:32 Num: 219, count for 'backpack': 0.0, prompt: @Paulus Prompt: 16:8 cinematic scene, girl with red hair, with backpack on dressed for adventure, on a  volcanic island looking at a macaw flying towards her  Author: @Paulus, path: /apdcephfs_cq3/share_1290939/shadowcun/evals_dev/pikavideos/prompts/16_8_cinematic_scene_girl_with_red_hair_with_backpack_on_dressed_for_adventure_on_a__volcanic_isl_seed16883329397663929169.txt\n"
     ]
    },
    {
     "name": "stdout",
     "output_type": "stream",
     "text": [
      "processed frame 23, obj_num 0\n",
      "finished\n",
      "Directory already exists: ./pikavideos/car/masks\n",
      "Directory already exists: ./pikavideos/car/mask_video\n",
      "Directory already exists: ./pikavideos/car/mask_gif\n",
      "final text_encoder_type: bert-base-uncased\n",
      "Model loaded from ./ckpt/groundingdino_swint_ogc.pth \n",
      " => _IncompatibleKeys(missing_keys=[], unexpected_keys=['label_enc.weight', 'bert.embeddings.position_ids'])\n",
      "SegTracker has been initialized\n",
      "processed frame 22, obj_num 1\r"
     ]
    },
    {
     "name": "stderr",
     "output_type": "stream",
     "text": [
      "Num: 220, count for 'car': 1.0, prompt: @murr Prompt: car is driving in the desert  Author: @murr, path: /apdcephfs_cq3/share_1290939/shadowcun/evals_dev/pikavideos/prompts/car_is_driving_in_the_desert_seed2635982863112114478.txt\n",
      "2023-08-23 19:43:42 Num: 220, count for 'car': 1.0, prompt: @murr Prompt: car is driving in the desert  Author: @murr, path: /apdcephfs_cq3/share_1290939/shadowcun/evals_dev/pikavideos/prompts/car_is_driving_in_the_desert_seed2635982863112114478.txt\n"
     ]
    },
    {
     "name": "stdout",
     "output_type": "stream",
     "text": [
      "processed frame 23, obj_num 1\n",
      "finished\n",
      "Directory already exists: ./pikavideos/cat/masks\n",
      "Directory already exists: ./pikavideos/cat/mask_video\n",
      "Directory already exists: ./pikavideos/cat/mask_gif\n",
      "final text_encoder_type: bert-base-uncased\n",
      "Model loaded from ./ckpt/groundingdino_swint_ogc.pth \n",
      " => _IncompatibleKeys(missing_keys=[], unexpected_keys=['label_enc.weight', 'bert.embeddings.position_ids'])\n",
      "SegTracker has been initialized\n",
      "processed frame 22, obj_num 0\r"
     ]
    },
    {
     "name": "stderr",
     "output_type": "stream",
     "text": [
      "Num: 220, count for 'cat': 0.0, prompt: @magneticgiraff3 Prompt: 4k, cinematic shot of cyber cat is preparing for war, cyberpunk style -gs 24 -ar 3:2 -motion 2  Author: @magneticgiraff3, path: /apdcephfs_cq3/share_1290939/shadowcun/evals_dev/pikavideos/prompts/4k_cinematic_shot_of_cyber_cat_is_preparing_for_war_cyberpunk_style_-gs_24_-ar_3_2_-motion_2_seed16109022324768180847.txt\n",
      "2023-08-23 19:43:52 Num: 220, count for 'cat': 0.0, prompt: @magneticgiraff3 Prompt: 4k, cinematic shot of cyber cat is preparing for war, cyberpunk style -gs 24 -ar 3:2 -motion 2  Author: @magneticgiraff3, path: /apdcephfs_cq3/share_1290939/shadowcun/evals_dev/pikavideos/prompts/4k_cinematic_shot_of_cyber_cat_is_preparing_for_war_cyberpunk_style_-gs_24_-ar_3_2_-motion_2_seed16109022324768180847.txt\n"
     ]
    },
    {
     "name": "stdout",
     "output_type": "stream",
     "text": [
      "processed frame 23, obj_num 0\n",
      "finished\n",
      "Directory already exists: ./pikavideos/boat/masks\n",
      "Directory already exists: ./pikavideos/boat/mask_video\n",
      "Directory already exists: ./pikavideos/boat/mask_gif\n",
      "final text_encoder_type: bert-base-uncased\n",
      "Model loaded from ./ckpt/groundingdino_swint_ogc.pth \n",
      " => _IncompatibleKeys(missing_keys=[], unexpected_keys=['label_enc.weight', 'bert.embeddings.position_ids'])\n",
      "SegTracker has been initialized\n",
      "processed frame 22, obj_num 1\r"
     ]
    },
    {
     "name": "stderr",
     "output_type": "stream",
     "text": [
      "Num: 221, count for 'boat': 1.0, prompt: @MoDemery Prompt: cartoon fishing boat moving forward on cartoon sea  4k high quality  -gs 10 -motion 1  Image: 1 Attachment  Author: @MoDemery, path: /apdcephfs_cq3/share_1290939/shadowcun/evals_dev/pikavideos/prompts/cartoon_fishing_boat_moving_forward_on_cartoon_sea__4k_high_quality__-gs_10_-motion_1__Image__1_Atta_seed9152308246724678739.txt\n",
      "2023-08-23 19:44:03 Num: 221, count for 'boat': 1.0, prompt: @MoDemery Prompt: cartoon fishing boat moving forward on cartoon sea  4k high quality  -gs 10 -motion 1  Image: 1 Attachment  Author: @MoDemery, path: /apdcephfs_cq3/share_1290939/shadowcun/evals_dev/pikavideos/prompts/cartoon_fishing_boat_moving_forward_on_cartoon_sea__4k_high_quality__-gs_10_-motion_1__Image__1_Atta_seed9152308246724678739.txt\n"
     ]
    },
    {
     "name": "stdout",
     "output_type": "stream",
     "text": [
      "processed frame 23, obj_num 1\n",
      "finished\n",
      "Directory already exists: ./pikavideos/car/masks\n",
      "Directory already exists: ./pikavideos/car/mask_video\n",
      "Directory already exists: ./pikavideos/car/mask_gif\n",
      "final text_encoder_type: bert-base-uncased\n",
      "Model loaded from ./ckpt/groundingdino_swint_ogc.pth \n",
      " => _IncompatibleKeys(missing_keys=[], unexpected_keys=['label_enc.weight', 'bert.embeddings.position_ids'])\n",
      "SegTracker has been initialized\n",
      "processed frame 22, obj_num 1\r"
     ]
    },
    {
     "name": "stderr",
     "output_type": "stream",
     "text": [
      "Num: 222, count for 'car': 1.0, prompt: @AI Futuristika Prompt: isometric view of a vintage mercedes benz, running in the streets, 1960 setting, 10k resolution --ar 16:16 --gs 20 --neg back view, dark areas, running backward, awkward position of car, disproportion of angles, collision of cars  Author: @AI Futuristika, path: /apdcephfs_cq3/share_1290939/shadowcun/evals_dev/pikavideos/prompts/isometric_view_of_a_vintage_mercedes_benz_running_in_the_streets_1960_setting_10k_resolution_--ar_seed15377578392481166838.txt\n",
      "2023-08-23 19:44:14 Num: 222, count for 'car': 1.0, prompt: @AI Futuristika Prompt: isometric view of a vintage mercedes benz, running in the streets, 1960 setting, 10k resolution --ar 16:16 --gs 20 --neg back view, dark areas, running backward, awkward position of car, disproportion of angles, collision of cars  Author: @AI Futuristika, path: /apdcephfs_cq3/share_1290939/shadowcun/evals_dev/pikavideos/prompts/isometric_view_of_a_vintage_mercedes_benz_running_in_the_streets_1960_setting_10k_resolution_--ar_seed15377578392481166838.txt\n"
     ]
    },
    {
     "name": "stdout",
     "output_type": "stream",
     "text": [
      "processed frame 23, obj_num 1\n",
      "finished\n",
      "Directory already exists: ./pikavideos/truck/masks\n",
      "Directory already exists: ./pikavideos/truck/mask_video\n",
      "Directory already exists: ./pikavideos/truck/mask_gif\n",
      "final text_encoder_type: bert-base-uncased\n",
      "Model loaded from ./ckpt/groundingdino_swint_ogc.pth \n",
      " => _IncompatibleKeys(missing_keys=[], unexpected_keys=['label_enc.weight', 'bert.embeddings.position_ids'])\n",
      "SegTracker has been initialized\n",
      "processed frame 22, obj_num 1\r"
     ]
    },
    {
     "name": "stderr",
     "output_type": "stream",
     "text": [
      "Num: 223, count for 'truck': 1.0, prompt: @crimelab357 Prompt: chubby caucasion woman with dreadlocks walks past a semi truck  Author: @crimelab357, path: /apdcephfs_cq3/share_1290939/shadowcun/evals_dev/pikavideos/prompts/chubby_caucasion_woman_with_dreadlocks_walks_past_a_semi_truck_seed7638101076760933037.txt\n",
      "2023-08-23 19:44:24 Num: 223, count for 'truck': 1.0, prompt: @crimelab357 Prompt: chubby caucasion woman with dreadlocks walks past a semi truck  Author: @crimelab357, path: /apdcephfs_cq3/share_1290939/shadowcun/evals_dev/pikavideos/prompts/chubby_caucasion_woman_with_dreadlocks_walks_past_a_semi_truck_seed7638101076760933037.txt\n"
     ]
    },
    {
     "name": "stdout",
     "output_type": "stream",
     "text": [
      "processed frame 23, obj_num 1\n",
      "finished\n",
      "Directory already exists: ./pikavideos/chair/masks\n",
      "Directory already exists: ./pikavideos/chair/mask_video\n",
      "Directory already exists: ./pikavideos/chair/mask_gif\n",
      "final text_encoder_type: bert-base-uncased\n",
      "Model loaded from ./ckpt/groundingdino_swint_ogc.pth \n",
      " => _IncompatibleKeys(missing_keys=[], unexpected_keys=['label_enc.weight', 'bert.embeddings.position_ids'])\n",
      "SegTracker has been initialized\n",
      "processed frame 22, obj_num 0\r"
     ]
    },
    {
     "name": "stderr",
     "output_type": "stream",
     "text": [
      "Num: 223, count for 'chair': 0.0, prompt: @Gravandire Prompt: Grey Aliens sitting on chairs  Author: @Gravandire, path: /apdcephfs_cq3/share_1290939/shadowcun/evals_dev/pikavideos/prompts/Grey_Aliens_sitting_on_chairs_seed3401715619491101331.txt\n",
      "2023-08-23 19:44:34 Num: 223, count for 'chair': 0.0, prompt: @Gravandire Prompt: Grey Aliens sitting on chairs  Author: @Gravandire, path: /apdcephfs_cq3/share_1290939/shadowcun/evals_dev/pikavideos/prompts/Grey_Aliens_sitting_on_chairs_seed3401715619491101331.txt\n"
     ]
    },
    {
     "name": "stdout",
     "output_type": "stream",
     "text": [
      "processed frame 23, obj_num 0\n",
      "finished\n",
      "Directory already exists: ./pikavideos/cat/masks\n",
      "Directory already exists: ./pikavideos/cat/mask_video\n",
      "Directory already exists: ./pikavideos/cat/mask_gif\n",
      "final text_encoder_type: bert-base-uncased\n",
      "Model loaded from ./ckpt/groundingdino_swint_ogc.pth \n",
      " => _IncompatibleKeys(missing_keys=[], unexpected_keys=['label_enc.weight', 'bert.embeddings.position_ids'])\n",
      "SegTracker has been initialized\n",
      "processed frame 22, obj_num 0\r"
     ]
    },
    {
     "name": "stderr",
     "output_type": "stream",
     "text": [
      "Num: 223, count for 'cat': 0.0, prompt: @Disastrous-Dirt Prompt: cinematic, best film cinematography, extremely gorgeous sorceress, long dark hair, glowing blue eyes, majestic dress, her two pet white cats, vibrant, she has extreme joy for the viewer , mood energetic,  having a nice conversation with the viewer, inside her temple chambers, intricately detailed,  in epic combat, instagram, insane detail, ultrarealistic,  film style of John Woo, 16k , UHD, RAW, sharp focus  Image: 1 Attachment  Author: @Disastrous-Dirt, path: /apdcephfs_cq3/share_1290939/shadowcun/evals_dev/pikavideos/prompts/cinematic_best_film_cinematography_extremely_gorgeous_sorceress_long_dark_hair_glowing_blue_eyes_seed354474611931781770.txt\n",
      "2023-08-23 19:44:44 Num: 223, count for 'cat': 0.0, prompt: @Disastrous-Dirt Prompt: cinematic, best film cinematography, extremely gorgeous sorceress, long dark hair, glowing blue eyes, majestic dress, her two pet white cats, vibrant, she has extreme joy for the viewer , mood energetic,  having a nice conversation with the viewer, inside her temple chambers, intricately detailed,  in epic combat, instagram, insane detail, ultrarealistic,  film style of John Woo, 16k , UHD, RAW, sharp focus  Image: 1 Attachment  Author: @Disastrous-Dirt, path: /apdcephfs_cq3/share_1290939/shadowcun/evals_dev/pikavideos/prompts/cinematic_best_film_cinematography_extremely_gorgeous_sorceress_long_dark_hair_glowing_blue_eyes_seed354474611931781770.txt\n"
     ]
    },
    {
     "name": "stdout",
     "output_type": "stream",
     "text": [
      "processed frame 23, obj_num 0\n",
      "finished\n",
      "Directory already exists: ./pikavideos/pizza/masks\n",
      "Directory already exists: ./pikavideos/pizza/mask_video\n",
      "Directory already exists: ./pikavideos/pizza/mask_gif\n",
      "final text_encoder_type: bert-base-uncased\n",
      "Model loaded from ./ckpt/groundingdino_swint_ogc.pth \n",
      " => _IncompatibleKeys(missing_keys=[], unexpected_keys=['label_enc.weight', 'bert.embeddings.position_ids'])\n",
      "SegTracker has been initialized\n",
      "processed frame 22, obj_num 1\r"
     ]
    },
    {
     "name": "stderr",
     "output_type": "stream",
     "text": [
      "Num: 224, count for 'pizza': 1.0, prompt: @jsc Prompt: eating pizza vigorously,  -gs 16 -motion 1 -seed 5678  Image: 1 Attachment  Author: @jsc, path: /apdcephfs_cq3/share_1290939/shadowcun/evals_dev/pikavideos/prompts/eating_pizza_vigorously__-gs_16_-motion_1_-seed_5678__Image__1_Attachment_seed5678.txt\n",
      "2023-08-23 19:44:55 Num: 224, count for 'pizza': 1.0, prompt: @jsc Prompt: eating pizza vigorously,  -gs 16 -motion 1 -seed 5678  Image: 1 Attachment  Author: @jsc, path: /apdcephfs_cq3/share_1290939/shadowcun/evals_dev/pikavideos/prompts/eating_pizza_vigorously__-gs_16_-motion_1_-seed_5678__Image__1_Attachment_seed5678.txt\n"
     ]
    },
    {
     "name": "stdout",
     "output_type": "stream",
     "text": [
      "processed frame 23, obj_num 1\n",
      "finished\n",
      "Directory already exists: ./pikavideos/book/masks\n",
      "Directory already exists: ./pikavideos/book/mask_video\n",
      "Directory already exists: ./pikavideos/book/mask_gif\n",
      "final text_encoder_type: bert-base-uncased\n",
      "Model loaded from ./ckpt/groundingdino_swint_ogc.pth \n",
      " => _IncompatibleKeys(missing_keys=[], unexpected_keys=['label_enc.weight', 'bert.embeddings.position_ids'])\n",
      "SegTracker has been initialized\n",
      "processed frame 22, obj_num 0\r"
     ]
    },
    {
     "name": "stderr",
     "output_type": "stream",
     "text": [
      "Num: 224, count for 'book': 0.0, prompt: @escorza Prompt: Oxford University in the 19th century seen in a long shot, with students and faculty, arriving and leaving, books in hand and while scrolling the video to the right, -ar 16:9  Author: @escorza, path: /apdcephfs_cq3/share_1290939/shadowcun/evals_dev/pikavideos/prompts/Oxford_University_in_the_19th_century_seen_in_a_long_shot_with_students_and_faculty_arriving_and_l_seed17910749996753429197.txt\n",
      "2023-08-23 19:45:05 Num: 224, count for 'book': 0.0, prompt: @escorza Prompt: Oxford University in the 19th century seen in a long shot, with students and faculty, arriving and leaving, books in hand and while scrolling the video to the right, -ar 16:9  Author: @escorza, path: /apdcephfs_cq3/share_1290939/shadowcun/evals_dev/pikavideos/prompts/Oxford_University_in_the_19th_century_seen_in_a_long_shot_with_students_and_faculty_arriving_and_l_seed17910749996753429197.txt\n"
     ]
    },
    {
     "name": "stdout",
     "output_type": "stream",
     "text": [
      "processed frame 23, obj_num 0\n",
      "finished\n",
      "Directory already exists: ./pikavideos/car/masks\n",
      "Directory already exists: ./pikavideos/car/mask_video\n",
      "Directory already exists: ./pikavideos/car/mask_gif\n",
      "final text_encoder_type: bert-base-uncased\n",
      "Model loaded from ./ckpt/groundingdino_swint_ogc.pth \n",
      " => _IncompatibleKeys(missing_keys=[], unexpected_keys=['label_enc.weight', 'bert.embeddings.position_ids'])\n",
      "SegTracker has been initialized\n",
      "processed frame 22, obj_num 0\r"
     ]
    },
    {
     "name": "stderr",
     "output_type": "stream",
     "text": [
      "Num: 224, count for 'car': 0.0, prompt: @Mike123 Prompt: One red Ferrari car drives on camera down a New York street.  Author: @Mike123, path: /apdcephfs_cq3/share_1290939/shadowcun/evals_dev/pikavideos/prompts/One_red_Ferrari_car_drives_on_camera_down_a_New_York_street._seed590095814585383900.txt\n",
      "2023-08-23 19:45:15 Num: 224, count for 'car': 0.0, prompt: @Mike123 Prompt: One red Ferrari car drives on camera down a New York street.  Author: @Mike123, path: /apdcephfs_cq3/share_1290939/shadowcun/evals_dev/pikavideos/prompts/One_red_Ferrari_car_drives_on_camera_down_a_New_York_street._seed590095814585383900.txt\n"
     ]
    },
    {
     "name": "stdout",
     "output_type": "stream",
     "text": [
      "processed frame 23, obj_num 0\n",
      "finished\n",
      "Directory already exists: ./pikavideos/boat/masks\n",
      "Directory already exists: ./pikavideos/boat/mask_video\n",
      "Directory already exists: ./pikavideos/boat/mask_gif\n",
      "final text_encoder_type: bert-base-uncased\n",
      "Model loaded from ./ckpt/groundingdino_swint_ogc.pth \n",
      " => _IncompatibleKeys(missing_keys=[], unexpected_keys=['label_enc.weight', 'bert.embeddings.position_ids'])\n",
      "SegTracker has been initialized\n",
      "processed frame 22, obj_num 0\r"
     ]
    },
    {
     "name": "stderr",
     "output_type": "stream",
     "text": [
      "Num: 224, count for 'boat': 0.0, prompt: @Crypto89 Prompt: boat slowly rocking. clouds moving. dynamic background. dynamic lighting. wavy. -motion 1 -neg extra clouds, smoke, fog, heavy mist  Image: 1 Attachment  Author: @Crypto89, path: /apdcephfs_cq3/share_1290939/shadowcun/evals_dev/pikavideos/prompts/boat_slowly_rocking._clouds_moving._dynamic_background._dynamic_lighting._wavy._-motion_1_-neg_extra_seed11030385323665720342.txt\n",
      "2023-08-23 19:45:26 Num: 224, count for 'boat': 0.0, prompt: @Crypto89 Prompt: boat slowly rocking. clouds moving. dynamic background. dynamic lighting. wavy. -motion 1 -neg extra clouds, smoke, fog, heavy mist  Image: 1 Attachment  Author: @Crypto89, path: /apdcephfs_cq3/share_1290939/shadowcun/evals_dev/pikavideos/prompts/boat_slowly_rocking._clouds_moving._dynamic_background._dynamic_lighting._wavy._-motion_1_-neg_extra_seed11030385323665720342.txt\n"
     ]
    },
    {
     "name": "stdout",
     "output_type": "stream",
     "text": [
      "processed frame 23, obj_num 0\n",
      "finished\n",
      "Directory already exists: ./pikavideos/bed/masks\n",
      "Directory already exists: ./pikavideos/bed/mask_video\n",
      "Directory already exists: ./pikavideos/bed/mask_gif\n",
      "final text_encoder_type: bert-base-uncased\n",
      "Model loaded from ./ckpt/groundingdino_swint_ogc.pth \n",
      " => _IncompatibleKeys(missing_keys=[], unexpected_keys=['label_enc.weight', 'bert.embeddings.position_ids'])\n",
      "SegTracker has been initialized\n",
      "processed frame 22, obj_num 1\r"
     ]
    },
    {
     "name": "stderr",
     "output_type": "stream",
     "text": [
      "Num: 225, count for 'bed': 1.0, prompt: @LI XIAOFENG Prompt: An African child lying in a hospital bed with his eyes closed.--ar16:9  Image: 1 Attachment  Author: @LI XIAOFENG, path: /apdcephfs_cq3/share_1290939/shadowcun/evals_dev/pikavideos/prompts/An_African_child_lying_in_a_hospital_bed_with_his_eyes_closed.--ar16_9__Image__1_Attachment_seed3554579435274575770.txt\n",
      "2023-08-23 19:45:36 Num: 225, count for 'bed': 1.0, prompt: @LI XIAOFENG Prompt: An African child lying in a hospital bed with his eyes closed.--ar16:9  Image: 1 Attachment  Author: @LI XIAOFENG, path: /apdcephfs_cq3/share_1290939/shadowcun/evals_dev/pikavideos/prompts/An_African_child_lying_in_a_hospital_bed_with_his_eyes_closed.--ar16_9__Image__1_Attachment_seed3554579435274575770.txt\n"
     ]
    },
    {
     "name": "stdout",
     "output_type": "stream",
     "text": [
      "processed frame 23, obj_num 1\n",
      "finished\n",
      "Directory already exists: ./pikavideos/person/masks\n",
      "Directory already exists: ./pikavideos/person/mask_video\n",
      "Directory already exists: ./pikavideos/person/mask_gif\n",
      "final text_encoder_type: bert-base-uncased\n",
      "Model loaded from ./ckpt/groundingdino_swint_ogc.pth \n",
      " => _IncompatibleKeys(missing_keys=[], unexpected_keys=['label_enc.weight', 'bert.embeddings.position_ids'])\n",
      "SegTracker has been initialized\n",
      "processed frame 22, obj_num 1\r"
     ]
    },
    {
     "name": "stderr",
     "output_type": "stream",
     "text": [
      "Num: 226, count for 'person': 1.0, prompt: @sin Prompt: game third person footage, arid vast desert, distant planets in the sky, realistic, detailed, volumetric lighting, unreal engine, futuristic astronaut walking away from the camera  Image: 1 Attachment  Author: @sin, path: /apdcephfs_cq3/share_1290939/shadowcun/evals_dev/pikavideos/prompts/game_third_person_footage_arid_vast_desert_distant_planets_in_the_sky_realistic_detailed_volume_seed16745424823627365040.txt\n",
      "2023-08-23 19:45:45 Num: 226, count for 'person': 1.0, prompt: @sin Prompt: game third person footage, arid vast desert, distant planets in the sky, realistic, detailed, volumetric lighting, unreal engine, futuristic astronaut walking away from the camera  Image: 1 Attachment  Author: @sin, path: /apdcephfs_cq3/share_1290939/shadowcun/evals_dev/pikavideos/prompts/game_third_person_footage_arid_vast_desert_distant_planets_in_the_sky_realistic_detailed_volume_seed16745424823627365040.txt\n"
     ]
    },
    {
     "name": "stdout",
     "output_type": "stream",
     "text": [
      "processed frame 23, obj_num 1\n",
      "finished\n",
      "Directory already exists: ./pikavideos/car/masks\n",
      "Directory already exists: ./pikavideos/car/mask_video\n",
      "Directory already exists: ./pikavideos/car/mask_gif\n",
      "final text_encoder_type: bert-base-uncased\n",
      "Model loaded from ./ckpt/groundingdino_swint_ogc.pth \n",
      " => _IncompatibleKeys(missing_keys=[], unexpected_keys=['label_enc.weight', 'bert.embeddings.position_ids'])\n",
      "SegTracker has been initialized\n",
      "processed frame 22, obj_num 3\r"
     ]
    },
    {
     "name": "stderr",
     "output_type": "stream",
     "text": [
      "Num: 227, count for 'car': 3.0, prompt: @Ch4d Prompt: driving car  Image: 1 Attachment  Author: @Ch4d, path: /apdcephfs_cq3/share_1290939/shadowcun/evals_dev/pikavideos/prompts/driving_car__Image__1_Attachment_seed6384935882736257493.txt\n",
      "2023-08-23 19:45:56 Num: 227, count for 'car': 3.0, prompt: @Ch4d Prompt: driving car  Image: 1 Attachment  Author: @Ch4d, path: /apdcephfs_cq3/share_1290939/shadowcun/evals_dev/pikavideos/prompts/driving_car__Image__1_Attachment_seed6384935882736257493.txt\n"
     ]
    },
    {
     "name": "stdout",
     "output_type": "stream",
     "text": [
      "processed frame 23, obj_num 3\n",
      "finished\n",
      "Directory already exists: ./pikavideos/pizza/masks\n",
      "Directory already exists: ./pikavideos/pizza/mask_video\n",
      "Directory already exists: ./pikavideos/pizza/mask_gif\n",
      "final text_encoder_type: bert-base-uncased\n",
      "Model loaded from ./ckpt/groundingdino_swint_ogc.pth \n",
      " => _IncompatibleKeys(missing_keys=[], unexpected_keys=['label_enc.weight', 'bert.embeddings.position_ids'])\n",
      "SegTracker has been initialized\n",
      "processed frame 22, obj_num 1\r"
     ]
    },
    {
     "name": "stderr",
     "output_type": "stream",
     "text": [
      "Num: 228, count for 'pizza': 1.0, prompt: @AI Prompt: eating pizza, party  Author: @AI, path: /apdcephfs_cq3/share_1290939/shadowcun/evals_dev/pikavideos/prompts/eating_pizza_party_seed7484866234891865810.txt\n",
      "2023-08-23 19:46:06 Num: 228, count for 'pizza': 1.0, prompt: @AI Prompt: eating pizza, party  Author: @AI, path: /apdcephfs_cq3/share_1290939/shadowcun/evals_dev/pikavideos/prompts/eating_pizza_party_seed7484866234891865810.txt\n"
     ]
    },
    {
     "name": "stdout",
     "output_type": "stream",
     "text": [
      "processed frame 23, obj_num 1\n",
      "finished\n",
      "Directory already exists: ./pikavideos/car/masks\n",
      "Directory already exists: ./pikavideos/car/mask_video\n",
      "Directory already exists: ./pikavideos/car/mask_gif\n",
      "final text_encoder_type: bert-base-uncased\n",
      "Model loaded from ./ckpt/groundingdino_swint_ogc.pth \n",
      " => _IncompatibleKeys(missing_keys=[], unexpected_keys=['label_enc.weight', 'bert.embeddings.position_ids'])\n",
      "SegTracker has been initialized\n",
      "processed frame 22, obj_num 0\r"
     ]
    },
    {
     "name": "stderr",
     "output_type": "stream",
     "text": [
      "Num: 228, count for 'car': 0.0, prompt: @Bob Prompt: the man and woman run towards the  iron  fence, while they cast  shadows on the floor  while they run, the car in the distance drives away, the  red light of  the  traffic  light in the distance  glows red,  a  gentle  breeze moves the woman's hair and foliage, photo realistic quality  Image: 1 Attachment  Author: @Bob, path: /apdcephfs_cq3/share_1290939/shadowcun/evals_dev/pikavideos/prompts/the_man_and_woman_run_towards_the__iron__fence_while_they_cast__shadows_on_the_floor__while_they_ru_seed10150790834645348981.txt\n",
      "2023-08-23 19:46:16 Num: 228, count for 'car': 0.0, prompt: @Bob Prompt: the man and woman run towards the  iron  fence, while they cast  shadows on the floor  while they run, the car in the distance drives away, the  red light of  the  traffic  light in the distance  glows red,  a  gentle  breeze moves the woman's hair and foliage, photo realistic quality  Image: 1 Attachment  Author: @Bob, path: /apdcephfs_cq3/share_1290939/shadowcun/evals_dev/pikavideos/prompts/the_man_and_woman_run_towards_the__iron__fence_while_they_cast__shadows_on_the_floor__while_they_ru_seed10150790834645348981.txt\n"
     ]
    },
    {
     "name": "stdout",
     "output_type": "stream",
     "text": [
      "processed frame 23, obj_num 0\n",
      "finished\n",
      "Directory already exists: ./pikavideos/dog/masks\n",
      "Directory already exists: ./pikavideos/dog/mask_video\n",
      "Directory already exists: ./pikavideos/dog/mask_gif\n",
      "final text_encoder_type: bert-base-uncased\n",
      "Model loaded from ./ckpt/groundingdino_swint_ogc.pth \n",
      " => _IncompatibleKeys(missing_keys=[], unexpected_keys=['label_enc.weight', 'bert.embeddings.position_ids'])\n",
      "SegTracker has been initialized\n",
      "processed frame 22, obj_num 0\r"
     ]
    },
    {
     "name": "stderr",
     "output_type": "stream",
     "text": [
      "Num: 228, count for 'dog': 0.0, prompt: @Declan Dowling Prompt: super fun action dog in combat armor  Author: @Declan Dowling, path: /apdcephfs_cq3/share_1290939/shadowcun/evals_dev/pikavideos/prompts/super_fun_action_dog_in_combat_armor_seed17067892330304577543.txt\n",
      "2023-08-23 19:46:26 Num: 228, count for 'dog': 0.0, prompt: @Declan Dowling Prompt: super fun action dog in combat armor  Author: @Declan Dowling, path: /apdcephfs_cq3/share_1290939/shadowcun/evals_dev/pikavideos/prompts/super_fun_action_dog_in_combat_armor_seed17067892330304577543.txt\n"
     ]
    },
    {
     "name": "stdout",
     "output_type": "stream",
     "text": [
      "processed frame 23, obj_num 0\n",
      "finished\n",
      "Directory created: ./pikavideos/zebra/masks\n",
      "Directory created: ./pikavideos/zebra/mask_video\n",
      "Directory created: ./pikavideos/zebra/mask_gif\n",
      "final text_encoder_type: bert-base-uncased\n",
      "Model loaded from ./ckpt/groundingdino_swint_ogc.pth \n",
      " => _IncompatibleKeys(missing_keys=[], unexpected_keys=['label_enc.weight', 'bert.embeddings.position_ids'])\n",
      "SegTracker has been initialized\n",
      "processed frame 22, obj_num 1\r"
     ]
    },
    {
     "name": "stderr",
     "output_type": "stream",
     "text": [
      "Num: 229, count for 'zebra': 1.0, prompt: @endemicland Prompt: human zebra walking fast in a stream of water  Image: 1 Attachment  Author: @endemicland (edited), path: /apdcephfs_cq3/share_1290939/shadowcun/evals_dev/pikavideos/prompts/human_zebra_walking_fast_in_a_stream_of_water__Image__1_Attachment_seed1294462658059874657.txt\n",
      "2023-08-23 19:46:37 Num: 229, count for 'zebra': 1.0, prompt: @endemicland Prompt: human zebra walking fast in a stream of water  Image: 1 Attachment  Author: @endemicland (edited), path: /apdcephfs_cq3/share_1290939/shadowcun/evals_dev/pikavideos/prompts/human_zebra_walking_fast_in_a_stream_of_water__Image__1_Attachment_seed1294462658059874657.txt\n"
     ]
    },
    {
     "name": "stdout",
     "output_type": "stream",
     "text": [
      "processed frame 23, obj_num 1\n",
      "finished\n",
      "Directory already exists: ./pikavideos/book/masks\n",
      "Directory already exists: ./pikavideos/book/mask_video\n",
      "Directory already exists: ./pikavideos/book/mask_gif\n",
      "final text_encoder_type: bert-base-uncased\n",
      "Model loaded from ./ckpt/groundingdino_swint_ogc.pth \n",
      " => _IncompatibleKeys(missing_keys=[], unexpected_keys=['label_enc.weight', 'bert.embeddings.position_ids'])\n",
      "SegTracker has been initialized\n",
      "processed frame 22, obj_num 0\r"
     ]
    },
    {
     "name": "stderr",
     "output_type": "stream",
     "text": [
      "Num: 229, count for 'book': 0.0, prompt: @bruh.nasa Prompt: The interior of an empty, almost abandoned spaceship, inside there are books everywhere and the light of galaxies and stars enters through the windows. Colors are dark, bluish, -ar 20:9 , -gs 20 , -motion 2  Author: @bruh.nasa, path: /apdcephfs_cq3/share_1290939/shadowcun/evals_dev/pikavideos/prompts/The_interior_of_an_empty_almost_abandoned_spaceship_inside_there_are_books_everywhere_and_the_ligh_seed17183409430607754950.txt\n",
      "2023-08-23 19:46:47 Num: 229, count for 'book': 0.0, prompt: @bruh.nasa Prompt: The interior of an empty, almost abandoned spaceship, inside there are books everywhere and the light of galaxies and stars enters through the windows. Colors are dark, bluish, -ar 20:9 , -gs 20 , -motion 2  Author: @bruh.nasa, path: /apdcephfs_cq3/share_1290939/shadowcun/evals_dev/pikavideos/prompts/The_interior_of_an_empty_almost_abandoned_spaceship_inside_there_are_books_everywhere_and_the_ligh_seed17183409430607754950.txt\n"
     ]
    },
    {
     "name": "stdout",
     "output_type": "stream",
     "text": [
      "processed frame 23, obj_num 0\n",
      "finished\n",
      "Directory already exists: ./pikavideos/umbrella/masks\n",
      "Directory already exists: ./pikavideos/umbrella/mask_video\n",
      "Directory already exists: ./pikavideos/umbrella/mask_gif\n",
      "final text_encoder_type: bert-base-uncased\n",
      "Model loaded from ./ckpt/groundingdino_swint_ogc.pth \n",
      " => _IncompatibleKeys(missing_keys=[], unexpected_keys=['label_enc.weight', 'bert.embeddings.position_ids'])\n",
      "SegTracker has been initialized\n",
      "processed frame 22, obj_num 0\r"
     ]
    },
    {
     "name": "stderr",
     "output_type": "stream",
     "text": [
      "Num: 229, count for 'umbrella': 0.0, prompt: @Itai Miller Prompt: /create prompt:[A family building sandcastles on a lively beach, children laughing and playing in the water, colorful beach umbrellas dotting the shoreline, --gs 20 --ar 16:9]  Author: @Itai Miller, path: /apdcephfs_cq3/share_1290939/shadowcun/evals_dev/pikavideos/prompts/create_prompt__A_family_building_sandcastles_on_a_lively_beach_children_laughing_and_playing_in_th.txt\n",
      "2023-08-23 19:46:57 Num: 229, count for 'umbrella': 0.0, prompt: @Itai Miller Prompt: /create prompt:[A family building sandcastles on a lively beach, children laughing and playing in the water, colorful beach umbrellas dotting the shoreline, --gs 20 --ar 16:9]  Author: @Itai Miller, path: /apdcephfs_cq3/share_1290939/shadowcun/evals_dev/pikavideos/prompts/create_prompt__A_family_building_sandcastles_on_a_lively_beach_children_laughing_and_playing_in_th.txt\n"
     ]
    },
    {
     "name": "stdout",
     "output_type": "stream",
     "text": [
      "processed frame 23, obj_num 0\n",
      "finished\n",
      "Directory already exists: ./pikavideos/clock/masks\n",
      "Directory already exists: ./pikavideos/clock/mask_video\n",
      "Directory already exists: ./pikavideos/clock/mask_gif\n",
      "final text_encoder_type: bert-base-uncased\n",
      "Model loaded from ./ckpt/groundingdino_swint_ogc.pth \n",
      " => _IncompatibleKeys(missing_keys=[], unexpected_keys=['label_enc.weight', 'bert.embeddings.position_ids'])\n",
      "SegTracker has been initialized\n",
      "processed frame 22, obj_num 1\r"
     ]
    },
    {
     "name": "stderr",
     "output_type": "stream",
     "text": [
      "Num: 230, count for 'clock': 1.0, prompt: @Prikkodko Prompt: clock timer  Image: 1 Attachment  Author: @Prikkodko, path: /apdcephfs_cq3/share_1290939/shadowcun/evals_dev/pikavideos/prompts/clock_timer__Image__1_Attachment_seed3524345801466241128.txt\n",
      "2023-08-23 19:47:09 Num: 230, count for 'clock': 1.0, prompt: @Prikkodko Prompt: clock timer  Image: 1 Attachment  Author: @Prikkodko, path: /apdcephfs_cq3/share_1290939/shadowcun/evals_dev/pikavideos/prompts/clock_timer__Image__1_Attachment_seed3524345801466241128.txt\n"
     ]
    },
    {
     "name": "stdout",
     "output_type": "stream",
     "text": [
      "processed frame 23, obj_num 1\n",
      "finished\n",
      "Directory created: ./pikavideos/kite/masks\n",
      "Directory created: ./pikavideos/kite/mask_video\n",
      "Directory created: ./pikavideos/kite/mask_gif\n",
      "final text_encoder_type: bert-base-uncased\n",
      "Model loaded from ./ckpt/groundingdino_swint_ogc.pth \n",
      " => _IncompatibleKeys(missing_keys=[], unexpected_keys=['label_enc.weight', 'bert.embeddings.position_ids'])\n",
      "SegTracker has been initialized\n",
      "processed frame 22, obj_num 0\r"
     ]
    },
    {
     "name": "stderr",
     "output_type": "stream",
     "text": [
      "Num: 230, count for 'kite': 0.0, prompt: @Swayfu Prompt: Beachfront cabanas on the white sandy shores of the ancient mediterranaen city of Alexandria, overlooking the tranquil  turqouise waters as a Kite surfer glides gracefully across the screen, HD,  extremely realistic render, professional color correction,  epic shot, denoise, hyper lapse, 32k, wide shot, cinematic dramatic track in, visual syntax and composition in the style of Andre Tarkovsky  Image: 1  Author: @fanfan, path: /apdcephfs_cq3/share_1290939/shadowcun/evals_dev/pikavideos/prompts/Beachfront_cabanas_on_the_white_sandy_shores_of_the_ancient_mediterranaen_city_of_Alexandria_overlo_seed2953418459566816322.txt\n",
      "2023-08-23 19:47:18 Num: 230, count for 'kite': 0.0, prompt: @Swayfu Prompt: Beachfront cabanas on the white sandy shores of the ancient mediterranaen city of Alexandria, overlooking the tranquil  turqouise waters as a Kite surfer glides gracefully across the screen, HD,  extremely realistic render, professional color correction,  epic shot, denoise, hyper lapse, 32k, wide shot, cinematic dramatic track in, visual syntax and composition in the style of Andre Tarkovsky  Image: 1  Author: @fanfan, path: /apdcephfs_cq3/share_1290939/shadowcun/evals_dev/pikavideos/prompts/Beachfront_cabanas_on_the_white_sandy_shores_of_the_ancient_mediterranaen_city_of_Alexandria_overlo_seed2953418459566816322.txt\n"
     ]
    },
    {
     "name": "stdout",
     "output_type": "stream",
     "text": [
      "processed frame 23, obj_num 0\n",
      "finished\n",
      "Directory already exists: ./pikavideos/apple/masks\n",
      "Directory already exists: ./pikavideos/apple/mask_video\n",
      "Directory already exists: ./pikavideos/apple/mask_gif\n",
      "final text_encoder_type: bert-base-uncased\n",
      "Model loaded from ./ckpt/groundingdino_swint_ogc.pth \n",
      " => _IncompatibleKeys(missing_keys=[], unexpected_keys=['label_enc.weight', 'bert.embeddings.position_ids'])\n",
      "SegTracker has been initialized\n",
      "processed frame 22, obj_num 1\r"
     ]
    },
    {
     "name": "stderr",
     "output_type": "stream",
     "text": [
      "Num: 231, count for 'apple': 1.0, prompt: @crystalwizard Prompt: a shiny red apple spinning in space near a nebula -motion 2 -gs 20  Author: @crystalwizard, path: /apdcephfs_cq3/share_1290939/shadowcun/evals_dev/pikavideos/prompts/a_shiny_red_apple_spinning_in_space_near_a_nebula_-motion_2_-gs_20_seed12514497971330881293.txt\n",
      "2023-08-23 19:47:28 Num: 231, count for 'apple': 1.0, prompt: @crystalwizard Prompt: a shiny red apple spinning in space near a nebula -motion 2 -gs 20  Author: @crystalwizard, path: /apdcephfs_cq3/share_1290939/shadowcun/evals_dev/pikavideos/prompts/a_shiny_red_apple_spinning_in_space_near_a_nebula_-motion_2_-gs_20_seed12514497971330881293.txt\n"
     ]
    },
    {
     "name": "stdout",
     "output_type": "stream",
     "text": [
      "processed frame 23, obj_num 1\n",
      "finished\n",
      "Directory created: ./pikavideos/sandwich/masks\n",
      "Directory created: ./pikavideos/sandwich/mask_video\n",
      "Directory created: ./pikavideos/sandwich/mask_gif\n",
      "final text_encoder_type: bert-base-uncased\n",
      "Model loaded from ./ckpt/groundingdino_swint_ogc.pth \n",
      " => _IncompatibleKeys(missing_keys=[], unexpected_keys=['label_enc.weight', 'bert.embeddings.position_ids'])\n",
      "SegTracker has been initialized\n",
      "processed frame 22, obj_num 1\r"
     ]
    },
    {
     "name": "stderr",
     "output_type": "stream",
     "text": [
      "Num: 232, count for 'sandwich': 1.0, prompt: @gianniabbott Prompt: snoop dogg holding a bologna sandwich in one hand and a lit blunt in the other, smoking and eating like a baller, staning on top of his broken down green minivan in a junkyard  Author: @gianniabbott, path: /apdcephfs_cq3/share_1290939/shadowcun/evals_dev/pikavideos/prompts/snoop_dogg_holding_a_bologna_sandwich_in_one_hand_and_a_lit_blunt_in_the_other_smoking_and_eating_l_seed5028051050643819817.txt\n",
      "2023-08-23 19:47:38 Num: 232, count for 'sandwich': 1.0, prompt: @gianniabbott Prompt: snoop dogg holding a bologna sandwich in one hand and a lit blunt in the other, smoking and eating like a baller, staning on top of his broken down green minivan in a junkyard  Author: @gianniabbott, path: /apdcephfs_cq3/share_1290939/shadowcun/evals_dev/pikavideos/prompts/snoop_dogg_holding_a_bologna_sandwich_in_one_hand_and_a_lit_blunt_in_the_other_smoking_and_eating_l_seed5028051050643819817.txt\n"
     ]
    },
    {
     "name": "stdout",
     "output_type": "stream",
     "text": [
      "processed frame 23, obj_num 1\n",
      "finished\n",
      "Directory already exists: ./pikavideos/motorcycle/masks\n",
      "Directory already exists: ./pikavideos/motorcycle/mask_video\n",
      "Directory already exists: ./pikavideos/motorcycle/mask_gif\n",
      "final text_encoder_type: bert-base-uncased\n",
      "Model loaded from ./ckpt/groundingdino_swint_ogc.pth \n",
      " => _IncompatibleKeys(missing_keys=[], unexpected_keys=['label_enc.weight', 'bert.embeddings.position_ids'])\n",
      "SegTracker has been initialized\n",
      "processed frame 22, obj_num 0\r"
     ]
    },
    {
     "name": "stderr",
     "output_type": "stream",
     "text": [
      "Num: 232, count for 'motorcycle': 0.0, prompt: Pika BOT 07/30/2023 5:59 AM@chico Prompt: cute dog jumping on a motorcycle  Author: @MaSeyma, path: /apdcephfs_cq3/share_1290939/shadowcun/evals_dev/pikavideos/prompts/cute_dog_jumping_on_a_motorcycle_seed807720547996473658.txt\n",
      "2023-08-23 19:47:50 Num: 232, count for 'motorcycle': 0.0, prompt: Pika BOT 07/30/2023 5:59 AM@chico Prompt: cute dog jumping on a motorcycle  Author: @MaSeyma, path: /apdcephfs_cq3/share_1290939/shadowcun/evals_dev/pikavideos/prompts/cute_dog_jumping_on_a_motorcycle_seed807720547996473658.txt\n"
     ]
    },
    {
     "name": "stdout",
     "output_type": "stream",
     "text": [
      "processed frame 23, obj_num 0\n",
      "finished\n",
      "Directory already exists: ./pikavideos/dog/masks\n",
      "Directory already exists: ./pikavideos/dog/mask_video\n",
      "Directory already exists: ./pikavideos/dog/mask_gif\n",
      "final text_encoder_type: bert-base-uncased\n",
      "Model loaded from ./ckpt/groundingdino_swint_ogc.pth \n",
      " => _IncompatibleKeys(missing_keys=[], unexpected_keys=['label_enc.weight', 'bert.embeddings.position_ids'])\n",
      "SegTracker has been initialized\n",
      "processed frame 22, obj_num 0\r"
     ]
    },
    {
     "name": "stderr",
     "output_type": "stream",
     "text": [
      "Num: 232, count for 'dog': 0.0, prompt: Pika BOT 07/30/2023 5:59 AM@chico Prompt: cute dog jumping on a motorcycle  Author: @MaSeyma, path: /apdcephfs_cq3/share_1290939/shadowcun/evals_dev/pikavideos/prompts/cute_dog_jumping_on_a_motorcycle_seed807720547996473658.txt\n",
      "2023-08-23 19:47:59 Num: 232, count for 'dog': 0.0, prompt: Pika BOT 07/30/2023 5:59 AM@chico Prompt: cute dog jumping on a motorcycle  Author: @MaSeyma, path: /apdcephfs_cq3/share_1290939/shadowcun/evals_dev/pikavideos/prompts/cute_dog_jumping_on_a_motorcycle_seed807720547996473658.txt\n"
     ]
    },
    {
     "name": "stdout",
     "output_type": "stream",
     "text": [
      "processed frame 23, obj_num 0\n",
      "finished\n",
      "Directory already exists: ./pikavideos/orange/masks\n",
      "Directory already exists: ./pikavideos/orange/mask_video\n",
      "Directory already exists: ./pikavideos/orange/mask_gif\n",
      "final text_encoder_type: bert-base-uncased\n",
      "Model loaded from ./ckpt/groundingdino_swint_ogc.pth \n",
      " => _IncompatibleKeys(missing_keys=[], unexpected_keys=['label_enc.weight', 'bert.embeddings.position_ids'])\n",
      "SegTracker has been initialized\n",
      "processed frame 22, obj_num 0\r"
     ]
    },
    {
     "name": "stderr",
     "output_type": "stream",
     "text": [
      "Num: 232, count for 'orange': 0.0, prompt: @CEO Prompt: bladerunner 2049 movie scene of a highspeed chase on the sci-fi vehicles down the abandoned foggy megapolis at night, teal and orange  Author: @CEO, path: /apdcephfs_cq3/share_1290939/shadowcun/evals_dev/pikavideos/prompts/bladerunner_2049_movie_scene_of_a_highspeed_chase_on_the_sci-fi_vehicles_down_the_abandoned_foggy_me_seed713230056036796853.txt\n",
      "2023-08-23 19:48:09 Num: 232, count for 'orange': 0.0, prompt: @CEO Prompt: bladerunner 2049 movie scene of a highspeed chase on the sci-fi vehicles down the abandoned foggy megapolis at night, teal and orange  Author: @CEO, path: /apdcephfs_cq3/share_1290939/shadowcun/evals_dev/pikavideos/prompts/bladerunner_2049_movie_scene_of_a_highspeed_chase_on_the_sci-fi_vehicles_down_the_abandoned_foggy_me_seed713230056036796853.txt\n"
     ]
    },
    {
     "name": "stdout",
     "output_type": "stream",
     "text": [
      "processed frame 23, obj_num 0\n",
      "finished\n",
      "Directory already exists: ./pikavideos/dog/masks\n",
      "Directory already exists: ./pikavideos/dog/mask_video\n",
      "Directory already exists: ./pikavideos/dog/mask_gif\n",
      "final text_encoder_type: bert-base-uncased\n",
      "Model loaded from ./ckpt/groundingdino_swint_ogc.pth \n",
      " => _IncompatibleKeys(missing_keys=[], unexpected_keys=['label_enc.weight', 'bert.embeddings.position_ids'])\n",
      "SegTracker has been initialized\n",
      "processed frame 22, obj_num 1\r"
     ]
    },
    {
     "name": "stderr",
     "output_type": "stream",
     "text": [
      "Num: 233, count for 'dog': 1.0, prompt: @saintsad Prompt: dog in wind  Image: 1 Attachment  Author: @saintsad, path: /apdcephfs_cq3/share_1290939/shadowcun/evals_dev/pikavideos/prompts/dog_in_wind__Image__1_Attachment_seed12013908089990610760.txt\n",
      "2023-08-23 19:48:20 Num: 233, count for 'dog': 1.0, prompt: @saintsad Prompt: dog in wind  Image: 1 Attachment  Author: @saintsad, path: /apdcephfs_cq3/share_1290939/shadowcun/evals_dev/pikavideos/prompts/dog_in_wind__Image__1_Attachment_seed12013908089990610760.txt\n"
     ]
    },
    {
     "name": "stdout",
     "output_type": "stream",
     "text": [
      "processed frame 23, obj_num 1\n",
      "finished\n",
      "Directory already exists: ./pikavideos/train/masks\n",
      "Directory already exists: ./pikavideos/train/mask_video\n",
      "Directory already exists: ./pikavideos/train/mask_gif\n",
      "final text_encoder_type: bert-base-uncased\n",
      "Model loaded from ./ckpt/groundingdino_swint_ogc.pth \n",
      " => _IncompatibleKeys(missing_keys=[], unexpected_keys=['label_enc.weight', 'bert.embeddings.position_ids'])\n",
      "SegTracker has been initialized\n",
      "processed frame 22, obj_num 1\r"
     ]
    },
    {
     "name": "stderr",
     "output_type": "stream",
     "text": [
      "Num: 234, count for 'train': 1.0, prompt: @Chanane Prompt: impressionism, a bear is running after the train  Image: 1 Attachment  Author: @Chanane, path: /apdcephfs_cq3/share_1290939/shadowcun/evals_dev/pikavideos/prompts/impressionism_a_bear_is_running_after_the_train__Image__1_Attachment_seed7814847333008113036.txt\n",
      "2023-08-23 19:48:30 Num: 234, count for 'train': 1.0, prompt: @Chanane Prompt: impressionism, a bear is running after the train  Image: 1 Attachment  Author: @Chanane, path: /apdcephfs_cq3/share_1290939/shadowcun/evals_dev/pikavideos/prompts/impressionism_a_bear_is_running_after_the_train__Image__1_Attachment_seed7814847333008113036.txt\n"
     ]
    },
    {
     "name": "stdout",
     "output_type": "stream",
     "text": [
      "processed frame 23, obj_num 1\n",
      "finished\n",
      "Directory already exists: ./pikavideos/bear/masks\n",
      "Directory already exists: ./pikavideos/bear/mask_video\n",
      "Directory already exists: ./pikavideos/bear/mask_gif\n",
      "final text_encoder_type: bert-base-uncased\n",
      "Model loaded from ./ckpt/groundingdino_swint_ogc.pth \n",
      " => _IncompatibleKeys(missing_keys=[], unexpected_keys=['label_enc.weight', 'bert.embeddings.position_ids'])\n",
      "SegTracker has been initialized\n",
      "processed frame 22, obj_num 1\r"
     ]
    },
    {
     "name": "stderr",
     "output_type": "stream",
     "text": [
      "Num: 235, count for 'bear': 1.0, prompt: @Chanane Prompt: impressionism, a bear is running after the train  Image: 1 Attachment  Author: @Chanane, path: /apdcephfs_cq3/share_1290939/shadowcun/evals_dev/pikavideos/prompts/impressionism_a_bear_is_running_after_the_train__Image__1_Attachment_seed7814847333008113036.txt\n",
      "2023-08-23 19:48:39 Num: 235, count for 'bear': 1.0, prompt: @Chanane Prompt: impressionism, a bear is running after the train  Image: 1 Attachment  Author: @Chanane, path: /apdcephfs_cq3/share_1290939/shadowcun/evals_dev/pikavideos/prompts/impressionism_a_bear_is_running_after_the_train__Image__1_Attachment_seed7814847333008113036.txt\n"
     ]
    },
    {
     "name": "stdout",
     "output_type": "stream",
     "text": [
      "processed frame 23, obj_num 1\n",
      "finished\n",
      "Directory already exists: ./pikavideos/orange/masks\n",
      "Directory already exists: ./pikavideos/orange/mask_video\n",
      "Directory already exists: ./pikavideos/orange/mask_gif\n",
      "final text_encoder_type: bert-base-uncased\n",
      "Model loaded from ./ckpt/groundingdino_swint_ogc.pth \n",
      " => _IncompatibleKeys(missing_keys=[], unexpected_keys=['label_enc.weight', 'bert.embeddings.position_ids'])\n",
      "SegTracker has been initialized\n",
      "processed frame 22, obj_num 0\r"
     ]
    },
    {
     "name": "stderr",
     "output_type": "stream",
     "text": [
      "Num: 235, count for 'orange': 0.0, prompt: @Marssie Prompt: [a silhouette of a beautiful dancing girl in front ,orange and grey, in the style of expressive manga style by Sakiyama, thin line stroke, eye-catching --ar 16:9 , hi rez]  Author: @Marssie, path: /apdcephfs_cq3/share_1290939/shadowcun/evals_dev/pikavideos/prompts/a_silhouette_of_a_beautiful_dancing_girl_in_front_orange_and_grey_in_the_style_of_expressive_mang_seed418179098218778651.txt\n",
      "2023-08-23 19:48:49 Num: 235, count for 'orange': 0.0, prompt: @Marssie Prompt: [a silhouette of a beautiful dancing girl in front ,orange and grey, in the style of expressive manga style by Sakiyama, thin line stroke, eye-catching --ar 16:9 , hi rez]  Author: @Marssie, path: /apdcephfs_cq3/share_1290939/shadowcun/evals_dev/pikavideos/prompts/a_silhouette_of_a_beautiful_dancing_girl_in_front_orange_and_grey_in_the_style_of_expressive_mang_seed418179098218778651.txt\n"
     ]
    },
    {
     "name": "stdout",
     "output_type": "stream",
     "text": [
      "processed frame 23, obj_num 0\n",
      "finished\n",
      "Directory already exists: ./pikavideos/dog/masks\n",
      "Directory already exists: ./pikavideos/dog/mask_video\n",
      "Directory already exists: ./pikavideos/dog/mask_gif\n",
      "final text_encoder_type: bert-base-uncased\n",
      "Model loaded from ./ckpt/groundingdino_swint_ogc.pth \n",
      " => _IncompatibleKeys(missing_keys=[], unexpected_keys=['label_enc.weight', 'bert.embeddings.position_ids'])\n",
      "SegTracker has been initialized\n",
      "processed frame 22, obj_num 0\r"
     ]
    },
    {
     "name": "stderr",
     "output_type": "stream",
     "text": [
      "Num: 235, count for 'dog': 0.0, prompt: @Davekatague Prompt: dog inside hyperbaric chamber  Author: @Davekatague, path: /apdcephfs_cq3/share_1290939/shadowcun/evals_dev/pikavideos/prompts/dog_inside_hyperbaric_chamber_seed12238484494292002200.txt\n",
      "2023-08-23 19:48:59 Num: 235, count for 'dog': 0.0, prompt: @Davekatague Prompt: dog inside hyperbaric chamber  Author: @Davekatague, path: /apdcephfs_cq3/share_1290939/shadowcun/evals_dev/pikavideos/prompts/dog_inside_hyperbaric_chamber_seed12238484494292002200.txt\n"
     ]
    },
    {
     "name": "stdout",
     "output_type": "stream",
     "text": [
      "processed frame 23, obj_num 0\n",
      "finished\n",
      "Directory already exists: ./pikavideos/cat/masks\n",
      "Directory already exists: ./pikavideos/cat/mask_video\n",
      "Directory already exists: ./pikavideos/cat/mask_gif\n",
      "final text_encoder_type: bert-base-uncased\n",
      "Model loaded from ./ckpt/groundingdino_swint_ogc.pth \n",
      " => _IncompatibleKeys(missing_keys=[], unexpected_keys=['label_enc.weight', 'bert.embeddings.position_ids'])\n",
      "SegTracker has been initialized\n",
      "processed frame 22, obj_num 1\r"
     ]
    },
    {
     "name": "stderr",
     "output_type": "stream",
     "text": [
      "Num: 236, count for 'cat': 1.0, prompt: @Bm9595 Prompt: close eyes, cry cat  Image: 1 Attachment  Author: @Bm9595, path: /apdcephfs_cq3/share_1290939/shadowcun/evals_dev/pikavideos/prompts/close_eyes_cry_cat__Image__1_Attachment_seed8347436675144996120.txt\n",
      "2023-08-23 19:49:10 Num: 236, count for 'cat': 1.0, prompt: @Bm9595 Prompt: close eyes, cry cat  Image: 1 Attachment  Author: @Bm9595, path: /apdcephfs_cq3/share_1290939/shadowcun/evals_dev/pikavideos/prompts/close_eyes_cry_cat__Image__1_Attachment_seed8347436675144996120.txt\n"
     ]
    },
    {
     "name": "stdout",
     "output_type": "stream",
     "text": [
      "processed frame 23, obj_num 1\n",
      "finished\n",
      "Directory already exists: ./pikavideos/book/masks\n",
      "Directory already exists: ./pikavideos/book/mask_video\n",
      "Directory already exists: ./pikavideos/book/mask_gif\n",
      "final text_encoder_type: bert-base-uncased\n",
      "Model loaded from ./ckpt/groundingdino_swint_ogc.pth \n",
      " => _IncompatibleKeys(missing_keys=[], unexpected_keys=['label_enc.weight', 'bert.embeddings.position_ids'])\n",
      "SegTracker has been initialized\n",
      "processed frame 22, obj_num 0\r"
     ]
    },
    {
     "name": "stderr",
     "output_type": "stream",
     "text": [
      "Num: 236, count for 'book': 0.0, prompt: @saurabhks8712 Prompt: A space adventure book for kids on solar system  Image: 1 Attachment  Author: @saurabhks8712, path: /apdcephfs_cq3/share_1290939/shadowcun/evals_dev/pikavideos/prompts/A_space_adventure_book_for_kids_on_solar_system__Image__1_Attachment_seed9445507592309290538.txt\n",
      "2023-08-23 19:49:20 Num: 236, count for 'book': 0.0, prompt: @saurabhks8712 Prompt: A space adventure book for kids on solar system  Image: 1 Attachment  Author: @saurabhks8712, path: /apdcephfs_cq3/share_1290939/shadowcun/evals_dev/pikavideos/prompts/A_space_adventure_book_for_kids_on_solar_system__Image__1_Attachment_seed9445507592309290538.txt\n"
     ]
    },
    {
     "name": "stdout",
     "output_type": "stream",
     "text": [
      "processed frame 23, obj_num 0\n",
      "finished\n",
      "Directory already exists: ./pikavideos/tie/masks\n",
      "Directory already exists: ./pikavideos/tie/mask_video\n",
      "Directory already exists: ./pikavideos/tie/mask_gif\n",
      "final text_encoder_type: bert-base-uncased\n",
      "Model loaded from ./ckpt/groundingdino_swint_ogc.pth \n",
      " => _IncompatibleKeys(missing_keys=[], unexpected_keys=['label_enc.weight', 'bert.embeddings.position_ids'])\n",
      "SegTracker has been initialized\n",
      "processed frame 22, obj_num 0\r"
     ]
    },
    {
     "name": "stderr",
     "output_type": "stream",
     "text": [
      "Num: 236, count for 'tie': 0.0, prompt: @Josh Novak Prompt: a man wearing a tie dye shirt hair flowing in the wind Pixar style  Author: @Josh Novak, path: /apdcephfs_cq3/share_1290939/shadowcun/evals_dev/pikavideos/prompts/a_man_wearing_a_tie_dye_shirt_hair_flowing_in_the_wind_Pixar_style_seed15547554410146075223.txt\n",
      "2023-08-23 19:49:30 Num: 236, count for 'tie': 0.0, prompt: @Josh Novak Prompt: a man wearing a tie dye shirt hair flowing in the wind Pixar style  Author: @Josh Novak, path: /apdcephfs_cq3/share_1290939/shadowcun/evals_dev/pikavideos/prompts/a_man_wearing_a_tie_dye_shirt_hair_flowing_in_the_wind_Pixar_style_seed15547554410146075223.txt\n"
     ]
    },
    {
     "name": "stdout",
     "output_type": "stream",
     "text": [
      "processed frame 23, obj_num 0\n",
      "finished\n",
      "Directory already exists: ./pikavideos/car/masks\n",
      "Directory already exists: ./pikavideos/car/mask_video\n",
      "Directory already exists: ./pikavideos/car/mask_gif\n",
      "final text_encoder_type: bert-base-uncased\n",
      "Model loaded from ./ckpt/groundingdino_swint_ogc.pth \n",
      " => _IncompatibleKeys(missing_keys=[], unexpected_keys=['label_enc.weight', 'bert.embeddings.position_ids'])\n",
      "SegTracker has been initialized\n",
      "processed frame 22, obj_num 1\r"
     ]
    },
    {
     "name": "stderr",
     "output_type": "stream",
     "text": [
      "Num: 237, count for 'car': 1.0, prompt: @DOPEaMineFix Prompt: a futuristic sci-fi cyberpunk movie action car chase at mid distance, crisp focus, high speed, depth of field, Ray tracing, motion blur, intricate detail, hyperrealistic, cyberpunk neon night City -motion 3 -gs 8  Author: @DOPEaMineFix, path: /apdcephfs_cq3/share_1290939/shadowcun/evals_dev/pikavideos/prompts/a_futuristic_sci-fi_cyberpunk_movie_action_car_chase_at_mid_distance_crisp_focus_high_speed_depth_seed13254242245031500368.txt\n",
      "2023-08-23 19:49:40 Num: 237, count for 'car': 1.0, prompt: @DOPEaMineFix Prompt: a futuristic sci-fi cyberpunk movie action car chase at mid distance, crisp focus, high speed, depth of field, Ray tracing, motion blur, intricate detail, hyperrealistic, cyberpunk neon night City -motion 3 -gs 8  Author: @DOPEaMineFix, path: /apdcephfs_cq3/share_1290939/shadowcun/evals_dev/pikavideos/prompts/a_futuristic_sci-fi_cyberpunk_movie_action_car_chase_at_mid_distance_crisp_focus_high_speed_depth_seed13254242245031500368.txt\n"
     ]
    },
    {
     "name": "stdout",
     "output_type": "stream",
     "text": [
      "processed frame 23, obj_num 1\n",
      "finished\n",
      "Directory created: ./pikavideos/banana/masks\n",
      "Directory created: ./pikavideos/banana/mask_video\n",
      "Directory created: ./pikavideos/banana/mask_gif\n",
      "final text_encoder_type: bert-base-uncased\n",
      "Model loaded from ./ckpt/groundingdino_swint_ogc.pth \n",
      " => _IncompatibleKeys(missing_keys=[], unexpected_keys=['label_enc.weight', 'bert.embeddings.position_ids'])\n",
      "SegTracker has been initialized\n",
      "processed frame 22, obj_num 0\r"
     ]
    },
    {
     "name": "stderr",
     "output_type": "stream",
     "text": [
      "Num: 237, count for 'banana': 0.0, prompt: @Lalla Palooza Prompt: Chris Christie  dressed like Lizzo dancing with a banana while his backup dancers look shocked and scared,  intricate and detailed , 4k resolution,HD  --motion 2 --ar 16:9  Author: @Lalla Palooza, path: /apdcephfs_cq3/share_1290939/shadowcun/evals_dev/pikavideos/prompts/Chris_Christie__dressed_like_Lizzo_dancing_with_a_banana_while_his_backup_dancers_look_shocked_and_s_seed8671025948103876537.txt\n",
      "2023-08-23 19:49:50 Num: 237, count for 'banana': 0.0, prompt: @Lalla Palooza Prompt: Chris Christie  dressed like Lizzo dancing with a banana while his backup dancers look shocked and scared,  intricate and detailed , 4k resolution,HD  --motion 2 --ar 16:9  Author: @Lalla Palooza, path: /apdcephfs_cq3/share_1290939/shadowcun/evals_dev/pikavideos/prompts/Chris_Christie__dressed_like_Lizzo_dancing_with_a_banana_while_his_backup_dancers_look_shocked_and_s_seed8671025948103876537.txt\n"
     ]
    },
    {
     "name": "stdout",
     "output_type": "stream",
     "text": [
      "processed frame 23, obj_num 0\n",
      "finished\n",
      "Directory already exists: ./pikavideos/bird/masks\n",
      "Directory already exists: ./pikavideos/bird/mask_video\n",
      "Directory already exists: ./pikavideos/bird/mask_gif\n",
      "final text_encoder_type: bert-base-uncased\n",
      "Model loaded from ./ckpt/groundingdino_swint_ogc.pth \n",
      " => _IncompatibleKeys(missing_keys=[], unexpected_keys=['label_enc.weight', 'bert.embeddings.position_ids'])\n",
      "SegTracker has been initialized\n",
      "processed frame 22, obj_num 0\r"
     ]
    },
    {
     "name": "stderr",
     "output_type": "stream",
     "text": [
      "Num: 237, count for 'bird': 0.0, prompt: @Kuszon Prompt: beings speaking in different languages, birds fly  Image: 1 Attachment  Author: @Kuszon, path: /apdcephfs_cq3/share_1290939/shadowcun/evals_dev/pikavideos/prompts/beings_speaking_in_different_languages_birds_fly__Image__1_Attachment_seed17903473143585670516.txt\n",
      "2023-08-23 19:50:00 Num: 237, count for 'bird': 0.0, prompt: @Kuszon Prompt: beings speaking in different languages, birds fly  Image: 1 Attachment  Author: @Kuszon, path: /apdcephfs_cq3/share_1290939/shadowcun/evals_dev/pikavideos/prompts/beings_speaking_in_different_languages_birds_fly__Image__1_Attachment_seed17903473143585670516.txt\n"
     ]
    },
    {
     "name": "stdout",
     "output_type": "stream",
     "text": [
      "processed frame 23, obj_num 0\n",
      "finished\n",
      "Directory already exists: ./pikavideos/bear/masks\n",
      "Directory already exists: ./pikavideos/bear/mask_video\n",
      "Directory already exists: ./pikavideos/bear/mask_gif\n",
      "final text_encoder_type: bert-base-uncased\n",
      "Model loaded from ./ckpt/groundingdino_swint_ogc.pth \n",
      " => _IncompatibleKeys(missing_keys=[], unexpected_keys=['label_enc.weight', 'bert.embeddings.position_ids'])\n",
      "SegTracker has been initialized\n",
      "processed frame 22, obj_num 5\r"
     ]
    },
    {
     "name": "stderr",
     "output_type": "stream",
     "text": [
      "Num: 238, count for 'bear': 5.0, prompt: @745394 Prompt: dancing bears and hares  Author: @745394, path: /apdcephfs_cq3/share_1290939/shadowcun/evals_dev/pikavideos/prompts/dancing_bears_and_hares_seed11586135560711451782.txt\n",
      "2023-08-23 19:50:12 Num: 238, count for 'bear': 5.0, prompt: @745394 Prompt: dancing bears and hares  Author: @745394, path: /apdcephfs_cq3/share_1290939/shadowcun/evals_dev/pikavideos/prompts/dancing_bears_and_hares_seed11586135560711451782.txt\n"
     ]
    },
    {
     "name": "stdout",
     "output_type": "stream",
     "text": [
      "processed frame 23, obj_num 5\n",
      "finished\n",
      "Directory already exists: ./pikavideos/bird/masks\n",
      "Directory already exists: ./pikavideos/bird/mask_video\n",
      "Directory already exists: ./pikavideos/bird/mask_gif\n",
      "final text_encoder_type: bert-base-uncased\n",
      "Model loaded from ./ckpt/groundingdino_swint_ogc.pth \n",
      " => _IncompatibleKeys(missing_keys=[], unexpected_keys=['label_enc.weight', 'bert.embeddings.position_ids'])\n",
      "SegTracker has been initialized\n",
      "processed frame 22, obj_num 1\r"
     ]
    },
    {
     "name": "stderr",
     "output_type": "stream",
     "text": [
      "Num: 239, count for 'bird': 1.0, prompt: @transelectronic liked a video. (Prompt: a fiendish blue bird is tranforming into the letter X  Author: @votale), path: /apdcephfs_cq3/share_1290939/shadowcun/evals_dev/pikavideos/prompts/a_fiendish_blue_bird_is_tranforming_into_the_letter_X_seed10661388248560119912.txt\n",
      "2023-08-23 19:50:22 Num: 239, count for 'bird': 1.0, prompt: @transelectronic liked a video. (Prompt: a fiendish blue bird is tranforming into the letter X  Author: @votale), path: /apdcephfs_cq3/share_1290939/shadowcun/evals_dev/pikavideos/prompts/a_fiendish_blue_bird_is_tranforming_into_the_letter_X_seed10661388248560119912.txt\n"
     ]
    },
    {
     "name": "stdout",
     "output_type": "stream",
     "text": [
      "processed frame 23, obj_num 1\n",
      "finished\n",
      "Directory already exists: ./pikavideos/person/masks\n",
      "Directory already exists: ./pikavideos/person/mask_video\n",
      "Directory already exists: ./pikavideos/person/mask_gif\n",
      "final text_encoder_type: bert-base-uncased\n",
      "Model loaded from ./ckpt/groundingdino_swint_ogc.pth \n",
      " => _IncompatibleKeys(missing_keys=[], unexpected_keys=['label_enc.weight', 'bert.embeddings.position_ids'])\n",
      "SegTracker has been initialized\n",
      "processed frame 22, obj_num 0\r"
     ]
    },
    {
     "name": "stderr",
     "output_type": "stream",
     "text": [
      "Num: 239, count for 'person': 0.0, prompt: @danbarataa Prompt: person recording video with cell phone, 4k, cinematic  Author: @danbarataa, path: /apdcephfs_cq3/share_1290939/shadowcun/evals_dev/pikavideos/prompts/person_recording_video_with_cell_phone_4k_cinematic_seed14459954924202078712.txt\n",
      "2023-08-23 19:50:32 Num: 239, count for 'person': 0.0, prompt: @danbarataa Prompt: person recording video with cell phone, 4k, cinematic  Author: @danbarataa, path: /apdcephfs_cq3/share_1290939/shadowcun/evals_dev/pikavideos/prompts/person_recording_video_with_cell_phone_4k_cinematic_seed14459954924202078712.txt\n"
     ]
    },
    {
     "name": "stdout",
     "output_type": "stream",
     "text": [
      "processed frame 23, obj_num 0\n",
      "finished\n",
      "Directory created: ./pikavideos/cell phone/masks\n",
      "Directory created: ./pikavideos/cell phone/mask_video\n",
      "Directory created: ./pikavideos/cell phone/mask_gif\n",
      "final text_encoder_type: bert-base-uncased\n",
      "Model loaded from ./ckpt/groundingdino_swint_ogc.pth \n",
      " => _IncompatibleKeys(missing_keys=[], unexpected_keys=['label_enc.weight', 'bert.embeddings.position_ids'])\n",
      "SegTracker has been initialized\n",
      "processed frame 22, obj_num 1\r"
     ]
    },
    {
     "name": "stderr",
     "output_type": "stream",
     "text": [
      "Num: 240, count for 'cell phone': 1.0, prompt: @danbarataa Prompt: person recording video with cell phone, 4k, cinematic  Author: @danbarataa, path: /apdcephfs_cq3/share_1290939/shadowcun/evals_dev/pikavideos/prompts/person_recording_video_with_cell_phone_4k_cinematic_seed14459954924202078712.txt\n",
      "2023-08-23 19:50:42 Num: 240, count for 'cell phone': 1.0, prompt: @danbarataa Prompt: person recording video with cell phone, 4k, cinematic  Author: @danbarataa, path: /apdcephfs_cq3/share_1290939/shadowcun/evals_dev/pikavideos/prompts/person_recording_video_with_cell_phone_4k_cinematic_seed14459954924202078712.txt\n"
     ]
    },
    {
     "name": "stdout",
     "output_type": "stream",
     "text": [
      "processed frame 23, obj_num 1\n",
      "finished\n",
      "Directory already exists: ./pikavideos/car/masks\n",
      "Directory already exists: ./pikavideos/car/mask_video\n",
      "Directory already exists: ./pikavideos/car/mask_gif\n",
      "final text_encoder_type: bert-base-uncased\n",
      "Model loaded from ./ckpt/groundingdino_swint_ogc.pth \n",
      " => _IncompatibleKeys(missing_keys=[], unexpected_keys=['label_enc.weight', 'bert.embeddings.position_ids'])\n",
      "SegTracker has been initialized\n",
      "processed frame 22, obj_num 1\r"
     ]
    },
    {
     "name": "stderr",
     "output_type": "stream",
     "text": [
      "Num: 241, count for 'car': 1.0, prompt: @Olivander Walk liked a video of @Olivander Walk. (Prompt: a Delorean car speeding through a time portal and disappearing, horizontal scrolling, neon style image, speed effect, realistic and 4k  Author: @Olivander Walk), path: /apdcephfs_cq3/share_1290939/shadowcun/evals_dev/pikavideos/prompts/a_Delorean_car_speeding_through_a_time_portal_and_disappearing_horizontal_scrolling_neon_style_ima_seed13957171108821074298.txt\n",
      "2023-08-23 19:50:52 Num: 241, count for 'car': 1.0, prompt: @Olivander Walk liked a video of @Olivander Walk. (Prompt: a Delorean car speeding through a time portal and disappearing, horizontal scrolling, neon style image, speed effect, realistic and 4k  Author: @Olivander Walk), path: /apdcephfs_cq3/share_1290939/shadowcun/evals_dev/pikavideos/prompts/a_Delorean_car_speeding_through_a_time_portal_and_disappearing_horizontal_scrolling_neon_style_ima_seed13957171108821074298.txt\n"
     ]
    },
    {
     "name": "stdout",
     "output_type": "stream",
     "text": [
      "processed frame 23, obj_num 1\n",
      "finished\n",
      "Directory already exists: ./pikavideos/knife/masks\n",
      "Directory already exists: ./pikavideos/knife/mask_video\n",
      "Directory already exists: ./pikavideos/knife/mask_gif\n",
      "final text_encoder_type: bert-base-uncased\n",
      "Model loaded from ./ckpt/groundingdino_swint_ogc.pth \n",
      " => _IncompatibleKeys(missing_keys=[], unexpected_keys=['label_enc.weight', 'bert.embeddings.position_ids'])\n",
      "SegTracker has been initialized\n",
      "processed frame 22, obj_num 0\r"
     ]
    },
    {
     "name": "stderr",
     "output_type": "stream",
     "text": [
      "Num: 241, count for 'knife': 0.0, prompt: @giakaiser Prompt: A rainy evening, a man with a knife in hand, walking through the swamps of Louisiana, a film by Christopher Nolan, 4K resolution  Author: @giakaiser, path: /apdcephfs_cq3/share_1290939/shadowcun/evals_dev/pikavideos/prompts/A_rainy_evening_a_man_with_a_knife_in_hand_walking_through_the_swamps_of_Louisiana_a_film_by_Chri.txt\n",
      "2023-08-23 19:51:02 Num: 241, count for 'knife': 0.0, prompt: @giakaiser Prompt: A rainy evening, a man with a knife in hand, walking through the swamps of Louisiana, a film by Christopher Nolan, 4K resolution  Author: @giakaiser, path: /apdcephfs_cq3/share_1290939/shadowcun/evals_dev/pikavideos/prompts/A_rainy_evening_a_man_with_a_knife_in_hand_walking_through_the_swamps_of_Louisiana_a_film_by_Chri.txt\n"
     ]
    },
    {
     "name": "stdout",
     "output_type": "stream",
     "text": [
      "processed frame 23, obj_num 0\n",
      "finished\n",
      "Directory already exists: ./pikavideos/car/masks\n",
      "Directory already exists: ./pikavideos/car/mask_video\n",
      "Directory already exists: ./pikavideos/car/mask_gif\n",
      "final text_encoder_type: bert-base-uncased\n",
      "Model loaded from ./ckpt/groundingdino_swint_ogc.pth \n",
      " => _IncompatibleKeys(missing_keys=[], unexpected_keys=['label_enc.weight', 'bert.embeddings.position_ids'])\n",
      "SegTracker has been initialized\n",
      "processed frame 22, obj_num 1\r"
     ]
    },
    {
     "name": "stderr",
     "output_type": "stream",
     "text": [
      "Num: 242, count for 'car': 1.0, prompt: Pika BOT 07/25/2023 7:34 AM@Tanlaus Prompt: cars driving down a freeway  Image: 1 Attachment  Author: @Tanlaus, path: /apdcephfs_cq3/share_1290939/shadowcun/evals_dev/pikavideos/prompts/cars_driving_down_a_freeway_seed17949072656426060574.txt\n",
      "2023-08-23 19:51:12 Num: 242, count for 'car': 1.0, prompt: Pika BOT 07/25/2023 7:34 AM@Tanlaus Prompt: cars driving down a freeway  Image: 1 Attachment  Author: @Tanlaus, path: /apdcephfs_cq3/share_1290939/shadowcun/evals_dev/pikavideos/prompts/cars_driving_down_a_freeway_seed17949072656426060574.txt\n"
     ]
    },
    {
     "name": "stdout",
     "output_type": "stream",
     "text": [
      "processed frame 23, obj_num 1\n",
      "finished\n",
      "Directory already exists: ./pikavideos/cat/masks\n",
      "Directory already exists: ./pikavideos/cat/mask_video\n",
      "Directory already exists: ./pikavideos/cat/mask_gif\n",
      "final text_encoder_type: bert-base-uncased\n",
      "Model loaded from ./ckpt/groundingdino_swint_ogc.pth \n",
      " => _IncompatibleKeys(missing_keys=[], unexpected_keys=['label_enc.weight', 'bert.embeddings.position_ids'])\n",
      "SegTracker has been initialized\n",
      "processed frame 22, obj_num 1\r"
     ]
    },
    {
     "name": "stderr",
     "output_type": "stream",
     "text": [
      "Num: 243, count for 'cat': 1.0, prompt: Pika BOT 07/31/2023 2:45 PM@dylan Prompt: anime cat commiting war crimes  Author: @dylan, path: /apdcephfs_cq3/share_1290939/shadowcun/evals_dev/pikavideos/prompts/anime_cat_commiting_war_crimes_seed4221467891425255271.txt\n",
      "2023-08-23 19:51:22 Num: 243, count for 'cat': 1.0, prompt: Pika BOT 07/31/2023 2:45 PM@dylan Prompt: anime cat commiting war crimes  Author: @dylan, path: /apdcephfs_cq3/share_1290939/shadowcun/evals_dev/pikavideos/prompts/anime_cat_commiting_war_crimes_seed4221467891425255271.txt\n"
     ]
    },
    {
     "name": "stdout",
     "output_type": "stream",
     "text": [
      "processed frame 23, obj_num 1\n",
      "finished\n",
      "Directory already exists: ./pikavideos/car/masks\n",
      "Directory already exists: ./pikavideos/car/mask_video\n",
      "Directory already exists: ./pikavideos/car/mask_gif\n",
      "final text_encoder_type: bert-base-uncased\n",
      "Model loaded from ./ckpt/groundingdino_swint_ogc.pth \n",
      " => _IncompatibleKeys(missing_keys=[], unexpected_keys=['label_enc.weight', 'bert.embeddings.position_ids'])\n",
      "SegTracker has been initialized\n",
      "processed frame 22, obj_num 1\r"
     ]
    },
    {
     "name": "stderr",
     "output_type": "stream",
     "text": [
      "Num: 244, count for 'car': 1.0, prompt: @andineiro Prompt: car on street  Author: @andineiro, path: /apdcephfs_cq3/share_1290939/shadowcun/evals_dev/pikavideos/prompts/car_on_street_seed7120784947029247990.txt\n",
      "2023-08-23 19:51:32 Num: 244, count for 'car': 1.0, prompt: @andineiro Prompt: car on street  Author: @andineiro, path: /apdcephfs_cq3/share_1290939/shadowcun/evals_dev/pikavideos/prompts/car_on_street_seed7120784947029247990.txt\n"
     ]
    },
    {
     "name": "stdout",
     "output_type": "stream",
     "text": [
      "processed frame 23, obj_num 1\n",
      "finished\n",
      "Directory already exists: ./pikavideos/bed/masks\n",
      "Directory already exists: ./pikavideos/bed/mask_video\n",
      "Directory already exists: ./pikavideos/bed/mask_gif\n",
      "final text_encoder_type: bert-base-uncased\n",
      "Model loaded from ./ckpt/groundingdino_swint_ogc.pth \n",
      " => _IncompatibleKeys(missing_keys=[], unexpected_keys=['label_enc.weight', 'bert.embeddings.position_ids'])\n",
      "SegTracker has been initialized\n",
      "processed frame 22, obj_num 1\r"
     ]
    },
    {
     "name": "stderr",
     "output_type": "stream",
     "text": [
      "Num: 245, count for 'bed': 1.0, prompt: Pika BOT 08/12/2023 8:46 AM@Toasty Noah Prompt: Man laying in bed looking around  Image: 1 Attachment  Author: @Toasty Noah, path: /apdcephfs_cq3/share_1290939/shadowcun/evals_dev/pikavideos/prompts/Man_laying_in_bed_looking_around__Image__1_Attachment_seed12941158254684915125.txt\n",
      "2023-08-23 19:51:42 Num: 245, count for 'bed': 1.0, prompt: Pika BOT 08/12/2023 8:46 AM@Toasty Noah Prompt: Man laying in bed looking around  Image: 1 Attachment  Author: @Toasty Noah, path: /apdcephfs_cq3/share_1290939/shadowcun/evals_dev/pikavideos/prompts/Man_laying_in_bed_looking_around__Image__1_Attachment_seed12941158254684915125.txt\n"
     ]
    },
    {
     "name": "stdout",
     "output_type": "stream",
     "text": [
      "processed frame 23, obj_num 1\n",
      "finished\n",
      "Directory already exists: ./pikavideos/backpack/masks\n",
      "Directory already exists: ./pikavideos/backpack/mask_video\n",
      "Directory already exists: ./pikavideos/backpack/mask_gif\n",
      "final text_encoder_type: bert-base-uncased\n",
      "Model loaded from ./ckpt/groundingdino_swint_ogc.pth \n",
      " => _IncompatibleKeys(missing_keys=[], unexpected_keys=['label_enc.weight', 'bert.embeddings.position_ids'])\n",
      "SegTracker has been initialized\n",
      "processed frame 22, obj_num 0\r"
     ]
    },
    {
     "name": "stderr",
     "output_type": "stream",
     "text": [
      "Num: 245, count for 'backpack': 0.0, prompt: @Paulus Prompt: cinematic scene, girl, with red hair, gently blowing in the wind, sitting on a rocky outcrop at sunset, overlooking the sea with a volcanic island in the distance back, facing the camera with backpack on dressed for adventure. Parrot flies over left shoulder towards the volcanic island.  Author: @Paulus, path: /apdcephfs_cq3/share_1290939/shadowcun/evals_dev/pikavideos/prompts/cinematic_scene_girl_with_red_hair_gently_blowing_in_the_wind_sitting_on_a_rocky_outcrop_at_suns_seed7075506661437363039.txt\n",
      "2023-08-23 19:51:53 Num: 245, count for 'backpack': 0.0, prompt: @Paulus Prompt: cinematic scene, girl, with red hair, gently blowing in the wind, sitting on a rocky outcrop at sunset, overlooking the sea with a volcanic island in the distance back, facing the camera with backpack on dressed for adventure. Parrot flies over left shoulder towards the volcanic island.  Author: @Paulus, path: /apdcephfs_cq3/share_1290939/shadowcun/evals_dev/pikavideos/prompts/cinematic_scene_girl_with_red_hair_gently_blowing_in_the_wind_sitting_on_a_rocky_outcrop_at_suns_seed7075506661437363039.txt\n"
     ]
    },
    {
     "name": "stdout",
     "output_type": "stream",
     "text": [
      "processed frame 23, obj_num 0\n",
      "finished\n",
      "Directory already exists: ./pikavideos/bus/masks\n",
      "Directory already exists: ./pikavideos/bus/mask_video\n",
      "Directory already exists: ./pikavideos/bus/mask_gif\n",
      "final text_encoder_type: bert-base-uncased\n",
      "Model loaded from ./ckpt/groundingdino_swint_ogc.pth \n",
      " => _IncompatibleKeys(missing_keys=[], unexpected_keys=['label_enc.weight', 'bert.embeddings.position_ids'])\n",
      "SegTracker has been initialized\n",
      "processed frame 22, obj_num 0\r"
     ]
    },
    {
     "name": "stderr",
     "output_type": "stream",
     "text": [
      "Num: 245, count for 'bus': 0.0, prompt: @josephmfaulkner Prompt: A long shot of Marilyn Monroe in a floral dress, standing at a bus stop in Krakow. The camera is moving slowly from left to right, following her as she walks along the sidewalk. The focal length is about 35 mm, creating a wide-angle view that shows the surroundings. The aperture is narrow, creating a deep depth of field that keeps everything in focus. The lighting is harsh and contrasty, coming from the sun above.  Author: @Krajewski, path: /apdcephfs_cq3/share_1290939/shadowcun/evals_dev/pikavideos/prompts/A_long_shot_of_Marilyn_Monroe_in_a_floral_dress_standing_at_a_bus_stop_in_Krakow._The_camera_is_mov_seed2299928217806064072.txt\n",
      "2023-08-23 19:52:03 Num: 245, count for 'bus': 0.0, prompt: @josephmfaulkner Prompt: A long shot of Marilyn Monroe in a floral dress, standing at a bus stop in Krakow. The camera is moving slowly from left to right, following her as she walks along the sidewalk. The focal length is about 35 mm, creating a wide-angle view that shows the surroundings. The aperture is narrow, creating a deep depth of field that keeps everything in focus. The lighting is harsh and contrasty, coming from the sun above.  Author: @Krajewski, path: /apdcephfs_cq3/share_1290939/shadowcun/evals_dev/pikavideos/prompts/A_long_shot_of_Marilyn_Monroe_in_a_floral_dress_standing_at_a_bus_stop_in_Krakow._The_camera_is_mov_seed2299928217806064072.txt\n"
     ]
    },
    {
     "name": "stdout",
     "output_type": "stream",
     "text": [
      "processed frame 23, obj_num 0\n",
      "finished\n",
      "Directory already exists: ./pikavideos/dog/masks\n",
      "Directory already exists: ./pikavideos/dog/mask_video\n",
      "Directory already exists: ./pikavideos/dog/mask_gif\n",
      "final text_encoder_type: bert-base-uncased\n",
      "Model loaded from ./ckpt/groundingdino_swint_ogc.pth \n",
      " => _IncompatibleKeys(missing_keys=[], unexpected_keys=['label_enc.weight', 'bert.embeddings.position_ids'])\n",
      "SegTracker has been initialized\n",
      "processed frame 22, obj_num 1\r"
     ]
    },
    {
     "name": "stderr",
     "output_type": "stream",
     "text": [
      "Num: 246, count for 'dog': 1.0, prompt: @RINI Prompt: dancing dog -ar 16:9  Author: @RINI, path: /apdcephfs_cq3/share_1290939/shadowcun/evals_dev/pikavideos/prompts/dancing_dog_-ar_16_9_seed4606481237832914005.txt\n",
      "2023-08-23 19:52:13 Num: 246, count for 'dog': 1.0, prompt: @RINI Prompt: dancing dog -ar 16:9  Author: @RINI, path: /apdcephfs_cq3/share_1290939/shadowcun/evals_dev/pikavideos/prompts/dancing_dog_-ar_16_9_seed4606481237832914005.txt\n"
     ]
    },
    {
     "name": "stdout",
     "output_type": "stream",
     "text": [
      "processed frame 23, obj_num 1\n",
      "finished\n",
      "Directory already exists: ./pikavideos/dog/masks\n",
      "Directory already exists: ./pikavideos/dog/mask_video\n",
      "Directory already exists: ./pikavideos/dog/mask_gif\n",
      "final text_encoder_type: bert-base-uncased\n",
      "Model loaded from ./ckpt/groundingdino_swint_ogc.pth \n",
      " => _IncompatibleKeys(missing_keys=[], unexpected_keys=['label_enc.weight', 'bert.embeddings.position_ids'])\n",
      "SegTracker has been initialized\n",
      "processed frame 22, obj_num 1\r"
     ]
    },
    {
     "name": "stderr",
     "output_type": "stream",
     "text": [
      "Num: 247, count for 'dog': 1.0, prompt: @Dream Buzzard Prompt: a dog sniffing a 25 year old man buried in the ground with only head and arms out, brown tones,-ar 16:9 -gs 21 -motion 4 -neg \"standing man\"  Author: @Dream Buzzard, path: /apdcephfs_cq3/share_1290939/shadowcun/evals_dev/pikavideos/prompts/a_dog_sniffing_a_25_year_old_man_buried_in_the_ground_with_only_head_and_arms_out_brown_tones-ar_1_seed2770050845288741442.txt\n",
      "2023-08-23 19:52:23 Num: 247, count for 'dog': 1.0, prompt: @Dream Buzzard Prompt: a dog sniffing a 25 year old man buried in the ground with only head and arms out, brown tones,-ar 16:9 -gs 21 -motion 4 -neg \"standing man\"  Author: @Dream Buzzard, path: /apdcephfs_cq3/share_1290939/shadowcun/evals_dev/pikavideos/prompts/a_dog_sniffing_a_25_year_old_man_buried_in_the_ground_with_only_head_and_arms_out_brown_tones-ar_1_seed2770050845288741442.txt\n"
     ]
    },
    {
     "name": "stdout",
     "output_type": "stream",
     "text": [
      "processed frame 23, obj_num 1\n",
      "finished\n",
      "Directory already exists: ./pikavideos/mouse/masks\n",
      "Directory already exists: ./pikavideos/mouse/mask_video\n",
      "Directory already exists: ./pikavideos/mouse/mask_gif\n",
      "final text_encoder_type: bert-base-uncased\n",
      "Model loaded from ./ckpt/groundingdino_swint_ogc.pth \n",
      " => _IncompatibleKeys(missing_keys=[], unexpected_keys=['label_enc.weight', 'bert.embeddings.position_ids'])\n",
      "SegTracker has been initialized\n",
      "processed frame 22, obj_num 0\r"
     ]
    },
    {
     "name": "stderr",
     "output_type": "stream",
     "text": [
      "Num: 247, count for 'mouse': 0.0, prompt: @Mortis Prompt: the mouse runs in from off screen  Image: 1 Attachment  Author: @Mortis, path: /apdcephfs_cq3/share_1290939/shadowcun/evals_dev/pikavideos/prompts/the_mouse_runs_in_from_off_screen__Image__1_Attachment_seed4501336479087911509.txt\n",
      "2023-08-23 19:52:33 Num: 247, count for 'mouse': 0.0, prompt: @Mortis Prompt: the mouse runs in from off screen  Image: 1 Attachment  Author: @Mortis, path: /apdcephfs_cq3/share_1290939/shadowcun/evals_dev/pikavideos/prompts/the_mouse_runs_in_from_off_screen__Image__1_Attachment_seed4501336479087911509.txt\n"
     ]
    },
    {
     "name": "stdout",
     "output_type": "stream",
     "text": [
      "processed frame 23, obj_num 0\n",
      "finished\n",
      "Directory already exists: ./pikavideos/cup/masks\n",
      "Directory already exists: ./pikavideos/cup/mask_video\n",
      "Directory already exists: ./pikavideos/cup/mask_gif\n",
      "final text_encoder_type: bert-base-uncased\n",
      "Model loaded from ./ckpt/groundingdino_swint_ogc.pth \n",
      " => _IncompatibleKeys(missing_keys=[], unexpected_keys=['label_enc.weight', 'bert.embeddings.position_ids'])\n",
      "SegTracker has been initialized\n",
      "processed frame 22, obj_num 1\r"
     ]
    },
    {
     "name": "stderr",
     "output_type": "stream",
     "text": [
      "Num: 248, count for 'cup': 1.0, prompt: @JELeitner Prompt: a sleepless man having a cup of coffee  Image: 1 Attachment  Author: @JELeitner, path: /apdcephfs_cq3/share_1290939/shadowcun/evals_dev/pikavideos/prompts/a_sleepless_man_having_a_cup_of_coffee_seed938063677788465856.txt\n",
      "2023-08-23 19:52:45 Num: 248, count for 'cup': 1.0, prompt: @JELeitner Prompt: a sleepless man having a cup of coffee  Image: 1 Attachment  Author: @JELeitner, path: /apdcephfs_cq3/share_1290939/shadowcun/evals_dev/pikavideos/prompts/a_sleepless_man_having_a_cup_of_coffee_seed938063677788465856.txt\n"
     ]
    },
    {
     "name": "stdout",
     "output_type": "stream",
     "text": [
      "processed frame 23, obj_num 1\n",
      "finished\n",
      "Directory already exists: ./pikavideos/bed/masks\n",
      "Directory already exists: ./pikavideos/bed/mask_video\n",
      "Directory already exists: ./pikavideos/bed/mask_gif\n",
      "final text_encoder_type: bert-base-uncased\n",
      "Model loaded from ./ckpt/groundingdino_swint_ogc.pth \n",
      " => _IncompatibleKeys(missing_keys=[], unexpected_keys=['label_enc.weight', 'bert.embeddings.position_ids'])\n",
      "SegTracker has been initialized\n",
      "processed frame 22, obj_num 0\r"
     ]
    },
    {
     "name": "stderr",
     "output_type": "stream",
     "text": [
      "Num: 248, count for 'bed': 0.0, prompt: @ricglam liked a video of @ricglam. (Prompt: front view, close up view, a brunete woman lying in her bed opens her eyes, dark and gothic atmosphere, in the style of real old period footage from the 1920s, black and white, cinematic lighting, realistic, ultra detailed, vfx, rtx, post-processing, 8K, sharp focus image -ar 9:16  Author: @ricglam), path: /apdcephfs_cq3/share_1290939/shadowcun/evals_dev/pikavideos/prompts/front_view_close_up_view_a_brunete_woman_lying_in_her_bed_opens_her_eyes_dark_and_gothic_atmosphe_seed9783094556536172988.txt\n",
      "2023-08-23 19:52:56 Num: 248, count for 'bed': 0.0, prompt: @ricglam liked a video of @ricglam. (Prompt: front view, close up view, a brunete woman lying in her bed opens her eyes, dark and gothic atmosphere, in the style of real old period footage from the 1920s, black and white, cinematic lighting, realistic, ultra detailed, vfx, rtx, post-processing, 8K, sharp focus image -ar 9:16  Author: @ricglam), path: /apdcephfs_cq3/share_1290939/shadowcun/evals_dev/pikavideos/prompts/front_view_close_up_view_a_brunete_woman_lying_in_her_bed_opens_her_eyes_dark_and_gothic_atmosphe_seed9783094556536172988.txt\n"
     ]
    },
    {
     "name": "stdout",
     "output_type": "stream",
     "text": [
      "processed frame 23, obj_num 0\n",
      "finished\n",
      "Directory already exists: ./pikavideos/car/masks\n",
      "Directory already exists: ./pikavideos/car/mask_video\n",
      "Directory already exists: ./pikavideos/car/mask_gif\n",
      "final text_encoder_type: bert-base-uncased\n",
      "Model loaded from ./ckpt/groundingdino_swint_ogc.pth \n",
      " => _IncompatibleKeys(missing_keys=[], unexpected_keys=['label_enc.weight', 'bert.embeddings.position_ids'])\n",
      "SegTracker has been initialized\n",
      "processed frame 22, obj_num 1\r"
     ]
    },
    {
     "name": "stderr",
     "output_type": "stream",
     "text": [
      "Num: 249, count for 'car': 1.0, prompt: @Lexxxx Prompt: Time lapse of the car -motion 2  Image: 1 Attachment  Author: @Lexxxx, path: /apdcephfs_cq3/share_1290939/shadowcun/evals_dev/pikavideos/prompts/Time_lapse_of_the_car_-motion_2__Image__1_Attachment_seed6855200548468248554.txt\n",
      "2023-08-23 19:53:06 Num: 249, count for 'car': 1.0, prompt: @Lexxxx Prompt: Time lapse of the car -motion 2  Image: 1 Attachment  Author: @Lexxxx, path: /apdcephfs_cq3/share_1290939/shadowcun/evals_dev/pikavideos/prompts/Time_lapse_of_the_car_-motion_2__Image__1_Attachment_seed6855200548468248554.txt\n"
     ]
    },
    {
     "name": "stdout",
     "output_type": "stream",
     "text": [
      "processed frame 23, obj_num 1\n",
      "finished\n",
      "Directory already exists: ./pikavideos/tie/masks\n",
      "Directory already exists: ./pikavideos/tie/mask_video\n",
      "Directory already exists: ./pikavideos/tie/mask_gif\n",
      "final text_encoder_type: bert-base-uncased\n",
      "Model loaded from ./ckpt/groundingdino_swint_ogc.pth \n",
      " => _IncompatibleKeys(missing_keys=[], unexpected_keys=['label_enc.weight', 'bert.embeddings.position_ids'])\n",
      "SegTracker has been initialized\n",
      "processed frame 22, obj_num 0\r"
     ]
    },
    {
     "name": "stderr",
     "output_type": "stream",
     "text": [
      "Num: 249, count for 'tie': 0.0, prompt: @CaseyGane Prompt: two men with lighsabers glowing and tie fighters shooting lasers and fire and explosions in background  Image: 1 Attachment  Author: @CaseyGane, path: /apdcephfs_cq3/share_1290939/shadowcun/evals_dev/pikavideos/prompts/two_men_with_lighsabers_glowing_and_tie_fighters_shooting_lasers_and_fire_and_explosions_in_backgrou_seed8371309987624840372.txt\n",
      "2023-08-23 19:53:17 Num: 249, count for 'tie': 0.0, prompt: @CaseyGane Prompt: two men with lighsabers glowing and tie fighters shooting lasers and fire and explosions in background  Image: 1 Attachment  Author: @CaseyGane, path: /apdcephfs_cq3/share_1290939/shadowcun/evals_dev/pikavideos/prompts/two_men_with_lighsabers_glowing_and_tie_fighters_shooting_lasers_and_fire_and_explosions_in_backgrou_seed8371309987624840372.txt\n"
     ]
    },
    {
     "name": "stdout",
     "output_type": "stream",
     "text": [
      "processed frame 23, obj_num 0\n",
      "finished\n",
      "Directory already exists: ./pikavideos/cat/masks\n",
      "Directory already exists: ./pikavideos/cat/mask_video\n",
      "Directory already exists: ./pikavideos/cat/mask_gif\n",
      "final text_encoder_type: bert-base-uncased\n",
      "Model loaded from ./ckpt/groundingdino_swint_ogc.pth \n",
      " => _IncompatibleKeys(missing_keys=[], unexpected_keys=['label_enc.weight', 'bert.embeddings.position_ids'])\n",
      "SegTracker has been initialized\n",
      "processed frame 22, obj_num 0\r"
     ]
    },
    {
     "name": "stderr",
     "output_type": "stream",
     "text": [
      "Num: 249, count for 'cat': 0.0, prompt: @Uniburst Prompt: movie trailer of war zone footage with advanced futuristic CG inspired by ai-generated speckle-free occlusion-aware computational-holography with advanced fresnel tensor chromatics and geometric calculi, where cartoon characters interact with humans, in the style of an RPG game styled like nyancat mixed with drakeposting meme aimed at ages 20 to 30 years old, scene starts with nyan-cat giving a thumbs up as the word \"Uniburst Productions\" fades away from view with a nuclear bomb detonated in the background  Author: @Uniburst, path: /apdcephfs_cq3/share_1290939/shadowcun/evals_dev/pikavideos/prompts/movie_trailer_of_war_zone_footage_with_advanced_futuristic_CG_inspired_by_ai-generated_speckle-free__seed8194680714661804962.txt\n",
      "2023-08-23 19:53:27 Num: 249, count for 'cat': 0.0, prompt: @Uniburst Prompt: movie trailer of war zone footage with advanced futuristic CG inspired by ai-generated speckle-free occlusion-aware computational-holography with advanced fresnel tensor chromatics and geometric calculi, where cartoon characters interact with humans, in the style of an RPG game styled like nyancat mixed with drakeposting meme aimed at ages 20 to 30 years old, scene starts with nyan-cat giving a thumbs up as the word \"Uniburst Productions\" fades away from view with a nuclear bomb detonated in the background  Author: @Uniburst, path: /apdcephfs_cq3/share_1290939/shadowcun/evals_dev/pikavideos/prompts/movie_trailer_of_war_zone_footage_with_advanced_futuristic_CG_inspired_by_ai-generated_speckle-free__seed8194680714661804962.txt\n"
     ]
    },
    {
     "name": "stdout",
     "output_type": "stream",
     "text": [
      "processed frame 23, obj_num 0\n",
      "finished\n",
      "Directory already exists: ./pikavideos/cat/masks\n",
      "Directory already exists: ./pikavideos/cat/mask_video\n",
      "Directory already exists: ./pikavideos/cat/mask_gif\n",
      "final text_encoder_type: bert-base-uncased\n",
      "Model loaded from ./ckpt/groundingdino_swint_ogc.pth \n",
      " => _IncompatibleKeys(missing_keys=[], unexpected_keys=['label_enc.weight', 'bert.embeddings.position_ids'])\n",
      "SegTracker has been initialized\n",
      "processed frame 22, obj_num 1\r"
     ]
    },
    {
     "name": "stderr",
     "output_type": "stream",
     "text": [
      "Num: 250, count for 'cat': 1.0, prompt: @CyberMacs Prompt: cute cat winks, splahsing light , 8k , sharp , realistic , high detail , maximum quality  Author: @CyberMacs, path: /apdcephfs_cq3/share_1290939/shadowcun/evals_dev/pikavideos/prompts/cute_cat_winks_splahsing_light__8k__sharp__realistic__high_detail__maximum_quality.txt\n",
      "2023-08-23 19:53:37 Num: 250, count for 'cat': 1.0, prompt: @CyberMacs Prompt: cute cat winks, splahsing light , 8k , sharp , realistic , high detail , maximum quality  Author: @CyberMacs, path: /apdcephfs_cq3/share_1290939/shadowcun/evals_dev/pikavideos/prompts/cute_cat_winks_splahsing_light__8k__sharp__realistic__high_detail__maximum_quality.txt\n"
     ]
    },
    {
     "name": "stdout",
     "output_type": "stream",
     "text": [
      "processed frame 23, obj_num 1\n",
      "finished\n",
      "Directory already exists: ./pikavideos/horse/masks\n",
      "Directory already exists: ./pikavideos/horse/mask_video\n",
      "Directory already exists: ./pikavideos/horse/mask_gif\n",
      "final text_encoder_type: bert-base-uncased\n",
      "Model loaded from ./ckpt/groundingdino_swint_ogc.pth \n",
      " => _IncompatibleKeys(missing_keys=[], unexpected_keys=['label_enc.weight', 'bert.embeddings.position_ids'])\n",
      "SegTracker has been initialized\n",
      "processed frame 22, obj_num 1\r"
     ]
    },
    {
     "name": "stderr",
     "output_type": "stream",
     "text": [
      "Num: 251, count for 'horse': 1.0, prompt: @voiz Prompt: Fiery horse stands at night at the gates of the castle in the style of Transylvania  Author: @voiz, path: /apdcephfs_cq3/share_1290939/shadowcun/evals_dev/pikavideos/prompts/Fiery_horse_stands_at_night_at_the_gates_of_the_castle_in_the_style_of_Transylvania_seed17961192485203861107.txt\n",
      "2023-08-23 19:53:47 Num: 251, count for 'horse': 1.0, prompt: @voiz Prompt: Fiery horse stands at night at the gates of the castle in the style of Transylvania  Author: @voiz, path: /apdcephfs_cq3/share_1290939/shadowcun/evals_dev/pikavideos/prompts/Fiery_horse_stands_at_night_at_the_gates_of_the_castle_in_the_style_of_Transylvania_seed17961192485203861107.txt\n"
     ]
    },
    {
     "name": "stdout",
     "output_type": "stream",
     "text": [
      "processed frame 23, obj_num 1\n",
      "finished\n",
      "Directory already exists: ./pikavideos/train/masks\n",
      "Directory already exists: ./pikavideos/train/mask_video\n",
      "Directory already exists: ./pikavideos/train/mask_gif\n",
      "final text_encoder_type: bert-base-uncased\n",
      "Model loaded from ./ckpt/groundingdino_swint_ogc.pth \n",
      " => _IncompatibleKeys(missing_keys=[], unexpected_keys=['label_enc.weight', 'bert.embeddings.position_ids'])\n",
      "SegTracker has been initialized\n",
      "processed frame 22, obj_num 0\r"
     ]
    },
    {
     "name": "stderr",
     "output_type": "stream",
     "text": [
      "Num: 251, count for 'train': 0.0, prompt: @Brilliant Prompt: very long shot, retro-futuristic robot, , 1960s movie style, humanoid helmets, sci-fi, futuristic train with passenger, in mission stardust 1967 film style, 35mm film + realistic photography + realistic texture + real people + glossy plastic material + 8k image + Wes Anderson 35mmm film  Author: @Brilliant, path: /apdcephfs_cq3/share_1290939/shadowcun/evals_dev/pikavideos/prompts/very_long_shot_retro-futuristic_robot__1960s_movie_style_humanoid_helmets_sci-fi_futuristic_tr.txt\n",
      "2023-08-23 19:53:57 Num: 251, count for 'train': 0.0, prompt: @Brilliant Prompt: very long shot, retro-futuristic robot, , 1960s movie style, humanoid helmets, sci-fi, futuristic train with passenger, in mission stardust 1967 film style, 35mm film + realistic photography + realistic texture + real people + glossy plastic material + 8k image + Wes Anderson 35mmm film  Author: @Brilliant, path: /apdcephfs_cq3/share_1290939/shadowcun/evals_dev/pikavideos/prompts/very_long_shot_retro-futuristic_robot__1960s_movie_style_humanoid_helmets_sci-fi_futuristic_tr.txt\n"
     ]
    },
    {
     "name": "stdout",
     "output_type": "stream",
     "text": [
      "processed frame 23, obj_num 0\n",
      "finished\n",
      "Directory already exists: ./pikavideos/horse/masks\n",
      "Directory already exists: ./pikavideos/horse/mask_video\n",
      "Directory already exists: ./pikavideos/horse/mask_gif\n",
      "final text_encoder_type: bert-base-uncased\n",
      "Model loaded from ./ckpt/groundingdino_swint_ogc.pth \n",
      " => _IncompatibleKeys(missing_keys=[], unexpected_keys=['label_enc.weight', 'bert.embeddings.position_ids'])\n",
      "SegTracker has been initialized\n",
      "processed frame 22, obj_num 1\r"
     ]
    },
    {
     "name": "stderr",
     "output_type": "stream",
     "text": [
      "Num: 252, count for 'horse': 1.0, prompt: @pika_labsik Prompt: a bright white character on a winged horse, the patron saint of travelers  Image: 1 Attachment  Author: @pika_labsik, path: /apdcephfs_cq3/share_1290939/shadowcun/evals_dev/pikavideos/prompts/a_bright_white_character_on_a_winged_horse_the_patron_saint_of_travelers__Image__1_Attachment_seed5829644381319974213.txt\n",
      "2023-08-23 19:54:08 Num: 252, count for 'horse': 1.0, prompt: @pika_labsik Prompt: a bright white character on a winged horse, the patron saint of travelers  Image: 1 Attachment  Author: @pika_labsik, path: /apdcephfs_cq3/share_1290939/shadowcun/evals_dev/pikavideos/prompts/a_bright_white_character_on_a_winged_horse_the_patron_saint_of_travelers__Image__1_Attachment_seed5829644381319974213.txt\n"
     ]
    },
    {
     "name": "stdout",
     "output_type": "stream",
     "text": [
      "processed frame 23, obj_num 1\n",
      "finished\n",
      "Directory already exists: ./pikavideos/dog/masks\n",
      "Directory already exists: ./pikavideos/dog/mask_video\n",
      "Directory already exists: ./pikavideos/dog/mask_gif\n",
      "final text_encoder_type: bert-base-uncased\n",
      "Model loaded from ./ckpt/groundingdino_swint_ogc.pth \n",
      " => _IncompatibleKeys(missing_keys=[], unexpected_keys=['label_enc.weight', 'bert.embeddings.position_ids'])\n",
      "SegTracker has been initialized\n",
      "processed frame 22, obj_num 1\r"
     ]
    },
    {
     "name": "stderr",
     "output_type": "stream",
     "text": [
      "Num: 253, count for 'dog': 1.0, prompt: @Nyvallhen Prompt: super angry dog barking  Image: 1 Attachment  Author: @Nyvallhen, path: /apdcephfs_cq3/share_1290939/shadowcun/evals_dev/pikavideos/prompts/super_angry_dog_barking.txt\n",
      "2023-08-23 19:54:20 Num: 253, count for 'dog': 1.0, prompt: @Nyvallhen Prompt: super angry dog barking  Image: 1 Attachment  Author: @Nyvallhen, path: /apdcephfs_cq3/share_1290939/shadowcun/evals_dev/pikavideos/prompts/super_angry_dog_barking.txt\n"
     ]
    },
    {
     "name": "stdout",
     "output_type": "stream",
     "text": [
      "processed frame 23, obj_num 1\n",
      "finished\n",
      "Directory already exists: ./pikavideos/dog/masks\n",
      "Directory already exists: ./pikavideos/dog/mask_video\n",
      "Directory already exists: ./pikavideos/dog/mask_gif\n",
      "final text_encoder_type: bert-base-uncased\n",
      "Model loaded from ./ckpt/groundingdino_swint_ogc.pth \n",
      " => _IncompatibleKeys(missing_keys=[], unexpected_keys=['label_enc.weight', 'bert.embeddings.position_ids'])\n",
      "SegTracker has been initialized\n",
      "processed frame 22, obj_num 1\r"
     ]
    },
    {
     "name": "stderr",
     "output_type": "stream",
     "text": [
      "Num: 254, count for 'dog': 1.0, prompt: @kiri_er Prompt: video dog run into space desert  Author: @kiri_er, path: /apdcephfs_cq3/share_1290939/shadowcun/evals_dev/pikavideos/prompts/video_dog_run_into_space_desert_seed140536909536138601.txt\n",
      "2023-08-23 19:54:30 Num: 254, count for 'dog': 1.0, prompt: @kiri_er Prompt: video dog run into space desert  Author: @kiri_er, path: /apdcephfs_cq3/share_1290939/shadowcun/evals_dev/pikavideos/prompts/video_dog_run_into_space_desert_seed140536909536138601.txt\n"
     ]
    },
    {
     "name": "stdout",
     "output_type": "stream",
     "text": [
      "processed frame 23, obj_num 1\n",
      "finished\n",
      "Directory already exists: ./pikavideos/dog/masks\n",
      "Directory already exists: ./pikavideos/dog/mask_video\n",
      "Directory already exists: ./pikavideos/dog/mask_gif\n",
      "final text_encoder_type: bert-base-uncased\n",
      "Model loaded from ./ckpt/groundingdino_swint_ogc.pth \n",
      " => _IncompatibleKeys(missing_keys=[], unexpected_keys=['label_enc.weight', 'bert.embeddings.position_ids'])\n",
      "SegTracker has been initialized\n",
      "processed frame 22, obj_num 1\r"
     ]
    },
    {
     "name": "stderr",
     "output_type": "stream",
     "text": [
      "Num: 255, count for 'dog': 1.0, prompt: @Red Nelloh Prompt: dog blink with eyes  Image: 1 Attachment  Author: @Red Nelloh, path: /apdcephfs_cq3/share_1290939/shadowcun/evals_dev/pikavideos/prompts/dog_blink_with_eyes__Image__1_Attachment_seed10250616878960613841.txt\n",
      "2023-08-23 19:54:40 Num: 255, count for 'dog': 1.0, prompt: @Red Nelloh Prompt: dog blink with eyes  Image: 1 Attachment  Author: @Red Nelloh, path: /apdcephfs_cq3/share_1290939/shadowcun/evals_dev/pikavideos/prompts/dog_blink_with_eyes__Image__1_Attachment_seed10250616878960613841.txt\n"
     ]
    },
    {
     "name": "stdout",
     "output_type": "stream",
     "text": [
      "processed frame 23, obj_num 1\n",
      "finished\n",
      "Directory already exists: ./pikavideos/car/masks\n",
      "Directory already exists: ./pikavideos/car/mask_video\n",
      "Directory already exists: ./pikavideos/car/mask_gif\n",
      "final text_encoder_type: bert-base-uncased\n",
      "Model loaded from ./ckpt/groundingdino_swint_ogc.pth \n",
      " => _IncompatibleKeys(missing_keys=[], unexpected_keys=['label_enc.weight', 'bert.embeddings.position_ids'])\n",
      "SegTracker has been initialized\n",
      "processed frame 22, obj_num 1\r"
     ]
    },
    {
     "name": "stderr",
     "output_type": "stream",
     "text": [
      "Num: 256, count for 'car': 1.0, prompt: @Lemarcheur0084 Prompt: car moove foreward, the groud is blurry,  the environment changing, -motion 4  Image: 1 Attachment  Author: @Lemarcheur0084, path: /apdcephfs_cq3/share_1290939/shadowcun/evals_dev/pikavideos/prompts/car_moove_foreward_the_groud_is_blurry__the_environment_changing_-motion_4__Image__1_Attachment_seed547392316156207709.txt\n",
      "2023-08-23 19:54:50 Num: 256, count for 'car': 1.0, prompt: @Lemarcheur0084 Prompt: car moove foreward, the groud is blurry,  the environment changing, -motion 4  Image: 1 Attachment  Author: @Lemarcheur0084, path: /apdcephfs_cq3/share_1290939/shadowcun/evals_dev/pikavideos/prompts/car_moove_foreward_the_groud_is_blurry__the_environment_changing_-motion_4__Image__1_Attachment_seed547392316156207709.txt\n"
     ]
    },
    {
     "name": "stdout",
     "output_type": "stream",
     "text": [
      "processed frame 23, obj_num 1\n",
      "finished\n",
      "Directory already exists: ./pikavideos/dog/masks\n",
      "Directory already exists: ./pikavideos/dog/mask_video\n",
      "Directory already exists: ./pikavideos/dog/mask_gif\n",
      "final text_encoder_type: bert-base-uncased\n",
      "Model loaded from ./ckpt/groundingdino_swint_ogc.pth \n",
      " => _IncompatibleKeys(missing_keys=[], unexpected_keys=['label_enc.weight', 'bert.embeddings.position_ids'])\n",
      "SegTracker has been initialized\n",
      "processed frame 22, obj_num 0\r"
     ]
    },
    {
     "name": "stderr",
     "output_type": "stream",
     "text": [
      "Num: 256, count for 'dog': 0.0, prompt: @ash 🍀 Prompt: Pixar style storybook of a group of animals rabbit, Coyote, bear, cougar, raccoon, dogs. All gathering in a magical forest with sparkles and stars, pastel colors, cute. 4k, high quality.  --ar 16:9  Author: @ash 🍀, path: /apdcephfs_cq3/share_1290939/shadowcun/evals_dev/pikavideos/prompts/Pixar_style_storybook_of_a_group_of_animals_rabbit_Coyote_bear_cougar_raccoon_dogs._All_gatheri_seed16701750231786168218.txt\n",
      "2023-08-23 19:55:00 Num: 256, count for 'dog': 0.0, prompt: @ash 🍀 Prompt: Pixar style storybook of a group of animals rabbit, Coyote, bear, cougar, raccoon, dogs. All gathering in a magical forest with sparkles and stars, pastel colors, cute. 4k, high quality.  --ar 16:9  Author: @ash 🍀, path: /apdcephfs_cq3/share_1290939/shadowcun/evals_dev/pikavideos/prompts/Pixar_style_storybook_of_a_group_of_animals_rabbit_Coyote_bear_cougar_raccoon_dogs._All_gatheri_seed16701750231786168218.txt\n"
     ]
    },
    {
     "name": "stdout",
     "output_type": "stream",
     "text": [
      "processed frame 23, obj_num 0\n",
      "finished\n",
      "Directory already exists: ./pikavideos/bear/masks\n",
      "Directory already exists: ./pikavideos/bear/mask_video\n",
      "Directory already exists: ./pikavideos/bear/mask_gif\n",
      "final text_encoder_type: bert-base-uncased\n",
      "Model loaded from ./ckpt/groundingdino_swint_ogc.pth \n",
      " => _IncompatibleKeys(missing_keys=[], unexpected_keys=['label_enc.weight', 'bert.embeddings.position_ids'])\n",
      "SegTracker has been initialized\n",
      "processed frame 22, obj_num 0\r"
     ]
    },
    {
     "name": "stderr",
     "output_type": "stream",
     "text": [
      "Num: 256, count for 'bear': 0.0, prompt: @ash 🍀 Prompt: Pixar style storybook of a group of animals rabbit, Coyote, bear, cougar, raccoon, dogs. All gathering in a magical forest with sparkles and stars, pastel colors, cute. 4k, high quality.  --ar 16:9  Author: @ash 🍀, path: /apdcephfs_cq3/share_1290939/shadowcun/evals_dev/pikavideos/prompts/Pixar_style_storybook_of_a_group_of_animals_rabbit_Coyote_bear_cougar_raccoon_dogs._All_gatheri_seed16701750231786168218.txt\n",
      "2023-08-23 19:55:10 Num: 256, count for 'bear': 0.0, prompt: @ash 🍀 Prompt: Pixar style storybook of a group of animals rabbit, Coyote, bear, cougar, raccoon, dogs. All gathering in a magical forest with sparkles and stars, pastel colors, cute. 4k, high quality.  --ar 16:9  Author: @ash 🍀, path: /apdcephfs_cq3/share_1290939/shadowcun/evals_dev/pikavideos/prompts/Pixar_style_storybook_of_a_group_of_animals_rabbit_Coyote_bear_cougar_raccoon_dogs._All_gatheri_seed16701750231786168218.txt\n"
     ]
    },
    {
     "name": "stdout",
     "output_type": "stream",
     "text": [
      "processed frame 23, obj_num 0\n",
      "finished\n",
      "Directory already exists: ./pikavideos/pizza/masks\n",
      "Directory already exists: ./pikavideos/pizza/mask_video\n",
      "Directory already exists: ./pikavideos/pizza/mask_gif\n",
      "final text_encoder_type: bert-base-uncased\n",
      "Model loaded from ./ckpt/groundingdino_swint_ogc.pth \n",
      " => _IncompatibleKeys(missing_keys=[], unexpected_keys=['label_enc.weight', 'bert.embeddings.position_ids'])\n",
      "SegTracker has been initialized\n",
      "processed frame 22, obj_num 0\r"
     ]
    },
    {
     "name": "stderr",
     "output_type": "stream",
     "text": [
      "Num: 256, count for 'pizza': 0.0, prompt: @CristoCraft123 Prompt: freddy fazbear walking into the restroom of a abandoned restaurant and later comes out with a pizza, realistic, obscure, terrifying, 4k  Author: @CristoCraft123, path: /apdcephfs_cq3/share_1290939/shadowcun/evals_dev/pikavideos/prompts/freddy_fazbear_walking_into_the_restroom_of_a_abandoned_restaurant_and_later_comes_out_with_a_pizza_seed11772807793599122194.txt\n",
      "2023-08-23 19:55:20 Num: 256, count for 'pizza': 0.0, prompt: @CristoCraft123 Prompt: freddy fazbear walking into the restroom of a abandoned restaurant and later comes out with a pizza, realistic, obscure, terrifying, 4k  Author: @CristoCraft123, path: /apdcephfs_cq3/share_1290939/shadowcun/evals_dev/pikavideos/prompts/freddy_fazbear_walking_into_the_restroom_of_a_abandoned_restaurant_and_later_comes_out_with_a_pizza_seed11772807793599122194.txt\n"
     ]
    },
    {
     "name": "stdout",
     "output_type": "stream",
     "text": [
      "processed frame 23, obj_num 0\n",
      "finished\n",
      "Directory already exists: ./pikavideos/cow/masks\n",
      "Directory already exists: ./pikavideos/cow/mask_video\n",
      "Directory already exists: ./pikavideos/cow/mask_gif\n",
      "final text_encoder_type: bert-base-uncased\n",
      "Model loaded from ./ckpt/groundingdino_swint_ogc.pth \n",
      " => _IncompatibleKeys(missing_keys=[], unexpected_keys=['label_enc.weight', 'bert.embeddings.position_ids'])\n",
      "SegTracker has been initialized\n",
      "processed frame 22, obj_num 0\r"
     ]
    },
    {
     "name": "stderr",
     "output_type": "stream",
     "text": [
      "Num: 256, count for 'cow': 0.0, prompt: @JetTheGuy liked a video of @moo cow. (Prompt: an enchanted/possessed grey alien doll moving around with a magic ghost of a woman inside of it, making it move  Author: @moo cow), path: /apdcephfs_cq3/share_1290939/shadowcun/evals_dev/pikavideos/prompts/an_enchanted_possessed_grey_alien_doll_moving_around_with_a_magic_ghost_of_a_woman_inside_of_it_mak_seed5183739603151457609.txt\n",
      "2023-08-23 19:55:30 Num: 256, count for 'cow': 0.0, prompt: @JetTheGuy liked a video of @moo cow. (Prompt: an enchanted/possessed grey alien doll moving around with a magic ghost of a woman inside of it, making it move  Author: @moo cow), path: /apdcephfs_cq3/share_1290939/shadowcun/evals_dev/pikavideos/prompts/an_enchanted_possessed_grey_alien_doll_moving_around_with_a_magic_ghost_of_a_woman_inside_of_it_mak_seed5183739603151457609.txt\n"
     ]
    },
    {
     "name": "stdout",
     "output_type": "stream",
     "text": [
      "processed frame 23, obj_num 0\n",
      "finished\n",
      "Directory already exists: ./pikavideos/horse/masks\n",
      "Directory already exists: ./pikavideos/horse/mask_video\n",
      "Directory already exists: ./pikavideos/horse/mask_gif\n",
      "final text_encoder_type: bert-base-uncased\n",
      "Model loaded from ./ckpt/groundingdino_swint_ogc.pth \n",
      " => _IncompatibleKeys(missing_keys=[], unexpected_keys=['label_enc.weight', 'bert.embeddings.position_ids'])\n",
      "SegTracker has been initialized\n",
      "processed frame 22, obj_num 2\r"
     ]
    },
    {
     "name": "stderr",
     "output_type": "stream",
     "text": [
      "Num: 257, count for 'horse': 2.0, prompt: @Manolito Prompt: Generating video... Be patient! (Prompt: the four horse riders of the apocalypse, 4k, cinematic, -ar16:9, -1motion, image-1 , hyper realistic, cinematic lightning  Author: @Manolito, path: /apdcephfs_cq3/share_1290939/shadowcun/evals_dev/pikavideos/prompts/Generating_video..._Be_patient__Prompt__the_four_horse_riders_of_the_apocalypse_4k_cinematic_-ar_seed18053817572155576260.txt\n",
      "2023-08-23 19:55:40 Num: 257, count for 'horse': 2.0, prompt: @Manolito Prompt: Generating video... Be patient! (Prompt: the four horse riders of the apocalypse, 4k, cinematic, -ar16:9, -1motion, image-1 , hyper realistic, cinematic lightning  Author: @Manolito, path: /apdcephfs_cq3/share_1290939/shadowcun/evals_dev/pikavideos/prompts/Generating_video..._Be_patient__Prompt__the_four_horse_riders_of_the_apocalypse_4k_cinematic_-ar_seed18053817572155576260.txt\n"
     ]
    },
    {
     "name": "stdout",
     "output_type": "stream",
     "text": [
      "processed frame 23, obj_num 2\n",
      "finished\n",
      "Directory already exists: ./pikavideos/car/masks\n",
      "Directory already exists: ./pikavideos/car/mask_video\n",
      "Directory already exists: ./pikavideos/car/mask_gif\n",
      "final text_encoder_type: bert-base-uncased\n",
      "Model loaded from ./ckpt/groundingdino_swint_ogc.pth \n",
      " => _IncompatibleKeys(missing_keys=[], unexpected_keys=['label_enc.weight', 'bert.embeddings.position_ids'])\n",
      "SegTracker has been initialized\n",
      "processed frame 22, obj_num 0\r"
     ]
    },
    {
     "name": "stderr",
     "output_type": "stream",
     "text": [
      "Num: 257, count for 'car': 0.0, prompt: @ntgian Prompt: /create prompt:cinematic scene of a Formula 1 car unleashes its incredible speed while navigating a thrilling turn pushing the boundaries of speed and precision , driver visible, film-photography HD  Author: @ntgian, path: /apdcephfs_cq3/share_1290939/shadowcun/evals_dev/pikavideos/prompts/create_prompt_cinematic_scene_of_a_Formula_1_car_unleashes_its_incredible_speed_while_navigating_a__seed8123644814140227012.txt\n",
      "2023-08-23 19:55:51 Num: 257, count for 'car': 0.0, prompt: @ntgian Prompt: /create prompt:cinematic scene of a Formula 1 car unleashes its incredible speed while navigating a thrilling turn pushing the boundaries of speed and precision , driver visible, film-photography HD  Author: @ntgian, path: /apdcephfs_cq3/share_1290939/shadowcun/evals_dev/pikavideos/prompts/create_prompt_cinematic_scene_of_a_Formula_1_car_unleashes_its_incredible_speed_while_navigating_a__seed8123644814140227012.txt\n"
     ]
    },
    {
     "name": "stdout",
     "output_type": "stream",
     "text": [
      "processed frame 23, obj_num 0\n",
      "finished\n",
      "Directory already exists: ./pikavideos/bird/masks\n",
      "Directory already exists: ./pikavideos/bird/mask_video\n",
      "Directory already exists: ./pikavideos/bird/mask_gif\n",
      "final text_encoder_type: bert-base-uncased\n",
      "Model loaded from ./ckpt/groundingdino_swint_ogc.pth \n",
      " => _IncompatibleKeys(missing_keys=[], unexpected_keys=['label_enc.weight', 'bert.embeddings.position_ids'])\n",
      "SegTracker has been initialized\n",
      "processed frame 22, obj_num 0\r"
     ]
    },
    {
     "name": "stderr",
     "output_type": "stream",
     "text": [
      "Num: 257, count for 'bird': 0.0, prompt: @GoloMax Prompt: I'm gonna fly like a bird through the night Feel my tears as they dry I'm gonna swing from the chandelier  Author: @GoloMax, path: /apdcephfs_cq3/share_1290939/shadowcun/evals_dev/pikavideos/prompts/I_m_gonna_fly_like_a_bird_through_the_night_Feel_my_tears_as_they_dry_I_m_gonna_swing_from_the_chand_seed10572354998659248435.txt\n",
      "2023-08-23 19:56:01 Num: 257, count for 'bird': 0.0, prompt: @GoloMax Prompt: I'm gonna fly like a bird through the night Feel my tears as they dry I'm gonna swing from the chandelier  Author: @GoloMax, path: /apdcephfs_cq3/share_1290939/shadowcun/evals_dev/pikavideos/prompts/I_m_gonna_fly_like_a_bird_through_the_night_Feel_my_tears_as_they_dry_I_m_gonna_swing_from_the_chand_seed10572354998659248435.txt\n"
     ]
    },
    {
     "name": "stdout",
     "output_type": "stream",
     "text": [
      "processed frame 23, obj_num 0\n",
      "finished\n",
      "Directory already exists: ./pikavideos/car/masks\n",
      "Directory already exists: ./pikavideos/car/mask_video\n",
      "Directory already exists: ./pikavideos/car/mask_gif\n",
      "final text_encoder_type: bert-base-uncased\n",
      "Model loaded from ./ckpt/groundingdino_swint_ogc.pth \n",
      " => _IncompatibleKeys(missing_keys=[], unexpected_keys=['label_enc.weight', 'bert.embeddings.position_ids'])\n",
      "SegTracker has been initialized\n",
      "processed frame 22, obj_num 1\r"
     ]
    },
    {
     "name": "stderr",
     "output_type": "stream",
     "text": [
      "Num: 258, count for 'car': 1.0, prompt: @ARSMOD Prompt: spider man gets into the car and drives off into the sunset  Author: @ARSMOD, path: /apdcephfs_cq3/share_1290939/shadowcun/evals_dev/pikavideos/prompts/spider_man_gets_into_the_car_and_drives_off_into_the_sunset_seed1288651269266729780.txt\n",
      "2023-08-23 19:56:12 Num: 258, count for 'car': 1.0, prompt: @ARSMOD Prompt: spider man gets into the car and drives off into the sunset  Author: @ARSMOD, path: /apdcephfs_cq3/share_1290939/shadowcun/evals_dev/pikavideos/prompts/spider_man_gets_into_the_car_and_drives_off_into_the_sunset_seed1288651269266729780.txt\n"
     ]
    },
    {
     "name": "stdout",
     "output_type": "stream",
     "text": [
      "processed frame 23, obj_num 1\n",
      "finished\n",
      "Directory already exists: ./pikavideos/car/masks\n",
      "Directory already exists: ./pikavideos/car/mask_video\n",
      "Directory already exists: ./pikavideos/car/mask_gif\n",
      "final text_encoder_type: bert-base-uncased\n"
     ]
    },
    {
     "name": "stderr",
     "output_type": "stream",
     "text": [
      "'(ReadTimeoutError(\"HTTPSConnectionPool(host='huggingface.co', port=443): Read timed out. (read timeout=10)\"), '(Request ID: cf22ade1-2021-4c23-9699-6adb804a50aa)')' thrown while requesting HEAD https://huggingface.co/bert-base-uncased/resolve/main/config.json\n",
      "'(ReadTimeoutError(\"HTTPSConnectionPool(host='huggingface.co', port=443): Read timed out. (read timeout=10)\"), '(Request ID: cf22ade1-2021-4c23-9699-6adb804a50aa)')' thrown while requesting HEAD https://huggingface.co/bert-base-uncased/resolve/main/config.json\n",
      "2023-08-23 19:56:30 '(ReadTimeoutError(\"HTTPSConnectionPool(host='huggingface.co', port=443): Read timed out. (read timeout=10)\"), '(Request ID: cf22ade1-2021-4c23-9699-6adb804a50aa)')' thrown while requesting HEAD https://huggingface.co/bert-base-uncased/resolve/main/config.json\n"
     ]
    },
    {
     "name": "stdout",
     "output_type": "stream",
     "text": [
      "Model loaded from ./ckpt/groundingdino_swint_ogc.pth \n",
      " => _IncompatibleKeys(missing_keys=[], unexpected_keys=['label_enc.weight', 'bert.embeddings.position_ids'])\n",
      "SegTracker has been initialized\n",
      "processed frame 22, obj_num 1\r"
     ]
    },
    {
     "name": "stderr",
     "output_type": "stream",
     "text": [
      "Num: 259, count for 'car': 1.0, prompt: @learnwithai270 Prompt: sports car driving  Author: @learnwithai270, path: /apdcephfs_cq3/share_1290939/shadowcun/evals_dev/pikavideos/prompts/sports_car_driving_seed1278596900064969295.txt\n",
      "2023-08-23 19:56:37 Num: 259, count for 'car': 1.0, prompt: @learnwithai270 Prompt: sports car driving  Author: @learnwithai270, path: /apdcephfs_cq3/share_1290939/shadowcun/evals_dev/pikavideos/prompts/sports_car_driving_seed1278596900064969295.txt\n"
     ]
    },
    {
     "name": "stdout",
     "output_type": "stream",
     "text": [
      "processed frame 23, obj_num 1\n",
      "finished\n",
      "Directory already exists: ./pikavideos/bus/masks\n",
      "Directory already exists: ./pikavideos/bus/mask_video\n",
      "Directory already exists: ./pikavideos/bus/mask_gif\n",
      "final text_encoder_type: bert-base-uncased\n"
     ]
    },
    {
     "name": "stderr",
     "output_type": "stream",
     "text": [
      "'(ReadTimeoutError(\"HTTPSConnectionPool(host='huggingface.co', port=443): Read timed out. (read timeout=10)\"), '(Request ID: b0ac3a0d-0ad0-4af0-bd67-c49055455e63)')' thrown while requesting HEAD https://huggingface.co/bert-base-uncased/resolve/main/tokenizer_config.json\n",
      "'(ReadTimeoutError(\"HTTPSConnectionPool(host='huggingface.co', port=443): Read timed out. (read timeout=10)\"), '(Request ID: b0ac3a0d-0ad0-4af0-bd67-c49055455e63)')' thrown while requesting HEAD https://huggingface.co/bert-base-uncased/resolve/main/tokenizer_config.json\n",
      "2023-08-23 19:56:50 '(ReadTimeoutError(\"HTTPSConnectionPool(host='huggingface.co', port=443): Read timed out. (read timeout=10)\"), '(Request ID: b0ac3a0d-0ad0-4af0-bd67-c49055455e63)')' thrown while requesting HEAD https://huggingface.co/bert-base-uncased/resolve/main/tokenizer_config.json\n",
      "'(ReadTimeoutError(\"HTTPSConnectionPool(host='huggingface.co', port=443): Read timed out. (read timeout=10)\"), '(Request ID: a6ed3393-f3ce-4cec-8c1d-19a47220100f)')' thrown while requesting HEAD https://huggingface.co/bert-base-uncased/resolve/main/config.json\n",
      "'(ReadTimeoutError(\"HTTPSConnectionPool(host='huggingface.co', port=443): Read timed out. (read timeout=10)\"), '(Request ID: a6ed3393-f3ce-4cec-8c1d-19a47220100f)')' thrown while requesting HEAD https://huggingface.co/bert-base-uncased/resolve/main/config.json\n",
      "2023-08-23 19:57:04 '(ReadTimeoutError(\"HTTPSConnectionPool(host='huggingface.co', port=443): Read timed out. (read timeout=10)\"), '(Request ID: a6ed3393-f3ce-4cec-8c1d-19a47220100f)')' thrown while requesting HEAD https://huggingface.co/bert-base-uncased/resolve/main/config.json\n"
     ]
    },
    {
     "name": "stdout",
     "output_type": "stream",
     "text": [
      "Model loaded from ./ckpt/groundingdino_swint_ogc.pth \n",
      " => _IncompatibleKeys(missing_keys=[], unexpected_keys=['label_enc.weight', 'bert.embeddings.position_ids'])\n",
      "SegTracker has been initialized\n",
      "processed frame 22, obj_num 0\r"
     ]
    },
    {
     "name": "stderr",
     "output_type": "stream",
     "text": [
      "Num: 259, count for 'bus': 0.0, prompt: @thecoffeejesus Prompt: a mobile makerspace inside a bus  Author: @thecoffeejesus, path: /apdcephfs_cq3/share_1290939/shadowcun/evals_dev/pikavideos/prompts/a_mobile_makerspace_inside_a_bus.txt\n",
      "2023-08-23 19:57:12 Num: 259, count for 'bus': 0.0, prompt: @thecoffeejesus Prompt: a mobile makerspace inside a bus  Author: @thecoffeejesus, path: /apdcephfs_cq3/share_1290939/shadowcun/evals_dev/pikavideos/prompts/a_mobile_makerspace_inside_a_bus.txt\n"
     ]
    },
    {
     "name": "stdout",
     "output_type": "stream",
     "text": [
      "processed frame 23, obj_num 0\n",
      "finished\n",
      "Directory already exists: ./pikavideos/orange/masks\n",
      "Directory already exists: ./pikavideos/orange/mask_video\n",
      "Directory already exists: ./pikavideos/orange/mask_gif\n",
      "final text_encoder_type: bert-base-uncased\n"
     ]
    },
    {
     "name": "stderr",
     "output_type": "stream",
     "text": [
      "'(ReadTimeoutError(\"HTTPSConnectionPool(host='huggingface.co', port=443): Read timed out. (read timeout=10)\"), '(Request ID: 817d5e38-4181-481e-9e48-4d74d5971cab)')' thrown while requesting HEAD https://huggingface.co/bert-base-uncased/resolve/main/config.json\n",
      "'(ReadTimeoutError(\"HTTPSConnectionPool(host='huggingface.co', port=443): Read timed out. (read timeout=10)\"), '(Request ID: 817d5e38-4181-481e-9e48-4d74d5971cab)')' thrown while requesting HEAD https://huggingface.co/bert-base-uncased/resolve/main/config.json\n",
      "2023-08-23 19:57:26 '(ReadTimeoutError(\"HTTPSConnectionPool(host='huggingface.co', port=443): Read timed out. (read timeout=10)\"), '(Request ID: 817d5e38-4181-481e-9e48-4d74d5971cab)')' thrown while requesting HEAD https://huggingface.co/bert-base-uncased/resolve/main/config.json\n"
     ]
    },
    {
     "name": "stdout",
     "output_type": "stream",
     "text": [
      "Model loaded from ./ckpt/groundingdino_swint_ogc.pth \n",
      " => _IncompatibleKeys(missing_keys=[], unexpected_keys=['label_enc.weight', 'bert.embeddings.position_ids'])\n",
      "SegTracker has been initialized\n",
      "processed frame 22, obj_num 0\r"
     ]
    },
    {
     "name": "stderr",
     "output_type": "stream",
     "text": [
      "Num: 259, count for 'orange': 0.0, prompt: @vartroy Prompt: city in ruins, orange background, burning  Author: @vartroy, path: /apdcephfs_cq3/share_1290939/shadowcun/evals_dev/pikavideos/prompts/city_in_ruins_orange_background_burning_seed1087030929997339061.txt\n",
      "2023-08-23 19:57:33 Num: 259, count for 'orange': 0.0, prompt: @vartroy Prompt: city in ruins, orange background, burning  Author: @vartroy, path: /apdcephfs_cq3/share_1290939/shadowcun/evals_dev/pikavideos/prompts/city_in_ruins_orange_background_burning_seed1087030929997339061.txt\n"
     ]
    },
    {
     "name": "stdout",
     "output_type": "stream",
     "text": [
      "processed frame 23, obj_num 0\n",
      "finished\n",
      "Directory already exists: ./pikavideos/airplane/masks\n",
      "Directory already exists: ./pikavideos/airplane/mask_video\n",
      "Directory already exists: ./pikavideos/airplane/mask_gif\n",
      "final text_encoder_type: bert-base-uncased\n"
     ]
    },
    {
     "name": "stderr",
     "output_type": "stream",
     "text": [
      "'(ReadTimeoutError(\"HTTPSConnectionPool(host='huggingface.co', port=443): Read timed out. (read timeout=10)\"), '(Request ID: 5b9bc44d-2e2a-431b-a148-7781038005bf)')' thrown while requesting HEAD https://huggingface.co/bert-base-uncased/resolve/main/config.json\n",
      "'(ReadTimeoutError(\"HTTPSConnectionPool(host='huggingface.co', port=443): Read timed out. (read timeout=10)\"), '(Request ID: 5b9bc44d-2e2a-431b-a148-7781038005bf)')' thrown while requesting HEAD https://huggingface.co/bert-base-uncased/resolve/main/config.json\n",
      "2023-08-23 19:57:46 '(ReadTimeoutError(\"HTTPSConnectionPool(host='huggingface.co', port=443): Read timed out. (read timeout=10)\"), '(Request ID: 5b9bc44d-2e2a-431b-a148-7781038005bf)')' thrown while requesting HEAD https://huggingface.co/bert-base-uncased/resolve/main/config.json\n"
     ]
    },
    {
     "name": "stdout",
     "output_type": "stream",
     "text": [
      "Model loaded from ./ckpt/groundingdino_swint_ogc.pth \n",
      " => _IncompatibleKeys(missing_keys=[], unexpected_keys=['label_enc.weight', 'bert.embeddings.position_ids'])\n",
      "SegTracker has been initialized\n",
      "processed frame 22, obj_num 0\r"
     ]
    },
    {
     "name": "stderr",
     "output_type": "stream",
     "text": [
      "Num: 259, count for 'airplane': 0.0, prompt: @CEO Prompt: view from the window of an airplane flying over the grey dark abandoned sci-fi megapolis with a huge ai-designed skyscraper in the middle, bright lightnings light up all surroundings, magic energy spreads around, intro for the music video  Author: @CEO, path: /apdcephfs_cq3/share_1290939/shadowcun/evals_dev/pikavideos/prompts/view_from_the_window_of_an_airplane_flying_over_the_grey_dark_abandoned_sci-fi_megapolis_with_a_huge_seed15711204870340431393.txt\n",
      "2023-08-23 19:57:53 Num: 259, count for 'airplane': 0.0, prompt: @CEO Prompt: view from the window of an airplane flying over the grey dark abandoned sci-fi megapolis with a huge ai-designed skyscraper in the middle, bright lightnings light up all surroundings, magic energy spreads around, intro for the music video  Author: @CEO, path: /apdcephfs_cq3/share_1290939/shadowcun/evals_dev/pikavideos/prompts/view_from_the_window_of_an_airplane_flying_over_the_grey_dark_abandoned_sci-fi_megapolis_with_a_huge_seed15711204870340431393.txt\n"
     ]
    },
    {
     "name": "stdout",
     "output_type": "stream",
     "text": [
      "processed frame 23, obj_num 0\n",
      "finished\n",
      "Directory already exists: ./pikavideos/cat/masks\n",
      "Directory already exists: ./pikavideos/cat/mask_video\n",
      "Directory already exists: ./pikavideos/cat/mask_gif\n",
      "final text_encoder_type: bert-base-uncased\n"
     ]
    },
    {
     "name": "stderr",
     "output_type": "stream",
     "text": [
      "'(ReadTimeoutError(\"HTTPSConnectionPool(host='huggingface.co', port=443): Read timed out. (read timeout=10)\"), '(Request ID: 0e8e4e1f-b610-4ae2-ac2c-251fdc71e0d4)')' thrown while requesting HEAD https://huggingface.co/bert-base-uncased/resolve/main/tokenizer_config.json\n",
      "'(ReadTimeoutError(\"HTTPSConnectionPool(host='huggingface.co', port=443): Read timed out. (read timeout=10)\"), '(Request ID: 0e8e4e1f-b610-4ae2-ac2c-251fdc71e0d4)')' thrown while requesting HEAD https://huggingface.co/bert-base-uncased/resolve/main/tokenizer_config.json\n",
      "2023-08-23 19:58:06 '(ReadTimeoutError(\"HTTPSConnectionPool(host='huggingface.co', port=443): Read timed out. (read timeout=10)\"), '(Request ID: 0e8e4e1f-b610-4ae2-ac2c-251fdc71e0d4)')' thrown while requesting HEAD https://huggingface.co/bert-base-uncased/resolve/main/tokenizer_config.json\n"
     ]
    },
    {
     "name": "stdout",
     "output_type": "stream",
     "text": [
      "Model loaded from ./ckpt/groundingdino_swint_ogc.pth \n",
      " => _IncompatibleKeys(missing_keys=[], unexpected_keys=['label_enc.weight', 'bert.embeddings.position_ids'])\n",
      "SegTracker has been initialized\n",
      "processed frame 22, obj_num 1\r"
     ]
    },
    {
     "name": "stderr",
     "output_type": "stream",
     "text": [
      "Num: 260, count for 'cat': 1.0, prompt: @Toni Prompt: sad cat  Author: @Toni, path: /apdcephfs_cq3/share_1290939/shadowcun/evals_dev/pikavideos/prompts/sad_cat_seed15563060871377579041.txt\n",
      "2023-08-23 19:58:15 Num: 260, count for 'cat': 1.0, prompt: @Toni Prompt: sad cat  Author: @Toni, path: /apdcephfs_cq3/share_1290939/shadowcun/evals_dev/pikavideos/prompts/sad_cat_seed15563060871377579041.txt\n"
     ]
    },
    {
     "name": "stdout",
     "output_type": "stream",
     "text": [
      "processed frame 23, obj_num 1\n",
      "finished\n",
      "Directory already exists: ./pikavideos/cat/masks\n",
      "Directory already exists: ./pikavideos/cat/mask_video\n",
      "Directory already exists: ./pikavideos/cat/mask_gif\n",
      "final text_encoder_type: bert-base-uncased\n",
      "Model loaded from ./ckpt/groundingdino_swint_ogc.pth \n",
      " => _IncompatibleKeys(missing_keys=[], unexpected_keys=['label_enc.weight', 'bert.embeddings.position_ids'])\n",
      "SegTracker has been initialized\n",
      "processed frame 22, obj_num 0\r"
     ]
    },
    {
     "name": "stderr",
     "output_type": "stream",
     "text": [
      "Num: 260, count for 'cat': 0.0, prompt: @andree1988 Prompt: Puupy cat is trippin on acid trip LSD, movie, cinematic, psychedelic, awesome details -ar 16:9  Author: @andree1988, path: /apdcephfs_cq3/share_1290939/shadowcun/evals_dev/pikavideos/prompts/Puupy_cat_is_trippin_on_acid_trip_LSD_movie_cinematic_psychedelic_awesome_details_-ar_16_9_seed13075012665556633150.txt\n",
      "2023-08-23 19:58:26 Num: 260, count for 'cat': 0.0, prompt: @andree1988 Prompt: Puupy cat is trippin on acid trip LSD, movie, cinematic, psychedelic, awesome details -ar 16:9  Author: @andree1988, path: /apdcephfs_cq3/share_1290939/shadowcun/evals_dev/pikavideos/prompts/Puupy_cat_is_trippin_on_acid_trip_LSD_movie_cinematic_psychedelic_awesome_details_-ar_16_9_seed13075012665556633150.txt\n"
     ]
    },
    {
     "name": "stdout",
     "output_type": "stream",
     "text": [
      "processed frame 23, obj_num 0\n",
      "finished\n",
      "Directory already exists: ./pikavideos/tv/masks\n",
      "Directory already exists: ./pikavideos/tv/mask_video\n",
      "Directory already exists: ./pikavideos/tv/mask_gif\n",
      "final text_encoder_type: bert-base-uncased\n",
      "Model loaded from ./ckpt/groundingdino_swint_ogc.pth \n",
      " => _IncompatibleKeys(missing_keys=[], unexpected_keys=['label_enc.weight', 'bert.embeddings.position_ids'])\n",
      "SegTracker has been initialized\n",
      "processed frame 22, obj_num 0\r"
     ]
    },
    {
     "name": "stderr",
     "output_type": "stream",
     "text": [
      "Num: 260, count for 'tv': 0.0, prompt: @tellyourfriends.tv Prompt: green morphsuit, zoom out to reveal 3d grid environment  Author: @tellyourfriends.tv, path: /apdcephfs_cq3/share_1290939/shadowcun/evals_dev/pikavideos/prompts/green_morphsuit_zoom_out_to_reveal_3d_grid_environment_seed15609834081090716512.txt\n",
      "2023-08-23 19:58:35 Num: 260, count for 'tv': 0.0, prompt: @tellyourfriends.tv Prompt: green morphsuit, zoom out to reveal 3d grid environment  Author: @tellyourfriends.tv, path: /apdcephfs_cq3/share_1290939/shadowcun/evals_dev/pikavideos/prompts/green_morphsuit_zoom_out_to_reveal_3d_grid_environment_seed15609834081090716512.txt\n"
     ]
    },
    {
     "name": "stdout",
     "output_type": "stream",
     "text": [
      "processed frame 23, obj_num 0\n",
      "finished\n",
      "Directory already exists: ./pikavideos/cat/masks\n",
      "Directory already exists: ./pikavideos/cat/mask_video\n",
      "Directory already exists: ./pikavideos/cat/mask_gif\n",
      "final text_encoder_type: bert-base-uncased\n",
      "Model loaded from ./ckpt/groundingdino_swint_ogc.pth \n",
      " => _IncompatibleKeys(missing_keys=[], unexpected_keys=['label_enc.weight', 'bert.embeddings.position_ids'])\n",
      "SegTracker has been initialized\n",
      "processed frame 22, obj_num 1\r"
     ]
    },
    {
     "name": "stderr",
     "output_type": "stream",
     "text": [
      "Num: 261, count for 'cat': 1.0, prompt: @caihe Prompt: White Cat Watching Little Fish Swimming 4k  Image: 1 Attachment  Author: @caihe, path: /apdcephfs_cq3/share_1290939/shadowcun/evals_dev/pikavideos/prompts/White_Cat_Watching_Little_Fish_Swimming_4k__Image__1_Attachment_seed2535675403261724069.txt\n",
      "2023-08-23 19:58:45 Num: 261, count for 'cat': 1.0, prompt: @caihe Prompt: White Cat Watching Little Fish Swimming 4k  Image: 1 Attachment  Author: @caihe, path: /apdcephfs_cq3/share_1290939/shadowcun/evals_dev/pikavideos/prompts/White_Cat_Watching_Little_Fish_Swimming_4k__Image__1_Attachment_seed2535675403261724069.txt\n"
     ]
    },
    {
     "name": "stdout",
     "output_type": "stream",
     "text": [
      "processed frame 23, obj_num 1\n",
      "finished\n",
      "Directory already exists: ./pikavideos/car/masks\n",
      "Directory already exists: ./pikavideos/car/mask_video\n",
      "Directory already exists: ./pikavideos/car/mask_gif\n",
      "final text_encoder_type: bert-base-uncased\n",
      "Model loaded from ./ckpt/groundingdino_swint_ogc.pth \n",
      " => _IncompatibleKeys(missing_keys=[], unexpected_keys=['label_enc.weight', 'bert.embeddings.position_ids'])\n",
      "SegTracker has been initialized\n",
      "processed frame 22, obj_num 0\r"
     ]
    },
    {
     "name": "stderr",
     "output_type": "stream",
     "text": [
      "Num: 261, count for 'car': 0.0, prompt: @Carl… Prompt: abandoned theme park, parking lot with cars, bodies in cars, moody, ar 16:9, 4k, gs 5 - motion, photo real  Author: @Carl…, path: /apdcephfs_cq3/share_1290939/shadowcun/evals_dev/pikavideos/prompts/abandoned_theme_park_parking_lot_with_cars_bodies_in_cars_moody_ar_16_9_4k_gs_5_-_motion_phot_seed3606109769948691502.txt\n",
      "2023-08-23 19:58:56 Num: 261, count for 'car': 0.0, prompt: @Carl… Prompt: abandoned theme park, parking lot with cars, bodies in cars, moody, ar 16:9, 4k, gs 5 - motion, photo real  Author: @Carl…, path: /apdcephfs_cq3/share_1290939/shadowcun/evals_dev/pikavideos/prompts/abandoned_theme_park_parking_lot_with_cars_bodies_in_cars_moody_ar_16_9_4k_gs_5_-_motion_phot_seed3606109769948691502.txt\n"
     ]
    },
    {
     "name": "stdout",
     "output_type": "stream",
     "text": [
      "processed frame 23, obj_num 0\n",
      "finished\n",
      "Directory already exists: ./pikavideos/car/masks\n",
      "Directory already exists: ./pikavideos/car/mask_video\n",
      "Directory already exists: ./pikavideos/car/mask_gif\n",
      "final text_encoder_type: bert-base-uncased\n",
      "Model loaded from ./ckpt/groundingdino_swint_ogc.pth \n",
      " => _IncompatibleKeys(missing_keys=[], unexpected_keys=['label_enc.weight', 'bert.embeddings.position_ids'])\n",
      "SegTracker has been initialized\n",
      "processed frame 22, obj_num 0\r"
     ]
    },
    {
     "name": "stderr",
     "output_type": "stream",
     "text": [
      "Num: 261, count for 'car': 0.0, prompt: @PintoCreation Prompt: The car swiftly weaves through traffic, showcasing its exceptional agility, cinematic scifi trailer  Author: @PintoCreation, path: /apdcephfs_cq3/share_1290939/shadowcun/evals_dev/pikavideos/prompts/The_car_swiftly_weaves_through_traffic_showcasing_its_exceptional_agility_cinematic_scifi_trailer_seed10769633210370983271.txt\n",
      "2023-08-23 19:59:06 Num: 261, count for 'car': 0.0, prompt: @PintoCreation Prompt: The car swiftly weaves through traffic, showcasing its exceptional agility, cinematic scifi trailer  Author: @PintoCreation, path: /apdcephfs_cq3/share_1290939/shadowcun/evals_dev/pikavideos/prompts/The_car_swiftly_weaves_through_traffic_showcasing_its_exceptional_agility_cinematic_scifi_trailer_seed10769633210370983271.txt\n"
     ]
    },
    {
     "name": "stdout",
     "output_type": "stream",
     "text": [
      "processed frame 23, obj_num 0\n",
      "finished\n",
      "Directory already exists: ./pikavideos/person/masks\n",
      "Directory already exists: ./pikavideos/person/mask_video\n",
      "Directory already exists: ./pikavideos/person/mask_gif\n",
      "final text_encoder_type: bert-base-uncased\n",
      "Model loaded from ./ckpt/groundingdino_swint_ogc.pth \n",
      " => _IncompatibleKeys(missing_keys=[], unexpected_keys=['label_enc.weight', 'bert.embeddings.position_ids'])\n",
      "SegTracker has been initialized\n",
      "processed frame 22, obj_num 3\r"
     ]
    },
    {
     "name": "stderr",
     "output_type": "stream",
     "text": [
      "Num: 262, count for 'person': 3.0, prompt: @eschicogrande Prompt: Latin person Poncho inside of a piramid on the style of Francis Bacon  Author: @eschicogrande (edited), path: /apdcephfs_cq3/share_1290939/shadowcun/evals_dev/pikavideos/prompts/Latin_person_Poncho_inside_of_a_piramid_on_the_style_of_Francis_Bacon_seed916512932430419211.txt\n",
      "2023-08-23 19:59:16 Num: 262, count for 'person': 3.0, prompt: @eschicogrande Prompt: Latin person Poncho inside of a piramid on the style of Francis Bacon  Author: @eschicogrande (edited), path: /apdcephfs_cq3/share_1290939/shadowcun/evals_dev/pikavideos/prompts/Latin_person_Poncho_inside_of_a_piramid_on_the_style_of_Francis_Bacon_seed916512932430419211.txt\n"
     ]
    },
    {
     "name": "stdout",
     "output_type": "stream",
     "text": [
      "processed frame 23, obj_num 3\n",
      "finished\n",
      "Directory already exists: ./pikavideos/keyboard/masks\n",
      "Directory already exists: ./pikavideos/keyboard/mask_video\n",
      "Directory already exists: ./pikavideos/keyboard/mask_gif\n",
      "final text_encoder_type: bert-base-uncased\n",
      "Model loaded from ./ckpt/groundingdino_swint_ogc.pth \n",
      " => _IncompatibleKeys(missing_keys=[], unexpected_keys=['label_enc.weight', 'bert.embeddings.position_ids'])\n",
      "SegTracker has been initialized\n",
      "processed frame 22, obj_num 2\r"
     ]
    },
    {
     "name": "stderr",
     "output_type": "stream",
     "text": [
      "Num: 263, count for 'keyboard': 2.0, prompt: @FleaG Prompt: a young woman sitting behind the computer and typing on a keyboard  Author: @FleaG, path: /apdcephfs_cq3/share_1290939/shadowcun/evals_dev/pikavideos/prompts/a_young_woman_sitting_behind_the_computer_and_typing_on_a_keyboard_seed3020245929367556330.txt\n",
      "2023-08-23 19:59:26 Num: 263, count for 'keyboard': 2.0, prompt: @FleaG Prompt: a young woman sitting behind the computer and typing on a keyboard  Author: @FleaG, path: /apdcephfs_cq3/share_1290939/shadowcun/evals_dev/pikavideos/prompts/a_young_woman_sitting_behind_the_computer_and_typing_on_a_keyboard_seed3020245929367556330.txt\n"
     ]
    },
    {
     "name": "stdout",
     "output_type": "stream",
     "text": [
      "processed frame 23, obj_num 2\n",
      "finished\n",
      "Directory already exists: ./pikavideos/car/masks\n",
      "Directory already exists: ./pikavideos/car/mask_video\n",
      "Directory already exists: ./pikavideos/car/mask_gif\n",
      "final text_encoder_type: bert-base-uncased\n",
      "Model loaded from ./ckpt/groundingdino_swint_ogc.pth \n",
      " => _IncompatibleKeys(missing_keys=[], unexpected_keys=['label_enc.weight', 'bert.embeddings.position_ids'])\n",
      "SegTracker has been initialized\n",
      "processed frame 22, obj_num 0\r"
     ]
    },
    {
     "name": "stderr",
     "output_type": "stream",
     "text": [
      "Num: 263, count for 'car': 0.0, prompt: @delist Prompt: funny video of car test dummie dancing and making it rain money and coins at a rave party club  Author: @delist, path: /apdcephfs_cq3/share_1290939/shadowcun/evals_dev/pikavideos/prompts/funny_video_of_car_test_dummie_dancing_and_making_it_rain_money_and_coins_at_a_rave_party_club_seed15256784241045182547.txt\n",
      "2023-08-23 19:59:37 Num: 263, count for 'car': 0.0, prompt: @delist Prompt: funny video of car test dummie dancing and making it rain money and coins at a rave party club  Author: @delist, path: /apdcephfs_cq3/share_1290939/shadowcun/evals_dev/pikavideos/prompts/funny_video_of_car_test_dummie_dancing_and_making_it_rain_money_and_coins_at_a_rave_party_club_seed15256784241045182547.txt\n"
     ]
    },
    {
     "name": "stdout",
     "output_type": "stream",
     "text": [
      "processed frame 23, obj_num 0\n",
      "finished\n",
      "Directory already exists: ./pikavideos/truck/masks\n",
      "Directory already exists: ./pikavideos/truck/mask_video\n",
      "Directory already exists: ./pikavideos/truck/mask_gif\n",
      "final text_encoder_type: bert-base-uncased\n",
      "Model loaded from ./ckpt/groundingdino_swint_ogc.pth \n",
      " => _IncompatibleKeys(missing_keys=[], unexpected_keys=['label_enc.weight', 'bert.embeddings.position_ids'])\n",
      "SegTracker has been initialized\n",
      "processed frame 22, obj_num 2\r"
     ]
    },
    {
     "name": "stderr",
     "output_type": "stream",
     "text": [
      "Num: 264, count for 'truck': 2.0, prompt: @BOAZ YAHYA Prompt: A coffee truck drives through an enchanted forest with forest animals playing and dancing around it  Author: @BOAZ YAHYA, path: /apdcephfs_cq3/share_1290939/shadowcun/evals_dev/pikavideos/prompts/A_coffee_truck_drives_through_an_enchanted_forest_with_forest_animals_playing_and_dancing_around_it_seed14674068802735072028.txt\n",
      "2023-08-23 19:59:47 Num: 264, count for 'truck': 2.0, prompt: @BOAZ YAHYA Prompt: A coffee truck drives through an enchanted forest with forest animals playing and dancing around it  Author: @BOAZ YAHYA, path: /apdcephfs_cq3/share_1290939/shadowcun/evals_dev/pikavideos/prompts/A_coffee_truck_drives_through_an_enchanted_forest_with_forest_animals_playing_and_dancing_around_it_seed14674068802735072028.txt\n"
     ]
    },
    {
     "name": "stdout",
     "output_type": "stream",
     "text": [
      "processed frame 23, obj_num 2\n",
      "finished\n",
      "Directory already exists: ./pikavideos/person/masks\n",
      "Directory already exists: ./pikavideos/person/mask_video\n",
      "Directory already exists: ./pikavideos/person/mask_gif\n",
      "final text_encoder_type: bert-base-uncased\n",
      "Model loaded from ./ckpt/groundingdino_swint_ogc.pth \n",
      " => _IncompatibleKeys(missing_keys=[], unexpected_keys=['label_enc.weight', 'bert.embeddings.position_ids'])\n",
      "SegTracker has been initialized\n",
      "processed frame 22, obj_num 0\r"
     ]
    },
    {
     "name": "stderr",
     "output_type": "stream",
     "text": [
      "Num: 264, count for 'person': 0.0, prompt: @BlendAmed Prompt: a bridge made of light connecting the earth and the moon with a person walking on it and smiling, chromatic, Mystical creatures  Author: @BlendAmed, path: /apdcephfs_cq3/share_1290939/shadowcun/evals_dev/pikavideos/prompts/a_bridge_made_of_light_connecting_the_earth_and_the_moon_with_a_person_walking_on_it_and_smiling_ch_seed14633847513272890473.txt\n",
      "2023-08-23 19:59:58 Num: 264, count for 'person': 0.0, prompt: @BlendAmed Prompt: a bridge made of light connecting the earth and the moon with a person walking on it and smiling, chromatic, Mystical creatures  Author: @BlendAmed, path: /apdcephfs_cq3/share_1290939/shadowcun/evals_dev/pikavideos/prompts/a_bridge_made_of_light_connecting_the_earth_and_the_moon_with_a_person_walking_on_it_and_smiling_ch_seed14633847513272890473.txt\n"
     ]
    },
    {
     "name": "stdout",
     "output_type": "stream",
     "text": [
      "processed frame 23, obj_num 0\n",
      "finished\n",
      "Directory already exists: ./pikavideos/car/masks\n",
      "Directory already exists: ./pikavideos/car/mask_video\n",
      "Directory already exists: ./pikavideos/car/mask_gif\n",
      "final text_encoder_type: bert-base-uncased\n",
      "Model loaded from ./ckpt/groundingdino_swint_ogc.pth \n",
      " => _IncompatibleKeys(missing_keys=[], unexpected_keys=['label_enc.weight', 'bert.embeddings.position_ids'])\n",
      "SegTracker has been initialized\n",
      "processed frame 22, obj_num 1\r"
     ]
    },
    {
     "name": "stderr",
     "output_type": "stream",
     "text": [
      "Num: 265, count for 'car': 1.0, prompt: @vkasan Prompt: road sign \"ZarBoy\", car next to it, high speed, quick camera movement, hyper realistic, under rain, golden hour, god rays, soft lighting, focus on the cafe  Author: @vkasan, path: /apdcephfs_cq3/share_1290939/shadowcun/evals_dev/pikavideos/prompts/road_sign__ZarBoy__car_next_to_it_high_speed_quick_camera_movement_hyper_realistic_under_rain__seed9282968513734970727.txt\n",
      "2023-08-23 20:00:08 Num: 265, count for 'car': 1.0, prompt: @vkasan Prompt: road sign \"ZarBoy\", car next to it, high speed, quick camera movement, hyper realistic, under rain, golden hour, god rays, soft lighting, focus on the cafe  Author: @vkasan, path: /apdcephfs_cq3/share_1290939/shadowcun/evals_dev/pikavideos/prompts/road_sign__ZarBoy__car_next_to_it_high_speed_quick_camera_movement_hyper_realistic_under_rain__seed9282968513734970727.txt\n"
     ]
    },
    {
     "name": "stdout",
     "output_type": "stream",
     "text": [
      "processed frame 23, obj_num 1\n",
      "finished\n",
      "Directory already exists: ./pikavideos/car/masks\n",
      "Directory already exists: ./pikavideos/car/mask_video\n",
      "Directory already exists: ./pikavideos/car/mask_gif\n",
      "final text_encoder_type: bert-base-uncased\n",
      "Model loaded from ./ckpt/groundingdino_swint_ogc.pth \n",
      " => _IncompatibleKeys(missing_keys=[], unexpected_keys=['label_enc.weight', 'bert.embeddings.position_ids'])\n",
      "SegTracker has been initialized\n",
      "processed frame 22, obj_num 0\r"
     ]
    },
    {
     "name": "stderr",
     "output_type": "stream",
     "text": [
      "Num: 265, count for 'car': 0.0, prompt: @primenews Prompt: master teaching a student in car -ar 9:16  Author: @primenews, path: /apdcephfs_cq3/share_1290939/shadowcun/evals_dev/pikavideos/prompts/master_teaching_a_student_in_car_-ar_9_16_seed5240775196187569522.txt\n",
      "2023-08-23 20:00:19 Num: 265, count for 'car': 0.0, prompt: @primenews Prompt: master teaching a student in car -ar 9:16  Author: @primenews, path: /apdcephfs_cq3/share_1290939/shadowcun/evals_dev/pikavideos/prompts/master_teaching_a_student_in_car_-ar_9_16_seed5240775196187569522.txt\n"
     ]
    },
    {
     "name": "stdout",
     "output_type": "stream",
     "text": [
      "processed frame 23, obj_num 0\n",
      "finished\n",
      "Directory already exists: ./pikavideos/boat/masks\n",
      "Directory already exists: ./pikavideos/boat/mask_video\n",
      "Directory already exists: ./pikavideos/boat/mask_gif\n"
     ]
    }
   ],
   "source": [
    "import cv2\n",
    "import os\n",
    "import re\n",
    "import logging\n",
    "import time\n",
    "\n",
    "#### Detection on videos ####\n",
    "# task = 'fulljourney_videos'\n",
    "task = 'pikavideos'\n",
    "\n",
    "# Create the directory if it doesn't exist\n",
    "os.makedirs(f\"./{task}\", exist_ok=True)\n",
    "\n",
    "# Set up logging\n",
    "logger = logging.getLogger()\n",
    "logger.setLevel(logging.INFO)\n",
    "\n",
    "# File handler for writing logs to a file\n",
    "file_handler = logging.FileHandler(filename=f\"./{task}/object_det_record.txt\")\n",
    "file_handler.setFormatter(logging.Formatter(\"%(asctime)s %(message)s\", datefmt=\"%Y-%m-%d %H:%M:%S\"))\n",
    "logger.addHandler(file_handler)\n",
    "\n",
    "# Stream handler for displaying logs in the terminal\n",
    "stream_handler = logging.StreamHandler()\n",
    "stream_handler.setFormatter(logging.Formatter(\"%(asctime)s %(message)s\", datefmt=\"%Y-%m-%d %H:%M:%S\"))\n",
    "logger.addHandler(stream_handler)\n",
    "\n",
    "# settings for detection function\n",
    "# choose good parameters in sam_args based on the first frame segmentation result\n",
    "# other arguments can be modified in model_args.py\n",
    "# note the object number limit is 255 by default, which requires < 10GB GPU memory with amp\n",
    "sam_args['generator_args'] = {\n",
    "        'points_per_side': 30,\n",
    "        'pred_iou_thresh': 0.8,\n",
    "        'stability_score_thresh': 0.9,\n",
    "        'crop_n_layers': 1,\n",
    "        'crop_n_points_downscale_factor': 2,\n",
    "        'min_mask_region_area': 200,\n",
    "    }\n",
    "\n",
    "# For every sam_gap frames, we use SAM to find new objects and add them for tracking\n",
    "# larger sam_gap is faster but may not spot new objects in time\n",
    "segtracker_args = {\n",
    "    'sam_gap': 49, # the interval to run sam to segment new objects\n",
    "    'min_area': 200, # minimal mask area to add a new mask as a new object\n",
    "    'max_obj_num': 255, # maximal object number to track in a video\n",
    "    'min_new_obj_iou': 0.8, # the area of a new object in the background should > 80% \n",
    "}\n",
    "\n",
    "# Set Text args\n",
    "'''\n",
    "parameter:\n",
    "    grounding_caption: Text prompt to detect objects in key-frames\n",
    "    box_threshold: threshold for box \n",
    "    text_threshold: threshold for label(text)\n",
    "    box_size_threshold: If the size ratio between the box and the frame is larger than the box_size_threshold, the box will be ignored. This is used to filter out large boxes.\n",
    "    reset_image: reset the image embeddings for SAM\n",
    "'''\n",
    "# grounding_caption = \"car.suv\"\n",
    "grounding_caption = \"\" #must have this class in the image, otherwise go wrong\n",
    "box_threshold, text_threshold, box_size_threshold, reset_image = 0.6, 0.5, 0.5, True \n",
    "\n",
    "# COCO dataset\n",
    "keywords = ['person', 'bicycle', 'car', 'motorcycle', 'airplane', 'bus',\n",
    "                   'train', 'truck', 'boat', 'traffic light', 'fire hydrant',\n",
    "                   'stop sign', 'parking meter', 'bench', 'bird', 'cat', 'dog',\n",
    "                   'horse', 'sheep', 'cow', 'elephant', 'bear', 'zebra', 'giraffe',\n",
    "                   'backpack', 'umbrella', 'handbag', 'tie', 'suitcase', 'frisbee',\n",
    "                   'skis', 'snowboard', 'sports ball', 'kite', 'baseball bat',\n",
    "                   'baseball glove', 'skateboard', 'surfboard', 'tennis racket',\n",
    "                   'bottle', 'wine glass', 'cup', 'fork', 'knife', 'spoon', 'bowl',\n",
    "                   'banana', 'apple', 'sandwich', 'orange', 'broccoli', 'carrot',\n",
    "                   'hot dog', 'pizza', 'donut', 'cake', 'chair', 'couch',\n",
    "                   'potted plant', 'bed', 'dining table', 'toilet', 'tv', 'laptop',\n",
    "                   'mouse', 'remote', 'keyboard', 'cell phone', 'microwave',\n",
    "                   'oven', 'toaster', 'sink', 'refrigerator', 'book', 'clock',\n",
    "                   'vase', 'scissors', 'teddy bear', 'hair drier', 'toothbrush'] #coco classes, https://github.com/matlab-deep-learning/Object-Detection-Using-Pretrained-YOLO-v2/blob/main/+helper/coco-classes.txt\n",
    "    \n",
    "    \n",
    "dir_videos = f'/apdcephfs_cq3/share_1290939/shadowcun/evals_dev/{task}/samples/'\n",
    "dir_prompts = f'/apdcephfs_cq3/share_1290939/shadowcun/evals_dev/{task}/prompts/'\n",
    "\n",
    "prompt_paths = [os.path.join(dir_prompts, x) for x in os.listdir('/apdcephfs_cq3/share_1290939/shadowcun/evals_dev/'+task+'/prompts')]\n",
    "video_paths = [os.path.join(dir_videos, os.path.splitext(os.path.basename(x))[0]+'.mp4') for x in prompt_paths]\n",
    "prompt_paths_object = []\n",
    "video_paths_object = []\n",
    "det_count = []\n",
    "keyword_object = []\n",
    "prompt_object = []\n",
    "det_num = 0\n",
    "object_count = 0\n",
    "class_num = 0\n",
    "last_video_name = ' '\n",
    "timestamp = time.strftime(\"%Y%m%d-%H%M%S\")\n",
    "start_time = time.time()  # Start the timer\n",
    "\n",
    "for i in range(len(prompt_paths)):\n",
    "    with open(prompt_paths[i], \"r\") as f:\n",
    "        data = f.read()\n",
    "        \n",
    "    for keyword in keywords:\n",
    "        num = len(re.findall(r'\\b' + re.escape(keyword) + r'(s|es)?\\b', data, re.IGNORECASE))      \n",
    "        if num > 0:\n",
    "            video_name = os.path.splitext(os.path.basename(prompt_paths[i]))[0]\n",
    "            if video_name != last_video_name:\n",
    "                vid_num +=1\n",
    "            last_video_name = video_name\n",
    "            io_args = {\n",
    "                'input_video': f'/apdcephfs_cq3/share_1290939/shadowcun/evals_dev/{task}/samples/{video_name}.mp4',\n",
    "                'output_mask_dir': f'./{task}/{timestamp}/{keyword}/timestamp/masks/{video_name}', # save pred masks\n",
    "                'original_video': f'./{task}/{timestamp}/{keyword}/original_{video_name}.mp4', \n",
    "                'output_video': f'./{task}/{timestamp}/{keyword}/mask_{video_name}.mp4', # mask+frame vizualization, mp4 or avi, else the same as input video\n",
    "                'output_gif': f'./{task}/{timestamp}/{keyword}/gif_{video_name}.gif', # mask visualization\n",
    "            }\n",
    "            path = create_directories(io_args['output_mask_dir'])\n",
    "            \n",
    "            ## detection \n",
    "            grounding_caption = keyword\n",
    "            pred_list, det_count_one = video_detection(io_args, segtracker_args, sam_args, aot_args, grounding_caption, box_threshold, text_threshold, box_size_threshold, reset_image)\n",
    "            class_num += 1 \n",
    "            if det_count_one:\n",
    "                det_num += 1\n",
    "            det_count.append(det_count_one)\n",
    "            prompt_paths_object.append(prompt_paths[i])\n",
    "            keyword_object.append(keyword)\n",
    "            prompt_object.append(data)\n",
    "            logging.info(f\"Num: {class_num}, vid num: {vid_num}, count for '{keyword}': {det_count_one}, prompt: {data}, path: {prompt_paths[i]}\")\n",
    "            # print(f\"Obj Num: {det_num}, count for '{keyword}': {det_count_one}, prompt: {data}, path: {prompt_paths[i]}\\n\")\n",
    "            \n",
    "object_metric = det_num/class_num\n",
    "# for i in range(len(obj_num)):\n",
    "#     object_count += abs(det_count[i] - obj_num[i])/(et_count[i] + obj_num[i]) \n",
    "# object_count_metric = 1 - (object_count/len(obj_num))  \n",
    "end_time = time.time()  # Stop the timer\n",
    "elapsed_time = end_time - start_time\n",
    "logger.info(f\"Object generation metric: {object_metric:.2f} \")\n",
    "# logger.info(f\"N objects generation metric: {object_count_metric:.2f} \")\n",
    "logger.info(f\"Total processing time: {elapsed_time:.2f} seconds\")"
   ]
  },
  {
   "cell_type": "code",
   "execution_count": 5,
   "metadata": {},
   "outputs": [
    {
     "data": {
      "text/plain": [
       "0.45209580838323354"
      ]
     },
     "execution_count": 5,
     "metadata": {},
     "output_type": "execute_result"
    }
   ],
   "source": [
    "object_metric = det_num/class_num\n",
    "# for i in range(len(obj_num)):\n",
    "#     object_count += abs(det_count[i] - obj_num[i])/(et_count[i] + obj_num[i]) \n",
    "# object_count_metric = 1 - (object_count/len(obj_num))  \n",
    "# end_time = time.time()  # Stop the timer\n",
    "# elapsed_time = end_time - start_time\n",
    "object_metric"
   ]
  },
  {
   "attachments": {},
   "cell_type": "markdown",
   "metadata": {},
   "source": [
    "### Set parameters for input and output"
   ]
  },
  {
   "cell_type": "code",
   "execution_count": null,
   "metadata": {},
   "outputs": [],
   "source": [
    "task = 'fulljourney_videos'\n",
    "# task = 'pikavideos'\n",
    "video_name = \"generated_video_ec706b3b-84c5-4169-b65d-e72efadf754f\"\n",
    "io_args = {\n",
    "    'input_video': f'/apdcephfs_cq3/share_1290939/shadowcun/evals_dev/{task}/samples/{video_name}.mp4',\n",
    "    'output_mask_dir': f'./{task}/masks/{video_name}', # save pred masks\n",
    "    'output_video': f'./{task}/{video_name}.mp4', # mask+frame vizualization, mp4 or avi, else the same as input video\n",
    "    'output_gif': f'./{task}/{video_name}.gif', # mask visualization\n",
    "}\n",
    "path = create_directories(io_args['output_mask_dir'])"
   ]
  },
  {
   "attachments": {},
   "cell_type": "markdown",
   "metadata": {},
   "source": [
    "### Tuning Grounding-DINO and SAM on the First Frame for Good Initialization"
   ]
  },
  {
   "cell_type": "code",
   "execution_count": null,
   "metadata": {},
   "outputs": [],
   "source": [
    "# choose good parameters in sam_args based on the first frame segmentation result\n",
    "# other arguments can be modified in model_args.py\n",
    "# note the object number limit is 255 by default, which requires < 10GB GPU memory with amp\n",
    "sam_args['generator_args'] = {\n",
    "        'points_per_side': 30,\n",
    "        'pred_iou_thresh': 0.8,\n",
    "        'stability_score_thresh': 0.9,\n",
    "        'crop_n_layers': 1,\n",
    "        'crop_n_points_downscale_factor': 2,\n",
    "        'min_mask_region_area': 200,\n",
    "    }\n",
    "\n",
    "# Set Text args\n",
    "'''\n",
    "parameter:\n",
    "    grounding_caption: Text prompt to detect objects in key-frames\n",
    "    box_threshold: threshold for box \n",
    "    text_threshold: threshold for label(text)\n",
    "    box_size_threshold: If the size ratio between the box and the frame is larger than the box_size_threshold, the box will be ignored. This is used to filter out large boxes.\n",
    "    reset_image: reset the image embeddings for SAM\n",
    "'''\n",
    "# grounding_caption = \"car.suv\"\n",
    "grounding_caption = \"tree\" #must have this class in the image, otherwise go wrong\n",
    "# grounding_caption = \"Obama\" \n",
    "box_threshold, text_threshold, box_size_threshold, reset_image = 0.6, 0.5, 0.5, True \n",
    "\n",
    "cap = cv2.VideoCapture(io_args['input_video'])\n",
    "frame_idx = 0\n",
    "segtracker = SegTracker(segtracker_args,sam_args,aot_args)\n",
    "segtracker.restart_tracker()\n",
    "with torch.cuda.amp.autocast():\n",
    "    while cap.isOpened():\n",
    "        ret, frame = cap.read()\n",
    "        frame = cv2.cvtColor(frame,cv2.COLOR_BGR2RGB)\n",
    "        count, pred_mask, annotated_frame = segtracker.detect_and_seg(frame, grounding_caption, box_threshold, \n",
    "                                                               text_threshold, box_size_threshold) # return a flag, whether detected or not\n",
    "        torch.cuda.empty_cache()\n",
    "        obj_ids = np.unique(pred_mask)\n",
    "        obj_ids = obj_ids[obj_ids!=0]\n",
    "        print(\"processed frame {}, obj_num {}\".format(frame_idx,len(obj_ids)),end='\\n')\n",
    "        break\n",
    "    cap.release()\n",
    "    \n",
    "    init_res = draw_mask(annotated_frame, pred_mask,id_countour=False)\n",
    "    plt.figure(figsize=(10,10))\n",
    "    plt.axis('off')\n",
    "    plt.imshow(init_res)\n",
    "    plt.show()\n",
    "    plt.figure(figsize=(10,10))\n",
    "    plt.axis('off')\n",
    "    plt.imshow(colorize_mask(pred_mask))\n",
    "    plt.show()\n",
    "\n",
    "    del segtracker\n",
    "    torch.cuda.empty_cache()\n",
    "    gc.collect()"
   ]
  },
  {
   "attachments": {},
   "cell_type": "markdown",
   "metadata": {},
   "source": [
    "### Generate Results for the Whole Video"
   ]
  },
  {
   "cell_type": "code",
   "execution_count": null,
   "metadata": {},
   "outputs": [],
   "source": [
    "# For every sam_gap frames, we use SAM to find new objects and add them for tracking\n",
    "# larger sam_gap is faster but may not spot new objects in time\n",
    "segtracker_args = {\n",
    "    'sam_gap': 49, # the interval to run sam to segment new objects\n",
    "    'min_area': 200, # minimal mask area to add a new mask as a new object\n",
    "    'max_obj_num': 255, # maximal object number to track in a video\n",
    "    'min_new_obj_iou': 0.8, # the area of a new object in the background should > 80% \n",
    "}\n",
    "\n",
    "# source video to segment\n",
    "cap = cv2.VideoCapture(io_args['input_video'])\n",
    "fps = cap.get(cv2.CAP_PROP_FPS)\n",
    "# output masks\n",
    "output_dir = io_args['output_mask_dir']\n",
    "if not os.path.exists(output_dir):\n",
    "    os.makedirs(output_dir)\n",
    "pred_list = []\n",
    "masked_pred_list = []\n",
    "\n",
    "torch.cuda.empty_cache()\n",
    "gc.collect()\n",
    "sam_gap = segtracker_args['sam_gap']\n",
    "frame_idx = 0\n",
    "segtracker = SegTracker(segtracker_args, sam_args, aot_args)\n",
    "segtracker.restart_tracker()\n",
    "\n",
    "with torch.cuda.amp.autocast():\n",
    "    while cap.isOpened():\n",
    "        ret, frame = cap.read()\n",
    "        if not ret:\n",
    "            break\n",
    "        frame = cv2.cvtColor(frame,cv2.COLOR_BGR2RGB)\n",
    "        if frame_idx == 0:\n",
    "            pred_mask, _ = segtracker.detect_and_seg(frame, grounding_caption, box_threshold, text_threshold, box_size_threshold, reset_image)\n",
    "            # pred_mask = cv2.imread('./debug/first_frame_mask.png', 0)\n",
    "            torch. cuda.empty_cache()\n",
    "            gc.collect()\n",
    "            segtracker.add_reference(frame, pred_mask)\n",
    "        elif (frame_idx % sam_gap) == 0:\n",
    "            seg_mask, _ = segtracker.detect_and_seg(frame, grounding_caption, box_threshold, text_threshold, box_size_threshold, reset_image)\n",
    "            save_prediction(seg_mask, './debug/seg_result', str(frame_idx)+'.png')\n",
    "            torch.cuda.empty_cache()\n",
    "            gc.collect()\n",
    "            track_mask = segtracker.track(frame)\n",
    "            save_prediction(track_mask, './debug/aot_result', str(frame_idx)+'.png')\n",
    "            # find new objects, and update tracker with new objects\n",
    "            new_obj_mask = segtracker.find_new_objs(track_mask, seg_mask)\n",
    "            if np.sum(new_obj_mask > 0) >  frame.shape[0] * frame.shape[1] * 0.4:\n",
    "                new_obj_mask = np.zeros_like(new_obj_mask)\n",
    "            save_prediction(new_obj_mask,output_dir,str(frame_idx)+'_new.png')\n",
    "            pred_mask = track_mask + new_obj_mask\n",
    "            # segtracker.restart_tracker()\n",
    "            segtracker.add_reference(frame, pred_mask)\n",
    "        else:\n",
    "            pred_mask = segtracker.track(frame,update_memory=True)\n",
    "        torch.cuda.empty_cache()\n",
    "        gc.collect()\n",
    "        \n",
    "        save_prediction(pred_mask,output_dir,str(frame_idx)+'.png')\n",
    "        # masked_frame = draw_mask(frame,pred_mask)\n",
    "        # masked_pred_list.append(masked_frame)\n",
    "        # plt.imshow(masked_frame)\n",
    "        # plt.show() \n",
    "        \n",
    "        pred_list.append(pred_mask)\n",
    "        \n",
    "        \n",
    "        print(\"processed frame {}, obj_num {}\".format(frame_idx,segtracker.get_obj_num()),end='\\r')\n",
    "        frame_idx += 1\n",
    "    cap.release()\n",
    "    print('\\nfinished')"
   ]
  },
  {
   "attachments": {},
   "cell_type": "markdown",
   "metadata": {},
   "source": [
    "### Save results for visualization"
   ]
  },
  {
   "cell_type": "code",
   "execution_count": null,
   "metadata": {},
   "outputs": [],
   "source": [
    "# draw pred mask on frame and save as a video\n",
    "cap = cv2.VideoCapture(io_args['input_video'])\n",
    "fps = cap.get(cv2.CAP_PROP_FPS)\n",
    "width = int(cap.get(cv2.CAP_PROP_FRAME_WIDTH))\n",
    "height = int(cap.get(cv2.CAP_PROP_FRAME_HEIGHT))\n",
    "num_frames = int(cap.get(cv2.CAP_PROP_FRAME_COUNT))\n",
    "\n",
    "if io_args['input_video'][-3:]=='mp4':\n",
    "    fourcc =  cv2.VideoWriter_fourcc(*\"mp4v\")\n",
    "elif io_args['input_video'][-3:] == 'avi':\n",
    "    fourcc =  cv2.VideoWriter_fourcc(*\"MJPG\")\n",
    "    # fourcc = cv2.VideoWriter_fourcc(*\"XVID\")\n",
    "else:\n",
    "    fourcc = int(cap.get(cv2.CAP_PROP_FOURCC))\n",
    "out = cv2.VideoWriter(io_args['output_video'], fourcc, fps, (width, height))\n",
    "\n",
    "frame_idx = 0\n",
    "while cap.isOpened():\n",
    "    ret, frame = cap.read()\n",
    "    if not ret:\n",
    "        break\n",
    "    frame = cv2.cvtColor(frame,cv2.COLOR_BGR2RGB)\n",
    "    pred_mask = pred_list[frame_idx]\n",
    "    masked_frame = draw_mask(frame,pred_mask)\n",
    "    # masked_frame = masked_pred_list[frame_idx]\n",
    "    masked_frame = cv2.cvtColor(masked_frame,cv2.COLOR_RGB2BGR)\n",
    "    out.write(masked_frame)\n",
    "    print('frame {} writed'.format(frame_idx),end='\\r')\n",
    "    frame_idx += 1\n",
    "out.release()\n",
    "cap.release()\n",
    "print(\"\\n{} saved\".format(io_args['output_video']))\n",
    "print('\\nfinished')"
   ]
  },
  {
   "cell_type": "code",
   "execution_count": null,
   "metadata": {},
   "outputs": [],
   "source": [
    "# save colorized masks as a gif\n",
    "duration = 1000 / fps\n",
    "imageio.mimsave(io_args['output_gif'],pred_list,duration=duration)\n",
    "print(\"{} saved\".format(io_args['output_gif']))"
   ]
  },
  {
   "cell_type": "code",
   "execution_count": null,
   "metadata": {},
   "outputs": [],
   "source": [
    "# manually release memory (after cuda out of memory)\n",
    "del segtracker\n",
    "torch.cuda.empty_cache()\n",
    "gc.collect()"
   ]
  }
 ],
 "metadata": {
  "kernelspec": {
   "display_name": "Python 3 (ipykernel)",
   "language": "python",
   "name": "python3"
  },
  "language_info": {
   "codemirror_mode": {
    "name": "ipython",
    "version": 3
   },
   "file_extension": ".py",
   "mimetype": "text/x-python",
   "name": "python",
   "nbconvert_exporter": "python",
   "pygments_lexer": "ipython3",
   "version": "3.9.17"
  },
  "vscode": {
   "interpreter": {
    "hash": "536611da043600e50719c9460971b5220bad26cd4a87e5994bfd4c9e9e5e7fb0"
   }
  }
 },
 "nbformat": 4,
 "nbformat_minor": 4
}
